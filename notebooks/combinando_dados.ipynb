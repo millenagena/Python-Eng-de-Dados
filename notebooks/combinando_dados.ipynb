{
  "cells": [
    {
      "cell_type": "markdown",
      "metadata": {
        "id": "haE5T58pLuRG"
      },
      "source": [
        "# Aula 1: Configurando o ambiente"
      ]
    },
    {
      "cell_type": "code",
      "execution_count": 1,
      "metadata": {
        "colab": {
          "base_uri": "https://localhost:8080/"
        },
        "id": "eQbae7QNWOjj",
        "outputId": "ee6aebf9-17d4-47ab-bb95-91d16372f3f3"
      },
      "outputs": [],
      "source": [
        "# !wget -P ../dados_raw/ https://raw.githubusercontent.com/millenagena/Python-Eng-de-Dados/aula1_teste/dados/dados_empresaA.json"
      ]
    },
    {
      "cell_type": "code",
      "execution_count": 2,
      "metadata": {
        "colab": {
          "base_uri": "https://localhost:8080/"
        },
        "id": "BRSyEn0vJFL2",
        "outputId": "9a58dc91-2658-46d5-d6a0-4bd974c878e9"
      },
      "outputs": [],
      "source": [
        "# !wget -P ../dados_raw/ https://raw.githubusercontent.com/millenagena/Python-Eng-de-Dados/aula1_teste/dados/dados_empresaB.csv"
      ]
    },
    {
      "cell_type": "markdown",
      "metadata": {
        "id": "zAvxOnNeWnql"
      },
      "source": [
        "# Aula 2 - leitura Json - Dicionario\n"
      ]
    },
    {
      "cell_type": "markdown",
      "metadata": {
        "id": "U1hVoV-eOqVD"
      },
      "source": [
        "## readline"
      ]
    },
    {
      "cell_type": "code",
      "execution_count": 3,
      "metadata": {
        "id": "JHXhXGH-7yR3"
      },
      "outputs": [],
      "source": [
        "path_json = '../dados_raw/dados_empresaA.json'"
      ]
    },
    {
      "cell_type": "code",
      "execution_count": 4,
      "metadata": {
        "colab": {
          "base_uri": "https://localhost:8080/"
        },
        "id": "aWWREIAMLyeD",
        "outputId": "c301f58e-1b21-48aa-bfd9-9b569437b142"
      },
      "outputs": [
        {
          "name": "stdout",
          "output_type": "stream",
          "text": [
            "[{\"Nome do Produto\":\"Corretivo\",\"Categoria do Produto\":\"Roupas\",\"Pre\\u00e7o do Produto (R$)\":73.3,\"Quantidade em Estoque\":47,\"Filial\":\"Filial 10\"},{\"Nome do Produto\":\"L\\u00e1pis de sobrancelha\",\"Categoria do Produto\":\"Eletr\\u00f4nicos\",\"Pre\\u00e7o do Produto (R$)\":66.3,\"Quantidade em Estoque\":69,\"Filial\":\"Filial 3\"},{\"Nome do Produto\":\"Delineador l\\u00edquido\",\"Categoria do Produto\":\"Eletr\\u00f4nicos\",\"Pre\\u00e7o do Produto (R$)\":19.04,\"Quantidade em Estoque\":82,\"Filial\":\"Filial 2\"},{\"Nome do Produto\":\"Batom matte\",\"Categoria do Produto\":\"Roupas\",\"Pre\\u00e7o do Produto (R$)\":66.95,\"Quantidade em Estoque\":7,\"Filial\":\"Filial 4\"},{\"Nome do Produto\":\"L\\u00e1pis de sobrancelha\",\"Categoria do Produto\":\"Roupas\",\"Pre\\u00e7o do Produto (R$)\":43.7,\"Quantidade em Estoque\":35,\"Filial\":\"Filial 1\"},{\"Nome do Produto\":\"Batom l\\u00edquido\",\"Categoria do Produto\":\"Alimentos\",\"Pre\\u00e7o do Produto (R$)\":34.92,\"Quantidade em Estoque\":84,\"Filial\":\"Filial 1\"},{\"Nome do Produto\":\"Corretivo\",\"Categoria do Produto\":\"Roupas\",\"Pre\\u00e7o do Produto (R$)\":93.46,\"Quantidade em Estoque\":63,\"Filial\":\"Filial 8\"},{\"Nome do Produto\":\"Delineador l\\u00edquido\",\"Categoria do Produto\":\"Alimentos\",\"Pre\\u00e7o do Produto (R$)\":43.42,\"Quantidade em Estoque\":77,\"Filial\":\"Filial 3\"},{\"Nome do Produto\":\"P\\u00f3 compacto\",\"Categoria do Produto\":\"Eletrodom\\u00e9sticos\",\"Pre\\u00e7o do Produto (R$)\":97.86,\"Quantidade em Estoque\":40,\"Filial\":\"Filial 3\"},{\"Nome do Produto\":\"Batom l\\u00edquido\",\"Categoria do Produto\":\"Eletrodom\\u00e9sticos\",\"Pre\\u00e7o do Produto (R$)\":90.16,\"Quantidade em Estoque\":61,\"Filial\":\"Filial 9\"},{\"Nome do Produto\":\"Sombra de olhos\",\"Categoria do Produto\":\"Alimentos\",\"Pre\\u00e7o do Produto (R$)\":80.15,\"Quantidade em Estoque\":67,\"Filial\":\"Filial 10\"},{\"Nome do Produto\":\"Batom l\\u00edquido\",\"Categoria do Produto\":\"Alimentos\",\"Pre\\u00e7o do Produto (R$)\":88.84,\"Quantidade em Estoque\":45,\"Filial\":\"Filial 5\"},{\"Nome do Produto\":\"Sombra de olhos\",\"Categoria do Produto\":\"Eletrodom\\u00e9sticos\",\"Pre\\u00e7o do Produto (R$)\":3.24,\"Quantidade em Estoque\":10,\"Filial\":\"Filial 4\"},{\"Nome do Produto\":\"Batom matte\",\"Categoria do Produto\":\"Eletr\\u00f4nicos\",\"Pre\\u00e7o do Produto (R$)\":49.03,\"Quantidade em Estoque\":62,\"Filial\":\"Filial 8\"},{\"Nome do Produto\":\"Batom l\\u00edquido\",\"Categoria do Produto\":\"Eletrodom\\u00e9sticos\",\"Pre\\u00e7o do Produto (R$)\":65.79,\"Quantidade em Estoque\":52,\"Filial\":\"Filial 4\"},{\"Nome do Produto\":\"Delineador l\\u00edquido\",\"Categoria do Produto\":\"Eletrodom\\u00e9sticos\",\"Pre\\u00e7o do Produto (R$)\":1.43,\"Quantidade em Estoque\":60,\"Filial\":\"Filial 10\"},{\"Nome do Produto\":\"Delineador l\\u00edquido\",\"Categoria do Produto\":\"Eletrodom\\u00e9sticos\",\"Pre\\u00e7o do Produto (R$)\":6.23,\"Quantidade em Estoque\":32,\"Filial\":\"Filial 9\"},{\"Nome do Produto\":\"L\\u00e1pis de sobrancelha\",\"Categoria do Produto\":\"Eletr\\u00f4nicos\",\"Pre\\u00e7o do Produto (R$)\":35.71,\"Quantidade em Estoque\":75,\"Filial\":\"Filial 4\"},{\"Nome do Produto\":\"Blush em p\\u00f3\",\"Categoria do Produto\":\"Alimentos\",\"Pre\\u00e7o do Produto (R$)\":7.39,\"Quantidade em Estoque\":68,\"Filial\":\"Filial 4\"},{\"Nome do Produto\":\"M\\u00e1scara de c\\u00edlios\",\"Categoria do Produto\":\"Eletrodom\\u00e9sticos\",\"Pre\\u00e7o do Produto (R$)\":79.55,\"Quantidade em Estoque\":47,\"Filial\":\"Filial 1\"},{\"Nome do Produto\":\"P\\u00f3 compacto\",\"Categoria do Produto\":\"Alimentos\",\"Pre\\u00e7o do Produto (R$)\":21.11,\"Quantidade em Estoque\":100,\"Filial\":\"Filial 7\"},{\"Nome do Produto\":\"Delineador l\\u00edquido\",\"Categoria do Produto\":\"Roupas\",\"Pre\\u00e7o do Produto (R$)\":36.43,\"Quantidade em Estoque\":57,\"Filial\":\"Filial 8\"},{\"Nome do Produto\":\"M\\u00e1scara de c\\u00edlios\",\"Categoria do Produto\":\"Eletrodom\\u00e9sticos\",\"Pre\\u00e7o do Produto (R$)\":66.67,\"Quantidade em Estoque\":39,\"Filial\":\"Filial 2\"},{\"Nome do Produto\":\"L\\u00e1pis de sobrancelha\",\"Categoria do Produto\":\"Roupas\",\"Pre\\u00e7o do Produto (R$)\":85.43,\"Quantidade em Estoque\":10,\"Filial\":\"Filial 2\"},{\"Nome do Produto\":\"Delineador l\\u00edquido\",\"Categoria do Produto\":\"Eletr\\u00f4nicos\",\"Pre\\u00e7o do Produto (R$)\":19.78,\"Quantidade em Estoque\":27,\"Filial\":\"Filial 4\"},{\"Nome do Produto\":\"M\\u00e1scara de c\\u00edlios\",\"Categoria do Produto\":\"Eletrodom\\u00e9sticos\",\"Pre\\u00e7o do Produto (R$)\":33.24,\"Quantidade em Estoque\":42,\"Filial\":\"Filial 4\"},{\"Nome do Produto\":\"M\\u00e1scara de c\\u00edlios\",\"Categoria do Produto\":\"Eletrodom\\u00e9sticos\",\"Pre\\u00e7o do Produto (R$)\":89.75,\"Quantidade em Estoque\":6,\"Filial\":\"Filial 3\"},{\"Nome do Produto\":\"M\\u00e1scara de c\\u00edlios\",\"Categoria do Produto\":\"Eletrodom\\u00e9sticos\",\"Pre\\u00e7o do Produto (R$)\":88.76,\"Quantidade em Estoque\":42,\"Filial\":\"Filial 10\"},{\"Nome do Produto\":\"Sombra de olhos\",\"Categoria do Produto\":\"Alimentos\",\"Pre\\u00e7o do Produto (R$)\":48.69,\"Quantidade em Estoque\":29,\"Filial\":\"Filial 2\"},{\"Nome do Produto\":\"Sombra de olhos\",\"Categoria do Produto\":\"Roupas\",\"Pre\\u00e7o do Produto (R$)\":51.01,\"Quantidade em Estoque\":9,\"Filial\":\"Filial 7\"},{\"Nome do Produto\":\"Corretivo\",\"Categoria do Produto\":\"Eletrodom\\u00e9sticos\",\"Pre\\u00e7o do Produto (R$)\":62.04,\"Quantidade em Estoque\":64,\"Filial\":\"Filial 1\"},{\"Nome do Produto\":\"Delineador l\\u00edquido\",\"Categoria do Produto\":\"Roupas\",\"Pre\\u00e7o do Produto (R$)\":4.07,\"Quantidade em Estoque\":65,\"Filial\":\"Filial 4\"},{\"Nome do Produto\":\"L\\u00e1pis de sobrancelha\",\"Categoria do Produto\":\"Roupas\",\"Pre\\u00e7o do Produto (R$)\":41.32,\"Quantidade em Estoque\":41,\"Filial\":\"Filial 3\"},{\"Nome do Produto\":\"M\\u00e1scara de c\\u00edlios\",\"Categoria do Produto\":\"Eletr\\u00f4nicos\",\"Pre\\u00e7o do Produto (R$)\":97.09,\"Quantidade em Estoque\":84,\"Filial\":\"Filial 3\"},{\"Nome do Produto\":\"Batom l\\u00edquido\",\"Categoria do Produto\":\"Alimentos\",\"Pre\\u00e7o do Produto (R$)\":91.06,\"Quantidade em Estoque\":61,\"Filial\":\"Filial 5\"},{\"Nome do Produto\":\"Delineador l\\u00edquido\",\"Categoria do Produto\":\"Alimentos\",\"Pre\\u00e7o do Produto (R$)\":51.95,\"Quantidade em Estoque\":53,\"Filial\":\"Filial 8\"},{\"Nome do Produto\":\"Delineador l\\u00edquido\",\"Categoria do Produto\":\"Alimentos\",\"Pre\\u00e7o do Produto (R$)\":92.9,\"Quantidade em Estoque\":8,\"Filial\":\"Filial 5\"},{\"Nome do Produto\":\"Corretivo\",\"Categoria do Produto\":\"Alimentos\",\"Pre\\u00e7o do Produto (R$)\":90.96,\"Quantidade em Estoque\":28,\"Filial\":\"Filial 5\"},{\"Nome do Produto\":\"P\\u00f3 compacto\",\"Categoria do Produto\":\"Eletrodom\\u00e9sticos\",\"Pre\\u00e7o do Produto (R$)\":68.54,\"Quantidade em Estoque\":56,\"Filial\":\"Filial 3\"},{\"Nome do Produto\":\"Batom matte\",\"Categoria do Produto\":\"Roupas\",\"Pre\\u00e7o do Produto (R$)\":76.29,\"Quantidade em Estoque\":92,\"Filial\":\"Filial 5\"},{\"Nome do Produto\":\"P\\u00f3 compacto\",\"Categoria do Produto\":\"Alimentos\",\"Pre\\u00e7o do Produto (R$)\":38.24,\"Quantidade em Estoque\":51,\"Filial\":\"Filial 2\"},{\"Nome do Produto\":\"Batom matte\",\"Categoria do Produto\":\"Roupas\",\"Pre\\u00e7o do Produto (R$)\":47.62,\"Quantidade em Estoque\":19,\"Filial\":\"Filial 10\"},{\"Nome do Produto\":\"Batom matte\",\"Categoria do Produto\":\"Eletrodom\\u00e9sticos\",\"Pre\\u00e7o do Produto (R$)\":38.27,\"Quantidade em Estoque\":5,\"Filial\":\"Filial 9\"},{\"Nome do Produto\":\"P\\u00f3 compacto\",\"Categoria do Produto\":\"Eletrodom\\u00e9sticos\",\"Pre\\u00e7o do Produto (R$)\":95.42,\"Quantidade em Estoque\":40,\"Filial\":\"Filial 4\"},{\"Nome do Produto\":\"P\\u00f3 compacto\",\"Categoria do Produto\":\"Alimentos\",\"Pre\\u00e7o do Produto (R$)\":30.51,\"Quantidade em Estoque\":49,\"Filial\":\"Filial 2\"},{\"Nome do Produto\":\"Base l\\u00edquida\",\"Categoria do Produto\":\"Roupas\",\"Pre\\u00e7o do Produto (R$)\":84.14,\"Quantidade em Estoque\":96,\"Filial\":\"Filial 10\"},{\"Nome do Produto\":\"Corretivo\",\"Categoria do Produto\":\"Eletrodom\\u00e9sticos\",\"Pre\\u00e7o do Produto (R$)\":23.67,\"Quantidade em Estoque\":71,\"Filial\":\"Filial 8\"},{\"Nome do Produto\":\"Blush em p\\u00f3\",\"Categoria do Produto\":\"Eletrodom\\u00e9sticos\",\"Pre\\u00e7o do Produto (R$)\":92.98,\"Quantidade em Estoque\":35,\"Filial\":\"Filial 9\"},{\"Nome do Produto\":\"Corretivo\",\"Categoria do Produto\":\"Roupas\",\"Pre\\u00e7o do Produto (R$)\":76.92,\"Quantidade em Estoque\":20,\"Filial\":\"Filial 2\"},{\"Nome do Produto\":\"L\\u00e1pis de sobrancelha\",\"Categoria do Produto\":\"Alimentos\",\"Pre\\u00e7o do Produto (R$)\":64.84,\"Quantidade em Estoque\":89,\"Filial\":\"Filial 3\"},{\"Nome do Produto\":\"Base l\\u00edquida\",\"Categoria do Produto\":\"Eletr\\u00f4nicos\",\"Pre\\u00e7o do Produto (R$)\":59.45,\"Quantidade em Estoque\":50,\"Filial\":\"Filial 10\"},{\"Nome do Produto\":\"Batom matte\",\"Categoria do Produto\":\"Eletr\\u00f4nicos\",\"Pre\\u00e7o do Produto (R$)\":19.52,\"Quantidade em Estoque\":83,\"Filial\":\"Filial 3\"},{\"Nome do Produto\":\"Sombra de olhos\",\"Categoria do Produto\":\"Roupas\",\"Pre\\u00e7o do Produto (R$)\":68.53,\"Quantidade em Estoque\":59,\"Filial\":\"Filial 4\"},{\"Nome do Produto\":\"P\\u00f3 compacto\",\"Categoria do Produto\":\"Roupas\",\"Pre\\u00e7o do Produto (R$)\":29.04,\"Quantidade em Estoque\":99,\"Filial\":\"Filial 10\"},{\"Nome do Produto\":\"Blush em p\\u00f3\",\"Categoria do Produto\":\"Eletr\\u00f4nicos\",\"Pre\\u00e7o do Produto (R$)\":23.27,\"Quantidade em Estoque\":2,\"Filial\":\"Filial 4\"},{\"Nome do Produto\":\"L\\u00e1pis de sobrancelha\",\"Categoria do Produto\":\"Eletr\\u00f4nicos\",\"Pre\\u00e7o do Produto (R$)\":20.56,\"Quantidade em Estoque\":71,\"Filial\":\"Filial 9\"},{\"Nome do Produto\":\"L\\u00e1pis de sobrancelha\",\"Categoria do Produto\":\"Eletr\\u00f4nicos\",\"Pre\\u00e7o do Produto (R$)\":68.0,\"Quantidade em Estoque\":64,\"Filial\":\"Filial 2\"},{\"Nome do Produto\":\"P\\u00f3 compacto\",\"Categoria do Produto\":\"Eletrodom\\u00e9sticos\",\"Pre\\u00e7o do Produto (R$)\":78.14,\"Quantidade em Estoque\":47,\"Filial\":\"Filial 1\"},{\"Nome do Produto\":\"Corretivo\",\"Categoria do Produto\":\"Eletrodom\\u00e9sticos\",\"Pre\\u00e7o do Produto (R$)\":57.62,\"Quantidade em Estoque\":70,\"Filial\":\"Filial 8\"},{\"Nome do Produto\":\"Blush em p\\u00f3\",\"Categoria do Produto\":\"Eletrodom\\u00e9sticos\",\"Pre\\u00e7o do Produto (R$)\":90.43,\"Quantidade em Estoque\":62,\"Filial\":\"Filial 1\"},{\"Nome do Produto\":\"Blush em p\\u00f3\",\"Categoria do Produto\":\"Eletr\\u00f4nicos\",\"Pre\\u00e7o do Produto (R$)\":70.99,\"Quantidade em Estoque\":66,\"Filial\":\"Filial 9\"},{\"Nome do Produto\":\"P\\u00f3 compacto\",\"Categoria do Produto\":\"Roupas\",\"Pre\\u00e7o do Produto (R$)\":2.36,\"Quantidade em Estoque\":39,\"Filial\":\"Filial 3\"},{\"Nome do Produto\":\"P\\u00f3 compacto\",\"Categoria do Produto\":\"Eletrodom\\u00e9sticos\",\"Pre\\u00e7o do Produto (R$)\":17.01,\"Quantidade em Estoque\":19,\"Filial\":\"Filial 3\"},{\"Nome do Produto\":\"M\\u00e1scara de c\\u00edlios\",\"Categoria do Produto\":\"Roupas\",\"Pre\\u00e7o do Produto (R$)\":18.69,\"Quantidade em Estoque\":35,\"Filial\":\"Filial 5\"},{\"Nome do Produto\":\"Delineador l\\u00edquido\",\"Categoria do Produto\":\"Eletrodom\\u00e9sticos\",\"Pre\\u00e7o do Produto (R$)\":56.76,\"Quantidade em Estoque\":71,\"Filial\":\"Filial 3\"},{\"Nome do Produto\":\"Base l\\u00edquida\",\"Categoria do Produto\":\"Eletrodom\\u00e9sticos\",\"Pre\\u00e7o do Produto (R$)\":12.84,\"Quantidade em Estoque\":92,\"Filial\":\"Filial 5\"},{\"Nome do Produto\":\"M\\u00e1scara de c\\u00edlios\",\"Categoria do Produto\":\"Eletr\\u00f4nicos\",\"Pre\\u00e7o do Produto (R$)\":63.01,\"Quantidade em Estoque\":40,\"Filial\":\"Filial 6\"},{\"Nome do Produto\":\"L\\u00e1pis de sobrancelha\",\"Categoria do Produto\":\"Eletr\\u00f4nicos\",\"Pre\\u00e7o do Produto (R$)\":79.8,\"Quantidade em Estoque\":87,\"Filial\":\"Filial 5\"},{\"Nome do Produto\":\"Batom l\\u00edquido\",\"Categoria do Produto\":\"Eletr\\u00f4nicos\",\"Pre\\u00e7o do Produto (R$)\":12.02,\"Quantidade em Estoque\":46,\"Filial\":\"Filial 6\"},{\"Nome do Produto\":\"Batom l\\u00edquido\",\"Categoria do Produto\":\"Eletrodom\\u00e9sticos\",\"Pre\\u00e7o do Produto (R$)\":94.15,\"Quantidade em Estoque\":57,\"Filial\":\"Filial 7\"},{\"Nome do Produto\":\"Sombra de olhos\",\"Categoria do Produto\":\"Eletr\\u00f4nicos\",\"Pre\\u00e7o do Produto (R$)\":84.86,\"Quantidade em Estoque\":29,\"Filial\":\"Filial 7\"},{\"Nome do Produto\":\"L\\u00e1pis de sobrancelha\",\"Categoria do Produto\":\"Eletr\\u00f4nicos\",\"Pre\\u00e7o do Produto (R$)\":38.04,\"Quantidade em Estoque\":6,\"Filial\":\"Filial 8\"},{\"Nome do Produto\":\"Delineador l\\u00edquido\",\"Categoria do Produto\":\"Eletr\\u00f4nicos\",\"Pre\\u00e7o do Produto (R$)\":5.27,\"Quantidade em Estoque\":58,\"Filial\":\"Filial 6\"},{\"Nome do Produto\":\"P\\u00f3 compacto\",\"Categoria do Produto\":\"Eletrodom\\u00e9sticos\",\"Pre\\u00e7o do Produto (R$)\":5.93,\"Quantidade em Estoque\":88,\"Filial\":\"Filial 1\"},{\"Nome do Produto\":\"Corretivo\",\"Categoria do Produto\":\"Roupas\",\"Pre\\u00e7o do Produto (R$)\":10.47,\"Quantidade em Estoque\":71,\"Filial\":\"Filial 7\"},{\"Nome do Produto\":\"P\\u00f3 compacto\",\"Categoria do Produto\":\"Eletr\\u00f4nicos\",\"Pre\\u00e7o do Produto (R$)\":45.75,\"Quantidade em Estoque\":64,\"Filial\":\"Filial 6\"},{\"Nome do Produto\":\"Delineador l\\u00edquido\",\"Categoria do Produto\":\"Eletr\\u00f4nicos\",\"Pre\\u00e7o do Produto (R$)\":13.29,\"Quantidade em Estoque\":24,\"Filial\":\"Filial 10\"},{\"Nome do Produto\":\"Sombra de olhos\",\"Categoria do Produto\":\"Roupas\",\"Pre\\u00e7o do Produto (R$)\":54.63,\"Quantidade em Estoque\":98,\"Filial\":\"Filial 6\"},{\"Nome do Produto\":\"Blush em p\\u00f3\",\"Categoria do Produto\":\"Eletrodom\\u00e9sticos\",\"Pre\\u00e7o do Produto (R$)\":83.75,\"Quantidade em Estoque\":75,\"Filial\":\"Filial 9\"},{\"Nome do Produto\":\"Batom matte\",\"Categoria do Produto\":\"Eletr\\u00f4nicos\",\"Pre\\u00e7o do Produto (R$)\":35.09,\"Quantidade em Estoque\":40,\"Filial\":\"Filial 2\"},{\"Nome do Produto\":\"Blush em p\\u00f3\",\"Categoria do Produto\":\"Alimentos\",\"Pre\\u00e7o do Produto (R$)\":33.57,\"Quantidade em Estoque\":70,\"Filial\":\"Filial 10\"},{\"Nome do Produto\":\"Sombra de olhos\",\"Categoria do Produto\":\"Alimentos\",\"Pre\\u00e7o do Produto (R$)\":95.48,\"Quantidade em Estoque\":77,\"Filial\":\"Filial 10\"},{\"Nome do Produto\":\"Batom l\\u00edquido\",\"Categoria do Produto\":\"Alimentos\",\"Pre\\u00e7o do Produto (R$)\":19.43,\"Quantidade em Estoque\":34,\"Filial\":\"Filial 3\"},{\"Nome do Produto\":\"L\\u00e1pis de sobrancelha\",\"Categoria do Produto\":\"Eletrodom\\u00e9sticos\",\"Pre\\u00e7o do Produto (R$)\":20.27,\"Quantidade em Estoque\":53,\"Filial\":\"Filial 5\"},{\"Nome do Produto\":\"L\\u00e1pis de sobrancelha\",\"Categoria do Produto\":\"Eletr\\u00f4nicos\",\"Pre\\u00e7o do Produto (R$)\":6.38,\"Quantidade em Estoque\":7,\"Filial\":\"Filial 3\"},{\"Nome do Produto\":\"Sombra de olhos\",\"Categoria do Produto\":\"Roupas\",\"Pre\\u00e7o do Produto (R$)\":51.54,\"Quantidade em Estoque\":48,\"Filial\":\"Filial 10\"},{\"Nome do Produto\":\"Blush em p\\u00f3\",\"Categoria do Produto\":\"Roupas\",\"Pre\\u00e7o do Produto (R$)\":70.12,\"Quantidade em Estoque\":77,\"Filial\":\"Filial 1\"},{\"Nome do Produto\":\"M\\u00e1scara de c\\u00edlios\",\"Categoria do Produto\":\"Eletrodom\\u00e9sticos\",\"Pre\\u00e7o do Produto (R$)\":39.8,\"Quantidade em Estoque\":77,\"Filial\":\"Filial 1\"},{\"Nome do Produto\":\"Corretivo\",\"Categoria do Produto\":\"Alimentos\",\"Pre\\u00e7o do Produto (R$)\":45.66,\"Quantidade em Estoque\":56,\"Filial\":\"Filial 5\"},{\"Nome do Produto\":\"Base l\\u00edquida\",\"Categoria do Produto\":\"Roupas\",\"Pre\\u00e7o do Produto (R$)\":73.56,\"Quantidade em Estoque\":93,\"Filial\":\"Filial 9\"},{\"Nome do Produto\":\"Batom matte\",\"Categoria do Produto\":\"Roupas\",\"Pre\\u00e7o do Produto (R$)\":42.93,\"Quantidade em Estoque\":1,\"Filial\":\"Filial 3\"},{\"Nome do Produto\":\"Sombra de olhos\",\"Categoria do Produto\":\"Roupas\",\"Pre\\u00e7o do Produto (R$)\":42.09,\"Quantidade em Estoque\":80,\"Filial\":\"Filial 3\"},{\"Nome do Produto\":\"L\\u00e1pis de sobrancelha\",\"Categoria do Produto\":\"Eletr\\u00f4nicos\",\"Pre\\u00e7o do Produto (R$)\":17.91,\"Quantidade em Estoque\":13,\"Filial\":\"Filial 2\"},{\"Nome do Produto\":\"M\\u00e1scara de c\\u00edlios\",\"Categoria do Produto\":\"Eletr\\u00f4nicos\",\"Pre\\u00e7o do Produto (R$)\":73.05,\"Quantidade em Estoque\":43,\"Filial\":\"Filial 3\"},{\"Nome do Produto\":\"Batom matte\",\"Categoria do Produto\":\"Eletrodom\\u00e9sticos\",\"Pre\\u00e7o do Produto (R$)\":24.66,\"Quantidade em Estoque\":92,\"Filial\":\"Filial 4\"},{\"Nome do Produto\":\"M\\u00e1scara de c\\u00edlios\",\"Categoria do Produto\":\"Eletr\\u00f4nicos\",\"Pre\\u00e7o do Produto (R$)\":83.44,\"Quantidade em Estoque\":17,\"Filial\":\"Filial 9\"},{\"Nome do Produto\":\"Base l\\u00edquida\",\"Categoria do Produto\":\"Eletr\\u00f4nicos\",\"Pre\\u00e7o do Produto (R$)\":55.09,\"Quantidade em Estoque\":11,\"Filial\":\"Filial 10\"},{\"Nome do Produto\":\"M\\u00e1scara de c\\u00edlios\",\"Categoria do Produto\":\"Eletrodom\\u00e9sticos\",\"Pre\\u00e7o do Produto (R$)\":35.68,\"Quantidade em Estoque\":98,\"Filial\":\"Filial 5\"},{\"Nome do Produto\":\"Blush em p\\u00f3\",\"Categoria do Produto\":\"Eletr\\u00f4nicos\",\"Pre\\u00e7o do Produto (R$)\":18.49,\"Quantidade em Estoque\":69,\"Filial\":\"Filial 4\"},{\"Nome do Produto\":\"Corretivo\",\"Categoria do Produto\":\"Eletr\\u00f4nicos\",\"Pre\\u00e7o do Produto (R$)\":74.93,\"Quantidade em Estoque\":97,\"Filial\":\"Filial 9\"},{\"Nome do Produto\":\"Base l\\u00edquida\",\"Categoria do Produto\":\"Roupas\",\"Pre\\u00e7o do Produto (R$)\":12.17,\"Quantidade em Estoque\":41,\"Filial\":\"Filial 1\"},{\"Nome do Produto\":\"Blush em p\\u00f3\",\"Categoria do Produto\":\"Eletr\\u00f4nicos\",\"Pre\\u00e7o do Produto (R$)\":56.68,\"Quantidade em Estoque\":70,\"Filial\":\"Filial 2\"},{\"Nome do Produto\":\"Batom matte\",\"Categoria do Produto\":\"Eletr\\u00f4nicos\",\"Pre\\u00e7o do Produto (R$)\":4.79,\"Quantidade em Estoque\":24,\"Filial\":\"Filial 9\"},{\"Nome do Produto\":\"Batom matte\",\"Categoria do Produto\":\"Eletrodom\\u00e9sticos\",\"Pre\\u00e7o do Produto (R$)\":95.43,\"Quantidade em Estoque\":85,\"Filial\":\"Filial 6\"},{\"Nome do Produto\":\"Batom l\\u00edquido\",\"Categoria do Produto\":\"Eletr\\u00f4nicos\",\"Pre\\u00e7o do Produto (R$)\":28.4,\"Quantidade em Estoque\":60,\"Filial\":\"Filial 3\"},{\"Nome do Produto\":\"P\\u00f3 compacto\",\"Categoria do Produto\":\"Eletr\\u00f4nicos\",\"Pre\\u00e7o do Produto (R$)\":34.85,\"Quantidade em Estoque\":82,\"Filial\":\"Filial 4\"},{\"Nome do Produto\":\"Sombra de olhos\",\"Categoria do Produto\":\"Alimentos\",\"Pre\\u00e7o do Produto (R$)\":75.75,\"Quantidade em Estoque\":19,\"Filial\":\"Filial 2\"},{\"Nome do Produto\":\"Batom l\\u00edquido\",\"Categoria do Produto\":\"Eletr\\u00f4nicos\",\"Pre\\u00e7o do Produto (R$)\":66.03,\"Quantidade em Estoque\":57,\"Filial\":\"Filial 2\"},{\"Nome do Produto\":\"Corretivo\",\"Categoria do Produto\":\"Eletr\\u00f4nicos\",\"Pre\\u00e7o do Produto (R$)\":52.56,\"Quantidade em Estoque\":33,\"Filial\":\"Filial 2\"},{\"Nome do Produto\":\"Sombra de olhos\",\"Categoria do Produto\":\"Eletrodom\\u00e9sticos\",\"Pre\\u00e7o do Produto (R$)\":50.14,\"Quantidade em Estoque\":90,\"Filial\":\"Filial 5\"},{\"Nome do Produto\":\"L\\u00e1pis de sobrancelha\",\"Categoria do Produto\":\"Alimentos\",\"Pre\\u00e7o do Produto (R$)\":12.08,\"Quantidade em Estoque\":37,\"Filial\":\"Filial 6\"},{\"Nome do Produto\":\"P\\u00f3 compacto\",\"Categoria do Produto\":\"Alimentos\",\"Pre\\u00e7o do Produto (R$)\":40.56,\"Quantidade em Estoque\":14,\"Filial\":\"Filial 10\"},{\"Nome do Produto\":\"Delineador l\\u00edquido\",\"Categoria do Produto\":\"Eletrodom\\u00e9sticos\",\"Pre\\u00e7o do Produto (R$)\":73.87,\"Quantidade em Estoque\":77,\"Filial\":\"Filial 4\"},{\"Nome do Produto\":\"L\\u00e1pis de sobrancelha\",\"Categoria do Produto\":\"Eletr\\u00f4nicos\",\"Pre\\u00e7o do Produto (R$)\":8.84,\"Quantidade em Estoque\":78,\"Filial\":\"Filial 10\"},{\"Nome do Produto\":\"L\\u00e1pis de sobrancelha\",\"Categoria do Produto\":\"Eletrodom\\u00e9sticos\",\"Pre\\u00e7o do Produto (R$)\":72.25,\"Quantidade em Estoque\":27,\"Filial\":\"Filial 3\"},{\"Nome do Produto\":\"Sombra de olhos\",\"Categoria do Produto\":\"Eletr\\u00f4nicos\",\"Pre\\u00e7o do Produto (R$)\":24.37,\"Quantidade em Estoque\":59,\"Filial\":\"Filial 7\"},{\"Nome do Produto\":\"Corretivo\",\"Categoria do Produto\":\"Eletr\\u00f4nicos\",\"Pre\\u00e7o do Produto (R$)\":68.45,\"Quantidade em Estoque\":62,\"Filial\":\"Filial 2\"},{\"Nome do Produto\":\"Corretivo\",\"Categoria do Produto\":\"Eletrodom\\u00e9sticos\",\"Pre\\u00e7o do Produto (R$)\":42.17,\"Quantidade em Estoque\":48,\"Filial\":\"Filial 6\"},{\"Nome do Produto\":\"Base l\\u00edquida\",\"Categoria do Produto\":\"Eletr\\u00f4nicos\",\"Pre\\u00e7o do Produto (R$)\":20.51,\"Quantidade em Estoque\":25,\"Filial\":\"Filial 1\"},{\"Nome do Produto\":\"Corretivo\",\"Categoria do Produto\":\"Eletr\\u00f4nicos\",\"Pre\\u00e7o do Produto (R$)\":62.33,\"Quantidade em Estoque\":14,\"Filial\":\"Filial 2\"},{\"Nome do Produto\":\"Batom matte\",\"Categoria do Produto\":\"Roupas\",\"Pre\\u00e7o do Produto (R$)\":49.05,\"Quantidade em Estoque\":66,\"Filial\":\"Filial 5\"},{\"Nome do Produto\":\"Batom matte\",\"Categoria do Produto\":\"Alimentos\",\"Pre\\u00e7o do Produto (R$)\":27.23,\"Quantidade em Estoque\":44,\"Filial\":\"Filial 9\"},{\"Nome do Produto\":\"Batom l\\u00edquido\",\"Categoria do Produto\":\"Roupas\",\"Pre\\u00e7o do Produto (R$)\":49.62,\"Quantidade em Estoque\":37,\"Filial\":\"Filial 8\"},{\"Nome do Produto\":\"Corretivo\",\"Categoria do Produto\":\"Roupas\",\"Pre\\u00e7o do Produto (R$)\":35.41,\"Quantidade em Estoque\":37,\"Filial\":\"Filial 5\"},{\"Nome do Produto\":\"Base l\\u00edquida\",\"Categoria do Produto\":\"Eletrodom\\u00e9sticos\",\"Pre\\u00e7o do Produto (R$)\":25.37,\"Quantidade em Estoque\":43,\"Filial\":\"Filial 2\"},{\"Nome do Produto\":\"Batom l\\u00edquido\",\"Categoria do Produto\":\"Eletrodom\\u00e9sticos\",\"Pre\\u00e7o do Produto (R$)\":7.57,\"Quantidade em Estoque\":43,\"Filial\":\"Filial 1\"},{\"Nome do Produto\":\"Batom l\\u00edquido\",\"Categoria do Produto\":\"Alimentos\",\"Pre\\u00e7o do Produto (R$)\":96.47,\"Quantidade em Estoque\":6,\"Filial\":\"Filial 1\"},{\"Nome do Produto\":\"Corretivo\",\"Categoria do Produto\":\"Eletrodom\\u00e9sticos\",\"Pre\\u00e7o do Produto (R$)\":26.2,\"Quantidade em Estoque\":77,\"Filial\":\"Filial 1\"},{\"Nome do Produto\":\"Sombra de olhos\",\"Categoria do Produto\":\"Eletr\\u00f4nicos\",\"Pre\\u00e7o do Produto (R$)\":7.26,\"Quantidade em Estoque\":43,\"Filial\":\"Filial 5\"},{\"Nome do Produto\":\"Sombra de olhos\",\"Categoria do Produto\":\"Alimentos\",\"Pre\\u00e7o do Produto (R$)\":26.13,\"Quantidade em Estoque\":57,\"Filial\":\"Filial 1\"},{\"Nome do Produto\":\"Base l\\u00edquida\",\"Categoria do Produto\":\"Eletrodom\\u00e9sticos\",\"Pre\\u00e7o do Produto (R$)\":7.51,\"Quantidade em Estoque\":70,\"Filial\":\"Filial 9\"},{\"Nome do Produto\":\"L\\u00e1pis de sobrancelha\",\"Categoria do Produto\":\"Eletrodom\\u00e9sticos\",\"Pre\\u00e7o do Produto (R$)\":50.39,\"Quantidade em Estoque\":79,\"Filial\":\"Filial 7\"},{\"Nome do Produto\":\"Delineador l\\u00edquido\",\"Categoria do Produto\":\"Alimentos\",\"Pre\\u00e7o do Produto (R$)\":70.26,\"Quantidade em Estoque\":80,\"Filial\":\"Filial 7\"},{\"Nome do Produto\":\"Batom l\\u00edquido\",\"Categoria do Produto\":\"Alimentos\",\"Pre\\u00e7o do Produto (R$)\":62.85,\"Quantidade em Estoque\":69,\"Filial\":\"Filial 5\"},{\"Nome do Produto\":\"Sombra de olhos\",\"Categoria do Produto\":\"Alimentos\",\"Pre\\u00e7o do Produto (R$)\":82.8,\"Quantidade em Estoque\":20,\"Filial\":\"Filial 1\"},{\"Nome do Produto\":\"Delineador l\\u00edquido\",\"Categoria do Produto\":\"Eletr\\u00f4nicos\",\"Pre\\u00e7o do Produto (R$)\":13.28,\"Quantidade em Estoque\":95,\"Filial\":\"Filial 3\"},{\"Nome do Produto\":\"M\\u00e1scara de c\\u00edlios\",\"Categoria do Produto\":\"Roupas\",\"Pre\\u00e7o do Produto (R$)\":39.44,\"Quantidade em Estoque\":63,\"Filial\":\"Filial 10\"},{\"Nome do Produto\":\"Batom l\\u00edquido\",\"Categoria do Produto\":\"Roupas\",\"Pre\\u00e7o do Produto (R$)\":99.89,\"Quantidade em Estoque\":57,\"Filial\":\"Filial 1\"},{\"Nome do Produto\":\"Base l\\u00edquida\",\"Categoria do Produto\":\"Roupas\",\"Pre\\u00e7o do Produto (R$)\":21.47,\"Quantidade em Estoque\":81,\"Filial\":\"Filial 8\"},{\"Nome do Produto\":\"L\\u00e1pis de sobrancelha\",\"Categoria do Produto\":\"Eletr\\u00f4nicos\",\"Pre\\u00e7o do Produto (R$)\":68.0,\"Quantidade em Estoque\":33,\"Filial\":\"Filial 3\"},{\"Nome do Produto\":\"L\\u00e1pis de sobrancelha\",\"Categoria do Produto\":\"Eletrodom\\u00e9sticos\",\"Pre\\u00e7o do Produto (R$)\":51.61,\"Quantidade em Estoque\":10,\"Filial\":\"Filial 5\"},{\"Nome do Produto\":\"Batom matte\",\"Categoria do Produto\":\"Eletrodom\\u00e9sticos\",\"Pre\\u00e7o do Produto (R$)\":82.26,\"Quantidade em Estoque\":97,\"Filial\":\"Filial 7\"},{\"Nome do Produto\":\"M\\u00e1scara de c\\u00edlios\",\"Categoria do Produto\":\"Eletrodom\\u00e9sticos\",\"Pre\\u00e7o do Produto (R$)\":78.62,\"Quantidade em Estoque\":61,\"Filial\":\"Filial 3\"},{\"Nome do Produto\":\"Batom l\\u00edquido\",\"Categoria do Produto\":\"Eletr\\u00f4nicos\",\"Pre\\u00e7o do Produto (R$)\":66.23,\"Quantidade em Estoque\":78,\"Filial\":\"Filial 8\"},{\"Nome do Produto\":\"Blush em p\\u00f3\",\"Categoria do Produto\":\"Eletr\\u00f4nicos\",\"Pre\\u00e7o do Produto (R$)\":30.7,\"Quantidade em Estoque\":19,\"Filial\":\"Filial 9\"},{\"Nome do Produto\":\"P\\u00f3 compacto\",\"Categoria do Produto\":\"Alimentos\",\"Pre\\u00e7o do Produto (R$)\":84.3,\"Quantidade em Estoque\":11,\"Filial\":\"Filial 1\"},{\"Nome do Produto\":\"Batom l\\u00edquido\",\"Categoria do Produto\":\"Eletrodom\\u00e9sticos\",\"Pre\\u00e7o do Produto (R$)\":51.77,\"Quantidade em Estoque\":5,\"Filial\":\"Filial 10\"},{\"Nome do Produto\":\"Sombra de olhos\",\"Categoria do Produto\":\"Eletrodom\\u00e9sticos\",\"Pre\\u00e7o do Produto (R$)\":21.45,\"Quantidade em Estoque\":97,\"Filial\":\"Filial 1\"},{\"Nome do Produto\":\"Blush em p\\u00f3\",\"Categoria do Produto\":\"Alimentos\",\"Pre\\u00e7o do Produto (R$)\":98.66,\"Quantidade em Estoque\":49,\"Filial\":\"Filial 5\"},{\"Nome do Produto\":\"Sombra de olhos\",\"Categoria do Produto\":\"Roupas\",\"Pre\\u00e7o do Produto (R$)\":12.52,\"Quantidade em Estoque\":81,\"Filial\":\"Filial 9\"},{\"Nome do Produto\":\"M\\u00e1scara de c\\u00edlios\",\"Categoria do Produto\":\"Alimentos\",\"Pre\\u00e7o do Produto (R$)\":2.6,\"Quantidade em Estoque\":8,\"Filial\":\"Filial 6\"},{\"Nome do Produto\":\"Batom matte\",\"Categoria do Produto\":\"Eletrodom\\u00e9sticos\",\"Pre\\u00e7o do Produto (R$)\":44.64,\"Quantidade em Estoque\":98,\"Filial\":\"Filial 10\"},{\"Nome do Produto\":\"Delineador l\\u00edquido\",\"Categoria do Produto\":\"Alimentos\",\"Pre\\u00e7o do Produto (R$)\":54.61,\"Quantidade em Estoque\":78,\"Filial\":\"Filial 3\"},{\"Nome do Produto\":\"Base l\\u00edquida\",\"Categoria do Produto\":\"Roupas\",\"Pre\\u00e7o do Produto (R$)\":66.71,\"Quantidade em Estoque\":24,\"Filial\":\"Filial 1\"},{\"Nome do Produto\":\"Sombra de olhos\",\"Categoria do Produto\":\"Alimentos\",\"Pre\\u00e7o do Produto (R$)\":41.49,\"Quantidade em Estoque\":90,\"Filial\":\"Filial 4\"},{\"Nome do Produto\":\"Base l\\u00edquida\",\"Categoria do Produto\":\"Eletr\\u00f4nicos\",\"Pre\\u00e7o do Produto (R$)\":44.25,\"Quantidade em Estoque\":91,\"Filial\":\"Filial 2\"},{\"Nome do Produto\":\"Blush em p\\u00f3\",\"Categoria do Produto\":\"Alimentos\",\"Pre\\u00e7o do Produto (R$)\":48.33,\"Quantidade em Estoque\":17,\"Filial\":\"Filial 6\"},{\"Nome do Produto\":\"P\\u00f3 compacto\",\"Categoria do Produto\":\"Roupas\",\"Pre\\u00e7o do Produto (R$)\":55.59,\"Quantidade em Estoque\":98,\"Filial\":\"Filial 10\"},{\"Nome do Produto\":\"M\\u00e1scara de c\\u00edlios\",\"Categoria do Produto\":\"Eletrodom\\u00e9sticos\",\"Pre\\u00e7o do Produto (R$)\":70.17,\"Quantidade em Estoque\":42,\"Filial\":\"Filial 7\"},{\"Nome do Produto\":\"Corretivo\",\"Categoria do Produto\":\"Eletr\\u00f4nicos\",\"Pre\\u00e7o do Produto (R$)\":6.77,\"Quantidade em Estoque\":80,\"Filial\":\"Filial 8\"},{\"Nome do Produto\":\"M\\u00e1scara de c\\u00edlios\",\"Categoria do Produto\":\"Alimentos\",\"Pre\\u00e7o do Produto (R$)\":56.98,\"Quantidade em Estoque\":18,\"Filial\":\"Filial 9\"},{\"Nome do Produto\":\"L\\u00e1pis de sobrancelha\",\"Categoria do Produto\":\"Eletrodom\\u00e9sticos\",\"Pre\\u00e7o do Produto (R$)\":83.93,\"Quantidade em Estoque\":81,\"Filial\":\"Filial 7\"},{\"Nome do Produto\":\"Sombra de olhos\",\"Categoria do Produto\":\"Eletrodom\\u00e9sticos\",\"Pre\\u00e7o do Produto (R$)\":95.81,\"Quantidade em Estoque\":2,\"Filial\":\"Filial 8\"},{\"Nome do Produto\":\"P\\u00f3 compacto\",\"Categoria do Produto\":\"Eletrodom\\u00e9sticos\",\"Pre\\u00e7o do Produto (R$)\":79.27,\"Quantidade em Estoque\":59,\"Filial\":\"Filial 10\"},{\"Nome do Produto\":\"Batom l\\u00edquido\",\"Categoria do Produto\":\"Eletrodom\\u00e9sticos\",\"Pre\\u00e7o do Produto (R$)\":61.75,\"Quantidade em Estoque\":44,\"Filial\":\"Filial 2\"},{\"Nome do Produto\":\"Batom matte\",\"Categoria do Produto\":\"Roupas\",\"Pre\\u00e7o do Produto (R$)\":78.5,\"Quantidade em Estoque\":62,\"Filial\":\"Filial 6\"},{\"Nome do Produto\":\"L\\u00e1pis de sobrancelha\",\"Categoria do Produto\":\"Alimentos\",\"Pre\\u00e7o do Produto (R$)\":62.86,\"Quantidade em Estoque\":23,\"Filial\":\"Filial 9\"},{\"Nome do Produto\":\"Batom matte\",\"Categoria do Produto\":\"Eletrodom\\u00e9sticos\",\"Pre\\u00e7o do Produto (R$)\":47.34,\"Quantidade em Estoque\":9,\"Filial\":\"Filial 5\"},{\"Nome do Produto\":\"P\\u00f3 compacto\",\"Categoria do Produto\":\"Eletr\\u00f4nicos\",\"Pre\\u00e7o do Produto (R$)\":23.78,\"Quantidade em Estoque\":85,\"Filial\":\"Filial 9\"},{\"Nome do Produto\":\"Batom l\\u00edquido\",\"Categoria do Produto\":\"Eletrodom\\u00e9sticos\",\"Pre\\u00e7o do Produto (R$)\":98.45,\"Quantidade em Estoque\":20,\"Filial\":\"Filial 4\"},{\"Nome do Produto\":\"Corretivo\",\"Categoria do Produto\":\"Eletr\\u00f4nicos\",\"Pre\\u00e7o do Produto (R$)\":2.96,\"Quantidade em Estoque\":6,\"Filial\":\"Filial 1\"},{\"Nome do Produto\":\"Batom l\\u00edquido\",\"Categoria do Produto\":\"Alimentos\",\"Pre\\u00e7o do Produto (R$)\":42.12,\"Quantidade em Estoque\":95,\"Filial\":\"Filial 7\"},{\"Nome do Produto\":\"Blush em p\\u00f3\",\"Categoria do Produto\":\"Eletrodom\\u00e9sticos\",\"Pre\\u00e7o do Produto (R$)\":48.9,\"Quantidade em Estoque\":99,\"Filial\":\"Filial 5\"},{\"Nome do Produto\":\"Batom matte\",\"Categoria do Produto\":\"Eletr\\u00f4nicos\",\"Pre\\u00e7o do Produto (R$)\":74.54,\"Quantidade em Estoque\":40,\"Filial\":\"Filial 1\"},{\"Nome do Produto\":\"Batom matte\",\"Categoria do Produto\":\"Eletr\\u00f4nicos\",\"Pre\\u00e7o do Produto (R$)\":25.7,\"Quantidade em Estoque\":54,\"Filial\":\"Filial 9\"},{\"Nome do Produto\":\"Batom l\\u00edquido\",\"Categoria do Produto\":\"Alimentos\",\"Pre\\u00e7o do Produto (R$)\":33.72,\"Quantidade em Estoque\":37,\"Filial\":\"Filial 2\"},{\"Nome do Produto\":\"Sombra de olhos\",\"Categoria do Produto\":\"Alimentos\",\"Pre\\u00e7o do Produto (R$)\":67.74,\"Quantidade em Estoque\":84,\"Filial\":\"Filial 8\"},{\"Nome do Produto\":\"Blush em p\\u00f3\",\"Categoria do Produto\":\"Roupas\",\"Pre\\u00e7o do Produto (R$)\":99.96,\"Quantidade em Estoque\":48,\"Filial\":\"Filial 8\"},{\"Nome do Produto\":\"Batom matte\",\"Categoria do Produto\":\"Roupas\",\"Pre\\u00e7o do Produto (R$)\":82.12,\"Quantidade em Estoque\":100,\"Filial\":\"Filial 2\"},{\"Nome do Produto\":\"L\\u00e1pis de sobrancelha\",\"Categoria do Produto\":\"Roupas\",\"Pre\\u00e7o do Produto (R$)\":19.87,\"Quantidade em Estoque\":78,\"Filial\":\"Filial 1\"},{\"Nome do Produto\":\"Batom l\\u00edquido\",\"Categoria do Produto\":\"Roupas\",\"Pre\\u00e7o do Produto (R$)\":58.27,\"Quantidade em Estoque\":80,\"Filial\":\"Filial 6\"},{\"Nome do Produto\":\"P\\u00f3 compacto\",\"Categoria do Produto\":\"Alimentos\",\"Pre\\u00e7o do Produto (R$)\":75.16,\"Quantidade em Estoque\":49,\"Filial\":\"Filial 6\"},{\"Nome do Produto\":\"Corretivo\",\"Categoria do Produto\":\"Roupas\",\"Pre\\u00e7o do Produto (R$)\":37.0,\"Quantidade em Estoque\":57,\"Filial\":\"Filial 2\"},{\"Nome do Produto\":\"P\\u00f3 compacto\",\"Categoria do Produto\":\"Alimentos\",\"Pre\\u00e7o do Produto (R$)\":8.52,\"Quantidade em Estoque\":29,\"Filial\":\"Filial 4\"},{\"Nome do Produto\":\"Blush em p\\u00f3\",\"Categoria do Produto\":\"Eletrodom\\u00e9sticos\",\"Pre\\u00e7o do Produto (R$)\":89.53,\"Quantidade em Estoque\":62,\"Filial\":\"Filial 2\"},{\"Nome do Produto\":\"P\\u00f3 compacto\",\"Categoria do Produto\":\"Roupas\",\"Pre\\u00e7o do Produto (R$)\":52.6,\"Quantidade em Estoque\":8,\"Filial\":\"Filial 8\"},{\"Nome do Produto\":\"Corretivo\",\"Categoria do Produto\":\"Roupas\",\"Pre\\u00e7o do Produto (R$)\":45.25,\"Quantidade em Estoque\":22,\"Filial\":\"Filial 6\"},{\"Nome do Produto\":\"Blush em p\\u00f3\",\"Categoria do Produto\":\"Roupas\",\"Pre\\u00e7o do Produto (R$)\":73.96,\"Quantidade em Estoque\":58,\"Filial\":\"Filial 6\"},{\"Nome do Produto\":\"Base l\\u00edquida\",\"Categoria do Produto\":\"Eletr\\u00f4nicos\",\"Pre\\u00e7o do Produto (R$)\":70.96,\"Quantidade em Estoque\":81,\"Filial\":\"Filial 8\"},{\"Nome do Produto\":\"P\\u00f3 compacto\",\"Categoria do Produto\":\"Roupas\",\"Pre\\u00e7o do Produto (R$)\":31.58,\"Quantidade em Estoque\":2,\"Filial\":\"Filial 10\"},{\"Nome do Produto\":\"Batom l\\u00edquido\",\"Categoria do Produto\":\"Eletr\\u00f4nicos\",\"Pre\\u00e7o do Produto (R$)\":44.84,\"Quantidade em Estoque\":68,\"Filial\":\"Filial 3\"},{\"Nome do Produto\":\"Blush em p\\u00f3\",\"Categoria do Produto\":\"Eletr\\u00f4nicos\",\"Pre\\u00e7o do Produto (R$)\":87.15,\"Quantidade em Estoque\":52,\"Filial\":\"Filial 6\"},{\"Nome do Produto\":\"Delineador l\\u00edquido\",\"Categoria do Produto\":\"Alimentos\",\"Pre\\u00e7o do Produto (R$)\":56.33,\"Quantidade em Estoque\":50,\"Filial\":\"Filial 10\"},{\"Nome do Produto\":\"P\\u00f3 compacto\",\"Categoria do Produto\":\"Roupas\",\"Pre\\u00e7o do Produto (R$)\":58.54,\"Quantidade em Estoque\":97,\"Filial\":\"Filial 7\"},{\"Nome do Produto\":\"Batom l\\u00edquido\",\"Categoria do Produto\":\"Roupas\",\"Pre\\u00e7o do Produto (R$)\":95.19,\"Quantidade em Estoque\":62,\"Filial\":\"Filial 10\"},{\"Nome do Produto\":\"Batom matte\",\"Categoria do Produto\":\"Eletrodom\\u00e9sticos\",\"Pre\\u00e7o do Produto (R$)\":59.1,\"Quantidade em Estoque\":91,\"Filial\":\"Filial 3\"},{\"Nome do Produto\":\"Delineador l\\u00edquido\",\"Categoria do Produto\":\"Roupas\",\"Pre\\u00e7o do Produto (R$)\":15.03,\"Quantidade em Estoque\":81,\"Filial\":\"Filial 9\"},{\"Nome do Produto\":\"Base l\\u00edquida\",\"Categoria do Produto\":\"Alimentos\",\"Pre\\u00e7o do Produto (R$)\":55.72,\"Quantidade em Estoque\":63,\"Filial\":\"Filial 8\"},{\"Nome do Produto\":\"P\\u00f3 compacto\",\"Categoria do Produto\":\"Roupas\",\"Pre\\u00e7o do Produto (R$)\":86.99,\"Quantidade em Estoque\":46,\"Filial\":\"Filial 3\"},{\"Nome do Produto\":\"Batom matte\",\"Categoria do Produto\":\"Eletrodom\\u00e9sticos\",\"Pre\\u00e7o do Produto (R$)\":15.98,\"Quantidade em Estoque\":77,\"Filial\":\"Filial 8\"},{\"Nome do Produto\":\"M\\u00e1scara de c\\u00edlios\",\"Categoria do Produto\":\"Alimentos\",\"Pre\\u00e7o do Produto (R$)\":47.79,\"Quantidade em Estoque\":100,\"Filial\":\"Filial 4\"},{\"Nome do Produto\":\"P\\u00f3 compacto\",\"Categoria do Produto\":\"Eletr\\u00f4nicos\",\"Pre\\u00e7o do Produto (R$)\":6.86,\"Quantidade em Estoque\":18,\"Filial\":\"Filial 6\"},{\"Nome do Produto\":\"Sombra de olhos\",\"Categoria do Produto\":\"Eletrodom\\u00e9sticos\",\"Pre\\u00e7o do Produto (R$)\":26.8,\"Quantidade em Estoque\":16,\"Filial\":\"Filial 3\"},{\"Nome do Produto\":\"M\\u00e1scara de c\\u00edlios\",\"Categoria do Produto\":\"Eletrodom\\u00e9sticos\",\"Pre\\u00e7o do Produto (R$)\":77.79,\"Quantidade em Estoque\":93,\"Filial\":\"Filial 4\"},{\"Nome do Produto\":\"Blush em p\\u00f3\",\"Categoria do Produto\":\"Roupas\",\"Pre\\u00e7o do Produto (R$)\":77.83,\"Quantidade em Estoque\":44,\"Filial\":\"Filial 9\"},{\"Nome do Produto\":\"P\\u00f3 compacto\",\"Categoria do Produto\":\"Roupas\",\"Pre\\u00e7o do Produto (R$)\":30.29,\"Quantidade em Estoque\":12,\"Filial\":\"Filial 7\"},{\"Nome do Produto\":\"Batom l\\u00edquido\",\"Categoria do Produto\":\"Eletrodom\\u00e9sticos\",\"Pre\\u00e7o do Produto (R$)\":77.07,\"Quantidade em Estoque\":3,\"Filial\":\"Filial 10\"},{\"Nome do Produto\":\"Delineador l\\u00edquido\",\"Categoria do Produto\":\"Alimentos\",\"Pre\\u00e7o do Produto (R$)\":70.1,\"Quantidade em Estoque\":76,\"Filial\":\"Filial 1\"},{\"Nome do Produto\":\"Batom l\\u00edquido\",\"Categoria do Produto\":\"Eletrodom\\u00e9sticos\",\"Pre\\u00e7o do Produto (R$)\":25.77,\"Quantidade em Estoque\":50,\"Filial\":\"Filial 4\"},{\"Nome do Produto\":\"Corretivo\",\"Categoria do Produto\":\"Roupas\",\"Pre\\u00e7o do Produto (R$)\":25.73,\"Quantidade em Estoque\":66,\"Filial\":\"Filial 9\"},{\"Nome do Produto\":\"Corretivo\",\"Categoria do Produto\":\"Roupas\",\"Pre\\u00e7o do Produto (R$)\":75.11,\"Quantidade em Estoque\":16,\"Filial\":\"Filial 6\"},{\"Nome do Produto\":\"L\\u00e1pis de sobrancelha\",\"Categoria do Produto\":\"Eletrodom\\u00e9sticos\",\"Pre\\u00e7o do Produto (R$)\":19.01,\"Quantidade em Estoque\":23,\"Filial\":\"Filial 6\"},{\"Nome do Produto\":\"Delineador l\\u00edquido\",\"Categoria do Produto\":\"Eletr\\u00f4nicos\",\"Pre\\u00e7o do Produto (R$)\":5.43,\"Quantidade em Estoque\":7,\"Filial\":\"Filial 9\"},{\"Nome do Produto\":\"M\\u00e1scara de c\\u00edlios\",\"Categoria do Produto\":\"Eletrodom\\u00e9sticos\",\"Pre\\u00e7o do Produto (R$)\":16.32,\"Quantidade em Estoque\":79,\"Filial\":\"Filial 4\"},{\"Nome do Produto\":\"Batom l\\u00edquido\",\"Categoria do Produto\":\"Eletrodom\\u00e9sticos\",\"Pre\\u00e7o do Produto (R$)\":85.88,\"Quantidade em Estoque\":22,\"Filial\":\"Filial 7\"},{\"Nome do Produto\":\"Batom l\\u00edquido\",\"Categoria do Produto\":\"Eletrodom\\u00e9sticos\",\"Pre\\u00e7o do Produto (R$)\":67.69,\"Quantidade em Estoque\":41,\"Filial\":\"Filial 8\"},{\"Nome do Produto\":\"L\\u00e1pis de sobrancelha\",\"Categoria do Produto\":\"Alimentos\",\"Pre\\u00e7o do Produto (R$)\":40.17,\"Quantidade em Estoque\":93,\"Filial\":\"Filial 7\"},{\"Nome do Produto\":\"Base l\\u00edquida\",\"Categoria do Produto\":\"Eletr\\u00f4nicos\",\"Pre\\u00e7o do Produto (R$)\":44.57,\"Quantidade em Estoque\":97,\"Filial\":\"Filial 1\"},{\"Nome do Produto\":\"Batom matte\",\"Categoria do Produto\":\"Roupas\",\"Pre\\u00e7o do Produto (R$)\":78.84,\"Quantidade em Estoque\":58,\"Filial\":\"Filial 6\"},{\"Nome do Produto\":\"Base l\\u00edquida\",\"Categoria do Produto\":\"Alimentos\",\"Pre\\u00e7o do Produto (R$)\":40.7,\"Quantidade em Estoque\":54,\"Filial\":\"Filial 4\"},{\"Nome do Produto\":\"Batom l\\u00edquido\",\"Categoria do Produto\":\"Eletrodom\\u00e9sticos\",\"Pre\\u00e7o do Produto (R$)\":30.82,\"Quantidade em Estoque\":16,\"Filial\":\"Filial 7\"},{\"Nome do Produto\":\"Sombra de olhos\",\"Categoria do Produto\":\"Alimentos\",\"Pre\\u00e7o do Produto (R$)\":69.3,\"Quantidade em Estoque\":63,\"Filial\":\"Filial 4\"},{\"Nome do Produto\":\"Batom matte\",\"Categoria do Produto\":\"Alimentos\",\"Pre\\u00e7o do Produto (R$)\":38.61,\"Quantidade em Estoque\":53,\"Filial\":\"Filial 10\"},{\"Nome do Produto\":\"M\\u00e1scara de c\\u00edlios\",\"Categoria do Produto\":\"Roupas\",\"Pre\\u00e7o do Produto (R$)\":8.67,\"Quantidade em Estoque\":27,\"Filial\":\"Filial 3\"},{\"Nome do Produto\":\"Batom matte\",\"Categoria do Produto\":\"Alimentos\",\"Pre\\u00e7o do Produto (R$)\":69.51,\"Quantidade em Estoque\":16,\"Filial\":\"Filial 8\"},{\"Nome do Produto\":\"Base l\\u00edquida\",\"Categoria do Produto\":\"Roupas\",\"Pre\\u00e7o do Produto (R$)\":71.18,\"Quantidade em Estoque\":92,\"Filial\":\"Filial 6\"},{\"Nome do Produto\":\"L\\u00e1pis de sobrancelha\",\"Categoria do Produto\":\"Roupas\",\"Pre\\u00e7o do Produto (R$)\":67.5,\"Quantidade em Estoque\":57,\"Filial\":\"Filial 10\"},{\"Nome do Produto\":\"Base l\\u00edquida\",\"Categoria do Produto\":\"Alimentos\",\"Pre\\u00e7o do Produto (R$)\":87.87,\"Quantidade em Estoque\":78,\"Filial\":\"Filial 2\"},{\"Nome do Produto\":\"M\\u00e1scara de c\\u00edlios\",\"Categoria do Produto\":\"Eletrodom\\u00e9sticos\",\"Pre\\u00e7o do Produto (R$)\":48.48,\"Quantidade em Estoque\":99,\"Filial\":\"Filial 7\"},{\"Nome do Produto\":\"Delineador l\\u00edquido\",\"Categoria do Produto\":\"Roupas\",\"Pre\\u00e7o do Produto (R$)\":35.71,\"Quantidade em Estoque\":29,\"Filial\":\"Filial 6\"},{\"Nome do Produto\":\"M\\u00e1scara de c\\u00edlios\",\"Categoria do Produto\":\"Roupas\",\"Pre\\u00e7o do Produto (R$)\":97.54,\"Quantidade em Estoque\":50,\"Filial\":\"Filial 6\"},{\"Nome do Produto\":\"Base l\\u00edquida\",\"Categoria do Produto\":\"Eletrodom\\u00e9sticos\",\"Pre\\u00e7o do Produto (R$)\":42.93,\"Quantidade em Estoque\":6,\"Filial\":\"Filial 3\"},{\"Nome do Produto\":\"Sombra de olhos\",\"Categoria do Produto\":\"Eletrodom\\u00e9sticos\",\"Pre\\u00e7o do Produto (R$)\":47.37,\"Quantidade em Estoque\":84,\"Filial\":\"Filial 10\"},{\"Nome do Produto\":\"Delineador l\\u00edquido\",\"Categoria do Produto\":\"Eletrodom\\u00e9sticos\",\"Pre\\u00e7o do Produto (R$)\":79.11,\"Quantidade em Estoque\":65,\"Filial\":\"Filial 4\"},{\"Nome do Produto\":\"Batom l\\u00edquido\",\"Categoria do Produto\":\"Eletr\\u00f4nicos\",\"Pre\\u00e7o do Produto (R$)\":46.14,\"Quantidade em Estoque\":79,\"Filial\":\"Filial 7\"},{\"Nome do Produto\":\"M\\u00e1scara de c\\u00edlios\",\"Categoria do Produto\":\"Eletr\\u00f4nicos\",\"Pre\\u00e7o do Produto (R$)\":49.24,\"Quantidade em Estoque\":87,\"Filial\":\"Filial 6\"},{\"Nome do Produto\":\"M\\u00e1scara de c\\u00edlios\",\"Categoria do Produto\":\"Alimentos\",\"Pre\\u00e7o do Produto (R$)\":33.67,\"Quantidade em Estoque\":67,\"Filial\":\"Filial 9\"},{\"Nome do Produto\":\"L\\u00e1pis de sobrancelha\",\"Categoria do Produto\":\"Alimentos\",\"Pre\\u00e7o do Produto (R$)\":65.0,\"Quantidade em Estoque\":68,\"Filial\":\"Filial 8\"},{\"Nome do Produto\":\"Sombra de olhos\",\"Categoria do Produto\":\"Eletrodom\\u00e9sticos\",\"Pre\\u00e7o do Produto (R$)\":69.59,\"Quantidade em Estoque\":5,\"Filial\":\"Filial 1\"},{\"Nome do Produto\":\"L\\u00e1pis de sobrancelha\",\"Categoria do Produto\":\"Roupas\",\"Pre\\u00e7o do Produto (R$)\":88.51,\"Quantidade em Estoque\":36,\"Filial\":\"Filial 7\"},{\"Nome do Produto\":\"Batom l\\u00edquido\",\"Categoria do Produto\":\"Eletr\\u00f4nicos\",\"Pre\\u00e7o do Produto (R$)\":67.07,\"Quantidade em Estoque\":46,\"Filial\":\"Filial 6\"},{\"Nome do Produto\":\"M\\u00e1scara de c\\u00edlios\",\"Categoria do Produto\":\"Alimentos\",\"Pre\\u00e7o do Produto (R$)\":46.34,\"Quantidade em Estoque\":82,\"Filial\":\"Filial 2\"},{\"Nome do Produto\":\"Sombra de olhos\",\"Categoria do Produto\":\"Eletr\\u00f4nicos\",\"Pre\\u00e7o do Produto (R$)\":49.09,\"Quantidade em Estoque\":95,\"Filial\":\"Filial 9\"},{\"Nome do Produto\":\"Blush em p\\u00f3\",\"Categoria do Produto\":\"Eletr\\u00f4nicos\",\"Pre\\u00e7o do Produto (R$)\":56.6,\"Quantidade em Estoque\":5,\"Filial\":\"Filial 3\"},{\"Nome do Produto\":\"Corretivo\",\"Categoria do Produto\":\"Alimentos\",\"Pre\\u00e7o do Produto (R$)\":47.4,\"Quantidade em Estoque\":93,\"Filial\":\"Filial 6\"},{\"Nome do Produto\":\"Batom l\\u00edquido\",\"Categoria do Produto\":\"Eletr\\u00f4nicos\",\"Pre\\u00e7o do Produto (R$)\":8.72,\"Quantidade em Estoque\":86,\"Filial\":\"Filial 10\"},{\"Nome do Produto\":\"Batom l\\u00edquido\",\"Categoria do Produto\":\"Eletrodom\\u00e9sticos\",\"Pre\\u00e7o do Produto (R$)\":31.81,\"Quantidade em Estoque\":50,\"Filial\":\"Filial 9\"},{\"Nome do Produto\":\"Base l\\u00edquida\",\"Categoria do Produto\":\"Eletr\\u00f4nicos\",\"Pre\\u00e7o do Produto (R$)\":48.47,\"Quantidade em Estoque\":27,\"Filial\":\"Filial 8\"},{\"Nome do Produto\":\"Batom matte\",\"Categoria do Produto\":\"Eletr\\u00f4nicos\",\"Pre\\u00e7o do Produto (R$)\":73.06,\"Quantidade em Estoque\":83,\"Filial\":\"Filial 9\"},{\"Nome do Produto\":\"Batom matte\",\"Categoria do Produto\":\"Eletrodom\\u00e9sticos\",\"Pre\\u00e7o do Produto (R$)\":3.96,\"Quantidade em Estoque\":16,\"Filial\":\"Filial 1\"},{\"Nome do Produto\":\"Sombra de olhos\",\"Categoria do Produto\":\"Roupas\",\"Pre\\u00e7o do Produto (R$)\":34.02,\"Quantidade em Estoque\":22,\"Filial\":\"Filial 7\"},{\"Nome do Produto\":\"Batom matte\",\"Categoria do Produto\":\"Alimentos\",\"Pre\\u00e7o do Produto (R$)\":51.43,\"Quantidade em Estoque\":54,\"Filial\":\"Filial 3\"},{\"Nome do Produto\":\"Delineador l\\u00edquido\",\"Categoria do Produto\":\"Eletr\\u00f4nicos\",\"Pre\\u00e7o do Produto (R$)\":67.99,\"Quantidade em Estoque\":49,\"Filial\":\"Filial 5\"},{\"Nome do Produto\":\"Base l\\u00edquida\",\"Categoria do Produto\":\"Eletrodom\\u00e9sticos\",\"Pre\\u00e7o do Produto (R$)\":10.83,\"Quantidade em Estoque\":81,\"Filial\":\"Filial 1\"},{\"Nome do Produto\":\"P\\u00f3 compacto\",\"Categoria do Produto\":\"Alimentos\",\"Pre\\u00e7o do Produto (R$)\":99.56,\"Quantidade em Estoque\":93,\"Filial\":\"Filial 5\"},{\"Nome do Produto\":\"M\\u00e1scara de c\\u00edlios\",\"Categoria do Produto\":\"Roupas\",\"Pre\\u00e7o do Produto (R$)\":99.0,\"Quantidade em Estoque\":49,\"Filial\":\"Filial 6\"},{\"Nome do Produto\":\"Blush em p\\u00f3\",\"Categoria do Produto\":\"Eletrodom\\u00e9sticos\",\"Pre\\u00e7o do Produto (R$)\":11.88,\"Quantidade em Estoque\":80,\"Filial\":\"Filial 3\"},{\"Nome do Produto\":\"Blush em p\\u00f3\",\"Categoria do Produto\":\"Eletrodom\\u00e9sticos\",\"Pre\\u00e7o do Produto (R$)\":74.43,\"Quantidade em Estoque\":43,\"Filial\":\"Filial 2\"},{\"Nome do Produto\":\"Corretivo\",\"Categoria do Produto\":\"Eletrodom\\u00e9sticos\",\"Pre\\u00e7o do Produto (R$)\":22.2,\"Quantidade em Estoque\":52,\"Filial\":\"Filial 2\"},{\"Nome do Produto\":\"Batom l\\u00edquido\",\"Categoria do Produto\":\"Eletr\\u00f4nicos\",\"Pre\\u00e7o do Produto (R$)\":99.25,\"Quantidade em Estoque\":68,\"Filial\":\"Filial 7\"},{\"Nome do Produto\":\"M\\u00e1scara de c\\u00edlios\",\"Categoria do Produto\":\"Alimentos\",\"Pre\\u00e7o do Produto (R$)\":53.44,\"Quantidade em Estoque\":95,\"Filial\":\"Filial 8\"},{\"Nome do Produto\":\"M\\u00e1scara de c\\u00edlios\",\"Categoria do Produto\":\"Alimentos\",\"Pre\\u00e7o do Produto (R$)\":74.01,\"Quantidade em Estoque\":36,\"Filial\":\"Filial 1\"},{\"Nome do Produto\":\"Corretivo\",\"Categoria do Produto\":\"Eletr\\u00f4nicos\",\"Pre\\u00e7o do Produto (R$)\":46.29,\"Quantidade em Estoque\":46,\"Filial\":\"Filial 2\"},{\"Nome do Produto\":\"Base l\\u00edquida\",\"Categoria do Produto\":\"Eletrodom\\u00e9sticos\",\"Pre\\u00e7o do Produto (R$)\":73.61,\"Quantidade em Estoque\":67,\"Filial\":\"Filial 10\"},{\"Nome do Produto\":\"Base l\\u00edquida\",\"Categoria do Produto\":\"Eletrodom\\u00e9sticos\",\"Pre\\u00e7o do Produto (R$)\":97.09,\"Quantidade em Estoque\":60,\"Filial\":\"Filial 6\"},{\"Nome do Produto\":\"Delineador l\\u00edquido\",\"Categoria do Produto\":\"Roupas\",\"Pre\\u00e7o do Produto (R$)\":14.21,\"Quantidade em Estoque\":95,\"Filial\":\"Filial 2\"},{\"Nome do Produto\":\"Blush em p\\u00f3\",\"Categoria do Produto\":\"Eletr\\u00f4nicos\",\"Pre\\u00e7o do Produto (R$)\":30.63,\"Quantidade em Estoque\":55,\"Filial\":\"Filial 6\"},{\"Nome do Produto\":\"Sombra de olhos\",\"Categoria do Produto\":\"Eletrodom\\u00e9sticos\",\"Pre\\u00e7o do Produto (R$)\":63.4,\"Quantidade em Estoque\":80,\"Filial\":\"Filial 6\"},{\"Nome do Produto\":\"Delineador l\\u00edquido\",\"Categoria do Produto\":\"Roupas\",\"Pre\\u00e7o do Produto (R$)\":93.61,\"Quantidade em Estoque\":38,\"Filial\":\"Filial 3\"},{\"Nome do Produto\":\"Delineador l\\u00edquido\",\"Categoria do Produto\":\"Eletrodom\\u00e9sticos\",\"Pre\\u00e7o do Produto (R$)\":20.69,\"Quantidade em Estoque\":39,\"Filial\":\"Filial 3\"},{\"Nome do Produto\":\"Corretivo\",\"Categoria do Produto\":\"Alimentos\",\"Pre\\u00e7o do Produto (R$)\":51.76,\"Quantidade em Estoque\":95,\"Filial\":\"Filial 9\"},{\"Nome do Produto\":\"Corretivo\",\"Categoria do Produto\":\"Eletrodom\\u00e9sticos\",\"Pre\\u00e7o do Produto (R$)\":85.93,\"Quantidade em Estoque\":85,\"Filial\":\"Filial 6\"},{\"Nome do Produto\":\"Sombra de olhos\",\"Categoria do Produto\":\"Roupas\",\"Pre\\u00e7o do Produto (R$)\":81.53,\"Quantidade em Estoque\":55,\"Filial\":\"Filial 5\"},{\"Nome do Produto\":\"Blush em p\\u00f3\",\"Categoria do Produto\":\"Eletrodom\\u00e9sticos\",\"Pre\\u00e7o do Produto (R$)\":82.33,\"Quantidade em Estoque\":16,\"Filial\":\"Filial 4\"},{\"Nome do Produto\":\"M\\u00e1scara de c\\u00edlios\",\"Categoria do Produto\":\"Eletrodom\\u00e9sticos\",\"Pre\\u00e7o do Produto (R$)\":58.16,\"Quantidade em Estoque\":44,\"Filial\":\"Filial 2\"},{\"Nome do Produto\":\"Base l\\u00edquida\",\"Categoria do Produto\":\"Roupas\",\"Pre\\u00e7o do Produto (R$)\":6.89,\"Quantidade em Estoque\":21,\"Filial\":\"Filial 1\"},{\"Nome do Produto\":\"L\\u00e1pis de sobrancelha\",\"Categoria do Produto\":\"Eletr\\u00f4nicos\",\"Pre\\u00e7o do Produto (R$)\":71.65,\"Quantidade em Estoque\":13,\"Filial\":\"Filial 7\"},{\"Nome do Produto\":\"M\\u00e1scara de c\\u00edlios\",\"Categoria do Produto\":\"Eletrodom\\u00e9sticos\",\"Pre\\u00e7o do Produto (R$)\":35.07,\"Quantidade em Estoque\":99,\"Filial\":\"Filial 8\"},{\"Nome do Produto\":\"Sombra de olhos\",\"Categoria do Produto\":\"Alimentos\",\"Pre\\u00e7o do Produto (R$)\":75.16,\"Quantidade em Estoque\":16,\"Filial\":\"Filial 8\"},{\"Nome do Produto\":\"M\\u00e1scara de c\\u00edlios\",\"Categoria do Produto\":\"Roupas\",\"Pre\\u00e7o do Produto (R$)\":26.08,\"Quantidade em Estoque\":69,\"Filial\":\"Filial 7\"},{\"Nome do Produto\":\"Corretivo\",\"Categoria do Produto\":\"Alimentos\",\"Pre\\u00e7o do Produto (R$)\":46.74,\"Quantidade em Estoque\":24,\"Filial\":\"Filial 9\"},{\"Nome do Produto\":\"Sombra de olhos\",\"Categoria do Produto\":\"Alimentos\",\"Pre\\u00e7o do Produto (R$)\":4.89,\"Quantidade em Estoque\":74,\"Filial\":\"Filial 2\"},{\"Nome do Produto\":\"P\\u00f3 compacto\",\"Categoria do Produto\":\"Alimentos\",\"Pre\\u00e7o do Produto (R$)\":57.44,\"Quantidade em Estoque\":81,\"Filial\":\"Filial 1\"},{\"Nome do Produto\":\"L\\u00e1pis de sobrancelha\",\"Categoria do Produto\":\"Alimentos\",\"Pre\\u00e7o do Produto (R$)\":42.24,\"Quantidade em Estoque\":51,\"Filial\":\"Filial 6\"},{\"Nome do Produto\":\"Delineador l\\u00edquido\",\"Categoria do Produto\":\"Eletrodom\\u00e9sticos\",\"Pre\\u00e7o do Produto (R$)\":64.43,\"Quantidade em Estoque\":1,\"Filial\":\"Filial 7\"},{\"Nome do Produto\":\"Batom l\\u00edquido\",\"Categoria do Produto\":\"Roupas\",\"Pre\\u00e7o do Produto (R$)\":17.35,\"Quantidade em Estoque\":42,\"Filial\":\"Filial 6\"},{\"Nome do Produto\":\"Corretivo\",\"Categoria do Produto\":\"Eletr\\u00f4nicos\",\"Pre\\u00e7o do Produto (R$)\":87.3,\"Quantidade em Estoque\":61,\"Filial\":\"Filial 3\"},{\"Nome do Produto\":\"Corretivo\",\"Categoria do Produto\":\"Eletr\\u00f4nicos\",\"Pre\\u00e7o do Produto (R$)\":66.99,\"Quantidade em Estoque\":35,\"Filial\":\"Filial 1\"},{\"Nome do Produto\":\"Sombra de olhos\",\"Categoria do Produto\":\"Eletrodom\\u00e9sticos\",\"Pre\\u00e7o do Produto (R$)\":58.01,\"Quantidade em Estoque\":1,\"Filial\":\"Filial 6\"},{\"Nome do Produto\":\"Base l\\u00edquida\",\"Categoria do Produto\":\"Eletr\\u00f4nicos\",\"Pre\\u00e7o do Produto (R$)\":71.51,\"Quantidade em Estoque\":4,\"Filial\":\"Filial 6\"},{\"Nome do Produto\":\"Batom l\\u00edquido\",\"Categoria do Produto\":\"Eletrodom\\u00e9sticos\",\"Pre\\u00e7o do Produto (R$)\":30.01,\"Quantidade em Estoque\":29,\"Filial\":\"Filial 8\"},{\"Nome do Produto\":\"M\\u00e1scara de c\\u00edlios\",\"Categoria do Produto\":\"Roupas\",\"Pre\\u00e7o do Produto (R$)\":14.37,\"Quantidade em Estoque\":87,\"Filial\":\"Filial 7\"},{\"Nome do Produto\":\"Corretivo\",\"Categoria do Produto\":\"Roupas\",\"Pre\\u00e7o do Produto (R$)\":84.7,\"Quantidade em Estoque\":87,\"Filial\":\"Filial 5\"},{\"Nome do Produto\":\"M\\u00e1scara de c\\u00edlios\",\"Categoria do Produto\":\"Roupas\",\"Pre\\u00e7o do Produto (R$)\":70.02,\"Quantidade em Estoque\":97,\"Filial\":\"Filial 6\"},{\"Nome do Produto\":\"P\\u00f3 compacto\",\"Categoria do Produto\":\"Eletr\\u00f4nicos\",\"Pre\\u00e7o do Produto (R$)\":91.96,\"Quantidade em Estoque\":84,\"Filial\":\"Filial 7\"},{\"Nome do Produto\":\"Blush em p\\u00f3\",\"Categoria do Produto\":\"Eletrodom\\u00e9sticos\",\"Pre\\u00e7o do Produto (R$)\":32.77,\"Quantidade em Estoque\":8,\"Filial\":\"Filial 10\"},{\"Nome do Produto\":\"Delineador l\\u00edquido\",\"Categoria do Produto\":\"Roupas\",\"Pre\\u00e7o do Produto (R$)\":65.86,\"Quantidade em Estoque\":67,\"Filial\":\"Filial 8\"},{\"Nome do Produto\":\"M\\u00e1scara de c\\u00edlios\",\"Categoria do Produto\":\"Eletrodom\\u00e9sticos\",\"Pre\\u00e7o do Produto (R$)\":26.49,\"Quantidade em Estoque\":6,\"Filial\":\"Filial 1\"},{\"Nome do Produto\":\"L\\u00e1pis de sobrancelha\",\"Categoria do Produto\":\"Eletr\\u00f4nicos\",\"Pre\\u00e7o do Produto (R$)\":51.68,\"Quantidade em Estoque\":59,\"Filial\":\"Filial 8\"},{\"Nome do Produto\":\"Batom l\\u00edquido\",\"Categoria do Produto\":\"Eletrodom\\u00e9sticos\",\"Pre\\u00e7o do Produto (R$)\":72.73,\"Quantidade em Estoque\":54,\"Filial\":\"Filial 10\"},{\"Nome do Produto\":\"Base l\\u00edquida\",\"Categoria do Produto\":\"Roupas\",\"Pre\\u00e7o do Produto (R$)\":57.97,\"Quantidade em Estoque\":52,\"Filial\":\"Filial 4\"},{\"Nome do Produto\":\"M\\u00e1scara de c\\u00edlios\",\"Categoria do Produto\":\"Alimentos\",\"Pre\\u00e7o do Produto (R$)\":44.99,\"Quantidade em Estoque\":16,\"Filial\":\"Filial 8\"},{\"Nome do Produto\":\"P\\u00f3 compacto\",\"Categoria do Produto\":\"Eletr\\u00f4nicos\",\"Pre\\u00e7o do Produto (R$)\":97.49,\"Quantidade em Estoque\":84,\"Filial\":\"Filial 3\"},{\"Nome do Produto\":\"Corretivo\",\"Categoria do Produto\":\"Alimentos\",\"Pre\\u00e7o do Produto (R$)\":18.05,\"Quantidade em Estoque\":52,\"Filial\":\"Filial 3\"},{\"Nome do Produto\":\"Corretivo\",\"Categoria do Produto\":\"Alimentos\",\"Pre\\u00e7o do Produto (R$)\":98.43,\"Quantidade em Estoque\":94,\"Filial\":\"Filial 2\"},{\"Nome do Produto\":\"Batom matte\",\"Categoria do Produto\":\"Eletr\\u00f4nicos\",\"Pre\\u00e7o do Produto (R$)\":40.29,\"Quantidade em Estoque\":65,\"Filial\":\"Filial 6\"},{\"Nome do Produto\":\"Blush em p\\u00f3\",\"Categoria do Produto\":\"Alimentos\",\"Pre\\u00e7o do Produto (R$)\":10.61,\"Quantidade em Estoque\":37,\"Filial\":\"Filial 1\"},{\"Nome do Produto\":\"P\\u00f3 compacto\",\"Categoria do Produto\":\"Eletrodom\\u00e9sticos\",\"Pre\\u00e7o do Produto (R$)\":69.3,\"Quantidade em Estoque\":85,\"Filial\":\"Filial 7\"},{\"Nome do Produto\":\"Corretivo\",\"Categoria do Produto\":\"Roupas\",\"Pre\\u00e7o do Produto (R$)\":92.32,\"Quantidade em Estoque\":50,\"Filial\":\"Filial 5\"},{\"Nome do Produto\":\"Delineador l\\u00edquido\",\"Categoria do Produto\":\"Eletrodom\\u00e9sticos\",\"Pre\\u00e7o do Produto (R$)\":35.15,\"Quantidade em Estoque\":18,\"Filial\":\"Filial 10\"},{\"Nome do Produto\":\"M\\u00e1scara de c\\u00edlios\",\"Categoria do Produto\":\"Alimentos\",\"Pre\\u00e7o do Produto (R$)\":21.86,\"Quantidade em Estoque\":53,\"Filial\":\"Filial 4\"},{\"Nome do Produto\":\"Corretivo\",\"Categoria do Produto\":\"Roupas\",\"Pre\\u00e7o do Produto (R$)\":67.9,\"Quantidade em Estoque\":66,\"Filial\":\"Filial 9\"},{\"Nome do Produto\":\"Delineador l\\u00edquido\",\"Categoria do Produto\":\"Alimentos\",\"Pre\\u00e7o do Produto (R$)\":30.1,\"Quantidade em Estoque\":39,\"Filial\":\"Filial 2\"},{\"Nome do Produto\":\"Blush em p\\u00f3\",\"Categoria do Produto\":\"Eletrodom\\u00e9sticos\",\"Pre\\u00e7o do Produto (R$)\":88.59,\"Quantidade em Estoque\":16,\"Filial\":\"Filial 4\"},{\"Nome do Produto\":\"Blush em p\\u00f3\",\"Categoria do Produto\":\"Eletrodom\\u00e9sticos\",\"Pre\\u00e7o do Produto (R$)\":2.74,\"Quantidade em Estoque\":42,\"Filial\":\"Filial 3\"},{\"Nome do Produto\":\"Delineador l\\u00edquido\",\"Categoria do Produto\":\"Eletr\\u00f4nicos\",\"Pre\\u00e7o do Produto (R$)\":86.85,\"Quantidade em Estoque\":75,\"Filial\":\"Filial 1\"},{\"Nome do Produto\":\"Batom l\\u00edquido\",\"Categoria do Produto\":\"Roupas\",\"Pre\\u00e7o do Produto (R$)\":72.92,\"Quantidade em Estoque\":24,\"Filial\":\"Filial 10\"},{\"Nome do Produto\":\"Corretivo\",\"Categoria do Produto\":\"Roupas\",\"Pre\\u00e7o do Produto (R$)\":23.68,\"Quantidade em Estoque\":62,\"Filial\":\"Filial 2\"},{\"Nome do Produto\":\"Base l\\u00edquida\",\"Categoria do Produto\":\"Eletr\\u00f4nicos\",\"Pre\\u00e7o do Produto (R$)\":21.6,\"Quantidade em Estoque\":62,\"Filial\":\"Filial 3\"},{\"Nome do Produto\":\"L\\u00e1pis de sobrancelha\",\"Categoria do Produto\":\"Alimentos\",\"Pre\\u00e7o do Produto (R$)\":54.23,\"Quantidade em Estoque\":98,\"Filial\":\"Filial 5\"},{\"Nome do Produto\":\"Corretivo\",\"Categoria do Produto\":\"Alimentos\",\"Pre\\u00e7o do Produto (R$)\":36.52,\"Quantidade em Estoque\":13,\"Filial\":\"Filial 8\"},{\"Nome do Produto\":\"Batom matte\",\"Categoria do Produto\":\"Roupas\",\"Pre\\u00e7o do Produto (R$)\":78.22,\"Quantidade em Estoque\":34,\"Filial\":\"Filial 7\"},{\"Nome do Produto\":\"P\\u00f3 compacto\",\"Categoria do Produto\":\"Eletr\\u00f4nicos\",\"Pre\\u00e7o do Produto (R$)\":71.95,\"Quantidade em Estoque\":79,\"Filial\":\"Filial 9\"},{\"Nome do Produto\":\"Corretivo\",\"Categoria do Produto\":\"Roupas\",\"Pre\\u00e7o do Produto (R$)\":47.84,\"Quantidade em Estoque\":2,\"Filial\":\"Filial 7\"},{\"Nome do Produto\":\"Batom matte\",\"Categoria do Produto\":\"Eletrodom\\u00e9sticos\",\"Pre\\u00e7o do Produto (R$)\":3.42,\"Quantidade em Estoque\":97,\"Filial\":\"Filial 2\"},{\"Nome do Produto\":\"Batom matte\",\"Categoria do Produto\":\"Alimentos\",\"Pre\\u00e7o do Produto (R$)\":78.97,\"Quantidade em Estoque\":49,\"Filial\":\"Filial 2\"},{\"Nome do Produto\":\"Blush em p\\u00f3\",\"Categoria do Produto\":\"Eletr\\u00f4nicos\",\"Pre\\u00e7o do Produto (R$)\":72.08,\"Quantidade em Estoque\":41,\"Filial\":\"Filial 7\"},{\"Nome do Produto\":\"P\\u00f3 compacto\",\"Categoria do Produto\":\"Alimentos\",\"Pre\\u00e7o do Produto (R$)\":97.3,\"Quantidade em Estoque\":1,\"Filial\":\"Filial 4\"},{\"Nome do Produto\":\"Batom l\\u00edquido\",\"Categoria do Produto\":\"Roupas\",\"Pre\\u00e7o do Produto (R$)\":41.19,\"Quantidade em Estoque\":95,\"Filial\":\"Filial 9\"},{\"Nome do Produto\":\"Delineador l\\u00edquido\",\"Categoria do Produto\":\"Roupas\",\"Pre\\u00e7o do Produto (R$)\":74.21,\"Quantidade em Estoque\":54,\"Filial\":\"Filial 10\"},{\"Nome do Produto\":\"Sombra de olhos\",\"Categoria do Produto\":\"Eletrodom\\u00e9sticos\",\"Pre\\u00e7o do Produto (R$)\":27.09,\"Quantidade em Estoque\":51,\"Filial\":\"Filial 2\"},{\"Nome do Produto\":\"M\\u00e1scara de c\\u00edlios\",\"Categoria do Produto\":\"Alimentos\",\"Pre\\u00e7o do Produto (R$)\":61.36,\"Quantidade em Estoque\":92,\"Filial\":\"Filial 5\"},{\"Nome do Produto\":\"Batom matte\",\"Categoria do Produto\":\"Roupas\",\"Pre\\u00e7o do Produto (R$)\":71.06,\"Quantidade em Estoque\":55,\"Filial\":\"Filial 4\"},{\"Nome do Produto\":\"Corretivo\",\"Categoria do Produto\":\"Eletrodom\\u00e9sticos\",\"Pre\\u00e7o do Produto (R$)\":74.97,\"Quantidade em Estoque\":74,\"Filial\":\"Filial 4\"},{\"Nome do Produto\":\"Batom matte\",\"Categoria do Produto\":\"Eletrodom\\u00e9sticos\",\"Pre\\u00e7o do Produto (R$)\":76.49,\"Quantidade em Estoque\":77,\"Filial\":\"Filial 7\"},{\"Nome do Produto\":\"Base l\\u00edquida\",\"Categoria do Produto\":\"Eletrodom\\u00e9sticos\",\"Pre\\u00e7o do Produto (R$)\":77.61,\"Quantidade em Estoque\":74,\"Filial\":\"Filial 4\"},{\"Nome do Produto\":\"Sombra de olhos\",\"Categoria do Produto\":\"Eletrodom\\u00e9sticos\",\"Pre\\u00e7o do Produto (R$)\":43.71,\"Quantidade em Estoque\":86,\"Filial\":\"Filial 3\"},{\"Nome do Produto\":\"Sombra de olhos\",\"Categoria do Produto\":\"Eletr\\u00f4nicos\",\"Pre\\u00e7o do Produto (R$)\":66.16,\"Quantidade em Estoque\":56,\"Filial\":\"Filial 3\"},{\"Nome do Produto\":\"Blush em p\\u00f3\",\"Categoria do Produto\":\"Eletr\\u00f4nicos\",\"Pre\\u00e7o do Produto (R$)\":89.24,\"Quantidade em Estoque\":75,\"Filial\":\"Filial 4\"},{\"Nome do Produto\":\"M\\u00e1scara de c\\u00edlios\",\"Categoria do Produto\":\"Alimentos\",\"Pre\\u00e7o do Produto (R$)\":87.67,\"Quantidade em Estoque\":73,\"Filial\":\"Filial 2\"},{\"Nome do Produto\":\"Blush em p\\u00f3\",\"Categoria do Produto\":\"Eletrodom\\u00e9sticos\",\"Pre\\u00e7o do Produto (R$)\":50.51,\"Quantidade em Estoque\":41,\"Filial\":\"Filial 5\"},{\"Nome do Produto\":\"Corretivo\",\"Categoria do Produto\":\"Eletrodom\\u00e9sticos\",\"Pre\\u00e7o do Produto (R$)\":30.47,\"Quantidade em Estoque\":49,\"Filial\":\"Filial 9\"},{\"Nome do Produto\":\"Delineador l\\u00edquido\",\"Categoria do Produto\":\"Alimentos\",\"Pre\\u00e7o do Produto (R$)\":61.53,\"Quantidade em Estoque\":77,\"Filial\":\"Filial 8\"},{\"Nome do Produto\":\"Sombra de olhos\",\"Categoria do Produto\":\"Alimentos\",\"Pre\\u00e7o do Produto (R$)\":26.48,\"Quantidade em Estoque\":59,\"Filial\":\"Filial 5\"},{\"Nome do Produto\":\"Delineador l\\u00edquido\",\"Categoria do Produto\":\"Eletr\\u00f4nicos\",\"Pre\\u00e7o do Produto (R$)\":84.12,\"Quantidade em Estoque\":85,\"Filial\":\"Filial 5\"},{\"Nome do Produto\":\"P\\u00f3 compacto\",\"Categoria do Produto\":\"Alimentos\",\"Pre\\u00e7o do Produto (R$)\":18.25,\"Quantidade em Estoque\":50,\"Filial\":\"Filial 5\"},{\"Nome do Produto\":\"Batom matte\",\"Categoria do Produto\":\"Eletrodom\\u00e9sticos\",\"Pre\\u00e7o do Produto (R$)\":56.97,\"Quantidade em Estoque\":29,\"Filial\":\"Filial 1\"},{\"Nome do Produto\":\"P\\u00f3 compacto\",\"Categoria do Produto\":\"Eletrodom\\u00e9sticos\",\"Pre\\u00e7o do Produto (R$)\":73.06,\"Quantidade em Estoque\":72,\"Filial\":\"Filial 9\"},{\"Nome do Produto\":\"Sombra de olhos\",\"Categoria do Produto\":\"Eletr\\u00f4nicos\",\"Pre\\u00e7o do Produto (R$)\":3.33,\"Quantidade em Estoque\":98,\"Filial\":\"Filial 8\"},{\"Nome do Produto\":\"P\\u00f3 compacto\",\"Categoria do Produto\":\"Roupas\",\"Pre\\u00e7o do Produto (R$)\":96.49,\"Quantidade em Estoque\":73,\"Filial\":\"Filial 5\"},{\"Nome do Produto\":\"Base l\\u00edquida\",\"Categoria do Produto\":\"Eletr\\u00f4nicos\",\"Pre\\u00e7o do Produto (R$)\":56.35,\"Quantidade em Estoque\":21,\"Filial\":\"Filial 1\"},{\"Nome do Produto\":\"Base l\\u00edquida\",\"Categoria do Produto\":\"Eletr\\u00f4nicos\",\"Pre\\u00e7o do Produto (R$)\":56.08,\"Quantidade em Estoque\":97,\"Filial\":\"Filial 10\"},{\"Nome do Produto\":\"L\\u00e1pis de sobrancelha\",\"Categoria do Produto\":\"Roupas\",\"Pre\\u00e7o do Produto (R$)\":37.73,\"Quantidade em Estoque\":34,\"Filial\":\"Filial 4\"},{\"Nome do Produto\":\"Batom matte\",\"Categoria do Produto\":\"Eletrodom\\u00e9sticos\",\"Pre\\u00e7o do Produto (R$)\":78.28,\"Quantidade em Estoque\":93,\"Filial\":\"Filial 2\"},{\"Nome do Produto\":\"Blush em p\\u00f3\",\"Categoria do Produto\":\"Eletr\\u00f4nicos\",\"Pre\\u00e7o do Produto (R$)\":14.36,\"Quantidade em Estoque\":64,\"Filial\":\"Filial 7\"},{\"Nome do Produto\":\"Batom l\\u00edquido\",\"Categoria do Produto\":\"Eletr\\u00f4nicos\",\"Pre\\u00e7o do Produto (R$)\":32.07,\"Quantidade em Estoque\":14,\"Filial\":\"Filial 1\"},{\"Nome do Produto\":\"Batom matte\",\"Categoria do Produto\":\"Alimentos\",\"Pre\\u00e7o do Produto (R$)\":18.46,\"Quantidade em Estoque\":15,\"Filial\":\"Filial 6\"},{\"Nome do Produto\":\"Base l\\u00edquida\",\"Categoria do Produto\":\"Eletrodom\\u00e9sticos\",\"Pre\\u00e7o do Produto (R$)\":54.77,\"Quantidade em Estoque\":57,\"Filial\":\"Filial 3\"},{\"Nome do Produto\":\"Blush em p\\u00f3\",\"Categoria do Produto\":\"Eletrodom\\u00e9sticos\",\"Pre\\u00e7o do Produto (R$)\":87.28,\"Quantidade em Estoque\":48,\"Filial\":\"Filial 8\"},{\"Nome do Produto\":\"Corretivo\",\"Categoria do Produto\":\"Eletr\\u00f4nicos\",\"Pre\\u00e7o do Produto (R$)\":8.73,\"Quantidade em Estoque\":76,\"Filial\":\"Filial 2\"},{\"Nome do Produto\":\"Sombra de olhos\",\"Categoria do Produto\":\"Eletrodom\\u00e9sticos\",\"Pre\\u00e7o do Produto (R$)\":70.62,\"Quantidade em Estoque\":36,\"Filial\":\"Filial 6\"},{\"Nome do Produto\":\"Blush em p\\u00f3\",\"Categoria do Produto\":\"Alimentos\",\"Pre\\u00e7o do Produto (R$)\":6.83,\"Quantidade em Estoque\":92,\"Filial\":\"Filial 4\"},{\"Nome do Produto\":\"Delineador l\\u00edquido\",\"Categoria do Produto\":\"Eletr\\u00f4nicos\",\"Pre\\u00e7o do Produto (R$)\":53.86,\"Quantidade em Estoque\":99,\"Filial\":\"Filial 4\"},{\"Nome do Produto\":\"Batom matte\",\"Categoria do Produto\":\"Eletr\\u00f4nicos\",\"Pre\\u00e7o do Produto (R$)\":66.48,\"Quantidade em Estoque\":66,\"Filial\":\"Filial 8\"},{\"Nome do Produto\":\"P\\u00f3 compacto\",\"Categoria do Produto\":\"Alimentos\",\"Pre\\u00e7o do Produto (R$)\":99.19,\"Quantidade em Estoque\":28,\"Filial\":\"Filial 7\"},{\"Nome do Produto\":\"Delineador l\\u00edquido\",\"Categoria do Produto\":\"Alimentos\",\"Pre\\u00e7o do Produto (R$)\":12.09,\"Quantidade em Estoque\":17,\"Filial\":\"Filial 5\"},{\"Nome do Produto\":\"M\\u00e1scara de c\\u00edlios\",\"Categoria do Produto\":\"Alimentos\",\"Pre\\u00e7o do Produto (R$)\":48.19,\"Quantidade em Estoque\":67,\"Filial\":\"Filial 5\"},{\"Nome do Produto\":\"Corretivo\",\"Categoria do Produto\":\"Alimentos\",\"Pre\\u00e7o do Produto (R$)\":13.06,\"Quantidade em Estoque\":33,\"Filial\":\"Filial 10\"},{\"Nome do Produto\":\"Delineador l\\u00edquido\",\"Categoria do Produto\":\"Eletrodom\\u00e9sticos\",\"Pre\\u00e7o do Produto (R$)\":93.59,\"Quantidade em Estoque\":19,\"Filial\":\"Filial 2\"},{\"Nome do Produto\":\"Base l\\u00edquida\",\"Categoria do Produto\":\"Alimentos\",\"Pre\\u00e7o do Produto (R$)\":90.18,\"Quantidade em Estoque\":21,\"Filial\":\"Filial 10\"},{\"Nome do Produto\":\"Sombra de olhos\",\"Categoria do Produto\":\"Roupas\",\"Pre\\u00e7o do Produto (R$)\":45.56,\"Quantidade em Estoque\":66,\"Filial\":\"Filial 10\"},{\"Nome do Produto\":\"Sombra de olhos\",\"Categoria do Produto\":\"Eletrodom\\u00e9sticos\",\"Pre\\u00e7o do Produto (R$)\":90.17,\"Quantidade em Estoque\":64,\"Filial\":\"Filial 6\"},{\"Nome do Produto\":\"L\\u00e1pis de sobrancelha\",\"Categoria do Produto\":\"Eletrodom\\u00e9sticos\",\"Pre\\u00e7o do Produto (R$)\":77.38,\"Quantidade em Estoque\":12,\"Filial\":\"Filial 5\"},{\"Nome do Produto\":\"Base l\\u00edquida\",\"Categoria do Produto\":\"Eletrodom\\u00e9sticos\",\"Pre\\u00e7o do Produto (R$)\":81.34,\"Quantidade em Estoque\":31,\"Filial\":\"Filial 4\"},{\"Nome do Produto\":\"Blush em p\\u00f3\",\"Categoria do Produto\":\"Eletrodom\\u00e9sticos\",\"Pre\\u00e7o do Produto (R$)\":8.52,\"Quantidade em Estoque\":38,\"Filial\":\"Filial 8\"},{\"Nome do Produto\":\"Base l\\u00edquida\",\"Categoria do Produto\":\"Roupas\",\"Pre\\u00e7o do Produto (R$)\":16.27,\"Quantidade em Estoque\":61,\"Filial\":\"Filial 10\"},{\"Nome do Produto\":\"P\\u00f3 compacto\",\"Categoria do Produto\":\"Eletr\\u00f4nicos\",\"Pre\\u00e7o do Produto (R$)\":20.61,\"Quantidade em Estoque\":12,\"Filial\":\"Filial 2\"},{\"Nome do Produto\":\"P\\u00f3 compacto\",\"Categoria do Produto\":\"Roupas\",\"Pre\\u00e7o do Produto (R$)\":30.08,\"Quantidade em Estoque\":90,\"Filial\":\"Filial 10\"},{\"Nome do Produto\":\"Base l\\u00edquida\",\"Categoria do Produto\":\"Roupas\",\"Pre\\u00e7o do Produto (R$)\":1.8,\"Quantidade em Estoque\":9,\"Filial\":\"Filial 4\"},{\"Nome do Produto\":\"M\\u00e1scara de c\\u00edlios\",\"Categoria do Produto\":\"Eletr\\u00f4nicos\",\"Pre\\u00e7o do Produto (R$)\":54.87,\"Quantidade em Estoque\":65,\"Filial\":\"Filial 7\"},{\"Nome do Produto\":\"Batom matte\",\"Categoria do Produto\":\"Eletrodom\\u00e9sticos\",\"Pre\\u00e7o do Produto (R$)\":51.36,\"Quantidade em Estoque\":47,\"Filial\":\"Filial 7\"},{\"Nome do Produto\":\"Corretivo\",\"Categoria do Produto\":\"Alimentos\",\"Pre\\u00e7o do Produto (R$)\":94.25,\"Quantidade em Estoque\":67,\"Filial\":\"Filial 9\"},{\"Nome do Produto\":\"Batom matte\",\"Categoria do Produto\":\"Alimentos\",\"Pre\\u00e7o do Produto (R$)\":44.81,\"Quantidade em Estoque\":78,\"Filial\":\"Filial 9\"},{\"Nome do Produto\":\"Corretivo\",\"Categoria do Produto\":\"Eletrodom\\u00e9sticos\",\"Pre\\u00e7o do Produto (R$)\":26.69,\"Quantidade em Estoque\":12,\"Filial\":\"Filial 10\"},{\"Nome do Produto\":\"Blush em p\\u00f3\",\"Categoria do Produto\":\"Eletr\\u00f4nicos\",\"Pre\\u00e7o do Produto (R$)\":15.74,\"Quantidade em Estoque\":55,\"Filial\":\"Filial 8\"},{\"Nome do Produto\":\"L\\u00e1pis de sobrancelha\",\"Categoria do Produto\":\"Eletrodom\\u00e9sticos\",\"Pre\\u00e7o do Produto (R$)\":39.87,\"Quantidade em Estoque\":94,\"Filial\":\"Filial 1\"},{\"Nome do Produto\":\"M\\u00e1scara de c\\u00edlios\",\"Categoria do Produto\":\"Eletrodom\\u00e9sticos\",\"Pre\\u00e7o do Produto (R$)\":66.75,\"Quantidade em Estoque\":50,\"Filial\":\"Filial 8\"},{\"Nome do Produto\":\"Batom matte\",\"Categoria do Produto\":\"Roupas\",\"Pre\\u00e7o do Produto (R$)\":78.61,\"Quantidade em Estoque\":28,\"Filial\":\"Filial 5\"},{\"Nome do Produto\":\"Batom matte\",\"Categoria do Produto\":\"Eletr\\u00f4nicos\",\"Pre\\u00e7o do Produto (R$)\":46.52,\"Quantidade em Estoque\":54,\"Filial\":\"Filial 7\"},{\"Nome do Produto\":\"Batom l\\u00edquido\",\"Categoria do Produto\":\"Roupas\",\"Pre\\u00e7o do Produto (R$)\":81.34,\"Quantidade em Estoque\":50,\"Filial\":\"Filial 2\"},{\"Nome do Produto\":\"Sombra de olhos\",\"Categoria do Produto\":\"Alimentos\",\"Pre\\u00e7o do Produto (R$)\":51.02,\"Quantidade em Estoque\":64,\"Filial\":\"Filial 5\"},{\"Nome do Produto\":\"Sombra de olhos\",\"Categoria do Produto\":\"Eletr\\u00f4nicos\",\"Pre\\u00e7o do Produto (R$)\":8.22,\"Quantidade em Estoque\":36,\"Filial\":\"Filial 8\"},{\"Nome do Produto\":\"Corretivo\",\"Categoria do Produto\":\"Alimentos\",\"Pre\\u00e7o do Produto (R$)\":59.8,\"Quantidade em Estoque\":53,\"Filial\":\"Filial 10\"},{\"Nome do Produto\":\"Delineador l\\u00edquido\",\"Categoria do Produto\":\"Eletrodom\\u00e9sticos\",\"Pre\\u00e7o do Produto (R$)\":98.16,\"Quantidade em Estoque\":30,\"Filial\":\"Filial 2\"},{\"Nome do Produto\":\"Batom l\\u00edquido\",\"Categoria do Produto\":\"Alimentos\",\"Pre\\u00e7o do Produto (R$)\":73.12,\"Quantidade em Estoque\":2,\"Filial\":\"Filial 4\"},{\"Nome do Produto\":\"Base l\\u00edquida\",\"Categoria do Produto\":\"Roupas\",\"Pre\\u00e7o do Produto (R$)\":96.1,\"Quantidade em Estoque\":47,\"Filial\":\"Filial 8\"},{\"Nome do Produto\":\"Base l\\u00edquida\",\"Categoria do Produto\":\"Eletrodom\\u00e9sticos\",\"Pre\\u00e7o do Produto (R$)\":73.35,\"Quantidade em Estoque\":85,\"Filial\":\"Filial 8\"},{\"Nome do Produto\":\"Batom matte\",\"Categoria do Produto\":\"Eletrodom\\u00e9sticos\",\"Pre\\u00e7o do Produto (R$)\":25.77,\"Quantidade em Estoque\":40,\"Filial\":\"Filial 6\"},{\"Nome do Produto\":\"P\\u00f3 compacto\",\"Categoria do Produto\":\"Roupas\",\"Pre\\u00e7o do Produto (R$)\":65.47,\"Quantidade em Estoque\":39,\"Filial\":\"Filial 6\"},{\"Nome do Produto\":\"L\\u00e1pis de sobrancelha\",\"Categoria do Produto\":\"Eletr\\u00f4nicos\",\"Pre\\u00e7o do Produto (R$)\":52.96,\"Quantidade em Estoque\":14,\"Filial\":\"Filial 7\"},{\"Nome do Produto\":\"P\\u00f3 compacto\",\"Categoria do Produto\":\"Eletrodom\\u00e9sticos\",\"Pre\\u00e7o do Produto (R$)\":1.38,\"Quantidade em Estoque\":4,\"Filial\":\"Filial 7\"},{\"Nome do Produto\":\"M\\u00e1scara de c\\u00edlios\",\"Categoria do Produto\":\"Roupas\",\"Pre\\u00e7o do Produto (R$)\":94.8,\"Quantidade em Estoque\":94,\"Filial\":\"Filial 3\"},{\"Nome do Produto\":\"Base l\\u00edquida\",\"Categoria do Produto\":\"Roupas\",\"Pre\\u00e7o do Produto (R$)\":43.21,\"Quantidade em Estoque\":46,\"Filial\":\"Filial 7\"},{\"Nome do Produto\":\"Batom matte\",\"Categoria do Produto\":\"Roupas\",\"Pre\\u00e7o do Produto (R$)\":67.74,\"Quantidade em Estoque\":23,\"Filial\":\"Filial 1\"},{\"Nome do Produto\":\"Batom matte\",\"Categoria do Produto\":\"Alimentos\",\"Pre\\u00e7o do Produto (R$)\":2.55,\"Quantidade em Estoque\":81,\"Filial\":\"Filial 7\"},{\"Nome do Produto\":\"Batom matte\",\"Categoria do Produto\":\"Eletr\\u00f4nicos\",\"Pre\\u00e7o do Produto (R$)\":37.8,\"Quantidade em Estoque\":60,\"Filial\":\"Filial 6\"},{\"Nome do Produto\":\"L\\u00e1pis de sobrancelha\",\"Categoria do Produto\":\"Roupas\",\"Pre\\u00e7o do Produto (R$)\":83.26,\"Quantidade em Estoque\":97,\"Filial\":\"Filial 7\"},{\"Nome do Produto\":\"P\\u00f3 compacto\",\"Categoria do Produto\":\"Alimentos\",\"Pre\\u00e7o do Produto (R$)\":71.15,\"Quantidade em Estoque\":9,\"Filial\":\"Filial 4\"},{\"Nome do Produto\":\"Sombra de olhos\",\"Categoria do Produto\":\"Alimentos\",\"Pre\\u00e7o do Produto (R$)\":12.72,\"Quantidade em Estoque\":84,\"Filial\":\"Filial 2\"},{\"Nome do Produto\":\"Batom l\\u00edquido\",\"Categoria do Produto\":\"Eletr\\u00f4nicos\",\"Pre\\u00e7o do Produto (R$)\":60.29,\"Quantidade em Estoque\":4,\"Filial\":\"Filial 2\"},{\"Nome do Produto\":\"Batom l\\u00edquido\",\"Categoria do Produto\":\"Roupas\",\"Pre\\u00e7o do Produto (R$)\":6.53,\"Quantidade em Estoque\":14,\"Filial\":\"Filial 1\"},{\"Nome do Produto\":\"Batom l\\u00edquido\",\"Categoria do Produto\":\"Eletr\\u00f4nicos\",\"Pre\\u00e7o do Produto (R$)\":39.86,\"Quantidade em Estoque\":25,\"Filial\":\"Filial 5\"},{\"Nome do Produto\":\"Batom l\\u00edquido\",\"Categoria do Produto\":\"Eletr\\u00f4nicos\",\"Pre\\u00e7o do Produto (R$)\":93.89,\"Quantidade em Estoque\":94,\"Filial\":\"Filial 3\"},{\"Nome do Produto\":\"Batom l\\u00edquido\",\"Categoria do Produto\":\"Alimentos\",\"Pre\\u00e7o do Produto (R$)\":62.32,\"Quantidade em Estoque\":82,\"Filial\":\"Filial 1\"},{\"Nome do Produto\":\"P\\u00f3 compacto\",\"Categoria do Produto\":\"Eletrodom\\u00e9sticos\",\"Pre\\u00e7o do Produto (R$)\":73.62,\"Quantidade em Estoque\":44,\"Filial\":\"Filial 5\"},{\"Nome do Produto\":\"Corretivo\",\"Categoria do Produto\":\"Eletrodom\\u00e9sticos\",\"Pre\\u00e7o do Produto (R$)\":69.02,\"Quantidade em Estoque\":45,\"Filial\":\"Filial 8\"},{\"Nome do Produto\":\"Batom matte\",\"Categoria do Produto\":\"Eletrodom\\u00e9sticos\",\"Pre\\u00e7o do Produto (R$)\":79.6,\"Quantidade em Estoque\":25,\"Filial\":\"Filial 8\"},{\"Nome do Produto\":\"Blush em p\\u00f3\",\"Categoria do Produto\":\"Eletr\\u00f4nicos\",\"Pre\\u00e7o do Produto (R$)\":56.84,\"Quantidade em Estoque\":70,\"Filial\":\"Filial 2\"},{\"Nome do Produto\":\"P\\u00f3 compacto\",\"Categoria do Produto\":\"Eletrodom\\u00e9sticos\",\"Pre\\u00e7o do Produto (R$)\":89.37,\"Quantidade em Estoque\":57,\"Filial\":\"Filial 4\"},{\"Nome do Produto\":\"L\\u00e1pis de sobrancelha\",\"Categoria do Produto\":\"Alimentos\",\"Pre\\u00e7o do Produto (R$)\":48.32,\"Quantidade em Estoque\":22,\"Filial\":\"Filial 10\"},{\"Nome do Produto\":\"Batom matte\",\"Categoria do Produto\":\"Eletrodom\\u00e9sticos\",\"Pre\\u00e7o do Produto (R$)\":30.91,\"Quantidade em Estoque\":68,\"Filial\":\"Filial 7\"},{\"Nome do Produto\":\"Delineador l\\u00edquido\",\"Categoria do Produto\":\"Roupas\",\"Pre\\u00e7o do Produto (R$)\":78.24,\"Quantidade em Estoque\":3,\"Filial\":\"Filial 3\"},{\"Nome do Produto\":\"Delineador l\\u00edquido\",\"Categoria do Produto\":\"Roupas\",\"Pre\\u00e7o do Produto (R$)\":97.59,\"Quantidade em Estoque\":4,\"Filial\":\"Filial 8\"},{\"Nome do Produto\":\"Base l\\u00edquida\",\"Categoria do Produto\":\"Alimentos\",\"Pre\\u00e7o do Produto (R$)\":51.29,\"Quantidade em Estoque\":34,\"Filial\":\"Filial 6\"},{\"Nome do Produto\":\"M\\u00e1scara de c\\u00edlios\",\"Categoria do Produto\":\"Eletrodom\\u00e9sticos\",\"Pre\\u00e7o do Produto (R$)\":46.16,\"Quantidade em Estoque\":24,\"Filial\":\"Filial 7\"},{\"Nome do Produto\":\"Base l\\u00edquida\",\"Categoria do Produto\":\"Eletr\\u00f4nicos\",\"Pre\\u00e7o do Produto (R$)\":31.46,\"Quantidade em Estoque\":31,\"Filial\":\"Filial 10\"},{\"Nome do Produto\":\"M\\u00e1scara de c\\u00edlios\",\"Categoria do Produto\":\"Alimentos\",\"Pre\\u00e7o do Produto (R$)\":83.36,\"Quantidade em Estoque\":42,\"Filial\":\"Filial 4\"},{\"Nome do Produto\":\"Batom matte\",\"Categoria do Produto\":\"Eletr\\u00f4nicos\",\"Pre\\u00e7o do Produto (R$)\":19.96,\"Quantidade em Estoque\":55,\"Filial\":\"Filial 9\"},{\"Nome do Produto\":\"P\\u00f3 compacto\",\"Categoria do Produto\":\"Alimentos\",\"Pre\\u00e7o do Produto (R$)\":13.95,\"Quantidade em Estoque\":5,\"Filial\":\"Filial 9\"},{\"Nome do Produto\":\"Base l\\u00edquida\",\"Categoria do Produto\":\"Roupas\",\"Pre\\u00e7o do Produto (R$)\":37.94,\"Quantidade em Estoque\":22,\"Filial\":\"Filial 5\"},{\"Nome do Produto\":\"Corretivo\",\"Categoria do Produto\":\"Eletrodom\\u00e9sticos\",\"Pre\\u00e7o do Produto (R$)\":84.36,\"Quantidade em Estoque\":37,\"Filial\":\"Filial 7\"},{\"Nome do Produto\":\"Corretivo\",\"Categoria do Produto\":\"Alimentos\",\"Pre\\u00e7o do Produto (R$)\":76.76,\"Quantidade em Estoque\":25,\"Filial\":\"Filial 8\"},{\"Nome do Produto\":\"Batom l\\u00edquido\",\"Categoria do Produto\":\"Alimentos\",\"Pre\\u00e7o do Produto (R$)\":33.87,\"Quantidade em Estoque\":76,\"Filial\":\"Filial 5\"},{\"Nome do Produto\":\"Corretivo\",\"Categoria do Produto\":\"Eletrodom\\u00e9sticos\",\"Pre\\u00e7o do Produto (R$)\":25.92,\"Quantidade em Estoque\":81,\"Filial\":\"Filial 3\"},{\"Nome do Produto\":\"L\\u00e1pis de sobrancelha\",\"Categoria do Produto\":\"Eletr\\u00f4nicos\",\"Pre\\u00e7o do Produto (R$)\":70.01,\"Quantidade em Estoque\":41,\"Filial\":\"Filial 3\"},{\"Nome do Produto\":\"Delineador l\\u00edquido\",\"Categoria do Produto\":\"Eletrodom\\u00e9sticos\",\"Pre\\u00e7o do Produto (R$)\":50.26,\"Quantidade em Estoque\":29,\"Filial\":\"Filial 10\"},{\"Nome do Produto\":\"Corretivo\",\"Categoria do Produto\":\"Alimentos\",\"Pre\\u00e7o do Produto (R$)\":41.71,\"Quantidade em Estoque\":26,\"Filial\":\"Filial 10\"},{\"Nome do Produto\":\"Blush em p\\u00f3\",\"Categoria do Produto\":\"Alimentos\",\"Pre\\u00e7o do Produto (R$)\":82.33,\"Quantidade em Estoque\":23,\"Filial\":\"Filial 5\"},{\"Nome do Produto\":\"Base l\\u00edquida\",\"Categoria do Produto\":\"Roupas\",\"Pre\\u00e7o do Produto (R$)\":73.49,\"Quantidade em Estoque\":45,\"Filial\":\"Filial 6\"},{\"Nome do Produto\":\"Blush em p\\u00f3\",\"Categoria do Produto\":\"Eletr\\u00f4nicos\",\"Pre\\u00e7o do Produto (R$)\":21.45,\"Quantidade em Estoque\":53,\"Filial\":\"Filial 6\"},{\"Nome do Produto\":\"Sombra de olhos\",\"Categoria do Produto\":\"Eletr\\u00f4nicos\",\"Pre\\u00e7o do Produto (R$)\":9.35,\"Quantidade em Estoque\":14,\"Filial\":\"Filial 7\"},{\"Nome do Produto\":\"Base l\\u00edquida\",\"Categoria do Produto\":\"Roupas\",\"Pre\\u00e7o do Produto (R$)\":82.18,\"Quantidade em Estoque\":83,\"Filial\":\"Filial 6\"},{\"Nome do Produto\":\"Batom matte\",\"Categoria do Produto\":\"Eletr\\u00f4nicos\",\"Pre\\u00e7o do Produto (R$)\":41.68,\"Quantidade em Estoque\":87,\"Filial\":\"Filial 4\"},{\"Nome do Produto\":\"Sombra de olhos\",\"Categoria do Produto\":\"Eletr\\u00f4nicos\",\"Pre\\u00e7o do Produto (R$)\":77.75,\"Quantidade em Estoque\":44,\"Filial\":\"Filial 2\"},{\"Nome do Produto\":\"Sombra de olhos\",\"Categoria do Produto\":\"Eletrodom\\u00e9sticos\",\"Pre\\u00e7o do Produto (R$)\":82.1,\"Quantidade em Estoque\":61,\"Filial\":\"Filial 2\"},{\"Nome do Produto\":\"L\\u00e1pis de sobrancelha\",\"Categoria do Produto\":\"Roupas\",\"Pre\\u00e7o do Produto (R$)\":64.16,\"Quantidade em Estoque\":74,\"Filial\":\"Filial 5\"},{\"Nome do Produto\":\"Blush em p\\u00f3\",\"Categoria do Produto\":\"Eletrodom\\u00e9sticos\",\"Pre\\u00e7o do Produto (R$)\":29.07,\"Quantidade em Estoque\":68,\"Filial\":\"Filial 7\"},{\"Nome do Produto\":\"Corretivo\",\"Categoria do Produto\":\"Eletr\\u00f4nicos\",\"Pre\\u00e7o do Produto (R$)\":2.41,\"Quantidade em Estoque\":43,\"Filial\":\"Filial 10\"},{\"Nome do Produto\":\"Corretivo\",\"Categoria do Produto\":\"Alimentos\",\"Pre\\u00e7o do Produto (R$)\":55.17,\"Quantidade em Estoque\":57,\"Filial\":\"Filial 6\"},{\"Nome do Produto\":\"Corretivo\",\"Categoria do Produto\":\"Alimentos\",\"Pre\\u00e7o do Produto (R$)\":45.83,\"Quantidade em Estoque\":85,\"Filial\":\"Filial 10\"},{\"Nome do Produto\":\"Batom l\\u00edquido\",\"Categoria do Produto\":\"Eletr\\u00f4nicos\",\"Pre\\u00e7o do Produto (R$)\":84.39,\"Quantidade em Estoque\":43,\"Filial\":\"Filial 5\"},{\"Nome do Produto\":\"Base l\\u00edquida\",\"Categoria do Produto\":\"Eletrodom\\u00e9sticos\",\"Pre\\u00e7o do Produto (R$)\":99.47,\"Quantidade em Estoque\":35,\"Filial\":\"Filial 8\"},{\"Nome do Produto\":\"Blush em p\\u00f3\",\"Categoria do Produto\":\"Eletr\\u00f4nicos\",\"Pre\\u00e7o do Produto (R$)\":86.91,\"Quantidade em Estoque\":93,\"Filial\":\"Filial 6\"},{\"Nome do Produto\":\"M\\u00e1scara de c\\u00edlios\",\"Categoria do Produto\":\"Roupas\",\"Pre\\u00e7o do Produto (R$)\":45.31,\"Quantidade em Estoque\":92,\"Filial\":\"Filial 7\"},{\"Nome do Produto\":\"Base l\\u00edquida\",\"Categoria do Produto\":\"Roupas\",\"Pre\\u00e7o do Produto (R$)\":90.72,\"Quantidade em Estoque\":10,\"Filial\":\"Filial 7\"},{\"Nome do Produto\":\"Delineador l\\u00edquido\",\"Categoria do Produto\":\"Eletr\\u00f4nicos\",\"Pre\\u00e7o do Produto (R$)\":89.5,\"Quantidade em Estoque\":20,\"Filial\":\"Filial 9\"},{\"Nome do Produto\":\"M\\u00e1scara de c\\u00edlios\",\"Categoria do Produto\":\"Alimentos\",\"Pre\\u00e7o do Produto (R$)\":25.74,\"Quantidade em Estoque\":28,\"Filial\":\"Filial 3\"},{\"Nome do Produto\":\"P\\u00f3 compacto\",\"Categoria do Produto\":\"Eletr\\u00f4nicos\",\"Pre\\u00e7o do Produto (R$)\":90.46,\"Quantidade em Estoque\":46,\"Filial\":\"Filial 4\"},{\"Nome do Produto\":\"Base l\\u00edquida\",\"Categoria do Produto\":\"Roupas\",\"Pre\\u00e7o do Produto (R$)\":23.28,\"Quantidade em Estoque\":56,\"Filial\":\"Filial 5\"},{\"Nome do Produto\":\"Sombra de olhos\",\"Categoria do Produto\":\"Roupas\",\"Pre\\u00e7o do Produto (R$)\":52.03,\"Quantidade em Estoque\":58,\"Filial\":\"Filial 4\"},{\"Nome do Produto\":\"Base l\\u00edquida\",\"Categoria do Produto\":\"Roupas\",\"Pre\\u00e7o do Produto (R$)\":68.84,\"Quantidade em Estoque\":2,\"Filial\":\"Filial 6\"},{\"Nome do Produto\":\"Base l\\u00edquida\",\"Categoria do Produto\":\"Eletr\\u00f4nicos\",\"Pre\\u00e7o do Produto (R$)\":62.75,\"Quantidade em Estoque\":80,\"Filial\":\"Filial 7\"},{\"Nome do Produto\":\"Blush em p\\u00f3\",\"Categoria do Produto\":\"Eletrodom\\u00e9sticos\",\"Pre\\u00e7o do Produto (R$)\":13.82,\"Quantidade em Estoque\":79,\"Filial\":\"Filial 7\"},{\"Nome do Produto\":\"Batom matte\",\"Categoria do Produto\":\"Eletr\\u00f4nicos\",\"Pre\\u00e7o do Produto (R$)\":95.84,\"Quantidade em Estoque\":94,\"Filial\":\"Filial 4\"},{\"Nome do Produto\":\"P\\u00f3 compacto\",\"Categoria do Produto\":\"Alimentos\",\"Pre\\u00e7o do Produto (R$)\":68.58,\"Quantidade em Estoque\":17,\"Filial\":\"Filial 6\"},{\"Nome do Produto\":\"L\\u00e1pis de sobrancelha\",\"Categoria do Produto\":\"Eletrodom\\u00e9sticos\",\"Pre\\u00e7o do Produto (R$)\":40.0,\"Quantidade em Estoque\":33,\"Filial\":\"Filial 6\"},{\"Nome do Produto\":\"L\\u00e1pis de sobrancelha\",\"Categoria do Produto\":\"Eletrodom\\u00e9sticos\",\"Pre\\u00e7o do Produto (R$)\":97.57,\"Quantidade em Estoque\":42,\"Filial\":\"Filial 4\"},{\"Nome do Produto\":\"Sombra de olhos\",\"Categoria do Produto\":\"Eletrodom\\u00e9sticos\",\"Pre\\u00e7o do Produto (R$)\":73.97,\"Quantidade em Estoque\":52,\"Filial\":\"Filial 2\"},{\"Nome do Produto\":\"Corretivo\",\"Categoria do Produto\":\"Eletrodom\\u00e9sticos\",\"Pre\\u00e7o do Produto (R$)\":6.64,\"Quantidade em Estoque\":97,\"Filial\":\"Filial 1\"},{\"Nome do Produto\":\"Batom l\\u00edquido\",\"Categoria do Produto\":\"Eletr\\u00f4nicos\",\"Pre\\u00e7o do Produto (R$)\":42.59,\"Quantidade em Estoque\":57,\"Filial\":\"Filial 3\"},{\"Nome do Produto\":\"Corretivo\",\"Categoria do Produto\":\"Eletrodom\\u00e9sticos\",\"Pre\\u00e7o do Produto (R$)\":51.17,\"Quantidade em Estoque\":19,\"Filial\":\"Filial 5\"},{\"Nome do Produto\":\"P\\u00f3 compacto\",\"Categoria do Produto\":\"Roupas\",\"Pre\\u00e7o do Produto (R$)\":37.55,\"Quantidade em Estoque\":57,\"Filial\":\"Filial 9\"},{\"Nome do Produto\":\"L\\u00e1pis de sobrancelha\",\"Categoria do Produto\":\"Eletr\\u00f4nicos\",\"Pre\\u00e7o do Produto (R$)\":69.54,\"Quantidade em Estoque\":28,\"Filial\":\"Filial 1\"},{\"Nome do Produto\":\"Corretivo\",\"Categoria do Produto\":\"Alimentos\",\"Pre\\u00e7o do Produto (R$)\":79.51,\"Quantidade em Estoque\":93,\"Filial\":\"Filial 9\"},{\"Nome do Produto\":\"Delineador l\\u00edquido\",\"Categoria do Produto\":\"Alimentos\",\"Pre\\u00e7o do Produto (R$)\":41.86,\"Quantidade em Estoque\":12,\"Filial\":\"Filial 8\"},{\"Nome do Produto\":\"Blush em p\\u00f3\",\"Categoria do Produto\":\"Alimentos\",\"Pre\\u00e7o do Produto (R$)\":22.16,\"Quantidade em Estoque\":95,\"Filial\":\"Filial 2\"},{\"Nome do Produto\":\"Corretivo\",\"Categoria do Produto\":\"Eletrodom\\u00e9sticos\",\"Pre\\u00e7o do Produto (R$)\":25.45,\"Quantidade em Estoque\":83,\"Filial\":\"Filial 3\"},{\"Nome do Produto\":\"Sombra de olhos\",\"Categoria do Produto\":\"Alimentos\",\"Pre\\u00e7o do Produto (R$)\":67.73,\"Quantidade em Estoque\":86,\"Filial\":\"Filial 7\"},{\"Nome do Produto\":\"P\\u00f3 compacto\",\"Categoria do Produto\":\"Eletr\\u00f4nicos\",\"Pre\\u00e7o do Produto (R$)\":97.38,\"Quantidade em Estoque\":91,\"Filial\":\"Filial 3\"},{\"Nome do Produto\":\"Batom matte\",\"Categoria do Produto\":\"Eletrodom\\u00e9sticos\",\"Pre\\u00e7o do Produto (R$)\":6.1,\"Quantidade em Estoque\":85,\"Filial\":\"Filial 8\"},{\"Nome do Produto\":\"Sombra de olhos\",\"Categoria do Produto\":\"Eletr\\u00f4nicos\",\"Pre\\u00e7o do Produto (R$)\":81.1,\"Quantidade em Estoque\":15,\"Filial\":\"Filial 3\"},{\"Nome do Produto\":\"L\\u00e1pis de sobrancelha\",\"Categoria do Produto\":\"Roupas\",\"Pre\\u00e7o do Produto (R$)\":51.91,\"Quantidade em Estoque\":10,\"Filial\":\"Filial 7\"},{\"Nome do Produto\":\"Blush em p\\u00f3\",\"Categoria do Produto\":\"Eletr\\u00f4nicos\",\"Pre\\u00e7o do Produto (R$)\":20.95,\"Quantidade em Estoque\":87,\"Filial\":\"Filial 5\"},{\"Nome do Produto\":\"P\\u00f3 compacto\",\"Categoria do Produto\":\"Eletr\\u00f4nicos\",\"Pre\\u00e7o do Produto (R$)\":5.18,\"Quantidade em Estoque\":94,\"Filial\":\"Filial 1\"},{\"Nome do Produto\":\"Batom matte\",\"Categoria do Produto\":\"Eletrodom\\u00e9sticos\",\"Pre\\u00e7o do Produto (R$)\":14.77,\"Quantidade em Estoque\":96,\"Filial\":\"Filial 1\"},{\"Nome do Produto\":\"Sombra de olhos\",\"Categoria do Produto\":\"Eletr\\u00f4nicos\",\"Pre\\u00e7o do Produto (R$)\":88.93,\"Quantidade em Estoque\":87,\"Filial\":\"Filial 10\"},{\"Nome do Produto\":\"Batom matte\",\"Categoria do Produto\":\"Eletr\\u00f4nicos\",\"Pre\\u00e7o do Produto (R$)\":50.98,\"Quantidade em Estoque\":23,\"Filial\":\"Filial 6\"},{\"Nome do Produto\":\"L\\u00e1pis de sobrancelha\",\"Categoria do Produto\":\"Eletr\\u00f4nicos\",\"Pre\\u00e7o do Produto (R$)\":62.97,\"Quantidade em Estoque\":46,\"Filial\":\"Filial 8\"},{\"Nome do Produto\":\"Batom matte\",\"Categoria do Produto\":\"Alimentos\",\"Pre\\u00e7o do Produto (R$)\":61.81,\"Quantidade em Estoque\":74,\"Filial\":\"Filial 9\"},{\"Nome do Produto\":\"Corretivo\",\"Categoria do Produto\":\"Eletrodom\\u00e9sticos\",\"Pre\\u00e7o do Produto (R$)\":35.39,\"Quantidade em Estoque\":80,\"Filial\":\"Filial 10\"},{\"Nome do Produto\":\"Corretivo\",\"Categoria do Produto\":\"Eletr\\u00f4nicos\",\"Pre\\u00e7o do Produto (R$)\":90.88,\"Quantidade em Estoque\":61,\"Filial\":\"Filial 1\"},{\"Nome do Produto\":\"Base l\\u00edquida\",\"Categoria do Produto\":\"Roupas\",\"Pre\\u00e7o do Produto (R$)\":13.87,\"Quantidade em Estoque\":40,\"Filial\":\"Filial 2\"},{\"Nome do Produto\":\"Blush em p\\u00f3\",\"Categoria do Produto\":\"Eletrodom\\u00e9sticos\",\"Pre\\u00e7o do Produto (R$)\":3.24,\"Quantidade em Estoque\":62,\"Filial\":\"Filial 7\"},{\"Nome do Produto\":\"Blush em p\\u00f3\",\"Categoria do Produto\":\"Roupas\",\"Pre\\u00e7o do Produto (R$)\":33.36,\"Quantidade em Estoque\":97,\"Filial\":\"Filial 4\"},{\"Nome do Produto\":\"Batom l\\u00edquido\",\"Categoria do Produto\":\"Eletrodom\\u00e9sticos\",\"Pre\\u00e7o do Produto (R$)\":7.58,\"Quantidade em Estoque\":90,\"Filial\":\"Filial 4\"},{\"Nome do Produto\":\"P\\u00f3 compacto\",\"Categoria do Produto\":\"Eletrodom\\u00e9sticos\",\"Pre\\u00e7o do Produto (R$)\":76.59,\"Quantidade em Estoque\":33,\"Filial\":\"Filial 5\"},{\"Nome do Produto\":\"M\\u00e1scara de c\\u00edlios\",\"Categoria do Produto\":\"Eletrodom\\u00e9sticos\",\"Pre\\u00e7o do Produto (R$)\":41.72,\"Quantidade em Estoque\":76,\"Filial\":\"Filial 1\"},{\"Nome do Produto\":\"Sombra de olhos\",\"Categoria do Produto\":\"Roupas\",\"Pre\\u00e7o do Produto (R$)\":40.09,\"Quantidade em Estoque\":54,\"Filial\":\"Filial 10\"},{\"Nome do Produto\":\"P\\u00f3 compacto\",\"Categoria do Produto\":\"Eletr\\u00f4nicos\",\"Pre\\u00e7o do Produto (R$)\":61.66,\"Quantidade em Estoque\":54,\"Filial\":\"Filial 4\"},{\"Nome do Produto\":\"Base l\\u00edquida\",\"Categoria do Produto\":\"Alimentos\",\"Pre\\u00e7o do Produto (R$)\":69.49,\"Quantidade em Estoque\":30,\"Filial\":\"Filial 6\"},{\"Nome do Produto\":\"Sombra de olhos\",\"Categoria do Produto\":\"Eletr\\u00f4nicos\",\"Pre\\u00e7o do Produto (R$)\":84.36,\"Quantidade em Estoque\":41,\"Filial\":\"Filial 4\"},{\"Nome do Produto\":\"Batom matte\",\"Categoria do Produto\":\"Eletr\\u00f4nicos\",\"Pre\\u00e7o do Produto (R$)\":10.31,\"Quantidade em Estoque\":58,\"Filial\":\"Filial 7\"},{\"Nome do Produto\":\"Sombra de olhos\",\"Categoria do Produto\":\"Eletrodom\\u00e9sticos\",\"Pre\\u00e7o do Produto (R$)\":22.98,\"Quantidade em Estoque\":9,\"Filial\":\"Filial 2\"},{\"Nome do Produto\":\"Corretivo\",\"Categoria do Produto\":\"Eletr\\u00f4nicos\",\"Pre\\u00e7o do Produto (R$)\":82.31,\"Quantidade em Estoque\":8,\"Filial\":\"Filial 10\"},{\"Nome do Produto\":\"Sombra de olhos\",\"Categoria do Produto\":\"Roupas\",\"Pre\\u00e7o do Produto (R$)\":54.7,\"Quantidade em Estoque\":99,\"Filial\":\"Filial 3\"},{\"Nome do Produto\":\"Base l\\u00edquida\",\"Categoria do Produto\":\"Roupas\",\"Pre\\u00e7o do Produto (R$)\":77.63,\"Quantidade em Estoque\":43,\"Filial\":\"Filial 10\"},{\"Nome do Produto\":\"L\\u00e1pis de sobrancelha\",\"Categoria do Produto\":\"Alimentos\",\"Pre\\u00e7o do Produto (R$)\":2.31,\"Quantidade em Estoque\":76,\"Filial\":\"Filial 7\"},{\"Nome do Produto\":\"P\\u00f3 compacto\",\"Categoria do Produto\":\"Eletrodom\\u00e9sticos\",\"Pre\\u00e7o do Produto (R$)\":42.97,\"Quantidade em Estoque\":69,\"Filial\":\"Filial 9\"},{\"Nome do Produto\":\"M\\u00e1scara de c\\u00edlios\",\"Categoria do Produto\":\"Eletrodom\\u00e9sticos\",\"Pre\\u00e7o do Produto (R$)\":66.9,\"Quantidade em Estoque\":100,\"Filial\":\"Filial 4\"},{\"Nome do Produto\":\"Delineador l\\u00edquido\",\"Categoria do Produto\":\"Eletrodom\\u00e9sticos\",\"Pre\\u00e7o do Produto (R$)\":15.93,\"Quantidade em Estoque\":36,\"Filial\":\"Filial 1\"},{\"Nome do Produto\":\"Batom l\\u00edquido\",\"Categoria do Produto\":\"Roupas\",\"Pre\\u00e7o do Produto (R$)\":93.87,\"Quantidade em Estoque\":54,\"Filial\":\"Filial 7\"},{\"Nome do Produto\":\"Batom l\\u00edquido\",\"Categoria do Produto\":\"Eletr\\u00f4nicos\",\"Pre\\u00e7o do Produto (R$)\":5.58,\"Quantidade em Estoque\":68,\"Filial\":\"Filial 7\"},{\"Nome do Produto\":\"Delineador l\\u00edquido\",\"Categoria do Produto\":\"Roupas\",\"Pre\\u00e7o do Produto (R$)\":42.0,\"Quantidade em Estoque\":42,\"Filial\":\"Filial 7\"},{\"Nome do Produto\":\"Sombra de olhos\",\"Categoria do Produto\":\"Alimentos\",\"Pre\\u00e7o do Produto (R$)\":47.94,\"Quantidade em Estoque\":84,\"Filial\":\"Filial 6\"},{\"Nome do Produto\":\"L\\u00e1pis de sobrancelha\",\"Categoria do Produto\":\"Eletr\\u00f4nicos\",\"Pre\\u00e7o do Produto (R$)\":20.86,\"Quantidade em Estoque\":94,\"Filial\":\"Filial 1\"},{\"Nome do Produto\":\"Blush em p\\u00f3\",\"Categoria do Produto\":\"Eletrodom\\u00e9sticos\",\"Pre\\u00e7o do Produto (R$)\":87.62,\"Quantidade em Estoque\":47,\"Filial\":\"Filial 9\"},{\"Nome do Produto\":\"Batom matte\",\"Categoria do Produto\":\"Alimentos\",\"Pre\\u00e7o do Produto (R$)\":99.79,\"Quantidade em Estoque\":59,\"Filial\":\"Filial 10\"},{\"Nome do Produto\":\"Base l\\u00edquida\",\"Categoria do Produto\":\"Alimentos\",\"Pre\\u00e7o do Produto (R$)\":7.8,\"Quantidade em Estoque\":77,\"Filial\":\"Filial 10\"},{\"Nome do Produto\":\"Blush em p\\u00f3\",\"Categoria do Produto\":\"Roupas\",\"Pre\\u00e7o do Produto (R$)\":28.86,\"Quantidade em Estoque\":63,\"Filial\":\"Filial 3\"},{\"Nome do Produto\":\"Batom l\\u00edquido\",\"Categoria do Produto\":\"Alimentos\",\"Pre\\u00e7o do Produto (R$)\":56.7,\"Quantidade em Estoque\":45,\"Filial\":\"Filial 3\"},{\"Nome do Produto\":\"Blush em p\\u00f3\",\"Categoria do Produto\":\"Eletrodom\\u00e9sticos\",\"Pre\\u00e7o do Produto (R$)\":7.53,\"Quantidade em Estoque\":42,\"Filial\":\"Filial 7\"},{\"Nome do Produto\":\"M\\u00e1scara de c\\u00edlios\",\"Categoria do Produto\":\"Eletr\\u00f4nicos\",\"Pre\\u00e7o do Produto (R$)\":86.73,\"Quantidade em Estoque\":97,\"Filial\":\"Filial 2\"},{\"Nome do Produto\":\"Sombra de olhos\",\"Categoria do Produto\":\"Alimentos\",\"Pre\\u00e7o do Produto (R$)\":68.15,\"Quantidade em Estoque\":93,\"Filial\":\"Filial 7\"},{\"Nome do Produto\":\"L\\u00e1pis de sobrancelha\",\"Categoria do Produto\":\"Alimentos\",\"Pre\\u00e7o do Produto (R$)\":69.6,\"Quantidade em Estoque\":36,\"Filial\":\"Filial 2\"},{\"Nome do Produto\":\"Sombra de olhos\",\"Categoria do Produto\":\"Eletr\\u00f4nicos\",\"Pre\\u00e7o do Produto (R$)\":65.27,\"Quantidade em Estoque\":89,\"Filial\":\"Filial 2\"},{\"Nome do Produto\":\"L\\u00e1pis de sobrancelha\",\"Categoria do Produto\":\"Eletrodom\\u00e9sticos\",\"Pre\\u00e7o do Produto (R$)\":52.66,\"Quantidade em Estoque\":62,\"Filial\":\"Filial 8\"},{\"Nome do Produto\":\"Corretivo\",\"Categoria do Produto\":\"Eletr\\u00f4nicos\",\"Pre\\u00e7o do Produto (R$)\":3.67,\"Quantidade em Estoque\":49,\"Filial\":\"Filial 2\"},{\"Nome do Produto\":\"Delineador l\\u00edquido\",\"Categoria do Produto\":\"Alimentos\",\"Pre\\u00e7o do Produto (R$)\":80.05,\"Quantidade em Estoque\":30,\"Filial\":\"Filial 1\"},{\"Nome do Produto\":\"Batom l\\u00edquido\",\"Categoria do Produto\":\"Alimentos\",\"Pre\\u00e7o do Produto (R$)\":84.3,\"Quantidade em Estoque\":100,\"Filial\":\"Filial 8\"},{\"Nome do Produto\":\"Batom l\\u00edquido\",\"Categoria do Produto\":\"Roupas\",\"Pre\\u00e7o do Produto (R$)\":86.73,\"Quantidade em Estoque\":72,\"Filial\":\"Filial 9\"},{\"Nome do Produto\":\"M\\u00e1scara de c\\u00edlios\",\"Categoria do Produto\":\"Eletr\\u00f4nicos\",\"Pre\\u00e7o do Produto (R$)\":65.31,\"Quantidade em Estoque\":64,\"Filial\":\"Filial 2\"},{\"Nome do Produto\":\"Corretivo\",\"Categoria do Produto\":\"Roupas\",\"Pre\\u00e7o do Produto (R$)\":83.24,\"Quantidade em Estoque\":8,\"Filial\":\"Filial 5\"},{\"Nome do Produto\":\"Base l\\u00edquida\",\"Categoria do Produto\":\"Alimentos\",\"Pre\\u00e7o do Produto (R$)\":29.8,\"Quantidade em Estoque\":10,\"Filial\":\"Filial 10\"},{\"Nome do Produto\":\"Base l\\u00edquida\",\"Categoria do Produto\":\"Roupas\",\"Pre\\u00e7o do Produto (R$)\":30.47,\"Quantidade em Estoque\":88,\"Filial\":\"Filial 5\"},{\"Nome do Produto\":\"Batom matte\",\"Categoria do Produto\":\"Alimentos\",\"Pre\\u00e7o do Produto (R$)\":36.77,\"Quantidade em Estoque\":1,\"Filial\":\"Filial 10\"},{\"Nome do Produto\":\"Corretivo\",\"Categoria do Produto\":\"Alimentos\",\"Pre\\u00e7o do Produto (R$)\":74.83,\"Quantidade em Estoque\":1,\"Filial\":\"Filial 10\"},{\"Nome do Produto\":\"Batom matte\",\"Categoria do Produto\":\"Eletrodom\\u00e9sticos\",\"Pre\\u00e7o do Produto (R$)\":43.89,\"Quantidade em Estoque\":42,\"Filial\":\"Filial 2\"},{\"Nome do Produto\":\"Batom l\\u00edquido\",\"Categoria do Produto\":\"Eletrodom\\u00e9sticos\",\"Pre\\u00e7o do Produto (R$)\":35.41,\"Quantidade em Estoque\":66,\"Filial\":\"Filial 10\"},{\"Nome do Produto\":\"Corretivo\",\"Categoria do Produto\":\"Eletrodom\\u00e9sticos\",\"Pre\\u00e7o do Produto (R$)\":73.4,\"Quantidade em Estoque\":44,\"Filial\":\"Filial 6\"},{\"Nome do Produto\":\"P\\u00f3 compacto\",\"Categoria do Produto\":\"Roupas\",\"Pre\\u00e7o do Produto (R$)\":4.01,\"Quantidade em Estoque\":9,\"Filial\":\"Filial 9\"},{\"Nome do Produto\":\"Sombra de olhos\",\"Categoria do Produto\":\"Alimentos\",\"Pre\\u00e7o do Produto (R$)\":61.37,\"Quantidade em Estoque\":94,\"Filial\":\"Filial 4\"},{\"Nome do Produto\":\"Batom l\\u00edquido\",\"Categoria do Produto\":\"Alimentos\",\"Pre\\u00e7o do Produto (R$)\":48.82,\"Quantidade em Estoque\":23,\"Filial\":\"Filial 6\"},{\"Nome do Produto\":\"Batom l\\u00edquido\",\"Categoria do Produto\":\"Eletrodom\\u00e9sticos\",\"Pre\\u00e7o do Produto (R$)\":54.88,\"Quantidade em Estoque\":91,\"Filial\":\"Filial 8\"},{\"Nome do Produto\":\"M\\u00e1scara de c\\u00edlios\",\"Categoria do Produto\":\"Alimentos\",\"Pre\\u00e7o do Produto (R$)\":60.12,\"Quantidade em Estoque\":39,\"Filial\":\"Filial 9\"},{\"Nome do Produto\":\"Delineador l\\u00edquido\",\"Categoria do Produto\":\"Eletrodom\\u00e9sticos\",\"Pre\\u00e7o do Produto (R$)\":90.41,\"Quantidade em Estoque\":25,\"Filial\":\"Filial 7\"},{\"Nome do Produto\":\"M\\u00e1scara de c\\u00edlios\",\"Categoria do Produto\":\"Eletrodom\\u00e9sticos\",\"Pre\\u00e7o do Produto (R$)\":9.91,\"Quantidade em Estoque\":45,\"Filial\":\"Filial 1\"},{\"Nome do Produto\":\"Corretivo\",\"Categoria do Produto\":\"Alimentos\",\"Pre\\u00e7o do Produto (R$)\":50.16,\"Quantidade em Estoque\":35,\"Filial\":\"Filial 7\"},{\"Nome do Produto\":\"M\\u00e1scara de c\\u00edlios\",\"Categoria do Produto\":\"Alimentos\",\"Pre\\u00e7o do Produto (R$)\":17.48,\"Quantidade em Estoque\":19,\"Filial\":\"Filial 8\"},{\"Nome do Produto\":\"Delineador l\\u00edquido\",\"Categoria do Produto\":\"Eletr\\u00f4nicos\",\"Pre\\u00e7o do Produto (R$)\":77.54,\"Quantidade em Estoque\":94,\"Filial\":\"Filial 3\"},{\"Nome do Produto\":\"Blush em p\\u00f3\",\"Categoria do Produto\":\"Eletrodom\\u00e9sticos\",\"Pre\\u00e7o do Produto (R$)\":20.77,\"Quantidade em Estoque\":92,\"Filial\":\"Filial 7\"},{\"Nome do Produto\":\"Delineador l\\u00edquido\",\"Categoria do Produto\":\"Alimentos\",\"Pre\\u00e7o do Produto (R$)\":31.83,\"Quantidade em Estoque\":92,\"Filial\":\"Filial 10\"},{\"Nome do Produto\":\"Batom matte\",\"Categoria do Produto\":\"Eletr\\u00f4nicos\",\"Pre\\u00e7o do Produto (R$)\":13.33,\"Quantidade em Estoque\":16,\"Filial\":\"Filial 1\"},{\"Nome do Produto\":\"L\\u00e1pis de sobrancelha\",\"Categoria do Produto\":\"Alimentos\",\"Pre\\u00e7o do Produto (R$)\":52.28,\"Quantidade em Estoque\":68,\"Filial\":\"Filial 4\"},{\"Nome do Produto\":\"Blush em p\\u00f3\",\"Categoria do Produto\":\"Eletrodom\\u00e9sticos\",\"Pre\\u00e7o do Produto (R$)\":57.98,\"Quantidade em Estoque\":93,\"Filial\":\"Filial 2\"},{\"Nome do Produto\":\"Blush em p\\u00f3\",\"Categoria do Produto\":\"Eletr\\u00f4nicos\",\"Pre\\u00e7o do Produto (R$)\":91.05,\"Quantidade em Estoque\":71,\"Filial\":\"Filial 2\"},{\"Nome do Produto\":\"Delineador l\\u00edquido\",\"Categoria do Produto\":\"Roupas\",\"Pre\\u00e7o do Produto (R$)\":31.43,\"Quantidade em Estoque\":94,\"Filial\":\"Filial 4\"},{\"Nome do Produto\":\"Base l\\u00edquida\",\"Categoria do Produto\":\"Eletrodom\\u00e9sticos\",\"Pre\\u00e7o do Produto (R$)\":75.39,\"Quantidade em Estoque\":84,\"Filial\":\"Filial 10\"},{\"Nome do Produto\":\"Base l\\u00edquida\",\"Categoria do Produto\":\"Alimentos\",\"Pre\\u00e7o do Produto (R$)\":27.17,\"Quantidade em Estoque\":22,\"Filial\":\"Filial 8\"},{\"Nome do Produto\":\"Delineador l\\u00edquido\",\"Categoria do Produto\":\"Eletrodom\\u00e9sticos\",\"Pre\\u00e7o do Produto (R$)\":81.12,\"Quantidade em Estoque\":50,\"Filial\":\"Filial 1\"},{\"Nome do Produto\":\"Sombra de olhos\",\"Categoria do Produto\":\"Roupas\",\"Pre\\u00e7o do Produto (R$)\":5.09,\"Quantidade em Estoque\":46,\"Filial\":\"Filial 2\"},{\"Nome do Produto\":\"Blush em p\\u00f3\",\"Categoria do Produto\":\"Eletrodom\\u00e9sticos\",\"Pre\\u00e7o do Produto (R$)\":84.33,\"Quantidade em Estoque\":67,\"Filial\":\"Filial 6\"},{\"Nome do Produto\":\"Batom matte\",\"Categoria do Produto\":\"Roupas\",\"Pre\\u00e7o do Produto (R$)\":75.49,\"Quantidade em Estoque\":43,\"Filial\":\"Filial 10\"},{\"Nome do Produto\":\"Delineador l\\u00edquido\",\"Categoria do Produto\":\"Alimentos\",\"Pre\\u00e7o do Produto (R$)\":41.04,\"Quantidade em Estoque\":6,\"Filial\":\"Filial 7\"},{\"Nome do Produto\":\"Batom matte\",\"Categoria do Produto\":\"Eletrodom\\u00e9sticos\",\"Pre\\u00e7o do Produto (R$)\":25.58,\"Quantidade em Estoque\":50,\"Filial\":\"Filial 5\"},{\"Nome do Produto\":\"L\\u00e1pis de sobrancelha\",\"Categoria do Produto\":\"Eletr\\u00f4nicos\",\"Pre\\u00e7o do Produto (R$)\":30.32,\"Quantidade em Estoque\":17,\"Filial\":\"Filial 8\"},{\"Nome do Produto\":\"Sombra de olhos\",\"Categoria do Produto\":\"Roupas\",\"Pre\\u00e7o do Produto (R$)\":98.94,\"Quantidade em Estoque\":1,\"Filial\":\"Filial 7\"},{\"Nome do Produto\":\"P\\u00f3 compacto\",\"Categoria do Produto\":\"Alimentos\",\"Pre\\u00e7o do Produto (R$)\":8.3,\"Quantidade em Estoque\":21,\"Filial\":\"Filial 1\"},{\"Nome do Produto\":\"Delineador l\\u00edquido\",\"Categoria do Produto\":\"Alimentos\",\"Pre\\u00e7o do Produto (R$)\":24.78,\"Quantidade em Estoque\":6,\"Filial\":\"Filial 4\"},{\"Nome do Produto\":\"M\\u00e1scara de c\\u00edlios\",\"Categoria do Produto\":\"Alimentos\",\"Pre\\u00e7o do Produto (R$)\":19.11,\"Quantidade em Estoque\":24,\"Filial\":\"Filial 10\"},{\"Nome do Produto\":\"Blush em p\\u00f3\",\"Categoria do Produto\":\"Alimentos\",\"Pre\\u00e7o do Produto (R$)\":72.31,\"Quantidade em Estoque\":45,\"Filial\":\"Filial 10\"},{\"Nome do Produto\":\"Blush em p\\u00f3\",\"Categoria do Produto\":\"Eletrodom\\u00e9sticos\",\"Pre\\u00e7o do Produto (R$)\":79.19,\"Quantidade em Estoque\":66,\"Filial\":\"Filial 5\"},{\"Nome do Produto\":\"Base l\\u00edquida\",\"Categoria do Produto\":\"Alimentos\",\"Pre\\u00e7o do Produto (R$)\":30.07,\"Quantidade em Estoque\":68,\"Filial\":\"Filial 3\"},{\"Nome do Produto\":\"Base l\\u00edquida\",\"Categoria do Produto\":\"Alimentos\",\"Pre\\u00e7o do Produto (R$)\":25.31,\"Quantidade em Estoque\":44,\"Filial\":\"Filial 5\"},{\"Nome do Produto\":\"P\\u00f3 compacto\",\"Categoria do Produto\":\"Roupas\",\"Pre\\u00e7o do Produto (R$)\":74.18,\"Quantidade em Estoque\":70,\"Filial\":\"Filial 5\"},{\"Nome do Produto\":\"Batom matte\",\"Categoria do Produto\":\"Roupas\",\"Pre\\u00e7o do Produto (R$)\":24.66,\"Quantidade em Estoque\":75,\"Filial\":\"Filial 8\"},{\"Nome do Produto\":\"Delineador l\\u00edquido\",\"Categoria do Produto\":\"Eletrodom\\u00e9sticos\",\"Pre\\u00e7o do Produto (R$)\":49.47,\"Quantidade em Estoque\":34,\"Filial\":\"Filial 10\"},{\"Nome do Produto\":\"Sombra de olhos\",\"Categoria do Produto\":\"Eletr\\u00f4nicos\",\"Pre\\u00e7o do Produto (R$)\":83.11,\"Quantidade em Estoque\":89,\"Filial\":\"Filial 5\"},{\"Nome do Produto\":\"Batom l\\u00edquido\",\"Categoria do Produto\":\"Eletrodom\\u00e9sticos\",\"Pre\\u00e7o do Produto (R$)\":89.07,\"Quantidade em Estoque\":85,\"Filial\":\"Filial 6\"},{\"Nome do Produto\":\"Sombra de olhos\",\"Categoria do Produto\":\"Eletr\\u00f4nicos\",\"Pre\\u00e7o do Produto (R$)\":34.32,\"Quantidade em Estoque\":43,\"Filial\":\"Filial 6\"},{\"Nome do Produto\":\"Sombra de olhos\",\"Categoria do Produto\":\"Roupas\",\"Pre\\u00e7o do Produto (R$)\":77.64,\"Quantidade em Estoque\":52,\"Filial\":\"Filial 7\"},{\"Nome do Produto\":\"M\\u00e1scara de c\\u00edlios\",\"Categoria do Produto\":\"Alimentos\",\"Pre\\u00e7o do Produto (R$)\":13.52,\"Quantidade em Estoque\":34,\"Filial\":\"Filial 5\"},{\"Nome do Produto\":\"Blush em p\\u00f3\",\"Categoria do Produto\":\"Alimentos\",\"Pre\\u00e7o do Produto (R$)\":9.85,\"Quantidade em Estoque\":81,\"Filial\":\"Filial 8\"},{\"Nome do Produto\":\"Blush em p\\u00f3\",\"Categoria do Produto\":\"Eletrodom\\u00e9sticos\",\"Pre\\u00e7o do Produto (R$)\":75.97,\"Quantidade em Estoque\":46,\"Filial\":\"Filial 3\"},{\"Nome do Produto\":\"P\\u00f3 compacto\",\"Categoria do Produto\":\"Roupas\",\"Pre\\u00e7o do Produto (R$)\":18.05,\"Quantidade em Estoque\":27,\"Filial\":\"Filial 1\"},{\"Nome do Produto\":\"P\\u00f3 compacto\",\"Categoria do Produto\":\"Eletrodom\\u00e9sticos\",\"Pre\\u00e7o do Produto (R$)\":68.34,\"Quantidade em Estoque\":58,\"Filial\":\"Filial 8\"},{\"Nome do Produto\":\"Base l\\u00edquida\",\"Categoria do Produto\":\"Roupas\",\"Pre\\u00e7o do Produto (R$)\":97.09,\"Quantidade em Estoque\":98,\"Filial\":\"Filial 6\"},{\"Nome do Produto\":\"Base l\\u00edquida\",\"Categoria do Produto\":\"Eletr\\u00f4nicos\",\"Pre\\u00e7o do Produto (R$)\":20.11,\"Quantidade em Estoque\":14,\"Filial\":\"Filial 8\"},{\"Nome do Produto\":\"Delineador l\\u00edquido\",\"Categoria do Produto\":\"Eletr\\u00f4nicos\",\"Pre\\u00e7o do Produto (R$)\":66.71,\"Quantidade em Estoque\":42,\"Filial\":\"Filial 1\"},{\"Nome do Produto\":\"Delineador l\\u00edquido\",\"Categoria do Produto\":\"Roupas\",\"Pre\\u00e7o do Produto (R$)\":43.51,\"Quantidade em Estoque\":15,\"Filial\":\"Filial 9\"},{\"Nome do Produto\":\"Corretivo\",\"Categoria do Produto\":\"Eletr\\u00f4nicos\",\"Pre\\u00e7o do Produto (R$)\":14.14,\"Quantidade em Estoque\":35,\"Filial\":\"Filial 8\"},{\"Nome do Produto\":\"Batom l\\u00edquido\",\"Categoria do Produto\":\"Eletrodom\\u00e9sticos\",\"Pre\\u00e7o do Produto (R$)\":9.88,\"Quantidade em Estoque\":1,\"Filial\":\"Filial 4\"},{\"Nome do Produto\":\"L\\u00e1pis de sobrancelha\",\"Categoria do Produto\":\"Roupas\",\"Pre\\u00e7o do Produto (R$)\":38.88,\"Quantidade em Estoque\":43,\"Filial\":\"Filial 9\"},{\"Nome do Produto\":\"Delineador l\\u00edquido\",\"Categoria do Produto\":\"Alimentos\",\"Pre\\u00e7o do Produto (R$)\":51.78,\"Quantidade em Estoque\":84,\"Filial\":\"Filial 10\"},{\"Nome do Produto\":\"P\\u00f3 compacto\",\"Categoria do Produto\":\"Eletr\\u00f4nicos\",\"Pre\\u00e7o do Produto (R$)\":28.51,\"Quantidade em Estoque\":2,\"Filial\":\"Filial 1\"},{\"Nome do Produto\":\"Delineador l\\u00edquido\",\"Categoria do Produto\":\"Roupas\",\"Pre\\u00e7o do Produto (R$)\":96.16,\"Quantidade em Estoque\":46,\"Filial\":\"Filial 6\"},{\"Nome do Produto\":\"Blush em p\\u00f3\",\"Categoria do Produto\":\"Eletr\\u00f4nicos\",\"Pre\\u00e7o do Produto (R$)\":44.68,\"Quantidade em Estoque\":46,\"Filial\":\"Filial 7\"},{\"Nome do Produto\":\"L\\u00e1pis de sobrancelha\",\"Categoria do Produto\":\"Eletrodom\\u00e9sticos\",\"Pre\\u00e7o do Produto (R$)\":53.74,\"Quantidade em Estoque\":74,\"Filial\":\"Filial 3\"},{\"Nome do Produto\":\"Corretivo\",\"Categoria do Produto\":\"Eletr\\u00f4nicos\",\"Pre\\u00e7o do Produto (R$)\":65.72,\"Quantidade em Estoque\":39,\"Filial\":\"Filial 1\"},{\"Nome do Produto\":\"Sombra de olhos\",\"Categoria do Produto\":\"Eletrodom\\u00e9sticos\",\"Pre\\u00e7o do Produto (R$)\":61.78,\"Quantidade em Estoque\":33,\"Filial\":\"Filial 1\"},{\"Nome do Produto\":\"L\\u00e1pis de sobrancelha\",\"Categoria do Produto\":\"Alimentos\",\"Pre\\u00e7o do Produto (R$)\":94.67,\"Quantidade em Estoque\":84,\"Filial\":\"Filial 6\"},{\"Nome do Produto\":\"Batom matte\",\"Categoria do Produto\":\"Eletrodom\\u00e9sticos\",\"Pre\\u00e7o do Produto (R$)\":41.2,\"Quantidade em Estoque\":37,\"Filial\":\"Filial 10\"},{\"Nome do Produto\":\"Batom matte\",\"Categoria do Produto\":\"Roupas\",\"Pre\\u00e7o do Produto (R$)\":89.33,\"Quantidade em Estoque\":40,\"Filial\":\"Filial 7\"},{\"Nome do Produto\":\"Corretivo\",\"Categoria do Produto\":\"Eletr\\u00f4nicos\",\"Pre\\u00e7o do Produto (R$)\":28.01,\"Quantidade em Estoque\":52,\"Filial\":\"Filial 9\"},{\"Nome do Produto\":\"Base l\\u00edquida\",\"Categoria do Produto\":\"Eletr\\u00f4nicos\",\"Pre\\u00e7o do Produto (R$)\":67.78,\"Quantidade em Estoque\":96,\"Filial\":\"Filial 4\"},{\"Nome do Produto\":\"P\\u00f3 compacto\",\"Categoria do Produto\":\"Eletr\\u00f4nicos\",\"Pre\\u00e7o do Produto (R$)\":17.15,\"Quantidade em Estoque\":49,\"Filial\":\"Filial 5\"},{\"Nome do Produto\":\"L\\u00e1pis de sobrancelha\",\"Categoria do Produto\":\"Eletrodom\\u00e9sticos\",\"Pre\\u00e7o do Produto (R$)\":34.4,\"Quantidade em Estoque\":99,\"Filial\":\"Filial 2\"},{\"Nome do Produto\":\"Blush em p\\u00f3\",\"Categoria do Produto\":\"Roupas\",\"Pre\\u00e7o do Produto (R$)\":88.98,\"Quantidade em Estoque\":20,\"Filial\":\"Filial 7\"},{\"Nome do Produto\":\"Base l\\u00edquida\",\"Categoria do Produto\":\"Eletrodom\\u00e9sticos\",\"Pre\\u00e7o do Produto (R$)\":83.79,\"Quantidade em Estoque\":52,\"Filial\":\"Filial 9\"},{\"Nome do Produto\":\"Blush em p\\u00f3\",\"Categoria do Produto\":\"Roupas\",\"Pre\\u00e7o do Produto (R$)\":77.29,\"Quantidade em Estoque\":81,\"Filial\":\"Filial 3\"},{\"Nome do Produto\":\"P\\u00f3 compacto\",\"Categoria do Produto\":\"Eletrodom\\u00e9sticos\",\"Pre\\u00e7o do Produto (R$)\":89.62,\"Quantidade em Estoque\":17,\"Filial\":\"Filial 2\"},{\"Nome do Produto\":\"Delineador l\\u00edquido\",\"Categoria do Produto\":\"Alimentos\",\"Pre\\u00e7o do Produto (R$)\":91.19,\"Quantidade em Estoque\":74,\"Filial\":\"Filial 3\"},{\"Nome do Produto\":\"Corretivo\",\"Categoria do Produto\":\"Roupas\",\"Pre\\u00e7o do Produto (R$)\":30.81,\"Quantidade em Estoque\":86,\"Filial\":\"Filial 4\"},{\"Nome do Produto\":\"L\\u00e1pis de sobrancelha\",\"Categoria do Produto\":\"Eletrodom\\u00e9sticos\",\"Pre\\u00e7o do Produto (R$)\":52.18,\"Quantidade em Estoque\":7,\"Filial\":\"Filial 9\"},{\"Nome do Produto\":\"Batom matte\",\"Categoria do Produto\":\"Eletrodom\\u00e9sticos\",\"Pre\\u00e7o do Produto (R$)\":15.8,\"Quantidade em Estoque\":12,\"Filial\":\"Filial 8\"},{\"Nome do Produto\":\"Blush em p\\u00f3\",\"Categoria do Produto\":\"Eletr\\u00f4nicos\",\"Pre\\u00e7o do Produto (R$)\":39.68,\"Quantidade em Estoque\":63,\"Filial\":\"Filial 4\"},{\"Nome do Produto\":\"Sombra de olhos\",\"Categoria do Produto\":\"Eletr\\u00f4nicos\",\"Pre\\u00e7o do Produto (R$)\":8.11,\"Quantidade em Estoque\":61,\"Filial\":\"Filial 10\"},{\"Nome do Produto\":\"Corretivo\",\"Categoria do Produto\":\"Alimentos\",\"Pre\\u00e7o do Produto (R$)\":29.72,\"Quantidade em Estoque\":28,\"Filial\":\"Filial 6\"},{\"Nome do Produto\":\"P\\u00f3 compacto\",\"Categoria do Produto\":\"Eletrodom\\u00e9sticos\",\"Pre\\u00e7o do Produto (R$)\":63.59,\"Quantidade em Estoque\":75,\"Filial\":\"Filial 8\"},{\"Nome do Produto\":\"M\\u00e1scara de c\\u00edlios\",\"Categoria do Produto\":\"Eletr\\u00f4nicos\",\"Pre\\u00e7o do Produto (R$)\":98.14,\"Quantidade em Estoque\":11,\"Filial\":\"Filial 8\"},{\"Nome do Produto\":\"Corretivo\",\"Categoria do Produto\":\"Eletrodom\\u00e9sticos\",\"Pre\\u00e7o do Produto (R$)\":37.27,\"Quantidade em Estoque\":20,\"Filial\":\"Filial 2\"},{\"Nome do Produto\":\"Base l\\u00edquida\",\"Categoria do Produto\":\"Alimentos\",\"Pre\\u00e7o do Produto (R$)\":43.38,\"Quantidade em Estoque\":20,\"Filial\":\"Filial 10\"},{\"Nome do Produto\":\"Batom matte\",\"Categoria do Produto\":\"Roupas\",\"Pre\\u00e7o do Produto (R$)\":72.51,\"Quantidade em Estoque\":53,\"Filial\":\"Filial 2\"},{\"Nome do Produto\":\"Sombra de olhos\",\"Categoria do Produto\":\"Eletrodom\\u00e9sticos\",\"Pre\\u00e7o do Produto (R$)\":5.17,\"Quantidade em Estoque\":35,\"Filial\":\"Filial 3\"},{\"Nome do Produto\":\"M\\u00e1scara de c\\u00edlios\",\"Categoria do Produto\":\"Eletrodom\\u00e9sticos\",\"Pre\\u00e7o do Produto (R$)\":23.11,\"Quantidade em Estoque\":55,\"Filial\":\"Filial 5\"},{\"Nome do Produto\":\"Corretivo\",\"Categoria do Produto\":\"Eletr\\u00f4nicos\",\"Pre\\u00e7o do Produto (R$)\":97.4,\"Quantidade em Estoque\":88,\"Filial\":\"Filial 8\"},{\"Nome do Produto\":\"M\\u00e1scara de c\\u00edlios\",\"Categoria do Produto\":\"Alimentos\",\"Pre\\u00e7o do Produto (R$)\":39.73,\"Quantidade em Estoque\":46,\"Filial\":\"Filial 8\"},{\"Nome do Produto\":\"Batom l\\u00edquido\",\"Categoria do Produto\":\"Roupas\",\"Pre\\u00e7o do Produto (R$)\":58.73,\"Quantidade em Estoque\":18,\"Filial\":\"Filial 6\"},{\"Nome do Produto\":\"M\\u00e1scara de c\\u00edlios\",\"Categoria do Produto\":\"Alimentos\",\"Pre\\u00e7o do Produto (R$)\":58.97,\"Quantidade em Estoque\":67,\"Filial\":\"Filial 7\"},{\"Nome do Produto\":\"P\\u00f3 compacto\",\"Categoria do Produto\":\"Eletr\\u00f4nicos\",\"Pre\\u00e7o do Produto (R$)\":22.8,\"Quantidade em Estoque\":66,\"Filial\":\"Filial 5\"},{\"Nome do Produto\":\"L\\u00e1pis de sobrancelha\",\"Categoria do Produto\":\"Eletr\\u00f4nicos\",\"Pre\\u00e7o do Produto (R$)\":36.94,\"Quantidade em Estoque\":78,\"Filial\":\"Filial 4\"},{\"Nome do Produto\":\"Delineador l\\u00edquido\",\"Categoria do Produto\":\"Eletr\\u00f4nicos\",\"Pre\\u00e7o do Produto (R$)\":18.33,\"Quantidade em Estoque\":60,\"Filial\":\"Filial 10\"},{\"Nome do Produto\":\"Batom l\\u00edquido\",\"Categoria do Produto\":\"Eletr\\u00f4nicos\",\"Pre\\u00e7o do Produto (R$)\":13.7,\"Quantidade em Estoque\":90,\"Filial\":\"Filial 10\"},{\"Nome do Produto\":\"Corretivo\",\"Categoria do Produto\":\"Eletrodom\\u00e9sticos\",\"Pre\\u00e7o do Produto (R$)\":64.64,\"Quantidade em Estoque\":31,\"Filial\":\"Filial 4\"},{\"Nome do Produto\":\"L\\u00e1pis de sobrancelha\",\"Categoria do Produto\":\"Eletr\\u00f4nicos\",\"Pre\\u00e7o do Produto (R$)\":11.9,\"Quantidade em Estoque\":7,\"Filial\":\"Filial 8\"},{\"Nome do Produto\":\"Base l\\u00edquida\",\"Categoria do Produto\":\"Alimentos\",\"Pre\\u00e7o do Produto (R$)\":32.16,\"Quantidade em Estoque\":28,\"Filial\":\"Filial 8\"},{\"Nome do Produto\":\"P\\u00f3 compacto\",\"Categoria do Produto\":\"Eletrodom\\u00e9sticos\",\"Pre\\u00e7o do Produto (R$)\":16.0,\"Quantidade em Estoque\":25,\"Filial\":\"Filial 1\"},{\"Nome do Produto\":\"Sombra de olhos\",\"Categoria do Produto\":\"Roupas\",\"Pre\\u00e7o do Produto (R$)\":52.62,\"Quantidade em Estoque\":56,\"Filial\":\"Filial 8\"},{\"Nome do Produto\":\"Blush em p\\u00f3\",\"Categoria do Produto\":\"Eletr\\u00f4nicos\",\"Pre\\u00e7o do Produto (R$)\":6.11,\"Quantidade em Estoque\":15,\"Filial\":\"Filial 1\"},{\"Nome do Produto\":\"L\\u00e1pis de sobrancelha\",\"Categoria do Produto\":\"Alimentos\",\"Pre\\u00e7o do Produto (R$)\":63.05,\"Quantidade em Estoque\":32,\"Filial\":\"Filial 7\"},{\"Nome do Produto\":\"Batom matte\",\"Categoria do Produto\":\"Eletr\\u00f4nicos\",\"Pre\\u00e7o do Produto (R$)\":52.8,\"Quantidade em Estoque\":52,\"Filial\":\"Filial 5\"},{\"Nome do Produto\":\"P\\u00f3 compacto\",\"Categoria do Produto\":\"Eletrodom\\u00e9sticos\",\"Pre\\u00e7o do Produto (R$)\":6.33,\"Quantidade em Estoque\":1,\"Filial\":\"Filial 10\"},{\"Nome do Produto\":\"M\\u00e1scara de c\\u00edlios\",\"Categoria do Produto\":\"Eletrodom\\u00e9sticos\",\"Pre\\u00e7o do Produto (R$)\":67.25,\"Quantidade em Estoque\":97,\"Filial\":\"Filial 4\"},{\"Nome do Produto\":\"Base l\\u00edquida\",\"Categoria do Produto\":\"Eletr\\u00f4nicos\",\"Pre\\u00e7o do Produto (R$)\":14.91,\"Quantidade em Estoque\":5,\"Filial\":\"Filial 3\"},{\"Nome do Produto\":\"M\\u00e1scara de c\\u00edlios\",\"Categoria do Produto\":\"Alimentos\",\"Pre\\u00e7o do Produto (R$)\":63.79,\"Quantidade em Estoque\":80,\"Filial\":\"Filial 2\"},{\"Nome do Produto\":\"Sombra de olhos\",\"Categoria do Produto\":\"Eletr\\u00f4nicos\",\"Pre\\u00e7o do Produto (R$)\":69.0,\"Quantidade em Estoque\":60,\"Filial\":\"Filial 7\"},{\"Nome do Produto\":\"Batom l\\u00edquido\",\"Categoria do Produto\":\"Roupas\",\"Pre\\u00e7o do Produto (R$)\":1.77,\"Quantidade em Estoque\":87,\"Filial\":\"Filial 1\"},{\"Nome do Produto\":\"Batom matte\",\"Categoria do Produto\":\"Alimentos\",\"Pre\\u00e7o do Produto (R$)\":92.96,\"Quantidade em Estoque\":64,\"Filial\":\"Filial 5\"},{\"Nome do Produto\":\"Blush em p\\u00f3\",\"Categoria do Produto\":\"Eletr\\u00f4nicos\",\"Pre\\u00e7o do Produto (R$)\":86.13,\"Quantidade em Estoque\":64,\"Filial\":\"Filial 10\"},{\"Nome do Produto\":\"Batom matte\",\"Categoria do Produto\":\"Alimentos\",\"Pre\\u00e7o do Produto (R$)\":39.71,\"Quantidade em Estoque\":60,\"Filial\":\"Filial 2\"},{\"Nome do Produto\":\"Batom l\\u00edquido\",\"Categoria do Produto\":\"Alimentos\",\"Pre\\u00e7o do Produto (R$)\":29.18,\"Quantidade em Estoque\":47,\"Filial\":\"Filial 3\"},{\"Nome do Produto\":\"Sombra de olhos\",\"Categoria do Produto\":\"Alimentos\",\"Pre\\u00e7o do Produto (R$)\":76.74,\"Quantidade em Estoque\":55,\"Filial\":\"Filial 9\"},{\"Nome do Produto\":\"Base l\\u00edquida\",\"Categoria do Produto\":\"Alimentos\",\"Pre\\u00e7o do Produto (R$)\":17.74,\"Quantidade em Estoque\":76,\"Filial\":\"Filial 2\"},{\"Nome do Produto\":\"Corretivo\",\"Categoria do Produto\":\"Eletrodom\\u00e9sticos\",\"Pre\\u00e7o do Produto (R$)\":93.73,\"Quantidade em Estoque\":25,\"Filial\":\"Filial 2\"},{\"Nome do Produto\":\"Base l\\u00edquida\",\"Categoria do Produto\":\"Eletr\\u00f4nicos\",\"Pre\\u00e7o do Produto (R$)\":49.83,\"Quantidade em Estoque\":73,\"Filial\":\"Filial 2\"},{\"Nome do Produto\":\"L\\u00e1pis de sobrancelha\",\"Categoria do Produto\":\"Roupas\",\"Pre\\u00e7o do Produto (R$)\":33.74,\"Quantidade em Estoque\":84,\"Filial\":\"Filial 8\"},{\"Nome do Produto\":\"Sombra de olhos\",\"Categoria do Produto\":\"Eletr\\u00f4nicos\",\"Pre\\u00e7o do Produto (R$)\":57.22,\"Quantidade em Estoque\":30,\"Filial\":\"Filial 7\"},{\"Nome do Produto\":\"Batom l\\u00edquido\",\"Categoria do Produto\":\"Eletr\\u00f4nicos\",\"Pre\\u00e7o do Produto (R$)\":95.47,\"Quantidade em Estoque\":54,\"Filial\":\"Filial 4\"},{\"Nome do Produto\":\"Base l\\u00edquida\",\"Categoria do Produto\":\"Roupas\",\"Pre\\u00e7o do Produto (R$)\":52.36,\"Quantidade em Estoque\":28,\"Filial\":\"Filial 7\"},{\"Nome do Produto\":\"Corretivo\",\"Categoria do Produto\":\"Eletr\\u00f4nicos\",\"Pre\\u00e7o do Produto (R$)\":4.91,\"Quantidade em Estoque\":44,\"Filial\":\"Filial 9\"},{\"Nome do Produto\":\"Sombra de olhos\",\"Categoria do Produto\":\"Roupas\",\"Pre\\u00e7o do Produto (R$)\":88.43,\"Quantidade em Estoque\":5,\"Filial\":\"Filial 1\"},{\"Nome do Produto\":\"Base l\\u00edquida\",\"Categoria do Produto\":\"Alimentos\",\"Pre\\u00e7o do Produto (R$)\":42.9,\"Quantidade em Estoque\":5,\"Filial\":\"Filial 1\"},{\"Nome do Produto\":\"Delineador l\\u00edquido\",\"Categoria do Produto\":\"Eletrodom\\u00e9sticos\",\"Pre\\u00e7o do Produto (R$)\":17.48,\"Quantidade em Estoque\":5,\"Filial\":\"Filial 3\"},{\"Nome do Produto\":\"Delineador l\\u00edquido\",\"Categoria do Produto\":\"Roupas\",\"Pre\\u00e7o do Produto (R$)\":35.38,\"Quantidade em Estoque\":36,\"Filial\":\"Filial 2\"},{\"Nome do Produto\":\"Delineador l\\u00edquido\",\"Categoria do Produto\":\"Eletrodom\\u00e9sticos\",\"Pre\\u00e7o do Produto (R$)\":4.56,\"Quantidade em Estoque\":27,\"Filial\":\"Filial 5\"},{\"Nome do Produto\":\"Sombra de olhos\",\"Categoria do Produto\":\"Alimentos\",\"Pre\\u00e7o do Produto (R$)\":4.69,\"Quantidade em Estoque\":18,\"Filial\":\"Filial 4\"},{\"Nome do Produto\":\"Delineador l\\u00edquido\",\"Categoria do Produto\":\"Eletr\\u00f4nicos\",\"Pre\\u00e7o do Produto (R$)\":2.04,\"Quantidade em Estoque\":28,\"Filial\":\"Filial 10\"},{\"Nome do Produto\":\"Batom matte\",\"Categoria do Produto\":\"Alimentos\",\"Pre\\u00e7o do Produto (R$)\":34.64,\"Quantidade em Estoque\":73,\"Filial\":\"Filial 2\"},{\"Nome do Produto\":\"L\\u00e1pis de sobrancelha\",\"Categoria do Produto\":\"Eletr\\u00f4nicos\",\"Pre\\u00e7o do Produto (R$)\":8.77,\"Quantidade em Estoque\":27,\"Filial\":\"Filial 5\"},{\"Nome do Produto\":\"M\\u00e1scara de c\\u00edlios\",\"Categoria do Produto\":\"Roupas\",\"Pre\\u00e7o do Produto (R$)\":37.86,\"Quantidade em Estoque\":78,\"Filial\":\"Filial 4\"},{\"Nome do Produto\":\"Base l\\u00edquida\",\"Categoria do Produto\":\"Roupas\",\"Pre\\u00e7o do Produto (R$)\":44.88,\"Quantidade em Estoque\":31,\"Filial\":\"Filial 7\"},{\"Nome do Produto\":\"Sombra de olhos\",\"Categoria do Produto\":\"Roupas\",\"Pre\\u00e7o do Produto (R$)\":22.04,\"Quantidade em Estoque\":85,\"Filial\":\"Filial 2\"},{\"Nome do Produto\":\"Sombra de olhos\",\"Categoria do Produto\":\"Alimentos\",\"Pre\\u00e7o do Produto (R$)\":40.0,\"Quantidade em Estoque\":23,\"Filial\":\"Filial 5\"},{\"Nome do Produto\":\"P\\u00f3 compacto\",\"Categoria do Produto\":\"Eletr\\u00f4nicos\",\"Pre\\u00e7o do Produto (R$)\":99.55,\"Quantidade em Estoque\":6,\"Filial\":\"Filial 3\"},{\"Nome do Produto\":\"L\\u00e1pis de sobrancelha\",\"Categoria do Produto\":\"Roupas\",\"Pre\\u00e7o do Produto (R$)\":21.22,\"Quantidade em Estoque\":8,\"Filial\":\"Filial 5\"},{\"Nome do Produto\":\"Sombra de olhos\",\"Categoria do Produto\":\"Eletr\\u00f4nicos\",\"Pre\\u00e7o do Produto (R$)\":61.69,\"Quantidade em Estoque\":50,\"Filial\":\"Filial 7\"},{\"Nome do Produto\":\"Sombra de olhos\",\"Categoria do Produto\":\"Alimentos\",\"Pre\\u00e7o do Produto (R$)\":46.77,\"Quantidade em Estoque\":77,\"Filial\":\"Filial 6\"},{\"Nome do Produto\":\"Batom matte\",\"Categoria do Produto\":\"Eletrodom\\u00e9sticos\",\"Pre\\u00e7o do Produto (R$)\":1.21,\"Quantidade em Estoque\":99,\"Filial\":\"Filial 8\"},{\"Nome do Produto\":\"Sombra de olhos\",\"Categoria do Produto\":\"Eletrodom\\u00e9sticos\",\"Pre\\u00e7o do Produto (R$)\":66.57,\"Quantidade em Estoque\":66,\"Filial\":\"Filial 3\"},{\"Nome do Produto\":\"Base l\\u00edquida\",\"Categoria do Produto\":\"Eletr\\u00f4nicos\",\"Pre\\u00e7o do Produto (R$)\":3.15,\"Quantidade em Estoque\":91,\"Filial\":\"Filial 7\"},{\"Nome do Produto\":\"Delineador l\\u00edquido\",\"Categoria do Produto\":\"Roupas\",\"Pre\\u00e7o do Produto (R$)\":6.58,\"Quantidade em Estoque\":24,\"Filial\":\"Filial 9\"},{\"Nome do Produto\":\"L\\u00e1pis de sobrancelha\",\"Categoria do Produto\":\"Eletr\\u00f4nicos\",\"Pre\\u00e7o do Produto (R$)\":99.33,\"Quantidade em Estoque\":81,\"Filial\":\"Filial 2\"},{\"Nome do Produto\":\"L\\u00e1pis de sobrancelha\",\"Categoria do Produto\":\"Eletr\\u00f4nicos\",\"Pre\\u00e7o do Produto (R$)\":98.42,\"Quantidade em Estoque\":17,\"Filial\":\"Filial 8\"},{\"Nome do Produto\":\"M\\u00e1scara de c\\u00edlios\",\"Categoria do Produto\":\"Alimentos\",\"Pre\\u00e7o do Produto (R$)\":64.91,\"Quantidade em Estoque\":56,\"Filial\":\"Filial 2\"},{\"Nome do Produto\":\"Batom l\\u00edquido\",\"Categoria do Produto\":\"Eletr\\u00f4nicos\",\"Pre\\u00e7o do Produto (R$)\":37.99,\"Quantidade em Estoque\":100,\"Filial\":\"Filial 8\"},{\"Nome do Produto\":\"Delineador l\\u00edquido\",\"Categoria do Produto\":\"Alimentos\",\"Pre\\u00e7o do Produto (R$)\":93.85,\"Quantidade em Estoque\":62,\"Filial\":\"Filial 2\"},{\"Nome do Produto\":\"Base l\\u00edquida\",\"Categoria do Produto\":\"Eletrodom\\u00e9sticos\",\"Pre\\u00e7o do Produto (R$)\":1.02,\"Quantidade em Estoque\":96,\"Filial\":\"Filial 9\"},{\"Nome do Produto\":\"L\\u00e1pis de sobrancelha\",\"Categoria do Produto\":\"Eletr\\u00f4nicos\",\"Pre\\u00e7o do Produto (R$)\":98.07,\"Quantidade em Estoque\":64,\"Filial\":\"Filial 7\"},{\"Nome do Produto\":\"Base l\\u00edquida\",\"Categoria do Produto\":\"Roupas\",\"Pre\\u00e7o do Produto (R$)\":81.52,\"Quantidade em Estoque\":82,\"Filial\":\"Filial 5\"},{\"Nome do Produto\":\"L\\u00e1pis de sobrancelha\",\"Categoria do Produto\":\"Roupas\",\"Pre\\u00e7o do Produto (R$)\":25.51,\"Quantidade em Estoque\":43,\"Filial\":\"Filial 7\"},{\"Nome do Produto\":\"P\\u00f3 compacto\",\"Categoria do Produto\":\"Eletrodom\\u00e9sticos\",\"Pre\\u00e7o do Produto (R$)\":33.86,\"Quantidade em Estoque\":72,\"Filial\":\"Filial 7\"},{\"Nome do Produto\":\"Corretivo\",\"Categoria do Produto\":\"Eletrodom\\u00e9sticos\",\"Pre\\u00e7o do Produto (R$)\":45.32,\"Quantidade em Estoque\":76,\"Filial\":\"Filial 5\"},{\"Nome do Produto\":\"Batom matte\",\"Categoria do Produto\":\"Eletrodom\\u00e9sticos\",\"Pre\\u00e7o do Produto (R$)\":50.1,\"Quantidade em Estoque\":53,\"Filial\":\"Filial 3\"},{\"Nome do Produto\":\"Batom matte\",\"Categoria do Produto\":\"Alimentos\",\"Pre\\u00e7o do Produto (R$)\":91.0,\"Quantidade em Estoque\":90,\"Filial\":\"Filial 2\"},{\"Nome do Produto\":\"Batom matte\",\"Categoria do Produto\":\"Eletrodom\\u00e9sticos\",\"Pre\\u00e7o do Produto (R$)\":15.84,\"Quantidade em Estoque\":5,\"Filial\":\"Filial 5\"},{\"Nome do Produto\":\"Delineador l\\u00edquido\",\"Categoria do Produto\":\"Eletr\\u00f4nicos\",\"Pre\\u00e7o do Produto (R$)\":38.54,\"Quantidade em Estoque\":2,\"Filial\":\"Filial 4\"},{\"Nome do Produto\":\"Delineador l\\u00edquido\",\"Categoria do Produto\":\"Roupas\",\"Pre\\u00e7o do Produto (R$)\":60.97,\"Quantidade em Estoque\":57,\"Filial\":\"Filial 6\"},{\"Nome do Produto\":\"Delineador l\\u00edquido\",\"Categoria do Produto\":\"Eletr\\u00f4nicos\",\"Pre\\u00e7o do Produto (R$)\":79.12,\"Quantidade em Estoque\":38,\"Filial\":\"Filial 9\"},{\"Nome do Produto\":\"Delineador l\\u00edquido\",\"Categoria do Produto\":\"Alimentos\",\"Pre\\u00e7o do Produto (R$)\":14.52,\"Quantidade em Estoque\":72,\"Filial\":\"Filial 5\"},{\"Nome do Produto\":\"Delineador l\\u00edquido\",\"Categoria do Produto\":\"Eletrodom\\u00e9sticos\",\"Pre\\u00e7o do Produto (R$)\":28.36,\"Quantidade em Estoque\":40,\"Filial\":\"Filial 8\"},{\"Nome do Produto\":\"Batom l\\u00edquido\",\"Categoria do Produto\":\"Roupas\",\"Pre\\u00e7o do Produto (R$)\":95.78,\"Quantidade em Estoque\":87,\"Filial\":\"Filial 7\"},{\"Nome do Produto\":\"P\\u00f3 compacto\",\"Categoria do Produto\":\"Roupas\",\"Pre\\u00e7o do Produto (R$)\":90.87,\"Quantidade em Estoque\":73,\"Filial\":\"Filial 9\"},{\"Nome do Produto\":\"Base l\\u00edquida\",\"Categoria do Produto\":\"Eletrodom\\u00e9sticos\",\"Pre\\u00e7o do Produto (R$)\":69.62,\"Quantidade em Estoque\":81,\"Filial\":\"Filial 4\"},{\"Nome do Produto\":\"P\\u00f3 compacto\",\"Categoria do Produto\":\"Alimentos\",\"Pre\\u00e7o do Produto (R$)\":24.84,\"Quantidade em Estoque\":43,\"Filial\":\"Filial 1\"},{\"Nome do Produto\":\"Blush em p\\u00f3\",\"Categoria do Produto\":\"Eletrodom\\u00e9sticos\",\"Pre\\u00e7o do Produto (R$)\":86.88,\"Quantidade em Estoque\":89,\"Filial\":\"Filial 7\"},{\"Nome do Produto\":\"L\\u00e1pis de sobrancelha\",\"Categoria do Produto\":\"Eletrodom\\u00e9sticos\",\"Pre\\u00e7o do Produto (R$)\":41.67,\"Quantidade em Estoque\":81,\"Filial\":\"Filial 2\"},{\"Nome do Produto\":\"Corretivo\",\"Categoria do Produto\":\"Eletr\\u00f4nicos\",\"Pre\\u00e7o do Produto (R$)\":19.25,\"Quantidade em Estoque\":57,\"Filial\":\"Filial 10\"},{\"Nome do Produto\":\"L\\u00e1pis de sobrancelha\",\"Categoria do Produto\":\"Eletr\\u00f4nicos\",\"Pre\\u00e7o do Produto (R$)\":90.32,\"Quantidade em Estoque\":53,\"Filial\":\"Filial 4\"},{\"Nome do Produto\":\"Sombra de olhos\",\"Categoria do Produto\":\"Eletrodom\\u00e9sticos\",\"Pre\\u00e7o do Produto (R$)\":24.48,\"Quantidade em Estoque\":39,\"Filial\":\"Filial 4\"},{\"Nome do Produto\":\"Batom l\\u00edquido\",\"Categoria do Produto\":\"Eletr\\u00f4nicos\",\"Pre\\u00e7o do Produto (R$)\":44.21,\"Quantidade em Estoque\":71,\"Filial\":\"Filial 5\"},{\"Nome do Produto\":\"Base l\\u00edquida\",\"Categoria do Produto\":\"Eletrodom\\u00e9sticos\",\"Pre\\u00e7o do Produto (R$)\":11.2,\"Quantidade em Estoque\":94,\"Filial\":\"Filial 1\"},{\"Nome do Produto\":\"Sombra de olhos\",\"Categoria do Produto\":\"Roupas\",\"Pre\\u00e7o do Produto (R$)\":62.41,\"Quantidade em Estoque\":11,\"Filial\":\"Filial 9\"},{\"Nome do Produto\":\"Sombra de olhos\",\"Categoria do Produto\":\"Eletr\\u00f4nicos\",\"Pre\\u00e7o do Produto (R$)\":12.5,\"Quantidade em Estoque\":40,\"Filial\":\"Filial 4\"},{\"Nome do Produto\":\"Delineador l\\u00edquido\",\"Categoria do Produto\":\"Roupas\",\"Pre\\u00e7o do Produto (R$)\":30.24,\"Quantidade em Estoque\":19,\"Filial\":\"Filial 3\"},{\"Nome do Produto\":\"Corretivo\",\"Categoria do Produto\":\"Roupas\",\"Pre\\u00e7o do Produto (R$)\":78.67,\"Quantidade em Estoque\":92,\"Filial\":\"Filial 10\"},{\"Nome do Produto\":\"Blush em p\\u00f3\",\"Categoria do Produto\":\"Eletr\\u00f4nicos\",\"Pre\\u00e7o do Produto (R$)\":61.12,\"Quantidade em Estoque\":16,\"Filial\":\"Filial 5\"},{\"Nome do Produto\":\"M\\u00e1scara de c\\u00edlios\",\"Categoria do Produto\":\"Eletrodom\\u00e9sticos\",\"Pre\\u00e7o do Produto (R$)\":10.54,\"Quantidade em Estoque\":25,\"Filial\":\"Filial 8\"},{\"Nome do Produto\":\"P\\u00f3 compacto\",\"Categoria do Produto\":\"Eletr\\u00f4nicos\",\"Pre\\u00e7o do Produto (R$)\":99.03,\"Quantidade em Estoque\":82,\"Filial\":\"Filial 9\"},{\"Nome do Produto\":\"Batom l\\u00edquido\",\"Categoria do Produto\":\"Alimentos\",\"Pre\\u00e7o do Produto (R$)\":35.94,\"Quantidade em Estoque\":91,\"Filial\":\"Filial 8\"},{\"Nome do Produto\":\"M\\u00e1scara de c\\u00edlios\",\"Categoria do Produto\":\"Eletr\\u00f4nicos\",\"Pre\\u00e7o do Produto (R$)\":85.34,\"Quantidade em Estoque\":6,\"Filial\":\"Filial 2\"},{\"Nome do Produto\":\"Sombra de olhos\",\"Categoria do Produto\":\"Alimentos\",\"Pre\\u00e7o do Produto (R$)\":25.36,\"Quantidade em Estoque\":99,\"Filial\":\"Filial 4\"},{\"Nome do Produto\":\"Base l\\u00edquida\",\"Categoria do Produto\":\"Roupas\",\"Pre\\u00e7o do Produto (R$)\":74.03,\"Quantidade em Estoque\":22,\"Filial\":\"Filial 5\"},{\"Nome do Produto\":\"Corretivo\",\"Categoria do Produto\":\"Alimentos\",\"Pre\\u00e7o do Produto (R$)\":24.7,\"Quantidade em Estoque\":34,\"Filial\":\"Filial 5\"},{\"Nome do Produto\":\"Delineador l\\u00edquido\",\"Categoria do Produto\":\"Alimentos\",\"Pre\\u00e7o do Produto (R$)\":54.5,\"Quantidade em Estoque\":21,\"Filial\":\"Filial 7\"},{\"Nome do Produto\":\"Sombra de olhos\",\"Categoria do Produto\":\"Eletr\\u00f4nicos\",\"Pre\\u00e7o do Produto (R$)\":37.02,\"Quantidade em Estoque\":77,\"Filial\":\"Filial 7\"},{\"Nome do Produto\":\"Base l\\u00edquida\",\"Categoria do Produto\":\"Eletr\\u00f4nicos\",\"Pre\\u00e7o do Produto (R$)\":3.98,\"Quantidade em Estoque\":53,\"Filial\":\"Filial 1\"},{\"Nome do Produto\":\"M\\u00e1scara de c\\u00edlios\",\"Categoria do Produto\":\"Roupas\",\"Pre\\u00e7o do Produto (R$)\":77.57,\"Quantidade em Estoque\":78,\"Filial\":\"Filial 8\"},{\"Nome do Produto\":\"P\\u00f3 compacto\",\"Categoria do Produto\":\"Roupas\",\"Pre\\u00e7o do Produto (R$)\":41.89,\"Quantidade em Estoque\":6,\"Filial\":\"Filial 9\"},{\"Nome do Produto\":\"Batom l\\u00edquido\",\"Categoria do Produto\":\"Eletr\\u00f4nicos\",\"Pre\\u00e7o do Produto (R$)\":47.57,\"Quantidade em Estoque\":85,\"Filial\":\"Filial 4\"},{\"Nome do Produto\":\"Batom matte\",\"Categoria do Produto\":\"Alimentos\",\"Pre\\u00e7o do Produto (R$)\":58.88,\"Quantidade em Estoque\":8,\"Filial\":\"Filial 4\"},{\"Nome do Produto\":\"P\\u00f3 compacto\",\"Categoria do Produto\":\"Roupas\",\"Pre\\u00e7o do Produto (R$)\":6.12,\"Quantidade em Estoque\":89,\"Filial\":\"Filial 1\"},{\"Nome do Produto\":\"Sombra de olhos\",\"Categoria do Produto\":\"Alimentos\",\"Pre\\u00e7o do Produto (R$)\":85.51,\"Quantidade em Estoque\":8,\"Filial\":\"Filial 6\"},{\"Nome do Produto\":\"Batom l\\u00edquido\",\"Categoria do Produto\":\"Roupas\",\"Pre\\u00e7o do Produto (R$)\":40.06,\"Quantidade em Estoque\":19,\"Filial\":\"Filial 1\"},{\"Nome do Produto\":\"Sombra de olhos\",\"Categoria do Produto\":\"Eletr\\u00f4nicos\",\"Pre\\u00e7o do Produto (R$)\":46.23,\"Quantidade em Estoque\":9,\"Filial\":\"Filial 7\"},{\"Nome do Produto\":\"Delineador l\\u00edquido\",\"Categoria do Produto\":\"Alimentos\",\"Pre\\u00e7o do Produto (R$)\":15.31,\"Quantidade em Estoque\":49,\"Filial\":\"Filial 7\"},{\"Nome do Produto\":\"M\\u00e1scara de c\\u00edlios\",\"Categoria do Produto\":\"Eletr\\u00f4nicos\",\"Pre\\u00e7o do Produto (R$)\":80.3,\"Quantidade em Estoque\":20,\"Filial\":\"Filial 1\"},{\"Nome do Produto\":\"Delineador l\\u00edquido\",\"Categoria do Produto\":\"Roupas\",\"Pre\\u00e7o do Produto (R$)\":17.57,\"Quantidade em Estoque\":87,\"Filial\":\"Filial 5\"},{\"Nome do Produto\":\"Corretivo\",\"Categoria do Produto\":\"Eletr\\u00f4nicos\",\"Pre\\u00e7o do Produto (R$)\":4.59,\"Quantidade em Estoque\":89,\"Filial\":\"Filial 1\"},{\"Nome do Produto\":\"Sombra de olhos\",\"Categoria do Produto\":\"Alimentos\",\"Pre\\u00e7o do Produto (R$)\":4.34,\"Quantidade em Estoque\":6,\"Filial\":\"Filial 1\"},{\"Nome do Produto\":\"Delineador l\\u00edquido\",\"Categoria do Produto\":\"Eletrodom\\u00e9sticos\",\"Pre\\u00e7o do Produto (R$)\":81.67,\"Quantidade em Estoque\":96,\"Filial\":\"Filial 10\"},{\"Nome do Produto\":\"Delineador l\\u00edquido\",\"Categoria do Produto\":\"Eletr\\u00f4nicos\",\"Pre\\u00e7o do Produto (R$)\":4.05,\"Quantidade em Estoque\":82,\"Filial\":\"Filial 5\"},{\"Nome do Produto\":\"Corretivo\",\"Categoria do Produto\":\"Eletr\\u00f4nicos\",\"Pre\\u00e7o do Produto (R$)\":2.22,\"Quantidade em Estoque\":34,\"Filial\":\"Filial 8\"},{\"Nome do Produto\":\"M\\u00e1scara de c\\u00edlios\",\"Categoria do Produto\":\"Eletrodom\\u00e9sticos\",\"Pre\\u00e7o do Produto (R$)\":59.4,\"Quantidade em Estoque\":86,\"Filial\":\"Filial 3\"},{\"Nome do Produto\":\"Sombra de olhos\",\"Categoria do Produto\":\"Roupas\",\"Pre\\u00e7o do Produto (R$)\":21.61,\"Quantidade em Estoque\":4,\"Filial\":\"Filial 10\"},{\"Nome do Produto\":\"Base l\\u00edquida\",\"Categoria do Produto\":\"Eletrodom\\u00e9sticos\",\"Pre\\u00e7o do Produto (R$)\":58.95,\"Quantidade em Estoque\":12,\"Filial\":\"Filial 4\"},{\"Nome do Produto\":\"Batom l\\u00edquido\",\"Categoria do Produto\":\"Alimentos\",\"Pre\\u00e7o do Produto (R$)\":79.66,\"Quantidade em Estoque\":76,\"Filial\":\"Filial 8\"},{\"Nome do Produto\":\"Batom matte\",\"Categoria do Produto\":\"Alimentos\",\"Pre\\u00e7o do Produto (R$)\":72.87,\"Quantidade em Estoque\":57,\"Filial\":\"Filial 6\"},{\"Nome do Produto\":\"M\\u00e1scara de c\\u00edlios\",\"Categoria do Produto\":\"Eletr\\u00f4nicos\",\"Pre\\u00e7o do Produto (R$)\":4.38,\"Quantidade em Estoque\":64,\"Filial\":\"Filial 2\"},{\"Nome do Produto\":\"Batom l\\u00edquido\",\"Categoria do Produto\":\"Alimentos\",\"Pre\\u00e7o do Produto (R$)\":19.37,\"Quantidade em Estoque\":61,\"Filial\":\"Filial 6\"},{\"Nome do Produto\":\"Batom matte\",\"Categoria do Produto\":\"Alimentos\",\"Pre\\u00e7o do Produto (R$)\":6.87,\"Quantidade em Estoque\":74,\"Filial\":\"Filial 9\"},{\"Nome do Produto\":\"Sombra de olhos\",\"Categoria do Produto\":\"Roupas\",\"Pre\\u00e7o do Produto (R$)\":30.62,\"Quantidade em Estoque\":75,\"Filial\":\"Filial 5\"},{\"Nome do Produto\":\"Base l\\u00edquida\",\"Categoria do Produto\":\"Alimentos\",\"Pre\\u00e7o do Produto (R$)\":25.58,\"Quantidade em Estoque\":87,\"Filial\":\"Filial 10\"},{\"Nome do Produto\":\"Delineador l\\u00edquido\",\"Categoria do Produto\":\"Eletr\\u00f4nicos\",\"Pre\\u00e7o do Produto (R$)\":70.35,\"Quantidade em Estoque\":21,\"Filial\":\"Filial 10\"},{\"Nome do Produto\":\"M\\u00e1scara de c\\u00edlios\",\"Categoria do Produto\":\"Roupas\",\"Pre\\u00e7o do Produto (R$)\":18.26,\"Quantidade em Estoque\":78,\"Filial\":\"Filial 9\"},{\"Nome do Produto\":\"L\\u00e1pis de sobrancelha\",\"Categoria do Produto\":\"Alimentos\",\"Pre\\u00e7o do Produto (R$)\":56.62,\"Quantidade em Estoque\":14,\"Filial\":\"Filial 1\"},{\"Nome do Produto\":\"Blush em p\\u00f3\",\"Categoria do Produto\":\"Roupas\",\"Pre\\u00e7o do Produto (R$)\":70.46,\"Quantidade em Estoque\":9,\"Filial\":\"Filial 10\"},{\"Nome do Produto\":\"M\\u00e1scara de c\\u00edlios\",\"Categoria do Produto\":\"Eletr\\u00f4nicos\",\"Pre\\u00e7o do Produto (R$)\":72.0,\"Quantidade em Estoque\":63,\"Filial\":\"Filial 5\"},{\"Nome do Produto\":\"Batom matte\",\"Categoria do Produto\":\"Roupas\",\"Pre\\u00e7o do Produto (R$)\":91.04,\"Quantidade em Estoque\":28,\"Filial\":\"Filial 9\"},{\"Nome do Produto\":\"Sombra de olhos\",\"Categoria do Produto\":\"Eletrodom\\u00e9sticos\",\"Pre\\u00e7o do Produto (R$)\":58.06,\"Quantidade em Estoque\":10,\"Filial\":\"Filial 7\"},{\"Nome do Produto\":\"Blush em p\\u00f3\",\"Categoria do Produto\":\"Eletr\\u00f4nicos\",\"Pre\\u00e7o do Produto (R$)\":72.28,\"Quantidade em Estoque\":98,\"Filial\":\"Filial 4\"},{\"Nome do Produto\":\"Batom l\\u00edquido\",\"Categoria do Produto\":\"Eletrodom\\u00e9sticos\",\"Pre\\u00e7o do Produto (R$)\":2.33,\"Quantidade em Estoque\":44,\"Filial\":\"Filial 10\"},{\"Nome do Produto\":\"P\\u00f3 compacto\",\"Categoria do Produto\":\"Eletrodom\\u00e9sticos\",\"Pre\\u00e7o do Produto (R$)\":41.77,\"Quantidade em Estoque\":21,\"Filial\":\"Filial 1\"},{\"Nome do Produto\":\"L\\u00e1pis de sobrancelha\",\"Categoria do Produto\":\"Eletr\\u00f4nicos\",\"Pre\\u00e7o do Produto (R$)\":49.49,\"Quantidade em Estoque\":89,\"Filial\":\"Filial 8\"},{\"Nome do Produto\":\"Base l\\u00edquida\",\"Categoria do Produto\":\"Roupas\",\"Pre\\u00e7o do Produto (R$)\":54.08,\"Quantidade em Estoque\":61,\"Filial\":\"Filial 4\"},{\"Nome do Produto\":\"Batom matte\",\"Categoria do Produto\":\"Alimentos\",\"Pre\\u00e7o do Produto (R$)\":9.12,\"Quantidade em Estoque\":45,\"Filial\":\"Filial 7\"},{\"Nome do Produto\":\"Delineador l\\u00edquido\",\"Categoria do Produto\":\"Roupas\",\"Pre\\u00e7o do Produto (R$)\":42.41,\"Quantidade em Estoque\":34,\"Filial\":\"Filial 10\"},{\"Nome do Produto\":\"Sombra de olhos\",\"Categoria do Produto\":\"Eletr\\u00f4nicos\",\"Pre\\u00e7o do Produto (R$)\":72.4,\"Quantidade em Estoque\":83,\"Filial\":\"Filial 4\"},{\"Nome do Produto\":\"Blush em p\\u00f3\",\"Categoria do Produto\":\"Roupas\",\"Pre\\u00e7o do Produto (R$)\":51.02,\"Quantidade em Estoque\":37,\"Filial\":\"Filial 1\"},{\"Nome do Produto\":\"L\\u00e1pis de sobrancelha\",\"Categoria do Produto\":\"Roupas\",\"Pre\\u00e7o do Produto (R$)\":92.78,\"Quantidade em Estoque\":58,\"Filial\":\"Filial 8\"},{\"Nome do Produto\":\"Corretivo\",\"Categoria do Produto\":\"Eletr\\u00f4nicos\",\"Pre\\u00e7o do Produto (R$)\":35.28,\"Quantidade em Estoque\":41,\"Filial\":\"Filial 5\"},{\"Nome do Produto\":\"Sombra de olhos\",\"Categoria do Produto\":\"Alimentos\",\"Pre\\u00e7o do Produto (R$)\":78.37,\"Quantidade em Estoque\":9,\"Filial\":\"Filial 7\"},{\"Nome do Produto\":\"P\\u00f3 compacto\",\"Categoria do Produto\":\"Roupas\",\"Pre\\u00e7o do Produto (R$)\":51.14,\"Quantidade em Estoque\":34,\"Filial\":\"Filial 6\"},{\"Nome do Produto\":\"Corretivo\",\"Categoria do Produto\":\"Eletr\\u00f4nicos\",\"Pre\\u00e7o do Produto (R$)\":30.86,\"Quantidade em Estoque\":52,\"Filial\":\"Filial 9\"},{\"Nome do Produto\":\"Blush em p\\u00f3\",\"Categoria do Produto\":\"Roupas\",\"Pre\\u00e7o do Produto (R$)\":8.98,\"Quantidade em Estoque\":95,\"Filial\":\"Filial 9\"},{\"Nome do Produto\":\"Sombra de olhos\",\"Categoria do Produto\":\"Eletrodom\\u00e9sticos\",\"Pre\\u00e7o do Produto (R$)\":43.27,\"Quantidade em Estoque\":34,\"Filial\":\"Filial 3\"},{\"Nome do Produto\":\"Batom l\\u00edquido\",\"Categoria do Produto\":\"Alimentos\",\"Pre\\u00e7o do Produto (R$)\":87.11,\"Quantidade em Estoque\":91,\"Filial\":\"Filial 5\"},{\"Nome do Produto\":\"P\\u00f3 compacto\",\"Categoria do Produto\":\"Eletr\\u00f4nicos\",\"Pre\\u00e7o do Produto (R$)\":32.81,\"Quantidade em Estoque\":13,\"Filial\":\"Filial 8\"},{\"Nome do Produto\":\"Sombra de olhos\",\"Categoria do Produto\":\"Eletrodom\\u00e9sticos\",\"Pre\\u00e7o do Produto (R$)\":33.68,\"Quantidade em Estoque\":21,\"Filial\":\"Filial 10\"},{\"Nome do Produto\":\"L\\u00e1pis de sobrancelha\",\"Categoria do Produto\":\"Roupas\",\"Pre\\u00e7o do Produto (R$)\":95.24,\"Quantidade em Estoque\":49,\"Filial\":\"Filial 6\"},{\"Nome do Produto\":\"P\\u00f3 compacto\",\"Categoria do Produto\":\"Eletr\\u00f4nicos\",\"Pre\\u00e7o do Produto (R$)\":35.5,\"Quantidade em Estoque\":34,\"Filial\":\"Filial 8\"},{\"Nome do Produto\":\"Sombra de olhos\",\"Categoria do Produto\":\"Roupas\",\"Pre\\u00e7o do Produto (R$)\":9.75,\"Quantidade em Estoque\":59,\"Filial\":\"Filial 10\"},{\"Nome do Produto\":\"L\\u00e1pis de sobrancelha\",\"Categoria do Produto\":\"Eletrodom\\u00e9sticos\",\"Pre\\u00e7o do Produto (R$)\":60.28,\"Quantidade em Estoque\":51,\"Filial\":\"Filial 1\"},{\"Nome do Produto\":\"Base l\\u00edquida\",\"Categoria do Produto\":\"Eletr\\u00f4nicos\",\"Pre\\u00e7o do Produto (R$)\":16.52,\"Quantidade em Estoque\":6,\"Filial\":\"Filial 3\"},{\"Nome do Produto\":\"Batom matte\",\"Categoria do Produto\":\"Eletr\\u00f4nicos\",\"Pre\\u00e7o do Produto (R$)\":61.43,\"Quantidade em Estoque\":47,\"Filial\":\"Filial 3\"},{\"Nome do Produto\":\"Blush em p\\u00f3\",\"Categoria do Produto\":\"Eletr\\u00f4nicos\",\"Pre\\u00e7o do Produto (R$)\":48.2,\"Quantidade em Estoque\":36,\"Filial\":\"Filial 2\"},{\"Nome do Produto\":\"M\\u00e1scara de c\\u00edlios\",\"Categoria do Produto\":\"Eletr\\u00f4nicos\",\"Pre\\u00e7o do Produto (R$)\":23.02,\"Quantidade em Estoque\":32,\"Filial\":\"Filial 6\"},{\"Nome do Produto\":\"Base l\\u00edquida\",\"Categoria do Produto\":\"Eletr\\u00f4nicos\",\"Pre\\u00e7o do Produto (R$)\":8.12,\"Quantidade em Estoque\":28,\"Filial\":\"Filial 10\"},{\"Nome do Produto\":\"M\\u00e1scara de c\\u00edlios\",\"Categoria do Produto\":\"Eletr\\u00f4nicos\",\"Pre\\u00e7o do Produto (R$)\":14.89,\"Quantidade em Estoque\":79,\"Filial\":\"Filial 2\"},{\"Nome do Produto\":\"Corretivo\",\"Categoria do Produto\":\"Alimentos\",\"Pre\\u00e7o do Produto (R$)\":52.18,\"Quantidade em Estoque\":51,\"Filial\":\"Filial 4\"},{\"Nome do Produto\":\"Corretivo\",\"Categoria do Produto\":\"Alimentos\",\"Pre\\u00e7o do Produto (R$)\":8.06,\"Quantidade em Estoque\":11,\"Filial\":\"Filial 10\"},{\"Nome do Produto\":\"Delineador l\\u00edquido\",\"Categoria do Produto\":\"Roupas\",\"Pre\\u00e7o do Produto (R$)\":10.52,\"Quantidade em Estoque\":97,\"Filial\":\"Filial 3\"},{\"Nome do Produto\":\"Sombra de olhos\",\"Categoria do Produto\":\"Eletr\\u00f4nicos\",\"Pre\\u00e7o do Produto (R$)\":89.62,\"Quantidade em Estoque\":35,\"Filial\":\"Filial 6\"},{\"Nome do Produto\":\"M\\u00e1scara de c\\u00edlios\",\"Categoria do Produto\":\"Roupas\",\"Pre\\u00e7o do Produto (R$)\":3.9,\"Quantidade em Estoque\":6,\"Filial\":\"Filial 1\"},{\"Nome do Produto\":\"Batom l\\u00edquido\",\"Categoria do Produto\":\"Alimentos\",\"Pre\\u00e7o do Produto (R$)\":23.52,\"Quantidade em Estoque\":52,\"Filial\":\"Filial 7\"},{\"Nome do Produto\":\"P\\u00f3 compacto\",\"Categoria do Produto\":\"Eletr\\u00f4nicos\",\"Pre\\u00e7o do Produto (R$)\":68.04,\"Quantidade em Estoque\":5,\"Filial\":\"Filial 6\"},{\"Nome do Produto\":\"Batom l\\u00edquido\",\"Categoria do Produto\":\"Eletrodom\\u00e9sticos\",\"Pre\\u00e7o do Produto (R$)\":26.43,\"Quantidade em Estoque\":83,\"Filial\":\"Filial 2\"},{\"Nome do Produto\":\"Corretivo\",\"Categoria do Produto\":\"Roupas\",\"Pre\\u00e7o do Produto (R$)\":33.42,\"Quantidade em Estoque\":85,\"Filial\":\"Filial 4\"},{\"Nome do Produto\":\"Corretivo\",\"Categoria do Produto\":\"Alimentos\",\"Pre\\u00e7o do Produto (R$)\":10.65,\"Quantidade em Estoque\":5,\"Filial\":\"Filial 1\"},{\"Nome do Produto\":\"L\\u00e1pis de sobrancelha\",\"Categoria do Produto\":\"Roupas\",\"Pre\\u00e7o do Produto (R$)\":20.59,\"Quantidade em Estoque\":98,\"Filial\":\"Filial 7\"},{\"Nome do Produto\":\"Base l\\u00edquida\",\"Categoria do Produto\":\"Eletrodom\\u00e9sticos\",\"Pre\\u00e7o do Produto (R$)\":67.2,\"Quantidade em Estoque\":17,\"Filial\":\"Filial 4\"},{\"Nome do Produto\":\"P\\u00f3 compacto\",\"Categoria do Produto\":\"Eletr\\u00f4nicos\",\"Pre\\u00e7o do Produto (R$)\":82.84,\"Quantidade em Estoque\":48,\"Filial\":\"Filial 1\"},{\"Nome do Produto\":\"Sombra de olhos\",\"Categoria do Produto\":\"Alimentos\",\"Pre\\u00e7o do Produto (R$)\":74.34,\"Quantidade em Estoque\":61,\"Filial\":\"Filial 2\"},{\"Nome do Produto\":\"M\\u00e1scara de c\\u00edlios\",\"Categoria do Produto\":\"Alimentos\",\"Pre\\u00e7o do Produto (R$)\":52.58,\"Quantidade em Estoque\":21,\"Filial\":\"Filial 9\"},{\"Nome do Produto\":\"P\\u00f3 compacto\",\"Categoria do Produto\":\"Alimentos\",\"Pre\\u00e7o do Produto (R$)\":6.9,\"Quantidade em Estoque\":15,\"Filial\":\"Filial 2\"},{\"Nome do Produto\":\"Corretivo\",\"Categoria do Produto\":\"Roupas\",\"Pre\\u00e7o do Produto (R$)\":32.16,\"Quantidade em Estoque\":39,\"Filial\":\"Filial 1\"},{\"Nome do Produto\":\"L\\u00e1pis de sobrancelha\",\"Categoria do Produto\":\"Alimentos\",\"Pre\\u00e7o do Produto (R$)\":50.71,\"Quantidade em Estoque\":94,\"Filial\":\"Filial 10\"},{\"Nome do Produto\":\"Corretivo\",\"Categoria do Produto\":\"Eletrodom\\u00e9sticos\",\"Pre\\u00e7o do Produto (R$)\":45.81,\"Quantidade em Estoque\":14,\"Filial\":\"Filial 3\"},{\"Nome do Produto\":\"P\\u00f3 compacto\",\"Categoria do Produto\":\"Eletr\\u00f4nicos\",\"Pre\\u00e7o do Produto (R$)\":62.81,\"Quantidade em Estoque\":55,\"Filial\":\"Filial 4\"},{\"Nome do Produto\":\"Delineador l\\u00edquido\",\"Categoria do Produto\":\"Eletrodom\\u00e9sticos\",\"Pre\\u00e7o do Produto (R$)\":28.4,\"Quantidade em Estoque\":7,\"Filial\":\"Filial 4\"},{\"Nome do Produto\":\"Blush em p\\u00f3\",\"Categoria do Produto\":\"Alimentos\",\"Pre\\u00e7o do Produto (R$)\":93.88,\"Quantidade em Estoque\":99,\"Filial\":\"Filial 1\"},{\"Nome do Produto\":\"Delineador l\\u00edquido\",\"Categoria do Produto\":\"Eletrodom\\u00e9sticos\",\"Pre\\u00e7o do Produto (R$)\":21.99,\"Quantidade em Estoque\":29,\"Filial\":\"Filial 3\"},{\"Nome do Produto\":\"Delineador l\\u00edquido\",\"Categoria do Produto\":\"Roupas\",\"Pre\\u00e7o do Produto (R$)\":3.75,\"Quantidade em Estoque\":86,\"Filial\":\"Filial 5\"},{\"Nome do Produto\":\"P\\u00f3 compacto\",\"Categoria do Produto\":\"Alimentos\",\"Pre\\u00e7o do Produto (R$)\":93.91,\"Quantidade em Estoque\":8,\"Filial\":\"Filial 3\"},{\"Nome do Produto\":\"Batom matte\",\"Categoria do Produto\":\"Eletrodom\\u00e9sticos\",\"Pre\\u00e7o do Produto (R$)\":43.14,\"Quantidade em Estoque\":18,\"Filial\":\"Filial 8\"},{\"Nome do Produto\":\"M\\u00e1scara de c\\u00edlios\",\"Categoria do Produto\":\"Alimentos\",\"Pre\\u00e7o do Produto (R$)\":74.74,\"Quantidade em Estoque\":52,\"Filial\":\"Filial 3\"},{\"Nome do Produto\":\"Batom l\\u00edquido\",\"Categoria do Produto\":\"Eletrodom\\u00e9sticos\",\"Pre\\u00e7o do Produto (R$)\":32.89,\"Quantidade em Estoque\":7,\"Filial\":\"Filial 5\"},{\"Nome do Produto\":\"M\\u00e1scara de c\\u00edlios\",\"Categoria do Produto\":\"Roupas\",\"Pre\\u00e7o do Produto (R$)\":92.61,\"Quantidade em Estoque\":62,\"Filial\":\"Filial 6\"},{\"Nome do Produto\":\"P\\u00f3 compacto\",\"Categoria do Produto\":\"Eletrodom\\u00e9sticos\",\"Pre\\u00e7o do Produto (R$)\":77.99,\"Quantidade em Estoque\":64,\"Filial\":\"Filial 2\"},{\"Nome do Produto\":\"Batom l\\u00edquido\",\"Categoria do Produto\":\"Roupas\",\"Pre\\u00e7o do Produto (R$)\":32.77,\"Quantidade em Estoque\":95,\"Filial\":\"Filial 4\"},{\"Nome do Produto\":\"Blush em p\\u00f3\",\"Categoria do Produto\":\"Eletrodom\\u00e9sticos\",\"Pre\\u00e7o do Produto (R$)\":32.22,\"Quantidade em Estoque\":15,\"Filial\":\"Filial 5\"},{\"Nome do Produto\":\"L\\u00e1pis de sobrancelha\",\"Categoria do Produto\":\"Roupas\",\"Pre\\u00e7o do Produto (R$)\":46.59,\"Quantidade em Estoque\":35,\"Filial\":\"Filial 3\"},{\"Nome do Produto\":\"Batom matte\",\"Categoria do Produto\":\"Eletr\\u00f4nicos\",\"Pre\\u00e7o do Produto (R$)\":25.07,\"Quantidade em Estoque\":63,\"Filial\":\"Filial 4\"},{\"Nome do Produto\":\"Sombra de olhos\",\"Categoria do Produto\":\"Roupas\",\"Pre\\u00e7o do Produto (R$)\":10.07,\"Quantidade em Estoque\":99,\"Filial\":\"Filial 8\"},{\"Nome do Produto\":\"Batom l\\u00edquido\",\"Categoria do Produto\":\"Eletrodom\\u00e9sticos\",\"Pre\\u00e7o do Produto (R$)\":17.68,\"Quantidade em Estoque\":100,\"Filial\":\"Filial 4\"},{\"Nome do Produto\":\"Base l\\u00edquida\",\"Categoria do Produto\":\"Alimentos\",\"Pre\\u00e7o do Produto (R$)\":17.67,\"Quantidade em Estoque\":4,\"Filial\":\"Filial 6\"},{\"Nome do Produto\":\"M\\u00e1scara de c\\u00edlios\",\"Categoria do Produto\":\"Eletrodom\\u00e9sticos\",\"Pre\\u00e7o do Produto (R$)\":58.76,\"Quantidade em Estoque\":17,\"Filial\":\"Filial 8\"},{\"Nome do Produto\":\"P\\u00f3 compacto\",\"Categoria do Produto\":\"Eletr\\u00f4nicos\",\"Pre\\u00e7o do Produto (R$)\":72.18,\"Quantidade em Estoque\":17,\"Filial\":\"Filial 9\"},{\"Nome do Produto\":\"Corretivo\",\"Categoria do Produto\":\"Roupas\",\"Pre\\u00e7o do Produto (R$)\":41.99,\"Quantidade em Estoque\":40,\"Filial\":\"Filial 9\"},{\"Nome do Produto\":\"Delineador l\\u00edquido\",\"Categoria do Produto\":\"Eletr\\u00f4nicos\",\"Pre\\u00e7o do Produto (R$)\":50.88,\"Quantidade em Estoque\":21,\"Filial\":\"Filial 3\"},{\"Nome do Produto\":\"M\\u00e1scara de c\\u00edlios\",\"Categoria do Produto\":\"Roupas\",\"Pre\\u00e7o do Produto (R$)\":96.0,\"Quantidade em Estoque\":83,\"Filial\":\"Filial 1\"},{\"Nome do Produto\":\"Delineador l\\u00edquido\",\"Categoria do Produto\":\"Roupas\",\"Pre\\u00e7o do Produto (R$)\":18.56,\"Quantidade em Estoque\":40,\"Filial\":\"Filial 8\"},{\"Nome do Produto\":\"Batom l\\u00edquido\",\"Categoria do Produto\":\"Roupas\",\"Pre\\u00e7o do Produto (R$)\":35.94,\"Quantidade em Estoque\":9,\"Filial\":\"Filial 5\"},{\"Nome do Produto\":\"P\\u00f3 compacto\",\"Categoria do Produto\":\"Roupas\",\"Pre\\u00e7o do Produto (R$)\":18.8,\"Quantidade em Estoque\":83,\"Filial\":\"Filial 3\"},{\"Nome do Produto\":\"Base l\\u00edquida\",\"Categoria do Produto\":\"Eletr\\u00f4nicos\",\"Pre\\u00e7o do Produto (R$)\":37.45,\"Quantidade em Estoque\":1,\"Filial\":\"Filial 1\"},{\"Nome do Produto\":\"Batom l\\u00edquido\",\"Categoria do Produto\":\"Alimentos\",\"Pre\\u00e7o do Produto (R$)\":12.04,\"Quantidade em Estoque\":28,\"Filial\":\"Filial 6\"},{\"Nome do Produto\":\"Corretivo\",\"Categoria do Produto\":\"Roupas\",\"Pre\\u00e7o do Produto (R$)\":43.81,\"Quantidade em Estoque\":39,\"Filial\":\"Filial 5\"},{\"Nome do Produto\":\"Base l\\u00edquida\",\"Categoria do Produto\":\"Eletr\\u00f4nicos\",\"Pre\\u00e7o do Produto (R$)\":8.84,\"Quantidade em Estoque\":47,\"Filial\":\"Filial 8\"},{\"Nome do Produto\":\"M\\u00e1scara de c\\u00edlios\",\"Categoria do Produto\":\"Eletrodom\\u00e9sticos\",\"Pre\\u00e7o do Produto (R$)\":76.54,\"Quantidade em Estoque\":47,\"Filial\":\"Filial 7\"},{\"Nome do Produto\":\"Delineador l\\u00edquido\",\"Categoria do Produto\":\"Eletrodom\\u00e9sticos\",\"Pre\\u00e7o do Produto (R$)\":94.99,\"Quantidade em Estoque\":72,\"Filial\":\"Filial 1\"},{\"Nome do Produto\":\"Corretivo\",\"Categoria do Produto\":\"Alimentos\",\"Pre\\u00e7o do Produto (R$)\":30.74,\"Quantidade em Estoque\":9,\"Filial\":\"Filial 8\"},{\"Nome do Produto\":\"L\\u00e1pis de sobrancelha\",\"Categoria do Produto\":\"Alimentos\",\"Pre\\u00e7o do Produto (R$)\":85.79,\"Quantidade em Estoque\":2,\"Filial\":\"Filial 3\"},{\"Nome do Produto\":\"M\\u00e1scara de c\\u00edlios\",\"Categoria do Produto\":\"Roupas\",\"Pre\\u00e7o do Produto (R$)\":5.8,\"Quantidade em Estoque\":34,\"Filial\":\"Filial 4\"},{\"Nome do Produto\":\"Blush em p\\u00f3\",\"Categoria do Produto\":\"Eletrodom\\u00e9sticos\",\"Pre\\u00e7o do Produto (R$)\":65.26,\"Quantidade em Estoque\":69,\"Filial\":\"Filial 3\"},{\"Nome do Produto\":\"Base l\\u00edquida\",\"Categoria do Produto\":\"Alimentos\",\"Pre\\u00e7o do Produto (R$)\":86.52,\"Quantidade em Estoque\":22,\"Filial\":\"Filial 3\"},{\"Nome do Produto\":\"Batom l\\u00edquido\",\"Categoria do Produto\":\"Alimentos\",\"Pre\\u00e7o do Produto (R$)\":5.76,\"Quantidade em Estoque\":10,\"Filial\":\"Filial 3\"},{\"Nome do Produto\":\"Sombra de olhos\",\"Categoria do Produto\":\"Eletr\\u00f4nicos\",\"Pre\\u00e7o do Produto (R$)\":59.86,\"Quantidade em Estoque\":97,\"Filial\":\"Filial 8\"},{\"Nome do Produto\":\"Base l\\u00edquida\",\"Categoria do Produto\":\"Alimentos\",\"Pre\\u00e7o do Produto (R$)\":91.87,\"Quantidade em Estoque\":66,\"Filial\":\"Filial 3\"},{\"Nome do Produto\":\"Blush em p\\u00f3\",\"Categoria do Produto\":\"Eletr\\u00f4nicos\",\"Pre\\u00e7o do Produto (R$)\":73.68,\"Quantidade em Estoque\":24,\"Filial\":\"Filial 9\"},{\"Nome do Produto\":\"M\\u00e1scara de c\\u00edlios\",\"Categoria do Produto\":\"Roupas\",\"Pre\\u00e7o do Produto (R$)\":1.76,\"Quantidade em Estoque\":51,\"Filial\":\"Filial 4\"},{\"Nome do Produto\":\"Corretivo\",\"Categoria do Produto\":\"Eletr\\u00f4nicos\",\"Pre\\u00e7o do Produto (R$)\":45.67,\"Quantidade em Estoque\":37,\"Filial\":\"Filial 7\"},{\"Nome do Produto\":\"Corretivo\",\"Categoria do Produto\":\"Eletr\\u00f4nicos\",\"Pre\\u00e7o do Produto (R$)\":86.94,\"Quantidade em Estoque\":58,\"Filial\":\"Filial 10\"},{\"Nome do Produto\":\"Delineador l\\u00edquido\",\"Categoria do Produto\":\"Eletr\\u00f4nicos\",\"Pre\\u00e7o do Produto (R$)\":40.02,\"Quantidade em Estoque\":96,\"Filial\":\"Filial 8\"},{\"Nome do Produto\":\"Batom l\\u00edquido\",\"Categoria do Produto\":\"Eletrodom\\u00e9sticos\",\"Pre\\u00e7o do Produto (R$)\":43.58,\"Quantidade em Estoque\":62,\"Filial\":\"Filial 2\"},{\"Nome do Produto\":\"Blush em p\\u00f3\",\"Categoria do Produto\":\"Eletrodom\\u00e9sticos\",\"Pre\\u00e7o do Produto (R$)\":1.15,\"Quantidade em Estoque\":57,\"Filial\":\"Filial 6\"},{\"Nome do Produto\":\"Batom matte\",\"Categoria do Produto\":\"Alimentos\",\"Pre\\u00e7o do Produto (R$)\":62.06,\"Quantidade em Estoque\":34,\"Filial\":\"Filial 4\"},{\"Nome do Produto\":\"L\\u00e1pis de sobrancelha\",\"Categoria do Produto\":\"Alimentos\",\"Pre\\u00e7o do Produto (R$)\":8.96,\"Quantidade em Estoque\":23,\"Filial\":\"Filial 8\"},{\"Nome do Produto\":\"Corretivo\",\"Categoria do Produto\":\"Alimentos\",\"Pre\\u00e7o do Produto (R$)\":73.66,\"Quantidade em Estoque\":96,\"Filial\":\"Filial 9\"},{\"Nome do Produto\":\"Batom l\\u00edquido\",\"Categoria do Produto\":\"Alimentos\",\"Pre\\u00e7o do Produto (R$)\":35.94,\"Quantidade em Estoque\":86,\"Filial\":\"Filial 3\"},{\"Nome do Produto\":\"Sombra de olhos\",\"Categoria do Produto\":\"Eletr\\u00f4nicos\",\"Pre\\u00e7o do Produto (R$)\":21.69,\"Quantidade em Estoque\":2,\"Filial\":\"Filial 2\"},{\"Nome do Produto\":\"Batom l\\u00edquido\",\"Categoria do Produto\":\"Alimentos\",\"Pre\\u00e7o do Produto (R$)\":45.78,\"Quantidade em Estoque\":51,\"Filial\":\"Filial 5\"},{\"Nome do Produto\":\"Batom matte\",\"Categoria do Produto\":\"Eletr\\u00f4nicos\",\"Pre\\u00e7o do Produto (R$)\":95.18,\"Quantidade em Estoque\":2,\"Filial\":\"Filial 10\"},{\"Nome do Produto\":\"M\\u00e1scara de c\\u00edlios\",\"Categoria do Produto\":\"Alimentos\",\"Pre\\u00e7o do Produto (R$)\":76.72,\"Quantidade em Estoque\":81,\"Filial\":\"Filial 6\"},{\"Nome do Produto\":\"Base l\\u00edquida\",\"Categoria do Produto\":\"Alimentos\",\"Pre\\u00e7o do Produto (R$)\":17.76,\"Quantidade em Estoque\":39,\"Filial\":\"Filial 6\"},{\"Nome do Produto\":\"Batom matte\",\"Categoria do Produto\":\"Alimentos\",\"Pre\\u00e7o do Produto (R$)\":24.55,\"Quantidade em Estoque\":14,\"Filial\":\"Filial 10\"},{\"Nome do Produto\":\"Sombra de olhos\",\"Categoria do Produto\":\"Roupas\",\"Pre\\u00e7o do Produto (R$)\":90.95,\"Quantidade em Estoque\":22,\"Filial\":\"Filial 7\"},{\"Nome do Produto\":\"L\\u00e1pis de sobrancelha\",\"Categoria do Produto\":\"Eletrodom\\u00e9sticos\",\"Pre\\u00e7o do Produto (R$)\":24.47,\"Quantidade em Estoque\":52,\"Filial\":\"Filial 8\"},{\"Nome do Produto\":\"Corretivo\",\"Categoria do Produto\":\"Eletrodom\\u00e9sticos\",\"Pre\\u00e7o do Produto (R$)\":31.91,\"Quantidade em Estoque\":34,\"Filial\":\"Filial 2\"},{\"Nome do Produto\":\"P\\u00f3 compacto\",\"Categoria do Produto\":\"Eletrodom\\u00e9sticos\",\"Pre\\u00e7o do Produto (R$)\":40.19,\"Quantidade em Estoque\":78,\"Filial\":\"Filial 8\"},{\"Nome do Produto\":\"Batom matte\",\"Categoria do Produto\":\"Roupas\",\"Pre\\u00e7o do Produto (R$)\":7.53,\"Quantidade em Estoque\":37,\"Filial\":\"Filial 6\"},{\"Nome do Produto\":\"Corretivo\",\"Categoria do Produto\":\"Eletrodom\\u00e9sticos\",\"Pre\\u00e7o do Produto (R$)\":10.07,\"Quantidade em Estoque\":88,\"Filial\":\"Filial 5\"},{\"Nome do Produto\":\"Batom l\\u00edquido\",\"Categoria do Produto\":\"Alimentos\",\"Pre\\u00e7o do Produto (R$)\":76.92,\"Quantidade em Estoque\":57,\"Filial\":\"Filial 10\"},{\"Nome do Produto\":\"Corretivo\",\"Categoria do Produto\":\"Roupas\",\"Pre\\u00e7o do Produto (R$)\":75.47,\"Quantidade em Estoque\":59,\"Filial\":\"Filial 2\"},{\"Nome do Produto\":\"P\\u00f3 compacto\",\"Categoria do Produto\":\"Eletrodom\\u00e9sticos\",\"Pre\\u00e7o do Produto (R$)\":82.25,\"Quantidade em Estoque\":8,\"Filial\":\"Filial 8\"},{\"Nome do Produto\":\"L\\u00e1pis de sobrancelha\",\"Categoria do Produto\":\"Roupas\",\"Pre\\u00e7o do Produto (R$)\":46.42,\"Quantidade em Estoque\":10,\"Filial\":\"Filial 1\"},{\"Nome do Produto\":\"Sombra de olhos\",\"Categoria do Produto\":\"Roupas\",\"Pre\\u00e7o do Produto (R$)\":76.98,\"Quantidade em Estoque\":89,\"Filial\":\"Filial 10\"},{\"Nome do Produto\":\"P\\u00f3 compacto\",\"Categoria do Produto\":\"Alimentos\",\"Pre\\u00e7o do Produto (R$)\":25.66,\"Quantidade em Estoque\":81,\"Filial\":\"Filial 10\"},{\"Nome do Produto\":\"Corretivo\",\"Categoria do Produto\":\"Roupas\",\"Pre\\u00e7o do Produto (R$)\":68.9,\"Quantidade em Estoque\":57,\"Filial\":\"Filial 8\"},{\"Nome do Produto\":\"M\\u00e1scara de c\\u00edlios\",\"Categoria do Produto\":\"Eletr\\u00f4nicos\",\"Pre\\u00e7o do Produto (R$)\":43.0,\"Quantidade em Estoque\":51,\"Filial\":\"Filial 9\"},{\"Nome do Produto\":\"P\\u00f3 compacto\",\"Categoria do Produto\":\"Eletr\\u00f4nicos\",\"Pre\\u00e7o do Produto (R$)\":27.45,\"Quantidade em Estoque\":94,\"Filial\":\"Filial 4\"},{\"Nome do Produto\":\"M\\u00e1scara de c\\u00edlios\",\"Categoria do Produto\":\"Roupas\",\"Pre\\u00e7o do Produto (R$)\":69.42,\"Quantidade em Estoque\":28,\"Filial\":\"Filial 5\"},{\"Nome do Produto\":\"P\\u00f3 compacto\",\"Categoria do Produto\":\"Roupas\",\"Pre\\u00e7o do Produto (R$)\":84.48,\"Quantidade em Estoque\":41,\"Filial\":\"Filial 10\"},{\"Nome do Produto\":\"Base l\\u00edquida\",\"Categoria do Produto\":\"Eletr\\u00f4nicos\",\"Pre\\u00e7o do Produto (R$)\":78.08,\"Quantidade em Estoque\":10,\"Filial\":\"Filial 2\"},{\"Nome do Produto\":\"P\\u00f3 compacto\",\"Categoria do Produto\":\"Alimentos\",\"Pre\\u00e7o do Produto (R$)\":9.16,\"Quantidade em Estoque\":6,\"Filial\":\"Filial 3\"},{\"Nome do Produto\":\"Delineador l\\u00edquido\",\"Categoria do Produto\":\"Eletrodom\\u00e9sticos\",\"Pre\\u00e7o do Produto (R$)\":52.32,\"Quantidade em Estoque\":63,\"Filial\":\"Filial 10\"},{\"Nome do Produto\":\"Base l\\u00edquida\",\"Categoria do Produto\":\"Roupas\",\"Pre\\u00e7o do Produto (R$)\":53.18,\"Quantidade em Estoque\":29,\"Filial\":\"Filial 10\"},{\"Nome do Produto\":\"Batom l\\u00edquido\",\"Categoria do Produto\":\"Eletr\\u00f4nicos\",\"Pre\\u00e7o do Produto (R$)\":31.55,\"Quantidade em Estoque\":16,\"Filial\":\"Filial 3\"},{\"Nome do Produto\":\"Base l\\u00edquida\",\"Categoria do Produto\":\"Eletr\\u00f4nicos\",\"Pre\\u00e7o do Produto (R$)\":21.01,\"Quantidade em Estoque\":65,\"Filial\":\"Filial 6\"},{\"Nome do Produto\":\"Delineador l\\u00edquido\",\"Categoria do Produto\":\"Eletr\\u00f4nicos\",\"Pre\\u00e7o do Produto (R$)\":77.93,\"Quantidade em Estoque\":59,\"Filial\":\"Filial 8\"},{\"Nome do Produto\":\"Sombra de olhos\",\"Categoria do Produto\":\"Roupas\",\"Pre\\u00e7o do Produto (R$)\":59.61,\"Quantidade em Estoque\":28,\"Filial\":\"Filial 10\"},{\"Nome do Produto\":\"Batom l\\u00edquido\",\"Categoria do Produto\":\"Eletr\\u00f4nicos\",\"Pre\\u00e7o do Produto (R$)\":20.37,\"Quantidade em Estoque\":27,\"Filial\":\"Filial 7\"},{\"Nome do Produto\":\"Delineador l\\u00edquido\",\"Categoria do Produto\":\"Eletrodom\\u00e9sticos\",\"Pre\\u00e7o do Produto (R$)\":21.77,\"Quantidade em Estoque\":36,\"Filial\":\"Filial 2\"},{\"Nome do Produto\":\"Corretivo\",\"Categoria do Produto\":\"Eletr\\u00f4nicos\",\"Pre\\u00e7o do Produto (R$)\":88.78,\"Quantidade em Estoque\":34,\"Filial\":\"Filial 2\"},{\"Nome do Produto\":\"Corretivo\",\"Categoria do Produto\":\"Roupas\",\"Pre\\u00e7o do Produto (R$)\":9.19,\"Quantidade em Estoque\":11,\"Filial\":\"Filial 1\"},{\"Nome do Produto\":\"M\\u00e1scara de c\\u00edlios\",\"Categoria do Produto\":\"Roupas\",\"Pre\\u00e7o do Produto (R$)\":16.74,\"Quantidade em Estoque\":40,\"Filial\":\"Filial 9\"},{\"Nome do Produto\":\"Sombra de olhos\",\"Categoria do Produto\":\"Alimentos\",\"Pre\\u00e7o do Produto (R$)\":31.46,\"Quantidade em Estoque\":34,\"Filial\":\"Filial 9\"},{\"Nome do Produto\":\"Corretivo\",\"Categoria do Produto\":\"Alimentos\",\"Pre\\u00e7o do Produto (R$)\":37.32,\"Quantidade em Estoque\":48,\"Filial\":\"Filial 3\"},{\"Nome do Produto\":\"Batom matte\",\"Categoria do Produto\":\"Roupas\",\"Pre\\u00e7o do Produto (R$)\":67.75,\"Quantidade em Estoque\":71,\"Filial\":\"Filial 9\"},{\"Nome do Produto\":\"Batom matte\",\"Categoria do Produto\":\"Alimentos\",\"Pre\\u00e7o do Produto (R$)\":61.33,\"Quantidade em Estoque\":21,\"Filial\":\"Filial 1\"},{\"Nome do Produto\":\"Sombra de olhos\",\"Categoria do Produto\":\"Roupas\",\"Pre\\u00e7o do Produto (R$)\":97.33,\"Quantidade em Estoque\":65,\"Filial\":\"Filial 3\"},{\"Nome do Produto\":\"L\\u00e1pis de sobrancelha\",\"Categoria do Produto\":\"Roupas\",\"Pre\\u00e7o do Produto (R$)\":51.6,\"Quantidade em Estoque\":22,\"Filial\":\"Filial 8\"},{\"Nome do Produto\":\"L\\u00e1pis de sobrancelha\",\"Categoria do Produto\":\"Eletrodom\\u00e9sticos\",\"Pre\\u00e7o do Produto (R$)\":47.67,\"Quantidade em Estoque\":89,\"Filial\":\"Filial 10\"},{\"Nome do Produto\":\"Batom l\\u00edquido\",\"Categoria do Produto\":\"Eletrodom\\u00e9sticos\",\"Pre\\u00e7o do Produto (R$)\":41.25,\"Quantidade em Estoque\":39,\"Filial\":\"Filial 2\"},{\"Nome do Produto\":\"Batom l\\u00edquido\",\"Categoria do Produto\":\"Eletrodom\\u00e9sticos\",\"Pre\\u00e7o do Produto (R$)\":27.9,\"Quantidade em Estoque\":42,\"Filial\":\"Filial 5\"},{\"Nome do Produto\":\"P\\u00f3 compacto\",\"Categoria do Produto\":\"Alimentos\",\"Pre\\u00e7o do Produto (R$)\":85.76,\"Quantidade em Estoque\":34,\"Filial\":\"Filial 9\"},{\"Nome do Produto\":\"Batom matte\",\"Categoria do Produto\":\"Eletr\\u00f4nicos\",\"Pre\\u00e7o do Produto (R$)\":57.54,\"Quantidade em Estoque\":82,\"Filial\":\"Filial 5\"},{\"Nome do Produto\":\"Batom matte\",\"Categoria do Produto\":\"Eletr\\u00f4nicos\",\"Pre\\u00e7o do Produto (R$)\":33.67,\"Quantidade em Estoque\":7,\"Filial\":\"Filial 8\"},{\"Nome do Produto\":\"L\\u00e1pis de sobrancelha\",\"Categoria do Produto\":\"Alimentos\",\"Pre\\u00e7o do Produto (R$)\":33.57,\"Quantidade em Estoque\":58,\"Filial\":\"Filial 5\"},{\"Nome do Produto\":\"Blush em p\\u00f3\",\"Categoria do Produto\":\"Eletrodom\\u00e9sticos\",\"Pre\\u00e7o do Produto (R$)\":25.23,\"Quantidade em Estoque\":13,\"Filial\":\"Filial 6\"},{\"Nome do Produto\":\"Batom matte\",\"Categoria do Produto\":\"Alimentos\",\"Pre\\u00e7o do Produto (R$)\":58.05,\"Quantidade em Estoque\":49,\"Filial\":\"Filial 7\"},{\"Nome do Produto\":\"L\\u00e1pis de sobrancelha\",\"Categoria do Produto\":\"Roupas\",\"Pre\\u00e7o do Produto (R$)\":37.23,\"Quantidade em Estoque\":38,\"Filial\":\"Filial 1\"},{\"Nome do Produto\":\"P\\u00f3 compacto\",\"Categoria do Produto\":\"Alimentos\",\"Pre\\u00e7o do Produto (R$)\":15.66,\"Quantidade em Estoque\":52,\"Filial\":\"Filial 1\"},{\"Nome do Produto\":\"Base l\\u00edquida\",\"Categoria do Produto\":\"Eletr\\u00f4nicos\",\"Pre\\u00e7o do Produto (R$)\":34.41,\"Quantidade em Estoque\":29,\"Filial\":\"Filial 6\"},{\"Nome do Produto\":\"M\\u00e1scara de c\\u00edlios\",\"Categoria do Produto\":\"Alimentos\",\"Pre\\u00e7o do Produto (R$)\":75.62,\"Quantidade em Estoque\":37,\"Filial\":\"Filial 3\"},{\"Nome do Produto\":\"Sombra de olhos\",\"Categoria do Produto\":\"Eletr\\u00f4nicos\",\"Pre\\u00e7o do Produto (R$)\":99.28,\"Quantidade em Estoque\":16,\"Filial\":\"Filial 7\"},{\"Nome do Produto\":\"Blush em p\\u00f3\",\"Categoria do Produto\":\"Alimentos\",\"Pre\\u00e7o do Produto (R$)\":97.28,\"Quantidade em Estoque\":1,\"Filial\":\"Filial 7\"},{\"Nome do Produto\":\"Corretivo\",\"Categoria do Produto\":\"Eletrodom\\u00e9sticos\",\"Pre\\u00e7o do Produto (R$)\":86.92,\"Quantidade em Estoque\":61,\"Filial\":\"Filial 8\"},{\"Nome do Produto\":\"Base l\\u00edquida\",\"Categoria do Produto\":\"Alimentos\",\"Pre\\u00e7o do Produto (R$)\":86.28,\"Quantidade em Estoque\":47,\"Filial\":\"Filial 3\"},{\"Nome do Produto\":\"Blush em p\\u00f3\",\"Categoria do Produto\":\"Alimentos\",\"Pre\\u00e7o do Produto (R$)\":66.39,\"Quantidade em Estoque\":79,\"Filial\":\"Filial 1\"},{\"Nome do Produto\":\"Corretivo\",\"Categoria do Produto\":\"Eletrodom\\u00e9sticos\",\"Pre\\u00e7o do Produto (R$)\":70.92,\"Quantidade em Estoque\":67,\"Filial\":\"Filial 4\"},{\"Nome do Produto\":\"Batom matte\",\"Categoria do Produto\":\"Roupas\",\"Pre\\u00e7o do Produto (R$)\":54.01,\"Quantidade em Estoque\":49,\"Filial\":\"Filial 6\"},{\"Nome do Produto\":\"L\\u00e1pis de sobrancelha\",\"Categoria do Produto\":\"Eletr\\u00f4nicos\",\"Pre\\u00e7o do Produto (R$)\":99.82,\"Quantidade em Estoque\":78,\"Filial\":\"Filial 1\"},{\"Nome do Produto\":\"Base l\\u00edquida\",\"Categoria do Produto\":\"Alimentos\",\"Pre\\u00e7o do Produto (R$)\":47.33,\"Quantidade em Estoque\":23,\"Filial\":\"Filial 3\"},{\"Nome do Produto\":\"L\\u00e1pis de sobrancelha\",\"Categoria do Produto\":\"Alimentos\",\"Pre\\u00e7o do Produto (R$)\":74.82,\"Quantidade em Estoque\":49,\"Filial\":\"Filial 9\"},{\"Nome do Produto\":\"Corretivo\",\"Categoria do Produto\":\"Alimentos\",\"Pre\\u00e7o do Produto (R$)\":11.94,\"Quantidade em Estoque\":23,\"Filial\":\"Filial 8\"},{\"Nome do Produto\":\"M\\u00e1scara de c\\u00edlios\",\"Categoria do Produto\":\"Alimentos\",\"Pre\\u00e7o do Produto (R$)\":43.98,\"Quantidade em Estoque\":47,\"Filial\":\"Filial 5\"},{\"Nome do Produto\":\"Delineador l\\u00edquido\",\"Categoria do Produto\":\"Eletrodom\\u00e9sticos\",\"Pre\\u00e7o do Produto (R$)\":47.68,\"Quantidade em Estoque\":84,\"Filial\":\"Filial 5\"},{\"Nome do Produto\":\"Base l\\u00edquida\",\"Categoria do Produto\":\"Roupas\",\"Pre\\u00e7o do Produto (R$)\":10.38,\"Quantidade em Estoque\":10,\"Filial\":\"Filial 7\"},{\"Nome do Produto\":\"M\\u00e1scara de c\\u00edlios\",\"Categoria do Produto\":\"Alimentos\",\"Pre\\u00e7o do Produto (R$)\":74.46,\"Quantidade em Estoque\":98,\"Filial\":\"Filial 4\"},{\"Nome do Produto\":\"Batom l\\u00edquido\",\"Categoria do Produto\":\"Alimentos\",\"Pre\\u00e7o do Produto (R$)\":72.97,\"Quantidade em Estoque\":53,\"Filial\":\"Filial 3\"},{\"Nome do Produto\":\"Base l\\u00edquida\",\"Categoria do Produto\":\"Eletrodom\\u00e9sticos\",\"Pre\\u00e7o do Produto (R$)\":90.29,\"Quantidade em Estoque\":27,\"Filial\":\"Filial 3\"},{\"Nome do Produto\":\"Blush em p\\u00f3\",\"Categoria do Produto\":\"Alimentos\",\"Pre\\u00e7o do Produto (R$)\":25.27,\"Quantidade em Estoque\":45,\"Filial\":\"Filial 3\"},{\"Nome do Produto\":\"Sombra de olhos\",\"Categoria do Produto\":\"Eletrodom\\u00e9sticos\",\"Pre\\u00e7o do Produto (R$)\":8.86,\"Quantidade em Estoque\":55,\"Filial\":\"Filial 9\"},{\"Nome do Produto\":\"M\\u00e1scara de c\\u00edlios\",\"Categoria do Produto\":\"Eletrodom\\u00e9sticos\",\"Pre\\u00e7o do Produto (R$)\":88.41,\"Quantidade em Estoque\":10,\"Filial\":\"Filial 4\"},{\"Nome do Produto\":\"Sombra de olhos\",\"Categoria do Produto\":\"Eletrodom\\u00e9sticos\",\"Pre\\u00e7o do Produto (R$)\":63.98,\"Quantidade em Estoque\":36,\"Filial\":\"Filial 1\"},{\"Nome do Produto\":\"Batom matte\",\"Categoria do Produto\":\"Roupas\",\"Pre\\u00e7o do Produto (R$)\":86.11,\"Quantidade em Estoque\":80,\"Filial\":\"Filial 1\"},{\"Nome do Produto\":\"M\\u00e1scara de c\\u00edlios\",\"Categoria do Produto\":\"Roupas\",\"Pre\\u00e7o do Produto (R$)\":71.04,\"Quantidade em Estoque\":65,\"Filial\":\"Filial 10\"},{\"Nome do Produto\":\"Batom l\\u00edquido\",\"Categoria do Produto\":\"Eletrodom\\u00e9sticos\",\"Pre\\u00e7o do Produto (R$)\":12.68,\"Quantidade em Estoque\":52,\"Filial\":\"Filial 7\"},{\"Nome do Produto\":\"Batom matte\",\"Categoria do Produto\":\"Roupas\",\"Pre\\u00e7o do Produto (R$)\":42.48,\"Quantidade em Estoque\":82,\"Filial\":\"Filial 4\"},{\"Nome do Produto\":\"Base l\\u00edquida\",\"Categoria do Produto\":\"Eletrodom\\u00e9sticos\",\"Pre\\u00e7o do Produto (R$)\":39.53,\"Quantidade em Estoque\":45,\"Filial\":\"Filial 10\"},{\"Nome do Produto\":\"Batom l\\u00edquido\",\"Categoria do Produto\":\"Eletr\\u00f4nicos\",\"Pre\\u00e7o do Produto (R$)\":45.86,\"Quantidade em Estoque\":10,\"Filial\":\"Filial 5\"},{\"Nome do Produto\":\"Blush em p\\u00f3\",\"Categoria do Produto\":\"Eletrodom\\u00e9sticos\",\"Pre\\u00e7o do Produto (R$)\":82.33,\"Quantidade em Estoque\":60,\"Filial\":\"Filial 4\"},{\"Nome do Produto\":\"Base l\\u00edquida\",\"Categoria do Produto\":\"Eletr\\u00f4nicos\",\"Pre\\u00e7o do Produto (R$)\":19.48,\"Quantidade em Estoque\":72,\"Filial\":\"Filial 5\"},{\"Nome do Produto\":\"Blush em p\\u00f3\",\"Categoria do Produto\":\"Alimentos\",\"Pre\\u00e7o do Produto (R$)\":32.6,\"Quantidade em Estoque\":33,\"Filial\":\"Filial 4\"},{\"Nome do Produto\":\"Batom l\\u00edquido\",\"Categoria do Produto\":\"Alimentos\",\"Pre\\u00e7o do Produto (R$)\":15.79,\"Quantidade em Estoque\":45,\"Filial\":\"Filial 10\"},{\"Nome do Produto\":\"L\\u00e1pis de sobrancelha\",\"Categoria do Produto\":\"Eletrodom\\u00e9sticos\",\"Pre\\u00e7o do Produto (R$)\":72.49,\"Quantidade em Estoque\":36,\"Filial\":\"Filial 7\"},{\"Nome do Produto\":\"Base l\\u00edquida\",\"Categoria do Produto\":\"Eletr\\u00f4nicos\",\"Pre\\u00e7o do Produto (R$)\":92.2,\"Quantidade em Estoque\":14,\"Filial\":\"Filial 3\"},{\"Nome do Produto\":\"Base l\\u00edquida\",\"Categoria do Produto\":\"Eletrodom\\u00e9sticos\",\"Pre\\u00e7o do Produto (R$)\":6.48,\"Quantidade em Estoque\":13,\"Filial\":\"Filial 1\"},{\"Nome do Produto\":\"M\\u00e1scara de c\\u00edlios\",\"Categoria do Produto\":\"Eletrodom\\u00e9sticos\",\"Pre\\u00e7o do Produto (R$)\":82.19,\"Quantidade em Estoque\":26,\"Filial\":\"Filial 3\"},{\"Nome do Produto\":\"Corretivo\",\"Categoria do Produto\":\"Alimentos\",\"Pre\\u00e7o do Produto (R$)\":39.15,\"Quantidade em Estoque\":88,\"Filial\":\"Filial 1\"},{\"Nome do Produto\":\"Delineador l\\u00edquido\",\"Categoria do Produto\":\"Eletrodom\\u00e9sticos\",\"Pre\\u00e7o do Produto (R$)\":52.18,\"Quantidade em Estoque\":21,\"Filial\":\"Filial 6\"},{\"Nome do Produto\":\"Corretivo\",\"Categoria do Produto\":\"Roupas\",\"Pre\\u00e7o do Produto (R$)\":39.84,\"Quantidade em Estoque\":11,\"Filial\":\"Filial 1\"},{\"Nome do Produto\":\"Sombra de olhos\",\"Categoria do Produto\":\"Eletrodom\\u00e9sticos\",\"Pre\\u00e7o do Produto (R$)\":68.87,\"Quantidade em Estoque\":39,\"Filial\":\"Filial 8\"},{\"Nome do Produto\":\"Batom l\\u00edquido\",\"Categoria do Produto\":\"Alimentos\",\"Pre\\u00e7o do Produto (R$)\":67.89,\"Quantidade em Estoque\":85,\"Filial\":\"Filial 4\"},{\"Nome do Produto\":\"Corretivo\",\"Categoria do Produto\":\"Eletrodom\\u00e9sticos\",\"Pre\\u00e7o do Produto (R$)\":2.96,\"Quantidade em Estoque\":26,\"Filial\":\"Filial 3\"},{\"Nome do Produto\":\"P\\u00f3 compacto\",\"Categoria do Produto\":\"Alimentos\",\"Pre\\u00e7o do Produto (R$)\":54.98,\"Quantidade em Estoque\":17,\"Filial\":\"Filial 8\"},{\"Nome do Produto\":\"P\\u00f3 compacto\",\"Categoria do Produto\":\"Alimentos\",\"Pre\\u00e7o do Produto (R$)\":68.53,\"Quantidade em Estoque\":46,\"Filial\":\"Filial 8\"},{\"Nome do Produto\":\"Delineador l\\u00edquido\",\"Categoria do Produto\":\"Eletrodom\\u00e9sticos\",\"Pre\\u00e7o do Produto (R$)\":36.93,\"Quantidade em Estoque\":64,\"Filial\":\"Filial 8\"},{\"Nome do Produto\":\"L\\u00e1pis de sobrancelha\",\"Categoria do Produto\":\"Alimentos\",\"Pre\\u00e7o do Produto (R$)\":96.89,\"Quantidade em Estoque\":87,\"Filial\":\"Filial 1\"},{\"Nome do Produto\":\"Corretivo\",\"Categoria do Produto\":\"Alimentos\",\"Pre\\u00e7o do Produto (R$)\":46.42,\"Quantidade em Estoque\":32,\"Filial\":\"Filial 3\"},{\"Nome do Produto\":\"L\\u00e1pis de sobrancelha\",\"Categoria do Produto\":\"Eletrodom\\u00e9sticos\",\"Pre\\u00e7o do Produto (R$)\":60.65,\"Quantidade em Estoque\":41,\"Filial\":\"Filial 1\"},{\"Nome do Produto\":\"Blush em p\\u00f3\",\"Categoria do Produto\":\"Eletrodom\\u00e9sticos\",\"Pre\\u00e7o do Produto (R$)\":76.24,\"Quantidade em Estoque\":40,\"Filial\":\"Filial 1\"},{\"Nome do Produto\":\"Batom l\\u00edquido\",\"Categoria do Produto\":\"Roupas\",\"Pre\\u00e7o do Produto (R$)\":57.17,\"Quantidade em Estoque\":7,\"Filial\":\"Filial 1\"},{\"Nome do Produto\":\"L\\u00e1pis de sobrancelha\",\"Categoria do Produto\":\"Eletr\\u00f4nicos\",\"Pre\\u00e7o do Produto (R$)\":68.06,\"Quantidade em Estoque\":95,\"Filial\":\"Filial 7\"},{\"Nome do Produto\":\"Delineador l\\u00edquido\",\"Categoria do Produto\":\"Eletrodom\\u00e9sticos\",\"Pre\\u00e7o do Produto (R$)\":70.79,\"Quantidade em Estoque\":23,\"Filial\":\"Filial 8\"},{\"Nome do Produto\":\"Sombra de olhos\",\"Categoria do Produto\":\"Eletr\\u00f4nicos\",\"Pre\\u00e7o do Produto (R$)\":8.87,\"Quantidade em Estoque\":51,\"Filial\":\"Filial 1\"},{\"Nome do Produto\":\"Blush em p\\u00f3\",\"Categoria do Produto\":\"Eletrodom\\u00e9sticos\",\"Pre\\u00e7o do Produto (R$)\":71.41,\"Quantidade em Estoque\":21,\"Filial\":\"Filial 1\"},{\"Nome do Produto\":\"Base l\\u00edquida\",\"Categoria do Produto\":\"Roupas\",\"Pre\\u00e7o do Produto (R$)\":87.3,\"Quantidade em Estoque\":53,\"Filial\":\"Filial 8\"},{\"Nome do Produto\":\"Base l\\u00edquida\",\"Categoria do Produto\":\"Alimentos\",\"Pre\\u00e7o do Produto (R$)\":62.19,\"Quantidade em Estoque\":72,\"Filial\":\"Filial 10\"},{\"Nome do Produto\":\"Delineador l\\u00edquido\",\"Categoria do Produto\":\"Eletr\\u00f4nicos\",\"Pre\\u00e7o do Produto (R$)\":66.1,\"Quantidade em Estoque\":60,\"Filial\":\"Filial 8\"},{\"Nome do Produto\":\"Batom matte\",\"Categoria do Produto\":\"Eletrodom\\u00e9sticos\",\"Pre\\u00e7o do Produto (R$)\":4.78,\"Quantidade em Estoque\":65,\"Filial\":\"Filial 3\"},{\"Nome do Produto\":\"M\\u00e1scara de c\\u00edlios\",\"Categoria do Produto\":\"Eletrodom\\u00e9sticos\",\"Pre\\u00e7o do Produto (R$)\":14.83,\"Quantidade em Estoque\":1,\"Filial\":\"Filial 4\"},{\"Nome do Produto\":\"P\\u00f3 compacto\",\"Categoria do Produto\":\"Eletr\\u00f4nicos\",\"Pre\\u00e7o do Produto (R$)\":44.91,\"Quantidade em Estoque\":11,\"Filial\":\"Filial 10\"},{\"Nome do Produto\":\"Base l\\u00edquida\",\"Categoria do Produto\":\"Eletrodom\\u00e9sticos\",\"Pre\\u00e7o do Produto (R$)\":47.16,\"Quantidade em Estoque\":16,\"Filial\":\"Filial 1\"},{\"Nome do Produto\":\"Batom matte\",\"Categoria do Produto\":\"Alimentos\",\"Pre\\u00e7o do Produto (R$)\":66.32,\"Quantidade em Estoque\":83,\"Filial\":\"Filial 7\"},{\"Nome do Produto\":\"P\\u00f3 compacto\",\"Categoria do Produto\":\"Eletrodom\\u00e9sticos\",\"Pre\\u00e7o do Produto (R$)\":74.51,\"Quantidade em Estoque\":86,\"Filial\":\"Filial 8\"},{\"Nome do Produto\":\"Delineador l\\u00edquido\",\"Categoria do Produto\":\"Eletr\\u00f4nicos\",\"Pre\\u00e7o do Produto (R$)\":21.73,\"Quantidade em Estoque\":23,\"Filial\":\"Filial 3\"},{\"Nome do Produto\":\"L\\u00e1pis de sobrancelha\",\"Categoria do Produto\":\"Alimentos\",\"Pre\\u00e7o do Produto (R$)\":12.32,\"Quantidade em Estoque\":36,\"Filial\":\"Filial 2\"},{\"Nome do Produto\":\"Blush em p\\u00f3\",\"Categoria do Produto\":\"Eletr\\u00f4nicos\",\"Pre\\u00e7o do Produto (R$)\":78.37,\"Quantidade em Estoque\":64,\"Filial\":\"Filial 6\"},{\"Nome do Produto\":\"Delineador l\\u00edquido\",\"Categoria do Produto\":\"Alimentos\",\"Pre\\u00e7o do Produto (R$)\":96.08,\"Quantidade em Estoque\":36,\"Filial\":\"Filial 5\"},{\"Nome do Produto\":\"Corretivo\",\"Categoria do Produto\":\"Eletrodom\\u00e9sticos\",\"Pre\\u00e7o do Produto (R$)\":27.49,\"Quantidade em Estoque\":92,\"Filial\":\"Filial 9\"},{\"Nome do Produto\":\"Base l\\u00edquida\",\"Categoria do Produto\":\"Roupas\",\"Pre\\u00e7o do Produto (R$)\":22.79,\"Quantidade em Estoque\":40,\"Filial\":\"Filial 1\"},{\"Nome do Produto\":\"Sombra de olhos\",\"Categoria do Produto\":\"Alimentos\",\"Pre\\u00e7o do Produto (R$)\":25.45,\"Quantidade em Estoque\":14,\"Filial\":\"Filial 7\"},{\"Nome do Produto\":\"Corretivo\",\"Categoria do Produto\":\"Alimentos\",\"Pre\\u00e7o do Produto (R$)\":97.04,\"Quantidade em Estoque\":74,\"Filial\":\"Filial 8\"},{\"Nome do Produto\":\"L\\u00e1pis de sobrancelha\",\"Categoria do Produto\":\"Eletrodom\\u00e9sticos\",\"Pre\\u00e7o do Produto (R$)\":76.6,\"Quantidade em Estoque\":8,\"Filial\":\"Filial 4\"},{\"Nome do Produto\":\"Sombra de olhos\",\"Categoria do Produto\":\"Eletr\\u00f4nicos\",\"Pre\\u00e7o do Produto (R$)\":88.1,\"Quantidade em Estoque\":26,\"Filial\":\"Filial 7\"},{\"Nome do Produto\":\"L\\u00e1pis de sobrancelha\",\"Categoria do Produto\":\"Alimentos\",\"Pre\\u00e7o do Produto (R$)\":65.36,\"Quantidade em Estoque\":94,\"Filial\":\"Filial 6\"},{\"Nome do Produto\":\"Batom l\\u00edquido\",\"Categoria do Produto\":\"Eletr\\u00f4nicos\",\"Pre\\u00e7o do Produto (R$)\":75.89,\"Quantidade em Estoque\":92,\"Filial\":\"Filial 10\"},{\"Nome do Produto\":\"M\\u00e1scara de c\\u00edlios\",\"Categoria do Produto\":\"Eletrodom\\u00e9sticos\",\"Pre\\u00e7o do Produto (R$)\":16.08,\"Quantidade em Estoque\":43,\"Filial\":\"Filial 3\"},{\"Nome do Produto\":\"Delineador l\\u00edquido\",\"Categoria do Produto\":\"Roupas\",\"Pre\\u00e7o do Produto (R$)\":77.69,\"Quantidade em Estoque\":45,\"Filial\":\"Filial 10\"},{\"Nome do Produto\":\"Blush em p\\u00f3\",\"Categoria do Produto\":\"Eletrodom\\u00e9sticos\",\"Pre\\u00e7o do Produto (R$)\":39.12,\"Quantidade em Estoque\":95,\"Filial\":\"Filial 3\"},{\"Nome do Produto\":\"Blush em p\\u00f3\",\"Categoria do Produto\":\"Eletrodom\\u00e9sticos\",\"Pre\\u00e7o do Produto (R$)\":39.47,\"Quantidade em Estoque\":96,\"Filial\":\"Filial 3\"},{\"Nome do Produto\":\"Corretivo\",\"Categoria do Produto\":\"Eletr\\u00f4nicos\",\"Pre\\u00e7o do Produto (R$)\":1.57,\"Quantidade em Estoque\":53,\"Filial\":\"Filial 3\"},{\"Nome do Produto\":\"Delineador l\\u00edquido\",\"Categoria do Produto\":\"Eletr\\u00f4nicos\",\"Pre\\u00e7o do Produto (R$)\":1.23,\"Quantidade em Estoque\":79,\"Filial\":\"Filial 6\"},{\"Nome do Produto\":\"Blush em p\\u00f3\",\"Categoria do Produto\":\"Roupas\",\"Pre\\u00e7o do Produto (R$)\":18.37,\"Quantidade em Estoque\":20,\"Filial\":\"Filial 9\"},{\"Nome do Produto\":\"Corretivo\",\"Categoria do Produto\":\"Eletr\\u00f4nicos\",\"Pre\\u00e7o do Produto (R$)\":6.12,\"Quantidade em Estoque\":97,\"Filial\":\"Filial 9\"},{\"Nome do Produto\":\"Delineador l\\u00edquido\",\"Categoria do Produto\":\"Alimentos\",\"Pre\\u00e7o do Produto (R$)\":62.97,\"Quantidade em Estoque\":58,\"Filial\":\"Filial 8\"},{\"Nome do Produto\":\"M\\u00e1scara de c\\u00edlios\",\"Categoria do Produto\":\"Eletrodom\\u00e9sticos\",\"Pre\\u00e7o do Produto (R$)\":87.67,\"Quantidade em Estoque\":3,\"Filial\":\"Filial 6\"},{\"Nome do Produto\":\"Delineador l\\u00edquido\",\"Categoria do Produto\":\"Alimentos\",\"Pre\\u00e7o do Produto (R$)\":42.5,\"Quantidade em Estoque\":94,\"Filial\":\"Filial 2\"},{\"Nome do Produto\":\"Corretivo\",\"Categoria do Produto\":\"Roupas\",\"Pre\\u00e7o do Produto (R$)\":23.65,\"Quantidade em Estoque\":67,\"Filial\":\"Filial 3\"},{\"Nome do Produto\":\"L\\u00e1pis de sobrancelha\",\"Categoria do Produto\":\"Eletr\\u00f4nicos\",\"Pre\\u00e7o do Produto (R$)\":58.46,\"Quantidade em Estoque\":60,\"Filial\":\"Filial 10\"},{\"Nome do Produto\":\"Base l\\u00edquida\",\"Categoria do Produto\":\"Alimentos\",\"Pre\\u00e7o do Produto (R$)\":95.84,\"Quantidade em Estoque\":44,\"Filial\":\"Filial 4\"}]\n"
          ]
        }
      ],
      "source": [
        "with open(path_json, 'r') as file:\n",
        "  print(file.readline())"
      ]
    },
    {
      "cell_type": "markdown",
      "metadata": {
        "id": "dqFxArQBOthF"
      },
      "source": [
        "## json"
      ]
    },
    {
      "cell_type": "code",
      "execution_count": 5,
      "metadata": {
        "id": "hss3njmyWxiZ"
      },
      "outputs": [],
      "source": [
        "import json"
      ]
    },
    {
      "cell_type": "code",
      "execution_count": 6,
      "metadata": {
        "id": "sP6QHZqA7mRo"
      },
      "outputs": [],
      "source": [
        "with open(path_json, 'r') as file:\n",
        "  dados_json = json.load(file)"
      ]
    },
    {
      "cell_type": "code",
      "execution_count": 7,
      "metadata": {
        "colab": {
          "base_uri": "https://localhost:8080/"
        },
        "id": "pgSc9xCJ9NPU",
        "outputId": "f8cc8107-338e-4fb3-d53c-b71d1bdcbfc7"
      },
      "outputs": [
        {
          "data": {
            "text/plain": [
              "{'Nome do Produto': 'Corretivo',\n",
              " 'Categoria do Produto': 'Roupas',\n",
              " 'Preço do Produto (R$)': 73.3,\n",
              " 'Quantidade em Estoque': 47,\n",
              " 'Filial': 'Filial 10'}"
            ]
          },
          "execution_count": 7,
          "metadata": {},
          "output_type": "execute_result"
        }
      ],
      "source": [
        "dados_json[0]"
      ]
    },
    {
      "cell_type": "markdown",
      "metadata": {
        "id": "Tylr8lQbOm7q"
      },
      "source": [
        "## Alguma coisa"
      ]
    },
    {
      "cell_type": "code",
      "execution_count": null,
      "metadata": {
        "id": "RRb5oNaROmt1"
      },
      "outputs": [],
      "source": []
    },
    {
      "cell_type": "markdown",
      "metadata": {
        "id": "dUh-2AGPW8wv"
      },
      "source": [
        "# Aula 3 leitura CSV - Lista"
      ]
    },
    {
      "cell_type": "markdown",
      "metadata": {
        "id": "U6ngf5UzOwAP"
      },
      "source": [
        "## readline readlines\n"
      ]
    },
    {
      "cell_type": "code",
      "execution_count": 8,
      "metadata": {
        "id": "yV3HabVfPV3_"
      },
      "outputs": [],
      "source": [
        "path_csv = \"../dados_raw/dados_empresaB.csv\""
      ]
    },
    {
      "cell_type": "code",
      "execution_count": 9,
      "metadata": {
        "colab": {
          "base_uri": "https://localhost:8080/"
        },
        "id": "5BgsqsAkPUzk",
        "outputId": "1c0f70f6-d92e-42ac-d7f2-1d7f75454899"
      },
      "outputs": [
        {
          "name": "stdout",
          "output_type": "stream",
          "text": [
            "Nome do Item,ClassificaÃ§Ã£o do Produto,Valor em Reais (R$),Quantidade em Estoque,Nome da Loja,Data da Venda\n",
            "\n",
            "Base lÃ­quida,Roupas,38.01,77,Filial 5,2023-04-03 03:29:53.201930\n",
            "\n"
          ]
        }
      ],
      "source": [
        "with open(path_csv, 'r') as file:\n",
        "    print(file.readline())\n",
        "    print(file.readline())"
      ]
    },
    {
      "cell_type": "code",
      "execution_count": 10,
      "metadata": {
        "colab": {
          "base_uri": "https://localhost:8080/"
        },
        "id": "CFFpz4P2QEZw",
        "outputId": "65d0e0b8-c03a-413c-a97d-cc7b05ce4041"
      },
      "outputs": [
        {
          "name": "stdout",
          "output_type": "stream",
          "text": [
            "Nome do Item,ClassificaÃ§Ã£o do Produto,Valor em Reais (R$),Quantidade em Estoque,Nome da Loja,Data da Venda\n",
            "\n",
            "Base lÃ­quida,Roupas,38.01,77,Filial 5,2023-04-03 03:29:53.201930\n",
            "\n",
            "Base lÃ­quida,Roupas,86.78,90,Filial 8,2023-03-21 03:29:53.201930\n",
            "\n",
            "Base lÃ­quida,EletrÃ´nicos,34.43,22,Filial 10,2023-03-02 03:29:53.201930\n",
            "\n",
            "LÃ¡pis de sobrancelha,Roupas,9.4,73,Filial 9,2023-03-23 03:29:53.201930\n",
            "\n",
            "LÃ¡pis de sobrancelha,Alimentos,89.25,26,Filial 4,2022-09-27 03:29:53.201930\n",
            "\n",
            "Batom lÃ­quido,Alimentos,3.45,32,Filial 1,2022-12-16 03:29:53.201930\n",
            "\n",
            "Sombra de olhos,Alimentos,35.01,41,Filial 6,2022-08-22 03:29:53.201930\n",
            "\n",
            "Base lÃ­quida,EletrodomÃ©sticos,34.93,39,Filial 8,2023-05-27 03:29:53.201930\n",
            "\n"
          ]
        }
      ],
      "source": [
        "with open(path_csv) as file:\n",
        "    num_linhas = 10\n",
        "    for linha in range(1,num_linhas):\n",
        "      print(file.readline())"
      ]
    },
    {
      "cell_type": "markdown",
      "metadata": {
        "id": "E0rW7Ny8P32I"
      },
      "source": [
        "readlines"
      ]
    },
    {
      "cell_type": "code",
      "execution_count": 11,
      "metadata": {
        "colab": {
          "base_uri": "https://localhost:8080/"
        },
        "id": "7XFoW0C2P_ru",
        "outputId": "5a0be243-9ef4-4f1d-b268-dfc181b3eb25"
      },
      "outputs": [
        {
          "name": "stdout",
          "output_type": "stream",
          "text": [
            "['Nome do Item,ClassificaÃ§Ã£o do Produto,Valor em Reais (R$),Quantidade em Estoque,Nome da Loja,Data da Venda\\n', 'Base lÃ\\xadquida,Roupas,38.01,77,Filial 5,2023-04-03 03:29:53.201930\\n', 'Base lÃ\\xadquida,Roupas,86.78,90,Filial 8,2023-03-21 03:29:53.201930\\n', 'Base lÃ\\xadquida,EletrÃ´nicos,34.43,22,Filial 10,2023-03-02 03:29:53.201930\\n', 'LÃ¡pis de sobrancelha,Roupas,9.4,73,Filial 9,2023-03-23 03:29:53.201930\\n', 'LÃ¡pis de sobrancelha,Alimentos,89.25,26,Filial 4,2022-09-27 03:29:53.201930\\n', 'Batom lÃ\\xadquido,Alimentos,3.45,32,Filial 1,2022-12-16 03:29:53.201930\\n', 'Sombra de olhos,Alimentos,35.01,41,Filial 6,2022-08-22 03:29:53.201930\\n', 'Base lÃ\\xadquida,EletrodomÃ©sticos,34.93,39,Filial 8,2023-05-27 03:29:53.201930\\n', 'Corretivo,EletrÃ´nicos,75.54,79,Filial 1,2022-11-07 03:29:53.201930\\n', 'Delineador lÃ\\xadquido,EletrodomÃ©sticos,53.04,26,Filial 4,2022-10-04 03:29:53.201930\\n', 'Base lÃ\\xadquida,Roupas,21.85,3,Filial 7,2022-09-22 03:29:53.201930\\n', 'MÃ¡scara de cÃ\\xadlios,EletrodomÃ©sticos,25.28,41,Filial 7,2022-11-03 03:29:53.201930\\n', 'Delineador lÃ\\xadquido,Alimentos,27.11,10,Filial 8,2023-08-07 03:29:53.201930\\n', 'Delineador lÃ\\xadquido,EletrÃ´nicos,86.33,64,Filial 9,2022-11-13 03:29:53.201930\\n', 'Batom lÃ\\xadquido,EletrÃ´nicos,34.32,33,Filial 4,2023-07-27 03:29:53.201930\\n', 'PÃ³ compacto,EletrodomÃ©sticos,17.68,43,Filial 6,2023-06-13 03:29:53.201930\\n', 'Batom lÃ\\xadquido,EletrodomÃ©sticos,66.29,86,Filial 10,2023-08-04 03:29:53.201930\\n', 'LÃ¡pis de sobrancelha,EletrÃ´nicos,95.06,26,Filial 9,2022-12-09 03:29:53.201930\\n', 'Batom matte,EletrÃ´nicos,3.2,24,Filial 8,2022-11-28 03:29:53.201930\\n', 'Base lÃ\\xadquida,Alimentos,30.86,36,Filial 9,2022-12-07 03:29:53.201930\\n', 'MÃ¡scara de cÃ\\xadlios,Alimentos,18.83,95,Filial 5,2023-01-29 03:29:53.201930\\n', 'Base lÃ\\xadquida,EletrodomÃ©sticos,8.65,59,Filial 4,2022-10-13 03:29:53.201930\\n', 'PÃ³ compacto,EletrodomÃ©sticos,59.39,19,Filial 6,2022-11-09 03:29:53.201930\\n', 'Corretivo,EletrÃ´nicos,91.88,70,Filial 1,2022-12-05 03:29:53.201930\\n', 'Delineador lÃ\\xadquido,Roupas,13.57,28,Filial 6,2022-12-06 03:29:53.201930\\n', 'Batom lÃ\\xadquido,EletrodomÃ©sticos,51.99,93,Filial 6,2023-01-23 03:29:53.201930\\n', 'Blush em pÃ³,EletrÃ´nicos,32.8,30,Filial 10,2023-01-18 03:29:53.201930\\n', 'Delineador lÃ\\xadquido,EletrÃ´nicos,59.71,14,Filial 9,2023-04-02 03:29:53.201930\\n', 'Blush em pÃ³,Alimentos,14.61,52,Filial 9,2022-12-12 03:29:53.201930\\n', 'Batom matte,EletrodomÃ©sticos,4.63,91,Filial 10,2022-10-06 03:29:53.201930\\n', 'Corretivo,Alimentos,50.04,75,Filial 9,2023-07-08 03:29:53.201930\\n', 'MÃ¡scara de cÃ\\xadlios,Roupas,72.91,73,Filial 2,2023-08-11 03:29:53.201930\\n', 'Delineador lÃ\\xadquido,Alimentos,83.93,23,Filial 10,2023-04-06 03:29:53.201930\\n', 'Sombra de olhos,EletrodomÃ©sticos,46.45,26,Filial 2,2023-07-07 03:29:53.201930\\n', 'Batom lÃ\\xadquido,EletrÃ´nicos,11.17,2,Filial 1,2022-12-16 03:29:53.201930\\n', 'Blush em pÃ³,Roupas,2.09,90,Filial 4,2023-05-14 03:29:53.201930\\n', 'PÃ³ compacto,Alimentos,11.84,26,Filial 7,2023-03-03 03:29:53.201930\\n', 'PÃ³ compacto,Roupas,4.5,41,Filial 3,2022-11-10 03:29:53.201930\\n', 'Delineador lÃ\\xadquido,Roupas,58.57,87,Filial 6,2023-05-14 03:29:53.201930\\n', 'LÃ¡pis de sobrancelha,Alimentos,35.1,43,Filial 7,2022-12-25 03:29:53.201930\\n', 'MÃ¡scara de cÃ\\xadlios,EletrodomÃ©sticos,19.49,69,Filial 5,2023-02-26 03:29:53.201930\\n', 'Delineador lÃ\\xadquido,EletrÃ´nicos,38.15,35,Filial 5,2022-11-05 03:29:53.201930\\n', 'Sombra de olhos,Roupas,37.89,79,Filial 9,2023-03-30 03:29:53.201930\\n', 'Delineador lÃ\\xadquido,EletrodomÃ©sticos,30.18,65,Filial 5,2022-11-14 03:29:53.201930\\n', 'Batom matte,Alimentos,19.74,16,Filial 2,2023-02-20 03:29:53.201930\\n', 'Batom lÃ\\xadquido,Alimentos,80.36,16,Filial 10,2022-11-23 03:29:53.201930\\n', 'Sombra de olhos,Roupas,55.16,84,Filial 7,2023-01-19 03:29:53.201930\\n', 'Batom lÃ\\xadquido,EletrÃ´nicos,58.16,44,Filial 8,2022-11-04 03:29:53.201930\\n', 'Base lÃ\\xadquida,Roupas,34.31,49,Filial 10,2022-11-16 03:29:53.201930\\n', 'LÃ¡pis de sobrancelha,EletrodomÃ©sticos,73.15,97,Filial 10,2023-05-10 03:29:53.201930\\n', 'Base lÃ\\xadquida,EletrÃ´nicos,21.66,96,Filial 1,2022-09-07 03:29:53.201930\\n', 'PÃ³ compacto,EletrodomÃ©sticos,4.82,25,Filial 9,2022-12-20 03:29:53.201930\\n', 'Batom matte,Roupas,7.77,44,Filial 2,2022-12-15 03:29:53.201930\\n', 'Blush em pÃ³,EletrodomÃ©sticos,14.68,44,Filial 9,2022-12-01 03:29:53.201930\\n', 'Base lÃ\\xadquida,Roupas,63.14,85,Filial 3,2023-05-18 03:29:53.201930\\n', 'LÃ¡pis de sobrancelha,Alimentos,94.98,12,Filial 9,2023-05-19 03:29:53.201930\\n', 'Sombra de olhos,EletrodomÃ©sticos,95.95,34,Filial 7,2023-08-04 03:29:53.201930\\n', 'Blush em pÃ³,EletrÃ´nicos,3.15,95,Filial 5,2022-12-13 03:29:53.201930\\n', 'Delineador lÃ\\xadquido,Alimentos,84.37,94,Filial 1,2023-06-30 03:29:53.201930\\n', 'PÃ³ compacto,EletrÃ´nicos,1.1,73,Filial 2,2023-05-08 03:29:53.201930\\n', 'LÃ¡pis de sobrancelha,Alimentos,97.49,62,Filial 10,2022-09-03 03:29:53.201930\\n', 'Delineador lÃ\\xadquido,Alimentos,75.04,74,Filial 4,2023-08-10 03:29:53.201930\\n', 'Blush em pÃ³,EletrÃ´nicos,86.51,11,Filial 2,2022-08-24 03:29:53.201930\\n', 'Delineador lÃ\\xadquido,Alimentos,89.32,88,Filial 8,2023-07-13 03:29:53.201930\\n', 'MÃ¡scara de cÃ\\xadlios,EletrÃ´nicos,69.54,65,Filial 5,2023-02-22 03:29:53.201930\\n', 'PÃ³ compacto,EletrodomÃ©sticos,69.16,40,Filial 8,2023-03-09 03:29:53.201930\\n', 'LÃ¡pis de sobrancelha,EletrÃ´nicos,70.85,29,Filial 7,2023-01-09 03:29:53.201930\\n', 'LÃ¡pis de sobrancelha,Alimentos,71.77,33,Filial 5,2023-05-17 03:29:53.201930\\n', 'Corretivo,Roupas,30.57,37,Filial 10,2022-10-11 03:29:53.201930\\n', 'Delineador lÃ\\xadquido,Alimentos,44.82,37,Filial 1,2022-11-17 03:29:53.201930\\n', 'MÃ¡scara de cÃ\\xadlios,Alimentos,4.26,96,Filial 4,2022-12-06 03:29:53.201930\\n', 'Corretivo,Roupas,71.43,93,Filial 5,2023-01-19 03:29:53.201930\\n', 'Corretivo,Alimentos,90.45,27,Filial 4,2022-11-24 03:29:53.201930\\n', 'Batom matte,Roupas,26.11,16,Filial 5,2023-02-26 03:29:53.201930\\n', 'Batom matte,EletrÃ´nicos,83.56,48,Filial 9,2023-07-07 03:29:53.201930\\n', 'Batom matte,EletrÃ´nicos,4.89,29,Filial 5,2023-06-29 03:29:53.201930\\n', 'Sombra de olhos,Roupas,53.48,29,Filial 9,2022-12-15 03:29:53.201930\\n', 'PÃ³ compacto,Alimentos,24.44,59,Filial 7,2022-09-13 03:29:53.201930\\n', 'Base lÃ\\xadquida,EletrodomÃ©sticos,55.11,98,Filial 1,2023-04-08 03:29:53.201930\\n', 'PÃ³ compacto,Roupas,86.03,83,Filial 10,2022-10-05 03:29:53.201930\\n', 'Base lÃ\\xadquida,EletrÃ´nicos,10.69,86,Filial 4,2023-05-09 03:29:53.201930\\n', 'Sombra de olhos,Roupas,67.34,90,Filial 3,2022-11-11 03:29:53.201930\\n', 'Batom lÃ\\xadquido,EletrodomÃ©sticos,57.47,61,Filial 4,2023-07-28 03:29:53.201930\\n', 'Blush em pÃ³,Alimentos,92.73,34,Filial 5,2023-08-03 03:29:53.201930\\n', 'Batom matte,EletrÃ´nicos,52.36,10,Filial 3,2022-10-30 03:29:53.201930\\n', 'Delineador lÃ\\xadquido,EletrodomÃ©sticos,89.73,19,Filial 8,2023-01-18 03:29:53.201930\\n', 'PÃ³ compacto,Roupas,23.84,29,Filial 5,2023-01-01 03:29:53.201930\\n', 'Base lÃ\\xadquida,Alimentos,1.58,83,Filial 2,2023-07-12 03:29:53.201930\\n', 'Delineador lÃ\\xadquido,Roupas,44.81,91,Filial 9,2023-08-01 03:29:53.201930\\n', 'LÃ¡pis de sobrancelha,EletrodomÃ©sticos,34.73,82,Filial 7,2023-02-08 03:29:53.201930\\n', 'Corretivo,EletrodomÃ©sticos,52.71,24,Filial 7,2023-08-16 03:29:53.201930\\n', 'LÃ¡pis de sobrancelha,Alimentos,69.81,57,Filial 6,2022-09-12 03:29:53.201930\\n', 'LÃ¡pis de sobrancelha,Alimentos,5.28,54,Filial 5,2023-06-09 03:29:53.201930\\n', 'Sombra de olhos,Alimentos,6.47,15,Filial 7,2023-02-12 03:29:53.201930\\n', 'Batom lÃ\\xadquido,EletrÃ´nicos,84.69,18,Filial 3,2023-08-12 03:29:53.201930\\n', 'Base lÃ\\xadquida,EletrodomÃ©sticos,96.68,1,Filial 2,2022-11-19 03:29:53.201930\\n', 'MÃ¡scara de cÃ\\xadlios,EletrÃ´nicos,20.73,84,Filial 7,2022-09-20 03:29:53.201930\\n', 'MÃ¡scara de cÃ\\xadlios,Roupas,70.34,62,Filial 4,2022-12-04 03:29:53.201930\\n', 'Sombra de olhos,Roupas,52.22,98,Filial 2,2023-01-10 03:29:53.201930\\n', 'Base lÃ\\xadquida,EletrÃ´nicos,71.01,87,Filial 7,2023-01-07 03:29:53.201930\\n', 'Batom lÃ\\xadquido,EletrodomÃ©sticos,82.19,29,Filial 7,2023-01-06 03:29:53.201930\\n', 'MÃ¡scara de cÃ\\xadlios,Alimentos,22.11,54,Filial 6,2023-05-01 03:29:53.201930\\n', 'Corretivo,EletrodomÃ©sticos,93.58,100,Filial 4,2023-07-25 03:29:53.201930\\n', 'MÃ¡scara de cÃ\\xadlios,Roupas,94.22,99,Filial 10,2022-09-04 03:29:53.201930\\n', 'PÃ³ compacto,Roupas,93.55,97,Filial 8,2022-09-04 03:29:53.201930\\n', 'MÃ¡scara de cÃ\\xadlios,EletrodomÃ©sticos,85.84,46,Filial 1,2023-06-09 03:29:53.201930\\n', 'Batom matte,EletrodomÃ©sticos,23.59,76,Filial 7,2023-03-05 03:29:53.201930\\n', 'Delineador lÃ\\xadquido,EletrÃ´nicos,93.54,54,Filial 3,2022-10-04 03:29:53.201930\\n', 'Delineador lÃ\\xadquido,Alimentos,79.04,3,Filial 2,2023-03-12 03:29:53.201930\\n', 'Sombra de olhos,Roupas,68.13,18,Filial 3,2022-11-19 03:29:53.201930\\n', 'Base lÃ\\xadquida,EletrodomÃ©sticos,35.69,10,Filial 6,2023-08-22 03:29:53.201930\\n', 'MÃ¡scara de cÃ\\xadlios,EletrodomÃ©sticos,57.83,1,Filial 5,2023-08-21 03:29:53.201930\\n', 'Batom matte,Alimentos,87.47,74,Filial 5,2023-04-06 03:29:53.201930\\n', 'Batom matte,Roupas,6.98,69,Filial 6,2023-03-19 03:29:53.201930\\n', 'Blush em pÃ³,Alimentos,40.53,59,Filial 7,2023-07-13 03:29:53.201930\\n', 'Base lÃ\\xadquida,Alimentos,15.67,1,Filial 5,2023-06-22 03:29:53.201930\\n', 'MÃ¡scara de cÃ\\xadlios,Roupas,94.87,62,Filial 6,2022-09-05 03:29:53.201930\\n', 'Corretivo,EletrÃ´nicos,46.0,1,Filial 1,2023-05-30 03:29:53.201930\\n', 'Delineador lÃ\\xadquido,EletrodomÃ©sticos,18.85,5,Filial 10,2022-08-26 03:29:53.201930\\n', 'Delineador lÃ\\xadquido,Roupas,34.12,76,Filial 9,2022-09-06 03:29:53.201930\\n', 'Corretivo,Roupas,66.07,34,Filial 3,2023-08-05 03:29:53.201930\\n', 'MÃ¡scara de cÃ\\xadlios,Alimentos,44.72,19,Filial 2,2022-08-25 03:29:53.201930\\n', 'MÃ¡scara de cÃ\\xadlios,Alimentos,74.79,4,Filial 6,2023-02-18 03:29:53.201930\\n', 'PÃ³ compacto,EletrÃ´nicos,41.45,57,Filial 6,2023-06-02 03:29:53.201930\\n', 'Blush em pÃ³,Roupas,87.5,52,Filial 6,2022-11-02 03:29:53.201930\\n', 'Delineador lÃ\\xadquido,EletrÃ´nicos,43.15,64,Filial 5,2023-02-27 03:29:53.201930\\n', 'Batom lÃ\\xadquido,Roupas,62.63,56,Filial 8,2023-08-21 03:29:53.201930\\n', 'Sombra de olhos,EletrÃ´nicos,90.5,96,Filial 9,2023-08-22 03:29:53.201930\\n', 'Corretivo,EletrodomÃ©sticos,24.45,38,Filial 6,2022-10-04 03:29:53.201930\\n', 'Base lÃ\\xadquida,Roupas,13.55,47,Filial 10,2022-12-04 03:29:53.201930\\n', 'Batom matte,EletrÃ´nicos,3.34,37,Filial 1,2023-05-14 03:29:53.201930\\n', 'Base lÃ\\xadquida,Alimentos,55.25,5,Filial 5,2023-03-10 03:29:53.201930\\n', 'Batom matte,Roupas,47.11,1,Filial 2,2023-01-10 03:29:53.201930\\n', 'PÃ³ compacto,EletrÃ´nicos,71.26,59,Filial 3,2022-11-17 03:29:53.201930\\n', 'Sombra de olhos,Alimentos,48.3,66,Filial 5,2023-08-06 03:29:53.201930\\n', 'LÃ¡pis de sobrancelha,Alimentos,26.71,13,Filial 9,2023-07-16 03:29:53.201930\\n', 'MÃ¡scara de cÃ\\xadlios,EletrÃ´nicos,9.19,65,Filial 7,2022-11-26 03:29:53.201930\\n', 'Base lÃ\\xadquida,EletrodomÃ©sticos,24.23,77,Filial 3,2022-09-13 03:29:53.201930\\n', 'Batom lÃ\\xadquido,Alimentos,33.24,24,Filial 2,2023-02-01 03:29:53.201930\\n', 'Delineador lÃ\\xadquido,EletrodomÃ©sticos,67.09,31,Filial 8,2023-07-09 03:29:53.201930\\n', 'PÃ³ compacto,EletrodomÃ©sticos,17.62,59,Filial 6,2022-11-18 03:29:53.201930\\n', 'Batom matte,EletrÃ´nicos,49.41,90,Filial 5,2022-11-19 03:29:53.201930\\n', 'MÃ¡scara de cÃ\\xadlios,Roupas,99.91,48,Filial 1,2023-07-26 03:29:53.201930\\n', 'Sombra de olhos,EletrÃ´nicos,54.17,71,Filial 9,2023-06-10 03:29:53.201930\\n', 'Batom lÃ\\xadquido,Alimentos,73.32,15,Filial 10,2023-01-28 03:29:53.201930\\n', 'LÃ¡pis de sobrancelha,EletrodomÃ©sticos,10.7,36,Filial 9,2022-10-03 03:29:53.201930\\n', 'PÃ³ compacto,Alimentos,20.19,42,Filial 3,2023-05-01 03:29:53.201930\\n', 'Sombra de olhos,Alimentos,39.72,96,Filial 3,2023-03-07 03:29:53.201930\\n', 'Batom lÃ\\xadquido,Roupas,14.61,72,Filial 4,2022-12-31 03:29:53.201930\\n', 'PÃ³ compacto,Roupas,11.17,42,Filial 9,2023-06-08 03:29:53.201930\\n', 'LÃ¡pis de sobrancelha,Roupas,70.27,84,Filial 8,2022-10-26 03:29:53.201930\\n', 'MÃ¡scara de cÃ\\xadlios,Roupas,14.75,41,Filial 9,2022-11-14 03:29:53.201930\\n', 'Delineador lÃ\\xadquido,EletrÃ´nicos,67.29,65,Filial 3,2023-06-03 03:29:53.201930\\n', 'PÃ³ compacto,EletrÃ´nicos,76.81,69,Filial 2,2023-04-11 03:29:53.201930\\n', 'Delineador lÃ\\xadquido,Alimentos,4.29,40,Filial 7,2022-09-29 03:29:53.201930\\n', 'MÃ¡scara de cÃ\\xadlios,Alimentos,63.36,94,Filial 6,2022-12-02 03:29:53.201930\\n', 'MÃ¡scara de cÃ\\xadlios,EletrÃ´nicos,69.37,91,Filial 2,2023-03-07 03:29:53.201930\\n', 'MÃ¡scara de cÃ\\xadlios,Alimentos,55.4,66,Filial 8,2023-01-15 03:29:53.201930\\n', 'Batom lÃ\\xadquido,Alimentos,11.69,88,Filial 3,2023-06-20 03:29:53.201930\\n', 'Batom matte,EletrodomÃ©sticos,71.95,68,Filial 2,2022-10-06 03:29:53.201930\\n', 'Corretivo,Alimentos,56.17,65,Filial 7,2023-05-29 03:29:53.201930\\n', 'Base lÃ\\xadquida,Roupas,90.68,98,Filial 8,2023-01-19 03:29:53.201930\\n', 'Base lÃ\\xadquida,EletrÃ´nicos,88.22,57,Filial 4,2023-01-27 03:29:53.201930\\n', 'Base lÃ\\xadquida,Alimentos,28.88,79,Filial 5,2023-05-12 03:29:53.201930\\n', 'LÃ¡pis de sobrancelha,Alimentos,55.56,38,Filial 2,2022-10-13 03:29:53.201930\\n', 'Corretivo,EletrÃ´nicos,33.45,78,Filial 2,2023-01-05 03:29:53.201930\\n', 'LÃ¡pis de sobrancelha,EletrodomÃ©sticos,62.96,76,Filial 8,2022-09-05 03:29:53.201930\\n', 'Base lÃ\\xadquida,Roupas,79.71,68,Filial 2,2023-04-21 03:29:53.201930\\n', 'Corretivo,Alimentos,58.32,39,Filial 10,2023-06-29 03:29:53.201930\\n', 'Delineador lÃ\\xadquido,Alimentos,59.25,67,Filial 2,2022-12-07 03:29:53.201930\\n', 'Sombra de olhos,Alimentos,21.62,40,Filial 7,2022-09-20 03:29:53.201930\\n', 'Sombra de olhos,EletrÃ´nicos,31.81,83,Filial 10,2023-01-26 03:29:53.201930\\n', 'Corretivo,EletrodomÃ©sticos,47.83,29,Filial 8,2022-10-26 03:29:53.201930\\n', 'Sombra de olhos,EletrodomÃ©sticos,55.15,33,Filial 2,2023-08-17 03:29:53.201930\\n', 'Delineador lÃ\\xadquido,EletrÃ´nicos,44.54,15,Filial 9,2022-12-13 03:29:53.201930\\n', 'Delineador lÃ\\xadquido,Alimentos,62.52,77,Filial 10,2023-05-06 03:29:53.201930\\n', 'Batom lÃ\\xadquido,EletrodomÃ©sticos,36.12,6,Filial 10,2023-05-14 03:29:53.201930\\n', 'PÃ³ compacto,Alimentos,78.49,26,Filial 8,2022-11-25 03:29:53.201930\\n', 'PÃ³ compacto,EletrÃ´nicos,66.47,66,Filial 8,2023-02-06 03:29:53.201930\\n', 'Delineador lÃ\\xadquido,EletrodomÃ©sticos,37.53,12,Filial 7,2022-12-07 03:29:53.201930\\n', 'LÃ¡pis de sobrancelha,Roupas,96.94,69,Filial 3,2022-10-06 03:29:53.201930\\n', 'Delineador lÃ\\xadquido,Alimentos,66.64,74,Filial 3,2022-09-23 03:29:53.201930\\n', 'PÃ³ compacto,Roupas,25.25,81,Filial 2,2023-01-11 03:29:53.201930\\n', 'PÃ³ compacto,EletrodomÃ©sticos,72.06,58,Filial 4,2022-11-26 03:29:53.201930\\n', 'Sombra de olhos,Roupas,15.32,33,Filial 6,2022-12-08 03:29:53.201930\\n', 'Batom lÃ\\xadquido,Alimentos,32.04,72,Filial 7,2023-03-09 03:29:53.201930\\n', 'Delineador lÃ\\xadquido,Roupas,38.25,37,Filial 4,2023-07-14 03:29:53.201930\\n', 'Base lÃ\\xadquida,EletrodomÃ©sticos,20.73,94,Filial 1,2023-06-27 03:29:53.201930\\n', 'Batom lÃ\\xadquido,Alimentos,44.22,92,Filial 9,2023-03-19 03:29:53.201930\\n', 'Base lÃ\\xadquida,Alimentos,24.72,7,Filial 5,2022-09-22 03:29:53.201930\\n', 'Corretivo,EletrÃ´nicos,75.25,14,Filial 10,2022-12-31 03:29:53.201930\\n', 'Base lÃ\\xadquida,Alimentos,76.06,31,Filial 10,2023-01-16 03:29:53.201930\\n', 'Delineador lÃ\\xadquido,EletrodomÃ©sticos,51.7,30,Filial 9,2023-05-08 03:29:53.201930\\n', 'MÃ¡scara de cÃ\\xadlios,Alimentos,48.24,1,Filial 5,2022-12-07 03:29:53.201930\\n', 'LÃ¡pis de sobrancelha,Alimentos,38.69,74,Filial 10,2023-04-02 03:29:53.201930\\n', 'Batom matte,EletrÃ´nicos,28.38,72,Filial 6,2023-02-09 03:29:53.201930\\n', 'Delineador lÃ\\xadquido,Roupas,56.32,91,Filial 8,2023-07-23 03:29:53.201930\\n', 'Corretivo,EletrÃ´nicos,58.44,40,Filial 4,2022-10-03 03:29:53.201930\\n', 'Base lÃ\\xadquida,EletrÃ´nicos,28.55,70,Filial 10,2023-06-15 03:29:53.201930\\n', 'PÃ³ compacto,EletrodomÃ©sticos,79.51,4,Filial 10,2022-10-04 03:29:53.201930\\n', 'Batom matte,EletrodomÃ©sticos,66.08,58,Filial 10,2022-08-29 03:29:53.201930\\n', 'PÃ³ compacto,EletrÃ´nicos,56.37,43,Filial 6,2023-02-01 03:29:53.201930\\n', 'Delineador lÃ\\xadquido,Alimentos,17.69,60,Filial 9,2023-02-05 03:29:53.201930\\n', 'Base lÃ\\xadquida,Roupas,39.95,29,Filial 4,2023-06-01 03:29:53.201930\\n', 'MÃ¡scara de cÃ\\xadlios,Alimentos,21.74,86,Filial 3,2022-12-02 03:29:53.201930\\n', 'Sombra de olhos,Alimentos,64.75,64,Filial 10,2023-06-05 03:29:53.201930\\n', 'Base lÃ\\xadquida,EletrÃ´nicos,96.49,60,Filial 10,2023-04-12 03:29:53.201930\\n', 'Sombra de olhos,Alimentos,45.09,18,Filial 9,2023-03-28 03:29:53.201930\\n', 'Blush em pÃ³,Roupas,55.7,46,Filial 1,2023-08-09 03:29:53.201930\\n', 'Sombra de olhos,EletrodomÃ©sticos,87.02,71,Filial 10,2023-06-24 03:29:53.201930\\n', 'Blush em pÃ³,EletrÃ´nicos,27.49,11,Filial 2,2023-07-13 03:29:53.201930\\n', 'Sombra de olhos,EletrÃ´nicos,6.26,84,Filial 4,2022-09-06 03:29:53.201930\\n', 'Sombra de olhos,Alimentos,78.08,88,Filial 8,2022-09-15 03:29:53.201930\\n', 'Corretivo,EletrodomÃ©sticos,4.7,43,Filial 8,2022-12-20 03:29:53.201930\\n', 'Sombra de olhos,Roupas,13.57,55,Filial 4,2023-02-06 03:29:53.201930\\n', 'MÃ¡scara de cÃ\\xadlios,EletrÃ´nicos,5.58,57,Filial 3,2023-07-17 03:29:53.201930\\n', 'MÃ¡scara de cÃ\\xadlios,Alimentos,75.26,17,Filial 4,2022-12-13 03:29:53.201930\\n', 'MÃ¡scara de cÃ\\xadlios,Alimentos,51.01,53,Filial 8,2023-04-25 03:29:53.201930\\n', 'LÃ¡pis de sobrancelha,Alimentos,81.5,22,Filial 9,2023-07-30 03:29:53.201930\\n', 'MÃ¡scara de cÃ\\xadlios,Alimentos,10.85,79,Filial 1,2022-12-21 03:29:53.201930\\n', 'Base lÃ\\xadquida,Alimentos,60.7,87,Filial 7,2023-05-29 03:29:53.201930\\n', 'Corretivo,Alimentos,72.19,74,Filial 6,2023-05-12 03:29:53.201930\\n', 'MÃ¡scara de cÃ\\xadlios,Alimentos,14.64,66,Filial 7,2022-10-30 03:29:53.201930\\n', 'Corretivo,EletrÃ´nicos,44.59,67,Filial 4,2023-06-04 03:29:53.201930\\n', 'Batom matte,EletrodomÃ©sticos,84.31,99,Filial 7,2022-09-24 03:29:53.201930\\n', 'Sombra de olhos,EletrÃ´nicos,71.43,48,Filial 7,2022-12-01 03:29:53.201930\\n', 'MÃ¡scara de cÃ\\xadlios,Alimentos,13.35,3,Filial 10,2023-03-02 03:29:53.201930\\n', 'Batom matte,EletrodomÃ©sticos,66.54,88,Filial 7,2023-02-16 03:29:53.201930\\n', 'LÃ¡pis de sobrancelha,Alimentos,79.94,22,Filial 6,2022-10-13 03:29:53.201930\\n', 'Sombra de olhos,Alimentos,2.01,22,Filial 8,2023-04-29 03:29:53.201930\\n', 'PÃ³ compacto,Roupas,80.91,18,Filial 2,2022-08-30 03:29:53.201930\\n', 'PÃ³ compacto,Roupas,29.34,29,Filial 7,2023-04-28 03:29:53.201930\\n', 'Base lÃ\\xadquida,EletrÃ´nicos,77.64,63,Filial 10,2022-09-30 03:29:53.201930\\n', 'Batom matte,EletrodomÃ©sticos,51.89,35,Filial 1,2023-02-14 03:29:53.201930\\n', 'Blush em pÃ³,Roupas,24.84,33,Filial 9,2023-04-30 03:29:53.201930\\n', 'Blush em pÃ³,Roupas,97.02,48,Filial 9,2023-04-18 03:29:53.201930\\n', 'Batom lÃ\\xadquido,EletrodomÃ©sticos,13.47,71,Filial 6,2023-01-10 03:29:53.201930\\n', 'Batom lÃ\\xadquido,EletrodomÃ©sticos,47.67,70,Filial 9,2022-12-25 03:29:53.201930\\n', 'PÃ³ compacto,Roupas,25.98,98,Filial 6,2022-10-05 03:29:53.201930\\n', 'Batom lÃ\\xadquido,Alimentos,2.51,96,Filial 10,2023-05-02 03:29:53.201930\\n', 'MÃ¡scara de cÃ\\xadlios,EletrodomÃ©sticos,13.98,57,Filial 8,2023-08-17 03:29:53.201930\\n', 'Base lÃ\\xadquida,EletrÃ´nicos,40.49,55,Filial 9,2022-12-05 03:29:53.201930\\n', 'Blush em pÃ³,Alimentos,30.93,57,Filial 2,2023-03-14 03:29:53.201930\\n', 'Batom lÃ\\xadquido,EletrÃ´nicos,83.85,45,Filial 4,2023-01-19 03:29:53.201930\\n', 'Batom lÃ\\xadquido,EletrodomÃ©sticos,64.83,83,Filial 9,2022-12-30 03:29:53.201930\\n', 'Sombra de olhos,Alimentos,95.95,96,Filial 10,2023-03-01 03:29:53.201930\\n', 'Delineador lÃ\\xadquido,EletrÃ´nicos,5.25,9,Filial 2,2022-08-26 03:29:53.201930\\n', 'Batom matte,EletrÃ´nicos,90.94,7,Filial 9,2022-11-20 03:29:53.201930\\n', 'LÃ¡pis de sobrancelha,EletrodomÃ©sticos,65.59,84,Filial 2,2022-09-21 03:29:53.201930\\n', 'Blush em pÃ³,EletrÃ´nicos,9.65,58,Filial 10,2022-10-26 03:29:53.201930\\n', 'Blush em pÃ³,Roupas,25.12,1,Filial 5,2023-04-13 03:29:53.201930\\n', 'MÃ¡scara de cÃ\\xadlios,EletrodomÃ©sticos,97.24,35,Filial 10,2022-11-17 03:29:53.201930\\n', 'Batom matte,Alimentos,57.78,60,Filial 5,2022-10-22 03:29:53.201930\\n', 'Batom lÃ\\xadquido,Alimentos,27.2,84,Filial 7,2023-05-21 03:29:53.201930\\n', 'Blush em pÃ³,EletrodomÃ©sticos,59.2,97,Filial 7,2023-07-03 03:29:53.201930\\n', 'Blush em pÃ³,EletrodomÃ©sticos,47.84,64,Filial 9,2022-08-31 03:29:53.201930\\n', 'Sombra de olhos,Roupas,95.01,37,Filial 9,2022-12-11 03:29:53.201930\\n', 'MÃ¡scara de cÃ\\xadlios,Roupas,20.64,20,Filial 3,2023-08-01 03:29:53.201930\\n', 'Sombra de olhos,EletrÃ´nicos,17.69,1,Filial 5,2023-04-25 03:29:53.201930\\n', 'PÃ³ compacto,EletrÃ´nicos,79.1,97,Filial 8,2023-05-28 03:29:53.201930\\n', 'Batom matte,Alimentos,52.4,43,Filial 5,2023-03-27 03:29:53.201930\\n', 'PÃ³ compacto,EletrÃ´nicos,33.49,87,Filial 1,2022-11-22 03:29:53.201930\\n', 'Batom matte,Alimentos,94.37,82,Filial 7,2023-05-23 03:29:53.201930\\n', 'Batom matte,EletrÃ´nicos,49.78,72,Filial 7,2022-10-20 03:29:53.201930\\n', 'Batom matte,EletrÃ´nicos,95.42,57,Filial 4,2022-10-15 03:29:53.201930\\n', 'Batom matte,EletrodomÃ©sticos,13.9,56,Filial 8,2023-03-01 03:29:53.201930\\n', 'MÃ¡scara de cÃ\\xadlios,Alimentos,64.49,100,Filial 10,2023-07-26 03:29:53.201930\\n', 'Batom matte,EletrÃ´nicos,69.6,13,Filial 1,2022-11-02 03:29:53.201930\\n', 'LÃ¡pis de sobrancelha,Alimentos,26.09,54,Filial 9,2022-10-17 03:29:53.201930\\n', 'Batom lÃ\\xadquido,EletrÃ´nicos,36.34,48,Filial 1,2023-02-18 03:29:53.201930\\n', 'Batom lÃ\\xadquido,EletrodomÃ©sticos,50.95,85,Filial 7,2022-11-15 03:29:53.201930\\n', 'Blush em pÃ³,EletrodomÃ©sticos,72.26,35,Filial 5,2022-12-24 03:29:53.201930\\n', 'Blush em pÃ³,Alimentos,64.59,86,Filial 7,2023-05-23 03:29:53.201930\\n', 'Blush em pÃ³,EletrodomÃ©sticos,1.3,53,Filial 10,2022-11-11 03:29:53.201930\\n', 'LÃ¡pis de sobrancelha,EletrÃ´nicos,81.85,87,Filial 9,2023-07-20 03:29:53.201930\\n', 'Base lÃ\\xadquida,Alimentos,73.51,55,Filial 4,2023-07-06 03:29:53.201930\\n', 'Sombra de olhos,EletrodomÃ©sticos,73.32,62,Filial 3,2023-07-18 03:29:53.201930\\n', 'Base lÃ\\xadquida,EletrodomÃ©sticos,23.64,78,Filial 1,2023-05-18 03:29:53.201930\\n', 'LÃ¡pis de sobrancelha,EletrodomÃ©sticos,80.39,36,Filial 10,2022-12-21 03:29:53.201930\\n', 'MÃ¡scara de cÃ\\xadlios,EletrodomÃ©sticos,52.21,67,Filial 10,2022-11-23 03:29:53.201930\\n', 'Base lÃ\\xadquida,Alimentos,25.37,80,Filial 5,2022-09-03 03:29:53.201930\\n', 'Corretivo,EletrÃ´nicos,70.28,93,Filial 4,2023-05-01 03:29:53.201930\\n', 'LÃ¡pis de sobrancelha,Roupas,27.82,91,Filial 5,2022-12-11 03:29:53.201930\\n', 'MÃ¡scara de cÃ\\xadlios,Alimentos,64.38,9,Filial 4,2023-02-25 03:29:53.201930\\n', 'Base lÃ\\xadquida,EletrodomÃ©sticos,77.71,47,Filial 5,2023-03-27 03:29:53.201930\\n', 'Blush em pÃ³,Roupas,7.93,74,Filial 4,2023-06-04 03:29:53.201930\\n', 'Base lÃ\\xadquida,EletrÃ´nicos,11.4,17,Filial 2,2023-05-18 03:29:53.201930\\n', 'Delineador lÃ\\xadquido,Alimentos,33.88,44,Filial 7,2022-09-16 03:29:53.201930\\n', 'Batom lÃ\\xadquido,Alimentos,31.52,37,Filial 6,2022-09-28 03:29:53.201930\\n', 'Blush em pÃ³,Alimentos,87.81,19,Filial 1,2022-12-31 03:29:53.201930\\n', 'Batom matte,Alimentos,11.89,98,Filial 7,2023-08-08 03:29:53.201930\\n', 'Batom lÃ\\xadquido,Alimentos,82.78,45,Filial 4,2023-06-16 03:29:53.201930\\n', 'PÃ³ compacto,EletrÃ´nicos,1.42,29,Filial 2,2023-01-06 03:29:53.201930\\n', 'Blush em pÃ³,Alimentos,3.26,44,Filial 3,2023-07-09 03:29:53.201930\\n', 'MÃ¡scara de cÃ\\xadlios,Alimentos,16.95,42,Filial 1,2023-04-17 03:29:53.201930\\n', 'Batom matte,EletrodomÃ©sticos,22.43,31,Filial 5,2022-12-20 03:29:53.201930\\n', 'Blush em pÃ³,EletrÃ´nicos,77.14,97,Filial 10,2023-02-14 03:29:53.201930\\n', 'MÃ¡scara de cÃ\\xadlios,Alimentos,57.26,69,Filial 8,2022-10-05 03:29:53.201930\\n', 'Batom matte,EletrodomÃ©sticos,33.46,18,Filial 5,2023-01-23 03:29:53.201930\\n', 'Batom matte,EletrÃ´nicos,31.73,73,Filial 3,2022-10-28 03:29:53.201930\\n', 'Blush em pÃ³,Alimentos,44.15,100,Filial 6,2023-07-13 03:29:53.201930\\n', 'Corretivo,EletrÃ´nicos,53.88,30,Filial 5,2022-10-04 03:29:53.201930\\n', 'Blush em pÃ³,Alimentos,39.43,2,Filial 5,2022-11-24 03:29:53.201930\\n', 'LÃ¡pis de sobrancelha,EletrodomÃ©sticos,23.43,65,Filial 9,2023-08-10 03:29:53.201930\\n', 'Blush em pÃ³,Roupas,59.51,91,Filial 8,2023-03-29 03:29:53.201930\\n', 'LÃ¡pis de sobrancelha,Roupas,20.62,79,Filial 7,2022-11-26 03:29:53.201930\\n', 'Sombra de olhos,EletrÃ´nicos,37.01,26,Filial 7,2023-02-28 03:29:53.201930\\n', 'LÃ¡pis de sobrancelha,EletrodomÃ©sticos,3.11,3,Filial 2,2023-05-26 03:29:53.201930\\n', 'MÃ¡scara de cÃ\\xadlios,EletrÃ´nicos,76.93,76,Filial 1,2022-09-06 03:29:53.201930\\n', 'Batom matte,EletrÃ´nicos,68.12,68,Filial 7,2023-02-17 03:29:53.201930\\n', 'Base lÃ\\xadquida,Roupas,28.17,88,Filial 9,2023-05-26 03:29:53.201930\\n', 'Blush em pÃ³,Alimentos,63.72,57,Filial 2,2023-01-21 03:29:53.201930\\n', 'Corretivo,Roupas,78.2,38,Filial 2,2023-05-26 03:29:53.201930\\n', 'Sombra de olhos,Alimentos,53.32,54,Filial 10,2022-09-09 03:29:53.201930\\n', 'Sombra de olhos,EletrodomÃ©sticos,42.47,87,Filial 3,2023-04-26 03:29:53.201930\\n', 'LÃ¡pis de sobrancelha,EletrodomÃ©sticos,88.94,21,Filial 3,2022-08-24 03:29:53.201930\\n', 'Batom lÃ\\xadquido,EletrÃ´nicos,97.02,40,Filial 5,2022-10-21 03:29:53.201930\\n', 'MÃ¡scara de cÃ\\xadlios,Alimentos,48.21,62,Filial 10,2022-11-19 03:29:53.201930\\n', 'Delineador lÃ\\xadquido,Alimentos,71.25,39,Filial 10,2022-10-28 03:29:53.201930\\n', 'Sombra de olhos,Alimentos,85.97,25,Filial 3,2023-05-28 03:29:53.201930\\n', 'Batom matte,EletrÃ´nicos,97.59,85,Filial 7,2023-06-21 03:29:53.201930\\n', 'Sombra de olhos,EletrodomÃ©sticos,94.19,40,Filial 5,2023-04-13 03:29:53.201930\\n', 'LÃ¡pis de sobrancelha,EletrodomÃ©sticos,49.4,32,Filial 7,2023-02-28 03:29:53.201930\\n', 'Sombra de olhos,Roupas,19.12,12,Filial 8,2023-05-02 03:29:53.201930\\n', 'Sombra de olhos,Roupas,33.01,15,Filial 8,2023-05-27 03:29:53.201930\\n', 'PÃ³ compacto,EletrÃ´nicos,60.55,56,Filial 6,2023-01-30 03:29:53.201930\\n', 'Sombra de olhos,Roupas,80.55,48,Filial 1,2023-01-09 03:29:53.201930\\n', 'Sombra de olhos,EletrodomÃ©sticos,65.57,98,Filial 6,2023-02-04 03:29:53.201930\\n', 'MÃ¡scara de cÃ\\xadlios,EletrodomÃ©sticos,50.72,66,Filial 4,2023-08-07 03:29:53.201930\\n', 'Corretivo,EletrodomÃ©sticos,3.97,23,Filial 6,2023-01-21 03:29:53.201930\\n', 'MÃ¡scara de cÃ\\xadlios,EletrÃ´nicos,97.04,55,Filial 6,2022-12-17 03:29:53.201930\\n', 'MÃ¡scara de cÃ\\xadlios,Roupas,54.48,10,Filial 9,2022-11-28 03:29:53.201930\\n', 'Base lÃ\\xadquida,EletrodomÃ©sticos,30.42,98,Filial 6,2022-11-27 03:29:53.201930\\n', 'MÃ¡scara de cÃ\\xadlios,EletrodomÃ©sticos,70.3,31,Filial 3,2023-06-08 03:29:53.201930\\n', 'PÃ³ compacto,Roupas,43.75,94,Filial 7,2023-08-01 03:29:53.201930\\n', 'Blush em pÃ³,EletrodomÃ©sticos,14.78,24,Filial 2,2023-07-19 03:29:53.201930\\n', 'Base lÃ\\xadquida,EletrÃ´nicos,78.35,57,Filial 8,2022-10-28 03:29:53.201930\\n', 'PÃ³ compacto,Alimentos,11.1,42,Filial 4,2022-09-12 03:29:53.201930\\n', 'LÃ¡pis de sobrancelha,Roupas,61.93,4,Filial 1,2023-02-17 03:29:53.201930\\n', 'LÃ¡pis de sobrancelha,Alimentos,7.51,17,Filial 7,2022-11-21 03:29:53.201930\\n', 'Batom lÃ\\xadquido,EletrÃ´nicos,31.49,12,Filial 5,2022-10-03 03:29:53.201930\\n', 'Delineador lÃ\\xadquido,EletrÃ´nicos,69.94,21,Filial 2,2023-01-03 03:29:53.201930\\n', 'Corretivo,Alimentos,13.72,84,Filial 9,2023-01-27 03:29:53.201930\\n', 'MÃ¡scara de cÃ\\xadlios,Alimentos,20.34,36,Filial 1,2022-11-26 03:29:53.201930\\n', 'LÃ¡pis de sobrancelha,Roupas,77.92,1,Filial 1,2023-08-17 03:29:53.201930\\n', 'Delineador lÃ\\xadquido,EletrÃ´nicos,17.4,100,Filial 9,2022-09-13 03:29:53.201930\\n', 'Sombra de olhos,EletrodomÃ©sticos,17.88,28,Filial 1,2023-05-02 03:29:53.201930\\n', 'Blush em pÃ³,EletrÃ´nicos,99.37,28,Filial 2,2022-09-16 03:29:53.201930\\n', 'Corretivo,Roupas,62.86,11,Filial 8,2022-10-22 03:29:53.201930\\n', 'Base lÃ\\xadquida,Roupas,95.77,15,Filial 4,2023-04-08 03:29:53.201930\\n', 'Corretivo,EletrodomÃ©sticos,67.56,34,Filial 10,2023-01-13 03:29:53.201930\\n', 'Blush em pÃ³,EletrodomÃ©sticos,1.28,58,Filial 8,2022-10-15 03:29:53.201930\\n', 'Blush em pÃ³,EletrÃ´nicos,35.28,13,Filial 4,2023-07-24 03:29:53.201930\\n', 'Corretivo,Alimentos,9.06,58,Filial 3,2022-11-13 03:29:53.201930\\n', 'Blush em pÃ³,EletrodomÃ©sticos,3.25,50,Filial 5,2022-09-14 03:29:53.201930\\n', 'Delineador lÃ\\xadquido,EletrÃ´nicos,92.07,83,Filial 4,2023-04-17 03:29:53.201930\\n', 'Batom matte,EletrodomÃ©sticos,72.71,22,Filial 8,2022-08-29 03:29:53.201930\\n', 'Blush em pÃ³,EletrÃ´nicos,90.0,72,Filial 4,2023-06-07 03:29:53.201930\\n', 'Delineador lÃ\\xadquido,Roupas,68.95,21,Filial 8,2022-08-24 03:29:53.201930\\n', 'Corretivo,Roupas,50.17,95,Filial 10,2023-06-29 03:29:53.201930\\n', 'Corretivo,Alimentos,28.62,67,Filial 1,2023-05-30 03:29:53.201930\\n', 'PÃ³ compacto,EletrodomÃ©sticos,59.79,71,Filial 1,2023-01-05 03:29:53.201930\\n', 'LÃ¡pis de sobrancelha,EletrodomÃ©sticos,42.19,43,Filial 10,2023-06-25 03:29:53.201930\\n', 'PÃ³ compacto,EletrÃ´nicos,85.49,88,Filial 8,2023-06-21 03:29:53.201930\\n', 'LÃ¡pis de sobrancelha,Roupas,35.87,54,Filial 1,2023-05-16 03:29:53.201930\\n', 'LÃ¡pis de sobrancelha,EletrÃ´nicos,5.4,94,Filial 5,2023-05-28 03:29:53.201930\\n', 'Batom matte,Alimentos,23.22,2,Filial 1,2022-10-19 03:29:53.201930\\n', 'Delineador lÃ\\xadquido,EletrÃ´nicos,45.72,85,Filial 8,2022-12-07 03:29:53.201930\\n', 'MÃ¡scara de cÃ\\xadlios,EletrodomÃ©sticos,46.93,58,Filial 6,2022-09-15 03:29:53.201930\\n', 'Sombra de olhos,EletrodomÃ©sticos,56.52,34,Filial 8,2023-02-25 03:29:53.201930\\n', 'LÃ¡pis de sobrancelha,EletrodomÃ©sticos,41.01,23,Filial 5,2022-12-28 03:29:53.201930\\n', 'Delineador lÃ\\xadquido,EletrodomÃ©sticos,49.46,85,Filial 8,2022-11-24 03:29:53.201930\\n', 'Batom matte,EletrÃ´nicos,66.43,10,Filial 9,2023-08-11 03:29:53.201930\\n', 'Delineador lÃ\\xadquido,Alimentos,29.32,90,Filial 10,2022-10-24 03:29:53.201930\\n', 'LÃ¡pis de sobrancelha,Roupas,40.45,100,Filial 8,2022-11-01 03:29:53.201930\\n', 'PÃ³ compacto,EletrÃ´nicos,36.5,67,Filial 5,2023-07-11 03:29:53.201930\\n', 'MÃ¡scara de cÃ\\xadlios,Alimentos,52.99,11,Filial 5,2023-05-04 03:29:53.201930\\n', 'PÃ³ compacto,EletrodomÃ©sticos,74.17,50,Filial 3,2023-04-12 03:29:53.201930\\n', 'Sombra de olhos,Alimentos,66.97,6,Filial 4,2023-04-23 03:29:53.201930\\n', 'MÃ¡scara de cÃ\\xadlios,EletrÃ´nicos,95.9,77,Filial 3,2023-02-27 03:29:53.201930\\n', 'MÃ¡scara de cÃ\\xadlios,EletrodomÃ©sticos,71.37,98,Filial 6,2023-03-12 03:29:53.201930\\n', 'Corretivo,Roupas,89.63,97,Filial 5,2023-06-07 03:29:53.201930\\n', 'Batom matte,Alimentos,31.18,97,Filial 5,2023-06-19 03:29:53.201930\\n', 'Batom lÃ\\xadquido,Alimentos,23.22,56,Filial 8,2022-11-19 03:29:53.201930\\n', 'Delineador lÃ\\xadquido,EletrodomÃ©sticos,42.26,78,Filial 10,2023-04-16 03:29:53.201930\\n', 'Batom matte,Roupas,9.38,25,Filial 8,2022-09-04 03:29:53.201930\\n', 'LÃ¡pis de sobrancelha,EletrodomÃ©sticos,64.76,80,Filial 2,2023-01-28 03:29:53.201930\\n', 'Delineador lÃ\\xadquido,Alimentos,64.75,41,Filial 3,2023-06-17 03:29:53.201930\\n', 'Blush em pÃ³,Alimentos,46.02,15,Filial 5,2023-07-01 03:29:53.201930\\n', 'PÃ³ compacto,Roupas,98.55,68,Filial 2,2023-07-08 03:29:53.201930\\n', 'PÃ³ compacto,EletrodomÃ©sticos,64.72,26,Filial 3,2023-04-02 03:29:53.201930\\n', 'Batom matte,EletrodomÃ©sticos,94.95,96,Filial 8,2022-10-18 03:29:53.201930\\n', 'PÃ³ compacto,Roupas,40.11,34,Filial 6,2023-06-08 03:29:53.201930\\n', 'Blush em pÃ³,Alimentos,71.44,36,Filial 1,2023-07-24 03:29:53.201930\\n', 'LÃ¡pis de sobrancelha,Alimentos,9.54,53,Filial 8,2023-05-11 03:29:53.201930\\n', 'Base lÃ\\xadquida,EletrodomÃ©sticos,14.67,45,Filial 1,2022-09-21 03:29:53.201930\\n', 'LÃ¡pis de sobrancelha,Alimentos,44.03,97,Filial 3,2023-07-25 03:29:53.201930\\n', 'Batom lÃ\\xadquido,EletrodomÃ©sticos,12.86,22,Filial 9,2023-06-17 03:29:53.201930\\n', 'Batom matte,EletrÃ´nicos,32.67,55,Filial 1,2023-05-20 03:29:53.201930\\n', 'LÃ¡pis de sobrancelha,Alimentos,85.42,56,Filial 9,2023-01-05 03:29:53.201930\\n', 'MÃ¡scara de cÃ\\xadlios,Roupas,65.23,83,Filial 2,2023-07-16 03:29:53.201930\\n', 'Base lÃ\\xadquida,Roupas,88.19,35,Filial 4,2022-10-12 03:29:53.201930\\n', 'Blush em pÃ³,Roupas,40.29,88,Filial 9,2023-06-28 03:29:53.201930\\n', 'MÃ¡scara de cÃ\\xadlios,Alimentos,23.92,67,Filial 1,2023-06-11 03:29:53.201930\\n', 'Batom lÃ\\xadquido,EletrodomÃ©sticos,29.57,8,Filial 10,2023-05-22 03:29:53.201930\\n', 'Corretivo,Roupas,34.49,95,Filial 2,2023-05-26 03:29:53.201930\\n', 'Corretivo,Alimentos,84.99,47,Filial 6,2022-12-26 03:29:53.201930\\n', 'PÃ³ compacto,EletrÃ´nicos,14.71,9,Filial 7,2022-11-19 03:29:53.201930\\n', 'Sombra de olhos,EletrÃ´nicos,41.53,61,Filial 4,2023-02-10 03:29:53.201930\\n', 'Batom matte,EletrÃ´nicos,82.73,3,Filial 3,2023-06-25 03:29:53.201930\\n', 'MÃ¡scara de cÃ\\xadlios,EletrodomÃ©sticos,33.7,77,Filial 3,2022-12-20 03:29:53.201930\\n', 'PÃ³ compacto,EletrodomÃ©sticos,78.95,66,Filial 7,2023-08-02 03:29:53.201930\\n', 'Corretivo,Roupas,47.76,72,Filial 8,2023-01-24 03:29:53.201930\\n', 'Delineador lÃ\\xadquido,Alimentos,17.04,79,Filial 9,2023-02-02 03:29:53.201930\\n', 'Sombra de olhos,Alimentos,55.51,70,Filial 5,2023-06-02 03:29:53.201930\\n', 'Batom lÃ\\xadquido,EletrÃ´nicos,29.12,22,Filial 6,2023-01-30 03:29:53.201930\\n', 'Sombra de olhos,EletrÃ´nicos,59.36,31,Filial 2,2022-10-17 03:29:53.201930\\n', 'Delineador lÃ\\xadquido,Roupas,4.45,43,Filial 7,2023-03-26 03:29:53.201930\\n', 'PÃ³ compacto,Roupas,19.28,65,Filial 3,2023-04-21 03:29:53.201930\\n', 'Corretivo,EletrÃ´nicos,68.64,29,Filial 7,2023-06-19 03:29:53.201930\\n', 'MÃ¡scara de cÃ\\xadlios,EletrodomÃ©sticos,4.7,23,Filial 1,2023-03-02 03:29:53.201930\\n', 'MÃ¡scara de cÃ\\xadlios,EletrodomÃ©sticos,34.69,3,Filial 1,2022-09-04 03:29:53.201930\\n', 'Blush em pÃ³,EletrÃ´nicos,25.88,76,Filial 10,2023-04-19 03:29:53.201930\\n', 'MÃ¡scara de cÃ\\xadlios,EletrÃ´nicos,89.83,34,Filial 6,2023-08-03 03:29:53.201930\\n', 'Batom lÃ\\xadquido,Roupas,72.39,51,Filial 7,2022-10-25 03:29:53.201930\\n', 'Sombra de olhos,Roupas,49.85,51,Filial 4,2023-02-10 03:29:53.201930\\n', 'Batom lÃ\\xadquido,EletrÃ´nicos,48.62,70,Filial 4,2023-05-31 03:29:53.201930\\n', 'Delineador lÃ\\xadquido,EletrÃ´nicos,92.13,79,Filial 8,2022-11-13 03:29:53.201930\\n', 'Batom lÃ\\xadquido,EletrÃ´nicos,8.45,71,Filial 8,2022-08-31 03:29:53.201930\\n', 'Sombra de olhos,EletrodomÃ©sticos,25.56,31,Filial 4,2023-03-22 03:29:53.201930\\n', 'Batom lÃ\\xadquido,EletrÃ´nicos,23.94,51,Filial 10,2023-07-06 03:29:53.201930\\n', 'Batom matte,Roupas,90.93,25,Filial 3,2023-03-09 03:29:53.201930\\n', 'Blush em pÃ³,Roupas,36.59,45,Filial 2,2023-03-21 03:29:53.201930\\n', 'Sombra de olhos,EletrÃ´nicos,54.63,52,Filial 1,2023-02-09 03:29:53.201930\\n', 'Delineador lÃ\\xadquido,Alimentos,69.68,57,Filial 1,2023-05-24 03:29:53.201930\\n', 'Delineador lÃ\\xadquido,EletrÃ´nicos,36.83,9,Filial 6,2022-10-09 03:29:53.201930\\n', 'Delineador lÃ\\xadquido,Alimentos,15.2,73,Filial 8,2022-08-23 03:29:53.201930\\n', 'LÃ¡pis de sobrancelha,Roupas,30.78,78,Filial 5,2022-12-14 03:29:53.201930\\n', 'Batom matte,EletrodomÃ©sticos,33.24,100,Filial 10,2022-12-07 03:29:53.201930\\n', 'Blush em pÃ³,EletrÃ´nicos,31.06,17,Filial 1,2023-08-04 03:29:53.201930\\n', 'Blush em pÃ³,EletrodomÃ©sticos,89.58,66,Filial 5,2023-02-18 03:29:53.201930\\n', 'Blush em pÃ³,EletrÃ´nicos,56.26,98,Filial 1,2023-02-06 03:29:53.201930\\n', 'Blush em pÃ³,Alimentos,66.85,45,Filial 5,2023-06-24 03:29:53.201930\\n', 'Batom lÃ\\xadquido,Alimentos,37.27,72,Filial 9,2023-08-12 03:29:53.201930\\n', 'Batom lÃ\\xadquido,EletrodomÃ©sticos,33.94,48,Filial 1,2023-04-29 03:29:53.201930\\n', 'Corretivo,EletrodomÃ©sticos,28.19,93,Filial 9,2023-03-14 03:29:53.201930\\n', 'Base lÃ\\xadquida,EletrÃ´nicos,79.44,78,Filial 10,2023-02-05 03:29:53.201930\\n', 'Delineador lÃ\\xadquido,Roupas,7.1,31,Filial 3,2023-01-24 03:29:53.201930\\n', 'Delineador lÃ\\xadquido,EletrÃ´nicos,90.59,79,Filial 9,2023-02-12 03:29:53.201930\\n', 'Base lÃ\\xadquida,Roupas,83.29,50,Filial 1,2023-08-14 03:29:53.201930\\n', 'Batom lÃ\\xadquido,EletrodomÃ©sticos,29.21,26,Filial 2,2022-11-10 03:29:53.201930\\n', 'Sombra de olhos,Roupas,26.74,60,Filial 10,2023-01-19 03:29:53.201930\\n', 'Batom lÃ\\xadquido,Roupas,98.96,89,Filial 8,2023-03-10 03:29:53.201930\\n', 'Corretivo,EletrÃ´nicos,7.98,31,Filial 7,2023-04-06 03:29:53.201930\\n', 'Base lÃ\\xadquida,Roupas,27.04,47,Filial 5,2023-05-22 03:29:53.201930\\n', 'Corretivo,EletrodomÃ©sticos,41.11,55,Filial 8,2023-01-17 03:29:53.201930\\n', 'Corretivo,Roupas,20.8,48,Filial 10,2023-07-20 03:29:53.201930\\n', 'Corretivo,Alimentos,62.62,15,Filial 8,2022-08-30 03:29:53.201930\\n', 'Base lÃ\\xadquida,Roupas,23.01,87,Filial 1,2023-06-28 03:29:53.201930\\n', 'MÃ¡scara de cÃ\\xadlios,EletrÃ´nicos,62.35,6,Filial 8,2022-11-16 03:29:53.201930\\n', 'Delineador lÃ\\xadquido,Roupas,68.58,39,Filial 4,2023-05-23 03:29:53.201930\\n', 'Base lÃ\\xadquida,Roupas,24.6,37,Filial 9,2023-01-30 03:29:53.201930\\n', 'MÃ¡scara de cÃ\\xadlios,EletrodomÃ©sticos,99.36,87,Filial 2,2022-09-27 03:29:53.201930\\n', 'Delineador lÃ\\xadquido,EletrÃ´nicos,97.84,92,Filial 9,2022-12-11 03:29:53.201930\\n', 'Delineador lÃ\\xadquido,Roupas,76.12,94,Filial 8,2023-04-01 03:29:53.201930\\n', 'LÃ¡pis de sobrancelha,EletrÃ´nicos,46.58,23,Filial 6,2022-09-13 03:29:53.201930\\n', 'Batom matte,EletrodomÃ©sticos,10.12,81,Filial 8,2023-03-15 03:29:53.201930\\n', 'Corretivo,EletrÃ´nicos,71.63,9,Filial 6,2023-01-19 03:29:53.201930\\n', 'Batom lÃ\\xadquido,EletrÃ´nicos,19.47,28,Filial 2,2022-12-09 03:29:53.201930\\n', 'Base lÃ\\xadquida,EletrodomÃ©sticos,41.93,69,Filial 6,2022-10-19 03:29:53.201930\\n', 'Blush em pÃ³,EletrodomÃ©sticos,45.83,40,Filial 7,2023-01-02 03:29:53.201930\\n', 'Base lÃ\\xadquida,EletrodomÃ©sticos,73.78,29,Filial 1,2022-08-25 03:29:53.201930\\n', 'Delineador lÃ\\xadquido,Roupas,36.74,21,Filial 4,2022-09-05 03:29:53.201930\\n', 'Batom matte,Roupas,69.84,41,Filial 5,2023-01-26 03:29:53.201930\\n', 'MÃ¡scara de cÃ\\xadlios,Alimentos,72.18,58,Filial 5,2022-10-17 03:29:53.201930\\n', 'MÃ¡scara de cÃ\\xadlios,EletrodomÃ©sticos,37.77,4,Filial 4,2023-07-14 03:29:53.201930\\n', 'Base lÃ\\xadquida,Alimentos,39.86,95,Filial 7,2023-02-02 03:29:53.201930\\n', 'MÃ¡scara de cÃ\\xadlios,EletrÃ´nicos,20.21,88,Filial 9,2023-02-28 03:29:53.201930\\n', 'Corretivo,Alimentos,88.61,46,Filial 10,2023-05-26 03:29:53.201930\\n', 'LÃ¡pis de sobrancelha,Roupas,75.26,73,Filial 1,2022-10-09 03:29:53.201930\\n', 'PÃ³ compacto,Alimentos,26.38,32,Filial 10,2023-01-12 03:29:53.201930\\n', 'PÃ³ compacto,Alimentos,95.24,3,Filial 5,2023-07-24 03:29:53.201930\\n', 'Base lÃ\\xadquida,EletrodomÃ©sticos,82.0,58,Filial 7,2022-10-02 03:29:53.201930\\n', 'PÃ³ compacto,Alimentos,25.54,50,Filial 1,2023-07-12 03:29:53.201930\\n', 'LÃ¡pis de sobrancelha,Alimentos,42.28,21,Filial 3,2023-08-07 03:29:53.201930\\n', 'MÃ¡scara de cÃ\\xadlios,EletrodomÃ©sticos,55.1,32,Filial 9,2023-06-12 03:29:53.201930\\n', 'Delineador lÃ\\xadquido,Alimentos,86.62,39,Filial 5,2023-04-13 03:29:53.201930\\n', 'Blush em pÃ³,Alimentos,42.99,22,Filial 10,2023-07-16 03:29:53.201930\\n', 'Sombra de olhos,EletrodomÃ©sticos,24.28,80,Filial 10,2023-05-13 03:29:53.201930\\n', 'Corretivo,Alimentos,59.56,61,Filial 4,2023-07-20 03:29:53.201930\\n', 'Batom lÃ\\xadquido,EletrodomÃ©sticos,48.34,15,Filial 9,2023-04-07 03:29:53.201930\\n', 'Batom matte,EletrodomÃ©sticos,18.3,43,Filial 6,2023-04-06 03:29:53.201930\\n', 'Blush em pÃ³,Alimentos,46.98,32,Filial 7,2022-10-01 03:29:53.201930\\n', 'Base lÃ\\xadquida,Alimentos,45.79,87,Filial 3,2022-10-07 03:29:53.201930\\n', 'MÃ¡scara de cÃ\\xadlios,Alimentos,7.49,40,Filial 8,2023-01-04 03:29:53.201930\\n', 'LÃ¡pis de sobrancelha,Roupas,22.08,75,Filial 4,2023-04-04 03:29:53.201930\\n', 'Blush em pÃ³,Alimentos,49.65,46,Filial 7,2023-07-09 03:29:53.201930\\n', 'Batom lÃ\\xadquido,Roupas,44.01,28,Filial 10,2023-07-27 03:29:53.201930\\n', 'Delineador lÃ\\xadquido,EletrÃ´nicos,45.08,56,Filial 10,2023-06-26 03:29:53.201930\\n', 'Batom lÃ\\xadquido,EletrÃ´nicos,43.19,31,Filial 6,2022-11-26 03:29:53.201930\\n', 'Batom matte,EletrodomÃ©sticos,91.87,73,Filial 8,2023-06-17 03:29:53.201930\\n', 'Batom lÃ\\xadquido,EletrodomÃ©sticos,40.66,54,Filial 2,2022-12-14 03:29:53.201930\\n', 'Batom lÃ\\xadquido,Alimentos,62.31,100,Filial 10,2023-01-20 03:29:53.201930\\n', 'Batom matte,Alimentos,64.11,47,Filial 2,2023-01-08 03:29:53.201930\\n', 'Batom matte,Alimentos,28.06,95,Filial 5,2022-11-24 03:29:53.201930\\n', 'Sombra de olhos,Alimentos,6.41,7,Filial 3,2023-03-06 03:29:53.201930\\n', 'Blush em pÃ³,EletrÃ´nicos,31.15,27,Filial 10,2023-04-09 03:29:53.201930\\n', 'Base lÃ\\xadquida,EletrodomÃ©sticos,35.08,37,Filial 9,2023-07-26 03:29:53.201930\\n', 'Batom lÃ\\xadquido,EletrÃ´nicos,72.48,85,Filial 10,2023-04-02 03:29:53.201930\\n', 'Batom matte,Alimentos,20.39,33,Filial 7,2023-04-06 03:29:53.201930\\n', 'Sombra de olhos,EletrodomÃ©sticos,98.98,74,Filial 5,2022-10-06 03:29:53.201930\\n', 'Batom matte,EletrodomÃ©sticos,57.36,22,Filial 9,2023-06-28 03:29:53.201930\\n', 'Corretivo,Alimentos,16.09,27,Filial 5,2023-07-05 03:29:53.201930\\n', 'LÃ¡pis de sobrancelha,Alimentos,6.01,62,Filial 3,2022-10-25 03:29:53.201930\\n', 'Delineador lÃ\\xadquido,EletrÃ´nicos,39.17,32,Filial 7,2023-05-23 03:29:53.201930\\n', 'Corretivo,Alimentos,47.26,78,Filial 4,2022-11-09 03:29:53.201930\\n', 'PÃ³ compacto,Roupas,70.06,8,Filial 10,2023-01-13 03:29:53.201930\\n', 'LÃ¡pis de sobrancelha,EletrÃ´nicos,76.88,25,Filial 5,2023-08-11 03:29:53.201930\\n', 'Blush em pÃ³,Roupas,23.12,83,Filial 10,2023-07-24 03:29:53.201930\\n', 'MÃ¡scara de cÃ\\xadlios,Alimentos,14.17,26,Filial 9,2023-06-26 03:29:53.201930\\n', 'PÃ³ compacto,EletrÃ´nicos,19.65,63,Filial 3,2022-12-22 03:29:53.201930\\n', 'Batom matte,Alimentos,98.44,97,Filial 10,2022-08-31 03:29:53.201930\\n', 'Corretivo,Alimentos,2.22,21,Filial 8,2023-08-16 03:29:53.201930\\n', 'Sombra de olhos,Roupas,73.59,51,Filial 2,2022-12-03 03:29:53.201930\\n', 'LÃ¡pis de sobrancelha,Roupas,12.49,31,Filial 5,2022-09-22 03:29:53.201930\\n', 'Batom matte,EletrÃ´nicos,50.23,98,Filial 2,2023-04-12 03:29:53.201930\\n', 'PÃ³ compacto,Roupas,55.22,95,Filial 8,2022-12-05 03:29:53.201930\\n', 'Delineador lÃ\\xadquido,Alimentos,19.59,29,Filial 4,2022-12-27 03:29:53.201930\\n', 'Corretivo,Alimentos,17.73,5,Filial 4,2023-01-10 03:29:53.201930\\n', 'Batom matte,EletrodomÃ©sticos,46.13,18,Filial 9,2023-05-20 03:29:53.201930\\n', 'Base lÃ\\xadquida,EletrÃ´nicos,73.25,1,Filial 2,2022-09-13 03:29:53.201930\\n', 'Batom matte,EletrÃ´nicos,34.36,61,Filial 7,2022-11-17 03:29:53.201930\\n', 'Batom matte,Alimentos,60.63,7,Filial 2,2022-10-11 03:29:53.201930\\n', 'Batom lÃ\\xadquido,Alimentos,76.3,22,Filial 8,2022-09-02 03:29:53.201930\\n', 'LÃ¡pis de sobrancelha,EletrodomÃ©sticos,15.97,74,Filial 6,2022-09-04 03:29:53.201930\\n', 'Blush em pÃ³,Alimentos,81.16,49,Filial 7,2023-02-06 03:29:53.201930\\n', 'Base lÃ\\xadquida,Roupas,76.99,69,Filial 10,2023-07-17 03:29:53.201930\\n', 'LÃ¡pis de sobrancelha,Roupas,59.54,92,Filial 8,2023-03-01 03:29:53.201930\\n', 'MÃ¡scara de cÃ\\xadlios,EletrÃ´nicos,98.36,77,Filial 3,2023-05-04 03:29:53.201930\\n', 'MÃ¡scara de cÃ\\xadlios,Alimentos,3.12,71,Filial 1,2023-05-31 03:29:53.201930\\n', 'Corretivo,Roupas,12.74,69,Filial 9,2023-08-09 03:29:53.201930\\n', 'Sombra de olhos,EletrodomÃ©sticos,66.0,15,Filial 7,2022-10-07 03:29:53.201930\\n', 'Blush em pÃ³,EletrodomÃ©sticos,97.64,58,Filial 10,2022-11-26 03:29:53.201930\\n', 'Batom lÃ\\xadquido,Alimentos,1.02,63,Filial 9,2023-06-01 03:29:53.201930\\n', 'MÃ¡scara de cÃ\\xadlios,Alimentos,36.58,56,Filial 2,2023-08-21 03:29:53.201930\\n', 'Blush em pÃ³,Roupas,79.1,80,Filial 2,2022-11-29 03:29:53.201930\\n', 'Sombra de olhos,Alimentos,77.91,87,Filial 8,2023-03-18 03:29:53.201930\\n', 'Blush em pÃ³,Alimentos,69.64,96,Filial 5,2022-09-07 03:29:53.201930\\n', 'Batom lÃ\\xadquido,EletrÃ´nicos,88.56,10,Filial 3,2023-07-31 03:29:53.201930\\n', 'Batom matte,EletrÃ´nicos,94.93,30,Filial 4,2022-11-09 03:29:53.201930\\n', 'Base lÃ\\xadquida,Roupas,90.17,63,Filial 1,2023-08-20 03:29:53.201930\\n', 'Blush em pÃ³,EletrodomÃ©sticos,16.75,32,Filial 2,2023-03-27 03:29:53.201930\\n', 'MÃ¡scara de cÃ\\xadlios,EletrÃ´nicos,72.21,88,Filial 1,2022-09-19 03:29:53.201930\\n', 'LÃ¡pis de sobrancelha,Alimentos,55.45,4,Filial 9,2022-10-11 03:29:53.201930\\n', 'MÃ¡scara de cÃ\\xadlios,Alimentos,46.44,35,Filial 8,2022-10-10 03:29:53.201930\\n', 'MÃ¡scara de cÃ\\xadlios,EletrodomÃ©sticos,39.31,1,Filial 10,2023-07-08 03:29:53.201930\\n', 'MÃ¡scara de cÃ\\xadlios,EletrÃ´nicos,45.12,97,Filial 4,2023-05-28 03:29:53.201930\\n', 'MÃ¡scara de cÃ\\xadlios,Roupas,11.89,98,Filial 6,2022-11-20 03:29:53.201930\\n', 'LÃ¡pis de sobrancelha,EletrodomÃ©sticos,96.57,73,Filial 1,2023-05-04 03:29:53.201930\\n', 'Delineador lÃ\\xadquido,Roupas,81.92,46,Filial 8,2023-07-26 03:29:53.201930\\n', 'Batom lÃ\\xadquido,Roupas,13.2,52,Filial 7,2023-01-15 03:29:53.201930\\n', 'Base lÃ\\xadquida,Roupas,24.95,16,Filial 4,2022-08-26 03:29:53.201930\\n', 'Sombra de olhos,Alimentos,69.21,86,Filial 4,2023-06-16 03:29:53.201930\\n', 'Batom matte,Alimentos,59.63,53,Filial 10,2022-11-27 03:29:53.201930\\n', 'PÃ³ compacto,Alimentos,20.2,52,Filial 5,2023-01-05 03:29:53.201930\\n', 'Delineador lÃ\\xadquido,Roupas,67.49,81,Filial 7,2023-04-15 03:29:53.201930\\n', 'PÃ³ compacto,EletrodomÃ©sticos,99.62,49,Filial 7,2022-12-22 03:29:53.201930\\n', 'Sombra de olhos,EletrodomÃ©sticos,84.18,56,Filial 8,2022-10-09 03:29:53.201930\\n', 'MÃ¡scara de cÃ\\xadlios,Alimentos,39.63,68,Filial 9,2023-02-23 03:29:53.201930\\n', 'PÃ³ compacto,Roupas,44.93,16,Filial 8,2022-09-02 03:29:53.201930\\n', 'Delineador lÃ\\xadquido,Alimentos,41.53,48,Filial 3,2022-09-22 03:29:53.201930\\n', 'Corretivo,Alimentos,67.04,33,Filial 1,2023-03-18 03:29:53.201930\\n', 'Sombra de olhos,Roupas,57.45,33,Filial 1,2022-12-26 03:29:53.201930\\n', 'Delineador lÃ\\xadquido,Roupas,32.25,22,Filial 10,2023-02-04 03:29:53.201930\\n', 'Corretivo,Roupas,50.54,59,Filial 6,2023-01-31 03:29:53.201930\\n', 'Batom lÃ\\xadquido,Alimentos,91.25,51,Filial 10,2023-07-13 03:29:53.201930\\n', 'Batom lÃ\\xadquido,Roupas,49.2,45,Filial 2,2023-01-20 03:29:53.201930\\n', 'MÃ¡scara de cÃ\\xadlios,Alimentos,93.07,16,Filial 5,2023-07-08 03:29:53.201930\\n', 'LÃ¡pis de sobrancelha,Alimentos,26.24,94,Filial 4,2023-04-01 03:29:53.201930\\n', 'PÃ³ compacto,EletrodomÃ©sticos,14.06,16,Filial 6,2023-03-10 03:29:53.201930\\n', 'Delineador lÃ\\xadquido,EletrÃ´nicos,54.02,14,Filial 6,2023-06-22 03:29:53.201930\\n', 'Batom lÃ\\xadquido,Alimentos,24.01,7,Filial 10,2022-10-30 03:29:53.201930\\n', 'Base lÃ\\xadquida,Alimentos,14.29,99,Filial 2,2023-01-27 03:29:53.201930\\n', 'Batom matte,Roupas,41.88,80,Filial 3,2022-11-09 03:29:53.201930\\n', 'PÃ³ compacto,EletrodomÃ©sticos,16.19,2,Filial 10,2023-03-31 03:29:53.201930\\n', 'Sombra de olhos,Roupas,79.11,19,Filial 10,2022-10-28 03:29:53.201930\\n', 'Delineador lÃ\\xadquido,Roupas,89.33,4,Filial 9,2023-01-19 03:29:53.201930\\n', 'PÃ³ compacto,Roupas,76.2,75,Filial 6,2022-11-18 03:29:53.201930\\n', 'LÃ¡pis de sobrancelha,Alimentos,54.85,26,Filial 7,2023-02-03 03:29:53.201930\\n', 'Blush em pÃ³,EletrÃ´nicos,92.82,68,Filial 2,2023-05-06 03:29:53.201930\\n', 'Base lÃ\\xadquida,Alimentos,94.76,61,Filial 8,2022-09-01 03:29:53.201930\\n', 'Batom lÃ\\xadquido,EletrodomÃ©sticos,45.66,21,Filial 3,2023-07-14 03:29:53.201930\\n', 'Batom matte,EletrodomÃ©sticos,60.42,44,Filial 4,2022-10-22 03:29:53.201930\\n', 'Corretivo,Alimentos,73.63,96,Filial 9,2022-10-02 03:29:53.201930\\n', 'Corretivo,EletrÃ´nicos,78.24,5,Filial 2,2023-02-22 03:29:53.201930\\n', 'Corretivo,Alimentos,15.67,47,Filial 8,2023-06-29 03:29:53.201930\\n', 'PÃ³ compacto,Roupas,63.88,55,Filial 1,2023-01-22 03:29:53.201930\\n', 'Delineador lÃ\\xadquido,Alimentos,58.72,53,Filial 5,2023-08-11 03:29:53.201930\\n', 'Batom lÃ\\xadquido,EletrÃ´nicos,71.38,92,Filial 2,2023-06-28 03:29:53.201930\\n', 'Sombra de olhos,Alimentos,76.87,81,Filial 4,2022-10-17 03:29:53.201930\\n', 'Batom matte,Alimentos,97.36,66,Filial 9,2023-06-18 03:29:53.201930\\n', 'Batom lÃ\\xadquido,EletrodomÃ©sticos,10.26,25,Filial 4,2022-08-29 03:29:53.201930\\n', 'MÃ¡scara de cÃ\\xadlios,Alimentos,71.37,66,Filial 3,2022-08-28 03:29:53.201930\\n', 'MÃ¡scara de cÃ\\xadlios,Roupas,17.74,49,Filial 6,2023-05-01 03:29:53.201930\\n', 'Corretivo,Alimentos,19.76,4,Filial 2,2023-08-18 03:29:53.201930\\n', 'LÃ¡pis de sobrancelha,Alimentos,38.88,60,Filial 10,2023-02-08 03:29:53.201930\\n', 'MÃ¡scara de cÃ\\xadlios,EletrodomÃ©sticos,41.58,63,Filial 6,2023-03-07 03:29:53.201930\\n', 'Sombra de olhos,Alimentos,26.4,58,Filial 4,2022-10-06 03:29:53.201930\\n', 'Batom lÃ\\xadquido,Alimentos,8.15,7,Filial 7,2023-04-13 03:29:53.201930\\n', 'Batom matte,Alimentos,24.32,8,Filial 10,2023-04-12 03:29:53.201930\\n', 'Corretivo,EletrÃ´nicos,76.73,35,Filial 9,2023-01-09 03:29:53.201930\\n', 'Batom matte,Alimentos,93.0,31,Filial 2,2023-02-28 03:29:53.201930\\n', 'Base lÃ\\xadquida,EletrÃ´nicos,87.25,68,Filial 2,2023-04-17 03:29:53.201930\\n', 'PÃ³ compacto,Roupas,30.97,3,Filial 7,2023-07-29 03:29:53.201930\\n', 'Blush em pÃ³,Alimentos,72.67,68,Filial 7,2023-01-18 03:29:53.201930\\n', 'Batom lÃ\\xadquido,Alimentos,19.48,34,Filial 2,2023-02-10 03:29:53.201930\\n', 'Delineador lÃ\\xadquido,EletrÃ´nicos,58.99,25,Filial 5,2023-04-30 03:29:53.201930\\n', 'Sombra de olhos,Roupas,79.04,12,Filial 5,2023-06-17 03:29:53.201930\\n', 'PÃ³ compacto,Roupas,49.95,2,Filial 3,2022-11-05 03:29:53.201930\\n', 'Corretivo,Alimentos,47.09,65,Filial 9,2023-04-10 03:29:53.201930\\n', 'Blush em pÃ³,EletrÃ´nicos,89.97,19,Filial 9,2023-05-19 03:29:53.201930\\n', 'Corretivo,Alimentos,14.07,44,Filial 1,2023-03-09 03:29:53.201930\\n', 'PÃ³ compacto,EletrÃ´nicos,46.29,92,Filial 9,2022-11-16 03:29:53.201930\\n', 'Corretivo,Alimentos,10.11,96,Filial 8,2023-08-09 03:29:53.201930\\n', 'Corretivo,Roupas,77.01,25,Filial 10,2023-08-11 03:29:53.201930\\n', 'Sombra de olhos,EletrodomÃ©sticos,64.67,72,Filial 5,2022-10-14 03:29:53.201930\\n', 'Corretivo,Roupas,44.92,51,Filial 1,2022-08-28 03:29:53.201930\\n', 'Corretivo,EletrodomÃ©sticos,96.48,20,Filial 10,2023-02-15 03:29:53.201930\\n', 'Batom matte,Alimentos,46.0,80,Filial 10,2022-10-22 03:29:53.201930\\n', 'Blush em pÃ³,EletrodomÃ©sticos,57.2,52,Filial 6,2023-06-09 03:29:53.201930\\n', 'Blush em pÃ³,EletrÃ´nicos,71.42,100,Filial 2,2022-12-01 03:29:53.201930\\n', 'Sombra de olhos,EletrÃ´nicos,83.78,18,Filial 1,2023-05-07 03:29:53.201930\\n', 'PÃ³ compacto,EletrÃ´nicos,70.9,94,Filial 8,2023-06-29 03:29:53.201930\\n', 'Batom matte,EletrodomÃ©sticos,27.36,69,Filial 5,2022-09-01 03:29:53.201930\\n', 'Delineador lÃ\\xadquido,EletrÃ´nicos,18.05,64,Filial 1,2023-07-10 03:29:53.201930\\n', 'Sombra de olhos,EletrodomÃ©sticos,2.36,99,Filial 1,2022-09-01 03:29:53.201930\\n', 'Blush em pÃ³,EletrÃ´nicos,93.45,6,Filial 6,2022-10-07 03:29:53.201930\\n', 'Delineador lÃ\\xadquido,Alimentos,19.32,54,Filial 1,2022-12-09 03:29:53.201930\\n', 'Batom matte,EletrÃ´nicos,83.18,43,Filial 2,2023-02-09 03:29:53.201930\\n', 'Blush em pÃ³,EletrodomÃ©sticos,40.7,29,Filial 10,2022-12-24 03:29:53.201930\\n', 'Batom matte,EletrÃ´nicos,7.32,65,Filial 1,2023-07-18 03:29:53.201930\\n', 'Delineador lÃ\\xadquido,EletrodomÃ©sticos,85.72,33,Filial 8,2022-08-29 03:29:53.201930\\n', 'LÃ¡pis de sobrancelha,EletrodomÃ©sticos,28.61,30,Filial 5,2022-11-18 03:29:53.201930\\n', 'LÃ¡pis de sobrancelha,Roupas,87.31,70,Filial 6,2023-07-27 03:29:53.201930\\n', 'Blush em pÃ³,Alimentos,32.27,94,Filial 4,2023-07-31 03:29:53.201930\\n', 'PÃ³ compacto,Roupas,30.31,86,Filial 2,2023-07-02 03:29:53.201930\\n', 'Delineador lÃ\\xadquido,Roupas,62.77,47,Filial 5,2023-06-16 03:29:53.201930\\n', 'Batom lÃ\\xadquido,EletrodomÃ©sticos,66.84,5,Filial 3,2023-06-04 03:29:53.201930\\n', 'Batom matte,EletrodomÃ©sticos,24.98,60,Filial 6,2022-11-07 03:29:53.201930\\n', 'LÃ¡pis de sobrancelha,Alimentos,17.22,31,Filial 7,2023-03-16 03:29:53.201930\\n', 'Sombra de olhos,EletrodomÃ©sticos,15.48,91,Filial 3,2023-02-03 03:29:53.201930\\n', 'Batom lÃ\\xadquido,EletrÃ´nicos,51.02,25,Filial 10,2023-07-08 03:29:53.201930\\n', 'Sombra de olhos,Alimentos,61.62,84,Filial 7,2023-01-14 03:29:53.201930\\n', 'Batom matte,Alimentos,71.73,90,Filial 8,2022-09-09 03:29:53.201930\\n', 'Batom matte,EletrÃ´nicos,79.78,56,Filial 2,2023-01-15 03:29:53.201930\\n', 'PÃ³ compacto,EletrodomÃ©sticos,84.31,54,Filial 1,2022-12-08 03:29:53.201930\\n', 'PÃ³ compacto,Alimentos,42.86,56,Filial 4,2022-10-29 03:29:53.201930\\n', 'Corretivo,EletrodomÃ©sticos,31.83,75,Filial 6,2022-10-30 03:29:53.201930\\n', 'Sombra de olhos,EletrodomÃ©sticos,17.6,51,Filial 6,2023-04-12 03:29:53.201930\\n', 'Blush em pÃ³,EletrodomÃ©sticos,76.89,10,Filial 9,2022-11-03 03:29:53.201930\\n', 'Sombra de olhos,Roupas,19.99,52,Filial 2,2022-11-14 03:29:53.201930\\n', 'Delineador lÃ\\xadquido,EletrodomÃ©sticos,53.01,87,Filial 9,2022-10-03 03:29:53.201930\\n', 'Delineador lÃ\\xadquido,Roupas,9.64,76,Filial 3,2023-07-16 03:29:53.201930\\n', 'Base lÃ\\xadquida,Roupas,52.78,86,Filial 8,2023-04-25 03:29:53.201930\\n', 'Corretivo,Alimentos,80.99,87,Filial 10,2023-04-06 03:29:53.201930\\n', 'Base lÃ\\xadquida,Alimentos,1.43,63,Filial 10,2023-03-13 03:29:53.201930\\n', 'LÃ¡pis de sobrancelha,EletrÃ´nicos,24.1,12,Filial 3,2023-08-10 03:29:53.201930\\n', 'PÃ³ compacto,EletrodomÃ©sticos,84.03,12,Filial 1,2023-01-09 03:29:53.201930\\n', 'Batom lÃ\\xadquido,Alimentos,82.98,37,Filial 2,2023-06-17 03:29:53.201930\\n', 'Corretivo,Alimentos,41.71,38,Filial 5,2022-09-05 03:29:53.201930\\n', 'Corretivo,EletrodomÃ©sticos,82.59,33,Filial 8,2022-08-24 03:29:53.201930\\n', 'MÃ¡scara de cÃ\\xadlios,Alimentos,57.57,43,Filial 3,2023-01-25 03:29:53.201930\\n', 'LÃ¡pis de sobrancelha,EletrÃ´nicos,37.99,50,Filial 1,2022-11-28 03:29:53.201930\\n', 'MÃ¡scara de cÃ\\xadlios,Roupas,9.59,74,Filial 8,2022-11-18 03:29:53.201930\\n', 'Batom lÃ\\xadquido,Alimentos,2.44,27,Filial 6,2022-09-14 03:29:53.201930\\n', 'Corretivo,Roupas,29.6,65,Filial 9,2023-01-04 03:29:53.201930\\n', 'Base lÃ\\xadquida,Alimentos,19.99,28,Filial 1,2023-08-17 03:29:53.201930\\n', 'LÃ¡pis de sobrancelha,EletrÃ´nicos,68.51,64,Filial 9,2023-08-20 03:29:53.201930\\n', 'Sombra de olhos,EletrÃ´nicos,82.31,92,Filial 10,2022-10-06 03:29:53.201930\\n', 'PÃ³ compacto,EletrodomÃ©sticos,12.88,23,Filial 1,2023-02-03 03:29:53.201930\\n', 'PÃ³ compacto,Alimentos,87.56,1,Filial 2,2022-11-26 03:29:53.201930\\n', 'PÃ³ compacto,Roupas,85.38,15,Filial 3,2023-07-25 03:29:53.201930\\n', 'Sombra de olhos,EletrodomÃ©sticos,93.77,4,Filial 1,2023-04-11 03:29:53.201930\\n', 'Sombra de olhos,EletrÃ´nicos,2.7,7,Filial 3,2023-07-14 03:29:53.201930\\n', 'Batom matte,EletrodomÃ©sticos,2.14,74,Filial 1,2023-08-04 03:29:53.201930\\n', 'PÃ³ compacto,Alimentos,38.59,71,Filial 3,2022-09-01 03:29:53.201930\\n', 'Base lÃ\\xadquida,Alimentos,37.88,98,Filial 4,2023-04-21 03:29:53.201930\\n', 'MÃ¡scara de cÃ\\xadlios,EletrodomÃ©sticos,96.81,63,Filial 1,2022-11-10 03:29:53.201930\\n', 'MÃ¡scara de cÃ\\xadlios,EletrodomÃ©sticos,69.51,17,Filial 8,2023-06-14 03:29:53.201930\\n', 'Blush em pÃ³,Alimentos,90.77,36,Filial 7,2023-01-05 03:29:53.201930\\n', 'PÃ³ compacto,Alimentos,98.15,9,Filial 7,2022-11-03 03:29:53.201930\\n', 'Corretivo,EletrÃ´nicos,3.56,51,Filial 9,2023-07-03 03:29:53.201930\\n', 'Batom matte,Roupas,77.93,23,Filial 4,2023-06-09 03:29:53.201930\\n', 'Batom matte,Roupas,21.1,77,Filial 3,2023-07-27 03:29:53.201930\\n', 'Batom matte,Roupas,4.78,5,Filial 1,2022-10-01 03:29:53.201930\\n', 'PÃ³ compacto,Alimentos,35.5,59,Filial 7,2022-09-08 03:29:53.201930\\n', 'Corretivo,EletrÃ´nicos,86.36,66,Filial 3,2023-01-24 03:29:53.201930\\n', 'Batom matte,Alimentos,59.17,59,Filial 7,2022-08-26 03:29:53.201930\\n', 'Blush em pÃ³,EletrÃ´nicos,73.3,35,Filial 5,2023-03-20 03:29:53.201930\\n', 'Batom matte,EletrÃ´nicos,70.32,90,Filial 3,2023-03-23 03:29:53.201930\\n', 'Base lÃ\\xadquida,Alimentos,50.82,47,Filial 10,2023-03-24 03:29:53.201930\\n', 'Delineador lÃ\\xadquido,EletrÃ´nicos,9.15,33,Filial 6,2022-10-19 03:29:53.201930\\n', 'Corretivo,Alimentos,31.84,41,Filial 7,2023-07-04 03:29:53.201930\\n', 'PÃ³ compacto,EletrodomÃ©sticos,76.02,58,Filial 1,2023-06-14 03:29:53.201930\\n', 'MÃ¡scara de cÃ\\xadlios,EletrodomÃ©sticos,11.69,23,Filial 6,2023-07-15 03:29:53.201930\\n', 'LÃ¡pis de sobrancelha,Alimentos,44.48,57,Filial 2,2022-10-24 03:29:53.201930\\n', 'Batom lÃ\\xadquido,Roupas,27.08,46,Filial 7,2022-12-18 03:29:53.201930\\n', 'PÃ³ compacto,EletrÃ´nicos,38.3,56,Filial 10,2023-08-06 03:29:53.201930\\n', 'PÃ³ compacto,EletrodomÃ©sticos,25.01,3,Filial 3,2023-08-22 03:29:53.201930\\n', 'Batom matte,Alimentos,34.12,53,Filial 10,2022-10-01 03:29:53.201930\\n', 'Corretivo,EletrÃ´nicos,50.52,74,Filial 7,2023-05-09 03:29:53.201930\\n', 'Batom lÃ\\xadquido,EletrodomÃ©sticos,85.32,53,Filial 1,2023-04-30 03:29:53.201930\\n', 'PÃ³ compacto,Alimentos,60.27,45,Filial 2,2023-04-01 03:29:53.201930\\n', 'PÃ³ compacto,EletrÃ´nicos,2.82,53,Filial 7,2023-08-20 03:29:53.201930\\n', 'Base lÃ\\xadquida,Alimentos,97.89,76,Filial 5,2023-06-13 03:29:53.201930\\n', 'Sombra de olhos,EletrodomÃ©sticos,94.57,76,Filial 10,2023-02-04 03:29:53.201930\\n', 'Delineador lÃ\\xadquido,EletrÃ´nicos,15.75,80,Filial 2,2023-03-10 03:29:53.201930\\n', 'Blush em pÃ³,Alimentos,64.35,4,Filial 7,2023-06-30 03:29:53.201930\\n', 'Base lÃ\\xadquida,Roupas,47.71,83,Filial 8,2023-06-08 03:29:53.201930\\n', 'Corretivo,EletrodomÃ©sticos,93.69,14,Filial 3,2023-03-21 03:29:53.201930\\n', 'Blush em pÃ³,Roupas,61.93,77,Filial 4,2022-09-15 03:29:53.201930\\n', 'Sombra de olhos,Roupas,27.17,48,Filial 4,2023-08-17 03:29:53.201930\\n', 'Blush em pÃ³,EletrodomÃ©sticos,94.63,16,Filial 4,2022-09-23 03:29:53.201930\\n', 'Corretivo,EletrodomÃ©sticos,96.27,73,Filial 6,2023-03-14 03:29:53.201930\\n', 'PÃ³ compacto,Alimentos,52.23,51,Filial 9,2022-11-19 03:29:53.201930\\n', 'Base lÃ\\xadquida,Alimentos,73.02,61,Filial 5,2023-03-29 03:29:53.201930\\n', 'Batom matte,Roupas,76.5,43,Filial 8,2023-04-27 03:29:53.201930\\n', 'Sombra de olhos,Alimentos,94.47,57,Filial 9,2023-04-04 03:29:53.201930\\n', 'PÃ³ compacto,EletrodomÃ©sticos,50.3,76,Filial 3,2023-08-22 03:29:53.201930\\n', 'Sombra de olhos,Alimentos,29.7,11,Filial 8,2023-01-18 03:29:53.201930\\n', 'Base lÃ\\xadquida,EletrÃ´nicos,55.7,13,Filial 6,2023-02-24 03:29:53.201930\\n', 'PÃ³ compacto,Alimentos,50.36,48,Filial 10,2023-07-16 03:29:53.201930\\n', 'Sombra de olhos,Alimentos,12.09,60,Filial 2,2023-05-20 03:29:53.201930\\n', 'Batom lÃ\\xadquido,Roupas,51.96,12,Filial 6,2023-02-02 03:29:53.201930\\n', 'Delineador lÃ\\xadquido,Roupas,97.02,24,Filial 3,2023-03-15 03:29:53.201930\\n', 'Sombra de olhos,EletrodomÃ©sticos,29.8,25,Filial 5,2022-11-27 03:29:53.201930\\n', 'Batom lÃ\\xadquido,Alimentos,41.83,71,Filial 9,2023-02-28 03:29:53.201930\\n', 'Blush em pÃ³,EletrodomÃ©sticos,35.14,75,Filial 3,2022-09-01 03:29:53.201930\\n', 'Blush em pÃ³,EletrodomÃ©sticos,87.71,78,Filial 9,2023-01-24 03:29:53.201930\\n', 'LÃ¡pis de sobrancelha,Alimentos,12.72,1,Filial 2,2023-03-14 03:29:53.201930\\n', 'Corretivo,EletrÃ´nicos,15.97,24,Filial 3,2022-10-24 03:29:53.201930\\n', 'Sombra de olhos,Alimentos,78.38,48,Filial 2,2023-06-07 03:29:53.201930\\n', 'Corretivo,EletrÃ´nicos,63.39,73,Filial 7,2023-05-22 03:29:53.201930\\n', 'Batom matte,Roupas,72.73,81,Filial 6,2023-03-18 03:29:53.201930\\n', 'Blush em pÃ³,EletrÃ´nicos,77.1,33,Filial 8,2023-03-19 03:29:53.201930\\n', 'LÃ¡pis de sobrancelha,EletrodomÃ©sticos,46.09,25,Filial 1,2023-02-25 03:29:53.201930\\n', 'MÃ¡scara de cÃ\\xadlios,EletrÃ´nicos,57.07,88,Filial 7,2022-09-06 03:29:53.201930\\n', 'Blush em pÃ³,Roupas,57.55,80,Filial 3,2023-06-29 03:29:53.201930\\n', 'LÃ¡pis de sobrancelha,Roupas,35.39,7,Filial 4,2023-03-19 03:29:53.201930\\n', 'PÃ³ compacto,EletrÃ´nicos,79.19,34,Filial 8,2023-01-21 03:29:53.201930\\n', 'LÃ¡pis de sobrancelha,Roupas,91.41,88,Filial 10,2022-10-21 03:29:53.201930\\n', 'PÃ³ compacto,EletrodomÃ©sticos,50.92,68,Filial 1,2023-04-07 03:29:53.201930\\n', 'LÃ¡pis de sobrancelha,Roupas,11.81,89,Filial 10,2023-03-29 03:29:53.201930\\n', 'Blush em pÃ³,Alimentos,2.03,65,Filial 5,2022-11-24 03:29:53.201930\\n', 'Blush em pÃ³,Roupas,39.25,83,Filial 10,2023-07-14 03:29:53.201930\\n', 'Batom matte,EletrÃ´nicos,10.0,92,Filial 10,2023-08-12 03:29:53.201930\\n', 'PÃ³ compacto,Alimentos,25.17,42,Filial 10,2022-09-15 03:29:53.201930\\n', 'Base lÃ\\xadquida,Roupas,31.32,69,Filial 2,2022-12-07 03:29:53.201930\\n', 'Batom matte,Alimentos,39.39,94,Filial 2,2023-07-09 03:29:53.201930\\n', 'MÃ¡scara de cÃ\\xadlios,EletrodomÃ©sticos,42.56,22,Filial 10,2022-11-13 03:29:53.201930\\n', 'Delineador lÃ\\xadquido,Alimentos,82.57,54,Filial 9,2022-12-08 03:29:53.201930\\n', 'Batom lÃ\\xadquido,EletrodomÃ©sticos,68.12,26,Filial 1,2022-09-11 03:29:53.201930\\n', 'Batom matte,Alimentos,12.02,45,Filial 4,2023-01-19 03:29:53.201930\\n', 'Blush em pÃ³,EletrÃ´nicos,30.01,26,Filial 6,2022-12-12 03:29:53.201930\\n', 'Batom lÃ\\xadquido,Alimentos,5.64,95,Filial 6,2022-09-28 03:29:53.201930\\n', 'Blush em pÃ³,Roupas,85.78,53,Filial 9,2022-11-28 03:29:53.201930\\n', 'PÃ³ compacto,Alimentos,17.21,75,Filial 4,2023-07-25 03:29:53.201930\\n', 'LÃ¡pis de sobrancelha,EletrodomÃ©sticos,73.24,65,Filial 5,2022-11-10 03:29:53.201930\\n', 'Base lÃ\\xadquida,EletrÃ´nicos,60.06,87,Filial 7,2023-02-14 03:29:53.201930\\n', 'Corretivo,EletrÃ´nicos,45.14,94,Filial 1,2022-11-26 03:29:53.201930\\n', 'Base lÃ\\xadquida,Roupas,22.78,68,Filial 9,2023-02-02 03:29:53.201930\\n', 'Blush em pÃ³,Alimentos,55.52,33,Filial 6,2023-06-11 03:29:53.201930\\n', 'LÃ¡pis de sobrancelha,EletrÃ´nicos,14.2,10,Filial 6,2022-10-22 03:29:53.201930\\n', 'LÃ¡pis de sobrancelha,EletrÃ´nicos,82.46,47,Filial 5,2023-06-28 03:29:53.201930\\n', 'Corretivo,EletrÃ´nicos,21.49,16,Filial 10,2022-08-29 03:29:53.201930\\n', 'MÃ¡scara de cÃ\\xadlios,EletrodomÃ©sticos,16.48,64,Filial 8,2022-10-09 03:29:53.201930\\n', 'PÃ³ compacto,EletrÃ´nicos,81.83,4,Filial 4,2023-07-12 03:29:53.201930\\n', 'Blush em pÃ³,Roupas,9.69,49,Filial 3,2023-06-06 03:29:53.201930\\n', 'MÃ¡scara de cÃ\\xadlios,Roupas,46.52,68,Filial 2,2023-06-11 03:29:53.201930\\n', 'Batom matte,EletrÃ´nicos,87.42,57,Filial 3,2022-09-22 03:29:53.201930\\n', 'Corretivo,Alimentos,70.88,59,Filial 3,2023-03-12 03:29:53.201930\\n', 'MÃ¡scara de cÃ\\xadlios,EletrodomÃ©sticos,87.29,18,Filial 9,2023-03-02 03:29:53.201930\\n', 'Base lÃ\\xadquida,EletrÃ´nicos,14.71,67,Filial 9,2023-01-21 03:29:53.201930\\n', 'MÃ¡scara de cÃ\\xadlios,Alimentos,42.15,65,Filial 2,2023-01-09 03:29:53.201930\\n', 'Corretivo,Roupas,33.59,38,Filial 2,2022-09-25 03:29:53.201930\\n', 'Delineador lÃ\\xadquido,Alimentos,84.24,73,Filial 10,2022-12-17 03:29:53.201930\\n', 'Batom matte,EletrÃ´nicos,45.88,13,Filial 4,2023-06-09 03:29:53.201930\\n', 'Corretivo,EletrodomÃ©sticos,9.7,15,Filial 9,2023-01-14 03:29:53.201930\\n', 'Blush em pÃ³,Roupas,80.98,6,Filial 3,2022-09-06 03:29:53.201930\\n', 'Delineador lÃ\\xadquido,Alimentos,3.7,37,Filial 7,2022-11-17 03:29:53.201930\\n', 'LÃ¡pis de sobrancelha,Alimentos,7.37,51,Filial 3,2023-02-07 03:29:53.201930\\n', 'Sombra de olhos,EletrodomÃ©sticos,21.27,97,Filial 10,2022-11-19 03:29:53.201930\\n', 'Base lÃ\\xadquida,Alimentos,49.3,17,Filial 3,2023-06-19 03:29:53.201930\\n', 'Base lÃ\\xadquida,EletrodomÃ©sticos,24.23,53,Filial 5,2023-03-18 03:29:53.201930\\n', 'LÃ¡pis de sobrancelha,Alimentos,8.96,75,Filial 10,2023-04-02 03:29:53.201930\\n', 'Blush em pÃ³,Alimentos,18.26,97,Filial 9,2022-11-26 03:29:53.201930\\n', 'Sombra de olhos,EletrodomÃ©sticos,55.64,76,Filial 7,2023-04-05 03:29:53.201930\\n', 'Corretivo,Alimentos,15.12,57,Filial 6,2023-04-03 03:29:53.201930\\n', 'PÃ³ compacto,EletrodomÃ©sticos,86.13,22,Filial 1,2022-11-17 03:29:53.201930\\n', 'Corretivo,Alimentos,17.45,35,Filial 1,2022-11-16 03:29:53.201930\\n', 'MÃ¡scara de cÃ\\xadlios,EletrÃ´nicos,46.45,13,Filial 1,2023-02-25 03:29:53.201930\\n', 'PÃ³ compacto,Roupas,71.06,19,Filial 2,2023-07-17 03:29:53.201930\\n', 'Delineador lÃ\\xadquido,Alimentos,79.98,46,Filial 9,2022-10-06 03:29:53.201930\\n', 'Base lÃ\\xadquida,EletrodomÃ©sticos,79.87,100,Filial 7,2023-07-31 03:29:53.201930\\n', 'Delineador lÃ\\xadquido,EletrodomÃ©sticos,33.04,53,Filial 7,2023-03-23 03:29:53.201930\\n', 'LÃ¡pis de sobrancelha,EletrÃ´nicos,58.22,72,Filial 9,2023-07-22 03:29:53.201930\\n', 'Corretivo,EletrÃ´nicos,75.96,55,Filial 4,2023-01-21 03:29:53.201930\\n', 'Batom matte,Alimentos,50.78,48,Filial 9,2023-05-14 03:29:53.201930\\n', 'PÃ³ compacto,EletrodomÃ©sticos,16.51,58,Filial 1,2023-05-06 03:29:53.201930\\n', 'Base lÃ\\xadquida,EletrÃ´nicos,88.74,73,Filial 2,2022-12-13 03:29:53.201930\\n', 'Batom matte,EletrodomÃ©sticos,2.01,44,Filial 10,2022-09-15 03:29:53.201930\\n', 'MÃ¡scara de cÃ\\xadlios,EletrÃ´nicos,22.35,10,Filial 1,2022-09-20 03:29:53.201930\\n', 'Delineador lÃ\\xadquido,EletrÃ´nicos,51.11,97,Filial 9,2023-05-08 03:29:53.201930\\n', 'Delineador lÃ\\xadquido,Alimentos,39.68,65,Filial 7,2023-05-29 03:29:53.201930\\n', 'Corretivo,Roupas,14.52,15,Filial 6,2023-05-31 03:29:53.201930\\n', 'MÃ¡scara de cÃ\\xadlios,Roupas,13.03,8,Filial 1,2023-05-07 03:29:53.201930\\n', 'Sombra de olhos,EletrodomÃ©sticos,54.09,42,Filial 5,2022-10-15 03:29:53.201930\\n', 'Corretivo,EletrÃ´nicos,79.2,69,Filial 7,2023-05-06 03:29:53.201930\\n', 'LÃ¡pis de sobrancelha,EletrÃ´nicos,17.65,63,Filial 2,2023-02-07 03:29:53.201930\\n', 'Blush em pÃ³,EletrodomÃ©sticos,53.35,100,Filial 4,2023-07-17 03:29:53.201930\\n', 'LÃ¡pis de sobrancelha,Roupas,50.87,73,Filial 1,2023-04-12 03:29:53.201930\\n', 'Batom lÃ\\xadquido,Alimentos,55.73,75,Filial 6,2023-05-14 03:29:53.201930\\n', 'PÃ³ compacto,Alimentos,26.35,84,Filial 3,2023-07-04 03:29:53.201930\\n', 'LÃ¡pis de sobrancelha,EletrodomÃ©sticos,61.64,42,Filial 7,2023-01-11 03:29:53.201930\\n', 'Delineador lÃ\\xadquido,EletrodomÃ©sticos,36.82,85,Filial 10,2023-01-28 03:29:53.201930\\n', 'MÃ¡scara de cÃ\\xadlios,Alimentos,74.03,3,Filial 1,2022-10-31 03:29:53.201930\\n', 'LÃ¡pis de sobrancelha,EletrodomÃ©sticos,24.44,66,Filial 1,2023-05-16 03:29:53.201930\\n', 'Batom lÃ\\xadquido,EletrÃ´nicos,32.19,11,Filial 10,2023-03-10 03:29:53.201930\\n', 'Batom matte,EletrodomÃ©sticos,11.59,64,Filial 6,2023-08-19 03:29:53.201930\\n', 'LÃ¡pis de sobrancelha,EletrodomÃ©sticos,4.81,51,Filial 10,2022-12-19 03:29:53.201930\\n', 'Batom matte,Roupas,98.05,49,Filial 4,2022-09-26 03:29:53.201930\\n', 'Sombra de olhos,EletrodomÃ©sticos,75.15,80,Filial 9,2023-08-02 03:29:53.201930\\n', 'Blush em pÃ³,Alimentos,55.74,40,Filial 8,2022-12-31 03:29:53.201930\\n', 'Corretivo,EletrÃ´nicos,85.44,9,Filial 10,2023-05-23 03:29:53.201930\\n', 'LÃ¡pis de sobrancelha,EletrÃ´nicos,43.03,37,Filial 3,2022-12-13 03:29:53.201930\\n', 'Blush em pÃ³,EletrÃ´nicos,41.8,58,Filial 7,2023-01-07 03:29:53.201930\\n', 'Batom lÃ\\xadquido,Roupas,25.07,18,Filial 3,2022-11-18 03:29:53.201930\\n', 'Batom lÃ\\xadquido,Alimentos,52.34,100,Filial 8,2022-10-08 03:29:53.201930\\n', 'LÃ¡pis de sobrancelha,EletrodomÃ©sticos,19.83,86,Filial 10,2023-03-19 03:29:53.201930\\n', 'LÃ¡pis de sobrancelha,Roupas,18.74,3,Filial 6,2023-07-22 03:29:53.201930\\n', 'Batom matte,Roupas,87.96,71,Filial 9,2023-06-27 03:29:53.201930\\n', 'Corretivo,Alimentos,59.41,34,Filial 4,2022-10-09 03:29:53.201930\\n', 'LÃ¡pis de sobrancelha,EletrodomÃ©sticos,86.44,62,Filial 8,2022-11-24 03:29:53.201930\\n', 'PÃ³ compacto,EletrodomÃ©sticos,71.76,82,Filial 2,2023-03-21 03:29:53.201930\\n', 'Corretivo,EletrÃ´nicos,22.58,41,Filial 6,2023-08-03 03:29:53.201930\\n', 'Batom matte,Alimentos,30.74,28,Filial 1,2023-03-21 03:29:53.201930\\n', 'Delineador lÃ\\xadquido,Alimentos,29.01,98,Filial 3,2023-04-30 03:29:53.201930\\n', 'Sombra de olhos,EletrodomÃ©sticos,12.02,14,Filial 8,2023-05-25 03:29:53.201930\\n', 'Batom matte,EletrÃ´nicos,52.33,100,Filial 1,2023-06-06 03:29:53.201930\\n', 'Corretivo,Alimentos,71.72,59,Filial 9,2023-04-22 03:29:53.201930\\n', 'MÃ¡scara de cÃ\\xadlios,EletrodomÃ©sticos,33.12,30,Filial 8,2022-11-28 03:29:53.201930\\n', 'Blush em pÃ³,EletrÃ´nicos,34.01,56,Filial 5,2023-01-30 03:29:53.201930\\n', 'Base lÃ\\xadquida,EletrÃ´nicos,59.21,21,Filial 1,2023-06-19 03:29:53.201930\\n', 'PÃ³ compacto,EletrÃ´nicos,93.77,55,Filial 6,2023-03-01 03:29:53.201930\\n', 'Corretivo,EletrÃ´nicos,60.78,39,Filial 5,2022-09-07 03:29:53.201930\\n', 'Delineador lÃ\\xadquido,EletrodomÃ©sticos,97.8,99,Filial 1,2023-05-28 03:29:53.201930\\n', 'Sombra de olhos,Alimentos,90.38,51,Filial 1,2022-11-27 03:29:53.201930\\n', 'PÃ³ compacto,EletrodomÃ©sticos,8.89,74,Filial 9,2022-11-24 03:29:53.201930\\n', 'Corretivo,Alimentos,27.29,55,Filial 7,2023-08-10 03:29:53.201930\\n', 'Corretivo,Alimentos,58.78,45,Filial 9,2022-09-30 03:29:53.201930\\n', 'Batom lÃ\\xadquido,Alimentos,94.14,81,Filial 9,2022-10-27 03:29:53.201930\\n', 'Corretivo,Alimentos,21.7,86,Filial 4,2022-10-04 03:29:53.201930\\n', 'Base lÃ\\xadquida,Roupas,74.02,79,Filial 1,2023-06-10 03:29:53.201930\\n', 'PÃ³ compacto,Alimentos,1.01,26,Filial 8,2022-11-30 03:29:53.201930\\n', 'LÃ¡pis de sobrancelha,EletrodomÃ©sticos,27.05,8,Filial 5,2022-08-29 03:29:53.201930\\n', 'MÃ¡scara de cÃ\\xadlios,Roupas,67.25,70,Filial 4,2022-12-21 03:29:53.201930\\n', 'Blush em pÃ³,Roupas,96.57,11,Filial 9,2023-06-13 03:29:53.201930\\n', 'PÃ³ compacto,Alimentos,49.24,79,Filial 1,2023-06-10 03:29:53.201930\\n', 'Delineador lÃ\\xadquido,Roupas,66.12,54,Filial 8,2022-09-29 03:29:53.201930\\n', 'Delineador lÃ\\xadquido,EletrodomÃ©sticos,59.74,32,Filial 9,2023-01-13 03:29:53.201930\\n', 'Batom matte,Alimentos,69.47,17,Filial 6,2023-07-14 03:29:53.201930\\n', 'Batom lÃ\\xadquido,Alimentos,30.08,52,Filial 8,2023-05-17 03:29:53.201930\\n', 'Sombra de olhos,Roupas,22.16,11,Filial 4,2023-04-27 03:29:53.201930\\n', 'LÃ¡pis de sobrancelha,EletrÃ´nicos,70.5,73,Filial 9,2022-11-11 03:29:53.201930\\n', 'Blush em pÃ³,Alimentos,43.19,31,Filial 10,2022-10-18 03:29:53.201930\\n', 'Delineador lÃ\\xadquido,Alimentos,53.25,52,Filial 6,2023-07-17 03:29:53.201930\\n', 'Sombra de olhos,Roupas,83.85,30,Filial 10,2022-11-16 03:29:53.201930\\n', 'LÃ¡pis de sobrancelha,Roupas,55.79,88,Filial 6,2023-03-18 03:29:53.201930\\n', 'Base lÃ\\xadquida,Alimentos,20.83,53,Filial 10,2023-02-08 03:29:53.201930\\n', 'Corretivo,Roupas,72.64,55,Filial 1,2023-01-16 03:29:53.201930\\n', 'LÃ¡pis de sobrancelha,Roupas,11.79,93,Filial 10,2022-12-05 03:29:53.201930\\n', 'Blush em pÃ³,Alimentos,2.38,10,Filial 7,2023-01-09 03:29:53.201930\\n', 'Batom lÃ\\xadquido,Roupas,7.24,80,Filial 3,2023-05-04 03:29:53.201930\\n', 'Corretivo,EletrÃ´nicos,1.91,36,Filial 10,2022-11-11 03:29:53.201930\\n', 'LÃ¡pis de sobrancelha,Alimentos,54.83,44,Filial 2,2022-12-31 03:29:53.201930\\n', 'PÃ³ compacto,EletrÃ´nicos,86.79,73,Filial 4,2023-04-26 03:29:53.201930\\n', 'Base lÃ\\xadquida,Roupas,21.17,38,Filial 6,2022-09-11 03:29:53.201930\\n', 'MÃ¡scara de cÃ\\xadlios,Alimentos,49.0,57,Filial 2,2023-04-15 03:29:53.201930\\n', 'Blush em pÃ³,Roupas,74.03,11,Filial 8,2023-08-01 03:29:53.201930\\n', 'PÃ³ compacto,EletrÃ´nicos,45.74,2,Filial 2,2023-01-27 03:29:53.201930\\n', 'Delineador lÃ\\xadquido,Alimentos,64.28,13,Filial 8,2023-08-06 03:29:53.201930\\n', 'Blush em pÃ³,Alimentos,78.92,91,Filial 4,2023-05-31 03:29:53.201930\\n', 'Sombra de olhos,Alimentos,61.5,33,Filial 6,2022-12-01 03:29:53.201930\\n', 'Delineador lÃ\\xadquido,Roupas,58.14,53,Filial 7,2023-04-04 03:29:53.201930\\n', 'MÃ¡scara de cÃ\\xadlios,EletrodomÃ©sticos,4.06,74,Filial 2,2022-11-19 03:29:53.201930\\n', 'LÃ¡pis de sobrancelha,EletrodomÃ©sticos,57.22,5,Filial 5,2023-03-23 03:29:53.201930\\n', 'Blush em pÃ³,EletrÃ´nicos,89.11,55,Filial 8,2022-09-01 03:29:53.201930\\n', 'LÃ¡pis de sobrancelha,EletrÃ´nicos,6.12,70,Filial 3,2023-02-21 03:29:53.201930\\n', 'PÃ³ compacto,EletrÃ´nicos,58.75,74,Filial 1,2022-08-29 03:29:53.201930\\n', 'Blush em pÃ³,Roupas,3.61,6,Filial 3,2022-11-10 03:29:53.201930\\n', 'PÃ³ compacto,EletrÃ´nicos,28.62,11,Filial 5,2023-01-02 03:29:53.201930\\n', 'Corretivo,Roupas,29.39,35,Filial 2,2023-05-15 03:29:53.201930\\n', 'Sombra de olhos,EletrodomÃ©sticos,43.82,12,Filial 10,2023-07-06 03:29:53.201930\\n', 'PÃ³ compacto,Roupas,84.06,67,Filial 3,2023-06-04 03:29:53.201930\\n', 'Sombra de olhos,Roupas,31.5,64,Filial 5,2023-07-15 03:29:53.201930\\n', 'MÃ¡scara de cÃ\\xadlios,EletrodomÃ©sticos,53.26,1,Filial 10,2023-07-28 03:29:53.201930\\n', 'PÃ³ compacto,Alimentos,90.17,8,Filial 4,2022-12-31 03:29:53.201930\\n', 'Delineador lÃ\\xadquido,EletrodomÃ©sticos,67.07,69,Filial 6,2022-10-10 03:29:53.201930\\n', 'Blush em pÃ³,Alimentos,16.35,75,Filial 6,2022-10-03 03:29:53.201930\\n', 'Batom matte,EletrodomÃ©sticos,45.71,45,Filial 5,2023-04-14 03:29:53.201930\\n', 'Sombra de olhos,Roupas,57.13,92,Filial 7,2023-04-19 03:29:53.201930\\n', 'Base lÃ\\xadquida,Roupas,28.26,68,Filial 9,2023-01-10 03:29:53.201930\\n', 'LÃ¡pis de sobrancelha,EletrÃ´nicos,71.63,8,Filial 3,2023-06-20 03:29:53.201930\\n', 'Batom lÃ\\xadquido,Roupas,34.7,25,Filial 7,2023-07-22 03:29:53.201930\\n', 'Base lÃ\\xadquida,EletrÃ´nicos,47.62,12,Filial 5,2023-03-26 03:29:53.201930\\n', 'Corretivo,EletrÃ´nicos,64.54,32,Filial 8,2023-05-22 03:29:53.201930\\n', 'Delineador lÃ\\xadquido,EletrodomÃ©sticos,52.56,80,Filial 9,2022-11-27 03:29:53.201930\\n', 'Batom matte,EletrodomÃ©sticos,70.12,68,Filial 2,2022-09-16 03:29:53.201930\\n', 'Delineador lÃ\\xadquido,EletrodomÃ©sticos,68.72,89,Filial 1,2023-04-05 03:29:53.201930\\n', 'Corretivo,Alimentos,51.03,11,Filial 6,2022-09-02 03:29:53.201930\\n', 'LÃ¡pis de sobrancelha,Roupas,59.84,77,Filial 7,2022-11-22 03:29:53.201930\\n', 'Corretivo,Alimentos,5.66,24,Filial 7,2022-10-01 03:29:53.201930\\n', 'Batom matte,EletrÃ´nicos,72.24,51,Filial 1,2023-05-17 03:29:53.201930\\n', 'Blush em pÃ³,EletrodomÃ©sticos,40.62,24,Filial 2,2023-01-08 03:29:53.201930\\n', 'LÃ¡pis de sobrancelha,EletrodomÃ©sticos,56.15,16,Filial 6,2023-03-29 03:29:53.201930\\n', 'MÃ¡scara de cÃ\\xadlios,Alimentos,25.71,29,Filial 1,2023-07-25 03:29:53.201930\\n', 'PÃ³ compacto,EletrÃ´nicos,80.74,75,Filial 10,2022-11-26 03:29:53.201930\\n', 'Batom matte,EletrodomÃ©sticos,51.6,56,Filial 8,2023-08-06 03:29:53.201930\\n', 'Batom matte,EletrodomÃ©sticos,68.61,15,Filial 9,2022-10-06 03:29:53.201930\\n', 'Base lÃ\\xadquida,EletrÃ´nicos,70.72,5,Filial 9,2023-05-09 03:29:53.201930\\n', 'Batom lÃ\\xadquido,EletrodomÃ©sticos,66.36,72,Filial 9,2022-11-14 03:29:53.201930\\n', 'PÃ³ compacto,EletrÃ´nicos,8.72,15,Filial 8,2023-02-06 03:29:53.201930\\n', 'LÃ¡pis de sobrancelha,Roupas,5.74,100,Filial 3,2023-07-11 03:29:53.201930\\n', 'PÃ³ compacto,Alimentos,84.65,43,Filial 9,2023-07-12 03:29:53.201930\\n', 'Batom matte,Roupas,12.11,68,Filial 10,2023-03-07 03:29:53.201930\\n', 'Corretivo,Alimentos,92.59,53,Filial 9,2023-06-04 03:29:53.201930\\n', 'Base lÃ\\xadquida,Roupas,76.57,17,Filial 3,2022-11-25 03:29:53.201930\\n', 'LÃ¡pis de sobrancelha,Alimentos,46.72,49,Filial 7,2023-06-09 03:29:53.201930\\n', 'Corretivo,Roupas,61.03,5,Filial 5,2022-10-16 03:29:53.201930\\n', 'Base lÃ\\xadquida,EletrÃ´nicos,63.08,48,Filial 9,2022-09-05 03:29:53.201930\\n', 'Blush em pÃ³,Alimentos,16.66,98,Filial 1,2023-06-13 03:29:53.201930\\n', 'Corretivo,EletrÃ´nicos,70.9,89,Filial 8,2023-03-31 03:29:53.201930\\n', 'Corretivo,Roupas,21.44,83,Filial 1,2022-12-31 03:29:53.201930\\n', 'Base lÃ\\xadquida,Roupas,98.62,43,Filial 5,2022-12-19 03:29:53.201930\\n', 'Corretivo,EletrÃ´nicos,31.93,7,Filial 9,2022-12-31 03:29:53.201930\\n', 'Sombra de olhos,Roupas,44.12,25,Filial 9,2023-02-05 03:29:53.201930\\n', 'Delineador lÃ\\xadquido,Alimentos,86.35,81,Filial 2,2022-09-30 03:29:53.201930\\n', 'Blush em pÃ³,EletrodomÃ©sticos,48.2,26,Filial 2,2022-10-01 03:29:53.201930\\n', 'Sombra de olhos,Roupas,52.31,10,Filial 4,2022-11-08 03:29:53.201930\\n', 'Sombra de olhos,EletrodomÃ©sticos,47.53,71,Filial 5,2023-08-11 03:29:53.201930\\n', 'MÃ¡scara de cÃ\\xadlios,EletrodomÃ©sticos,14.07,35,Filial 4,2022-12-31 03:29:53.201930\\n', 'Corretivo,EletrÃ´nicos,70.49,69,Filial 5,2023-06-28 03:29:53.201930\\n', 'MÃ¡scara de cÃ\\xadlios,EletrÃ´nicos,74.76,8,Filial 3,2023-02-25 03:29:53.201930\\n', 'LÃ¡pis de sobrancelha,EletrÃ´nicos,13.17,54,Filial 2,2023-08-13 03:29:53.201930\\n', 'MÃ¡scara de cÃ\\xadlios,Roupas,67.82,40,Filial 6,2022-09-16 03:29:53.201930\\n', 'Batom lÃ\\xadquido,EletrÃ´nicos,8.03,97,Filial 9,2023-05-13 03:29:53.201930\\n', 'Delineador lÃ\\xadquido,EletrodomÃ©sticos,36.26,86,Filial 7,2023-01-08 03:29:53.201930\\n', 'Blush em pÃ³,Roupas,91.4,36,Filial 3,2023-07-16 03:29:53.201930\\n', 'Batom lÃ\\xadquido,Alimentos,10.16,38,Filial 7,2022-08-27 03:29:53.201930\\n', 'Batom lÃ\\xadquido,EletrÃ´nicos,38.36,20,Filial 1,2023-01-11 03:29:53.201930\\n', 'PÃ³ compacto,EletrodomÃ©sticos,57.95,4,Filial 7,2023-04-18 03:29:53.201930\\n', 'Batom matte,EletrÃ´nicos,30.22,79,Filial 3,2022-08-25 03:29:53.201930\\n', 'Base lÃ\\xadquida,EletrodomÃ©sticos,2.61,64,Filial 9,2023-02-10 03:29:53.201930\\n', 'MÃ¡scara de cÃ\\xadlios,EletrodomÃ©sticos,34.51,3,Filial 1,2023-04-04 03:29:53.201930\\n', 'Base lÃ\\xadquida,EletrÃ´nicos,26.82,59,Filial 6,2023-01-26 03:29:53.201930\\n', 'PÃ³ compacto,EletrÃ´nicos,25.6,93,Filial 5,2022-12-13 03:29:53.201930\\n', 'Batom matte,Roupas,43.13,72,Filial 5,2023-06-12 03:29:53.201930\\n', 'LÃ¡pis de sobrancelha,Alimentos,54.56,14,Filial 7,2022-09-15 03:29:53.201930\\n', 'Delineador lÃ\\xadquido,EletrÃ´nicos,90.08,95,Filial 5,2023-03-25 03:29:53.201930\\n', 'Batom matte,Roupas,56.43,35,Filial 6,2023-06-11 03:29:53.201930\\n', 'PÃ³ compacto,EletrodomÃ©sticos,21.83,85,Filial 7,2023-07-13 03:29:53.201930\\n', 'Batom matte,EletrÃ´nicos,25.6,53,Filial 4,2022-11-15 03:29:53.201930\\n', 'MÃ¡scara de cÃ\\xadlios,Alimentos,28.19,97,Filial 2,2023-06-28 03:29:53.201930\\n', 'Corretivo,EletrodomÃ©sticos,41.35,6,Filial 3,2023-01-17 03:29:53.201930\\n', 'Corretivo,Roupas,45.56,94,Filial 5,2023-03-10 03:29:53.201930\\n', 'MÃ¡scara de cÃ\\xadlios,Alimentos,55.78,55,Filial 5,2023-05-15 03:29:53.201930\\n', 'LÃ¡pis de sobrancelha,Alimentos,17.57,64,Filial 3,2023-06-28 03:29:53.201930\\n', 'PÃ³ compacto,Roupas,49.59,26,Filial 8,2023-08-13 03:29:53.201930\\n', 'MÃ¡scara de cÃ\\xadlios,EletrodomÃ©sticos,52.93,13,Filial 5,2023-02-06 03:29:53.201930\\n', 'Blush em pÃ³,Alimentos,76.01,77,Filial 5,2023-04-21 03:29:53.201930\\n', 'Batom matte,Roupas,69.77,48,Filial 10,2023-07-26 03:29:53.201930\\n', 'LÃ¡pis de sobrancelha,Alimentos,61.5,16,Filial 1,2023-08-03 03:29:53.201930\\n', 'Base lÃ\\xadquida,Alimentos,86.81,36,Filial 8,2023-07-20 03:29:53.201930\\n', 'Batom lÃ\\xadquido,Alimentos,69.27,38,Filial 8,2022-10-14 03:29:53.201930\\n', 'Base lÃ\\xadquida,EletrodomÃ©sticos,93.4,85,Filial 10,2022-12-06 03:29:53.201930\\n', 'Sombra de olhos,Roupas,83.98,72,Filial 6,2023-01-05 03:29:53.201930\\n', 'Blush em pÃ³,EletrodomÃ©sticos,24.28,47,Filial 5,2023-05-18 03:29:53.201930\\n', 'Delineador lÃ\\xadquido,Roupas,44.58,93,Filial 7,2023-06-26 03:29:53.201930\\n', 'LÃ¡pis de sobrancelha,EletrÃ´nicos,18.94,93,Filial 7,2022-11-28 03:29:53.201930\\n', 'Base lÃ\\xadquida,Roupas,35.37,91,Filial 2,2023-05-14 03:29:53.201930\\n', 'MÃ¡scara de cÃ\\xadlios,EletrodomÃ©sticos,65.01,14,Filial 8,2022-11-27 03:29:53.201930\\n', 'Batom matte,Roupas,95.57,60,Filial 10,2023-03-11 03:29:53.201930\\n', 'Corretivo,EletrodomÃ©sticos,70.9,42,Filial 4,2023-04-14 03:29:53.201930\\n', 'Delineador lÃ\\xadquido,EletrÃ´nicos,4.47,77,Filial 5,2023-07-22 03:29:53.201930\\n', 'LÃ¡pis de sobrancelha,Alimentos,99.83,99,Filial 9,2022-12-20 03:29:53.201930\\n', 'Batom matte,EletrÃ´nicos,35.62,62,Filial 7,2023-06-22 03:29:53.201930\\n', 'MÃ¡scara de cÃ\\xadlios,EletrÃ´nicos,70.24,79,Filial 10,2023-01-13 03:29:53.201930\\n', 'PÃ³ compacto,EletrodomÃ©sticos,92.26,29,Filial 7,2023-05-10 03:29:53.201930\\n', 'LÃ¡pis de sobrancelha,EletrÃ´nicos,2.26,97,Filial 7,2022-12-26 03:29:53.201930\\n', 'PÃ³ compacto,Alimentos,81.5,81,Filial 9,2023-02-04 03:29:53.201930\\n']\n"
          ]
        }
      ],
      "source": [
        "with open(path_csv) as file:\n",
        "      print(file.readlines())"
      ]
    },
    {
      "cell_type": "code",
      "execution_count": 12,
      "metadata": {
        "colab": {
          "base_uri": "https://localhost:8080/"
        },
        "id": "Z9LtyISyV8An",
        "outputId": "e86dcd1f-774f-49b0-b692-235128220b9c"
      },
      "outputs": [
        {
          "name": "stdout",
          "output_type": "stream",
          "text": [
            "['Nome do Item,ClassificaÃ§Ã£o do Produto,Valor em Reais (R$),Quantidade em Estoque,Nome da Loja,Data da Venda\\n']\n",
            "['Base lÃ\\xadquida,Roupas,38.01,77,Filial 5,2023-04-03 03:29:53.201930\\n']\n",
            "['Base lÃ\\xadquida,Roupas,86.78,90,Filial 8,2023-03-21 03:29:53.201930\\n']\n",
            "['Base lÃ\\xadquida,EletrÃ´nicos,34.43,22,Filial 10,2023-03-02 03:29:53.201930\\n']\n",
            "['LÃ¡pis de sobrancelha,Roupas,9.4,73,Filial 9,2023-03-23 03:29:53.201930\\n']\n",
            "['LÃ¡pis de sobrancelha,Alimentos,89.25,26,Filial 4,2022-09-27 03:29:53.201930\\n']\n",
            "['Batom lÃ\\xadquido,Alimentos,3.45,32,Filial 1,2022-12-16 03:29:53.201930\\n']\n",
            "['Sombra de olhos,Alimentos,35.01,41,Filial 6,2022-08-22 03:29:53.201930\\n']\n",
            "['Base lÃ\\xadquida,EletrodomÃ©sticos,34.93,39,Filial 8,2023-05-27 03:29:53.201930\\n']\n"
          ]
        }
      ],
      "source": [
        "with open(path_csv) as file:\n",
        "    num_linhas = 10\n",
        "    for linha in range(1,num_linhas):\n",
        "      print(file.readlines(linha))"
      ]
    },
    {
      "cell_type": "markdown",
      "metadata": {
        "id": "-uBonZ0dQK_P"
      },
      "source": [
        "## csv"
      ]
    },
    {
      "cell_type": "code",
      "execution_count": 13,
      "metadata": {
        "id": "5kZxrliEICj_"
      },
      "outputs": [],
      "source": [
        "import csv"
      ]
    },
    {
      "cell_type": "code",
      "execution_count": 14,
      "metadata": {
        "colab": {
          "base_uri": "https://localhost:8080/"
        },
        "id": "CXjTs8kuQq2A",
        "outputId": "732ccf48-b54d-4942-885a-3c0e8c1a4f58"
      },
      "outputs": [
        {
          "name": "stdout",
          "output_type": "stream",
          "text": [
            "<_csv.reader object at 0x0000020FEEBD92A0>\n"
          ]
        }
      ],
      "source": [
        "with open(path_csv) as csvfile:\n",
        "    spamreader = csv.reader(csvfile, delimiter=',')\n",
        "    print(spamreader)"
      ]
    },
    {
      "cell_type": "code",
      "execution_count": 15,
      "metadata": {
        "colab": {
          "base_uri": "https://localhost:8080/"
        },
        "id": "w5fLeMg7RIG1",
        "outputId": "3ac6aad9-d6a1-4d1c-a4c9-2a1f04c9d66b"
      },
      "outputs": [
        {
          "name": "stdout",
          "output_type": "stream",
          "text": [
            "['Nome do Item', 'ClassificaÃ§Ã£o do Produto', 'Valor em Reais (R$)', 'Quantidade em Estoque', 'Nome da Loja', 'Data da Venda']\n",
            "['Base lÃ\\xadquida', 'Roupas', '38.01', '77', 'Filial 5', '2023-04-03 03:29:53.201930']\n",
            "['Base lÃ\\xadquida', 'Roupas', '86.78', '90', 'Filial 8', '2023-03-21 03:29:53.201930']\n",
            "['Base lÃ\\xadquida', 'EletrÃ´nicos', '34.43', '22', 'Filial 10', '2023-03-02 03:29:53.201930']\n",
            "['LÃ¡pis de sobrancelha', 'Roupas', '9.4', '73', 'Filial 9', '2023-03-23 03:29:53.201930']\n",
            "['LÃ¡pis de sobrancelha', 'Alimentos', '89.25', '26', 'Filial 4', '2022-09-27 03:29:53.201930']\n",
            "['Batom lÃ\\xadquido', 'Alimentos', '3.45', '32', 'Filial 1', '2022-12-16 03:29:53.201930']\n",
            "['Sombra de olhos', 'Alimentos', '35.01', '41', 'Filial 6', '2022-08-22 03:29:53.201930']\n",
            "['Base lÃ\\xadquida', 'EletrodomÃ©sticos', '34.93', '39', 'Filial 8', '2023-05-27 03:29:53.201930']\n",
            "['Corretivo', 'EletrÃ´nicos', '75.54', '79', 'Filial 1', '2022-11-07 03:29:53.201930']\n",
            "['Delineador lÃ\\xadquido', 'EletrodomÃ©sticos', '53.04', '26', 'Filial 4', '2022-10-04 03:29:53.201930']\n",
            "['Base lÃ\\xadquida', 'Roupas', '21.85', '3', 'Filial 7', '2022-09-22 03:29:53.201930']\n",
            "['MÃ¡scara de cÃ\\xadlios', 'EletrodomÃ©sticos', '25.28', '41', 'Filial 7', '2022-11-03 03:29:53.201930']\n",
            "['Delineador lÃ\\xadquido', 'Alimentos', '27.11', '10', 'Filial 8', '2023-08-07 03:29:53.201930']\n",
            "['Delineador lÃ\\xadquido', 'EletrÃ´nicos', '86.33', '64', 'Filial 9', '2022-11-13 03:29:53.201930']\n",
            "['Batom lÃ\\xadquido', 'EletrÃ´nicos', '34.32', '33', 'Filial 4', '2023-07-27 03:29:53.201930']\n",
            "['PÃ³ compacto', 'EletrodomÃ©sticos', '17.68', '43', 'Filial 6', '2023-06-13 03:29:53.201930']\n",
            "['Batom lÃ\\xadquido', 'EletrodomÃ©sticos', '66.29', '86', 'Filial 10', '2023-08-04 03:29:53.201930']\n",
            "['LÃ¡pis de sobrancelha', 'EletrÃ´nicos', '95.06', '26', 'Filial 9', '2022-12-09 03:29:53.201930']\n",
            "['Batom matte', 'EletrÃ´nicos', '3.2', '24', 'Filial 8', '2022-11-28 03:29:53.201930']\n",
            "['Base lÃ\\xadquida', 'Alimentos', '30.86', '36', 'Filial 9', '2022-12-07 03:29:53.201930']\n",
            "['MÃ¡scara de cÃ\\xadlios', 'Alimentos', '18.83', '95', 'Filial 5', '2023-01-29 03:29:53.201930']\n",
            "['Base lÃ\\xadquida', 'EletrodomÃ©sticos', '8.65', '59', 'Filial 4', '2022-10-13 03:29:53.201930']\n",
            "['PÃ³ compacto', 'EletrodomÃ©sticos', '59.39', '19', 'Filial 6', '2022-11-09 03:29:53.201930']\n",
            "['Corretivo', 'EletrÃ´nicos', '91.88', '70', 'Filial 1', '2022-12-05 03:29:53.201930']\n",
            "['Delineador lÃ\\xadquido', 'Roupas', '13.57', '28', 'Filial 6', '2022-12-06 03:29:53.201930']\n",
            "['Batom lÃ\\xadquido', 'EletrodomÃ©sticos', '51.99', '93', 'Filial 6', '2023-01-23 03:29:53.201930']\n",
            "['Blush em pÃ³', 'EletrÃ´nicos', '32.8', '30', 'Filial 10', '2023-01-18 03:29:53.201930']\n",
            "['Delineador lÃ\\xadquido', 'EletrÃ´nicos', '59.71', '14', 'Filial 9', '2023-04-02 03:29:53.201930']\n",
            "['Blush em pÃ³', 'Alimentos', '14.61', '52', 'Filial 9', '2022-12-12 03:29:53.201930']\n",
            "['Batom matte', 'EletrodomÃ©sticos', '4.63', '91', 'Filial 10', '2022-10-06 03:29:53.201930']\n",
            "['Corretivo', 'Alimentos', '50.04', '75', 'Filial 9', '2023-07-08 03:29:53.201930']\n",
            "['MÃ¡scara de cÃ\\xadlios', 'Roupas', '72.91', '73', 'Filial 2', '2023-08-11 03:29:53.201930']\n",
            "['Delineador lÃ\\xadquido', 'Alimentos', '83.93', '23', 'Filial 10', '2023-04-06 03:29:53.201930']\n",
            "['Sombra de olhos', 'EletrodomÃ©sticos', '46.45', '26', 'Filial 2', '2023-07-07 03:29:53.201930']\n",
            "['Batom lÃ\\xadquido', 'EletrÃ´nicos', '11.17', '2', 'Filial 1', '2022-12-16 03:29:53.201930']\n",
            "['Blush em pÃ³', 'Roupas', '2.09', '90', 'Filial 4', '2023-05-14 03:29:53.201930']\n",
            "['PÃ³ compacto', 'Alimentos', '11.84', '26', 'Filial 7', '2023-03-03 03:29:53.201930']\n",
            "['PÃ³ compacto', 'Roupas', '4.5', '41', 'Filial 3', '2022-11-10 03:29:53.201930']\n",
            "['Delineador lÃ\\xadquido', 'Roupas', '58.57', '87', 'Filial 6', '2023-05-14 03:29:53.201930']\n",
            "['LÃ¡pis de sobrancelha', 'Alimentos', '35.1', '43', 'Filial 7', '2022-12-25 03:29:53.201930']\n",
            "['MÃ¡scara de cÃ\\xadlios', 'EletrodomÃ©sticos', '19.49', '69', 'Filial 5', '2023-02-26 03:29:53.201930']\n",
            "['Delineador lÃ\\xadquido', 'EletrÃ´nicos', '38.15', '35', 'Filial 5', '2022-11-05 03:29:53.201930']\n",
            "['Sombra de olhos', 'Roupas', '37.89', '79', 'Filial 9', '2023-03-30 03:29:53.201930']\n",
            "['Delineador lÃ\\xadquido', 'EletrodomÃ©sticos', '30.18', '65', 'Filial 5', '2022-11-14 03:29:53.201930']\n",
            "['Batom matte', 'Alimentos', '19.74', '16', 'Filial 2', '2023-02-20 03:29:53.201930']\n",
            "['Batom lÃ\\xadquido', 'Alimentos', '80.36', '16', 'Filial 10', '2022-11-23 03:29:53.201930']\n",
            "['Sombra de olhos', 'Roupas', '55.16', '84', 'Filial 7', '2023-01-19 03:29:53.201930']\n",
            "['Batom lÃ\\xadquido', 'EletrÃ´nicos', '58.16', '44', 'Filial 8', '2022-11-04 03:29:53.201930']\n",
            "['Base lÃ\\xadquida', 'Roupas', '34.31', '49', 'Filial 10', '2022-11-16 03:29:53.201930']\n",
            "['LÃ¡pis de sobrancelha', 'EletrodomÃ©sticos', '73.15', '97', 'Filial 10', '2023-05-10 03:29:53.201930']\n",
            "['Base lÃ\\xadquida', 'EletrÃ´nicos', '21.66', '96', 'Filial 1', '2022-09-07 03:29:53.201930']\n",
            "['PÃ³ compacto', 'EletrodomÃ©sticos', '4.82', '25', 'Filial 9', '2022-12-20 03:29:53.201930']\n",
            "['Batom matte', 'Roupas', '7.77', '44', 'Filial 2', '2022-12-15 03:29:53.201930']\n",
            "['Blush em pÃ³', 'EletrodomÃ©sticos', '14.68', '44', 'Filial 9', '2022-12-01 03:29:53.201930']\n",
            "['Base lÃ\\xadquida', 'Roupas', '63.14', '85', 'Filial 3', '2023-05-18 03:29:53.201930']\n",
            "['LÃ¡pis de sobrancelha', 'Alimentos', '94.98', '12', 'Filial 9', '2023-05-19 03:29:53.201930']\n",
            "['Sombra de olhos', 'EletrodomÃ©sticos', '95.95', '34', 'Filial 7', '2023-08-04 03:29:53.201930']\n",
            "['Blush em pÃ³', 'EletrÃ´nicos', '3.15', '95', 'Filial 5', '2022-12-13 03:29:53.201930']\n",
            "['Delineador lÃ\\xadquido', 'Alimentos', '84.37', '94', 'Filial 1', '2023-06-30 03:29:53.201930']\n",
            "['PÃ³ compacto', 'EletrÃ´nicos', '1.1', '73', 'Filial 2', '2023-05-08 03:29:53.201930']\n",
            "['LÃ¡pis de sobrancelha', 'Alimentos', '97.49', '62', 'Filial 10', '2022-09-03 03:29:53.201930']\n",
            "['Delineador lÃ\\xadquido', 'Alimentos', '75.04', '74', 'Filial 4', '2023-08-10 03:29:53.201930']\n",
            "['Blush em pÃ³', 'EletrÃ´nicos', '86.51', '11', 'Filial 2', '2022-08-24 03:29:53.201930']\n",
            "['Delineador lÃ\\xadquido', 'Alimentos', '89.32', '88', 'Filial 8', '2023-07-13 03:29:53.201930']\n",
            "['MÃ¡scara de cÃ\\xadlios', 'EletrÃ´nicos', '69.54', '65', 'Filial 5', '2023-02-22 03:29:53.201930']\n",
            "['PÃ³ compacto', 'EletrodomÃ©sticos', '69.16', '40', 'Filial 8', '2023-03-09 03:29:53.201930']\n",
            "['LÃ¡pis de sobrancelha', 'EletrÃ´nicos', '70.85', '29', 'Filial 7', '2023-01-09 03:29:53.201930']\n",
            "['LÃ¡pis de sobrancelha', 'Alimentos', '71.77', '33', 'Filial 5', '2023-05-17 03:29:53.201930']\n",
            "['Corretivo', 'Roupas', '30.57', '37', 'Filial 10', '2022-10-11 03:29:53.201930']\n",
            "['Delineador lÃ\\xadquido', 'Alimentos', '44.82', '37', 'Filial 1', '2022-11-17 03:29:53.201930']\n",
            "['MÃ¡scara de cÃ\\xadlios', 'Alimentos', '4.26', '96', 'Filial 4', '2022-12-06 03:29:53.201930']\n",
            "['Corretivo', 'Roupas', '71.43', '93', 'Filial 5', '2023-01-19 03:29:53.201930']\n",
            "['Corretivo', 'Alimentos', '90.45', '27', 'Filial 4', '2022-11-24 03:29:53.201930']\n",
            "['Batom matte', 'Roupas', '26.11', '16', 'Filial 5', '2023-02-26 03:29:53.201930']\n",
            "['Batom matte', 'EletrÃ´nicos', '83.56', '48', 'Filial 9', '2023-07-07 03:29:53.201930']\n",
            "['Batom matte', 'EletrÃ´nicos', '4.89', '29', 'Filial 5', '2023-06-29 03:29:53.201930']\n",
            "['Sombra de olhos', 'Roupas', '53.48', '29', 'Filial 9', '2022-12-15 03:29:53.201930']\n",
            "['PÃ³ compacto', 'Alimentos', '24.44', '59', 'Filial 7', '2022-09-13 03:29:53.201930']\n",
            "['Base lÃ\\xadquida', 'EletrodomÃ©sticos', '55.11', '98', 'Filial 1', '2023-04-08 03:29:53.201930']\n",
            "['PÃ³ compacto', 'Roupas', '86.03', '83', 'Filial 10', '2022-10-05 03:29:53.201930']\n",
            "['Base lÃ\\xadquida', 'EletrÃ´nicos', '10.69', '86', 'Filial 4', '2023-05-09 03:29:53.201930']\n",
            "['Sombra de olhos', 'Roupas', '67.34', '90', 'Filial 3', '2022-11-11 03:29:53.201930']\n",
            "['Batom lÃ\\xadquido', 'EletrodomÃ©sticos', '57.47', '61', 'Filial 4', '2023-07-28 03:29:53.201930']\n",
            "['Blush em pÃ³', 'Alimentos', '92.73', '34', 'Filial 5', '2023-08-03 03:29:53.201930']\n",
            "['Batom matte', 'EletrÃ´nicos', '52.36', '10', 'Filial 3', '2022-10-30 03:29:53.201930']\n",
            "['Delineador lÃ\\xadquido', 'EletrodomÃ©sticos', '89.73', '19', 'Filial 8', '2023-01-18 03:29:53.201930']\n",
            "['PÃ³ compacto', 'Roupas', '23.84', '29', 'Filial 5', '2023-01-01 03:29:53.201930']\n",
            "['Base lÃ\\xadquida', 'Alimentos', '1.58', '83', 'Filial 2', '2023-07-12 03:29:53.201930']\n",
            "['Delineador lÃ\\xadquido', 'Roupas', '44.81', '91', 'Filial 9', '2023-08-01 03:29:53.201930']\n",
            "['LÃ¡pis de sobrancelha', 'EletrodomÃ©sticos', '34.73', '82', 'Filial 7', '2023-02-08 03:29:53.201930']\n",
            "['Corretivo', 'EletrodomÃ©sticos', '52.71', '24', 'Filial 7', '2023-08-16 03:29:53.201930']\n",
            "['LÃ¡pis de sobrancelha', 'Alimentos', '69.81', '57', 'Filial 6', '2022-09-12 03:29:53.201930']\n",
            "['LÃ¡pis de sobrancelha', 'Alimentos', '5.28', '54', 'Filial 5', '2023-06-09 03:29:53.201930']\n",
            "['Sombra de olhos', 'Alimentos', '6.47', '15', 'Filial 7', '2023-02-12 03:29:53.201930']\n",
            "['Batom lÃ\\xadquido', 'EletrÃ´nicos', '84.69', '18', 'Filial 3', '2023-08-12 03:29:53.201930']\n",
            "['Base lÃ\\xadquida', 'EletrodomÃ©sticos', '96.68', '1', 'Filial 2', '2022-11-19 03:29:53.201930']\n",
            "['MÃ¡scara de cÃ\\xadlios', 'EletrÃ´nicos', '20.73', '84', 'Filial 7', '2022-09-20 03:29:53.201930']\n",
            "['MÃ¡scara de cÃ\\xadlios', 'Roupas', '70.34', '62', 'Filial 4', '2022-12-04 03:29:53.201930']\n",
            "['Sombra de olhos', 'Roupas', '52.22', '98', 'Filial 2', '2023-01-10 03:29:53.201930']\n",
            "['Base lÃ\\xadquida', 'EletrÃ´nicos', '71.01', '87', 'Filial 7', '2023-01-07 03:29:53.201930']\n",
            "['Batom lÃ\\xadquido', 'EletrodomÃ©sticos', '82.19', '29', 'Filial 7', '2023-01-06 03:29:53.201930']\n",
            "['MÃ¡scara de cÃ\\xadlios', 'Alimentos', '22.11', '54', 'Filial 6', '2023-05-01 03:29:53.201930']\n",
            "['Corretivo', 'EletrodomÃ©sticos', '93.58', '100', 'Filial 4', '2023-07-25 03:29:53.201930']\n",
            "['MÃ¡scara de cÃ\\xadlios', 'Roupas', '94.22', '99', 'Filial 10', '2022-09-04 03:29:53.201930']\n",
            "['PÃ³ compacto', 'Roupas', '93.55', '97', 'Filial 8', '2022-09-04 03:29:53.201930']\n",
            "['MÃ¡scara de cÃ\\xadlios', 'EletrodomÃ©sticos', '85.84', '46', 'Filial 1', '2023-06-09 03:29:53.201930']\n",
            "['Batom matte', 'EletrodomÃ©sticos', '23.59', '76', 'Filial 7', '2023-03-05 03:29:53.201930']\n",
            "['Delineador lÃ\\xadquido', 'EletrÃ´nicos', '93.54', '54', 'Filial 3', '2022-10-04 03:29:53.201930']\n",
            "['Delineador lÃ\\xadquido', 'Alimentos', '79.04', '3', 'Filial 2', '2023-03-12 03:29:53.201930']\n",
            "['Sombra de olhos', 'Roupas', '68.13', '18', 'Filial 3', '2022-11-19 03:29:53.201930']\n",
            "['Base lÃ\\xadquida', 'EletrodomÃ©sticos', '35.69', '10', 'Filial 6', '2023-08-22 03:29:53.201930']\n",
            "['MÃ¡scara de cÃ\\xadlios', 'EletrodomÃ©sticos', '57.83', '1', 'Filial 5', '2023-08-21 03:29:53.201930']\n",
            "['Batom matte', 'Alimentos', '87.47', '74', 'Filial 5', '2023-04-06 03:29:53.201930']\n",
            "['Batom matte', 'Roupas', '6.98', '69', 'Filial 6', '2023-03-19 03:29:53.201930']\n",
            "['Blush em pÃ³', 'Alimentos', '40.53', '59', 'Filial 7', '2023-07-13 03:29:53.201930']\n",
            "['Base lÃ\\xadquida', 'Alimentos', '15.67', '1', 'Filial 5', '2023-06-22 03:29:53.201930']\n",
            "['MÃ¡scara de cÃ\\xadlios', 'Roupas', '94.87', '62', 'Filial 6', '2022-09-05 03:29:53.201930']\n",
            "['Corretivo', 'EletrÃ´nicos', '46.0', '1', 'Filial 1', '2023-05-30 03:29:53.201930']\n",
            "['Delineador lÃ\\xadquido', 'EletrodomÃ©sticos', '18.85', '5', 'Filial 10', '2022-08-26 03:29:53.201930']\n",
            "['Delineador lÃ\\xadquido', 'Roupas', '34.12', '76', 'Filial 9', '2022-09-06 03:29:53.201930']\n",
            "['Corretivo', 'Roupas', '66.07', '34', 'Filial 3', '2023-08-05 03:29:53.201930']\n",
            "['MÃ¡scara de cÃ\\xadlios', 'Alimentos', '44.72', '19', 'Filial 2', '2022-08-25 03:29:53.201930']\n",
            "['MÃ¡scara de cÃ\\xadlios', 'Alimentos', '74.79', '4', 'Filial 6', '2023-02-18 03:29:53.201930']\n",
            "['PÃ³ compacto', 'EletrÃ´nicos', '41.45', '57', 'Filial 6', '2023-06-02 03:29:53.201930']\n",
            "['Blush em pÃ³', 'Roupas', '87.5', '52', 'Filial 6', '2022-11-02 03:29:53.201930']\n",
            "['Delineador lÃ\\xadquido', 'EletrÃ´nicos', '43.15', '64', 'Filial 5', '2023-02-27 03:29:53.201930']\n",
            "['Batom lÃ\\xadquido', 'Roupas', '62.63', '56', 'Filial 8', '2023-08-21 03:29:53.201930']\n",
            "['Sombra de olhos', 'EletrÃ´nicos', '90.5', '96', 'Filial 9', '2023-08-22 03:29:53.201930']\n",
            "['Corretivo', 'EletrodomÃ©sticos', '24.45', '38', 'Filial 6', '2022-10-04 03:29:53.201930']\n",
            "['Base lÃ\\xadquida', 'Roupas', '13.55', '47', 'Filial 10', '2022-12-04 03:29:53.201930']\n",
            "['Batom matte', 'EletrÃ´nicos', '3.34', '37', 'Filial 1', '2023-05-14 03:29:53.201930']\n",
            "['Base lÃ\\xadquida', 'Alimentos', '55.25', '5', 'Filial 5', '2023-03-10 03:29:53.201930']\n",
            "['Batom matte', 'Roupas', '47.11', '1', 'Filial 2', '2023-01-10 03:29:53.201930']\n",
            "['PÃ³ compacto', 'EletrÃ´nicos', '71.26', '59', 'Filial 3', '2022-11-17 03:29:53.201930']\n",
            "['Sombra de olhos', 'Alimentos', '48.3', '66', 'Filial 5', '2023-08-06 03:29:53.201930']\n",
            "['LÃ¡pis de sobrancelha', 'Alimentos', '26.71', '13', 'Filial 9', '2023-07-16 03:29:53.201930']\n",
            "['MÃ¡scara de cÃ\\xadlios', 'EletrÃ´nicos', '9.19', '65', 'Filial 7', '2022-11-26 03:29:53.201930']\n",
            "['Base lÃ\\xadquida', 'EletrodomÃ©sticos', '24.23', '77', 'Filial 3', '2022-09-13 03:29:53.201930']\n",
            "['Batom lÃ\\xadquido', 'Alimentos', '33.24', '24', 'Filial 2', '2023-02-01 03:29:53.201930']\n",
            "['Delineador lÃ\\xadquido', 'EletrodomÃ©sticos', '67.09', '31', 'Filial 8', '2023-07-09 03:29:53.201930']\n",
            "['PÃ³ compacto', 'EletrodomÃ©sticos', '17.62', '59', 'Filial 6', '2022-11-18 03:29:53.201930']\n",
            "['Batom matte', 'EletrÃ´nicos', '49.41', '90', 'Filial 5', '2022-11-19 03:29:53.201930']\n",
            "['MÃ¡scara de cÃ\\xadlios', 'Roupas', '99.91', '48', 'Filial 1', '2023-07-26 03:29:53.201930']\n",
            "['Sombra de olhos', 'EletrÃ´nicos', '54.17', '71', 'Filial 9', '2023-06-10 03:29:53.201930']\n",
            "['Batom lÃ\\xadquido', 'Alimentos', '73.32', '15', 'Filial 10', '2023-01-28 03:29:53.201930']\n",
            "['LÃ¡pis de sobrancelha', 'EletrodomÃ©sticos', '10.7', '36', 'Filial 9', '2022-10-03 03:29:53.201930']\n",
            "['PÃ³ compacto', 'Alimentos', '20.19', '42', 'Filial 3', '2023-05-01 03:29:53.201930']\n",
            "['Sombra de olhos', 'Alimentos', '39.72', '96', 'Filial 3', '2023-03-07 03:29:53.201930']\n",
            "['Batom lÃ\\xadquido', 'Roupas', '14.61', '72', 'Filial 4', '2022-12-31 03:29:53.201930']\n",
            "['PÃ³ compacto', 'Roupas', '11.17', '42', 'Filial 9', '2023-06-08 03:29:53.201930']\n",
            "['LÃ¡pis de sobrancelha', 'Roupas', '70.27', '84', 'Filial 8', '2022-10-26 03:29:53.201930']\n",
            "['MÃ¡scara de cÃ\\xadlios', 'Roupas', '14.75', '41', 'Filial 9', '2022-11-14 03:29:53.201930']\n",
            "['Delineador lÃ\\xadquido', 'EletrÃ´nicos', '67.29', '65', 'Filial 3', '2023-06-03 03:29:53.201930']\n",
            "['PÃ³ compacto', 'EletrÃ´nicos', '76.81', '69', 'Filial 2', '2023-04-11 03:29:53.201930']\n",
            "['Delineador lÃ\\xadquido', 'Alimentos', '4.29', '40', 'Filial 7', '2022-09-29 03:29:53.201930']\n",
            "['MÃ¡scara de cÃ\\xadlios', 'Alimentos', '63.36', '94', 'Filial 6', '2022-12-02 03:29:53.201930']\n",
            "['MÃ¡scara de cÃ\\xadlios', 'EletrÃ´nicos', '69.37', '91', 'Filial 2', '2023-03-07 03:29:53.201930']\n",
            "['MÃ¡scara de cÃ\\xadlios', 'Alimentos', '55.4', '66', 'Filial 8', '2023-01-15 03:29:53.201930']\n",
            "['Batom lÃ\\xadquido', 'Alimentos', '11.69', '88', 'Filial 3', '2023-06-20 03:29:53.201930']\n",
            "['Batom matte', 'EletrodomÃ©sticos', '71.95', '68', 'Filial 2', '2022-10-06 03:29:53.201930']\n",
            "['Corretivo', 'Alimentos', '56.17', '65', 'Filial 7', '2023-05-29 03:29:53.201930']\n",
            "['Base lÃ\\xadquida', 'Roupas', '90.68', '98', 'Filial 8', '2023-01-19 03:29:53.201930']\n",
            "['Base lÃ\\xadquida', 'EletrÃ´nicos', '88.22', '57', 'Filial 4', '2023-01-27 03:29:53.201930']\n",
            "['Base lÃ\\xadquida', 'Alimentos', '28.88', '79', 'Filial 5', '2023-05-12 03:29:53.201930']\n",
            "['LÃ¡pis de sobrancelha', 'Alimentos', '55.56', '38', 'Filial 2', '2022-10-13 03:29:53.201930']\n",
            "['Corretivo', 'EletrÃ´nicos', '33.45', '78', 'Filial 2', '2023-01-05 03:29:53.201930']\n",
            "['LÃ¡pis de sobrancelha', 'EletrodomÃ©sticos', '62.96', '76', 'Filial 8', '2022-09-05 03:29:53.201930']\n",
            "['Base lÃ\\xadquida', 'Roupas', '79.71', '68', 'Filial 2', '2023-04-21 03:29:53.201930']\n",
            "['Corretivo', 'Alimentos', '58.32', '39', 'Filial 10', '2023-06-29 03:29:53.201930']\n",
            "['Delineador lÃ\\xadquido', 'Alimentos', '59.25', '67', 'Filial 2', '2022-12-07 03:29:53.201930']\n",
            "['Sombra de olhos', 'Alimentos', '21.62', '40', 'Filial 7', '2022-09-20 03:29:53.201930']\n",
            "['Sombra de olhos', 'EletrÃ´nicos', '31.81', '83', 'Filial 10', '2023-01-26 03:29:53.201930']\n",
            "['Corretivo', 'EletrodomÃ©sticos', '47.83', '29', 'Filial 8', '2022-10-26 03:29:53.201930']\n",
            "['Sombra de olhos', 'EletrodomÃ©sticos', '55.15', '33', 'Filial 2', '2023-08-17 03:29:53.201930']\n",
            "['Delineador lÃ\\xadquido', 'EletrÃ´nicos', '44.54', '15', 'Filial 9', '2022-12-13 03:29:53.201930']\n",
            "['Delineador lÃ\\xadquido', 'Alimentos', '62.52', '77', 'Filial 10', '2023-05-06 03:29:53.201930']\n",
            "['Batom lÃ\\xadquido', 'EletrodomÃ©sticos', '36.12', '6', 'Filial 10', '2023-05-14 03:29:53.201930']\n",
            "['PÃ³ compacto', 'Alimentos', '78.49', '26', 'Filial 8', '2022-11-25 03:29:53.201930']\n",
            "['PÃ³ compacto', 'EletrÃ´nicos', '66.47', '66', 'Filial 8', '2023-02-06 03:29:53.201930']\n",
            "['Delineador lÃ\\xadquido', 'EletrodomÃ©sticos', '37.53', '12', 'Filial 7', '2022-12-07 03:29:53.201930']\n",
            "['LÃ¡pis de sobrancelha', 'Roupas', '96.94', '69', 'Filial 3', '2022-10-06 03:29:53.201930']\n",
            "['Delineador lÃ\\xadquido', 'Alimentos', '66.64', '74', 'Filial 3', '2022-09-23 03:29:53.201930']\n",
            "['PÃ³ compacto', 'Roupas', '25.25', '81', 'Filial 2', '2023-01-11 03:29:53.201930']\n",
            "['PÃ³ compacto', 'EletrodomÃ©sticos', '72.06', '58', 'Filial 4', '2022-11-26 03:29:53.201930']\n",
            "['Sombra de olhos', 'Roupas', '15.32', '33', 'Filial 6', '2022-12-08 03:29:53.201930']\n",
            "['Batom lÃ\\xadquido', 'Alimentos', '32.04', '72', 'Filial 7', '2023-03-09 03:29:53.201930']\n",
            "['Delineador lÃ\\xadquido', 'Roupas', '38.25', '37', 'Filial 4', '2023-07-14 03:29:53.201930']\n",
            "['Base lÃ\\xadquida', 'EletrodomÃ©sticos', '20.73', '94', 'Filial 1', '2023-06-27 03:29:53.201930']\n",
            "['Batom lÃ\\xadquido', 'Alimentos', '44.22', '92', 'Filial 9', '2023-03-19 03:29:53.201930']\n",
            "['Base lÃ\\xadquida', 'Alimentos', '24.72', '7', 'Filial 5', '2022-09-22 03:29:53.201930']\n",
            "['Corretivo', 'EletrÃ´nicos', '75.25', '14', 'Filial 10', '2022-12-31 03:29:53.201930']\n",
            "['Base lÃ\\xadquida', 'Alimentos', '76.06', '31', 'Filial 10', '2023-01-16 03:29:53.201930']\n",
            "['Delineador lÃ\\xadquido', 'EletrodomÃ©sticos', '51.7', '30', 'Filial 9', '2023-05-08 03:29:53.201930']\n",
            "['MÃ¡scara de cÃ\\xadlios', 'Alimentos', '48.24', '1', 'Filial 5', '2022-12-07 03:29:53.201930']\n",
            "['LÃ¡pis de sobrancelha', 'Alimentos', '38.69', '74', 'Filial 10', '2023-04-02 03:29:53.201930']\n",
            "['Batom matte', 'EletrÃ´nicos', '28.38', '72', 'Filial 6', '2023-02-09 03:29:53.201930']\n",
            "['Delineador lÃ\\xadquido', 'Roupas', '56.32', '91', 'Filial 8', '2023-07-23 03:29:53.201930']\n",
            "['Corretivo', 'EletrÃ´nicos', '58.44', '40', 'Filial 4', '2022-10-03 03:29:53.201930']\n",
            "['Base lÃ\\xadquida', 'EletrÃ´nicos', '28.55', '70', 'Filial 10', '2023-06-15 03:29:53.201930']\n",
            "['PÃ³ compacto', 'EletrodomÃ©sticos', '79.51', '4', 'Filial 10', '2022-10-04 03:29:53.201930']\n",
            "['Batom matte', 'EletrodomÃ©sticos', '66.08', '58', 'Filial 10', '2022-08-29 03:29:53.201930']\n",
            "['PÃ³ compacto', 'EletrÃ´nicos', '56.37', '43', 'Filial 6', '2023-02-01 03:29:53.201930']\n",
            "['Delineador lÃ\\xadquido', 'Alimentos', '17.69', '60', 'Filial 9', '2023-02-05 03:29:53.201930']\n",
            "['Base lÃ\\xadquida', 'Roupas', '39.95', '29', 'Filial 4', '2023-06-01 03:29:53.201930']\n",
            "['MÃ¡scara de cÃ\\xadlios', 'Alimentos', '21.74', '86', 'Filial 3', '2022-12-02 03:29:53.201930']\n",
            "['Sombra de olhos', 'Alimentos', '64.75', '64', 'Filial 10', '2023-06-05 03:29:53.201930']\n",
            "['Base lÃ\\xadquida', 'EletrÃ´nicos', '96.49', '60', 'Filial 10', '2023-04-12 03:29:53.201930']\n",
            "['Sombra de olhos', 'Alimentos', '45.09', '18', 'Filial 9', '2023-03-28 03:29:53.201930']\n",
            "['Blush em pÃ³', 'Roupas', '55.7', '46', 'Filial 1', '2023-08-09 03:29:53.201930']\n",
            "['Sombra de olhos', 'EletrodomÃ©sticos', '87.02', '71', 'Filial 10', '2023-06-24 03:29:53.201930']\n",
            "['Blush em pÃ³', 'EletrÃ´nicos', '27.49', '11', 'Filial 2', '2023-07-13 03:29:53.201930']\n",
            "['Sombra de olhos', 'EletrÃ´nicos', '6.26', '84', 'Filial 4', '2022-09-06 03:29:53.201930']\n",
            "['Sombra de olhos', 'Alimentos', '78.08', '88', 'Filial 8', '2022-09-15 03:29:53.201930']\n",
            "['Corretivo', 'EletrodomÃ©sticos', '4.7', '43', 'Filial 8', '2022-12-20 03:29:53.201930']\n",
            "['Sombra de olhos', 'Roupas', '13.57', '55', 'Filial 4', '2023-02-06 03:29:53.201930']\n",
            "['MÃ¡scara de cÃ\\xadlios', 'EletrÃ´nicos', '5.58', '57', 'Filial 3', '2023-07-17 03:29:53.201930']\n",
            "['MÃ¡scara de cÃ\\xadlios', 'Alimentos', '75.26', '17', 'Filial 4', '2022-12-13 03:29:53.201930']\n",
            "['MÃ¡scara de cÃ\\xadlios', 'Alimentos', '51.01', '53', 'Filial 8', '2023-04-25 03:29:53.201930']\n",
            "['LÃ¡pis de sobrancelha', 'Alimentos', '81.5', '22', 'Filial 9', '2023-07-30 03:29:53.201930']\n",
            "['MÃ¡scara de cÃ\\xadlios', 'Alimentos', '10.85', '79', 'Filial 1', '2022-12-21 03:29:53.201930']\n",
            "['Base lÃ\\xadquida', 'Alimentos', '60.7', '87', 'Filial 7', '2023-05-29 03:29:53.201930']\n",
            "['Corretivo', 'Alimentos', '72.19', '74', 'Filial 6', '2023-05-12 03:29:53.201930']\n",
            "['MÃ¡scara de cÃ\\xadlios', 'Alimentos', '14.64', '66', 'Filial 7', '2022-10-30 03:29:53.201930']\n",
            "['Corretivo', 'EletrÃ´nicos', '44.59', '67', 'Filial 4', '2023-06-04 03:29:53.201930']\n",
            "['Batom matte', 'EletrodomÃ©sticos', '84.31', '99', 'Filial 7', '2022-09-24 03:29:53.201930']\n",
            "['Sombra de olhos', 'EletrÃ´nicos', '71.43', '48', 'Filial 7', '2022-12-01 03:29:53.201930']\n",
            "['MÃ¡scara de cÃ\\xadlios', 'Alimentos', '13.35', '3', 'Filial 10', '2023-03-02 03:29:53.201930']\n",
            "['Batom matte', 'EletrodomÃ©sticos', '66.54', '88', 'Filial 7', '2023-02-16 03:29:53.201930']\n",
            "['LÃ¡pis de sobrancelha', 'Alimentos', '79.94', '22', 'Filial 6', '2022-10-13 03:29:53.201930']\n",
            "['Sombra de olhos', 'Alimentos', '2.01', '22', 'Filial 8', '2023-04-29 03:29:53.201930']\n",
            "['PÃ³ compacto', 'Roupas', '80.91', '18', 'Filial 2', '2022-08-30 03:29:53.201930']\n",
            "['PÃ³ compacto', 'Roupas', '29.34', '29', 'Filial 7', '2023-04-28 03:29:53.201930']\n",
            "['Base lÃ\\xadquida', 'EletrÃ´nicos', '77.64', '63', 'Filial 10', '2022-09-30 03:29:53.201930']\n",
            "['Batom matte', 'EletrodomÃ©sticos', '51.89', '35', 'Filial 1', '2023-02-14 03:29:53.201930']\n",
            "['Blush em pÃ³', 'Roupas', '24.84', '33', 'Filial 9', '2023-04-30 03:29:53.201930']\n",
            "['Blush em pÃ³', 'Roupas', '97.02', '48', 'Filial 9', '2023-04-18 03:29:53.201930']\n",
            "['Batom lÃ\\xadquido', 'EletrodomÃ©sticos', '13.47', '71', 'Filial 6', '2023-01-10 03:29:53.201930']\n",
            "['Batom lÃ\\xadquido', 'EletrodomÃ©sticos', '47.67', '70', 'Filial 9', '2022-12-25 03:29:53.201930']\n",
            "['PÃ³ compacto', 'Roupas', '25.98', '98', 'Filial 6', '2022-10-05 03:29:53.201930']\n",
            "['Batom lÃ\\xadquido', 'Alimentos', '2.51', '96', 'Filial 10', '2023-05-02 03:29:53.201930']\n",
            "['MÃ¡scara de cÃ\\xadlios', 'EletrodomÃ©sticos', '13.98', '57', 'Filial 8', '2023-08-17 03:29:53.201930']\n",
            "['Base lÃ\\xadquida', 'EletrÃ´nicos', '40.49', '55', 'Filial 9', '2022-12-05 03:29:53.201930']\n",
            "['Blush em pÃ³', 'Alimentos', '30.93', '57', 'Filial 2', '2023-03-14 03:29:53.201930']\n",
            "['Batom lÃ\\xadquido', 'EletrÃ´nicos', '83.85', '45', 'Filial 4', '2023-01-19 03:29:53.201930']\n",
            "['Batom lÃ\\xadquido', 'EletrodomÃ©sticos', '64.83', '83', 'Filial 9', '2022-12-30 03:29:53.201930']\n",
            "['Sombra de olhos', 'Alimentos', '95.95', '96', 'Filial 10', '2023-03-01 03:29:53.201930']\n",
            "['Delineador lÃ\\xadquido', 'EletrÃ´nicos', '5.25', '9', 'Filial 2', '2022-08-26 03:29:53.201930']\n",
            "['Batom matte', 'EletrÃ´nicos', '90.94', '7', 'Filial 9', '2022-11-20 03:29:53.201930']\n",
            "['LÃ¡pis de sobrancelha', 'EletrodomÃ©sticos', '65.59', '84', 'Filial 2', '2022-09-21 03:29:53.201930']\n",
            "['Blush em pÃ³', 'EletrÃ´nicos', '9.65', '58', 'Filial 10', '2022-10-26 03:29:53.201930']\n",
            "['Blush em pÃ³', 'Roupas', '25.12', '1', 'Filial 5', '2023-04-13 03:29:53.201930']\n",
            "['MÃ¡scara de cÃ\\xadlios', 'EletrodomÃ©sticos', '97.24', '35', 'Filial 10', '2022-11-17 03:29:53.201930']\n",
            "['Batom matte', 'Alimentos', '57.78', '60', 'Filial 5', '2022-10-22 03:29:53.201930']\n",
            "['Batom lÃ\\xadquido', 'Alimentos', '27.2', '84', 'Filial 7', '2023-05-21 03:29:53.201930']\n",
            "['Blush em pÃ³', 'EletrodomÃ©sticos', '59.2', '97', 'Filial 7', '2023-07-03 03:29:53.201930']\n",
            "['Blush em pÃ³', 'EletrodomÃ©sticos', '47.84', '64', 'Filial 9', '2022-08-31 03:29:53.201930']\n",
            "['Sombra de olhos', 'Roupas', '95.01', '37', 'Filial 9', '2022-12-11 03:29:53.201930']\n",
            "['MÃ¡scara de cÃ\\xadlios', 'Roupas', '20.64', '20', 'Filial 3', '2023-08-01 03:29:53.201930']\n",
            "['Sombra de olhos', 'EletrÃ´nicos', '17.69', '1', 'Filial 5', '2023-04-25 03:29:53.201930']\n",
            "['PÃ³ compacto', 'EletrÃ´nicos', '79.1', '97', 'Filial 8', '2023-05-28 03:29:53.201930']\n",
            "['Batom matte', 'Alimentos', '52.4', '43', 'Filial 5', '2023-03-27 03:29:53.201930']\n",
            "['PÃ³ compacto', 'EletrÃ´nicos', '33.49', '87', 'Filial 1', '2022-11-22 03:29:53.201930']\n",
            "['Batom matte', 'Alimentos', '94.37', '82', 'Filial 7', '2023-05-23 03:29:53.201930']\n",
            "['Batom matte', 'EletrÃ´nicos', '49.78', '72', 'Filial 7', '2022-10-20 03:29:53.201930']\n",
            "['Batom matte', 'EletrÃ´nicos', '95.42', '57', 'Filial 4', '2022-10-15 03:29:53.201930']\n",
            "['Batom matte', 'EletrodomÃ©sticos', '13.9', '56', 'Filial 8', '2023-03-01 03:29:53.201930']\n",
            "['MÃ¡scara de cÃ\\xadlios', 'Alimentos', '64.49', '100', 'Filial 10', '2023-07-26 03:29:53.201930']\n",
            "['Batom matte', 'EletrÃ´nicos', '69.6', '13', 'Filial 1', '2022-11-02 03:29:53.201930']\n",
            "['LÃ¡pis de sobrancelha', 'Alimentos', '26.09', '54', 'Filial 9', '2022-10-17 03:29:53.201930']\n",
            "['Batom lÃ\\xadquido', 'EletrÃ´nicos', '36.34', '48', 'Filial 1', '2023-02-18 03:29:53.201930']\n",
            "['Batom lÃ\\xadquido', 'EletrodomÃ©sticos', '50.95', '85', 'Filial 7', '2022-11-15 03:29:53.201930']\n",
            "['Blush em pÃ³', 'EletrodomÃ©sticos', '72.26', '35', 'Filial 5', '2022-12-24 03:29:53.201930']\n",
            "['Blush em pÃ³', 'Alimentos', '64.59', '86', 'Filial 7', '2023-05-23 03:29:53.201930']\n",
            "['Blush em pÃ³', 'EletrodomÃ©sticos', '1.3', '53', 'Filial 10', '2022-11-11 03:29:53.201930']\n",
            "['LÃ¡pis de sobrancelha', 'EletrÃ´nicos', '81.85', '87', 'Filial 9', '2023-07-20 03:29:53.201930']\n",
            "['Base lÃ\\xadquida', 'Alimentos', '73.51', '55', 'Filial 4', '2023-07-06 03:29:53.201930']\n",
            "['Sombra de olhos', 'EletrodomÃ©sticos', '73.32', '62', 'Filial 3', '2023-07-18 03:29:53.201930']\n",
            "['Base lÃ\\xadquida', 'EletrodomÃ©sticos', '23.64', '78', 'Filial 1', '2023-05-18 03:29:53.201930']\n",
            "['LÃ¡pis de sobrancelha', 'EletrodomÃ©sticos', '80.39', '36', 'Filial 10', '2022-12-21 03:29:53.201930']\n",
            "['MÃ¡scara de cÃ\\xadlios', 'EletrodomÃ©sticos', '52.21', '67', 'Filial 10', '2022-11-23 03:29:53.201930']\n",
            "['Base lÃ\\xadquida', 'Alimentos', '25.37', '80', 'Filial 5', '2022-09-03 03:29:53.201930']\n",
            "['Corretivo', 'EletrÃ´nicos', '70.28', '93', 'Filial 4', '2023-05-01 03:29:53.201930']\n",
            "['LÃ¡pis de sobrancelha', 'Roupas', '27.82', '91', 'Filial 5', '2022-12-11 03:29:53.201930']\n",
            "['MÃ¡scara de cÃ\\xadlios', 'Alimentos', '64.38', '9', 'Filial 4', '2023-02-25 03:29:53.201930']\n",
            "['Base lÃ\\xadquida', 'EletrodomÃ©sticos', '77.71', '47', 'Filial 5', '2023-03-27 03:29:53.201930']\n",
            "['Blush em pÃ³', 'Roupas', '7.93', '74', 'Filial 4', '2023-06-04 03:29:53.201930']\n",
            "['Base lÃ\\xadquida', 'EletrÃ´nicos', '11.4', '17', 'Filial 2', '2023-05-18 03:29:53.201930']\n",
            "['Delineador lÃ\\xadquido', 'Alimentos', '33.88', '44', 'Filial 7', '2022-09-16 03:29:53.201930']\n",
            "['Batom lÃ\\xadquido', 'Alimentos', '31.52', '37', 'Filial 6', '2022-09-28 03:29:53.201930']\n",
            "['Blush em pÃ³', 'Alimentos', '87.81', '19', 'Filial 1', '2022-12-31 03:29:53.201930']\n",
            "['Batom matte', 'Alimentos', '11.89', '98', 'Filial 7', '2023-08-08 03:29:53.201930']\n",
            "['Batom lÃ\\xadquido', 'Alimentos', '82.78', '45', 'Filial 4', '2023-06-16 03:29:53.201930']\n",
            "['PÃ³ compacto', 'EletrÃ´nicos', '1.42', '29', 'Filial 2', '2023-01-06 03:29:53.201930']\n",
            "['Blush em pÃ³', 'Alimentos', '3.26', '44', 'Filial 3', '2023-07-09 03:29:53.201930']\n",
            "['MÃ¡scara de cÃ\\xadlios', 'Alimentos', '16.95', '42', 'Filial 1', '2023-04-17 03:29:53.201930']\n",
            "['Batom matte', 'EletrodomÃ©sticos', '22.43', '31', 'Filial 5', '2022-12-20 03:29:53.201930']\n",
            "['Blush em pÃ³', 'EletrÃ´nicos', '77.14', '97', 'Filial 10', '2023-02-14 03:29:53.201930']\n",
            "['MÃ¡scara de cÃ\\xadlios', 'Alimentos', '57.26', '69', 'Filial 8', '2022-10-05 03:29:53.201930']\n",
            "['Batom matte', 'EletrodomÃ©sticos', '33.46', '18', 'Filial 5', '2023-01-23 03:29:53.201930']\n",
            "['Batom matte', 'EletrÃ´nicos', '31.73', '73', 'Filial 3', '2022-10-28 03:29:53.201930']\n",
            "['Blush em pÃ³', 'Alimentos', '44.15', '100', 'Filial 6', '2023-07-13 03:29:53.201930']\n",
            "['Corretivo', 'EletrÃ´nicos', '53.88', '30', 'Filial 5', '2022-10-04 03:29:53.201930']\n",
            "['Blush em pÃ³', 'Alimentos', '39.43', '2', 'Filial 5', '2022-11-24 03:29:53.201930']\n",
            "['LÃ¡pis de sobrancelha', 'EletrodomÃ©sticos', '23.43', '65', 'Filial 9', '2023-08-10 03:29:53.201930']\n",
            "['Blush em pÃ³', 'Roupas', '59.51', '91', 'Filial 8', '2023-03-29 03:29:53.201930']\n",
            "['LÃ¡pis de sobrancelha', 'Roupas', '20.62', '79', 'Filial 7', '2022-11-26 03:29:53.201930']\n",
            "['Sombra de olhos', 'EletrÃ´nicos', '37.01', '26', 'Filial 7', '2023-02-28 03:29:53.201930']\n",
            "['LÃ¡pis de sobrancelha', 'EletrodomÃ©sticos', '3.11', '3', 'Filial 2', '2023-05-26 03:29:53.201930']\n",
            "['MÃ¡scara de cÃ\\xadlios', 'EletrÃ´nicos', '76.93', '76', 'Filial 1', '2022-09-06 03:29:53.201930']\n",
            "['Batom matte', 'EletrÃ´nicos', '68.12', '68', 'Filial 7', '2023-02-17 03:29:53.201930']\n",
            "['Base lÃ\\xadquida', 'Roupas', '28.17', '88', 'Filial 9', '2023-05-26 03:29:53.201930']\n",
            "['Blush em pÃ³', 'Alimentos', '63.72', '57', 'Filial 2', '2023-01-21 03:29:53.201930']\n",
            "['Corretivo', 'Roupas', '78.2', '38', 'Filial 2', '2023-05-26 03:29:53.201930']\n",
            "['Sombra de olhos', 'Alimentos', '53.32', '54', 'Filial 10', '2022-09-09 03:29:53.201930']\n",
            "['Sombra de olhos', 'EletrodomÃ©sticos', '42.47', '87', 'Filial 3', '2023-04-26 03:29:53.201930']\n",
            "['LÃ¡pis de sobrancelha', 'EletrodomÃ©sticos', '88.94', '21', 'Filial 3', '2022-08-24 03:29:53.201930']\n",
            "['Batom lÃ\\xadquido', 'EletrÃ´nicos', '97.02', '40', 'Filial 5', '2022-10-21 03:29:53.201930']\n",
            "['MÃ¡scara de cÃ\\xadlios', 'Alimentos', '48.21', '62', 'Filial 10', '2022-11-19 03:29:53.201930']\n",
            "['Delineador lÃ\\xadquido', 'Alimentos', '71.25', '39', 'Filial 10', '2022-10-28 03:29:53.201930']\n",
            "['Sombra de olhos', 'Alimentos', '85.97', '25', 'Filial 3', '2023-05-28 03:29:53.201930']\n",
            "['Batom matte', 'EletrÃ´nicos', '97.59', '85', 'Filial 7', '2023-06-21 03:29:53.201930']\n",
            "['Sombra de olhos', 'EletrodomÃ©sticos', '94.19', '40', 'Filial 5', '2023-04-13 03:29:53.201930']\n",
            "['LÃ¡pis de sobrancelha', 'EletrodomÃ©sticos', '49.4', '32', 'Filial 7', '2023-02-28 03:29:53.201930']\n",
            "['Sombra de olhos', 'Roupas', '19.12', '12', 'Filial 8', '2023-05-02 03:29:53.201930']\n",
            "['Sombra de olhos', 'Roupas', '33.01', '15', 'Filial 8', '2023-05-27 03:29:53.201930']\n",
            "['PÃ³ compacto', 'EletrÃ´nicos', '60.55', '56', 'Filial 6', '2023-01-30 03:29:53.201930']\n",
            "['Sombra de olhos', 'Roupas', '80.55', '48', 'Filial 1', '2023-01-09 03:29:53.201930']\n",
            "['Sombra de olhos', 'EletrodomÃ©sticos', '65.57', '98', 'Filial 6', '2023-02-04 03:29:53.201930']\n",
            "['MÃ¡scara de cÃ\\xadlios', 'EletrodomÃ©sticos', '50.72', '66', 'Filial 4', '2023-08-07 03:29:53.201930']\n",
            "['Corretivo', 'EletrodomÃ©sticos', '3.97', '23', 'Filial 6', '2023-01-21 03:29:53.201930']\n",
            "['MÃ¡scara de cÃ\\xadlios', 'EletrÃ´nicos', '97.04', '55', 'Filial 6', '2022-12-17 03:29:53.201930']\n",
            "['MÃ¡scara de cÃ\\xadlios', 'Roupas', '54.48', '10', 'Filial 9', '2022-11-28 03:29:53.201930']\n",
            "['Base lÃ\\xadquida', 'EletrodomÃ©sticos', '30.42', '98', 'Filial 6', '2022-11-27 03:29:53.201930']\n",
            "['MÃ¡scara de cÃ\\xadlios', 'EletrodomÃ©sticos', '70.3', '31', 'Filial 3', '2023-06-08 03:29:53.201930']\n",
            "['PÃ³ compacto', 'Roupas', '43.75', '94', 'Filial 7', '2023-08-01 03:29:53.201930']\n",
            "['Blush em pÃ³', 'EletrodomÃ©sticos', '14.78', '24', 'Filial 2', '2023-07-19 03:29:53.201930']\n",
            "['Base lÃ\\xadquida', 'EletrÃ´nicos', '78.35', '57', 'Filial 8', '2022-10-28 03:29:53.201930']\n",
            "['PÃ³ compacto', 'Alimentos', '11.1', '42', 'Filial 4', '2022-09-12 03:29:53.201930']\n",
            "['LÃ¡pis de sobrancelha', 'Roupas', '61.93', '4', 'Filial 1', '2023-02-17 03:29:53.201930']\n",
            "['LÃ¡pis de sobrancelha', 'Alimentos', '7.51', '17', 'Filial 7', '2022-11-21 03:29:53.201930']\n",
            "['Batom lÃ\\xadquido', 'EletrÃ´nicos', '31.49', '12', 'Filial 5', '2022-10-03 03:29:53.201930']\n",
            "['Delineador lÃ\\xadquido', 'EletrÃ´nicos', '69.94', '21', 'Filial 2', '2023-01-03 03:29:53.201930']\n",
            "['Corretivo', 'Alimentos', '13.72', '84', 'Filial 9', '2023-01-27 03:29:53.201930']\n",
            "['MÃ¡scara de cÃ\\xadlios', 'Alimentos', '20.34', '36', 'Filial 1', '2022-11-26 03:29:53.201930']\n",
            "['LÃ¡pis de sobrancelha', 'Roupas', '77.92', '1', 'Filial 1', '2023-08-17 03:29:53.201930']\n",
            "['Delineador lÃ\\xadquido', 'EletrÃ´nicos', '17.4', '100', 'Filial 9', '2022-09-13 03:29:53.201930']\n",
            "['Sombra de olhos', 'EletrodomÃ©sticos', '17.88', '28', 'Filial 1', '2023-05-02 03:29:53.201930']\n",
            "['Blush em pÃ³', 'EletrÃ´nicos', '99.37', '28', 'Filial 2', '2022-09-16 03:29:53.201930']\n",
            "['Corretivo', 'Roupas', '62.86', '11', 'Filial 8', '2022-10-22 03:29:53.201930']\n",
            "['Base lÃ\\xadquida', 'Roupas', '95.77', '15', 'Filial 4', '2023-04-08 03:29:53.201930']\n",
            "['Corretivo', 'EletrodomÃ©sticos', '67.56', '34', 'Filial 10', '2023-01-13 03:29:53.201930']\n",
            "['Blush em pÃ³', 'EletrodomÃ©sticos', '1.28', '58', 'Filial 8', '2022-10-15 03:29:53.201930']\n",
            "['Blush em pÃ³', 'EletrÃ´nicos', '35.28', '13', 'Filial 4', '2023-07-24 03:29:53.201930']\n",
            "['Corretivo', 'Alimentos', '9.06', '58', 'Filial 3', '2022-11-13 03:29:53.201930']\n",
            "['Blush em pÃ³', 'EletrodomÃ©sticos', '3.25', '50', 'Filial 5', '2022-09-14 03:29:53.201930']\n",
            "['Delineador lÃ\\xadquido', 'EletrÃ´nicos', '92.07', '83', 'Filial 4', '2023-04-17 03:29:53.201930']\n",
            "['Batom matte', 'EletrodomÃ©sticos', '72.71', '22', 'Filial 8', '2022-08-29 03:29:53.201930']\n",
            "['Blush em pÃ³', 'EletrÃ´nicos', '90.0', '72', 'Filial 4', '2023-06-07 03:29:53.201930']\n",
            "['Delineador lÃ\\xadquido', 'Roupas', '68.95', '21', 'Filial 8', '2022-08-24 03:29:53.201930']\n",
            "['Corretivo', 'Roupas', '50.17', '95', 'Filial 10', '2023-06-29 03:29:53.201930']\n",
            "['Corretivo', 'Alimentos', '28.62', '67', 'Filial 1', '2023-05-30 03:29:53.201930']\n",
            "['PÃ³ compacto', 'EletrodomÃ©sticos', '59.79', '71', 'Filial 1', '2023-01-05 03:29:53.201930']\n",
            "['LÃ¡pis de sobrancelha', 'EletrodomÃ©sticos', '42.19', '43', 'Filial 10', '2023-06-25 03:29:53.201930']\n",
            "['PÃ³ compacto', 'EletrÃ´nicos', '85.49', '88', 'Filial 8', '2023-06-21 03:29:53.201930']\n",
            "['LÃ¡pis de sobrancelha', 'Roupas', '35.87', '54', 'Filial 1', '2023-05-16 03:29:53.201930']\n",
            "['LÃ¡pis de sobrancelha', 'EletrÃ´nicos', '5.4', '94', 'Filial 5', '2023-05-28 03:29:53.201930']\n",
            "['Batom matte', 'Alimentos', '23.22', '2', 'Filial 1', '2022-10-19 03:29:53.201930']\n",
            "['Delineador lÃ\\xadquido', 'EletrÃ´nicos', '45.72', '85', 'Filial 8', '2022-12-07 03:29:53.201930']\n",
            "['MÃ¡scara de cÃ\\xadlios', 'EletrodomÃ©sticos', '46.93', '58', 'Filial 6', '2022-09-15 03:29:53.201930']\n",
            "['Sombra de olhos', 'EletrodomÃ©sticos', '56.52', '34', 'Filial 8', '2023-02-25 03:29:53.201930']\n",
            "['LÃ¡pis de sobrancelha', 'EletrodomÃ©sticos', '41.01', '23', 'Filial 5', '2022-12-28 03:29:53.201930']\n",
            "['Delineador lÃ\\xadquido', 'EletrodomÃ©sticos', '49.46', '85', 'Filial 8', '2022-11-24 03:29:53.201930']\n",
            "['Batom matte', 'EletrÃ´nicos', '66.43', '10', 'Filial 9', '2023-08-11 03:29:53.201930']\n",
            "['Delineador lÃ\\xadquido', 'Alimentos', '29.32', '90', 'Filial 10', '2022-10-24 03:29:53.201930']\n",
            "['LÃ¡pis de sobrancelha', 'Roupas', '40.45', '100', 'Filial 8', '2022-11-01 03:29:53.201930']\n",
            "['PÃ³ compacto', 'EletrÃ´nicos', '36.5', '67', 'Filial 5', '2023-07-11 03:29:53.201930']\n",
            "['MÃ¡scara de cÃ\\xadlios', 'Alimentos', '52.99', '11', 'Filial 5', '2023-05-04 03:29:53.201930']\n",
            "['PÃ³ compacto', 'EletrodomÃ©sticos', '74.17', '50', 'Filial 3', '2023-04-12 03:29:53.201930']\n",
            "['Sombra de olhos', 'Alimentos', '66.97', '6', 'Filial 4', '2023-04-23 03:29:53.201930']\n",
            "['MÃ¡scara de cÃ\\xadlios', 'EletrÃ´nicos', '95.9', '77', 'Filial 3', '2023-02-27 03:29:53.201930']\n",
            "['MÃ¡scara de cÃ\\xadlios', 'EletrodomÃ©sticos', '71.37', '98', 'Filial 6', '2023-03-12 03:29:53.201930']\n",
            "['Corretivo', 'Roupas', '89.63', '97', 'Filial 5', '2023-06-07 03:29:53.201930']\n",
            "['Batom matte', 'Alimentos', '31.18', '97', 'Filial 5', '2023-06-19 03:29:53.201930']\n",
            "['Batom lÃ\\xadquido', 'Alimentos', '23.22', '56', 'Filial 8', '2022-11-19 03:29:53.201930']\n",
            "['Delineador lÃ\\xadquido', 'EletrodomÃ©sticos', '42.26', '78', 'Filial 10', '2023-04-16 03:29:53.201930']\n",
            "['Batom matte', 'Roupas', '9.38', '25', 'Filial 8', '2022-09-04 03:29:53.201930']\n",
            "['LÃ¡pis de sobrancelha', 'EletrodomÃ©sticos', '64.76', '80', 'Filial 2', '2023-01-28 03:29:53.201930']\n",
            "['Delineador lÃ\\xadquido', 'Alimentos', '64.75', '41', 'Filial 3', '2023-06-17 03:29:53.201930']\n",
            "['Blush em pÃ³', 'Alimentos', '46.02', '15', 'Filial 5', '2023-07-01 03:29:53.201930']\n",
            "['PÃ³ compacto', 'Roupas', '98.55', '68', 'Filial 2', '2023-07-08 03:29:53.201930']\n",
            "['PÃ³ compacto', 'EletrodomÃ©sticos', '64.72', '26', 'Filial 3', '2023-04-02 03:29:53.201930']\n",
            "['Batom matte', 'EletrodomÃ©sticos', '94.95', '96', 'Filial 8', '2022-10-18 03:29:53.201930']\n",
            "['PÃ³ compacto', 'Roupas', '40.11', '34', 'Filial 6', '2023-06-08 03:29:53.201930']\n",
            "['Blush em pÃ³', 'Alimentos', '71.44', '36', 'Filial 1', '2023-07-24 03:29:53.201930']\n",
            "['LÃ¡pis de sobrancelha', 'Alimentos', '9.54', '53', 'Filial 8', '2023-05-11 03:29:53.201930']\n",
            "['Base lÃ\\xadquida', 'EletrodomÃ©sticos', '14.67', '45', 'Filial 1', '2022-09-21 03:29:53.201930']\n",
            "['LÃ¡pis de sobrancelha', 'Alimentos', '44.03', '97', 'Filial 3', '2023-07-25 03:29:53.201930']\n",
            "['Batom lÃ\\xadquido', 'EletrodomÃ©sticos', '12.86', '22', 'Filial 9', '2023-06-17 03:29:53.201930']\n",
            "['Batom matte', 'EletrÃ´nicos', '32.67', '55', 'Filial 1', '2023-05-20 03:29:53.201930']\n",
            "['LÃ¡pis de sobrancelha', 'Alimentos', '85.42', '56', 'Filial 9', '2023-01-05 03:29:53.201930']\n",
            "['MÃ¡scara de cÃ\\xadlios', 'Roupas', '65.23', '83', 'Filial 2', '2023-07-16 03:29:53.201930']\n",
            "['Base lÃ\\xadquida', 'Roupas', '88.19', '35', 'Filial 4', '2022-10-12 03:29:53.201930']\n",
            "['Blush em pÃ³', 'Roupas', '40.29', '88', 'Filial 9', '2023-06-28 03:29:53.201930']\n",
            "['MÃ¡scara de cÃ\\xadlios', 'Alimentos', '23.92', '67', 'Filial 1', '2023-06-11 03:29:53.201930']\n",
            "['Batom lÃ\\xadquido', 'EletrodomÃ©sticos', '29.57', '8', 'Filial 10', '2023-05-22 03:29:53.201930']\n",
            "['Corretivo', 'Roupas', '34.49', '95', 'Filial 2', '2023-05-26 03:29:53.201930']\n",
            "['Corretivo', 'Alimentos', '84.99', '47', 'Filial 6', '2022-12-26 03:29:53.201930']\n",
            "['PÃ³ compacto', 'EletrÃ´nicos', '14.71', '9', 'Filial 7', '2022-11-19 03:29:53.201930']\n",
            "['Sombra de olhos', 'EletrÃ´nicos', '41.53', '61', 'Filial 4', '2023-02-10 03:29:53.201930']\n",
            "['Batom matte', 'EletrÃ´nicos', '82.73', '3', 'Filial 3', '2023-06-25 03:29:53.201930']\n",
            "['MÃ¡scara de cÃ\\xadlios', 'EletrodomÃ©sticos', '33.7', '77', 'Filial 3', '2022-12-20 03:29:53.201930']\n",
            "['PÃ³ compacto', 'EletrodomÃ©sticos', '78.95', '66', 'Filial 7', '2023-08-02 03:29:53.201930']\n",
            "['Corretivo', 'Roupas', '47.76', '72', 'Filial 8', '2023-01-24 03:29:53.201930']\n",
            "['Delineador lÃ\\xadquido', 'Alimentos', '17.04', '79', 'Filial 9', '2023-02-02 03:29:53.201930']\n",
            "['Sombra de olhos', 'Alimentos', '55.51', '70', 'Filial 5', '2023-06-02 03:29:53.201930']\n",
            "['Batom lÃ\\xadquido', 'EletrÃ´nicos', '29.12', '22', 'Filial 6', '2023-01-30 03:29:53.201930']\n",
            "['Sombra de olhos', 'EletrÃ´nicos', '59.36', '31', 'Filial 2', '2022-10-17 03:29:53.201930']\n",
            "['Delineador lÃ\\xadquido', 'Roupas', '4.45', '43', 'Filial 7', '2023-03-26 03:29:53.201930']\n",
            "['PÃ³ compacto', 'Roupas', '19.28', '65', 'Filial 3', '2023-04-21 03:29:53.201930']\n",
            "['Corretivo', 'EletrÃ´nicos', '68.64', '29', 'Filial 7', '2023-06-19 03:29:53.201930']\n",
            "['MÃ¡scara de cÃ\\xadlios', 'EletrodomÃ©sticos', '4.7', '23', 'Filial 1', '2023-03-02 03:29:53.201930']\n",
            "['MÃ¡scara de cÃ\\xadlios', 'EletrodomÃ©sticos', '34.69', '3', 'Filial 1', '2022-09-04 03:29:53.201930']\n",
            "['Blush em pÃ³', 'EletrÃ´nicos', '25.88', '76', 'Filial 10', '2023-04-19 03:29:53.201930']\n",
            "['MÃ¡scara de cÃ\\xadlios', 'EletrÃ´nicos', '89.83', '34', 'Filial 6', '2023-08-03 03:29:53.201930']\n",
            "['Batom lÃ\\xadquido', 'Roupas', '72.39', '51', 'Filial 7', '2022-10-25 03:29:53.201930']\n",
            "['Sombra de olhos', 'Roupas', '49.85', '51', 'Filial 4', '2023-02-10 03:29:53.201930']\n",
            "['Batom lÃ\\xadquido', 'EletrÃ´nicos', '48.62', '70', 'Filial 4', '2023-05-31 03:29:53.201930']\n",
            "['Delineador lÃ\\xadquido', 'EletrÃ´nicos', '92.13', '79', 'Filial 8', '2022-11-13 03:29:53.201930']\n",
            "['Batom lÃ\\xadquido', 'EletrÃ´nicos', '8.45', '71', 'Filial 8', '2022-08-31 03:29:53.201930']\n",
            "['Sombra de olhos', 'EletrodomÃ©sticos', '25.56', '31', 'Filial 4', '2023-03-22 03:29:53.201930']\n",
            "['Batom lÃ\\xadquido', 'EletrÃ´nicos', '23.94', '51', 'Filial 10', '2023-07-06 03:29:53.201930']\n",
            "['Batom matte', 'Roupas', '90.93', '25', 'Filial 3', '2023-03-09 03:29:53.201930']\n",
            "['Blush em pÃ³', 'Roupas', '36.59', '45', 'Filial 2', '2023-03-21 03:29:53.201930']\n",
            "['Sombra de olhos', 'EletrÃ´nicos', '54.63', '52', 'Filial 1', '2023-02-09 03:29:53.201930']\n",
            "['Delineador lÃ\\xadquido', 'Alimentos', '69.68', '57', 'Filial 1', '2023-05-24 03:29:53.201930']\n",
            "['Delineador lÃ\\xadquido', 'EletrÃ´nicos', '36.83', '9', 'Filial 6', '2022-10-09 03:29:53.201930']\n",
            "['Delineador lÃ\\xadquido', 'Alimentos', '15.2', '73', 'Filial 8', '2022-08-23 03:29:53.201930']\n",
            "['LÃ¡pis de sobrancelha', 'Roupas', '30.78', '78', 'Filial 5', '2022-12-14 03:29:53.201930']\n",
            "['Batom matte', 'EletrodomÃ©sticos', '33.24', '100', 'Filial 10', '2022-12-07 03:29:53.201930']\n",
            "['Blush em pÃ³', 'EletrÃ´nicos', '31.06', '17', 'Filial 1', '2023-08-04 03:29:53.201930']\n",
            "['Blush em pÃ³', 'EletrodomÃ©sticos', '89.58', '66', 'Filial 5', '2023-02-18 03:29:53.201930']\n",
            "['Blush em pÃ³', 'EletrÃ´nicos', '56.26', '98', 'Filial 1', '2023-02-06 03:29:53.201930']\n",
            "['Blush em pÃ³', 'Alimentos', '66.85', '45', 'Filial 5', '2023-06-24 03:29:53.201930']\n",
            "['Batom lÃ\\xadquido', 'Alimentos', '37.27', '72', 'Filial 9', '2023-08-12 03:29:53.201930']\n",
            "['Batom lÃ\\xadquido', 'EletrodomÃ©sticos', '33.94', '48', 'Filial 1', '2023-04-29 03:29:53.201930']\n",
            "['Corretivo', 'EletrodomÃ©sticos', '28.19', '93', 'Filial 9', '2023-03-14 03:29:53.201930']\n",
            "['Base lÃ\\xadquida', 'EletrÃ´nicos', '79.44', '78', 'Filial 10', '2023-02-05 03:29:53.201930']\n",
            "['Delineador lÃ\\xadquido', 'Roupas', '7.1', '31', 'Filial 3', '2023-01-24 03:29:53.201930']\n",
            "['Delineador lÃ\\xadquido', 'EletrÃ´nicos', '90.59', '79', 'Filial 9', '2023-02-12 03:29:53.201930']\n",
            "['Base lÃ\\xadquida', 'Roupas', '83.29', '50', 'Filial 1', '2023-08-14 03:29:53.201930']\n",
            "['Batom lÃ\\xadquido', 'EletrodomÃ©sticos', '29.21', '26', 'Filial 2', '2022-11-10 03:29:53.201930']\n",
            "['Sombra de olhos', 'Roupas', '26.74', '60', 'Filial 10', '2023-01-19 03:29:53.201930']\n",
            "['Batom lÃ\\xadquido', 'Roupas', '98.96', '89', 'Filial 8', '2023-03-10 03:29:53.201930']\n",
            "['Corretivo', 'EletrÃ´nicos', '7.98', '31', 'Filial 7', '2023-04-06 03:29:53.201930']\n",
            "['Base lÃ\\xadquida', 'Roupas', '27.04', '47', 'Filial 5', '2023-05-22 03:29:53.201930']\n",
            "['Corretivo', 'EletrodomÃ©sticos', '41.11', '55', 'Filial 8', '2023-01-17 03:29:53.201930']\n",
            "['Corretivo', 'Roupas', '20.8', '48', 'Filial 10', '2023-07-20 03:29:53.201930']\n",
            "['Corretivo', 'Alimentos', '62.62', '15', 'Filial 8', '2022-08-30 03:29:53.201930']\n",
            "['Base lÃ\\xadquida', 'Roupas', '23.01', '87', 'Filial 1', '2023-06-28 03:29:53.201930']\n",
            "['MÃ¡scara de cÃ\\xadlios', 'EletrÃ´nicos', '62.35', '6', 'Filial 8', '2022-11-16 03:29:53.201930']\n",
            "['Delineador lÃ\\xadquido', 'Roupas', '68.58', '39', 'Filial 4', '2023-05-23 03:29:53.201930']\n",
            "['Base lÃ\\xadquida', 'Roupas', '24.6', '37', 'Filial 9', '2023-01-30 03:29:53.201930']\n",
            "['MÃ¡scara de cÃ\\xadlios', 'EletrodomÃ©sticos', '99.36', '87', 'Filial 2', '2022-09-27 03:29:53.201930']\n",
            "['Delineador lÃ\\xadquido', 'EletrÃ´nicos', '97.84', '92', 'Filial 9', '2022-12-11 03:29:53.201930']\n",
            "['Delineador lÃ\\xadquido', 'Roupas', '76.12', '94', 'Filial 8', '2023-04-01 03:29:53.201930']\n",
            "['LÃ¡pis de sobrancelha', 'EletrÃ´nicos', '46.58', '23', 'Filial 6', '2022-09-13 03:29:53.201930']\n",
            "['Batom matte', 'EletrodomÃ©sticos', '10.12', '81', 'Filial 8', '2023-03-15 03:29:53.201930']\n",
            "['Corretivo', 'EletrÃ´nicos', '71.63', '9', 'Filial 6', '2023-01-19 03:29:53.201930']\n",
            "['Batom lÃ\\xadquido', 'EletrÃ´nicos', '19.47', '28', 'Filial 2', '2022-12-09 03:29:53.201930']\n",
            "['Base lÃ\\xadquida', 'EletrodomÃ©sticos', '41.93', '69', 'Filial 6', '2022-10-19 03:29:53.201930']\n",
            "['Blush em pÃ³', 'EletrodomÃ©sticos', '45.83', '40', 'Filial 7', '2023-01-02 03:29:53.201930']\n",
            "['Base lÃ\\xadquida', 'EletrodomÃ©sticos', '73.78', '29', 'Filial 1', '2022-08-25 03:29:53.201930']\n",
            "['Delineador lÃ\\xadquido', 'Roupas', '36.74', '21', 'Filial 4', '2022-09-05 03:29:53.201930']\n",
            "['Batom matte', 'Roupas', '69.84', '41', 'Filial 5', '2023-01-26 03:29:53.201930']\n",
            "['MÃ¡scara de cÃ\\xadlios', 'Alimentos', '72.18', '58', 'Filial 5', '2022-10-17 03:29:53.201930']\n",
            "['MÃ¡scara de cÃ\\xadlios', 'EletrodomÃ©sticos', '37.77', '4', 'Filial 4', '2023-07-14 03:29:53.201930']\n",
            "['Base lÃ\\xadquida', 'Alimentos', '39.86', '95', 'Filial 7', '2023-02-02 03:29:53.201930']\n",
            "['MÃ¡scara de cÃ\\xadlios', 'EletrÃ´nicos', '20.21', '88', 'Filial 9', '2023-02-28 03:29:53.201930']\n",
            "['Corretivo', 'Alimentos', '88.61', '46', 'Filial 10', '2023-05-26 03:29:53.201930']\n",
            "['LÃ¡pis de sobrancelha', 'Roupas', '75.26', '73', 'Filial 1', '2022-10-09 03:29:53.201930']\n",
            "['PÃ³ compacto', 'Alimentos', '26.38', '32', 'Filial 10', '2023-01-12 03:29:53.201930']\n",
            "['PÃ³ compacto', 'Alimentos', '95.24', '3', 'Filial 5', '2023-07-24 03:29:53.201930']\n",
            "['Base lÃ\\xadquida', 'EletrodomÃ©sticos', '82.0', '58', 'Filial 7', '2022-10-02 03:29:53.201930']\n",
            "['PÃ³ compacto', 'Alimentos', '25.54', '50', 'Filial 1', '2023-07-12 03:29:53.201930']\n",
            "['LÃ¡pis de sobrancelha', 'Alimentos', '42.28', '21', 'Filial 3', '2023-08-07 03:29:53.201930']\n",
            "['MÃ¡scara de cÃ\\xadlios', 'EletrodomÃ©sticos', '55.1', '32', 'Filial 9', '2023-06-12 03:29:53.201930']\n",
            "['Delineador lÃ\\xadquido', 'Alimentos', '86.62', '39', 'Filial 5', '2023-04-13 03:29:53.201930']\n",
            "['Blush em pÃ³', 'Alimentos', '42.99', '22', 'Filial 10', '2023-07-16 03:29:53.201930']\n",
            "['Sombra de olhos', 'EletrodomÃ©sticos', '24.28', '80', 'Filial 10', '2023-05-13 03:29:53.201930']\n",
            "['Corretivo', 'Alimentos', '59.56', '61', 'Filial 4', '2023-07-20 03:29:53.201930']\n",
            "['Batom lÃ\\xadquido', 'EletrodomÃ©sticos', '48.34', '15', 'Filial 9', '2023-04-07 03:29:53.201930']\n",
            "['Batom matte', 'EletrodomÃ©sticos', '18.3', '43', 'Filial 6', '2023-04-06 03:29:53.201930']\n",
            "['Blush em pÃ³', 'Alimentos', '46.98', '32', 'Filial 7', '2022-10-01 03:29:53.201930']\n",
            "['Base lÃ\\xadquida', 'Alimentos', '45.79', '87', 'Filial 3', '2022-10-07 03:29:53.201930']\n",
            "['MÃ¡scara de cÃ\\xadlios', 'Alimentos', '7.49', '40', 'Filial 8', '2023-01-04 03:29:53.201930']\n",
            "['LÃ¡pis de sobrancelha', 'Roupas', '22.08', '75', 'Filial 4', '2023-04-04 03:29:53.201930']\n",
            "['Blush em pÃ³', 'Alimentos', '49.65', '46', 'Filial 7', '2023-07-09 03:29:53.201930']\n",
            "['Batom lÃ\\xadquido', 'Roupas', '44.01', '28', 'Filial 10', '2023-07-27 03:29:53.201930']\n",
            "['Delineador lÃ\\xadquido', 'EletrÃ´nicos', '45.08', '56', 'Filial 10', '2023-06-26 03:29:53.201930']\n",
            "['Batom lÃ\\xadquido', 'EletrÃ´nicos', '43.19', '31', 'Filial 6', '2022-11-26 03:29:53.201930']\n",
            "['Batom matte', 'EletrodomÃ©sticos', '91.87', '73', 'Filial 8', '2023-06-17 03:29:53.201930']\n",
            "['Batom lÃ\\xadquido', 'EletrodomÃ©sticos', '40.66', '54', 'Filial 2', '2022-12-14 03:29:53.201930']\n",
            "['Batom lÃ\\xadquido', 'Alimentos', '62.31', '100', 'Filial 10', '2023-01-20 03:29:53.201930']\n",
            "['Batom matte', 'Alimentos', '64.11', '47', 'Filial 2', '2023-01-08 03:29:53.201930']\n",
            "['Batom matte', 'Alimentos', '28.06', '95', 'Filial 5', '2022-11-24 03:29:53.201930']\n",
            "['Sombra de olhos', 'Alimentos', '6.41', '7', 'Filial 3', '2023-03-06 03:29:53.201930']\n",
            "['Blush em pÃ³', 'EletrÃ´nicos', '31.15', '27', 'Filial 10', '2023-04-09 03:29:53.201930']\n",
            "['Base lÃ\\xadquida', 'EletrodomÃ©sticos', '35.08', '37', 'Filial 9', '2023-07-26 03:29:53.201930']\n",
            "['Batom lÃ\\xadquido', 'EletrÃ´nicos', '72.48', '85', 'Filial 10', '2023-04-02 03:29:53.201930']\n",
            "['Batom matte', 'Alimentos', '20.39', '33', 'Filial 7', '2023-04-06 03:29:53.201930']\n",
            "['Sombra de olhos', 'EletrodomÃ©sticos', '98.98', '74', 'Filial 5', '2022-10-06 03:29:53.201930']\n",
            "['Batom matte', 'EletrodomÃ©sticos', '57.36', '22', 'Filial 9', '2023-06-28 03:29:53.201930']\n",
            "['Corretivo', 'Alimentos', '16.09', '27', 'Filial 5', '2023-07-05 03:29:53.201930']\n",
            "['LÃ¡pis de sobrancelha', 'Alimentos', '6.01', '62', 'Filial 3', '2022-10-25 03:29:53.201930']\n",
            "['Delineador lÃ\\xadquido', 'EletrÃ´nicos', '39.17', '32', 'Filial 7', '2023-05-23 03:29:53.201930']\n",
            "['Corretivo', 'Alimentos', '47.26', '78', 'Filial 4', '2022-11-09 03:29:53.201930']\n",
            "['PÃ³ compacto', 'Roupas', '70.06', '8', 'Filial 10', '2023-01-13 03:29:53.201930']\n",
            "['LÃ¡pis de sobrancelha', 'EletrÃ´nicos', '76.88', '25', 'Filial 5', '2023-08-11 03:29:53.201930']\n",
            "['Blush em pÃ³', 'Roupas', '23.12', '83', 'Filial 10', '2023-07-24 03:29:53.201930']\n",
            "['MÃ¡scara de cÃ\\xadlios', 'Alimentos', '14.17', '26', 'Filial 9', '2023-06-26 03:29:53.201930']\n",
            "['PÃ³ compacto', 'EletrÃ´nicos', '19.65', '63', 'Filial 3', '2022-12-22 03:29:53.201930']\n",
            "['Batom matte', 'Alimentos', '98.44', '97', 'Filial 10', '2022-08-31 03:29:53.201930']\n",
            "['Corretivo', 'Alimentos', '2.22', '21', 'Filial 8', '2023-08-16 03:29:53.201930']\n",
            "['Sombra de olhos', 'Roupas', '73.59', '51', 'Filial 2', '2022-12-03 03:29:53.201930']\n",
            "['LÃ¡pis de sobrancelha', 'Roupas', '12.49', '31', 'Filial 5', '2022-09-22 03:29:53.201930']\n",
            "['Batom matte', 'EletrÃ´nicos', '50.23', '98', 'Filial 2', '2023-04-12 03:29:53.201930']\n",
            "['PÃ³ compacto', 'Roupas', '55.22', '95', 'Filial 8', '2022-12-05 03:29:53.201930']\n",
            "['Delineador lÃ\\xadquido', 'Alimentos', '19.59', '29', 'Filial 4', '2022-12-27 03:29:53.201930']\n",
            "['Corretivo', 'Alimentos', '17.73', '5', 'Filial 4', '2023-01-10 03:29:53.201930']\n",
            "['Batom matte', 'EletrodomÃ©sticos', '46.13', '18', 'Filial 9', '2023-05-20 03:29:53.201930']\n",
            "['Base lÃ\\xadquida', 'EletrÃ´nicos', '73.25', '1', 'Filial 2', '2022-09-13 03:29:53.201930']\n",
            "['Batom matte', 'EletrÃ´nicos', '34.36', '61', 'Filial 7', '2022-11-17 03:29:53.201930']\n",
            "['Batom matte', 'Alimentos', '60.63', '7', 'Filial 2', '2022-10-11 03:29:53.201930']\n",
            "['Batom lÃ\\xadquido', 'Alimentos', '76.3', '22', 'Filial 8', '2022-09-02 03:29:53.201930']\n",
            "['LÃ¡pis de sobrancelha', 'EletrodomÃ©sticos', '15.97', '74', 'Filial 6', '2022-09-04 03:29:53.201930']\n",
            "['Blush em pÃ³', 'Alimentos', '81.16', '49', 'Filial 7', '2023-02-06 03:29:53.201930']\n",
            "['Base lÃ\\xadquida', 'Roupas', '76.99', '69', 'Filial 10', '2023-07-17 03:29:53.201930']\n",
            "['LÃ¡pis de sobrancelha', 'Roupas', '59.54', '92', 'Filial 8', '2023-03-01 03:29:53.201930']\n",
            "['MÃ¡scara de cÃ\\xadlios', 'EletrÃ´nicos', '98.36', '77', 'Filial 3', '2023-05-04 03:29:53.201930']\n",
            "['MÃ¡scara de cÃ\\xadlios', 'Alimentos', '3.12', '71', 'Filial 1', '2023-05-31 03:29:53.201930']\n",
            "['Corretivo', 'Roupas', '12.74', '69', 'Filial 9', '2023-08-09 03:29:53.201930']\n",
            "['Sombra de olhos', 'EletrodomÃ©sticos', '66.0', '15', 'Filial 7', '2022-10-07 03:29:53.201930']\n",
            "['Blush em pÃ³', 'EletrodomÃ©sticos', '97.64', '58', 'Filial 10', '2022-11-26 03:29:53.201930']\n",
            "['Batom lÃ\\xadquido', 'Alimentos', '1.02', '63', 'Filial 9', '2023-06-01 03:29:53.201930']\n",
            "['MÃ¡scara de cÃ\\xadlios', 'Alimentos', '36.58', '56', 'Filial 2', '2023-08-21 03:29:53.201930']\n",
            "['Blush em pÃ³', 'Roupas', '79.1', '80', 'Filial 2', '2022-11-29 03:29:53.201930']\n",
            "['Sombra de olhos', 'Alimentos', '77.91', '87', 'Filial 8', '2023-03-18 03:29:53.201930']\n",
            "['Blush em pÃ³', 'Alimentos', '69.64', '96', 'Filial 5', '2022-09-07 03:29:53.201930']\n",
            "['Batom lÃ\\xadquido', 'EletrÃ´nicos', '88.56', '10', 'Filial 3', '2023-07-31 03:29:53.201930']\n",
            "['Batom matte', 'EletrÃ´nicos', '94.93', '30', 'Filial 4', '2022-11-09 03:29:53.201930']\n",
            "['Base lÃ\\xadquida', 'Roupas', '90.17', '63', 'Filial 1', '2023-08-20 03:29:53.201930']\n",
            "['Blush em pÃ³', 'EletrodomÃ©sticos', '16.75', '32', 'Filial 2', '2023-03-27 03:29:53.201930']\n",
            "['MÃ¡scara de cÃ\\xadlios', 'EletrÃ´nicos', '72.21', '88', 'Filial 1', '2022-09-19 03:29:53.201930']\n",
            "['LÃ¡pis de sobrancelha', 'Alimentos', '55.45', '4', 'Filial 9', '2022-10-11 03:29:53.201930']\n",
            "['MÃ¡scara de cÃ\\xadlios', 'Alimentos', '46.44', '35', 'Filial 8', '2022-10-10 03:29:53.201930']\n",
            "['MÃ¡scara de cÃ\\xadlios', 'EletrodomÃ©sticos', '39.31', '1', 'Filial 10', '2023-07-08 03:29:53.201930']\n",
            "['MÃ¡scara de cÃ\\xadlios', 'EletrÃ´nicos', '45.12', '97', 'Filial 4', '2023-05-28 03:29:53.201930']\n",
            "['MÃ¡scara de cÃ\\xadlios', 'Roupas', '11.89', '98', 'Filial 6', '2022-11-20 03:29:53.201930']\n",
            "['LÃ¡pis de sobrancelha', 'EletrodomÃ©sticos', '96.57', '73', 'Filial 1', '2023-05-04 03:29:53.201930']\n",
            "['Delineador lÃ\\xadquido', 'Roupas', '81.92', '46', 'Filial 8', '2023-07-26 03:29:53.201930']\n",
            "['Batom lÃ\\xadquido', 'Roupas', '13.2', '52', 'Filial 7', '2023-01-15 03:29:53.201930']\n",
            "['Base lÃ\\xadquida', 'Roupas', '24.95', '16', 'Filial 4', '2022-08-26 03:29:53.201930']\n",
            "['Sombra de olhos', 'Alimentos', '69.21', '86', 'Filial 4', '2023-06-16 03:29:53.201930']\n",
            "['Batom matte', 'Alimentos', '59.63', '53', 'Filial 10', '2022-11-27 03:29:53.201930']\n",
            "['PÃ³ compacto', 'Alimentos', '20.2', '52', 'Filial 5', '2023-01-05 03:29:53.201930']\n",
            "['Delineador lÃ\\xadquido', 'Roupas', '67.49', '81', 'Filial 7', '2023-04-15 03:29:53.201930']\n",
            "['PÃ³ compacto', 'EletrodomÃ©sticos', '99.62', '49', 'Filial 7', '2022-12-22 03:29:53.201930']\n",
            "['Sombra de olhos', 'EletrodomÃ©sticos', '84.18', '56', 'Filial 8', '2022-10-09 03:29:53.201930']\n",
            "['MÃ¡scara de cÃ\\xadlios', 'Alimentos', '39.63', '68', 'Filial 9', '2023-02-23 03:29:53.201930']\n",
            "['PÃ³ compacto', 'Roupas', '44.93', '16', 'Filial 8', '2022-09-02 03:29:53.201930']\n",
            "['Delineador lÃ\\xadquido', 'Alimentos', '41.53', '48', 'Filial 3', '2022-09-22 03:29:53.201930']\n",
            "['Corretivo', 'Alimentos', '67.04', '33', 'Filial 1', '2023-03-18 03:29:53.201930']\n",
            "['Sombra de olhos', 'Roupas', '57.45', '33', 'Filial 1', '2022-12-26 03:29:53.201930']\n",
            "['Delineador lÃ\\xadquido', 'Roupas', '32.25', '22', 'Filial 10', '2023-02-04 03:29:53.201930']\n",
            "['Corretivo', 'Roupas', '50.54', '59', 'Filial 6', '2023-01-31 03:29:53.201930']\n",
            "['Batom lÃ\\xadquido', 'Alimentos', '91.25', '51', 'Filial 10', '2023-07-13 03:29:53.201930']\n",
            "['Batom lÃ\\xadquido', 'Roupas', '49.2', '45', 'Filial 2', '2023-01-20 03:29:53.201930']\n",
            "['MÃ¡scara de cÃ\\xadlios', 'Alimentos', '93.07', '16', 'Filial 5', '2023-07-08 03:29:53.201930']\n",
            "['LÃ¡pis de sobrancelha', 'Alimentos', '26.24', '94', 'Filial 4', '2023-04-01 03:29:53.201930']\n",
            "['PÃ³ compacto', 'EletrodomÃ©sticos', '14.06', '16', 'Filial 6', '2023-03-10 03:29:53.201930']\n",
            "['Delineador lÃ\\xadquido', 'EletrÃ´nicos', '54.02', '14', 'Filial 6', '2023-06-22 03:29:53.201930']\n",
            "['Batom lÃ\\xadquido', 'Alimentos', '24.01', '7', 'Filial 10', '2022-10-30 03:29:53.201930']\n",
            "['Base lÃ\\xadquida', 'Alimentos', '14.29', '99', 'Filial 2', '2023-01-27 03:29:53.201930']\n",
            "['Batom matte', 'Roupas', '41.88', '80', 'Filial 3', '2022-11-09 03:29:53.201930']\n",
            "['PÃ³ compacto', 'EletrodomÃ©sticos', '16.19', '2', 'Filial 10', '2023-03-31 03:29:53.201930']\n",
            "['Sombra de olhos', 'Roupas', '79.11', '19', 'Filial 10', '2022-10-28 03:29:53.201930']\n",
            "['Delineador lÃ\\xadquido', 'Roupas', '89.33', '4', 'Filial 9', '2023-01-19 03:29:53.201930']\n",
            "['PÃ³ compacto', 'Roupas', '76.2', '75', 'Filial 6', '2022-11-18 03:29:53.201930']\n",
            "['LÃ¡pis de sobrancelha', 'Alimentos', '54.85', '26', 'Filial 7', '2023-02-03 03:29:53.201930']\n",
            "['Blush em pÃ³', 'EletrÃ´nicos', '92.82', '68', 'Filial 2', '2023-05-06 03:29:53.201930']\n",
            "['Base lÃ\\xadquida', 'Alimentos', '94.76', '61', 'Filial 8', '2022-09-01 03:29:53.201930']\n",
            "['Batom lÃ\\xadquido', 'EletrodomÃ©sticos', '45.66', '21', 'Filial 3', '2023-07-14 03:29:53.201930']\n",
            "['Batom matte', 'EletrodomÃ©sticos', '60.42', '44', 'Filial 4', '2022-10-22 03:29:53.201930']\n",
            "['Corretivo', 'Alimentos', '73.63', '96', 'Filial 9', '2022-10-02 03:29:53.201930']\n",
            "['Corretivo', 'EletrÃ´nicos', '78.24', '5', 'Filial 2', '2023-02-22 03:29:53.201930']\n",
            "['Corretivo', 'Alimentos', '15.67', '47', 'Filial 8', '2023-06-29 03:29:53.201930']\n",
            "['PÃ³ compacto', 'Roupas', '63.88', '55', 'Filial 1', '2023-01-22 03:29:53.201930']\n",
            "['Delineador lÃ\\xadquido', 'Alimentos', '58.72', '53', 'Filial 5', '2023-08-11 03:29:53.201930']\n",
            "['Batom lÃ\\xadquido', 'EletrÃ´nicos', '71.38', '92', 'Filial 2', '2023-06-28 03:29:53.201930']\n",
            "['Sombra de olhos', 'Alimentos', '76.87', '81', 'Filial 4', '2022-10-17 03:29:53.201930']\n",
            "['Batom matte', 'Alimentos', '97.36', '66', 'Filial 9', '2023-06-18 03:29:53.201930']\n",
            "['Batom lÃ\\xadquido', 'EletrodomÃ©sticos', '10.26', '25', 'Filial 4', '2022-08-29 03:29:53.201930']\n",
            "['MÃ¡scara de cÃ\\xadlios', 'Alimentos', '71.37', '66', 'Filial 3', '2022-08-28 03:29:53.201930']\n",
            "['MÃ¡scara de cÃ\\xadlios', 'Roupas', '17.74', '49', 'Filial 6', '2023-05-01 03:29:53.201930']\n",
            "['Corretivo', 'Alimentos', '19.76', '4', 'Filial 2', '2023-08-18 03:29:53.201930']\n",
            "['LÃ¡pis de sobrancelha', 'Alimentos', '38.88', '60', 'Filial 10', '2023-02-08 03:29:53.201930']\n",
            "['MÃ¡scara de cÃ\\xadlios', 'EletrodomÃ©sticos', '41.58', '63', 'Filial 6', '2023-03-07 03:29:53.201930']\n",
            "['Sombra de olhos', 'Alimentos', '26.4', '58', 'Filial 4', '2022-10-06 03:29:53.201930']\n",
            "['Batom lÃ\\xadquido', 'Alimentos', '8.15', '7', 'Filial 7', '2023-04-13 03:29:53.201930']\n",
            "['Batom matte', 'Alimentos', '24.32', '8', 'Filial 10', '2023-04-12 03:29:53.201930']\n",
            "['Corretivo', 'EletrÃ´nicos', '76.73', '35', 'Filial 9', '2023-01-09 03:29:53.201930']\n",
            "['Batom matte', 'Alimentos', '93.0', '31', 'Filial 2', '2023-02-28 03:29:53.201930']\n",
            "['Base lÃ\\xadquida', 'EletrÃ´nicos', '87.25', '68', 'Filial 2', '2023-04-17 03:29:53.201930']\n",
            "['PÃ³ compacto', 'Roupas', '30.97', '3', 'Filial 7', '2023-07-29 03:29:53.201930']\n",
            "['Blush em pÃ³', 'Alimentos', '72.67', '68', 'Filial 7', '2023-01-18 03:29:53.201930']\n",
            "['Batom lÃ\\xadquido', 'Alimentos', '19.48', '34', 'Filial 2', '2023-02-10 03:29:53.201930']\n",
            "['Delineador lÃ\\xadquido', 'EletrÃ´nicos', '58.99', '25', 'Filial 5', '2023-04-30 03:29:53.201930']\n",
            "['Sombra de olhos', 'Roupas', '79.04', '12', 'Filial 5', '2023-06-17 03:29:53.201930']\n",
            "['PÃ³ compacto', 'Roupas', '49.95', '2', 'Filial 3', '2022-11-05 03:29:53.201930']\n",
            "['Corretivo', 'Alimentos', '47.09', '65', 'Filial 9', '2023-04-10 03:29:53.201930']\n",
            "['Blush em pÃ³', 'EletrÃ´nicos', '89.97', '19', 'Filial 9', '2023-05-19 03:29:53.201930']\n",
            "['Corretivo', 'Alimentos', '14.07', '44', 'Filial 1', '2023-03-09 03:29:53.201930']\n",
            "['PÃ³ compacto', 'EletrÃ´nicos', '46.29', '92', 'Filial 9', '2022-11-16 03:29:53.201930']\n",
            "['Corretivo', 'Alimentos', '10.11', '96', 'Filial 8', '2023-08-09 03:29:53.201930']\n",
            "['Corretivo', 'Roupas', '77.01', '25', 'Filial 10', '2023-08-11 03:29:53.201930']\n",
            "['Sombra de olhos', 'EletrodomÃ©sticos', '64.67', '72', 'Filial 5', '2022-10-14 03:29:53.201930']\n",
            "['Corretivo', 'Roupas', '44.92', '51', 'Filial 1', '2022-08-28 03:29:53.201930']\n",
            "['Corretivo', 'EletrodomÃ©sticos', '96.48', '20', 'Filial 10', '2023-02-15 03:29:53.201930']\n",
            "['Batom matte', 'Alimentos', '46.0', '80', 'Filial 10', '2022-10-22 03:29:53.201930']\n",
            "['Blush em pÃ³', 'EletrodomÃ©sticos', '57.2', '52', 'Filial 6', '2023-06-09 03:29:53.201930']\n",
            "['Blush em pÃ³', 'EletrÃ´nicos', '71.42', '100', 'Filial 2', '2022-12-01 03:29:53.201930']\n",
            "['Sombra de olhos', 'EletrÃ´nicos', '83.78', '18', 'Filial 1', '2023-05-07 03:29:53.201930']\n",
            "['PÃ³ compacto', 'EletrÃ´nicos', '70.9', '94', 'Filial 8', '2023-06-29 03:29:53.201930']\n",
            "['Batom matte', 'EletrodomÃ©sticos', '27.36', '69', 'Filial 5', '2022-09-01 03:29:53.201930']\n",
            "['Delineador lÃ\\xadquido', 'EletrÃ´nicos', '18.05', '64', 'Filial 1', '2023-07-10 03:29:53.201930']\n",
            "['Sombra de olhos', 'EletrodomÃ©sticos', '2.36', '99', 'Filial 1', '2022-09-01 03:29:53.201930']\n",
            "['Blush em pÃ³', 'EletrÃ´nicos', '93.45', '6', 'Filial 6', '2022-10-07 03:29:53.201930']\n",
            "['Delineador lÃ\\xadquido', 'Alimentos', '19.32', '54', 'Filial 1', '2022-12-09 03:29:53.201930']\n",
            "['Batom matte', 'EletrÃ´nicos', '83.18', '43', 'Filial 2', '2023-02-09 03:29:53.201930']\n",
            "['Blush em pÃ³', 'EletrodomÃ©sticos', '40.7', '29', 'Filial 10', '2022-12-24 03:29:53.201930']\n",
            "['Batom matte', 'EletrÃ´nicos', '7.32', '65', 'Filial 1', '2023-07-18 03:29:53.201930']\n",
            "['Delineador lÃ\\xadquido', 'EletrodomÃ©sticos', '85.72', '33', 'Filial 8', '2022-08-29 03:29:53.201930']\n",
            "['LÃ¡pis de sobrancelha', 'EletrodomÃ©sticos', '28.61', '30', 'Filial 5', '2022-11-18 03:29:53.201930']\n",
            "['LÃ¡pis de sobrancelha', 'Roupas', '87.31', '70', 'Filial 6', '2023-07-27 03:29:53.201930']\n",
            "['Blush em pÃ³', 'Alimentos', '32.27', '94', 'Filial 4', '2023-07-31 03:29:53.201930']\n",
            "['PÃ³ compacto', 'Roupas', '30.31', '86', 'Filial 2', '2023-07-02 03:29:53.201930']\n",
            "['Delineador lÃ\\xadquido', 'Roupas', '62.77', '47', 'Filial 5', '2023-06-16 03:29:53.201930']\n",
            "['Batom lÃ\\xadquido', 'EletrodomÃ©sticos', '66.84', '5', 'Filial 3', '2023-06-04 03:29:53.201930']\n",
            "['Batom matte', 'EletrodomÃ©sticos', '24.98', '60', 'Filial 6', '2022-11-07 03:29:53.201930']\n",
            "['LÃ¡pis de sobrancelha', 'Alimentos', '17.22', '31', 'Filial 7', '2023-03-16 03:29:53.201930']\n",
            "['Sombra de olhos', 'EletrodomÃ©sticos', '15.48', '91', 'Filial 3', '2023-02-03 03:29:53.201930']\n",
            "['Batom lÃ\\xadquido', 'EletrÃ´nicos', '51.02', '25', 'Filial 10', '2023-07-08 03:29:53.201930']\n",
            "['Sombra de olhos', 'Alimentos', '61.62', '84', 'Filial 7', '2023-01-14 03:29:53.201930']\n",
            "['Batom matte', 'Alimentos', '71.73', '90', 'Filial 8', '2022-09-09 03:29:53.201930']\n",
            "['Batom matte', 'EletrÃ´nicos', '79.78', '56', 'Filial 2', '2023-01-15 03:29:53.201930']\n",
            "['PÃ³ compacto', 'EletrodomÃ©sticos', '84.31', '54', 'Filial 1', '2022-12-08 03:29:53.201930']\n",
            "['PÃ³ compacto', 'Alimentos', '42.86', '56', 'Filial 4', '2022-10-29 03:29:53.201930']\n",
            "['Corretivo', 'EletrodomÃ©sticos', '31.83', '75', 'Filial 6', '2022-10-30 03:29:53.201930']\n",
            "['Sombra de olhos', 'EletrodomÃ©sticos', '17.6', '51', 'Filial 6', '2023-04-12 03:29:53.201930']\n",
            "['Blush em pÃ³', 'EletrodomÃ©sticos', '76.89', '10', 'Filial 9', '2022-11-03 03:29:53.201930']\n",
            "['Sombra de olhos', 'Roupas', '19.99', '52', 'Filial 2', '2022-11-14 03:29:53.201930']\n",
            "['Delineador lÃ\\xadquido', 'EletrodomÃ©sticos', '53.01', '87', 'Filial 9', '2022-10-03 03:29:53.201930']\n",
            "['Delineador lÃ\\xadquido', 'Roupas', '9.64', '76', 'Filial 3', '2023-07-16 03:29:53.201930']\n",
            "['Base lÃ\\xadquida', 'Roupas', '52.78', '86', 'Filial 8', '2023-04-25 03:29:53.201930']\n",
            "['Corretivo', 'Alimentos', '80.99', '87', 'Filial 10', '2023-04-06 03:29:53.201930']\n",
            "['Base lÃ\\xadquida', 'Alimentos', '1.43', '63', 'Filial 10', '2023-03-13 03:29:53.201930']\n",
            "['LÃ¡pis de sobrancelha', 'EletrÃ´nicos', '24.1', '12', 'Filial 3', '2023-08-10 03:29:53.201930']\n",
            "['PÃ³ compacto', 'EletrodomÃ©sticos', '84.03', '12', 'Filial 1', '2023-01-09 03:29:53.201930']\n",
            "['Batom lÃ\\xadquido', 'Alimentos', '82.98', '37', 'Filial 2', '2023-06-17 03:29:53.201930']\n",
            "['Corretivo', 'Alimentos', '41.71', '38', 'Filial 5', '2022-09-05 03:29:53.201930']\n",
            "['Corretivo', 'EletrodomÃ©sticos', '82.59', '33', 'Filial 8', '2022-08-24 03:29:53.201930']\n",
            "['MÃ¡scara de cÃ\\xadlios', 'Alimentos', '57.57', '43', 'Filial 3', '2023-01-25 03:29:53.201930']\n",
            "['LÃ¡pis de sobrancelha', 'EletrÃ´nicos', '37.99', '50', 'Filial 1', '2022-11-28 03:29:53.201930']\n",
            "['MÃ¡scara de cÃ\\xadlios', 'Roupas', '9.59', '74', 'Filial 8', '2022-11-18 03:29:53.201930']\n",
            "['Batom lÃ\\xadquido', 'Alimentos', '2.44', '27', 'Filial 6', '2022-09-14 03:29:53.201930']\n",
            "['Corretivo', 'Roupas', '29.6', '65', 'Filial 9', '2023-01-04 03:29:53.201930']\n",
            "['Base lÃ\\xadquida', 'Alimentos', '19.99', '28', 'Filial 1', '2023-08-17 03:29:53.201930']\n",
            "['LÃ¡pis de sobrancelha', 'EletrÃ´nicos', '68.51', '64', 'Filial 9', '2023-08-20 03:29:53.201930']\n",
            "['Sombra de olhos', 'EletrÃ´nicos', '82.31', '92', 'Filial 10', '2022-10-06 03:29:53.201930']\n",
            "['PÃ³ compacto', 'EletrodomÃ©sticos', '12.88', '23', 'Filial 1', '2023-02-03 03:29:53.201930']\n",
            "['PÃ³ compacto', 'Alimentos', '87.56', '1', 'Filial 2', '2022-11-26 03:29:53.201930']\n",
            "['PÃ³ compacto', 'Roupas', '85.38', '15', 'Filial 3', '2023-07-25 03:29:53.201930']\n",
            "['Sombra de olhos', 'EletrodomÃ©sticos', '93.77', '4', 'Filial 1', '2023-04-11 03:29:53.201930']\n",
            "['Sombra de olhos', 'EletrÃ´nicos', '2.7', '7', 'Filial 3', '2023-07-14 03:29:53.201930']\n",
            "['Batom matte', 'EletrodomÃ©sticos', '2.14', '74', 'Filial 1', '2023-08-04 03:29:53.201930']\n",
            "['PÃ³ compacto', 'Alimentos', '38.59', '71', 'Filial 3', '2022-09-01 03:29:53.201930']\n",
            "['Base lÃ\\xadquida', 'Alimentos', '37.88', '98', 'Filial 4', '2023-04-21 03:29:53.201930']\n",
            "['MÃ¡scara de cÃ\\xadlios', 'EletrodomÃ©sticos', '96.81', '63', 'Filial 1', '2022-11-10 03:29:53.201930']\n",
            "['MÃ¡scara de cÃ\\xadlios', 'EletrodomÃ©sticos', '69.51', '17', 'Filial 8', '2023-06-14 03:29:53.201930']\n",
            "['Blush em pÃ³', 'Alimentos', '90.77', '36', 'Filial 7', '2023-01-05 03:29:53.201930']\n",
            "['PÃ³ compacto', 'Alimentos', '98.15', '9', 'Filial 7', '2022-11-03 03:29:53.201930']\n",
            "['Corretivo', 'EletrÃ´nicos', '3.56', '51', 'Filial 9', '2023-07-03 03:29:53.201930']\n",
            "['Batom matte', 'Roupas', '77.93', '23', 'Filial 4', '2023-06-09 03:29:53.201930']\n",
            "['Batom matte', 'Roupas', '21.1', '77', 'Filial 3', '2023-07-27 03:29:53.201930']\n",
            "['Batom matte', 'Roupas', '4.78', '5', 'Filial 1', '2022-10-01 03:29:53.201930']\n",
            "['PÃ³ compacto', 'Alimentos', '35.5', '59', 'Filial 7', '2022-09-08 03:29:53.201930']\n",
            "['Corretivo', 'EletrÃ´nicos', '86.36', '66', 'Filial 3', '2023-01-24 03:29:53.201930']\n",
            "['Batom matte', 'Alimentos', '59.17', '59', 'Filial 7', '2022-08-26 03:29:53.201930']\n",
            "['Blush em pÃ³', 'EletrÃ´nicos', '73.3', '35', 'Filial 5', '2023-03-20 03:29:53.201930']\n",
            "['Batom matte', 'EletrÃ´nicos', '70.32', '90', 'Filial 3', '2023-03-23 03:29:53.201930']\n",
            "['Base lÃ\\xadquida', 'Alimentos', '50.82', '47', 'Filial 10', '2023-03-24 03:29:53.201930']\n",
            "['Delineador lÃ\\xadquido', 'EletrÃ´nicos', '9.15', '33', 'Filial 6', '2022-10-19 03:29:53.201930']\n",
            "['Corretivo', 'Alimentos', '31.84', '41', 'Filial 7', '2023-07-04 03:29:53.201930']\n",
            "['PÃ³ compacto', 'EletrodomÃ©sticos', '76.02', '58', 'Filial 1', '2023-06-14 03:29:53.201930']\n",
            "['MÃ¡scara de cÃ\\xadlios', 'EletrodomÃ©sticos', '11.69', '23', 'Filial 6', '2023-07-15 03:29:53.201930']\n",
            "['LÃ¡pis de sobrancelha', 'Alimentos', '44.48', '57', 'Filial 2', '2022-10-24 03:29:53.201930']\n",
            "['Batom lÃ\\xadquido', 'Roupas', '27.08', '46', 'Filial 7', '2022-12-18 03:29:53.201930']\n",
            "['PÃ³ compacto', 'EletrÃ´nicos', '38.3', '56', 'Filial 10', '2023-08-06 03:29:53.201930']\n",
            "['PÃ³ compacto', 'EletrodomÃ©sticos', '25.01', '3', 'Filial 3', '2023-08-22 03:29:53.201930']\n",
            "['Batom matte', 'Alimentos', '34.12', '53', 'Filial 10', '2022-10-01 03:29:53.201930']\n",
            "['Corretivo', 'EletrÃ´nicos', '50.52', '74', 'Filial 7', '2023-05-09 03:29:53.201930']\n",
            "['Batom lÃ\\xadquido', 'EletrodomÃ©sticos', '85.32', '53', 'Filial 1', '2023-04-30 03:29:53.201930']\n",
            "['PÃ³ compacto', 'Alimentos', '60.27', '45', 'Filial 2', '2023-04-01 03:29:53.201930']\n",
            "['PÃ³ compacto', 'EletrÃ´nicos', '2.82', '53', 'Filial 7', '2023-08-20 03:29:53.201930']\n",
            "['Base lÃ\\xadquida', 'Alimentos', '97.89', '76', 'Filial 5', '2023-06-13 03:29:53.201930']\n",
            "['Sombra de olhos', 'EletrodomÃ©sticos', '94.57', '76', 'Filial 10', '2023-02-04 03:29:53.201930']\n",
            "['Delineador lÃ\\xadquido', 'EletrÃ´nicos', '15.75', '80', 'Filial 2', '2023-03-10 03:29:53.201930']\n",
            "['Blush em pÃ³', 'Alimentos', '64.35', '4', 'Filial 7', '2023-06-30 03:29:53.201930']\n",
            "['Base lÃ\\xadquida', 'Roupas', '47.71', '83', 'Filial 8', '2023-06-08 03:29:53.201930']\n",
            "['Corretivo', 'EletrodomÃ©sticos', '93.69', '14', 'Filial 3', '2023-03-21 03:29:53.201930']\n",
            "['Blush em pÃ³', 'Roupas', '61.93', '77', 'Filial 4', '2022-09-15 03:29:53.201930']\n",
            "['Sombra de olhos', 'Roupas', '27.17', '48', 'Filial 4', '2023-08-17 03:29:53.201930']\n",
            "['Blush em pÃ³', 'EletrodomÃ©sticos', '94.63', '16', 'Filial 4', '2022-09-23 03:29:53.201930']\n",
            "['Corretivo', 'EletrodomÃ©sticos', '96.27', '73', 'Filial 6', '2023-03-14 03:29:53.201930']\n",
            "['PÃ³ compacto', 'Alimentos', '52.23', '51', 'Filial 9', '2022-11-19 03:29:53.201930']\n",
            "['Base lÃ\\xadquida', 'Alimentos', '73.02', '61', 'Filial 5', '2023-03-29 03:29:53.201930']\n",
            "['Batom matte', 'Roupas', '76.5', '43', 'Filial 8', '2023-04-27 03:29:53.201930']\n",
            "['Sombra de olhos', 'Alimentos', '94.47', '57', 'Filial 9', '2023-04-04 03:29:53.201930']\n",
            "['PÃ³ compacto', 'EletrodomÃ©sticos', '50.3', '76', 'Filial 3', '2023-08-22 03:29:53.201930']\n",
            "['Sombra de olhos', 'Alimentos', '29.7', '11', 'Filial 8', '2023-01-18 03:29:53.201930']\n",
            "['Base lÃ\\xadquida', 'EletrÃ´nicos', '55.7', '13', 'Filial 6', '2023-02-24 03:29:53.201930']\n",
            "['PÃ³ compacto', 'Alimentos', '50.36', '48', 'Filial 10', '2023-07-16 03:29:53.201930']\n",
            "['Sombra de olhos', 'Alimentos', '12.09', '60', 'Filial 2', '2023-05-20 03:29:53.201930']\n",
            "['Batom lÃ\\xadquido', 'Roupas', '51.96', '12', 'Filial 6', '2023-02-02 03:29:53.201930']\n",
            "['Delineador lÃ\\xadquido', 'Roupas', '97.02', '24', 'Filial 3', '2023-03-15 03:29:53.201930']\n",
            "['Sombra de olhos', 'EletrodomÃ©sticos', '29.8', '25', 'Filial 5', '2022-11-27 03:29:53.201930']\n",
            "['Batom lÃ\\xadquido', 'Alimentos', '41.83', '71', 'Filial 9', '2023-02-28 03:29:53.201930']\n",
            "['Blush em pÃ³', 'EletrodomÃ©sticos', '35.14', '75', 'Filial 3', '2022-09-01 03:29:53.201930']\n",
            "['Blush em pÃ³', 'EletrodomÃ©sticos', '87.71', '78', 'Filial 9', '2023-01-24 03:29:53.201930']\n",
            "['LÃ¡pis de sobrancelha', 'Alimentos', '12.72', '1', 'Filial 2', '2023-03-14 03:29:53.201930']\n",
            "['Corretivo', 'EletrÃ´nicos', '15.97', '24', 'Filial 3', '2022-10-24 03:29:53.201930']\n",
            "['Sombra de olhos', 'Alimentos', '78.38', '48', 'Filial 2', '2023-06-07 03:29:53.201930']\n",
            "['Corretivo', 'EletrÃ´nicos', '63.39', '73', 'Filial 7', '2023-05-22 03:29:53.201930']\n",
            "['Batom matte', 'Roupas', '72.73', '81', 'Filial 6', '2023-03-18 03:29:53.201930']\n",
            "['Blush em pÃ³', 'EletrÃ´nicos', '77.1', '33', 'Filial 8', '2023-03-19 03:29:53.201930']\n",
            "['LÃ¡pis de sobrancelha', 'EletrodomÃ©sticos', '46.09', '25', 'Filial 1', '2023-02-25 03:29:53.201930']\n",
            "['MÃ¡scara de cÃ\\xadlios', 'EletrÃ´nicos', '57.07', '88', 'Filial 7', '2022-09-06 03:29:53.201930']\n",
            "['Blush em pÃ³', 'Roupas', '57.55', '80', 'Filial 3', '2023-06-29 03:29:53.201930']\n",
            "['LÃ¡pis de sobrancelha', 'Roupas', '35.39', '7', 'Filial 4', '2023-03-19 03:29:53.201930']\n",
            "['PÃ³ compacto', 'EletrÃ´nicos', '79.19', '34', 'Filial 8', '2023-01-21 03:29:53.201930']\n",
            "['LÃ¡pis de sobrancelha', 'Roupas', '91.41', '88', 'Filial 10', '2022-10-21 03:29:53.201930']\n",
            "['PÃ³ compacto', 'EletrodomÃ©sticos', '50.92', '68', 'Filial 1', '2023-04-07 03:29:53.201930']\n",
            "['LÃ¡pis de sobrancelha', 'Roupas', '11.81', '89', 'Filial 10', '2023-03-29 03:29:53.201930']\n",
            "['Blush em pÃ³', 'Alimentos', '2.03', '65', 'Filial 5', '2022-11-24 03:29:53.201930']\n",
            "['Blush em pÃ³', 'Roupas', '39.25', '83', 'Filial 10', '2023-07-14 03:29:53.201930']\n",
            "['Batom matte', 'EletrÃ´nicos', '10.0', '92', 'Filial 10', '2023-08-12 03:29:53.201930']\n",
            "['PÃ³ compacto', 'Alimentos', '25.17', '42', 'Filial 10', '2022-09-15 03:29:53.201930']\n",
            "['Base lÃ\\xadquida', 'Roupas', '31.32', '69', 'Filial 2', '2022-12-07 03:29:53.201930']\n",
            "['Batom matte', 'Alimentos', '39.39', '94', 'Filial 2', '2023-07-09 03:29:53.201930']\n",
            "['MÃ¡scara de cÃ\\xadlios', 'EletrodomÃ©sticos', '42.56', '22', 'Filial 10', '2022-11-13 03:29:53.201930']\n",
            "['Delineador lÃ\\xadquido', 'Alimentos', '82.57', '54', 'Filial 9', '2022-12-08 03:29:53.201930']\n",
            "['Batom lÃ\\xadquido', 'EletrodomÃ©sticos', '68.12', '26', 'Filial 1', '2022-09-11 03:29:53.201930']\n",
            "['Batom matte', 'Alimentos', '12.02', '45', 'Filial 4', '2023-01-19 03:29:53.201930']\n",
            "['Blush em pÃ³', 'EletrÃ´nicos', '30.01', '26', 'Filial 6', '2022-12-12 03:29:53.201930']\n",
            "['Batom lÃ\\xadquido', 'Alimentos', '5.64', '95', 'Filial 6', '2022-09-28 03:29:53.201930']\n",
            "['Blush em pÃ³', 'Roupas', '85.78', '53', 'Filial 9', '2022-11-28 03:29:53.201930']\n",
            "['PÃ³ compacto', 'Alimentos', '17.21', '75', 'Filial 4', '2023-07-25 03:29:53.201930']\n",
            "['LÃ¡pis de sobrancelha', 'EletrodomÃ©sticos', '73.24', '65', 'Filial 5', '2022-11-10 03:29:53.201930']\n",
            "['Base lÃ\\xadquida', 'EletrÃ´nicos', '60.06', '87', 'Filial 7', '2023-02-14 03:29:53.201930']\n",
            "['Corretivo', 'EletrÃ´nicos', '45.14', '94', 'Filial 1', '2022-11-26 03:29:53.201930']\n",
            "['Base lÃ\\xadquida', 'Roupas', '22.78', '68', 'Filial 9', '2023-02-02 03:29:53.201930']\n",
            "['Blush em pÃ³', 'Alimentos', '55.52', '33', 'Filial 6', '2023-06-11 03:29:53.201930']\n",
            "['LÃ¡pis de sobrancelha', 'EletrÃ´nicos', '14.2', '10', 'Filial 6', '2022-10-22 03:29:53.201930']\n",
            "['LÃ¡pis de sobrancelha', 'EletrÃ´nicos', '82.46', '47', 'Filial 5', '2023-06-28 03:29:53.201930']\n",
            "['Corretivo', 'EletrÃ´nicos', '21.49', '16', 'Filial 10', '2022-08-29 03:29:53.201930']\n",
            "['MÃ¡scara de cÃ\\xadlios', 'EletrodomÃ©sticos', '16.48', '64', 'Filial 8', '2022-10-09 03:29:53.201930']\n",
            "['PÃ³ compacto', 'EletrÃ´nicos', '81.83', '4', 'Filial 4', '2023-07-12 03:29:53.201930']\n",
            "['Blush em pÃ³', 'Roupas', '9.69', '49', 'Filial 3', '2023-06-06 03:29:53.201930']\n",
            "['MÃ¡scara de cÃ\\xadlios', 'Roupas', '46.52', '68', 'Filial 2', '2023-06-11 03:29:53.201930']\n",
            "['Batom matte', 'EletrÃ´nicos', '87.42', '57', 'Filial 3', '2022-09-22 03:29:53.201930']\n",
            "['Corretivo', 'Alimentos', '70.88', '59', 'Filial 3', '2023-03-12 03:29:53.201930']\n",
            "['MÃ¡scara de cÃ\\xadlios', 'EletrodomÃ©sticos', '87.29', '18', 'Filial 9', '2023-03-02 03:29:53.201930']\n",
            "['Base lÃ\\xadquida', 'EletrÃ´nicos', '14.71', '67', 'Filial 9', '2023-01-21 03:29:53.201930']\n",
            "['MÃ¡scara de cÃ\\xadlios', 'Alimentos', '42.15', '65', 'Filial 2', '2023-01-09 03:29:53.201930']\n",
            "['Corretivo', 'Roupas', '33.59', '38', 'Filial 2', '2022-09-25 03:29:53.201930']\n",
            "['Delineador lÃ\\xadquido', 'Alimentos', '84.24', '73', 'Filial 10', '2022-12-17 03:29:53.201930']\n",
            "['Batom matte', 'EletrÃ´nicos', '45.88', '13', 'Filial 4', '2023-06-09 03:29:53.201930']\n",
            "['Corretivo', 'EletrodomÃ©sticos', '9.7', '15', 'Filial 9', '2023-01-14 03:29:53.201930']\n",
            "['Blush em pÃ³', 'Roupas', '80.98', '6', 'Filial 3', '2022-09-06 03:29:53.201930']\n",
            "['Delineador lÃ\\xadquido', 'Alimentos', '3.7', '37', 'Filial 7', '2022-11-17 03:29:53.201930']\n",
            "['LÃ¡pis de sobrancelha', 'Alimentos', '7.37', '51', 'Filial 3', '2023-02-07 03:29:53.201930']\n",
            "['Sombra de olhos', 'EletrodomÃ©sticos', '21.27', '97', 'Filial 10', '2022-11-19 03:29:53.201930']\n",
            "['Base lÃ\\xadquida', 'Alimentos', '49.3', '17', 'Filial 3', '2023-06-19 03:29:53.201930']\n",
            "['Base lÃ\\xadquida', 'EletrodomÃ©sticos', '24.23', '53', 'Filial 5', '2023-03-18 03:29:53.201930']\n",
            "['LÃ¡pis de sobrancelha', 'Alimentos', '8.96', '75', 'Filial 10', '2023-04-02 03:29:53.201930']\n",
            "['Blush em pÃ³', 'Alimentos', '18.26', '97', 'Filial 9', '2022-11-26 03:29:53.201930']\n",
            "['Sombra de olhos', 'EletrodomÃ©sticos', '55.64', '76', 'Filial 7', '2023-04-05 03:29:53.201930']\n",
            "['Corretivo', 'Alimentos', '15.12', '57', 'Filial 6', '2023-04-03 03:29:53.201930']\n",
            "['PÃ³ compacto', 'EletrodomÃ©sticos', '86.13', '22', 'Filial 1', '2022-11-17 03:29:53.201930']\n",
            "['Corretivo', 'Alimentos', '17.45', '35', 'Filial 1', '2022-11-16 03:29:53.201930']\n",
            "['MÃ¡scara de cÃ\\xadlios', 'EletrÃ´nicos', '46.45', '13', 'Filial 1', '2023-02-25 03:29:53.201930']\n",
            "['PÃ³ compacto', 'Roupas', '71.06', '19', 'Filial 2', '2023-07-17 03:29:53.201930']\n",
            "['Delineador lÃ\\xadquido', 'Alimentos', '79.98', '46', 'Filial 9', '2022-10-06 03:29:53.201930']\n",
            "['Base lÃ\\xadquida', 'EletrodomÃ©sticos', '79.87', '100', 'Filial 7', '2023-07-31 03:29:53.201930']\n",
            "['Delineador lÃ\\xadquido', 'EletrodomÃ©sticos', '33.04', '53', 'Filial 7', '2023-03-23 03:29:53.201930']\n",
            "['LÃ¡pis de sobrancelha', 'EletrÃ´nicos', '58.22', '72', 'Filial 9', '2023-07-22 03:29:53.201930']\n",
            "['Corretivo', 'EletrÃ´nicos', '75.96', '55', 'Filial 4', '2023-01-21 03:29:53.201930']\n",
            "['Batom matte', 'Alimentos', '50.78', '48', 'Filial 9', '2023-05-14 03:29:53.201930']\n",
            "['PÃ³ compacto', 'EletrodomÃ©sticos', '16.51', '58', 'Filial 1', '2023-05-06 03:29:53.201930']\n",
            "['Base lÃ\\xadquida', 'EletrÃ´nicos', '88.74', '73', 'Filial 2', '2022-12-13 03:29:53.201930']\n",
            "['Batom matte', 'EletrodomÃ©sticos', '2.01', '44', 'Filial 10', '2022-09-15 03:29:53.201930']\n",
            "['MÃ¡scara de cÃ\\xadlios', 'EletrÃ´nicos', '22.35', '10', 'Filial 1', '2022-09-20 03:29:53.201930']\n",
            "['Delineador lÃ\\xadquido', 'EletrÃ´nicos', '51.11', '97', 'Filial 9', '2023-05-08 03:29:53.201930']\n",
            "['Delineador lÃ\\xadquido', 'Alimentos', '39.68', '65', 'Filial 7', '2023-05-29 03:29:53.201930']\n",
            "['Corretivo', 'Roupas', '14.52', '15', 'Filial 6', '2023-05-31 03:29:53.201930']\n",
            "['MÃ¡scara de cÃ\\xadlios', 'Roupas', '13.03', '8', 'Filial 1', '2023-05-07 03:29:53.201930']\n",
            "['Sombra de olhos', 'EletrodomÃ©sticos', '54.09', '42', 'Filial 5', '2022-10-15 03:29:53.201930']\n",
            "['Corretivo', 'EletrÃ´nicos', '79.2', '69', 'Filial 7', '2023-05-06 03:29:53.201930']\n",
            "['LÃ¡pis de sobrancelha', 'EletrÃ´nicos', '17.65', '63', 'Filial 2', '2023-02-07 03:29:53.201930']\n",
            "['Blush em pÃ³', 'EletrodomÃ©sticos', '53.35', '100', 'Filial 4', '2023-07-17 03:29:53.201930']\n",
            "['LÃ¡pis de sobrancelha', 'Roupas', '50.87', '73', 'Filial 1', '2023-04-12 03:29:53.201930']\n",
            "['Batom lÃ\\xadquido', 'Alimentos', '55.73', '75', 'Filial 6', '2023-05-14 03:29:53.201930']\n",
            "['PÃ³ compacto', 'Alimentos', '26.35', '84', 'Filial 3', '2023-07-04 03:29:53.201930']\n",
            "['LÃ¡pis de sobrancelha', 'EletrodomÃ©sticos', '61.64', '42', 'Filial 7', '2023-01-11 03:29:53.201930']\n",
            "['Delineador lÃ\\xadquido', 'EletrodomÃ©sticos', '36.82', '85', 'Filial 10', '2023-01-28 03:29:53.201930']\n",
            "['MÃ¡scara de cÃ\\xadlios', 'Alimentos', '74.03', '3', 'Filial 1', '2022-10-31 03:29:53.201930']\n",
            "['LÃ¡pis de sobrancelha', 'EletrodomÃ©sticos', '24.44', '66', 'Filial 1', '2023-05-16 03:29:53.201930']\n",
            "['Batom lÃ\\xadquido', 'EletrÃ´nicos', '32.19', '11', 'Filial 10', '2023-03-10 03:29:53.201930']\n",
            "['Batom matte', 'EletrodomÃ©sticos', '11.59', '64', 'Filial 6', '2023-08-19 03:29:53.201930']\n",
            "['LÃ¡pis de sobrancelha', 'EletrodomÃ©sticos', '4.81', '51', 'Filial 10', '2022-12-19 03:29:53.201930']\n",
            "['Batom matte', 'Roupas', '98.05', '49', 'Filial 4', '2022-09-26 03:29:53.201930']\n",
            "['Sombra de olhos', 'EletrodomÃ©sticos', '75.15', '80', 'Filial 9', '2023-08-02 03:29:53.201930']\n",
            "['Blush em pÃ³', 'Alimentos', '55.74', '40', 'Filial 8', '2022-12-31 03:29:53.201930']\n",
            "['Corretivo', 'EletrÃ´nicos', '85.44', '9', 'Filial 10', '2023-05-23 03:29:53.201930']\n",
            "['LÃ¡pis de sobrancelha', 'EletrÃ´nicos', '43.03', '37', 'Filial 3', '2022-12-13 03:29:53.201930']\n",
            "['Blush em pÃ³', 'EletrÃ´nicos', '41.8', '58', 'Filial 7', '2023-01-07 03:29:53.201930']\n",
            "['Batom lÃ\\xadquido', 'Roupas', '25.07', '18', 'Filial 3', '2022-11-18 03:29:53.201930']\n",
            "['Batom lÃ\\xadquido', 'Alimentos', '52.34', '100', 'Filial 8', '2022-10-08 03:29:53.201930']\n",
            "['LÃ¡pis de sobrancelha', 'EletrodomÃ©sticos', '19.83', '86', 'Filial 10', '2023-03-19 03:29:53.201930']\n",
            "['LÃ¡pis de sobrancelha', 'Roupas', '18.74', '3', 'Filial 6', '2023-07-22 03:29:53.201930']\n",
            "['Batom matte', 'Roupas', '87.96', '71', 'Filial 9', '2023-06-27 03:29:53.201930']\n",
            "['Corretivo', 'Alimentos', '59.41', '34', 'Filial 4', '2022-10-09 03:29:53.201930']\n",
            "['LÃ¡pis de sobrancelha', 'EletrodomÃ©sticos', '86.44', '62', 'Filial 8', '2022-11-24 03:29:53.201930']\n",
            "['PÃ³ compacto', 'EletrodomÃ©sticos', '71.76', '82', 'Filial 2', '2023-03-21 03:29:53.201930']\n",
            "['Corretivo', 'EletrÃ´nicos', '22.58', '41', 'Filial 6', '2023-08-03 03:29:53.201930']\n",
            "['Batom matte', 'Alimentos', '30.74', '28', 'Filial 1', '2023-03-21 03:29:53.201930']\n",
            "['Delineador lÃ\\xadquido', 'Alimentos', '29.01', '98', 'Filial 3', '2023-04-30 03:29:53.201930']\n",
            "['Sombra de olhos', 'EletrodomÃ©sticos', '12.02', '14', 'Filial 8', '2023-05-25 03:29:53.201930']\n",
            "['Batom matte', 'EletrÃ´nicos', '52.33', '100', 'Filial 1', '2023-06-06 03:29:53.201930']\n",
            "['Corretivo', 'Alimentos', '71.72', '59', 'Filial 9', '2023-04-22 03:29:53.201930']\n",
            "['MÃ¡scara de cÃ\\xadlios', 'EletrodomÃ©sticos', '33.12', '30', 'Filial 8', '2022-11-28 03:29:53.201930']\n",
            "['Blush em pÃ³', 'EletrÃ´nicos', '34.01', '56', 'Filial 5', '2023-01-30 03:29:53.201930']\n",
            "['Base lÃ\\xadquida', 'EletrÃ´nicos', '59.21', '21', 'Filial 1', '2023-06-19 03:29:53.201930']\n",
            "['PÃ³ compacto', 'EletrÃ´nicos', '93.77', '55', 'Filial 6', '2023-03-01 03:29:53.201930']\n",
            "['Corretivo', 'EletrÃ´nicos', '60.78', '39', 'Filial 5', '2022-09-07 03:29:53.201930']\n",
            "['Delineador lÃ\\xadquido', 'EletrodomÃ©sticos', '97.8', '99', 'Filial 1', '2023-05-28 03:29:53.201930']\n",
            "['Sombra de olhos', 'Alimentos', '90.38', '51', 'Filial 1', '2022-11-27 03:29:53.201930']\n",
            "['PÃ³ compacto', 'EletrodomÃ©sticos', '8.89', '74', 'Filial 9', '2022-11-24 03:29:53.201930']\n",
            "['Corretivo', 'Alimentos', '27.29', '55', 'Filial 7', '2023-08-10 03:29:53.201930']\n",
            "['Corretivo', 'Alimentos', '58.78', '45', 'Filial 9', '2022-09-30 03:29:53.201930']\n",
            "['Batom lÃ\\xadquido', 'Alimentos', '94.14', '81', 'Filial 9', '2022-10-27 03:29:53.201930']\n",
            "['Corretivo', 'Alimentos', '21.7', '86', 'Filial 4', '2022-10-04 03:29:53.201930']\n",
            "['Base lÃ\\xadquida', 'Roupas', '74.02', '79', 'Filial 1', '2023-06-10 03:29:53.201930']\n",
            "['PÃ³ compacto', 'Alimentos', '1.01', '26', 'Filial 8', '2022-11-30 03:29:53.201930']\n",
            "['LÃ¡pis de sobrancelha', 'EletrodomÃ©sticos', '27.05', '8', 'Filial 5', '2022-08-29 03:29:53.201930']\n",
            "['MÃ¡scara de cÃ\\xadlios', 'Roupas', '67.25', '70', 'Filial 4', '2022-12-21 03:29:53.201930']\n",
            "['Blush em pÃ³', 'Roupas', '96.57', '11', 'Filial 9', '2023-06-13 03:29:53.201930']\n",
            "['PÃ³ compacto', 'Alimentos', '49.24', '79', 'Filial 1', '2023-06-10 03:29:53.201930']\n",
            "['Delineador lÃ\\xadquido', 'Roupas', '66.12', '54', 'Filial 8', '2022-09-29 03:29:53.201930']\n",
            "['Delineador lÃ\\xadquido', 'EletrodomÃ©sticos', '59.74', '32', 'Filial 9', '2023-01-13 03:29:53.201930']\n",
            "['Batom matte', 'Alimentos', '69.47', '17', 'Filial 6', '2023-07-14 03:29:53.201930']\n",
            "['Batom lÃ\\xadquido', 'Alimentos', '30.08', '52', 'Filial 8', '2023-05-17 03:29:53.201930']\n",
            "['Sombra de olhos', 'Roupas', '22.16', '11', 'Filial 4', '2023-04-27 03:29:53.201930']\n",
            "['LÃ¡pis de sobrancelha', 'EletrÃ´nicos', '70.5', '73', 'Filial 9', '2022-11-11 03:29:53.201930']\n",
            "['Blush em pÃ³', 'Alimentos', '43.19', '31', 'Filial 10', '2022-10-18 03:29:53.201930']\n",
            "['Delineador lÃ\\xadquido', 'Alimentos', '53.25', '52', 'Filial 6', '2023-07-17 03:29:53.201930']\n",
            "['Sombra de olhos', 'Roupas', '83.85', '30', 'Filial 10', '2022-11-16 03:29:53.201930']\n",
            "['LÃ¡pis de sobrancelha', 'Roupas', '55.79', '88', 'Filial 6', '2023-03-18 03:29:53.201930']\n",
            "['Base lÃ\\xadquida', 'Alimentos', '20.83', '53', 'Filial 10', '2023-02-08 03:29:53.201930']\n",
            "['Corretivo', 'Roupas', '72.64', '55', 'Filial 1', '2023-01-16 03:29:53.201930']\n",
            "['LÃ¡pis de sobrancelha', 'Roupas', '11.79', '93', 'Filial 10', '2022-12-05 03:29:53.201930']\n",
            "['Blush em pÃ³', 'Alimentos', '2.38', '10', 'Filial 7', '2023-01-09 03:29:53.201930']\n",
            "['Batom lÃ\\xadquido', 'Roupas', '7.24', '80', 'Filial 3', '2023-05-04 03:29:53.201930']\n",
            "['Corretivo', 'EletrÃ´nicos', '1.91', '36', 'Filial 10', '2022-11-11 03:29:53.201930']\n",
            "['LÃ¡pis de sobrancelha', 'Alimentos', '54.83', '44', 'Filial 2', '2022-12-31 03:29:53.201930']\n",
            "['PÃ³ compacto', 'EletrÃ´nicos', '86.79', '73', 'Filial 4', '2023-04-26 03:29:53.201930']\n",
            "['Base lÃ\\xadquida', 'Roupas', '21.17', '38', 'Filial 6', '2022-09-11 03:29:53.201930']\n",
            "['MÃ¡scara de cÃ\\xadlios', 'Alimentos', '49.0', '57', 'Filial 2', '2023-04-15 03:29:53.201930']\n",
            "['Blush em pÃ³', 'Roupas', '74.03', '11', 'Filial 8', '2023-08-01 03:29:53.201930']\n",
            "['PÃ³ compacto', 'EletrÃ´nicos', '45.74', '2', 'Filial 2', '2023-01-27 03:29:53.201930']\n",
            "['Delineador lÃ\\xadquido', 'Alimentos', '64.28', '13', 'Filial 8', '2023-08-06 03:29:53.201930']\n",
            "['Blush em pÃ³', 'Alimentos', '78.92', '91', 'Filial 4', '2023-05-31 03:29:53.201930']\n",
            "['Sombra de olhos', 'Alimentos', '61.5', '33', 'Filial 6', '2022-12-01 03:29:53.201930']\n",
            "['Delineador lÃ\\xadquido', 'Roupas', '58.14', '53', 'Filial 7', '2023-04-04 03:29:53.201930']\n",
            "['MÃ¡scara de cÃ\\xadlios', 'EletrodomÃ©sticos', '4.06', '74', 'Filial 2', '2022-11-19 03:29:53.201930']\n",
            "['LÃ¡pis de sobrancelha', 'EletrodomÃ©sticos', '57.22', '5', 'Filial 5', '2023-03-23 03:29:53.201930']\n",
            "['Blush em pÃ³', 'EletrÃ´nicos', '89.11', '55', 'Filial 8', '2022-09-01 03:29:53.201930']\n",
            "['LÃ¡pis de sobrancelha', 'EletrÃ´nicos', '6.12', '70', 'Filial 3', '2023-02-21 03:29:53.201930']\n",
            "['PÃ³ compacto', 'EletrÃ´nicos', '58.75', '74', 'Filial 1', '2022-08-29 03:29:53.201930']\n",
            "['Blush em pÃ³', 'Roupas', '3.61', '6', 'Filial 3', '2022-11-10 03:29:53.201930']\n",
            "['PÃ³ compacto', 'EletrÃ´nicos', '28.62', '11', 'Filial 5', '2023-01-02 03:29:53.201930']\n",
            "['Corretivo', 'Roupas', '29.39', '35', 'Filial 2', '2023-05-15 03:29:53.201930']\n",
            "['Sombra de olhos', 'EletrodomÃ©sticos', '43.82', '12', 'Filial 10', '2023-07-06 03:29:53.201930']\n",
            "['PÃ³ compacto', 'Roupas', '84.06', '67', 'Filial 3', '2023-06-04 03:29:53.201930']\n",
            "['Sombra de olhos', 'Roupas', '31.5', '64', 'Filial 5', '2023-07-15 03:29:53.201930']\n",
            "['MÃ¡scara de cÃ\\xadlios', 'EletrodomÃ©sticos', '53.26', '1', 'Filial 10', '2023-07-28 03:29:53.201930']\n",
            "['PÃ³ compacto', 'Alimentos', '90.17', '8', 'Filial 4', '2022-12-31 03:29:53.201930']\n",
            "['Delineador lÃ\\xadquido', 'EletrodomÃ©sticos', '67.07', '69', 'Filial 6', '2022-10-10 03:29:53.201930']\n",
            "['Blush em pÃ³', 'Alimentos', '16.35', '75', 'Filial 6', '2022-10-03 03:29:53.201930']\n",
            "['Batom matte', 'EletrodomÃ©sticos', '45.71', '45', 'Filial 5', '2023-04-14 03:29:53.201930']\n",
            "['Sombra de olhos', 'Roupas', '57.13', '92', 'Filial 7', '2023-04-19 03:29:53.201930']\n",
            "['Base lÃ\\xadquida', 'Roupas', '28.26', '68', 'Filial 9', '2023-01-10 03:29:53.201930']\n",
            "['LÃ¡pis de sobrancelha', 'EletrÃ´nicos', '71.63', '8', 'Filial 3', '2023-06-20 03:29:53.201930']\n",
            "['Batom lÃ\\xadquido', 'Roupas', '34.7', '25', 'Filial 7', '2023-07-22 03:29:53.201930']\n",
            "['Base lÃ\\xadquida', 'EletrÃ´nicos', '47.62', '12', 'Filial 5', '2023-03-26 03:29:53.201930']\n",
            "['Corretivo', 'EletrÃ´nicos', '64.54', '32', 'Filial 8', '2023-05-22 03:29:53.201930']\n",
            "['Delineador lÃ\\xadquido', 'EletrodomÃ©sticos', '52.56', '80', 'Filial 9', '2022-11-27 03:29:53.201930']\n",
            "['Batom matte', 'EletrodomÃ©sticos', '70.12', '68', 'Filial 2', '2022-09-16 03:29:53.201930']\n",
            "['Delineador lÃ\\xadquido', 'EletrodomÃ©sticos', '68.72', '89', 'Filial 1', '2023-04-05 03:29:53.201930']\n",
            "['Corretivo', 'Alimentos', '51.03', '11', 'Filial 6', '2022-09-02 03:29:53.201930']\n",
            "['LÃ¡pis de sobrancelha', 'Roupas', '59.84', '77', 'Filial 7', '2022-11-22 03:29:53.201930']\n",
            "['Corretivo', 'Alimentos', '5.66', '24', 'Filial 7', '2022-10-01 03:29:53.201930']\n",
            "['Batom matte', 'EletrÃ´nicos', '72.24', '51', 'Filial 1', '2023-05-17 03:29:53.201930']\n",
            "['Blush em pÃ³', 'EletrodomÃ©sticos', '40.62', '24', 'Filial 2', '2023-01-08 03:29:53.201930']\n",
            "['LÃ¡pis de sobrancelha', 'EletrodomÃ©sticos', '56.15', '16', 'Filial 6', '2023-03-29 03:29:53.201930']\n",
            "['MÃ¡scara de cÃ\\xadlios', 'Alimentos', '25.71', '29', 'Filial 1', '2023-07-25 03:29:53.201930']\n",
            "['PÃ³ compacto', 'EletrÃ´nicos', '80.74', '75', 'Filial 10', '2022-11-26 03:29:53.201930']\n",
            "['Batom matte', 'EletrodomÃ©sticos', '51.6', '56', 'Filial 8', '2023-08-06 03:29:53.201930']\n",
            "['Batom matte', 'EletrodomÃ©sticos', '68.61', '15', 'Filial 9', '2022-10-06 03:29:53.201930']\n",
            "['Base lÃ\\xadquida', 'EletrÃ´nicos', '70.72', '5', 'Filial 9', '2023-05-09 03:29:53.201930']\n",
            "['Batom lÃ\\xadquido', 'EletrodomÃ©sticos', '66.36', '72', 'Filial 9', '2022-11-14 03:29:53.201930']\n",
            "['PÃ³ compacto', 'EletrÃ´nicos', '8.72', '15', 'Filial 8', '2023-02-06 03:29:53.201930']\n",
            "['LÃ¡pis de sobrancelha', 'Roupas', '5.74', '100', 'Filial 3', '2023-07-11 03:29:53.201930']\n",
            "['PÃ³ compacto', 'Alimentos', '84.65', '43', 'Filial 9', '2023-07-12 03:29:53.201930']\n",
            "['Batom matte', 'Roupas', '12.11', '68', 'Filial 10', '2023-03-07 03:29:53.201930']\n",
            "['Corretivo', 'Alimentos', '92.59', '53', 'Filial 9', '2023-06-04 03:29:53.201930']\n",
            "['Base lÃ\\xadquida', 'Roupas', '76.57', '17', 'Filial 3', '2022-11-25 03:29:53.201930']\n",
            "['LÃ¡pis de sobrancelha', 'Alimentos', '46.72', '49', 'Filial 7', '2023-06-09 03:29:53.201930']\n",
            "['Corretivo', 'Roupas', '61.03', '5', 'Filial 5', '2022-10-16 03:29:53.201930']\n",
            "['Base lÃ\\xadquida', 'EletrÃ´nicos', '63.08', '48', 'Filial 9', '2022-09-05 03:29:53.201930']\n",
            "['Blush em pÃ³', 'Alimentos', '16.66', '98', 'Filial 1', '2023-06-13 03:29:53.201930']\n",
            "['Corretivo', 'EletrÃ´nicos', '70.9', '89', 'Filial 8', '2023-03-31 03:29:53.201930']\n",
            "['Corretivo', 'Roupas', '21.44', '83', 'Filial 1', '2022-12-31 03:29:53.201930']\n",
            "['Base lÃ\\xadquida', 'Roupas', '98.62', '43', 'Filial 5', '2022-12-19 03:29:53.201930']\n",
            "['Corretivo', 'EletrÃ´nicos', '31.93', '7', 'Filial 9', '2022-12-31 03:29:53.201930']\n",
            "['Sombra de olhos', 'Roupas', '44.12', '25', 'Filial 9', '2023-02-05 03:29:53.201930']\n",
            "['Delineador lÃ\\xadquido', 'Alimentos', '86.35', '81', 'Filial 2', '2022-09-30 03:29:53.201930']\n",
            "['Blush em pÃ³', 'EletrodomÃ©sticos', '48.2', '26', 'Filial 2', '2022-10-01 03:29:53.201930']\n",
            "['Sombra de olhos', 'Roupas', '52.31', '10', 'Filial 4', '2022-11-08 03:29:53.201930']\n",
            "['Sombra de olhos', 'EletrodomÃ©sticos', '47.53', '71', 'Filial 5', '2023-08-11 03:29:53.201930']\n",
            "['MÃ¡scara de cÃ\\xadlios', 'EletrodomÃ©sticos', '14.07', '35', 'Filial 4', '2022-12-31 03:29:53.201930']\n",
            "['Corretivo', 'EletrÃ´nicos', '70.49', '69', 'Filial 5', '2023-06-28 03:29:53.201930']\n",
            "['MÃ¡scara de cÃ\\xadlios', 'EletrÃ´nicos', '74.76', '8', 'Filial 3', '2023-02-25 03:29:53.201930']\n",
            "['LÃ¡pis de sobrancelha', 'EletrÃ´nicos', '13.17', '54', 'Filial 2', '2023-08-13 03:29:53.201930']\n",
            "['MÃ¡scara de cÃ\\xadlios', 'Roupas', '67.82', '40', 'Filial 6', '2022-09-16 03:29:53.201930']\n",
            "['Batom lÃ\\xadquido', 'EletrÃ´nicos', '8.03', '97', 'Filial 9', '2023-05-13 03:29:53.201930']\n",
            "['Delineador lÃ\\xadquido', 'EletrodomÃ©sticos', '36.26', '86', 'Filial 7', '2023-01-08 03:29:53.201930']\n",
            "['Blush em pÃ³', 'Roupas', '91.4', '36', 'Filial 3', '2023-07-16 03:29:53.201930']\n",
            "['Batom lÃ\\xadquido', 'Alimentos', '10.16', '38', 'Filial 7', '2022-08-27 03:29:53.201930']\n",
            "['Batom lÃ\\xadquido', 'EletrÃ´nicos', '38.36', '20', 'Filial 1', '2023-01-11 03:29:53.201930']\n",
            "['PÃ³ compacto', 'EletrodomÃ©sticos', '57.95', '4', 'Filial 7', '2023-04-18 03:29:53.201930']\n",
            "['Batom matte', 'EletrÃ´nicos', '30.22', '79', 'Filial 3', '2022-08-25 03:29:53.201930']\n",
            "['Base lÃ\\xadquida', 'EletrodomÃ©sticos', '2.61', '64', 'Filial 9', '2023-02-10 03:29:53.201930']\n",
            "['MÃ¡scara de cÃ\\xadlios', 'EletrodomÃ©sticos', '34.51', '3', 'Filial 1', '2023-04-04 03:29:53.201930']\n",
            "['Base lÃ\\xadquida', 'EletrÃ´nicos', '26.82', '59', 'Filial 6', '2023-01-26 03:29:53.201930']\n",
            "['PÃ³ compacto', 'EletrÃ´nicos', '25.6', '93', 'Filial 5', '2022-12-13 03:29:53.201930']\n",
            "['Batom matte', 'Roupas', '43.13', '72', 'Filial 5', '2023-06-12 03:29:53.201930']\n",
            "['LÃ¡pis de sobrancelha', 'Alimentos', '54.56', '14', 'Filial 7', '2022-09-15 03:29:53.201930']\n",
            "['Delineador lÃ\\xadquido', 'EletrÃ´nicos', '90.08', '95', 'Filial 5', '2023-03-25 03:29:53.201930']\n",
            "['Batom matte', 'Roupas', '56.43', '35', 'Filial 6', '2023-06-11 03:29:53.201930']\n",
            "['PÃ³ compacto', 'EletrodomÃ©sticos', '21.83', '85', 'Filial 7', '2023-07-13 03:29:53.201930']\n",
            "['Batom matte', 'EletrÃ´nicos', '25.6', '53', 'Filial 4', '2022-11-15 03:29:53.201930']\n",
            "['MÃ¡scara de cÃ\\xadlios', 'Alimentos', '28.19', '97', 'Filial 2', '2023-06-28 03:29:53.201930']\n",
            "['Corretivo', 'EletrodomÃ©sticos', '41.35', '6', 'Filial 3', '2023-01-17 03:29:53.201930']\n",
            "['Corretivo', 'Roupas', '45.56', '94', 'Filial 5', '2023-03-10 03:29:53.201930']\n",
            "['MÃ¡scara de cÃ\\xadlios', 'Alimentos', '55.78', '55', 'Filial 5', '2023-05-15 03:29:53.201930']\n",
            "['LÃ¡pis de sobrancelha', 'Alimentos', '17.57', '64', 'Filial 3', '2023-06-28 03:29:53.201930']\n",
            "['PÃ³ compacto', 'Roupas', '49.59', '26', 'Filial 8', '2023-08-13 03:29:53.201930']\n",
            "['MÃ¡scara de cÃ\\xadlios', 'EletrodomÃ©sticos', '52.93', '13', 'Filial 5', '2023-02-06 03:29:53.201930']\n",
            "['Blush em pÃ³', 'Alimentos', '76.01', '77', 'Filial 5', '2023-04-21 03:29:53.201930']\n",
            "['Batom matte', 'Roupas', '69.77', '48', 'Filial 10', '2023-07-26 03:29:53.201930']\n",
            "['LÃ¡pis de sobrancelha', 'Alimentos', '61.5', '16', 'Filial 1', '2023-08-03 03:29:53.201930']\n",
            "['Base lÃ\\xadquida', 'Alimentos', '86.81', '36', 'Filial 8', '2023-07-20 03:29:53.201930']\n",
            "['Batom lÃ\\xadquido', 'Alimentos', '69.27', '38', 'Filial 8', '2022-10-14 03:29:53.201930']\n",
            "['Base lÃ\\xadquida', 'EletrodomÃ©sticos', '93.4', '85', 'Filial 10', '2022-12-06 03:29:53.201930']\n",
            "['Sombra de olhos', 'Roupas', '83.98', '72', 'Filial 6', '2023-01-05 03:29:53.201930']\n",
            "['Blush em pÃ³', 'EletrodomÃ©sticos', '24.28', '47', 'Filial 5', '2023-05-18 03:29:53.201930']\n",
            "['Delineador lÃ\\xadquido', 'Roupas', '44.58', '93', 'Filial 7', '2023-06-26 03:29:53.201930']\n",
            "['LÃ¡pis de sobrancelha', 'EletrÃ´nicos', '18.94', '93', 'Filial 7', '2022-11-28 03:29:53.201930']\n",
            "['Base lÃ\\xadquida', 'Roupas', '35.37', '91', 'Filial 2', '2023-05-14 03:29:53.201930']\n",
            "['MÃ¡scara de cÃ\\xadlios', 'EletrodomÃ©sticos', '65.01', '14', 'Filial 8', '2022-11-27 03:29:53.201930']\n",
            "['Batom matte', 'Roupas', '95.57', '60', 'Filial 10', '2023-03-11 03:29:53.201930']\n",
            "['Corretivo', 'EletrodomÃ©sticos', '70.9', '42', 'Filial 4', '2023-04-14 03:29:53.201930']\n",
            "['Delineador lÃ\\xadquido', 'EletrÃ´nicos', '4.47', '77', 'Filial 5', '2023-07-22 03:29:53.201930']\n",
            "['LÃ¡pis de sobrancelha', 'Alimentos', '99.83', '99', 'Filial 9', '2022-12-20 03:29:53.201930']\n",
            "['Batom matte', 'EletrÃ´nicos', '35.62', '62', 'Filial 7', '2023-06-22 03:29:53.201930']\n",
            "['MÃ¡scara de cÃ\\xadlios', 'EletrÃ´nicos', '70.24', '79', 'Filial 10', '2023-01-13 03:29:53.201930']\n",
            "['PÃ³ compacto', 'EletrodomÃ©sticos', '92.26', '29', 'Filial 7', '2023-05-10 03:29:53.201930']\n",
            "['LÃ¡pis de sobrancelha', 'EletrÃ´nicos', '2.26', '97', 'Filial 7', '2022-12-26 03:29:53.201930']\n",
            "['PÃ³ compacto', 'Alimentos', '81.5', '81', 'Filial 9', '2023-02-04 03:29:53.201930']\n"
          ]
        }
      ],
      "source": [
        "with open(path_csv) as csvfile:\n",
        "    spamreader = csv.reader(csvfile, delimiter=',')\n",
        "    for row in spamreader:\n",
        "        print(row)"
      ]
    },
    {
      "cell_type": "code",
      "execution_count": 16,
      "metadata": {
        "colab": {
          "base_uri": "https://localhost:8080/"
        },
        "id": "quRBUi8FwmAg",
        "outputId": "987ec736-fa06-43f9-ed78-7209b51dd9d3"
      },
      "outputs": [
        {
          "data": {
            "text/plain": [
              "[['Nome do Item',\n",
              "  'ClassificaÃ§Ã£o do Produto',\n",
              "  'Valor em Reais (R$)',\n",
              "  'Quantidade em Estoque',\n",
              "  'Nome da Loja',\n",
              "  'Data da Venda'],\n",
              " ['Base lÃ\\xadquida',\n",
              "  'Roupas',\n",
              "  '38.01',\n",
              "  '77',\n",
              "  'Filial 5',\n",
              "  '2023-04-03 03:29:53.201930'],\n",
              " ['Base lÃ\\xadquida',\n",
              "  'Roupas',\n",
              "  '86.78',\n",
              "  '90',\n",
              "  'Filial 8',\n",
              "  '2023-03-21 03:29:53.201930'],\n",
              " ['Base lÃ\\xadquida',\n",
              "  'EletrÃ´nicos',\n",
              "  '34.43',\n",
              "  '22',\n",
              "  'Filial 10',\n",
              "  '2023-03-02 03:29:53.201930'],\n",
              " ['LÃ¡pis de sobrancelha',\n",
              "  'Roupas',\n",
              "  '9.4',\n",
              "  '73',\n",
              "  'Filial 9',\n",
              "  '2023-03-23 03:29:53.201930']]"
            ]
          },
          "execution_count": 16,
          "metadata": {},
          "output_type": "execute_result"
        }
      ],
      "source": [
        "with open(path_csv) as csvfile:\n",
        "    spamreader = csv.reader(csvfile, delimiter=',')\n",
        "    lista = []\n",
        "    for row in spamreader:\n",
        "      lista.append(row)\n",
        "lista[:5]"
      ]
    },
    {
      "cell_type": "markdown",
      "metadata": {
        "id": "a0xLb4NK96T3"
      },
      "source": [
        "## DictReader\n",
        "\n",
        "https://docs.python.org/3/library/csv.html#csv.DictReader"
      ]
    },
    {
      "cell_type": "code",
      "execution_count": 17,
      "metadata": {
        "id": "XS0wVfR19ucs"
      },
      "outputs": [],
      "source": [
        "# Replace 'your_file.csv' with the path to your CSV file.\n",
        "with open(path_csv, mode='r') as csv_file:\n",
        "    # Create a DictReader object and specify the delimiter if it's not a comma.\n",
        "    csv_reader = csv.DictReader(csv_file)\n"
      ]
    },
    {
      "cell_type": "code",
      "execution_count": 18,
      "metadata": {
        "colab": {
          "base_uri": "https://localhost:8080/"
        },
        "id": "8di5t-wgG8qy",
        "outputId": "31cd35ee-0a09-406e-fa88-159db090f2e0"
      },
      "outputs": [
        {
          "data": {
            "text/plain": [
              "csv.DictReader"
            ]
          },
          "execution_count": 18,
          "metadata": {},
          "output_type": "execute_result"
        }
      ],
      "source": [
        "type(csv_reader)"
      ]
    },
    {
      "cell_type": "code",
      "execution_count": 19,
      "metadata": {
        "colab": {
          "base_uri": "https://localhost:8080/"
        },
        "id": "mSRwTIAzSejy",
        "outputId": "f3683bcc-b54a-4095-add2-698e2248ba90"
      },
      "outputs": [
        {
          "name": "stdout",
          "output_type": "stream",
          "text": [
            "{'Nome do Item': 'Base lÃ\\xadquida', 'ClassificaÃ§Ã£o do Produto': 'Roupas', 'Valor em Reais (R$)': '38.01', 'Quantidade em Estoque': '77', 'Nome da Loja': 'Filial 5', 'Data da Venda': '2023-04-03 03:29:53.201930'}\n",
            "{'Nome do Item': 'Base lÃ\\xadquida', 'ClassificaÃ§Ã£o do Produto': 'Roupas', 'Valor em Reais (R$)': '86.78', 'Quantidade em Estoque': '90', 'Nome da Loja': 'Filial 8', 'Data da Venda': '2023-03-21 03:29:53.201930'}\n",
            "{'Nome do Item': 'Base lÃ\\xadquida', 'ClassificaÃ§Ã£o do Produto': 'EletrÃ´nicos', 'Valor em Reais (R$)': '34.43', 'Quantidade em Estoque': '22', 'Nome da Loja': 'Filial 10', 'Data da Venda': '2023-03-02 03:29:53.201930'}\n",
            "{'Nome do Item': 'LÃ¡pis de sobrancelha', 'ClassificaÃ§Ã£o do Produto': 'Roupas', 'Valor em Reais (R$)': '9.4', 'Quantidade em Estoque': '73', 'Nome da Loja': 'Filial 9', 'Data da Venda': '2023-03-23 03:29:53.201930'}\n",
            "{'Nome do Item': 'LÃ¡pis de sobrancelha', 'ClassificaÃ§Ã£o do Produto': 'Alimentos', 'Valor em Reais (R$)': '89.25', 'Quantidade em Estoque': '26', 'Nome da Loja': 'Filial 4', 'Data da Venda': '2022-09-27 03:29:53.201930'}\n",
            "{'Nome do Item': 'Batom lÃ\\xadquido', 'ClassificaÃ§Ã£o do Produto': 'Alimentos', 'Valor em Reais (R$)': '3.45', 'Quantidade em Estoque': '32', 'Nome da Loja': 'Filial 1', 'Data da Venda': '2022-12-16 03:29:53.201930'}\n",
            "{'Nome do Item': 'Sombra de olhos', 'ClassificaÃ§Ã£o do Produto': 'Alimentos', 'Valor em Reais (R$)': '35.01', 'Quantidade em Estoque': '41', 'Nome da Loja': 'Filial 6', 'Data da Venda': '2022-08-22 03:29:53.201930'}\n",
            "{'Nome do Item': 'Base lÃ\\xadquida', 'ClassificaÃ§Ã£o do Produto': 'EletrodomÃ©sticos', 'Valor em Reais (R$)': '34.93', 'Quantidade em Estoque': '39', 'Nome da Loja': 'Filial 8', 'Data da Venda': '2023-05-27 03:29:53.201930'}\n",
            "{'Nome do Item': 'Corretivo', 'ClassificaÃ§Ã£o do Produto': 'EletrÃ´nicos', 'Valor em Reais (R$)': '75.54', 'Quantidade em Estoque': '79', 'Nome da Loja': 'Filial 1', 'Data da Venda': '2022-11-07 03:29:53.201930'}\n",
            "{'Nome do Item': 'Delineador lÃ\\xadquido', 'ClassificaÃ§Ã£o do Produto': 'EletrodomÃ©sticos', 'Valor em Reais (R$)': '53.04', 'Quantidade em Estoque': '26', 'Nome da Loja': 'Filial 4', 'Data da Venda': '2022-10-04 03:29:53.201930'}\n",
            "{'Nome do Item': 'Base lÃ\\xadquida', 'ClassificaÃ§Ã£o do Produto': 'Roupas', 'Valor em Reais (R$)': '21.85', 'Quantidade em Estoque': '3', 'Nome da Loja': 'Filial 7', 'Data da Venda': '2022-09-22 03:29:53.201930'}\n",
            "{'Nome do Item': 'MÃ¡scara de cÃ\\xadlios', 'ClassificaÃ§Ã£o do Produto': 'EletrodomÃ©sticos', 'Valor em Reais (R$)': '25.28', 'Quantidade em Estoque': '41', 'Nome da Loja': 'Filial 7', 'Data da Venda': '2022-11-03 03:29:53.201930'}\n",
            "{'Nome do Item': 'Delineador lÃ\\xadquido', 'ClassificaÃ§Ã£o do Produto': 'Alimentos', 'Valor em Reais (R$)': '27.11', 'Quantidade em Estoque': '10', 'Nome da Loja': 'Filial 8', 'Data da Venda': '2023-08-07 03:29:53.201930'}\n",
            "{'Nome do Item': 'Delineador lÃ\\xadquido', 'ClassificaÃ§Ã£o do Produto': 'EletrÃ´nicos', 'Valor em Reais (R$)': '86.33', 'Quantidade em Estoque': '64', 'Nome da Loja': 'Filial 9', 'Data da Venda': '2022-11-13 03:29:53.201930'}\n",
            "{'Nome do Item': 'Batom lÃ\\xadquido', 'ClassificaÃ§Ã£o do Produto': 'EletrÃ´nicos', 'Valor em Reais (R$)': '34.32', 'Quantidade em Estoque': '33', 'Nome da Loja': 'Filial 4', 'Data da Venda': '2023-07-27 03:29:53.201930'}\n",
            "{'Nome do Item': 'PÃ³ compacto', 'ClassificaÃ§Ã£o do Produto': 'EletrodomÃ©sticos', 'Valor em Reais (R$)': '17.68', 'Quantidade em Estoque': '43', 'Nome da Loja': 'Filial 6', 'Data da Venda': '2023-06-13 03:29:53.201930'}\n",
            "{'Nome do Item': 'Batom lÃ\\xadquido', 'ClassificaÃ§Ã£o do Produto': 'EletrodomÃ©sticos', 'Valor em Reais (R$)': '66.29', 'Quantidade em Estoque': '86', 'Nome da Loja': 'Filial 10', 'Data da Venda': '2023-08-04 03:29:53.201930'}\n",
            "{'Nome do Item': 'LÃ¡pis de sobrancelha', 'ClassificaÃ§Ã£o do Produto': 'EletrÃ´nicos', 'Valor em Reais (R$)': '95.06', 'Quantidade em Estoque': '26', 'Nome da Loja': 'Filial 9', 'Data da Venda': '2022-12-09 03:29:53.201930'}\n",
            "{'Nome do Item': 'Batom matte', 'ClassificaÃ§Ã£o do Produto': 'EletrÃ´nicos', 'Valor em Reais (R$)': '3.2', 'Quantidade em Estoque': '24', 'Nome da Loja': 'Filial 8', 'Data da Venda': '2022-11-28 03:29:53.201930'}\n",
            "{'Nome do Item': 'Base lÃ\\xadquida', 'ClassificaÃ§Ã£o do Produto': 'Alimentos', 'Valor em Reais (R$)': '30.86', 'Quantidade em Estoque': '36', 'Nome da Loja': 'Filial 9', 'Data da Venda': '2022-12-07 03:29:53.201930'}\n",
            "{'Nome do Item': 'MÃ¡scara de cÃ\\xadlios', 'ClassificaÃ§Ã£o do Produto': 'Alimentos', 'Valor em Reais (R$)': '18.83', 'Quantidade em Estoque': '95', 'Nome da Loja': 'Filial 5', 'Data da Venda': '2023-01-29 03:29:53.201930'}\n",
            "{'Nome do Item': 'Base lÃ\\xadquida', 'ClassificaÃ§Ã£o do Produto': 'EletrodomÃ©sticos', 'Valor em Reais (R$)': '8.65', 'Quantidade em Estoque': '59', 'Nome da Loja': 'Filial 4', 'Data da Venda': '2022-10-13 03:29:53.201930'}\n",
            "{'Nome do Item': 'PÃ³ compacto', 'ClassificaÃ§Ã£o do Produto': 'EletrodomÃ©sticos', 'Valor em Reais (R$)': '59.39', 'Quantidade em Estoque': '19', 'Nome da Loja': 'Filial 6', 'Data da Venda': '2022-11-09 03:29:53.201930'}\n",
            "{'Nome do Item': 'Corretivo', 'ClassificaÃ§Ã£o do Produto': 'EletrÃ´nicos', 'Valor em Reais (R$)': '91.88', 'Quantidade em Estoque': '70', 'Nome da Loja': 'Filial 1', 'Data da Venda': '2022-12-05 03:29:53.201930'}\n",
            "{'Nome do Item': 'Delineador lÃ\\xadquido', 'ClassificaÃ§Ã£o do Produto': 'Roupas', 'Valor em Reais (R$)': '13.57', 'Quantidade em Estoque': '28', 'Nome da Loja': 'Filial 6', 'Data da Venda': '2022-12-06 03:29:53.201930'}\n",
            "{'Nome do Item': 'Batom lÃ\\xadquido', 'ClassificaÃ§Ã£o do Produto': 'EletrodomÃ©sticos', 'Valor em Reais (R$)': '51.99', 'Quantidade em Estoque': '93', 'Nome da Loja': 'Filial 6', 'Data da Venda': '2023-01-23 03:29:53.201930'}\n",
            "{'Nome do Item': 'Blush em pÃ³', 'ClassificaÃ§Ã£o do Produto': 'EletrÃ´nicos', 'Valor em Reais (R$)': '32.8', 'Quantidade em Estoque': '30', 'Nome da Loja': 'Filial 10', 'Data da Venda': '2023-01-18 03:29:53.201930'}\n",
            "{'Nome do Item': 'Delineador lÃ\\xadquido', 'ClassificaÃ§Ã£o do Produto': 'EletrÃ´nicos', 'Valor em Reais (R$)': '59.71', 'Quantidade em Estoque': '14', 'Nome da Loja': 'Filial 9', 'Data da Venda': '2023-04-02 03:29:53.201930'}\n",
            "{'Nome do Item': 'Blush em pÃ³', 'ClassificaÃ§Ã£o do Produto': 'Alimentos', 'Valor em Reais (R$)': '14.61', 'Quantidade em Estoque': '52', 'Nome da Loja': 'Filial 9', 'Data da Venda': '2022-12-12 03:29:53.201930'}\n",
            "{'Nome do Item': 'Batom matte', 'ClassificaÃ§Ã£o do Produto': 'EletrodomÃ©sticos', 'Valor em Reais (R$)': '4.63', 'Quantidade em Estoque': '91', 'Nome da Loja': 'Filial 10', 'Data da Venda': '2022-10-06 03:29:53.201930'}\n",
            "{'Nome do Item': 'Corretivo', 'ClassificaÃ§Ã£o do Produto': 'Alimentos', 'Valor em Reais (R$)': '50.04', 'Quantidade em Estoque': '75', 'Nome da Loja': 'Filial 9', 'Data da Venda': '2023-07-08 03:29:53.201930'}\n",
            "{'Nome do Item': 'MÃ¡scara de cÃ\\xadlios', 'ClassificaÃ§Ã£o do Produto': 'Roupas', 'Valor em Reais (R$)': '72.91', 'Quantidade em Estoque': '73', 'Nome da Loja': 'Filial 2', 'Data da Venda': '2023-08-11 03:29:53.201930'}\n",
            "{'Nome do Item': 'Delineador lÃ\\xadquido', 'ClassificaÃ§Ã£o do Produto': 'Alimentos', 'Valor em Reais (R$)': '83.93', 'Quantidade em Estoque': '23', 'Nome da Loja': 'Filial 10', 'Data da Venda': '2023-04-06 03:29:53.201930'}\n",
            "{'Nome do Item': 'Sombra de olhos', 'ClassificaÃ§Ã£o do Produto': 'EletrodomÃ©sticos', 'Valor em Reais (R$)': '46.45', 'Quantidade em Estoque': '26', 'Nome da Loja': 'Filial 2', 'Data da Venda': '2023-07-07 03:29:53.201930'}\n",
            "{'Nome do Item': 'Batom lÃ\\xadquido', 'ClassificaÃ§Ã£o do Produto': 'EletrÃ´nicos', 'Valor em Reais (R$)': '11.17', 'Quantidade em Estoque': '2', 'Nome da Loja': 'Filial 1', 'Data da Venda': '2022-12-16 03:29:53.201930'}\n",
            "{'Nome do Item': 'Blush em pÃ³', 'ClassificaÃ§Ã£o do Produto': 'Roupas', 'Valor em Reais (R$)': '2.09', 'Quantidade em Estoque': '90', 'Nome da Loja': 'Filial 4', 'Data da Venda': '2023-05-14 03:29:53.201930'}\n",
            "{'Nome do Item': 'PÃ³ compacto', 'ClassificaÃ§Ã£o do Produto': 'Alimentos', 'Valor em Reais (R$)': '11.84', 'Quantidade em Estoque': '26', 'Nome da Loja': 'Filial 7', 'Data da Venda': '2023-03-03 03:29:53.201930'}\n",
            "{'Nome do Item': 'PÃ³ compacto', 'ClassificaÃ§Ã£o do Produto': 'Roupas', 'Valor em Reais (R$)': '4.5', 'Quantidade em Estoque': '41', 'Nome da Loja': 'Filial 3', 'Data da Venda': '2022-11-10 03:29:53.201930'}\n",
            "{'Nome do Item': 'Delineador lÃ\\xadquido', 'ClassificaÃ§Ã£o do Produto': 'Roupas', 'Valor em Reais (R$)': '58.57', 'Quantidade em Estoque': '87', 'Nome da Loja': 'Filial 6', 'Data da Venda': '2023-05-14 03:29:53.201930'}\n",
            "{'Nome do Item': 'LÃ¡pis de sobrancelha', 'ClassificaÃ§Ã£o do Produto': 'Alimentos', 'Valor em Reais (R$)': '35.1', 'Quantidade em Estoque': '43', 'Nome da Loja': 'Filial 7', 'Data da Venda': '2022-12-25 03:29:53.201930'}\n",
            "{'Nome do Item': 'MÃ¡scara de cÃ\\xadlios', 'ClassificaÃ§Ã£o do Produto': 'EletrodomÃ©sticos', 'Valor em Reais (R$)': '19.49', 'Quantidade em Estoque': '69', 'Nome da Loja': 'Filial 5', 'Data da Venda': '2023-02-26 03:29:53.201930'}\n",
            "{'Nome do Item': 'Delineador lÃ\\xadquido', 'ClassificaÃ§Ã£o do Produto': 'EletrÃ´nicos', 'Valor em Reais (R$)': '38.15', 'Quantidade em Estoque': '35', 'Nome da Loja': 'Filial 5', 'Data da Venda': '2022-11-05 03:29:53.201930'}\n",
            "{'Nome do Item': 'Sombra de olhos', 'ClassificaÃ§Ã£o do Produto': 'Roupas', 'Valor em Reais (R$)': '37.89', 'Quantidade em Estoque': '79', 'Nome da Loja': 'Filial 9', 'Data da Venda': '2023-03-30 03:29:53.201930'}\n",
            "{'Nome do Item': 'Delineador lÃ\\xadquido', 'ClassificaÃ§Ã£o do Produto': 'EletrodomÃ©sticos', 'Valor em Reais (R$)': '30.18', 'Quantidade em Estoque': '65', 'Nome da Loja': 'Filial 5', 'Data da Venda': '2022-11-14 03:29:53.201930'}\n",
            "{'Nome do Item': 'Batom matte', 'ClassificaÃ§Ã£o do Produto': 'Alimentos', 'Valor em Reais (R$)': '19.74', 'Quantidade em Estoque': '16', 'Nome da Loja': 'Filial 2', 'Data da Venda': '2023-02-20 03:29:53.201930'}\n",
            "{'Nome do Item': 'Batom lÃ\\xadquido', 'ClassificaÃ§Ã£o do Produto': 'Alimentos', 'Valor em Reais (R$)': '80.36', 'Quantidade em Estoque': '16', 'Nome da Loja': 'Filial 10', 'Data da Venda': '2022-11-23 03:29:53.201930'}\n",
            "{'Nome do Item': 'Sombra de olhos', 'ClassificaÃ§Ã£o do Produto': 'Roupas', 'Valor em Reais (R$)': '55.16', 'Quantidade em Estoque': '84', 'Nome da Loja': 'Filial 7', 'Data da Venda': '2023-01-19 03:29:53.201930'}\n",
            "{'Nome do Item': 'Batom lÃ\\xadquido', 'ClassificaÃ§Ã£o do Produto': 'EletrÃ´nicos', 'Valor em Reais (R$)': '58.16', 'Quantidade em Estoque': '44', 'Nome da Loja': 'Filial 8', 'Data da Venda': '2022-11-04 03:29:53.201930'}\n",
            "{'Nome do Item': 'Base lÃ\\xadquida', 'ClassificaÃ§Ã£o do Produto': 'Roupas', 'Valor em Reais (R$)': '34.31', 'Quantidade em Estoque': '49', 'Nome da Loja': 'Filial 10', 'Data da Venda': '2022-11-16 03:29:53.201930'}\n",
            "{'Nome do Item': 'LÃ¡pis de sobrancelha', 'ClassificaÃ§Ã£o do Produto': 'EletrodomÃ©sticos', 'Valor em Reais (R$)': '73.15', 'Quantidade em Estoque': '97', 'Nome da Loja': 'Filial 10', 'Data da Venda': '2023-05-10 03:29:53.201930'}\n",
            "{'Nome do Item': 'Base lÃ\\xadquida', 'ClassificaÃ§Ã£o do Produto': 'EletrÃ´nicos', 'Valor em Reais (R$)': '21.66', 'Quantidade em Estoque': '96', 'Nome da Loja': 'Filial 1', 'Data da Venda': '2022-09-07 03:29:53.201930'}\n",
            "{'Nome do Item': 'PÃ³ compacto', 'ClassificaÃ§Ã£o do Produto': 'EletrodomÃ©sticos', 'Valor em Reais (R$)': '4.82', 'Quantidade em Estoque': '25', 'Nome da Loja': 'Filial 9', 'Data da Venda': '2022-12-20 03:29:53.201930'}\n",
            "{'Nome do Item': 'Batom matte', 'ClassificaÃ§Ã£o do Produto': 'Roupas', 'Valor em Reais (R$)': '7.77', 'Quantidade em Estoque': '44', 'Nome da Loja': 'Filial 2', 'Data da Venda': '2022-12-15 03:29:53.201930'}\n",
            "{'Nome do Item': 'Blush em pÃ³', 'ClassificaÃ§Ã£o do Produto': 'EletrodomÃ©sticos', 'Valor em Reais (R$)': '14.68', 'Quantidade em Estoque': '44', 'Nome da Loja': 'Filial 9', 'Data da Venda': '2022-12-01 03:29:53.201930'}\n",
            "{'Nome do Item': 'Base lÃ\\xadquida', 'ClassificaÃ§Ã£o do Produto': 'Roupas', 'Valor em Reais (R$)': '63.14', 'Quantidade em Estoque': '85', 'Nome da Loja': 'Filial 3', 'Data da Venda': '2023-05-18 03:29:53.201930'}\n",
            "{'Nome do Item': 'LÃ¡pis de sobrancelha', 'ClassificaÃ§Ã£o do Produto': 'Alimentos', 'Valor em Reais (R$)': '94.98', 'Quantidade em Estoque': '12', 'Nome da Loja': 'Filial 9', 'Data da Venda': '2023-05-19 03:29:53.201930'}\n",
            "{'Nome do Item': 'Sombra de olhos', 'ClassificaÃ§Ã£o do Produto': 'EletrodomÃ©sticos', 'Valor em Reais (R$)': '95.95', 'Quantidade em Estoque': '34', 'Nome da Loja': 'Filial 7', 'Data da Venda': '2023-08-04 03:29:53.201930'}\n",
            "{'Nome do Item': 'Blush em pÃ³', 'ClassificaÃ§Ã£o do Produto': 'EletrÃ´nicos', 'Valor em Reais (R$)': '3.15', 'Quantidade em Estoque': '95', 'Nome da Loja': 'Filial 5', 'Data da Venda': '2022-12-13 03:29:53.201930'}\n",
            "{'Nome do Item': 'Delineador lÃ\\xadquido', 'ClassificaÃ§Ã£o do Produto': 'Alimentos', 'Valor em Reais (R$)': '84.37', 'Quantidade em Estoque': '94', 'Nome da Loja': 'Filial 1', 'Data da Venda': '2023-06-30 03:29:53.201930'}\n",
            "{'Nome do Item': 'PÃ³ compacto', 'ClassificaÃ§Ã£o do Produto': 'EletrÃ´nicos', 'Valor em Reais (R$)': '1.1', 'Quantidade em Estoque': '73', 'Nome da Loja': 'Filial 2', 'Data da Venda': '2023-05-08 03:29:53.201930'}\n",
            "{'Nome do Item': 'LÃ¡pis de sobrancelha', 'ClassificaÃ§Ã£o do Produto': 'Alimentos', 'Valor em Reais (R$)': '97.49', 'Quantidade em Estoque': '62', 'Nome da Loja': 'Filial 10', 'Data da Venda': '2022-09-03 03:29:53.201930'}\n",
            "{'Nome do Item': 'Delineador lÃ\\xadquido', 'ClassificaÃ§Ã£o do Produto': 'Alimentos', 'Valor em Reais (R$)': '75.04', 'Quantidade em Estoque': '74', 'Nome da Loja': 'Filial 4', 'Data da Venda': '2023-08-10 03:29:53.201930'}\n",
            "{'Nome do Item': 'Blush em pÃ³', 'ClassificaÃ§Ã£o do Produto': 'EletrÃ´nicos', 'Valor em Reais (R$)': '86.51', 'Quantidade em Estoque': '11', 'Nome da Loja': 'Filial 2', 'Data da Venda': '2022-08-24 03:29:53.201930'}\n",
            "{'Nome do Item': 'Delineador lÃ\\xadquido', 'ClassificaÃ§Ã£o do Produto': 'Alimentos', 'Valor em Reais (R$)': '89.32', 'Quantidade em Estoque': '88', 'Nome da Loja': 'Filial 8', 'Data da Venda': '2023-07-13 03:29:53.201930'}\n",
            "{'Nome do Item': 'MÃ¡scara de cÃ\\xadlios', 'ClassificaÃ§Ã£o do Produto': 'EletrÃ´nicos', 'Valor em Reais (R$)': '69.54', 'Quantidade em Estoque': '65', 'Nome da Loja': 'Filial 5', 'Data da Venda': '2023-02-22 03:29:53.201930'}\n",
            "{'Nome do Item': 'PÃ³ compacto', 'ClassificaÃ§Ã£o do Produto': 'EletrodomÃ©sticos', 'Valor em Reais (R$)': '69.16', 'Quantidade em Estoque': '40', 'Nome da Loja': 'Filial 8', 'Data da Venda': '2023-03-09 03:29:53.201930'}\n",
            "{'Nome do Item': 'LÃ¡pis de sobrancelha', 'ClassificaÃ§Ã£o do Produto': 'EletrÃ´nicos', 'Valor em Reais (R$)': '70.85', 'Quantidade em Estoque': '29', 'Nome da Loja': 'Filial 7', 'Data da Venda': '2023-01-09 03:29:53.201930'}\n",
            "{'Nome do Item': 'LÃ¡pis de sobrancelha', 'ClassificaÃ§Ã£o do Produto': 'Alimentos', 'Valor em Reais (R$)': '71.77', 'Quantidade em Estoque': '33', 'Nome da Loja': 'Filial 5', 'Data da Venda': '2023-05-17 03:29:53.201930'}\n",
            "{'Nome do Item': 'Corretivo', 'ClassificaÃ§Ã£o do Produto': 'Roupas', 'Valor em Reais (R$)': '30.57', 'Quantidade em Estoque': '37', 'Nome da Loja': 'Filial 10', 'Data da Venda': '2022-10-11 03:29:53.201930'}\n",
            "{'Nome do Item': 'Delineador lÃ\\xadquido', 'ClassificaÃ§Ã£o do Produto': 'Alimentos', 'Valor em Reais (R$)': '44.82', 'Quantidade em Estoque': '37', 'Nome da Loja': 'Filial 1', 'Data da Venda': '2022-11-17 03:29:53.201930'}\n",
            "{'Nome do Item': 'MÃ¡scara de cÃ\\xadlios', 'ClassificaÃ§Ã£o do Produto': 'Alimentos', 'Valor em Reais (R$)': '4.26', 'Quantidade em Estoque': '96', 'Nome da Loja': 'Filial 4', 'Data da Venda': '2022-12-06 03:29:53.201930'}\n",
            "{'Nome do Item': 'Corretivo', 'ClassificaÃ§Ã£o do Produto': 'Roupas', 'Valor em Reais (R$)': '71.43', 'Quantidade em Estoque': '93', 'Nome da Loja': 'Filial 5', 'Data da Venda': '2023-01-19 03:29:53.201930'}\n",
            "{'Nome do Item': 'Corretivo', 'ClassificaÃ§Ã£o do Produto': 'Alimentos', 'Valor em Reais (R$)': '90.45', 'Quantidade em Estoque': '27', 'Nome da Loja': 'Filial 4', 'Data da Venda': '2022-11-24 03:29:53.201930'}\n",
            "{'Nome do Item': 'Batom matte', 'ClassificaÃ§Ã£o do Produto': 'Roupas', 'Valor em Reais (R$)': '26.11', 'Quantidade em Estoque': '16', 'Nome da Loja': 'Filial 5', 'Data da Venda': '2023-02-26 03:29:53.201930'}\n",
            "{'Nome do Item': 'Batom matte', 'ClassificaÃ§Ã£o do Produto': 'EletrÃ´nicos', 'Valor em Reais (R$)': '83.56', 'Quantidade em Estoque': '48', 'Nome da Loja': 'Filial 9', 'Data da Venda': '2023-07-07 03:29:53.201930'}\n",
            "{'Nome do Item': 'Batom matte', 'ClassificaÃ§Ã£o do Produto': 'EletrÃ´nicos', 'Valor em Reais (R$)': '4.89', 'Quantidade em Estoque': '29', 'Nome da Loja': 'Filial 5', 'Data da Venda': '2023-06-29 03:29:53.201930'}\n",
            "{'Nome do Item': 'Sombra de olhos', 'ClassificaÃ§Ã£o do Produto': 'Roupas', 'Valor em Reais (R$)': '53.48', 'Quantidade em Estoque': '29', 'Nome da Loja': 'Filial 9', 'Data da Venda': '2022-12-15 03:29:53.201930'}\n",
            "{'Nome do Item': 'PÃ³ compacto', 'ClassificaÃ§Ã£o do Produto': 'Alimentos', 'Valor em Reais (R$)': '24.44', 'Quantidade em Estoque': '59', 'Nome da Loja': 'Filial 7', 'Data da Venda': '2022-09-13 03:29:53.201930'}\n",
            "{'Nome do Item': 'Base lÃ\\xadquida', 'ClassificaÃ§Ã£o do Produto': 'EletrodomÃ©sticos', 'Valor em Reais (R$)': '55.11', 'Quantidade em Estoque': '98', 'Nome da Loja': 'Filial 1', 'Data da Venda': '2023-04-08 03:29:53.201930'}\n",
            "{'Nome do Item': 'PÃ³ compacto', 'ClassificaÃ§Ã£o do Produto': 'Roupas', 'Valor em Reais (R$)': '86.03', 'Quantidade em Estoque': '83', 'Nome da Loja': 'Filial 10', 'Data da Venda': '2022-10-05 03:29:53.201930'}\n",
            "{'Nome do Item': 'Base lÃ\\xadquida', 'ClassificaÃ§Ã£o do Produto': 'EletrÃ´nicos', 'Valor em Reais (R$)': '10.69', 'Quantidade em Estoque': '86', 'Nome da Loja': 'Filial 4', 'Data da Venda': '2023-05-09 03:29:53.201930'}\n",
            "{'Nome do Item': 'Sombra de olhos', 'ClassificaÃ§Ã£o do Produto': 'Roupas', 'Valor em Reais (R$)': '67.34', 'Quantidade em Estoque': '90', 'Nome da Loja': 'Filial 3', 'Data da Venda': '2022-11-11 03:29:53.201930'}\n",
            "{'Nome do Item': 'Batom lÃ\\xadquido', 'ClassificaÃ§Ã£o do Produto': 'EletrodomÃ©sticos', 'Valor em Reais (R$)': '57.47', 'Quantidade em Estoque': '61', 'Nome da Loja': 'Filial 4', 'Data da Venda': '2023-07-28 03:29:53.201930'}\n",
            "{'Nome do Item': 'Blush em pÃ³', 'ClassificaÃ§Ã£o do Produto': 'Alimentos', 'Valor em Reais (R$)': '92.73', 'Quantidade em Estoque': '34', 'Nome da Loja': 'Filial 5', 'Data da Venda': '2023-08-03 03:29:53.201930'}\n",
            "{'Nome do Item': 'Batom matte', 'ClassificaÃ§Ã£o do Produto': 'EletrÃ´nicos', 'Valor em Reais (R$)': '52.36', 'Quantidade em Estoque': '10', 'Nome da Loja': 'Filial 3', 'Data da Venda': '2022-10-30 03:29:53.201930'}\n",
            "{'Nome do Item': 'Delineador lÃ\\xadquido', 'ClassificaÃ§Ã£o do Produto': 'EletrodomÃ©sticos', 'Valor em Reais (R$)': '89.73', 'Quantidade em Estoque': '19', 'Nome da Loja': 'Filial 8', 'Data da Venda': '2023-01-18 03:29:53.201930'}\n",
            "{'Nome do Item': 'PÃ³ compacto', 'ClassificaÃ§Ã£o do Produto': 'Roupas', 'Valor em Reais (R$)': '23.84', 'Quantidade em Estoque': '29', 'Nome da Loja': 'Filial 5', 'Data da Venda': '2023-01-01 03:29:53.201930'}\n",
            "{'Nome do Item': 'Base lÃ\\xadquida', 'ClassificaÃ§Ã£o do Produto': 'Alimentos', 'Valor em Reais (R$)': '1.58', 'Quantidade em Estoque': '83', 'Nome da Loja': 'Filial 2', 'Data da Venda': '2023-07-12 03:29:53.201930'}\n",
            "{'Nome do Item': 'Delineador lÃ\\xadquido', 'ClassificaÃ§Ã£o do Produto': 'Roupas', 'Valor em Reais (R$)': '44.81', 'Quantidade em Estoque': '91', 'Nome da Loja': 'Filial 9', 'Data da Venda': '2023-08-01 03:29:53.201930'}\n",
            "{'Nome do Item': 'LÃ¡pis de sobrancelha', 'ClassificaÃ§Ã£o do Produto': 'EletrodomÃ©sticos', 'Valor em Reais (R$)': '34.73', 'Quantidade em Estoque': '82', 'Nome da Loja': 'Filial 7', 'Data da Venda': '2023-02-08 03:29:53.201930'}\n",
            "{'Nome do Item': 'Corretivo', 'ClassificaÃ§Ã£o do Produto': 'EletrodomÃ©sticos', 'Valor em Reais (R$)': '52.71', 'Quantidade em Estoque': '24', 'Nome da Loja': 'Filial 7', 'Data da Venda': '2023-08-16 03:29:53.201930'}\n",
            "{'Nome do Item': 'LÃ¡pis de sobrancelha', 'ClassificaÃ§Ã£o do Produto': 'Alimentos', 'Valor em Reais (R$)': '69.81', 'Quantidade em Estoque': '57', 'Nome da Loja': 'Filial 6', 'Data da Venda': '2022-09-12 03:29:53.201930'}\n",
            "{'Nome do Item': 'LÃ¡pis de sobrancelha', 'ClassificaÃ§Ã£o do Produto': 'Alimentos', 'Valor em Reais (R$)': '5.28', 'Quantidade em Estoque': '54', 'Nome da Loja': 'Filial 5', 'Data da Venda': '2023-06-09 03:29:53.201930'}\n",
            "{'Nome do Item': 'Sombra de olhos', 'ClassificaÃ§Ã£o do Produto': 'Alimentos', 'Valor em Reais (R$)': '6.47', 'Quantidade em Estoque': '15', 'Nome da Loja': 'Filial 7', 'Data da Venda': '2023-02-12 03:29:53.201930'}\n",
            "{'Nome do Item': 'Batom lÃ\\xadquido', 'ClassificaÃ§Ã£o do Produto': 'EletrÃ´nicos', 'Valor em Reais (R$)': '84.69', 'Quantidade em Estoque': '18', 'Nome da Loja': 'Filial 3', 'Data da Venda': '2023-08-12 03:29:53.201930'}\n",
            "{'Nome do Item': 'Base lÃ\\xadquida', 'ClassificaÃ§Ã£o do Produto': 'EletrodomÃ©sticos', 'Valor em Reais (R$)': '96.68', 'Quantidade em Estoque': '1', 'Nome da Loja': 'Filial 2', 'Data da Venda': '2022-11-19 03:29:53.201930'}\n",
            "{'Nome do Item': 'MÃ¡scara de cÃ\\xadlios', 'ClassificaÃ§Ã£o do Produto': 'EletrÃ´nicos', 'Valor em Reais (R$)': '20.73', 'Quantidade em Estoque': '84', 'Nome da Loja': 'Filial 7', 'Data da Venda': '2022-09-20 03:29:53.201930'}\n",
            "{'Nome do Item': 'MÃ¡scara de cÃ\\xadlios', 'ClassificaÃ§Ã£o do Produto': 'Roupas', 'Valor em Reais (R$)': '70.34', 'Quantidade em Estoque': '62', 'Nome da Loja': 'Filial 4', 'Data da Venda': '2022-12-04 03:29:53.201930'}\n",
            "{'Nome do Item': 'Sombra de olhos', 'ClassificaÃ§Ã£o do Produto': 'Roupas', 'Valor em Reais (R$)': '52.22', 'Quantidade em Estoque': '98', 'Nome da Loja': 'Filial 2', 'Data da Venda': '2023-01-10 03:29:53.201930'}\n",
            "{'Nome do Item': 'Base lÃ\\xadquida', 'ClassificaÃ§Ã£o do Produto': 'EletrÃ´nicos', 'Valor em Reais (R$)': '71.01', 'Quantidade em Estoque': '87', 'Nome da Loja': 'Filial 7', 'Data da Venda': '2023-01-07 03:29:53.201930'}\n",
            "{'Nome do Item': 'Batom lÃ\\xadquido', 'ClassificaÃ§Ã£o do Produto': 'EletrodomÃ©sticos', 'Valor em Reais (R$)': '82.19', 'Quantidade em Estoque': '29', 'Nome da Loja': 'Filial 7', 'Data da Venda': '2023-01-06 03:29:53.201930'}\n",
            "{'Nome do Item': 'MÃ¡scara de cÃ\\xadlios', 'ClassificaÃ§Ã£o do Produto': 'Alimentos', 'Valor em Reais (R$)': '22.11', 'Quantidade em Estoque': '54', 'Nome da Loja': 'Filial 6', 'Data da Venda': '2023-05-01 03:29:53.201930'}\n",
            "{'Nome do Item': 'Corretivo', 'ClassificaÃ§Ã£o do Produto': 'EletrodomÃ©sticos', 'Valor em Reais (R$)': '93.58', 'Quantidade em Estoque': '100', 'Nome da Loja': 'Filial 4', 'Data da Venda': '2023-07-25 03:29:53.201930'}\n",
            "{'Nome do Item': 'MÃ¡scara de cÃ\\xadlios', 'ClassificaÃ§Ã£o do Produto': 'Roupas', 'Valor em Reais (R$)': '94.22', 'Quantidade em Estoque': '99', 'Nome da Loja': 'Filial 10', 'Data da Venda': '2022-09-04 03:29:53.201930'}\n",
            "{'Nome do Item': 'PÃ³ compacto', 'ClassificaÃ§Ã£o do Produto': 'Roupas', 'Valor em Reais (R$)': '93.55', 'Quantidade em Estoque': '97', 'Nome da Loja': 'Filial 8', 'Data da Venda': '2022-09-04 03:29:53.201930'}\n",
            "{'Nome do Item': 'MÃ¡scara de cÃ\\xadlios', 'ClassificaÃ§Ã£o do Produto': 'EletrodomÃ©sticos', 'Valor em Reais (R$)': '85.84', 'Quantidade em Estoque': '46', 'Nome da Loja': 'Filial 1', 'Data da Venda': '2023-06-09 03:29:53.201930'}\n",
            "{'Nome do Item': 'Batom matte', 'ClassificaÃ§Ã£o do Produto': 'EletrodomÃ©sticos', 'Valor em Reais (R$)': '23.59', 'Quantidade em Estoque': '76', 'Nome da Loja': 'Filial 7', 'Data da Venda': '2023-03-05 03:29:53.201930'}\n",
            "{'Nome do Item': 'Delineador lÃ\\xadquido', 'ClassificaÃ§Ã£o do Produto': 'EletrÃ´nicos', 'Valor em Reais (R$)': '93.54', 'Quantidade em Estoque': '54', 'Nome da Loja': 'Filial 3', 'Data da Venda': '2022-10-04 03:29:53.201930'}\n",
            "{'Nome do Item': 'Delineador lÃ\\xadquido', 'ClassificaÃ§Ã£o do Produto': 'Alimentos', 'Valor em Reais (R$)': '79.04', 'Quantidade em Estoque': '3', 'Nome da Loja': 'Filial 2', 'Data da Venda': '2023-03-12 03:29:53.201930'}\n",
            "{'Nome do Item': 'Sombra de olhos', 'ClassificaÃ§Ã£o do Produto': 'Roupas', 'Valor em Reais (R$)': '68.13', 'Quantidade em Estoque': '18', 'Nome da Loja': 'Filial 3', 'Data da Venda': '2022-11-19 03:29:53.201930'}\n",
            "{'Nome do Item': 'Base lÃ\\xadquida', 'ClassificaÃ§Ã£o do Produto': 'EletrodomÃ©sticos', 'Valor em Reais (R$)': '35.69', 'Quantidade em Estoque': '10', 'Nome da Loja': 'Filial 6', 'Data da Venda': '2023-08-22 03:29:53.201930'}\n",
            "{'Nome do Item': 'MÃ¡scara de cÃ\\xadlios', 'ClassificaÃ§Ã£o do Produto': 'EletrodomÃ©sticos', 'Valor em Reais (R$)': '57.83', 'Quantidade em Estoque': '1', 'Nome da Loja': 'Filial 5', 'Data da Venda': '2023-08-21 03:29:53.201930'}\n",
            "{'Nome do Item': 'Batom matte', 'ClassificaÃ§Ã£o do Produto': 'Alimentos', 'Valor em Reais (R$)': '87.47', 'Quantidade em Estoque': '74', 'Nome da Loja': 'Filial 5', 'Data da Venda': '2023-04-06 03:29:53.201930'}\n",
            "{'Nome do Item': 'Batom matte', 'ClassificaÃ§Ã£o do Produto': 'Roupas', 'Valor em Reais (R$)': '6.98', 'Quantidade em Estoque': '69', 'Nome da Loja': 'Filial 6', 'Data da Venda': '2023-03-19 03:29:53.201930'}\n",
            "{'Nome do Item': 'Blush em pÃ³', 'ClassificaÃ§Ã£o do Produto': 'Alimentos', 'Valor em Reais (R$)': '40.53', 'Quantidade em Estoque': '59', 'Nome da Loja': 'Filial 7', 'Data da Venda': '2023-07-13 03:29:53.201930'}\n",
            "{'Nome do Item': 'Base lÃ\\xadquida', 'ClassificaÃ§Ã£o do Produto': 'Alimentos', 'Valor em Reais (R$)': '15.67', 'Quantidade em Estoque': '1', 'Nome da Loja': 'Filial 5', 'Data da Venda': '2023-06-22 03:29:53.201930'}\n",
            "{'Nome do Item': 'MÃ¡scara de cÃ\\xadlios', 'ClassificaÃ§Ã£o do Produto': 'Roupas', 'Valor em Reais (R$)': '94.87', 'Quantidade em Estoque': '62', 'Nome da Loja': 'Filial 6', 'Data da Venda': '2022-09-05 03:29:53.201930'}\n",
            "{'Nome do Item': 'Corretivo', 'ClassificaÃ§Ã£o do Produto': 'EletrÃ´nicos', 'Valor em Reais (R$)': '46.0', 'Quantidade em Estoque': '1', 'Nome da Loja': 'Filial 1', 'Data da Venda': '2023-05-30 03:29:53.201930'}\n",
            "{'Nome do Item': 'Delineador lÃ\\xadquido', 'ClassificaÃ§Ã£o do Produto': 'EletrodomÃ©sticos', 'Valor em Reais (R$)': '18.85', 'Quantidade em Estoque': '5', 'Nome da Loja': 'Filial 10', 'Data da Venda': '2022-08-26 03:29:53.201930'}\n",
            "{'Nome do Item': 'Delineador lÃ\\xadquido', 'ClassificaÃ§Ã£o do Produto': 'Roupas', 'Valor em Reais (R$)': '34.12', 'Quantidade em Estoque': '76', 'Nome da Loja': 'Filial 9', 'Data da Venda': '2022-09-06 03:29:53.201930'}\n",
            "{'Nome do Item': 'Corretivo', 'ClassificaÃ§Ã£o do Produto': 'Roupas', 'Valor em Reais (R$)': '66.07', 'Quantidade em Estoque': '34', 'Nome da Loja': 'Filial 3', 'Data da Venda': '2023-08-05 03:29:53.201930'}\n",
            "{'Nome do Item': 'MÃ¡scara de cÃ\\xadlios', 'ClassificaÃ§Ã£o do Produto': 'Alimentos', 'Valor em Reais (R$)': '44.72', 'Quantidade em Estoque': '19', 'Nome da Loja': 'Filial 2', 'Data da Venda': '2022-08-25 03:29:53.201930'}\n",
            "{'Nome do Item': 'MÃ¡scara de cÃ\\xadlios', 'ClassificaÃ§Ã£o do Produto': 'Alimentos', 'Valor em Reais (R$)': '74.79', 'Quantidade em Estoque': '4', 'Nome da Loja': 'Filial 6', 'Data da Venda': '2023-02-18 03:29:53.201930'}\n",
            "{'Nome do Item': 'PÃ³ compacto', 'ClassificaÃ§Ã£o do Produto': 'EletrÃ´nicos', 'Valor em Reais (R$)': '41.45', 'Quantidade em Estoque': '57', 'Nome da Loja': 'Filial 6', 'Data da Venda': '2023-06-02 03:29:53.201930'}\n",
            "{'Nome do Item': 'Blush em pÃ³', 'ClassificaÃ§Ã£o do Produto': 'Roupas', 'Valor em Reais (R$)': '87.5', 'Quantidade em Estoque': '52', 'Nome da Loja': 'Filial 6', 'Data da Venda': '2022-11-02 03:29:53.201930'}\n",
            "{'Nome do Item': 'Delineador lÃ\\xadquido', 'ClassificaÃ§Ã£o do Produto': 'EletrÃ´nicos', 'Valor em Reais (R$)': '43.15', 'Quantidade em Estoque': '64', 'Nome da Loja': 'Filial 5', 'Data da Venda': '2023-02-27 03:29:53.201930'}\n",
            "{'Nome do Item': 'Batom lÃ\\xadquido', 'ClassificaÃ§Ã£o do Produto': 'Roupas', 'Valor em Reais (R$)': '62.63', 'Quantidade em Estoque': '56', 'Nome da Loja': 'Filial 8', 'Data da Venda': '2023-08-21 03:29:53.201930'}\n",
            "{'Nome do Item': 'Sombra de olhos', 'ClassificaÃ§Ã£o do Produto': 'EletrÃ´nicos', 'Valor em Reais (R$)': '90.5', 'Quantidade em Estoque': '96', 'Nome da Loja': 'Filial 9', 'Data da Venda': '2023-08-22 03:29:53.201930'}\n",
            "{'Nome do Item': 'Corretivo', 'ClassificaÃ§Ã£o do Produto': 'EletrodomÃ©sticos', 'Valor em Reais (R$)': '24.45', 'Quantidade em Estoque': '38', 'Nome da Loja': 'Filial 6', 'Data da Venda': '2022-10-04 03:29:53.201930'}\n",
            "{'Nome do Item': 'Base lÃ\\xadquida', 'ClassificaÃ§Ã£o do Produto': 'Roupas', 'Valor em Reais (R$)': '13.55', 'Quantidade em Estoque': '47', 'Nome da Loja': 'Filial 10', 'Data da Venda': '2022-12-04 03:29:53.201930'}\n",
            "{'Nome do Item': 'Batom matte', 'ClassificaÃ§Ã£o do Produto': 'EletrÃ´nicos', 'Valor em Reais (R$)': '3.34', 'Quantidade em Estoque': '37', 'Nome da Loja': 'Filial 1', 'Data da Venda': '2023-05-14 03:29:53.201930'}\n",
            "{'Nome do Item': 'Base lÃ\\xadquida', 'ClassificaÃ§Ã£o do Produto': 'Alimentos', 'Valor em Reais (R$)': '55.25', 'Quantidade em Estoque': '5', 'Nome da Loja': 'Filial 5', 'Data da Venda': '2023-03-10 03:29:53.201930'}\n",
            "{'Nome do Item': 'Batom matte', 'ClassificaÃ§Ã£o do Produto': 'Roupas', 'Valor em Reais (R$)': '47.11', 'Quantidade em Estoque': '1', 'Nome da Loja': 'Filial 2', 'Data da Venda': '2023-01-10 03:29:53.201930'}\n",
            "{'Nome do Item': 'PÃ³ compacto', 'ClassificaÃ§Ã£o do Produto': 'EletrÃ´nicos', 'Valor em Reais (R$)': '71.26', 'Quantidade em Estoque': '59', 'Nome da Loja': 'Filial 3', 'Data da Venda': '2022-11-17 03:29:53.201930'}\n",
            "{'Nome do Item': 'Sombra de olhos', 'ClassificaÃ§Ã£o do Produto': 'Alimentos', 'Valor em Reais (R$)': '48.3', 'Quantidade em Estoque': '66', 'Nome da Loja': 'Filial 5', 'Data da Venda': '2023-08-06 03:29:53.201930'}\n",
            "{'Nome do Item': 'LÃ¡pis de sobrancelha', 'ClassificaÃ§Ã£o do Produto': 'Alimentos', 'Valor em Reais (R$)': '26.71', 'Quantidade em Estoque': '13', 'Nome da Loja': 'Filial 9', 'Data da Venda': '2023-07-16 03:29:53.201930'}\n",
            "{'Nome do Item': 'MÃ¡scara de cÃ\\xadlios', 'ClassificaÃ§Ã£o do Produto': 'EletrÃ´nicos', 'Valor em Reais (R$)': '9.19', 'Quantidade em Estoque': '65', 'Nome da Loja': 'Filial 7', 'Data da Venda': '2022-11-26 03:29:53.201930'}\n",
            "{'Nome do Item': 'Base lÃ\\xadquida', 'ClassificaÃ§Ã£o do Produto': 'EletrodomÃ©sticos', 'Valor em Reais (R$)': '24.23', 'Quantidade em Estoque': '77', 'Nome da Loja': 'Filial 3', 'Data da Venda': '2022-09-13 03:29:53.201930'}\n",
            "{'Nome do Item': 'Batom lÃ\\xadquido', 'ClassificaÃ§Ã£o do Produto': 'Alimentos', 'Valor em Reais (R$)': '33.24', 'Quantidade em Estoque': '24', 'Nome da Loja': 'Filial 2', 'Data da Venda': '2023-02-01 03:29:53.201930'}\n",
            "{'Nome do Item': 'Delineador lÃ\\xadquido', 'ClassificaÃ§Ã£o do Produto': 'EletrodomÃ©sticos', 'Valor em Reais (R$)': '67.09', 'Quantidade em Estoque': '31', 'Nome da Loja': 'Filial 8', 'Data da Venda': '2023-07-09 03:29:53.201930'}\n",
            "{'Nome do Item': 'PÃ³ compacto', 'ClassificaÃ§Ã£o do Produto': 'EletrodomÃ©sticos', 'Valor em Reais (R$)': '17.62', 'Quantidade em Estoque': '59', 'Nome da Loja': 'Filial 6', 'Data da Venda': '2022-11-18 03:29:53.201930'}\n",
            "{'Nome do Item': 'Batom matte', 'ClassificaÃ§Ã£o do Produto': 'EletrÃ´nicos', 'Valor em Reais (R$)': '49.41', 'Quantidade em Estoque': '90', 'Nome da Loja': 'Filial 5', 'Data da Venda': '2022-11-19 03:29:53.201930'}\n",
            "{'Nome do Item': 'MÃ¡scara de cÃ\\xadlios', 'ClassificaÃ§Ã£o do Produto': 'Roupas', 'Valor em Reais (R$)': '99.91', 'Quantidade em Estoque': '48', 'Nome da Loja': 'Filial 1', 'Data da Venda': '2023-07-26 03:29:53.201930'}\n",
            "{'Nome do Item': 'Sombra de olhos', 'ClassificaÃ§Ã£o do Produto': 'EletrÃ´nicos', 'Valor em Reais (R$)': '54.17', 'Quantidade em Estoque': '71', 'Nome da Loja': 'Filial 9', 'Data da Venda': '2023-06-10 03:29:53.201930'}\n",
            "{'Nome do Item': 'Batom lÃ\\xadquido', 'ClassificaÃ§Ã£o do Produto': 'Alimentos', 'Valor em Reais (R$)': '73.32', 'Quantidade em Estoque': '15', 'Nome da Loja': 'Filial 10', 'Data da Venda': '2023-01-28 03:29:53.201930'}\n",
            "{'Nome do Item': 'LÃ¡pis de sobrancelha', 'ClassificaÃ§Ã£o do Produto': 'EletrodomÃ©sticos', 'Valor em Reais (R$)': '10.7', 'Quantidade em Estoque': '36', 'Nome da Loja': 'Filial 9', 'Data da Venda': '2022-10-03 03:29:53.201930'}\n",
            "{'Nome do Item': 'PÃ³ compacto', 'ClassificaÃ§Ã£o do Produto': 'Alimentos', 'Valor em Reais (R$)': '20.19', 'Quantidade em Estoque': '42', 'Nome da Loja': 'Filial 3', 'Data da Venda': '2023-05-01 03:29:53.201930'}\n",
            "{'Nome do Item': 'Sombra de olhos', 'ClassificaÃ§Ã£o do Produto': 'Alimentos', 'Valor em Reais (R$)': '39.72', 'Quantidade em Estoque': '96', 'Nome da Loja': 'Filial 3', 'Data da Venda': '2023-03-07 03:29:53.201930'}\n",
            "{'Nome do Item': 'Batom lÃ\\xadquido', 'ClassificaÃ§Ã£o do Produto': 'Roupas', 'Valor em Reais (R$)': '14.61', 'Quantidade em Estoque': '72', 'Nome da Loja': 'Filial 4', 'Data da Venda': '2022-12-31 03:29:53.201930'}\n",
            "{'Nome do Item': 'PÃ³ compacto', 'ClassificaÃ§Ã£o do Produto': 'Roupas', 'Valor em Reais (R$)': '11.17', 'Quantidade em Estoque': '42', 'Nome da Loja': 'Filial 9', 'Data da Venda': '2023-06-08 03:29:53.201930'}\n",
            "{'Nome do Item': 'LÃ¡pis de sobrancelha', 'ClassificaÃ§Ã£o do Produto': 'Roupas', 'Valor em Reais (R$)': '70.27', 'Quantidade em Estoque': '84', 'Nome da Loja': 'Filial 8', 'Data da Venda': '2022-10-26 03:29:53.201930'}\n",
            "{'Nome do Item': 'MÃ¡scara de cÃ\\xadlios', 'ClassificaÃ§Ã£o do Produto': 'Roupas', 'Valor em Reais (R$)': '14.75', 'Quantidade em Estoque': '41', 'Nome da Loja': 'Filial 9', 'Data da Venda': '2022-11-14 03:29:53.201930'}\n",
            "{'Nome do Item': 'Delineador lÃ\\xadquido', 'ClassificaÃ§Ã£o do Produto': 'EletrÃ´nicos', 'Valor em Reais (R$)': '67.29', 'Quantidade em Estoque': '65', 'Nome da Loja': 'Filial 3', 'Data da Venda': '2023-06-03 03:29:53.201930'}\n",
            "{'Nome do Item': 'PÃ³ compacto', 'ClassificaÃ§Ã£o do Produto': 'EletrÃ´nicos', 'Valor em Reais (R$)': '76.81', 'Quantidade em Estoque': '69', 'Nome da Loja': 'Filial 2', 'Data da Venda': '2023-04-11 03:29:53.201930'}\n",
            "{'Nome do Item': 'Delineador lÃ\\xadquido', 'ClassificaÃ§Ã£o do Produto': 'Alimentos', 'Valor em Reais (R$)': '4.29', 'Quantidade em Estoque': '40', 'Nome da Loja': 'Filial 7', 'Data da Venda': '2022-09-29 03:29:53.201930'}\n",
            "{'Nome do Item': 'MÃ¡scara de cÃ\\xadlios', 'ClassificaÃ§Ã£o do Produto': 'Alimentos', 'Valor em Reais (R$)': '63.36', 'Quantidade em Estoque': '94', 'Nome da Loja': 'Filial 6', 'Data da Venda': '2022-12-02 03:29:53.201930'}\n",
            "{'Nome do Item': 'MÃ¡scara de cÃ\\xadlios', 'ClassificaÃ§Ã£o do Produto': 'EletrÃ´nicos', 'Valor em Reais (R$)': '69.37', 'Quantidade em Estoque': '91', 'Nome da Loja': 'Filial 2', 'Data da Venda': '2023-03-07 03:29:53.201930'}\n",
            "{'Nome do Item': 'MÃ¡scara de cÃ\\xadlios', 'ClassificaÃ§Ã£o do Produto': 'Alimentos', 'Valor em Reais (R$)': '55.4', 'Quantidade em Estoque': '66', 'Nome da Loja': 'Filial 8', 'Data da Venda': '2023-01-15 03:29:53.201930'}\n",
            "{'Nome do Item': 'Batom lÃ\\xadquido', 'ClassificaÃ§Ã£o do Produto': 'Alimentos', 'Valor em Reais (R$)': '11.69', 'Quantidade em Estoque': '88', 'Nome da Loja': 'Filial 3', 'Data da Venda': '2023-06-20 03:29:53.201930'}\n",
            "{'Nome do Item': 'Batom matte', 'ClassificaÃ§Ã£o do Produto': 'EletrodomÃ©sticos', 'Valor em Reais (R$)': '71.95', 'Quantidade em Estoque': '68', 'Nome da Loja': 'Filial 2', 'Data da Venda': '2022-10-06 03:29:53.201930'}\n",
            "{'Nome do Item': 'Corretivo', 'ClassificaÃ§Ã£o do Produto': 'Alimentos', 'Valor em Reais (R$)': '56.17', 'Quantidade em Estoque': '65', 'Nome da Loja': 'Filial 7', 'Data da Venda': '2023-05-29 03:29:53.201930'}\n",
            "{'Nome do Item': 'Base lÃ\\xadquida', 'ClassificaÃ§Ã£o do Produto': 'Roupas', 'Valor em Reais (R$)': '90.68', 'Quantidade em Estoque': '98', 'Nome da Loja': 'Filial 8', 'Data da Venda': '2023-01-19 03:29:53.201930'}\n",
            "{'Nome do Item': 'Base lÃ\\xadquida', 'ClassificaÃ§Ã£o do Produto': 'EletrÃ´nicos', 'Valor em Reais (R$)': '88.22', 'Quantidade em Estoque': '57', 'Nome da Loja': 'Filial 4', 'Data da Venda': '2023-01-27 03:29:53.201930'}\n",
            "{'Nome do Item': 'Base lÃ\\xadquida', 'ClassificaÃ§Ã£o do Produto': 'Alimentos', 'Valor em Reais (R$)': '28.88', 'Quantidade em Estoque': '79', 'Nome da Loja': 'Filial 5', 'Data da Venda': '2023-05-12 03:29:53.201930'}\n",
            "{'Nome do Item': 'LÃ¡pis de sobrancelha', 'ClassificaÃ§Ã£o do Produto': 'Alimentos', 'Valor em Reais (R$)': '55.56', 'Quantidade em Estoque': '38', 'Nome da Loja': 'Filial 2', 'Data da Venda': '2022-10-13 03:29:53.201930'}\n",
            "{'Nome do Item': 'Corretivo', 'ClassificaÃ§Ã£o do Produto': 'EletrÃ´nicos', 'Valor em Reais (R$)': '33.45', 'Quantidade em Estoque': '78', 'Nome da Loja': 'Filial 2', 'Data da Venda': '2023-01-05 03:29:53.201930'}\n",
            "{'Nome do Item': 'LÃ¡pis de sobrancelha', 'ClassificaÃ§Ã£o do Produto': 'EletrodomÃ©sticos', 'Valor em Reais (R$)': '62.96', 'Quantidade em Estoque': '76', 'Nome da Loja': 'Filial 8', 'Data da Venda': '2022-09-05 03:29:53.201930'}\n",
            "{'Nome do Item': 'Base lÃ\\xadquida', 'ClassificaÃ§Ã£o do Produto': 'Roupas', 'Valor em Reais (R$)': '79.71', 'Quantidade em Estoque': '68', 'Nome da Loja': 'Filial 2', 'Data da Venda': '2023-04-21 03:29:53.201930'}\n",
            "{'Nome do Item': 'Corretivo', 'ClassificaÃ§Ã£o do Produto': 'Alimentos', 'Valor em Reais (R$)': '58.32', 'Quantidade em Estoque': '39', 'Nome da Loja': 'Filial 10', 'Data da Venda': '2023-06-29 03:29:53.201930'}\n",
            "{'Nome do Item': 'Delineador lÃ\\xadquido', 'ClassificaÃ§Ã£o do Produto': 'Alimentos', 'Valor em Reais (R$)': '59.25', 'Quantidade em Estoque': '67', 'Nome da Loja': 'Filial 2', 'Data da Venda': '2022-12-07 03:29:53.201930'}\n",
            "{'Nome do Item': 'Sombra de olhos', 'ClassificaÃ§Ã£o do Produto': 'Alimentos', 'Valor em Reais (R$)': '21.62', 'Quantidade em Estoque': '40', 'Nome da Loja': 'Filial 7', 'Data da Venda': '2022-09-20 03:29:53.201930'}\n",
            "{'Nome do Item': 'Sombra de olhos', 'ClassificaÃ§Ã£o do Produto': 'EletrÃ´nicos', 'Valor em Reais (R$)': '31.81', 'Quantidade em Estoque': '83', 'Nome da Loja': 'Filial 10', 'Data da Venda': '2023-01-26 03:29:53.201930'}\n",
            "{'Nome do Item': 'Corretivo', 'ClassificaÃ§Ã£o do Produto': 'EletrodomÃ©sticos', 'Valor em Reais (R$)': '47.83', 'Quantidade em Estoque': '29', 'Nome da Loja': 'Filial 8', 'Data da Venda': '2022-10-26 03:29:53.201930'}\n",
            "{'Nome do Item': 'Sombra de olhos', 'ClassificaÃ§Ã£o do Produto': 'EletrodomÃ©sticos', 'Valor em Reais (R$)': '55.15', 'Quantidade em Estoque': '33', 'Nome da Loja': 'Filial 2', 'Data da Venda': '2023-08-17 03:29:53.201930'}\n",
            "{'Nome do Item': 'Delineador lÃ\\xadquido', 'ClassificaÃ§Ã£o do Produto': 'EletrÃ´nicos', 'Valor em Reais (R$)': '44.54', 'Quantidade em Estoque': '15', 'Nome da Loja': 'Filial 9', 'Data da Venda': '2022-12-13 03:29:53.201930'}\n",
            "{'Nome do Item': 'Delineador lÃ\\xadquido', 'ClassificaÃ§Ã£o do Produto': 'Alimentos', 'Valor em Reais (R$)': '62.52', 'Quantidade em Estoque': '77', 'Nome da Loja': 'Filial 10', 'Data da Venda': '2023-05-06 03:29:53.201930'}\n",
            "{'Nome do Item': 'Batom lÃ\\xadquido', 'ClassificaÃ§Ã£o do Produto': 'EletrodomÃ©sticos', 'Valor em Reais (R$)': '36.12', 'Quantidade em Estoque': '6', 'Nome da Loja': 'Filial 10', 'Data da Venda': '2023-05-14 03:29:53.201930'}\n",
            "{'Nome do Item': 'PÃ³ compacto', 'ClassificaÃ§Ã£o do Produto': 'Alimentos', 'Valor em Reais (R$)': '78.49', 'Quantidade em Estoque': '26', 'Nome da Loja': 'Filial 8', 'Data da Venda': '2022-11-25 03:29:53.201930'}\n",
            "{'Nome do Item': 'PÃ³ compacto', 'ClassificaÃ§Ã£o do Produto': 'EletrÃ´nicos', 'Valor em Reais (R$)': '66.47', 'Quantidade em Estoque': '66', 'Nome da Loja': 'Filial 8', 'Data da Venda': '2023-02-06 03:29:53.201930'}\n",
            "{'Nome do Item': 'Delineador lÃ\\xadquido', 'ClassificaÃ§Ã£o do Produto': 'EletrodomÃ©sticos', 'Valor em Reais (R$)': '37.53', 'Quantidade em Estoque': '12', 'Nome da Loja': 'Filial 7', 'Data da Venda': '2022-12-07 03:29:53.201930'}\n",
            "{'Nome do Item': 'LÃ¡pis de sobrancelha', 'ClassificaÃ§Ã£o do Produto': 'Roupas', 'Valor em Reais (R$)': '96.94', 'Quantidade em Estoque': '69', 'Nome da Loja': 'Filial 3', 'Data da Venda': '2022-10-06 03:29:53.201930'}\n",
            "{'Nome do Item': 'Delineador lÃ\\xadquido', 'ClassificaÃ§Ã£o do Produto': 'Alimentos', 'Valor em Reais (R$)': '66.64', 'Quantidade em Estoque': '74', 'Nome da Loja': 'Filial 3', 'Data da Venda': '2022-09-23 03:29:53.201930'}\n",
            "{'Nome do Item': 'PÃ³ compacto', 'ClassificaÃ§Ã£o do Produto': 'Roupas', 'Valor em Reais (R$)': '25.25', 'Quantidade em Estoque': '81', 'Nome da Loja': 'Filial 2', 'Data da Venda': '2023-01-11 03:29:53.201930'}\n",
            "{'Nome do Item': 'PÃ³ compacto', 'ClassificaÃ§Ã£o do Produto': 'EletrodomÃ©sticos', 'Valor em Reais (R$)': '72.06', 'Quantidade em Estoque': '58', 'Nome da Loja': 'Filial 4', 'Data da Venda': '2022-11-26 03:29:53.201930'}\n",
            "{'Nome do Item': 'Sombra de olhos', 'ClassificaÃ§Ã£o do Produto': 'Roupas', 'Valor em Reais (R$)': '15.32', 'Quantidade em Estoque': '33', 'Nome da Loja': 'Filial 6', 'Data da Venda': '2022-12-08 03:29:53.201930'}\n",
            "{'Nome do Item': 'Batom lÃ\\xadquido', 'ClassificaÃ§Ã£o do Produto': 'Alimentos', 'Valor em Reais (R$)': '32.04', 'Quantidade em Estoque': '72', 'Nome da Loja': 'Filial 7', 'Data da Venda': '2023-03-09 03:29:53.201930'}\n",
            "{'Nome do Item': 'Delineador lÃ\\xadquido', 'ClassificaÃ§Ã£o do Produto': 'Roupas', 'Valor em Reais (R$)': '38.25', 'Quantidade em Estoque': '37', 'Nome da Loja': 'Filial 4', 'Data da Venda': '2023-07-14 03:29:53.201930'}\n",
            "{'Nome do Item': 'Base lÃ\\xadquida', 'ClassificaÃ§Ã£o do Produto': 'EletrodomÃ©sticos', 'Valor em Reais (R$)': '20.73', 'Quantidade em Estoque': '94', 'Nome da Loja': 'Filial 1', 'Data da Venda': '2023-06-27 03:29:53.201930'}\n",
            "{'Nome do Item': 'Batom lÃ\\xadquido', 'ClassificaÃ§Ã£o do Produto': 'Alimentos', 'Valor em Reais (R$)': '44.22', 'Quantidade em Estoque': '92', 'Nome da Loja': 'Filial 9', 'Data da Venda': '2023-03-19 03:29:53.201930'}\n",
            "{'Nome do Item': 'Base lÃ\\xadquida', 'ClassificaÃ§Ã£o do Produto': 'Alimentos', 'Valor em Reais (R$)': '24.72', 'Quantidade em Estoque': '7', 'Nome da Loja': 'Filial 5', 'Data da Venda': '2022-09-22 03:29:53.201930'}\n",
            "{'Nome do Item': 'Corretivo', 'ClassificaÃ§Ã£o do Produto': 'EletrÃ´nicos', 'Valor em Reais (R$)': '75.25', 'Quantidade em Estoque': '14', 'Nome da Loja': 'Filial 10', 'Data da Venda': '2022-12-31 03:29:53.201930'}\n",
            "{'Nome do Item': 'Base lÃ\\xadquida', 'ClassificaÃ§Ã£o do Produto': 'Alimentos', 'Valor em Reais (R$)': '76.06', 'Quantidade em Estoque': '31', 'Nome da Loja': 'Filial 10', 'Data da Venda': '2023-01-16 03:29:53.201930'}\n",
            "{'Nome do Item': 'Delineador lÃ\\xadquido', 'ClassificaÃ§Ã£o do Produto': 'EletrodomÃ©sticos', 'Valor em Reais (R$)': '51.7', 'Quantidade em Estoque': '30', 'Nome da Loja': 'Filial 9', 'Data da Venda': '2023-05-08 03:29:53.201930'}\n",
            "{'Nome do Item': 'MÃ¡scara de cÃ\\xadlios', 'ClassificaÃ§Ã£o do Produto': 'Alimentos', 'Valor em Reais (R$)': '48.24', 'Quantidade em Estoque': '1', 'Nome da Loja': 'Filial 5', 'Data da Venda': '2022-12-07 03:29:53.201930'}\n",
            "{'Nome do Item': 'LÃ¡pis de sobrancelha', 'ClassificaÃ§Ã£o do Produto': 'Alimentos', 'Valor em Reais (R$)': '38.69', 'Quantidade em Estoque': '74', 'Nome da Loja': 'Filial 10', 'Data da Venda': '2023-04-02 03:29:53.201930'}\n",
            "{'Nome do Item': 'Batom matte', 'ClassificaÃ§Ã£o do Produto': 'EletrÃ´nicos', 'Valor em Reais (R$)': '28.38', 'Quantidade em Estoque': '72', 'Nome da Loja': 'Filial 6', 'Data da Venda': '2023-02-09 03:29:53.201930'}\n",
            "{'Nome do Item': 'Delineador lÃ\\xadquido', 'ClassificaÃ§Ã£o do Produto': 'Roupas', 'Valor em Reais (R$)': '56.32', 'Quantidade em Estoque': '91', 'Nome da Loja': 'Filial 8', 'Data da Venda': '2023-07-23 03:29:53.201930'}\n",
            "{'Nome do Item': 'Corretivo', 'ClassificaÃ§Ã£o do Produto': 'EletrÃ´nicos', 'Valor em Reais (R$)': '58.44', 'Quantidade em Estoque': '40', 'Nome da Loja': 'Filial 4', 'Data da Venda': '2022-10-03 03:29:53.201930'}\n",
            "{'Nome do Item': 'Base lÃ\\xadquida', 'ClassificaÃ§Ã£o do Produto': 'EletrÃ´nicos', 'Valor em Reais (R$)': '28.55', 'Quantidade em Estoque': '70', 'Nome da Loja': 'Filial 10', 'Data da Venda': '2023-06-15 03:29:53.201930'}\n",
            "{'Nome do Item': 'PÃ³ compacto', 'ClassificaÃ§Ã£o do Produto': 'EletrodomÃ©sticos', 'Valor em Reais (R$)': '79.51', 'Quantidade em Estoque': '4', 'Nome da Loja': 'Filial 10', 'Data da Venda': '2022-10-04 03:29:53.201930'}\n",
            "{'Nome do Item': 'Batom matte', 'ClassificaÃ§Ã£o do Produto': 'EletrodomÃ©sticos', 'Valor em Reais (R$)': '66.08', 'Quantidade em Estoque': '58', 'Nome da Loja': 'Filial 10', 'Data da Venda': '2022-08-29 03:29:53.201930'}\n",
            "{'Nome do Item': 'PÃ³ compacto', 'ClassificaÃ§Ã£o do Produto': 'EletrÃ´nicos', 'Valor em Reais (R$)': '56.37', 'Quantidade em Estoque': '43', 'Nome da Loja': 'Filial 6', 'Data da Venda': '2023-02-01 03:29:53.201930'}\n",
            "{'Nome do Item': 'Delineador lÃ\\xadquido', 'ClassificaÃ§Ã£o do Produto': 'Alimentos', 'Valor em Reais (R$)': '17.69', 'Quantidade em Estoque': '60', 'Nome da Loja': 'Filial 9', 'Data da Venda': '2023-02-05 03:29:53.201930'}\n",
            "{'Nome do Item': 'Base lÃ\\xadquida', 'ClassificaÃ§Ã£o do Produto': 'Roupas', 'Valor em Reais (R$)': '39.95', 'Quantidade em Estoque': '29', 'Nome da Loja': 'Filial 4', 'Data da Venda': '2023-06-01 03:29:53.201930'}\n",
            "{'Nome do Item': 'MÃ¡scara de cÃ\\xadlios', 'ClassificaÃ§Ã£o do Produto': 'Alimentos', 'Valor em Reais (R$)': '21.74', 'Quantidade em Estoque': '86', 'Nome da Loja': 'Filial 3', 'Data da Venda': '2022-12-02 03:29:53.201930'}\n",
            "{'Nome do Item': 'Sombra de olhos', 'ClassificaÃ§Ã£o do Produto': 'Alimentos', 'Valor em Reais (R$)': '64.75', 'Quantidade em Estoque': '64', 'Nome da Loja': 'Filial 10', 'Data da Venda': '2023-06-05 03:29:53.201930'}\n",
            "{'Nome do Item': 'Base lÃ\\xadquida', 'ClassificaÃ§Ã£o do Produto': 'EletrÃ´nicos', 'Valor em Reais (R$)': '96.49', 'Quantidade em Estoque': '60', 'Nome da Loja': 'Filial 10', 'Data da Venda': '2023-04-12 03:29:53.201930'}\n",
            "{'Nome do Item': 'Sombra de olhos', 'ClassificaÃ§Ã£o do Produto': 'Alimentos', 'Valor em Reais (R$)': '45.09', 'Quantidade em Estoque': '18', 'Nome da Loja': 'Filial 9', 'Data da Venda': '2023-03-28 03:29:53.201930'}\n",
            "{'Nome do Item': 'Blush em pÃ³', 'ClassificaÃ§Ã£o do Produto': 'Roupas', 'Valor em Reais (R$)': '55.7', 'Quantidade em Estoque': '46', 'Nome da Loja': 'Filial 1', 'Data da Venda': '2023-08-09 03:29:53.201930'}\n",
            "{'Nome do Item': 'Sombra de olhos', 'ClassificaÃ§Ã£o do Produto': 'EletrodomÃ©sticos', 'Valor em Reais (R$)': '87.02', 'Quantidade em Estoque': '71', 'Nome da Loja': 'Filial 10', 'Data da Venda': '2023-06-24 03:29:53.201930'}\n",
            "{'Nome do Item': 'Blush em pÃ³', 'ClassificaÃ§Ã£o do Produto': 'EletrÃ´nicos', 'Valor em Reais (R$)': '27.49', 'Quantidade em Estoque': '11', 'Nome da Loja': 'Filial 2', 'Data da Venda': '2023-07-13 03:29:53.201930'}\n",
            "{'Nome do Item': 'Sombra de olhos', 'ClassificaÃ§Ã£o do Produto': 'EletrÃ´nicos', 'Valor em Reais (R$)': '6.26', 'Quantidade em Estoque': '84', 'Nome da Loja': 'Filial 4', 'Data da Venda': '2022-09-06 03:29:53.201930'}\n",
            "{'Nome do Item': 'Sombra de olhos', 'ClassificaÃ§Ã£o do Produto': 'Alimentos', 'Valor em Reais (R$)': '78.08', 'Quantidade em Estoque': '88', 'Nome da Loja': 'Filial 8', 'Data da Venda': '2022-09-15 03:29:53.201930'}\n",
            "{'Nome do Item': 'Corretivo', 'ClassificaÃ§Ã£o do Produto': 'EletrodomÃ©sticos', 'Valor em Reais (R$)': '4.7', 'Quantidade em Estoque': '43', 'Nome da Loja': 'Filial 8', 'Data da Venda': '2022-12-20 03:29:53.201930'}\n",
            "{'Nome do Item': 'Sombra de olhos', 'ClassificaÃ§Ã£o do Produto': 'Roupas', 'Valor em Reais (R$)': '13.57', 'Quantidade em Estoque': '55', 'Nome da Loja': 'Filial 4', 'Data da Venda': '2023-02-06 03:29:53.201930'}\n",
            "{'Nome do Item': 'MÃ¡scara de cÃ\\xadlios', 'ClassificaÃ§Ã£o do Produto': 'EletrÃ´nicos', 'Valor em Reais (R$)': '5.58', 'Quantidade em Estoque': '57', 'Nome da Loja': 'Filial 3', 'Data da Venda': '2023-07-17 03:29:53.201930'}\n",
            "{'Nome do Item': 'MÃ¡scara de cÃ\\xadlios', 'ClassificaÃ§Ã£o do Produto': 'Alimentos', 'Valor em Reais (R$)': '75.26', 'Quantidade em Estoque': '17', 'Nome da Loja': 'Filial 4', 'Data da Venda': '2022-12-13 03:29:53.201930'}\n",
            "{'Nome do Item': 'MÃ¡scara de cÃ\\xadlios', 'ClassificaÃ§Ã£o do Produto': 'Alimentos', 'Valor em Reais (R$)': '51.01', 'Quantidade em Estoque': '53', 'Nome da Loja': 'Filial 8', 'Data da Venda': '2023-04-25 03:29:53.201930'}\n",
            "{'Nome do Item': 'LÃ¡pis de sobrancelha', 'ClassificaÃ§Ã£o do Produto': 'Alimentos', 'Valor em Reais (R$)': '81.5', 'Quantidade em Estoque': '22', 'Nome da Loja': 'Filial 9', 'Data da Venda': '2023-07-30 03:29:53.201930'}\n",
            "{'Nome do Item': 'MÃ¡scara de cÃ\\xadlios', 'ClassificaÃ§Ã£o do Produto': 'Alimentos', 'Valor em Reais (R$)': '10.85', 'Quantidade em Estoque': '79', 'Nome da Loja': 'Filial 1', 'Data da Venda': '2022-12-21 03:29:53.201930'}\n",
            "{'Nome do Item': 'Base lÃ\\xadquida', 'ClassificaÃ§Ã£o do Produto': 'Alimentos', 'Valor em Reais (R$)': '60.7', 'Quantidade em Estoque': '87', 'Nome da Loja': 'Filial 7', 'Data da Venda': '2023-05-29 03:29:53.201930'}\n",
            "{'Nome do Item': 'Corretivo', 'ClassificaÃ§Ã£o do Produto': 'Alimentos', 'Valor em Reais (R$)': '72.19', 'Quantidade em Estoque': '74', 'Nome da Loja': 'Filial 6', 'Data da Venda': '2023-05-12 03:29:53.201930'}\n",
            "{'Nome do Item': 'MÃ¡scara de cÃ\\xadlios', 'ClassificaÃ§Ã£o do Produto': 'Alimentos', 'Valor em Reais (R$)': '14.64', 'Quantidade em Estoque': '66', 'Nome da Loja': 'Filial 7', 'Data da Venda': '2022-10-30 03:29:53.201930'}\n",
            "{'Nome do Item': 'Corretivo', 'ClassificaÃ§Ã£o do Produto': 'EletrÃ´nicos', 'Valor em Reais (R$)': '44.59', 'Quantidade em Estoque': '67', 'Nome da Loja': 'Filial 4', 'Data da Venda': '2023-06-04 03:29:53.201930'}\n",
            "{'Nome do Item': 'Batom matte', 'ClassificaÃ§Ã£o do Produto': 'EletrodomÃ©sticos', 'Valor em Reais (R$)': '84.31', 'Quantidade em Estoque': '99', 'Nome da Loja': 'Filial 7', 'Data da Venda': '2022-09-24 03:29:53.201930'}\n",
            "{'Nome do Item': 'Sombra de olhos', 'ClassificaÃ§Ã£o do Produto': 'EletrÃ´nicos', 'Valor em Reais (R$)': '71.43', 'Quantidade em Estoque': '48', 'Nome da Loja': 'Filial 7', 'Data da Venda': '2022-12-01 03:29:53.201930'}\n",
            "{'Nome do Item': 'MÃ¡scara de cÃ\\xadlios', 'ClassificaÃ§Ã£o do Produto': 'Alimentos', 'Valor em Reais (R$)': '13.35', 'Quantidade em Estoque': '3', 'Nome da Loja': 'Filial 10', 'Data da Venda': '2023-03-02 03:29:53.201930'}\n",
            "{'Nome do Item': 'Batom matte', 'ClassificaÃ§Ã£o do Produto': 'EletrodomÃ©sticos', 'Valor em Reais (R$)': '66.54', 'Quantidade em Estoque': '88', 'Nome da Loja': 'Filial 7', 'Data da Venda': '2023-02-16 03:29:53.201930'}\n",
            "{'Nome do Item': 'LÃ¡pis de sobrancelha', 'ClassificaÃ§Ã£o do Produto': 'Alimentos', 'Valor em Reais (R$)': '79.94', 'Quantidade em Estoque': '22', 'Nome da Loja': 'Filial 6', 'Data da Venda': '2022-10-13 03:29:53.201930'}\n",
            "{'Nome do Item': 'Sombra de olhos', 'ClassificaÃ§Ã£o do Produto': 'Alimentos', 'Valor em Reais (R$)': '2.01', 'Quantidade em Estoque': '22', 'Nome da Loja': 'Filial 8', 'Data da Venda': '2023-04-29 03:29:53.201930'}\n",
            "{'Nome do Item': 'PÃ³ compacto', 'ClassificaÃ§Ã£o do Produto': 'Roupas', 'Valor em Reais (R$)': '80.91', 'Quantidade em Estoque': '18', 'Nome da Loja': 'Filial 2', 'Data da Venda': '2022-08-30 03:29:53.201930'}\n",
            "{'Nome do Item': 'PÃ³ compacto', 'ClassificaÃ§Ã£o do Produto': 'Roupas', 'Valor em Reais (R$)': '29.34', 'Quantidade em Estoque': '29', 'Nome da Loja': 'Filial 7', 'Data da Venda': '2023-04-28 03:29:53.201930'}\n",
            "{'Nome do Item': 'Base lÃ\\xadquida', 'ClassificaÃ§Ã£o do Produto': 'EletrÃ´nicos', 'Valor em Reais (R$)': '77.64', 'Quantidade em Estoque': '63', 'Nome da Loja': 'Filial 10', 'Data da Venda': '2022-09-30 03:29:53.201930'}\n",
            "{'Nome do Item': 'Batom matte', 'ClassificaÃ§Ã£o do Produto': 'EletrodomÃ©sticos', 'Valor em Reais (R$)': '51.89', 'Quantidade em Estoque': '35', 'Nome da Loja': 'Filial 1', 'Data da Venda': '2023-02-14 03:29:53.201930'}\n",
            "{'Nome do Item': 'Blush em pÃ³', 'ClassificaÃ§Ã£o do Produto': 'Roupas', 'Valor em Reais (R$)': '24.84', 'Quantidade em Estoque': '33', 'Nome da Loja': 'Filial 9', 'Data da Venda': '2023-04-30 03:29:53.201930'}\n",
            "{'Nome do Item': 'Blush em pÃ³', 'ClassificaÃ§Ã£o do Produto': 'Roupas', 'Valor em Reais (R$)': '97.02', 'Quantidade em Estoque': '48', 'Nome da Loja': 'Filial 9', 'Data da Venda': '2023-04-18 03:29:53.201930'}\n",
            "{'Nome do Item': 'Batom lÃ\\xadquido', 'ClassificaÃ§Ã£o do Produto': 'EletrodomÃ©sticos', 'Valor em Reais (R$)': '13.47', 'Quantidade em Estoque': '71', 'Nome da Loja': 'Filial 6', 'Data da Venda': '2023-01-10 03:29:53.201930'}\n",
            "{'Nome do Item': 'Batom lÃ\\xadquido', 'ClassificaÃ§Ã£o do Produto': 'EletrodomÃ©sticos', 'Valor em Reais (R$)': '47.67', 'Quantidade em Estoque': '70', 'Nome da Loja': 'Filial 9', 'Data da Venda': '2022-12-25 03:29:53.201930'}\n",
            "{'Nome do Item': 'PÃ³ compacto', 'ClassificaÃ§Ã£o do Produto': 'Roupas', 'Valor em Reais (R$)': '25.98', 'Quantidade em Estoque': '98', 'Nome da Loja': 'Filial 6', 'Data da Venda': '2022-10-05 03:29:53.201930'}\n",
            "{'Nome do Item': 'Batom lÃ\\xadquido', 'ClassificaÃ§Ã£o do Produto': 'Alimentos', 'Valor em Reais (R$)': '2.51', 'Quantidade em Estoque': '96', 'Nome da Loja': 'Filial 10', 'Data da Venda': '2023-05-02 03:29:53.201930'}\n",
            "{'Nome do Item': 'MÃ¡scara de cÃ\\xadlios', 'ClassificaÃ§Ã£o do Produto': 'EletrodomÃ©sticos', 'Valor em Reais (R$)': '13.98', 'Quantidade em Estoque': '57', 'Nome da Loja': 'Filial 8', 'Data da Venda': '2023-08-17 03:29:53.201930'}\n",
            "{'Nome do Item': 'Base lÃ\\xadquida', 'ClassificaÃ§Ã£o do Produto': 'EletrÃ´nicos', 'Valor em Reais (R$)': '40.49', 'Quantidade em Estoque': '55', 'Nome da Loja': 'Filial 9', 'Data da Venda': '2022-12-05 03:29:53.201930'}\n",
            "{'Nome do Item': 'Blush em pÃ³', 'ClassificaÃ§Ã£o do Produto': 'Alimentos', 'Valor em Reais (R$)': '30.93', 'Quantidade em Estoque': '57', 'Nome da Loja': 'Filial 2', 'Data da Venda': '2023-03-14 03:29:53.201930'}\n",
            "{'Nome do Item': 'Batom lÃ\\xadquido', 'ClassificaÃ§Ã£o do Produto': 'EletrÃ´nicos', 'Valor em Reais (R$)': '83.85', 'Quantidade em Estoque': '45', 'Nome da Loja': 'Filial 4', 'Data da Venda': '2023-01-19 03:29:53.201930'}\n",
            "{'Nome do Item': 'Batom lÃ\\xadquido', 'ClassificaÃ§Ã£o do Produto': 'EletrodomÃ©sticos', 'Valor em Reais (R$)': '64.83', 'Quantidade em Estoque': '83', 'Nome da Loja': 'Filial 9', 'Data da Venda': '2022-12-30 03:29:53.201930'}\n",
            "{'Nome do Item': 'Sombra de olhos', 'ClassificaÃ§Ã£o do Produto': 'Alimentos', 'Valor em Reais (R$)': '95.95', 'Quantidade em Estoque': '96', 'Nome da Loja': 'Filial 10', 'Data da Venda': '2023-03-01 03:29:53.201930'}\n",
            "{'Nome do Item': 'Delineador lÃ\\xadquido', 'ClassificaÃ§Ã£o do Produto': 'EletrÃ´nicos', 'Valor em Reais (R$)': '5.25', 'Quantidade em Estoque': '9', 'Nome da Loja': 'Filial 2', 'Data da Venda': '2022-08-26 03:29:53.201930'}\n",
            "{'Nome do Item': 'Batom matte', 'ClassificaÃ§Ã£o do Produto': 'EletrÃ´nicos', 'Valor em Reais (R$)': '90.94', 'Quantidade em Estoque': '7', 'Nome da Loja': 'Filial 9', 'Data da Venda': '2022-11-20 03:29:53.201930'}\n",
            "{'Nome do Item': 'LÃ¡pis de sobrancelha', 'ClassificaÃ§Ã£o do Produto': 'EletrodomÃ©sticos', 'Valor em Reais (R$)': '65.59', 'Quantidade em Estoque': '84', 'Nome da Loja': 'Filial 2', 'Data da Venda': '2022-09-21 03:29:53.201930'}\n",
            "{'Nome do Item': 'Blush em pÃ³', 'ClassificaÃ§Ã£o do Produto': 'EletrÃ´nicos', 'Valor em Reais (R$)': '9.65', 'Quantidade em Estoque': '58', 'Nome da Loja': 'Filial 10', 'Data da Venda': '2022-10-26 03:29:53.201930'}\n",
            "{'Nome do Item': 'Blush em pÃ³', 'ClassificaÃ§Ã£o do Produto': 'Roupas', 'Valor em Reais (R$)': '25.12', 'Quantidade em Estoque': '1', 'Nome da Loja': 'Filial 5', 'Data da Venda': '2023-04-13 03:29:53.201930'}\n",
            "{'Nome do Item': 'MÃ¡scara de cÃ\\xadlios', 'ClassificaÃ§Ã£o do Produto': 'EletrodomÃ©sticos', 'Valor em Reais (R$)': '97.24', 'Quantidade em Estoque': '35', 'Nome da Loja': 'Filial 10', 'Data da Venda': '2022-11-17 03:29:53.201930'}\n",
            "{'Nome do Item': 'Batom matte', 'ClassificaÃ§Ã£o do Produto': 'Alimentos', 'Valor em Reais (R$)': '57.78', 'Quantidade em Estoque': '60', 'Nome da Loja': 'Filial 5', 'Data da Venda': '2022-10-22 03:29:53.201930'}\n",
            "{'Nome do Item': 'Batom lÃ\\xadquido', 'ClassificaÃ§Ã£o do Produto': 'Alimentos', 'Valor em Reais (R$)': '27.2', 'Quantidade em Estoque': '84', 'Nome da Loja': 'Filial 7', 'Data da Venda': '2023-05-21 03:29:53.201930'}\n",
            "{'Nome do Item': 'Blush em pÃ³', 'ClassificaÃ§Ã£o do Produto': 'EletrodomÃ©sticos', 'Valor em Reais (R$)': '59.2', 'Quantidade em Estoque': '97', 'Nome da Loja': 'Filial 7', 'Data da Venda': '2023-07-03 03:29:53.201930'}\n",
            "{'Nome do Item': 'Blush em pÃ³', 'ClassificaÃ§Ã£o do Produto': 'EletrodomÃ©sticos', 'Valor em Reais (R$)': '47.84', 'Quantidade em Estoque': '64', 'Nome da Loja': 'Filial 9', 'Data da Venda': '2022-08-31 03:29:53.201930'}\n",
            "{'Nome do Item': 'Sombra de olhos', 'ClassificaÃ§Ã£o do Produto': 'Roupas', 'Valor em Reais (R$)': '95.01', 'Quantidade em Estoque': '37', 'Nome da Loja': 'Filial 9', 'Data da Venda': '2022-12-11 03:29:53.201930'}\n",
            "{'Nome do Item': 'MÃ¡scara de cÃ\\xadlios', 'ClassificaÃ§Ã£o do Produto': 'Roupas', 'Valor em Reais (R$)': '20.64', 'Quantidade em Estoque': '20', 'Nome da Loja': 'Filial 3', 'Data da Venda': '2023-08-01 03:29:53.201930'}\n",
            "{'Nome do Item': 'Sombra de olhos', 'ClassificaÃ§Ã£o do Produto': 'EletrÃ´nicos', 'Valor em Reais (R$)': '17.69', 'Quantidade em Estoque': '1', 'Nome da Loja': 'Filial 5', 'Data da Venda': '2023-04-25 03:29:53.201930'}\n",
            "{'Nome do Item': 'PÃ³ compacto', 'ClassificaÃ§Ã£o do Produto': 'EletrÃ´nicos', 'Valor em Reais (R$)': '79.1', 'Quantidade em Estoque': '97', 'Nome da Loja': 'Filial 8', 'Data da Venda': '2023-05-28 03:29:53.201930'}\n",
            "{'Nome do Item': 'Batom matte', 'ClassificaÃ§Ã£o do Produto': 'Alimentos', 'Valor em Reais (R$)': '52.4', 'Quantidade em Estoque': '43', 'Nome da Loja': 'Filial 5', 'Data da Venda': '2023-03-27 03:29:53.201930'}\n",
            "{'Nome do Item': 'PÃ³ compacto', 'ClassificaÃ§Ã£o do Produto': 'EletrÃ´nicos', 'Valor em Reais (R$)': '33.49', 'Quantidade em Estoque': '87', 'Nome da Loja': 'Filial 1', 'Data da Venda': '2022-11-22 03:29:53.201930'}\n",
            "{'Nome do Item': 'Batom matte', 'ClassificaÃ§Ã£o do Produto': 'Alimentos', 'Valor em Reais (R$)': '94.37', 'Quantidade em Estoque': '82', 'Nome da Loja': 'Filial 7', 'Data da Venda': '2023-05-23 03:29:53.201930'}\n",
            "{'Nome do Item': 'Batom matte', 'ClassificaÃ§Ã£o do Produto': 'EletrÃ´nicos', 'Valor em Reais (R$)': '49.78', 'Quantidade em Estoque': '72', 'Nome da Loja': 'Filial 7', 'Data da Venda': '2022-10-20 03:29:53.201930'}\n",
            "{'Nome do Item': 'Batom matte', 'ClassificaÃ§Ã£o do Produto': 'EletrÃ´nicos', 'Valor em Reais (R$)': '95.42', 'Quantidade em Estoque': '57', 'Nome da Loja': 'Filial 4', 'Data da Venda': '2022-10-15 03:29:53.201930'}\n",
            "{'Nome do Item': 'Batom matte', 'ClassificaÃ§Ã£o do Produto': 'EletrodomÃ©sticos', 'Valor em Reais (R$)': '13.9', 'Quantidade em Estoque': '56', 'Nome da Loja': 'Filial 8', 'Data da Venda': '2023-03-01 03:29:53.201930'}\n",
            "{'Nome do Item': 'MÃ¡scara de cÃ\\xadlios', 'ClassificaÃ§Ã£o do Produto': 'Alimentos', 'Valor em Reais (R$)': '64.49', 'Quantidade em Estoque': '100', 'Nome da Loja': 'Filial 10', 'Data da Venda': '2023-07-26 03:29:53.201930'}\n",
            "{'Nome do Item': 'Batom matte', 'ClassificaÃ§Ã£o do Produto': 'EletrÃ´nicos', 'Valor em Reais (R$)': '69.6', 'Quantidade em Estoque': '13', 'Nome da Loja': 'Filial 1', 'Data da Venda': '2022-11-02 03:29:53.201930'}\n",
            "{'Nome do Item': 'LÃ¡pis de sobrancelha', 'ClassificaÃ§Ã£o do Produto': 'Alimentos', 'Valor em Reais (R$)': '26.09', 'Quantidade em Estoque': '54', 'Nome da Loja': 'Filial 9', 'Data da Venda': '2022-10-17 03:29:53.201930'}\n",
            "{'Nome do Item': 'Batom lÃ\\xadquido', 'ClassificaÃ§Ã£o do Produto': 'EletrÃ´nicos', 'Valor em Reais (R$)': '36.34', 'Quantidade em Estoque': '48', 'Nome da Loja': 'Filial 1', 'Data da Venda': '2023-02-18 03:29:53.201930'}\n",
            "{'Nome do Item': 'Batom lÃ\\xadquido', 'ClassificaÃ§Ã£o do Produto': 'EletrodomÃ©sticos', 'Valor em Reais (R$)': '50.95', 'Quantidade em Estoque': '85', 'Nome da Loja': 'Filial 7', 'Data da Venda': '2022-11-15 03:29:53.201930'}\n",
            "{'Nome do Item': 'Blush em pÃ³', 'ClassificaÃ§Ã£o do Produto': 'EletrodomÃ©sticos', 'Valor em Reais (R$)': '72.26', 'Quantidade em Estoque': '35', 'Nome da Loja': 'Filial 5', 'Data da Venda': '2022-12-24 03:29:53.201930'}\n",
            "{'Nome do Item': 'Blush em pÃ³', 'ClassificaÃ§Ã£o do Produto': 'Alimentos', 'Valor em Reais (R$)': '64.59', 'Quantidade em Estoque': '86', 'Nome da Loja': 'Filial 7', 'Data da Venda': '2023-05-23 03:29:53.201930'}\n",
            "{'Nome do Item': 'Blush em pÃ³', 'ClassificaÃ§Ã£o do Produto': 'EletrodomÃ©sticos', 'Valor em Reais (R$)': '1.3', 'Quantidade em Estoque': '53', 'Nome da Loja': 'Filial 10', 'Data da Venda': '2022-11-11 03:29:53.201930'}\n",
            "{'Nome do Item': 'LÃ¡pis de sobrancelha', 'ClassificaÃ§Ã£o do Produto': 'EletrÃ´nicos', 'Valor em Reais (R$)': '81.85', 'Quantidade em Estoque': '87', 'Nome da Loja': 'Filial 9', 'Data da Venda': '2023-07-20 03:29:53.201930'}\n",
            "{'Nome do Item': 'Base lÃ\\xadquida', 'ClassificaÃ§Ã£o do Produto': 'Alimentos', 'Valor em Reais (R$)': '73.51', 'Quantidade em Estoque': '55', 'Nome da Loja': 'Filial 4', 'Data da Venda': '2023-07-06 03:29:53.201930'}\n",
            "{'Nome do Item': 'Sombra de olhos', 'ClassificaÃ§Ã£o do Produto': 'EletrodomÃ©sticos', 'Valor em Reais (R$)': '73.32', 'Quantidade em Estoque': '62', 'Nome da Loja': 'Filial 3', 'Data da Venda': '2023-07-18 03:29:53.201930'}\n",
            "{'Nome do Item': 'Base lÃ\\xadquida', 'ClassificaÃ§Ã£o do Produto': 'EletrodomÃ©sticos', 'Valor em Reais (R$)': '23.64', 'Quantidade em Estoque': '78', 'Nome da Loja': 'Filial 1', 'Data da Venda': '2023-05-18 03:29:53.201930'}\n",
            "{'Nome do Item': 'LÃ¡pis de sobrancelha', 'ClassificaÃ§Ã£o do Produto': 'EletrodomÃ©sticos', 'Valor em Reais (R$)': '80.39', 'Quantidade em Estoque': '36', 'Nome da Loja': 'Filial 10', 'Data da Venda': '2022-12-21 03:29:53.201930'}\n",
            "{'Nome do Item': 'MÃ¡scara de cÃ\\xadlios', 'ClassificaÃ§Ã£o do Produto': 'EletrodomÃ©sticos', 'Valor em Reais (R$)': '52.21', 'Quantidade em Estoque': '67', 'Nome da Loja': 'Filial 10', 'Data da Venda': '2022-11-23 03:29:53.201930'}\n",
            "{'Nome do Item': 'Base lÃ\\xadquida', 'ClassificaÃ§Ã£o do Produto': 'Alimentos', 'Valor em Reais (R$)': '25.37', 'Quantidade em Estoque': '80', 'Nome da Loja': 'Filial 5', 'Data da Venda': '2022-09-03 03:29:53.201930'}\n",
            "{'Nome do Item': 'Corretivo', 'ClassificaÃ§Ã£o do Produto': 'EletrÃ´nicos', 'Valor em Reais (R$)': '70.28', 'Quantidade em Estoque': '93', 'Nome da Loja': 'Filial 4', 'Data da Venda': '2023-05-01 03:29:53.201930'}\n",
            "{'Nome do Item': 'LÃ¡pis de sobrancelha', 'ClassificaÃ§Ã£o do Produto': 'Roupas', 'Valor em Reais (R$)': '27.82', 'Quantidade em Estoque': '91', 'Nome da Loja': 'Filial 5', 'Data da Venda': '2022-12-11 03:29:53.201930'}\n",
            "{'Nome do Item': 'MÃ¡scara de cÃ\\xadlios', 'ClassificaÃ§Ã£o do Produto': 'Alimentos', 'Valor em Reais (R$)': '64.38', 'Quantidade em Estoque': '9', 'Nome da Loja': 'Filial 4', 'Data da Venda': '2023-02-25 03:29:53.201930'}\n",
            "{'Nome do Item': 'Base lÃ\\xadquida', 'ClassificaÃ§Ã£o do Produto': 'EletrodomÃ©sticos', 'Valor em Reais (R$)': '77.71', 'Quantidade em Estoque': '47', 'Nome da Loja': 'Filial 5', 'Data da Venda': '2023-03-27 03:29:53.201930'}\n",
            "{'Nome do Item': 'Blush em pÃ³', 'ClassificaÃ§Ã£o do Produto': 'Roupas', 'Valor em Reais (R$)': '7.93', 'Quantidade em Estoque': '74', 'Nome da Loja': 'Filial 4', 'Data da Venda': '2023-06-04 03:29:53.201930'}\n",
            "{'Nome do Item': 'Base lÃ\\xadquida', 'ClassificaÃ§Ã£o do Produto': 'EletrÃ´nicos', 'Valor em Reais (R$)': '11.4', 'Quantidade em Estoque': '17', 'Nome da Loja': 'Filial 2', 'Data da Venda': '2023-05-18 03:29:53.201930'}\n",
            "{'Nome do Item': 'Delineador lÃ\\xadquido', 'ClassificaÃ§Ã£o do Produto': 'Alimentos', 'Valor em Reais (R$)': '33.88', 'Quantidade em Estoque': '44', 'Nome da Loja': 'Filial 7', 'Data da Venda': '2022-09-16 03:29:53.201930'}\n",
            "{'Nome do Item': 'Batom lÃ\\xadquido', 'ClassificaÃ§Ã£o do Produto': 'Alimentos', 'Valor em Reais (R$)': '31.52', 'Quantidade em Estoque': '37', 'Nome da Loja': 'Filial 6', 'Data da Venda': '2022-09-28 03:29:53.201930'}\n",
            "{'Nome do Item': 'Blush em pÃ³', 'ClassificaÃ§Ã£o do Produto': 'Alimentos', 'Valor em Reais (R$)': '87.81', 'Quantidade em Estoque': '19', 'Nome da Loja': 'Filial 1', 'Data da Venda': '2022-12-31 03:29:53.201930'}\n",
            "{'Nome do Item': 'Batom matte', 'ClassificaÃ§Ã£o do Produto': 'Alimentos', 'Valor em Reais (R$)': '11.89', 'Quantidade em Estoque': '98', 'Nome da Loja': 'Filial 7', 'Data da Venda': '2023-08-08 03:29:53.201930'}\n",
            "{'Nome do Item': 'Batom lÃ\\xadquido', 'ClassificaÃ§Ã£o do Produto': 'Alimentos', 'Valor em Reais (R$)': '82.78', 'Quantidade em Estoque': '45', 'Nome da Loja': 'Filial 4', 'Data da Venda': '2023-06-16 03:29:53.201930'}\n",
            "{'Nome do Item': 'PÃ³ compacto', 'ClassificaÃ§Ã£o do Produto': 'EletrÃ´nicos', 'Valor em Reais (R$)': '1.42', 'Quantidade em Estoque': '29', 'Nome da Loja': 'Filial 2', 'Data da Venda': '2023-01-06 03:29:53.201930'}\n",
            "{'Nome do Item': 'Blush em pÃ³', 'ClassificaÃ§Ã£o do Produto': 'Alimentos', 'Valor em Reais (R$)': '3.26', 'Quantidade em Estoque': '44', 'Nome da Loja': 'Filial 3', 'Data da Venda': '2023-07-09 03:29:53.201930'}\n",
            "{'Nome do Item': 'MÃ¡scara de cÃ\\xadlios', 'ClassificaÃ§Ã£o do Produto': 'Alimentos', 'Valor em Reais (R$)': '16.95', 'Quantidade em Estoque': '42', 'Nome da Loja': 'Filial 1', 'Data da Venda': '2023-04-17 03:29:53.201930'}\n",
            "{'Nome do Item': 'Batom matte', 'ClassificaÃ§Ã£o do Produto': 'EletrodomÃ©sticos', 'Valor em Reais (R$)': '22.43', 'Quantidade em Estoque': '31', 'Nome da Loja': 'Filial 5', 'Data da Venda': '2022-12-20 03:29:53.201930'}\n",
            "{'Nome do Item': 'Blush em pÃ³', 'ClassificaÃ§Ã£o do Produto': 'EletrÃ´nicos', 'Valor em Reais (R$)': '77.14', 'Quantidade em Estoque': '97', 'Nome da Loja': 'Filial 10', 'Data da Venda': '2023-02-14 03:29:53.201930'}\n",
            "{'Nome do Item': 'MÃ¡scara de cÃ\\xadlios', 'ClassificaÃ§Ã£o do Produto': 'Alimentos', 'Valor em Reais (R$)': '57.26', 'Quantidade em Estoque': '69', 'Nome da Loja': 'Filial 8', 'Data da Venda': '2022-10-05 03:29:53.201930'}\n",
            "{'Nome do Item': 'Batom matte', 'ClassificaÃ§Ã£o do Produto': 'EletrodomÃ©sticos', 'Valor em Reais (R$)': '33.46', 'Quantidade em Estoque': '18', 'Nome da Loja': 'Filial 5', 'Data da Venda': '2023-01-23 03:29:53.201930'}\n",
            "{'Nome do Item': 'Batom matte', 'ClassificaÃ§Ã£o do Produto': 'EletrÃ´nicos', 'Valor em Reais (R$)': '31.73', 'Quantidade em Estoque': '73', 'Nome da Loja': 'Filial 3', 'Data da Venda': '2022-10-28 03:29:53.201930'}\n",
            "{'Nome do Item': 'Blush em pÃ³', 'ClassificaÃ§Ã£o do Produto': 'Alimentos', 'Valor em Reais (R$)': '44.15', 'Quantidade em Estoque': '100', 'Nome da Loja': 'Filial 6', 'Data da Venda': '2023-07-13 03:29:53.201930'}\n",
            "{'Nome do Item': 'Corretivo', 'ClassificaÃ§Ã£o do Produto': 'EletrÃ´nicos', 'Valor em Reais (R$)': '53.88', 'Quantidade em Estoque': '30', 'Nome da Loja': 'Filial 5', 'Data da Venda': '2022-10-04 03:29:53.201930'}\n",
            "{'Nome do Item': 'Blush em pÃ³', 'ClassificaÃ§Ã£o do Produto': 'Alimentos', 'Valor em Reais (R$)': '39.43', 'Quantidade em Estoque': '2', 'Nome da Loja': 'Filial 5', 'Data da Venda': '2022-11-24 03:29:53.201930'}\n",
            "{'Nome do Item': 'LÃ¡pis de sobrancelha', 'ClassificaÃ§Ã£o do Produto': 'EletrodomÃ©sticos', 'Valor em Reais (R$)': '23.43', 'Quantidade em Estoque': '65', 'Nome da Loja': 'Filial 9', 'Data da Venda': '2023-08-10 03:29:53.201930'}\n",
            "{'Nome do Item': 'Blush em pÃ³', 'ClassificaÃ§Ã£o do Produto': 'Roupas', 'Valor em Reais (R$)': '59.51', 'Quantidade em Estoque': '91', 'Nome da Loja': 'Filial 8', 'Data da Venda': '2023-03-29 03:29:53.201930'}\n",
            "{'Nome do Item': 'LÃ¡pis de sobrancelha', 'ClassificaÃ§Ã£o do Produto': 'Roupas', 'Valor em Reais (R$)': '20.62', 'Quantidade em Estoque': '79', 'Nome da Loja': 'Filial 7', 'Data da Venda': '2022-11-26 03:29:53.201930'}\n",
            "{'Nome do Item': 'Sombra de olhos', 'ClassificaÃ§Ã£o do Produto': 'EletrÃ´nicos', 'Valor em Reais (R$)': '37.01', 'Quantidade em Estoque': '26', 'Nome da Loja': 'Filial 7', 'Data da Venda': '2023-02-28 03:29:53.201930'}\n",
            "{'Nome do Item': 'LÃ¡pis de sobrancelha', 'ClassificaÃ§Ã£o do Produto': 'EletrodomÃ©sticos', 'Valor em Reais (R$)': '3.11', 'Quantidade em Estoque': '3', 'Nome da Loja': 'Filial 2', 'Data da Venda': '2023-05-26 03:29:53.201930'}\n",
            "{'Nome do Item': 'MÃ¡scara de cÃ\\xadlios', 'ClassificaÃ§Ã£o do Produto': 'EletrÃ´nicos', 'Valor em Reais (R$)': '76.93', 'Quantidade em Estoque': '76', 'Nome da Loja': 'Filial 1', 'Data da Venda': '2022-09-06 03:29:53.201930'}\n",
            "{'Nome do Item': 'Batom matte', 'ClassificaÃ§Ã£o do Produto': 'EletrÃ´nicos', 'Valor em Reais (R$)': '68.12', 'Quantidade em Estoque': '68', 'Nome da Loja': 'Filial 7', 'Data da Venda': '2023-02-17 03:29:53.201930'}\n",
            "{'Nome do Item': 'Base lÃ\\xadquida', 'ClassificaÃ§Ã£o do Produto': 'Roupas', 'Valor em Reais (R$)': '28.17', 'Quantidade em Estoque': '88', 'Nome da Loja': 'Filial 9', 'Data da Venda': '2023-05-26 03:29:53.201930'}\n",
            "{'Nome do Item': 'Blush em pÃ³', 'ClassificaÃ§Ã£o do Produto': 'Alimentos', 'Valor em Reais (R$)': '63.72', 'Quantidade em Estoque': '57', 'Nome da Loja': 'Filial 2', 'Data da Venda': '2023-01-21 03:29:53.201930'}\n",
            "{'Nome do Item': 'Corretivo', 'ClassificaÃ§Ã£o do Produto': 'Roupas', 'Valor em Reais (R$)': '78.2', 'Quantidade em Estoque': '38', 'Nome da Loja': 'Filial 2', 'Data da Venda': '2023-05-26 03:29:53.201930'}\n",
            "{'Nome do Item': 'Sombra de olhos', 'ClassificaÃ§Ã£o do Produto': 'Alimentos', 'Valor em Reais (R$)': '53.32', 'Quantidade em Estoque': '54', 'Nome da Loja': 'Filial 10', 'Data da Venda': '2022-09-09 03:29:53.201930'}\n",
            "{'Nome do Item': 'Sombra de olhos', 'ClassificaÃ§Ã£o do Produto': 'EletrodomÃ©sticos', 'Valor em Reais (R$)': '42.47', 'Quantidade em Estoque': '87', 'Nome da Loja': 'Filial 3', 'Data da Venda': '2023-04-26 03:29:53.201930'}\n",
            "{'Nome do Item': 'LÃ¡pis de sobrancelha', 'ClassificaÃ§Ã£o do Produto': 'EletrodomÃ©sticos', 'Valor em Reais (R$)': '88.94', 'Quantidade em Estoque': '21', 'Nome da Loja': 'Filial 3', 'Data da Venda': '2022-08-24 03:29:53.201930'}\n",
            "{'Nome do Item': 'Batom lÃ\\xadquido', 'ClassificaÃ§Ã£o do Produto': 'EletrÃ´nicos', 'Valor em Reais (R$)': '97.02', 'Quantidade em Estoque': '40', 'Nome da Loja': 'Filial 5', 'Data da Venda': '2022-10-21 03:29:53.201930'}\n",
            "{'Nome do Item': 'MÃ¡scara de cÃ\\xadlios', 'ClassificaÃ§Ã£o do Produto': 'Alimentos', 'Valor em Reais (R$)': '48.21', 'Quantidade em Estoque': '62', 'Nome da Loja': 'Filial 10', 'Data da Venda': '2022-11-19 03:29:53.201930'}\n",
            "{'Nome do Item': 'Delineador lÃ\\xadquido', 'ClassificaÃ§Ã£o do Produto': 'Alimentos', 'Valor em Reais (R$)': '71.25', 'Quantidade em Estoque': '39', 'Nome da Loja': 'Filial 10', 'Data da Venda': '2022-10-28 03:29:53.201930'}\n",
            "{'Nome do Item': 'Sombra de olhos', 'ClassificaÃ§Ã£o do Produto': 'Alimentos', 'Valor em Reais (R$)': '85.97', 'Quantidade em Estoque': '25', 'Nome da Loja': 'Filial 3', 'Data da Venda': '2023-05-28 03:29:53.201930'}\n",
            "{'Nome do Item': 'Batom matte', 'ClassificaÃ§Ã£o do Produto': 'EletrÃ´nicos', 'Valor em Reais (R$)': '97.59', 'Quantidade em Estoque': '85', 'Nome da Loja': 'Filial 7', 'Data da Venda': '2023-06-21 03:29:53.201930'}\n",
            "{'Nome do Item': 'Sombra de olhos', 'ClassificaÃ§Ã£o do Produto': 'EletrodomÃ©sticos', 'Valor em Reais (R$)': '94.19', 'Quantidade em Estoque': '40', 'Nome da Loja': 'Filial 5', 'Data da Venda': '2023-04-13 03:29:53.201930'}\n",
            "{'Nome do Item': 'LÃ¡pis de sobrancelha', 'ClassificaÃ§Ã£o do Produto': 'EletrodomÃ©sticos', 'Valor em Reais (R$)': '49.4', 'Quantidade em Estoque': '32', 'Nome da Loja': 'Filial 7', 'Data da Venda': '2023-02-28 03:29:53.201930'}\n",
            "{'Nome do Item': 'Sombra de olhos', 'ClassificaÃ§Ã£o do Produto': 'Roupas', 'Valor em Reais (R$)': '19.12', 'Quantidade em Estoque': '12', 'Nome da Loja': 'Filial 8', 'Data da Venda': '2023-05-02 03:29:53.201930'}\n",
            "{'Nome do Item': 'Sombra de olhos', 'ClassificaÃ§Ã£o do Produto': 'Roupas', 'Valor em Reais (R$)': '33.01', 'Quantidade em Estoque': '15', 'Nome da Loja': 'Filial 8', 'Data da Venda': '2023-05-27 03:29:53.201930'}\n",
            "{'Nome do Item': 'PÃ³ compacto', 'ClassificaÃ§Ã£o do Produto': 'EletrÃ´nicos', 'Valor em Reais (R$)': '60.55', 'Quantidade em Estoque': '56', 'Nome da Loja': 'Filial 6', 'Data da Venda': '2023-01-30 03:29:53.201930'}\n",
            "{'Nome do Item': 'Sombra de olhos', 'ClassificaÃ§Ã£o do Produto': 'Roupas', 'Valor em Reais (R$)': '80.55', 'Quantidade em Estoque': '48', 'Nome da Loja': 'Filial 1', 'Data da Venda': '2023-01-09 03:29:53.201930'}\n",
            "{'Nome do Item': 'Sombra de olhos', 'ClassificaÃ§Ã£o do Produto': 'EletrodomÃ©sticos', 'Valor em Reais (R$)': '65.57', 'Quantidade em Estoque': '98', 'Nome da Loja': 'Filial 6', 'Data da Venda': '2023-02-04 03:29:53.201930'}\n",
            "{'Nome do Item': 'MÃ¡scara de cÃ\\xadlios', 'ClassificaÃ§Ã£o do Produto': 'EletrodomÃ©sticos', 'Valor em Reais (R$)': '50.72', 'Quantidade em Estoque': '66', 'Nome da Loja': 'Filial 4', 'Data da Venda': '2023-08-07 03:29:53.201930'}\n",
            "{'Nome do Item': 'Corretivo', 'ClassificaÃ§Ã£o do Produto': 'EletrodomÃ©sticos', 'Valor em Reais (R$)': '3.97', 'Quantidade em Estoque': '23', 'Nome da Loja': 'Filial 6', 'Data da Venda': '2023-01-21 03:29:53.201930'}\n",
            "{'Nome do Item': 'MÃ¡scara de cÃ\\xadlios', 'ClassificaÃ§Ã£o do Produto': 'EletrÃ´nicos', 'Valor em Reais (R$)': '97.04', 'Quantidade em Estoque': '55', 'Nome da Loja': 'Filial 6', 'Data da Venda': '2022-12-17 03:29:53.201930'}\n",
            "{'Nome do Item': 'MÃ¡scara de cÃ\\xadlios', 'ClassificaÃ§Ã£o do Produto': 'Roupas', 'Valor em Reais (R$)': '54.48', 'Quantidade em Estoque': '10', 'Nome da Loja': 'Filial 9', 'Data da Venda': '2022-11-28 03:29:53.201930'}\n",
            "{'Nome do Item': 'Base lÃ\\xadquida', 'ClassificaÃ§Ã£o do Produto': 'EletrodomÃ©sticos', 'Valor em Reais (R$)': '30.42', 'Quantidade em Estoque': '98', 'Nome da Loja': 'Filial 6', 'Data da Venda': '2022-11-27 03:29:53.201930'}\n",
            "{'Nome do Item': 'MÃ¡scara de cÃ\\xadlios', 'ClassificaÃ§Ã£o do Produto': 'EletrodomÃ©sticos', 'Valor em Reais (R$)': '70.3', 'Quantidade em Estoque': '31', 'Nome da Loja': 'Filial 3', 'Data da Venda': '2023-06-08 03:29:53.201930'}\n",
            "{'Nome do Item': 'PÃ³ compacto', 'ClassificaÃ§Ã£o do Produto': 'Roupas', 'Valor em Reais (R$)': '43.75', 'Quantidade em Estoque': '94', 'Nome da Loja': 'Filial 7', 'Data da Venda': '2023-08-01 03:29:53.201930'}\n",
            "{'Nome do Item': 'Blush em pÃ³', 'ClassificaÃ§Ã£o do Produto': 'EletrodomÃ©sticos', 'Valor em Reais (R$)': '14.78', 'Quantidade em Estoque': '24', 'Nome da Loja': 'Filial 2', 'Data da Venda': '2023-07-19 03:29:53.201930'}\n",
            "{'Nome do Item': 'Base lÃ\\xadquida', 'ClassificaÃ§Ã£o do Produto': 'EletrÃ´nicos', 'Valor em Reais (R$)': '78.35', 'Quantidade em Estoque': '57', 'Nome da Loja': 'Filial 8', 'Data da Venda': '2022-10-28 03:29:53.201930'}\n",
            "{'Nome do Item': 'PÃ³ compacto', 'ClassificaÃ§Ã£o do Produto': 'Alimentos', 'Valor em Reais (R$)': '11.1', 'Quantidade em Estoque': '42', 'Nome da Loja': 'Filial 4', 'Data da Venda': '2022-09-12 03:29:53.201930'}\n",
            "{'Nome do Item': 'LÃ¡pis de sobrancelha', 'ClassificaÃ§Ã£o do Produto': 'Roupas', 'Valor em Reais (R$)': '61.93', 'Quantidade em Estoque': '4', 'Nome da Loja': 'Filial 1', 'Data da Venda': '2023-02-17 03:29:53.201930'}\n",
            "{'Nome do Item': 'LÃ¡pis de sobrancelha', 'ClassificaÃ§Ã£o do Produto': 'Alimentos', 'Valor em Reais (R$)': '7.51', 'Quantidade em Estoque': '17', 'Nome da Loja': 'Filial 7', 'Data da Venda': '2022-11-21 03:29:53.201930'}\n",
            "{'Nome do Item': 'Batom lÃ\\xadquido', 'ClassificaÃ§Ã£o do Produto': 'EletrÃ´nicos', 'Valor em Reais (R$)': '31.49', 'Quantidade em Estoque': '12', 'Nome da Loja': 'Filial 5', 'Data da Venda': '2022-10-03 03:29:53.201930'}\n",
            "{'Nome do Item': 'Delineador lÃ\\xadquido', 'ClassificaÃ§Ã£o do Produto': 'EletrÃ´nicos', 'Valor em Reais (R$)': '69.94', 'Quantidade em Estoque': '21', 'Nome da Loja': 'Filial 2', 'Data da Venda': '2023-01-03 03:29:53.201930'}\n",
            "{'Nome do Item': 'Corretivo', 'ClassificaÃ§Ã£o do Produto': 'Alimentos', 'Valor em Reais (R$)': '13.72', 'Quantidade em Estoque': '84', 'Nome da Loja': 'Filial 9', 'Data da Venda': '2023-01-27 03:29:53.201930'}\n",
            "{'Nome do Item': 'MÃ¡scara de cÃ\\xadlios', 'ClassificaÃ§Ã£o do Produto': 'Alimentos', 'Valor em Reais (R$)': '20.34', 'Quantidade em Estoque': '36', 'Nome da Loja': 'Filial 1', 'Data da Venda': '2022-11-26 03:29:53.201930'}\n",
            "{'Nome do Item': 'LÃ¡pis de sobrancelha', 'ClassificaÃ§Ã£o do Produto': 'Roupas', 'Valor em Reais (R$)': '77.92', 'Quantidade em Estoque': '1', 'Nome da Loja': 'Filial 1', 'Data da Venda': '2023-08-17 03:29:53.201930'}\n",
            "{'Nome do Item': 'Delineador lÃ\\xadquido', 'ClassificaÃ§Ã£o do Produto': 'EletrÃ´nicos', 'Valor em Reais (R$)': '17.4', 'Quantidade em Estoque': '100', 'Nome da Loja': 'Filial 9', 'Data da Venda': '2022-09-13 03:29:53.201930'}\n",
            "{'Nome do Item': 'Sombra de olhos', 'ClassificaÃ§Ã£o do Produto': 'EletrodomÃ©sticos', 'Valor em Reais (R$)': '17.88', 'Quantidade em Estoque': '28', 'Nome da Loja': 'Filial 1', 'Data da Venda': '2023-05-02 03:29:53.201930'}\n",
            "{'Nome do Item': 'Blush em pÃ³', 'ClassificaÃ§Ã£o do Produto': 'EletrÃ´nicos', 'Valor em Reais (R$)': '99.37', 'Quantidade em Estoque': '28', 'Nome da Loja': 'Filial 2', 'Data da Venda': '2022-09-16 03:29:53.201930'}\n",
            "{'Nome do Item': 'Corretivo', 'ClassificaÃ§Ã£o do Produto': 'Roupas', 'Valor em Reais (R$)': '62.86', 'Quantidade em Estoque': '11', 'Nome da Loja': 'Filial 8', 'Data da Venda': '2022-10-22 03:29:53.201930'}\n",
            "{'Nome do Item': 'Base lÃ\\xadquida', 'ClassificaÃ§Ã£o do Produto': 'Roupas', 'Valor em Reais (R$)': '95.77', 'Quantidade em Estoque': '15', 'Nome da Loja': 'Filial 4', 'Data da Venda': '2023-04-08 03:29:53.201930'}\n",
            "{'Nome do Item': 'Corretivo', 'ClassificaÃ§Ã£o do Produto': 'EletrodomÃ©sticos', 'Valor em Reais (R$)': '67.56', 'Quantidade em Estoque': '34', 'Nome da Loja': 'Filial 10', 'Data da Venda': '2023-01-13 03:29:53.201930'}\n",
            "{'Nome do Item': 'Blush em pÃ³', 'ClassificaÃ§Ã£o do Produto': 'EletrodomÃ©sticos', 'Valor em Reais (R$)': '1.28', 'Quantidade em Estoque': '58', 'Nome da Loja': 'Filial 8', 'Data da Venda': '2022-10-15 03:29:53.201930'}\n",
            "{'Nome do Item': 'Blush em pÃ³', 'ClassificaÃ§Ã£o do Produto': 'EletrÃ´nicos', 'Valor em Reais (R$)': '35.28', 'Quantidade em Estoque': '13', 'Nome da Loja': 'Filial 4', 'Data da Venda': '2023-07-24 03:29:53.201930'}\n",
            "{'Nome do Item': 'Corretivo', 'ClassificaÃ§Ã£o do Produto': 'Alimentos', 'Valor em Reais (R$)': '9.06', 'Quantidade em Estoque': '58', 'Nome da Loja': 'Filial 3', 'Data da Venda': '2022-11-13 03:29:53.201930'}\n",
            "{'Nome do Item': 'Blush em pÃ³', 'ClassificaÃ§Ã£o do Produto': 'EletrodomÃ©sticos', 'Valor em Reais (R$)': '3.25', 'Quantidade em Estoque': '50', 'Nome da Loja': 'Filial 5', 'Data da Venda': '2022-09-14 03:29:53.201930'}\n",
            "{'Nome do Item': 'Delineador lÃ\\xadquido', 'ClassificaÃ§Ã£o do Produto': 'EletrÃ´nicos', 'Valor em Reais (R$)': '92.07', 'Quantidade em Estoque': '83', 'Nome da Loja': 'Filial 4', 'Data da Venda': '2023-04-17 03:29:53.201930'}\n",
            "{'Nome do Item': 'Batom matte', 'ClassificaÃ§Ã£o do Produto': 'EletrodomÃ©sticos', 'Valor em Reais (R$)': '72.71', 'Quantidade em Estoque': '22', 'Nome da Loja': 'Filial 8', 'Data da Venda': '2022-08-29 03:29:53.201930'}\n",
            "{'Nome do Item': 'Blush em pÃ³', 'ClassificaÃ§Ã£o do Produto': 'EletrÃ´nicos', 'Valor em Reais (R$)': '90.0', 'Quantidade em Estoque': '72', 'Nome da Loja': 'Filial 4', 'Data da Venda': '2023-06-07 03:29:53.201930'}\n",
            "{'Nome do Item': 'Delineador lÃ\\xadquido', 'ClassificaÃ§Ã£o do Produto': 'Roupas', 'Valor em Reais (R$)': '68.95', 'Quantidade em Estoque': '21', 'Nome da Loja': 'Filial 8', 'Data da Venda': '2022-08-24 03:29:53.201930'}\n",
            "{'Nome do Item': 'Corretivo', 'ClassificaÃ§Ã£o do Produto': 'Roupas', 'Valor em Reais (R$)': '50.17', 'Quantidade em Estoque': '95', 'Nome da Loja': 'Filial 10', 'Data da Venda': '2023-06-29 03:29:53.201930'}\n",
            "{'Nome do Item': 'Corretivo', 'ClassificaÃ§Ã£o do Produto': 'Alimentos', 'Valor em Reais (R$)': '28.62', 'Quantidade em Estoque': '67', 'Nome da Loja': 'Filial 1', 'Data da Venda': '2023-05-30 03:29:53.201930'}\n",
            "{'Nome do Item': 'PÃ³ compacto', 'ClassificaÃ§Ã£o do Produto': 'EletrodomÃ©sticos', 'Valor em Reais (R$)': '59.79', 'Quantidade em Estoque': '71', 'Nome da Loja': 'Filial 1', 'Data da Venda': '2023-01-05 03:29:53.201930'}\n",
            "{'Nome do Item': 'LÃ¡pis de sobrancelha', 'ClassificaÃ§Ã£o do Produto': 'EletrodomÃ©sticos', 'Valor em Reais (R$)': '42.19', 'Quantidade em Estoque': '43', 'Nome da Loja': 'Filial 10', 'Data da Venda': '2023-06-25 03:29:53.201930'}\n",
            "{'Nome do Item': 'PÃ³ compacto', 'ClassificaÃ§Ã£o do Produto': 'EletrÃ´nicos', 'Valor em Reais (R$)': '85.49', 'Quantidade em Estoque': '88', 'Nome da Loja': 'Filial 8', 'Data da Venda': '2023-06-21 03:29:53.201930'}\n",
            "{'Nome do Item': 'LÃ¡pis de sobrancelha', 'ClassificaÃ§Ã£o do Produto': 'Roupas', 'Valor em Reais (R$)': '35.87', 'Quantidade em Estoque': '54', 'Nome da Loja': 'Filial 1', 'Data da Venda': '2023-05-16 03:29:53.201930'}\n",
            "{'Nome do Item': 'LÃ¡pis de sobrancelha', 'ClassificaÃ§Ã£o do Produto': 'EletrÃ´nicos', 'Valor em Reais (R$)': '5.4', 'Quantidade em Estoque': '94', 'Nome da Loja': 'Filial 5', 'Data da Venda': '2023-05-28 03:29:53.201930'}\n",
            "{'Nome do Item': 'Batom matte', 'ClassificaÃ§Ã£o do Produto': 'Alimentos', 'Valor em Reais (R$)': '23.22', 'Quantidade em Estoque': '2', 'Nome da Loja': 'Filial 1', 'Data da Venda': '2022-10-19 03:29:53.201930'}\n",
            "{'Nome do Item': 'Delineador lÃ\\xadquido', 'ClassificaÃ§Ã£o do Produto': 'EletrÃ´nicos', 'Valor em Reais (R$)': '45.72', 'Quantidade em Estoque': '85', 'Nome da Loja': 'Filial 8', 'Data da Venda': '2022-12-07 03:29:53.201930'}\n",
            "{'Nome do Item': 'MÃ¡scara de cÃ\\xadlios', 'ClassificaÃ§Ã£o do Produto': 'EletrodomÃ©sticos', 'Valor em Reais (R$)': '46.93', 'Quantidade em Estoque': '58', 'Nome da Loja': 'Filial 6', 'Data da Venda': '2022-09-15 03:29:53.201930'}\n",
            "{'Nome do Item': 'Sombra de olhos', 'ClassificaÃ§Ã£o do Produto': 'EletrodomÃ©sticos', 'Valor em Reais (R$)': '56.52', 'Quantidade em Estoque': '34', 'Nome da Loja': 'Filial 8', 'Data da Venda': '2023-02-25 03:29:53.201930'}\n",
            "{'Nome do Item': 'LÃ¡pis de sobrancelha', 'ClassificaÃ§Ã£o do Produto': 'EletrodomÃ©sticos', 'Valor em Reais (R$)': '41.01', 'Quantidade em Estoque': '23', 'Nome da Loja': 'Filial 5', 'Data da Venda': '2022-12-28 03:29:53.201930'}\n",
            "{'Nome do Item': 'Delineador lÃ\\xadquido', 'ClassificaÃ§Ã£o do Produto': 'EletrodomÃ©sticos', 'Valor em Reais (R$)': '49.46', 'Quantidade em Estoque': '85', 'Nome da Loja': 'Filial 8', 'Data da Venda': '2022-11-24 03:29:53.201930'}\n",
            "{'Nome do Item': 'Batom matte', 'ClassificaÃ§Ã£o do Produto': 'EletrÃ´nicos', 'Valor em Reais (R$)': '66.43', 'Quantidade em Estoque': '10', 'Nome da Loja': 'Filial 9', 'Data da Venda': '2023-08-11 03:29:53.201930'}\n",
            "{'Nome do Item': 'Delineador lÃ\\xadquido', 'ClassificaÃ§Ã£o do Produto': 'Alimentos', 'Valor em Reais (R$)': '29.32', 'Quantidade em Estoque': '90', 'Nome da Loja': 'Filial 10', 'Data da Venda': '2022-10-24 03:29:53.201930'}\n",
            "{'Nome do Item': 'LÃ¡pis de sobrancelha', 'ClassificaÃ§Ã£o do Produto': 'Roupas', 'Valor em Reais (R$)': '40.45', 'Quantidade em Estoque': '100', 'Nome da Loja': 'Filial 8', 'Data da Venda': '2022-11-01 03:29:53.201930'}\n",
            "{'Nome do Item': 'PÃ³ compacto', 'ClassificaÃ§Ã£o do Produto': 'EletrÃ´nicos', 'Valor em Reais (R$)': '36.5', 'Quantidade em Estoque': '67', 'Nome da Loja': 'Filial 5', 'Data da Venda': '2023-07-11 03:29:53.201930'}\n",
            "{'Nome do Item': 'MÃ¡scara de cÃ\\xadlios', 'ClassificaÃ§Ã£o do Produto': 'Alimentos', 'Valor em Reais (R$)': '52.99', 'Quantidade em Estoque': '11', 'Nome da Loja': 'Filial 5', 'Data da Venda': '2023-05-04 03:29:53.201930'}\n",
            "{'Nome do Item': 'PÃ³ compacto', 'ClassificaÃ§Ã£o do Produto': 'EletrodomÃ©sticos', 'Valor em Reais (R$)': '74.17', 'Quantidade em Estoque': '50', 'Nome da Loja': 'Filial 3', 'Data da Venda': '2023-04-12 03:29:53.201930'}\n",
            "{'Nome do Item': 'Sombra de olhos', 'ClassificaÃ§Ã£o do Produto': 'Alimentos', 'Valor em Reais (R$)': '66.97', 'Quantidade em Estoque': '6', 'Nome da Loja': 'Filial 4', 'Data da Venda': '2023-04-23 03:29:53.201930'}\n",
            "{'Nome do Item': 'MÃ¡scara de cÃ\\xadlios', 'ClassificaÃ§Ã£o do Produto': 'EletrÃ´nicos', 'Valor em Reais (R$)': '95.9', 'Quantidade em Estoque': '77', 'Nome da Loja': 'Filial 3', 'Data da Venda': '2023-02-27 03:29:53.201930'}\n",
            "{'Nome do Item': 'MÃ¡scara de cÃ\\xadlios', 'ClassificaÃ§Ã£o do Produto': 'EletrodomÃ©sticos', 'Valor em Reais (R$)': '71.37', 'Quantidade em Estoque': '98', 'Nome da Loja': 'Filial 6', 'Data da Venda': '2023-03-12 03:29:53.201930'}\n",
            "{'Nome do Item': 'Corretivo', 'ClassificaÃ§Ã£o do Produto': 'Roupas', 'Valor em Reais (R$)': '89.63', 'Quantidade em Estoque': '97', 'Nome da Loja': 'Filial 5', 'Data da Venda': '2023-06-07 03:29:53.201930'}\n",
            "{'Nome do Item': 'Batom matte', 'ClassificaÃ§Ã£o do Produto': 'Alimentos', 'Valor em Reais (R$)': '31.18', 'Quantidade em Estoque': '97', 'Nome da Loja': 'Filial 5', 'Data da Venda': '2023-06-19 03:29:53.201930'}\n",
            "{'Nome do Item': 'Batom lÃ\\xadquido', 'ClassificaÃ§Ã£o do Produto': 'Alimentos', 'Valor em Reais (R$)': '23.22', 'Quantidade em Estoque': '56', 'Nome da Loja': 'Filial 8', 'Data da Venda': '2022-11-19 03:29:53.201930'}\n",
            "{'Nome do Item': 'Delineador lÃ\\xadquido', 'ClassificaÃ§Ã£o do Produto': 'EletrodomÃ©sticos', 'Valor em Reais (R$)': '42.26', 'Quantidade em Estoque': '78', 'Nome da Loja': 'Filial 10', 'Data da Venda': '2023-04-16 03:29:53.201930'}\n",
            "{'Nome do Item': 'Batom matte', 'ClassificaÃ§Ã£o do Produto': 'Roupas', 'Valor em Reais (R$)': '9.38', 'Quantidade em Estoque': '25', 'Nome da Loja': 'Filial 8', 'Data da Venda': '2022-09-04 03:29:53.201930'}\n",
            "{'Nome do Item': 'LÃ¡pis de sobrancelha', 'ClassificaÃ§Ã£o do Produto': 'EletrodomÃ©sticos', 'Valor em Reais (R$)': '64.76', 'Quantidade em Estoque': '80', 'Nome da Loja': 'Filial 2', 'Data da Venda': '2023-01-28 03:29:53.201930'}\n",
            "{'Nome do Item': 'Delineador lÃ\\xadquido', 'ClassificaÃ§Ã£o do Produto': 'Alimentos', 'Valor em Reais (R$)': '64.75', 'Quantidade em Estoque': '41', 'Nome da Loja': 'Filial 3', 'Data da Venda': '2023-06-17 03:29:53.201930'}\n",
            "{'Nome do Item': 'Blush em pÃ³', 'ClassificaÃ§Ã£o do Produto': 'Alimentos', 'Valor em Reais (R$)': '46.02', 'Quantidade em Estoque': '15', 'Nome da Loja': 'Filial 5', 'Data da Venda': '2023-07-01 03:29:53.201930'}\n",
            "{'Nome do Item': 'PÃ³ compacto', 'ClassificaÃ§Ã£o do Produto': 'Roupas', 'Valor em Reais (R$)': '98.55', 'Quantidade em Estoque': '68', 'Nome da Loja': 'Filial 2', 'Data da Venda': '2023-07-08 03:29:53.201930'}\n",
            "{'Nome do Item': 'PÃ³ compacto', 'ClassificaÃ§Ã£o do Produto': 'EletrodomÃ©sticos', 'Valor em Reais (R$)': '64.72', 'Quantidade em Estoque': '26', 'Nome da Loja': 'Filial 3', 'Data da Venda': '2023-04-02 03:29:53.201930'}\n",
            "{'Nome do Item': 'Batom matte', 'ClassificaÃ§Ã£o do Produto': 'EletrodomÃ©sticos', 'Valor em Reais (R$)': '94.95', 'Quantidade em Estoque': '96', 'Nome da Loja': 'Filial 8', 'Data da Venda': '2022-10-18 03:29:53.201930'}\n",
            "{'Nome do Item': 'PÃ³ compacto', 'ClassificaÃ§Ã£o do Produto': 'Roupas', 'Valor em Reais (R$)': '40.11', 'Quantidade em Estoque': '34', 'Nome da Loja': 'Filial 6', 'Data da Venda': '2023-06-08 03:29:53.201930'}\n",
            "{'Nome do Item': 'Blush em pÃ³', 'ClassificaÃ§Ã£o do Produto': 'Alimentos', 'Valor em Reais (R$)': '71.44', 'Quantidade em Estoque': '36', 'Nome da Loja': 'Filial 1', 'Data da Venda': '2023-07-24 03:29:53.201930'}\n",
            "{'Nome do Item': 'LÃ¡pis de sobrancelha', 'ClassificaÃ§Ã£o do Produto': 'Alimentos', 'Valor em Reais (R$)': '9.54', 'Quantidade em Estoque': '53', 'Nome da Loja': 'Filial 8', 'Data da Venda': '2023-05-11 03:29:53.201930'}\n",
            "{'Nome do Item': 'Base lÃ\\xadquida', 'ClassificaÃ§Ã£o do Produto': 'EletrodomÃ©sticos', 'Valor em Reais (R$)': '14.67', 'Quantidade em Estoque': '45', 'Nome da Loja': 'Filial 1', 'Data da Venda': '2022-09-21 03:29:53.201930'}\n",
            "{'Nome do Item': 'LÃ¡pis de sobrancelha', 'ClassificaÃ§Ã£o do Produto': 'Alimentos', 'Valor em Reais (R$)': '44.03', 'Quantidade em Estoque': '97', 'Nome da Loja': 'Filial 3', 'Data da Venda': '2023-07-25 03:29:53.201930'}\n",
            "{'Nome do Item': 'Batom lÃ\\xadquido', 'ClassificaÃ§Ã£o do Produto': 'EletrodomÃ©sticos', 'Valor em Reais (R$)': '12.86', 'Quantidade em Estoque': '22', 'Nome da Loja': 'Filial 9', 'Data da Venda': '2023-06-17 03:29:53.201930'}\n",
            "{'Nome do Item': 'Batom matte', 'ClassificaÃ§Ã£o do Produto': 'EletrÃ´nicos', 'Valor em Reais (R$)': '32.67', 'Quantidade em Estoque': '55', 'Nome da Loja': 'Filial 1', 'Data da Venda': '2023-05-20 03:29:53.201930'}\n",
            "{'Nome do Item': 'LÃ¡pis de sobrancelha', 'ClassificaÃ§Ã£o do Produto': 'Alimentos', 'Valor em Reais (R$)': '85.42', 'Quantidade em Estoque': '56', 'Nome da Loja': 'Filial 9', 'Data da Venda': '2023-01-05 03:29:53.201930'}\n",
            "{'Nome do Item': 'MÃ¡scara de cÃ\\xadlios', 'ClassificaÃ§Ã£o do Produto': 'Roupas', 'Valor em Reais (R$)': '65.23', 'Quantidade em Estoque': '83', 'Nome da Loja': 'Filial 2', 'Data da Venda': '2023-07-16 03:29:53.201930'}\n",
            "{'Nome do Item': 'Base lÃ\\xadquida', 'ClassificaÃ§Ã£o do Produto': 'Roupas', 'Valor em Reais (R$)': '88.19', 'Quantidade em Estoque': '35', 'Nome da Loja': 'Filial 4', 'Data da Venda': '2022-10-12 03:29:53.201930'}\n",
            "{'Nome do Item': 'Blush em pÃ³', 'ClassificaÃ§Ã£o do Produto': 'Roupas', 'Valor em Reais (R$)': '40.29', 'Quantidade em Estoque': '88', 'Nome da Loja': 'Filial 9', 'Data da Venda': '2023-06-28 03:29:53.201930'}\n",
            "{'Nome do Item': 'MÃ¡scara de cÃ\\xadlios', 'ClassificaÃ§Ã£o do Produto': 'Alimentos', 'Valor em Reais (R$)': '23.92', 'Quantidade em Estoque': '67', 'Nome da Loja': 'Filial 1', 'Data da Venda': '2023-06-11 03:29:53.201930'}\n",
            "{'Nome do Item': 'Batom lÃ\\xadquido', 'ClassificaÃ§Ã£o do Produto': 'EletrodomÃ©sticos', 'Valor em Reais (R$)': '29.57', 'Quantidade em Estoque': '8', 'Nome da Loja': 'Filial 10', 'Data da Venda': '2023-05-22 03:29:53.201930'}\n",
            "{'Nome do Item': 'Corretivo', 'ClassificaÃ§Ã£o do Produto': 'Roupas', 'Valor em Reais (R$)': '34.49', 'Quantidade em Estoque': '95', 'Nome da Loja': 'Filial 2', 'Data da Venda': '2023-05-26 03:29:53.201930'}\n",
            "{'Nome do Item': 'Corretivo', 'ClassificaÃ§Ã£o do Produto': 'Alimentos', 'Valor em Reais (R$)': '84.99', 'Quantidade em Estoque': '47', 'Nome da Loja': 'Filial 6', 'Data da Venda': '2022-12-26 03:29:53.201930'}\n",
            "{'Nome do Item': 'PÃ³ compacto', 'ClassificaÃ§Ã£o do Produto': 'EletrÃ´nicos', 'Valor em Reais (R$)': '14.71', 'Quantidade em Estoque': '9', 'Nome da Loja': 'Filial 7', 'Data da Venda': '2022-11-19 03:29:53.201930'}\n",
            "{'Nome do Item': 'Sombra de olhos', 'ClassificaÃ§Ã£o do Produto': 'EletrÃ´nicos', 'Valor em Reais (R$)': '41.53', 'Quantidade em Estoque': '61', 'Nome da Loja': 'Filial 4', 'Data da Venda': '2023-02-10 03:29:53.201930'}\n",
            "{'Nome do Item': 'Batom matte', 'ClassificaÃ§Ã£o do Produto': 'EletrÃ´nicos', 'Valor em Reais (R$)': '82.73', 'Quantidade em Estoque': '3', 'Nome da Loja': 'Filial 3', 'Data da Venda': '2023-06-25 03:29:53.201930'}\n",
            "{'Nome do Item': 'MÃ¡scara de cÃ\\xadlios', 'ClassificaÃ§Ã£o do Produto': 'EletrodomÃ©sticos', 'Valor em Reais (R$)': '33.7', 'Quantidade em Estoque': '77', 'Nome da Loja': 'Filial 3', 'Data da Venda': '2022-12-20 03:29:53.201930'}\n",
            "{'Nome do Item': 'PÃ³ compacto', 'ClassificaÃ§Ã£o do Produto': 'EletrodomÃ©sticos', 'Valor em Reais (R$)': '78.95', 'Quantidade em Estoque': '66', 'Nome da Loja': 'Filial 7', 'Data da Venda': '2023-08-02 03:29:53.201930'}\n",
            "{'Nome do Item': 'Corretivo', 'ClassificaÃ§Ã£o do Produto': 'Roupas', 'Valor em Reais (R$)': '47.76', 'Quantidade em Estoque': '72', 'Nome da Loja': 'Filial 8', 'Data da Venda': '2023-01-24 03:29:53.201930'}\n",
            "{'Nome do Item': 'Delineador lÃ\\xadquido', 'ClassificaÃ§Ã£o do Produto': 'Alimentos', 'Valor em Reais (R$)': '17.04', 'Quantidade em Estoque': '79', 'Nome da Loja': 'Filial 9', 'Data da Venda': '2023-02-02 03:29:53.201930'}\n",
            "{'Nome do Item': 'Sombra de olhos', 'ClassificaÃ§Ã£o do Produto': 'Alimentos', 'Valor em Reais (R$)': '55.51', 'Quantidade em Estoque': '70', 'Nome da Loja': 'Filial 5', 'Data da Venda': '2023-06-02 03:29:53.201930'}\n",
            "{'Nome do Item': 'Batom lÃ\\xadquido', 'ClassificaÃ§Ã£o do Produto': 'EletrÃ´nicos', 'Valor em Reais (R$)': '29.12', 'Quantidade em Estoque': '22', 'Nome da Loja': 'Filial 6', 'Data da Venda': '2023-01-30 03:29:53.201930'}\n",
            "{'Nome do Item': 'Sombra de olhos', 'ClassificaÃ§Ã£o do Produto': 'EletrÃ´nicos', 'Valor em Reais (R$)': '59.36', 'Quantidade em Estoque': '31', 'Nome da Loja': 'Filial 2', 'Data da Venda': '2022-10-17 03:29:53.201930'}\n",
            "{'Nome do Item': 'Delineador lÃ\\xadquido', 'ClassificaÃ§Ã£o do Produto': 'Roupas', 'Valor em Reais (R$)': '4.45', 'Quantidade em Estoque': '43', 'Nome da Loja': 'Filial 7', 'Data da Venda': '2023-03-26 03:29:53.201930'}\n",
            "{'Nome do Item': 'PÃ³ compacto', 'ClassificaÃ§Ã£o do Produto': 'Roupas', 'Valor em Reais (R$)': '19.28', 'Quantidade em Estoque': '65', 'Nome da Loja': 'Filial 3', 'Data da Venda': '2023-04-21 03:29:53.201930'}\n",
            "{'Nome do Item': 'Corretivo', 'ClassificaÃ§Ã£o do Produto': 'EletrÃ´nicos', 'Valor em Reais (R$)': '68.64', 'Quantidade em Estoque': '29', 'Nome da Loja': 'Filial 7', 'Data da Venda': '2023-06-19 03:29:53.201930'}\n",
            "{'Nome do Item': 'MÃ¡scara de cÃ\\xadlios', 'ClassificaÃ§Ã£o do Produto': 'EletrodomÃ©sticos', 'Valor em Reais (R$)': '4.7', 'Quantidade em Estoque': '23', 'Nome da Loja': 'Filial 1', 'Data da Venda': '2023-03-02 03:29:53.201930'}\n",
            "{'Nome do Item': 'MÃ¡scara de cÃ\\xadlios', 'ClassificaÃ§Ã£o do Produto': 'EletrodomÃ©sticos', 'Valor em Reais (R$)': '34.69', 'Quantidade em Estoque': '3', 'Nome da Loja': 'Filial 1', 'Data da Venda': '2022-09-04 03:29:53.201930'}\n",
            "{'Nome do Item': 'Blush em pÃ³', 'ClassificaÃ§Ã£o do Produto': 'EletrÃ´nicos', 'Valor em Reais (R$)': '25.88', 'Quantidade em Estoque': '76', 'Nome da Loja': 'Filial 10', 'Data da Venda': '2023-04-19 03:29:53.201930'}\n",
            "{'Nome do Item': 'MÃ¡scara de cÃ\\xadlios', 'ClassificaÃ§Ã£o do Produto': 'EletrÃ´nicos', 'Valor em Reais (R$)': '89.83', 'Quantidade em Estoque': '34', 'Nome da Loja': 'Filial 6', 'Data da Venda': '2023-08-03 03:29:53.201930'}\n",
            "{'Nome do Item': 'Batom lÃ\\xadquido', 'ClassificaÃ§Ã£o do Produto': 'Roupas', 'Valor em Reais (R$)': '72.39', 'Quantidade em Estoque': '51', 'Nome da Loja': 'Filial 7', 'Data da Venda': '2022-10-25 03:29:53.201930'}\n",
            "{'Nome do Item': 'Sombra de olhos', 'ClassificaÃ§Ã£o do Produto': 'Roupas', 'Valor em Reais (R$)': '49.85', 'Quantidade em Estoque': '51', 'Nome da Loja': 'Filial 4', 'Data da Venda': '2023-02-10 03:29:53.201930'}\n",
            "{'Nome do Item': 'Batom lÃ\\xadquido', 'ClassificaÃ§Ã£o do Produto': 'EletrÃ´nicos', 'Valor em Reais (R$)': '48.62', 'Quantidade em Estoque': '70', 'Nome da Loja': 'Filial 4', 'Data da Venda': '2023-05-31 03:29:53.201930'}\n",
            "{'Nome do Item': 'Delineador lÃ\\xadquido', 'ClassificaÃ§Ã£o do Produto': 'EletrÃ´nicos', 'Valor em Reais (R$)': '92.13', 'Quantidade em Estoque': '79', 'Nome da Loja': 'Filial 8', 'Data da Venda': '2022-11-13 03:29:53.201930'}\n",
            "{'Nome do Item': 'Batom lÃ\\xadquido', 'ClassificaÃ§Ã£o do Produto': 'EletrÃ´nicos', 'Valor em Reais (R$)': '8.45', 'Quantidade em Estoque': '71', 'Nome da Loja': 'Filial 8', 'Data da Venda': '2022-08-31 03:29:53.201930'}\n",
            "{'Nome do Item': 'Sombra de olhos', 'ClassificaÃ§Ã£o do Produto': 'EletrodomÃ©sticos', 'Valor em Reais (R$)': '25.56', 'Quantidade em Estoque': '31', 'Nome da Loja': 'Filial 4', 'Data da Venda': '2023-03-22 03:29:53.201930'}\n",
            "{'Nome do Item': 'Batom lÃ\\xadquido', 'ClassificaÃ§Ã£o do Produto': 'EletrÃ´nicos', 'Valor em Reais (R$)': '23.94', 'Quantidade em Estoque': '51', 'Nome da Loja': 'Filial 10', 'Data da Venda': '2023-07-06 03:29:53.201930'}\n",
            "{'Nome do Item': 'Batom matte', 'ClassificaÃ§Ã£o do Produto': 'Roupas', 'Valor em Reais (R$)': '90.93', 'Quantidade em Estoque': '25', 'Nome da Loja': 'Filial 3', 'Data da Venda': '2023-03-09 03:29:53.201930'}\n",
            "{'Nome do Item': 'Blush em pÃ³', 'ClassificaÃ§Ã£o do Produto': 'Roupas', 'Valor em Reais (R$)': '36.59', 'Quantidade em Estoque': '45', 'Nome da Loja': 'Filial 2', 'Data da Venda': '2023-03-21 03:29:53.201930'}\n",
            "{'Nome do Item': 'Sombra de olhos', 'ClassificaÃ§Ã£o do Produto': 'EletrÃ´nicos', 'Valor em Reais (R$)': '54.63', 'Quantidade em Estoque': '52', 'Nome da Loja': 'Filial 1', 'Data da Venda': '2023-02-09 03:29:53.201930'}\n",
            "{'Nome do Item': 'Delineador lÃ\\xadquido', 'ClassificaÃ§Ã£o do Produto': 'Alimentos', 'Valor em Reais (R$)': '69.68', 'Quantidade em Estoque': '57', 'Nome da Loja': 'Filial 1', 'Data da Venda': '2023-05-24 03:29:53.201930'}\n",
            "{'Nome do Item': 'Delineador lÃ\\xadquido', 'ClassificaÃ§Ã£o do Produto': 'EletrÃ´nicos', 'Valor em Reais (R$)': '36.83', 'Quantidade em Estoque': '9', 'Nome da Loja': 'Filial 6', 'Data da Venda': '2022-10-09 03:29:53.201930'}\n",
            "{'Nome do Item': 'Delineador lÃ\\xadquido', 'ClassificaÃ§Ã£o do Produto': 'Alimentos', 'Valor em Reais (R$)': '15.2', 'Quantidade em Estoque': '73', 'Nome da Loja': 'Filial 8', 'Data da Venda': '2022-08-23 03:29:53.201930'}\n",
            "{'Nome do Item': 'LÃ¡pis de sobrancelha', 'ClassificaÃ§Ã£o do Produto': 'Roupas', 'Valor em Reais (R$)': '30.78', 'Quantidade em Estoque': '78', 'Nome da Loja': 'Filial 5', 'Data da Venda': '2022-12-14 03:29:53.201930'}\n",
            "{'Nome do Item': 'Batom matte', 'ClassificaÃ§Ã£o do Produto': 'EletrodomÃ©sticos', 'Valor em Reais (R$)': '33.24', 'Quantidade em Estoque': '100', 'Nome da Loja': 'Filial 10', 'Data da Venda': '2022-12-07 03:29:53.201930'}\n",
            "{'Nome do Item': 'Blush em pÃ³', 'ClassificaÃ§Ã£o do Produto': 'EletrÃ´nicos', 'Valor em Reais (R$)': '31.06', 'Quantidade em Estoque': '17', 'Nome da Loja': 'Filial 1', 'Data da Venda': '2023-08-04 03:29:53.201930'}\n",
            "{'Nome do Item': 'Blush em pÃ³', 'ClassificaÃ§Ã£o do Produto': 'EletrodomÃ©sticos', 'Valor em Reais (R$)': '89.58', 'Quantidade em Estoque': '66', 'Nome da Loja': 'Filial 5', 'Data da Venda': '2023-02-18 03:29:53.201930'}\n",
            "{'Nome do Item': 'Blush em pÃ³', 'ClassificaÃ§Ã£o do Produto': 'EletrÃ´nicos', 'Valor em Reais (R$)': '56.26', 'Quantidade em Estoque': '98', 'Nome da Loja': 'Filial 1', 'Data da Venda': '2023-02-06 03:29:53.201930'}\n",
            "{'Nome do Item': 'Blush em pÃ³', 'ClassificaÃ§Ã£o do Produto': 'Alimentos', 'Valor em Reais (R$)': '66.85', 'Quantidade em Estoque': '45', 'Nome da Loja': 'Filial 5', 'Data da Venda': '2023-06-24 03:29:53.201930'}\n",
            "{'Nome do Item': 'Batom lÃ\\xadquido', 'ClassificaÃ§Ã£o do Produto': 'Alimentos', 'Valor em Reais (R$)': '37.27', 'Quantidade em Estoque': '72', 'Nome da Loja': 'Filial 9', 'Data da Venda': '2023-08-12 03:29:53.201930'}\n",
            "{'Nome do Item': 'Batom lÃ\\xadquido', 'ClassificaÃ§Ã£o do Produto': 'EletrodomÃ©sticos', 'Valor em Reais (R$)': '33.94', 'Quantidade em Estoque': '48', 'Nome da Loja': 'Filial 1', 'Data da Venda': '2023-04-29 03:29:53.201930'}\n",
            "{'Nome do Item': 'Corretivo', 'ClassificaÃ§Ã£o do Produto': 'EletrodomÃ©sticos', 'Valor em Reais (R$)': '28.19', 'Quantidade em Estoque': '93', 'Nome da Loja': 'Filial 9', 'Data da Venda': '2023-03-14 03:29:53.201930'}\n",
            "{'Nome do Item': 'Base lÃ\\xadquida', 'ClassificaÃ§Ã£o do Produto': 'EletrÃ´nicos', 'Valor em Reais (R$)': '79.44', 'Quantidade em Estoque': '78', 'Nome da Loja': 'Filial 10', 'Data da Venda': '2023-02-05 03:29:53.201930'}\n",
            "{'Nome do Item': 'Delineador lÃ\\xadquido', 'ClassificaÃ§Ã£o do Produto': 'Roupas', 'Valor em Reais (R$)': '7.1', 'Quantidade em Estoque': '31', 'Nome da Loja': 'Filial 3', 'Data da Venda': '2023-01-24 03:29:53.201930'}\n",
            "{'Nome do Item': 'Delineador lÃ\\xadquido', 'ClassificaÃ§Ã£o do Produto': 'EletrÃ´nicos', 'Valor em Reais (R$)': '90.59', 'Quantidade em Estoque': '79', 'Nome da Loja': 'Filial 9', 'Data da Venda': '2023-02-12 03:29:53.201930'}\n",
            "{'Nome do Item': 'Base lÃ\\xadquida', 'ClassificaÃ§Ã£o do Produto': 'Roupas', 'Valor em Reais (R$)': '83.29', 'Quantidade em Estoque': '50', 'Nome da Loja': 'Filial 1', 'Data da Venda': '2023-08-14 03:29:53.201930'}\n",
            "{'Nome do Item': 'Batom lÃ\\xadquido', 'ClassificaÃ§Ã£o do Produto': 'EletrodomÃ©sticos', 'Valor em Reais (R$)': '29.21', 'Quantidade em Estoque': '26', 'Nome da Loja': 'Filial 2', 'Data da Venda': '2022-11-10 03:29:53.201930'}\n",
            "{'Nome do Item': 'Sombra de olhos', 'ClassificaÃ§Ã£o do Produto': 'Roupas', 'Valor em Reais (R$)': '26.74', 'Quantidade em Estoque': '60', 'Nome da Loja': 'Filial 10', 'Data da Venda': '2023-01-19 03:29:53.201930'}\n",
            "{'Nome do Item': 'Batom lÃ\\xadquido', 'ClassificaÃ§Ã£o do Produto': 'Roupas', 'Valor em Reais (R$)': '98.96', 'Quantidade em Estoque': '89', 'Nome da Loja': 'Filial 8', 'Data da Venda': '2023-03-10 03:29:53.201930'}\n",
            "{'Nome do Item': 'Corretivo', 'ClassificaÃ§Ã£o do Produto': 'EletrÃ´nicos', 'Valor em Reais (R$)': '7.98', 'Quantidade em Estoque': '31', 'Nome da Loja': 'Filial 7', 'Data da Venda': '2023-04-06 03:29:53.201930'}\n",
            "{'Nome do Item': 'Base lÃ\\xadquida', 'ClassificaÃ§Ã£o do Produto': 'Roupas', 'Valor em Reais (R$)': '27.04', 'Quantidade em Estoque': '47', 'Nome da Loja': 'Filial 5', 'Data da Venda': '2023-05-22 03:29:53.201930'}\n",
            "{'Nome do Item': 'Corretivo', 'ClassificaÃ§Ã£o do Produto': 'EletrodomÃ©sticos', 'Valor em Reais (R$)': '41.11', 'Quantidade em Estoque': '55', 'Nome da Loja': 'Filial 8', 'Data da Venda': '2023-01-17 03:29:53.201930'}\n",
            "{'Nome do Item': 'Corretivo', 'ClassificaÃ§Ã£o do Produto': 'Roupas', 'Valor em Reais (R$)': '20.8', 'Quantidade em Estoque': '48', 'Nome da Loja': 'Filial 10', 'Data da Venda': '2023-07-20 03:29:53.201930'}\n",
            "{'Nome do Item': 'Corretivo', 'ClassificaÃ§Ã£o do Produto': 'Alimentos', 'Valor em Reais (R$)': '62.62', 'Quantidade em Estoque': '15', 'Nome da Loja': 'Filial 8', 'Data da Venda': '2022-08-30 03:29:53.201930'}\n",
            "{'Nome do Item': 'Base lÃ\\xadquida', 'ClassificaÃ§Ã£o do Produto': 'Roupas', 'Valor em Reais (R$)': '23.01', 'Quantidade em Estoque': '87', 'Nome da Loja': 'Filial 1', 'Data da Venda': '2023-06-28 03:29:53.201930'}\n",
            "{'Nome do Item': 'MÃ¡scara de cÃ\\xadlios', 'ClassificaÃ§Ã£o do Produto': 'EletrÃ´nicos', 'Valor em Reais (R$)': '62.35', 'Quantidade em Estoque': '6', 'Nome da Loja': 'Filial 8', 'Data da Venda': '2022-11-16 03:29:53.201930'}\n",
            "{'Nome do Item': 'Delineador lÃ\\xadquido', 'ClassificaÃ§Ã£o do Produto': 'Roupas', 'Valor em Reais (R$)': '68.58', 'Quantidade em Estoque': '39', 'Nome da Loja': 'Filial 4', 'Data da Venda': '2023-05-23 03:29:53.201930'}\n",
            "{'Nome do Item': 'Base lÃ\\xadquida', 'ClassificaÃ§Ã£o do Produto': 'Roupas', 'Valor em Reais (R$)': '24.6', 'Quantidade em Estoque': '37', 'Nome da Loja': 'Filial 9', 'Data da Venda': '2023-01-30 03:29:53.201930'}\n",
            "{'Nome do Item': 'MÃ¡scara de cÃ\\xadlios', 'ClassificaÃ§Ã£o do Produto': 'EletrodomÃ©sticos', 'Valor em Reais (R$)': '99.36', 'Quantidade em Estoque': '87', 'Nome da Loja': 'Filial 2', 'Data da Venda': '2022-09-27 03:29:53.201930'}\n",
            "{'Nome do Item': 'Delineador lÃ\\xadquido', 'ClassificaÃ§Ã£o do Produto': 'EletrÃ´nicos', 'Valor em Reais (R$)': '97.84', 'Quantidade em Estoque': '92', 'Nome da Loja': 'Filial 9', 'Data da Venda': '2022-12-11 03:29:53.201930'}\n",
            "{'Nome do Item': 'Delineador lÃ\\xadquido', 'ClassificaÃ§Ã£o do Produto': 'Roupas', 'Valor em Reais (R$)': '76.12', 'Quantidade em Estoque': '94', 'Nome da Loja': 'Filial 8', 'Data da Venda': '2023-04-01 03:29:53.201930'}\n",
            "{'Nome do Item': 'LÃ¡pis de sobrancelha', 'ClassificaÃ§Ã£o do Produto': 'EletrÃ´nicos', 'Valor em Reais (R$)': '46.58', 'Quantidade em Estoque': '23', 'Nome da Loja': 'Filial 6', 'Data da Venda': '2022-09-13 03:29:53.201930'}\n",
            "{'Nome do Item': 'Batom matte', 'ClassificaÃ§Ã£o do Produto': 'EletrodomÃ©sticos', 'Valor em Reais (R$)': '10.12', 'Quantidade em Estoque': '81', 'Nome da Loja': 'Filial 8', 'Data da Venda': '2023-03-15 03:29:53.201930'}\n",
            "{'Nome do Item': 'Corretivo', 'ClassificaÃ§Ã£o do Produto': 'EletrÃ´nicos', 'Valor em Reais (R$)': '71.63', 'Quantidade em Estoque': '9', 'Nome da Loja': 'Filial 6', 'Data da Venda': '2023-01-19 03:29:53.201930'}\n",
            "{'Nome do Item': 'Batom lÃ\\xadquido', 'ClassificaÃ§Ã£o do Produto': 'EletrÃ´nicos', 'Valor em Reais (R$)': '19.47', 'Quantidade em Estoque': '28', 'Nome da Loja': 'Filial 2', 'Data da Venda': '2022-12-09 03:29:53.201930'}\n",
            "{'Nome do Item': 'Base lÃ\\xadquida', 'ClassificaÃ§Ã£o do Produto': 'EletrodomÃ©sticos', 'Valor em Reais (R$)': '41.93', 'Quantidade em Estoque': '69', 'Nome da Loja': 'Filial 6', 'Data da Venda': '2022-10-19 03:29:53.201930'}\n",
            "{'Nome do Item': 'Blush em pÃ³', 'ClassificaÃ§Ã£o do Produto': 'EletrodomÃ©sticos', 'Valor em Reais (R$)': '45.83', 'Quantidade em Estoque': '40', 'Nome da Loja': 'Filial 7', 'Data da Venda': '2023-01-02 03:29:53.201930'}\n",
            "{'Nome do Item': 'Base lÃ\\xadquida', 'ClassificaÃ§Ã£o do Produto': 'EletrodomÃ©sticos', 'Valor em Reais (R$)': '73.78', 'Quantidade em Estoque': '29', 'Nome da Loja': 'Filial 1', 'Data da Venda': '2022-08-25 03:29:53.201930'}\n",
            "{'Nome do Item': 'Delineador lÃ\\xadquido', 'ClassificaÃ§Ã£o do Produto': 'Roupas', 'Valor em Reais (R$)': '36.74', 'Quantidade em Estoque': '21', 'Nome da Loja': 'Filial 4', 'Data da Venda': '2022-09-05 03:29:53.201930'}\n",
            "{'Nome do Item': 'Batom matte', 'ClassificaÃ§Ã£o do Produto': 'Roupas', 'Valor em Reais (R$)': '69.84', 'Quantidade em Estoque': '41', 'Nome da Loja': 'Filial 5', 'Data da Venda': '2023-01-26 03:29:53.201930'}\n",
            "{'Nome do Item': 'MÃ¡scara de cÃ\\xadlios', 'ClassificaÃ§Ã£o do Produto': 'Alimentos', 'Valor em Reais (R$)': '72.18', 'Quantidade em Estoque': '58', 'Nome da Loja': 'Filial 5', 'Data da Venda': '2022-10-17 03:29:53.201930'}\n",
            "{'Nome do Item': 'MÃ¡scara de cÃ\\xadlios', 'ClassificaÃ§Ã£o do Produto': 'EletrodomÃ©sticos', 'Valor em Reais (R$)': '37.77', 'Quantidade em Estoque': '4', 'Nome da Loja': 'Filial 4', 'Data da Venda': '2023-07-14 03:29:53.201930'}\n",
            "{'Nome do Item': 'Base lÃ\\xadquida', 'ClassificaÃ§Ã£o do Produto': 'Alimentos', 'Valor em Reais (R$)': '39.86', 'Quantidade em Estoque': '95', 'Nome da Loja': 'Filial 7', 'Data da Venda': '2023-02-02 03:29:53.201930'}\n",
            "{'Nome do Item': 'MÃ¡scara de cÃ\\xadlios', 'ClassificaÃ§Ã£o do Produto': 'EletrÃ´nicos', 'Valor em Reais (R$)': '20.21', 'Quantidade em Estoque': '88', 'Nome da Loja': 'Filial 9', 'Data da Venda': '2023-02-28 03:29:53.201930'}\n",
            "{'Nome do Item': 'Corretivo', 'ClassificaÃ§Ã£o do Produto': 'Alimentos', 'Valor em Reais (R$)': '88.61', 'Quantidade em Estoque': '46', 'Nome da Loja': 'Filial 10', 'Data da Venda': '2023-05-26 03:29:53.201930'}\n",
            "{'Nome do Item': 'LÃ¡pis de sobrancelha', 'ClassificaÃ§Ã£o do Produto': 'Roupas', 'Valor em Reais (R$)': '75.26', 'Quantidade em Estoque': '73', 'Nome da Loja': 'Filial 1', 'Data da Venda': '2022-10-09 03:29:53.201930'}\n",
            "{'Nome do Item': 'PÃ³ compacto', 'ClassificaÃ§Ã£o do Produto': 'Alimentos', 'Valor em Reais (R$)': '26.38', 'Quantidade em Estoque': '32', 'Nome da Loja': 'Filial 10', 'Data da Venda': '2023-01-12 03:29:53.201930'}\n",
            "{'Nome do Item': 'PÃ³ compacto', 'ClassificaÃ§Ã£o do Produto': 'Alimentos', 'Valor em Reais (R$)': '95.24', 'Quantidade em Estoque': '3', 'Nome da Loja': 'Filial 5', 'Data da Venda': '2023-07-24 03:29:53.201930'}\n",
            "{'Nome do Item': 'Base lÃ\\xadquida', 'ClassificaÃ§Ã£o do Produto': 'EletrodomÃ©sticos', 'Valor em Reais (R$)': '82.0', 'Quantidade em Estoque': '58', 'Nome da Loja': 'Filial 7', 'Data da Venda': '2022-10-02 03:29:53.201930'}\n",
            "{'Nome do Item': 'PÃ³ compacto', 'ClassificaÃ§Ã£o do Produto': 'Alimentos', 'Valor em Reais (R$)': '25.54', 'Quantidade em Estoque': '50', 'Nome da Loja': 'Filial 1', 'Data da Venda': '2023-07-12 03:29:53.201930'}\n",
            "{'Nome do Item': 'LÃ¡pis de sobrancelha', 'ClassificaÃ§Ã£o do Produto': 'Alimentos', 'Valor em Reais (R$)': '42.28', 'Quantidade em Estoque': '21', 'Nome da Loja': 'Filial 3', 'Data da Venda': '2023-08-07 03:29:53.201930'}\n",
            "{'Nome do Item': 'MÃ¡scara de cÃ\\xadlios', 'ClassificaÃ§Ã£o do Produto': 'EletrodomÃ©sticos', 'Valor em Reais (R$)': '55.1', 'Quantidade em Estoque': '32', 'Nome da Loja': 'Filial 9', 'Data da Venda': '2023-06-12 03:29:53.201930'}\n",
            "{'Nome do Item': 'Delineador lÃ\\xadquido', 'ClassificaÃ§Ã£o do Produto': 'Alimentos', 'Valor em Reais (R$)': '86.62', 'Quantidade em Estoque': '39', 'Nome da Loja': 'Filial 5', 'Data da Venda': '2023-04-13 03:29:53.201930'}\n",
            "{'Nome do Item': 'Blush em pÃ³', 'ClassificaÃ§Ã£o do Produto': 'Alimentos', 'Valor em Reais (R$)': '42.99', 'Quantidade em Estoque': '22', 'Nome da Loja': 'Filial 10', 'Data da Venda': '2023-07-16 03:29:53.201930'}\n",
            "{'Nome do Item': 'Sombra de olhos', 'ClassificaÃ§Ã£o do Produto': 'EletrodomÃ©sticos', 'Valor em Reais (R$)': '24.28', 'Quantidade em Estoque': '80', 'Nome da Loja': 'Filial 10', 'Data da Venda': '2023-05-13 03:29:53.201930'}\n",
            "{'Nome do Item': 'Corretivo', 'ClassificaÃ§Ã£o do Produto': 'Alimentos', 'Valor em Reais (R$)': '59.56', 'Quantidade em Estoque': '61', 'Nome da Loja': 'Filial 4', 'Data da Venda': '2023-07-20 03:29:53.201930'}\n",
            "{'Nome do Item': 'Batom lÃ\\xadquido', 'ClassificaÃ§Ã£o do Produto': 'EletrodomÃ©sticos', 'Valor em Reais (R$)': '48.34', 'Quantidade em Estoque': '15', 'Nome da Loja': 'Filial 9', 'Data da Venda': '2023-04-07 03:29:53.201930'}\n",
            "{'Nome do Item': 'Batom matte', 'ClassificaÃ§Ã£o do Produto': 'EletrodomÃ©sticos', 'Valor em Reais (R$)': '18.3', 'Quantidade em Estoque': '43', 'Nome da Loja': 'Filial 6', 'Data da Venda': '2023-04-06 03:29:53.201930'}\n",
            "{'Nome do Item': 'Blush em pÃ³', 'ClassificaÃ§Ã£o do Produto': 'Alimentos', 'Valor em Reais (R$)': '46.98', 'Quantidade em Estoque': '32', 'Nome da Loja': 'Filial 7', 'Data da Venda': '2022-10-01 03:29:53.201930'}\n",
            "{'Nome do Item': 'Base lÃ\\xadquida', 'ClassificaÃ§Ã£o do Produto': 'Alimentos', 'Valor em Reais (R$)': '45.79', 'Quantidade em Estoque': '87', 'Nome da Loja': 'Filial 3', 'Data da Venda': '2022-10-07 03:29:53.201930'}\n",
            "{'Nome do Item': 'MÃ¡scara de cÃ\\xadlios', 'ClassificaÃ§Ã£o do Produto': 'Alimentos', 'Valor em Reais (R$)': '7.49', 'Quantidade em Estoque': '40', 'Nome da Loja': 'Filial 8', 'Data da Venda': '2023-01-04 03:29:53.201930'}\n",
            "{'Nome do Item': 'LÃ¡pis de sobrancelha', 'ClassificaÃ§Ã£o do Produto': 'Roupas', 'Valor em Reais (R$)': '22.08', 'Quantidade em Estoque': '75', 'Nome da Loja': 'Filial 4', 'Data da Venda': '2023-04-04 03:29:53.201930'}\n",
            "{'Nome do Item': 'Blush em pÃ³', 'ClassificaÃ§Ã£o do Produto': 'Alimentos', 'Valor em Reais (R$)': '49.65', 'Quantidade em Estoque': '46', 'Nome da Loja': 'Filial 7', 'Data da Venda': '2023-07-09 03:29:53.201930'}\n",
            "{'Nome do Item': 'Batom lÃ\\xadquido', 'ClassificaÃ§Ã£o do Produto': 'Roupas', 'Valor em Reais (R$)': '44.01', 'Quantidade em Estoque': '28', 'Nome da Loja': 'Filial 10', 'Data da Venda': '2023-07-27 03:29:53.201930'}\n",
            "{'Nome do Item': 'Delineador lÃ\\xadquido', 'ClassificaÃ§Ã£o do Produto': 'EletrÃ´nicos', 'Valor em Reais (R$)': '45.08', 'Quantidade em Estoque': '56', 'Nome da Loja': 'Filial 10', 'Data da Venda': '2023-06-26 03:29:53.201930'}\n",
            "{'Nome do Item': 'Batom lÃ\\xadquido', 'ClassificaÃ§Ã£o do Produto': 'EletrÃ´nicos', 'Valor em Reais (R$)': '43.19', 'Quantidade em Estoque': '31', 'Nome da Loja': 'Filial 6', 'Data da Venda': '2022-11-26 03:29:53.201930'}\n",
            "{'Nome do Item': 'Batom matte', 'ClassificaÃ§Ã£o do Produto': 'EletrodomÃ©sticos', 'Valor em Reais (R$)': '91.87', 'Quantidade em Estoque': '73', 'Nome da Loja': 'Filial 8', 'Data da Venda': '2023-06-17 03:29:53.201930'}\n",
            "{'Nome do Item': 'Batom lÃ\\xadquido', 'ClassificaÃ§Ã£o do Produto': 'EletrodomÃ©sticos', 'Valor em Reais (R$)': '40.66', 'Quantidade em Estoque': '54', 'Nome da Loja': 'Filial 2', 'Data da Venda': '2022-12-14 03:29:53.201930'}\n",
            "{'Nome do Item': 'Batom lÃ\\xadquido', 'ClassificaÃ§Ã£o do Produto': 'Alimentos', 'Valor em Reais (R$)': '62.31', 'Quantidade em Estoque': '100', 'Nome da Loja': 'Filial 10', 'Data da Venda': '2023-01-20 03:29:53.201930'}\n",
            "{'Nome do Item': 'Batom matte', 'ClassificaÃ§Ã£o do Produto': 'Alimentos', 'Valor em Reais (R$)': '64.11', 'Quantidade em Estoque': '47', 'Nome da Loja': 'Filial 2', 'Data da Venda': '2023-01-08 03:29:53.201930'}\n",
            "{'Nome do Item': 'Batom matte', 'ClassificaÃ§Ã£o do Produto': 'Alimentos', 'Valor em Reais (R$)': '28.06', 'Quantidade em Estoque': '95', 'Nome da Loja': 'Filial 5', 'Data da Venda': '2022-11-24 03:29:53.201930'}\n",
            "{'Nome do Item': 'Sombra de olhos', 'ClassificaÃ§Ã£o do Produto': 'Alimentos', 'Valor em Reais (R$)': '6.41', 'Quantidade em Estoque': '7', 'Nome da Loja': 'Filial 3', 'Data da Venda': '2023-03-06 03:29:53.201930'}\n",
            "{'Nome do Item': 'Blush em pÃ³', 'ClassificaÃ§Ã£o do Produto': 'EletrÃ´nicos', 'Valor em Reais (R$)': '31.15', 'Quantidade em Estoque': '27', 'Nome da Loja': 'Filial 10', 'Data da Venda': '2023-04-09 03:29:53.201930'}\n",
            "{'Nome do Item': 'Base lÃ\\xadquida', 'ClassificaÃ§Ã£o do Produto': 'EletrodomÃ©sticos', 'Valor em Reais (R$)': '35.08', 'Quantidade em Estoque': '37', 'Nome da Loja': 'Filial 9', 'Data da Venda': '2023-07-26 03:29:53.201930'}\n",
            "{'Nome do Item': 'Batom lÃ\\xadquido', 'ClassificaÃ§Ã£o do Produto': 'EletrÃ´nicos', 'Valor em Reais (R$)': '72.48', 'Quantidade em Estoque': '85', 'Nome da Loja': 'Filial 10', 'Data da Venda': '2023-04-02 03:29:53.201930'}\n",
            "{'Nome do Item': 'Batom matte', 'ClassificaÃ§Ã£o do Produto': 'Alimentos', 'Valor em Reais (R$)': '20.39', 'Quantidade em Estoque': '33', 'Nome da Loja': 'Filial 7', 'Data da Venda': '2023-04-06 03:29:53.201930'}\n",
            "{'Nome do Item': 'Sombra de olhos', 'ClassificaÃ§Ã£o do Produto': 'EletrodomÃ©sticos', 'Valor em Reais (R$)': '98.98', 'Quantidade em Estoque': '74', 'Nome da Loja': 'Filial 5', 'Data da Venda': '2022-10-06 03:29:53.201930'}\n",
            "{'Nome do Item': 'Batom matte', 'ClassificaÃ§Ã£o do Produto': 'EletrodomÃ©sticos', 'Valor em Reais (R$)': '57.36', 'Quantidade em Estoque': '22', 'Nome da Loja': 'Filial 9', 'Data da Venda': '2023-06-28 03:29:53.201930'}\n",
            "{'Nome do Item': 'Corretivo', 'ClassificaÃ§Ã£o do Produto': 'Alimentos', 'Valor em Reais (R$)': '16.09', 'Quantidade em Estoque': '27', 'Nome da Loja': 'Filial 5', 'Data da Venda': '2023-07-05 03:29:53.201930'}\n",
            "{'Nome do Item': 'LÃ¡pis de sobrancelha', 'ClassificaÃ§Ã£o do Produto': 'Alimentos', 'Valor em Reais (R$)': '6.01', 'Quantidade em Estoque': '62', 'Nome da Loja': 'Filial 3', 'Data da Venda': '2022-10-25 03:29:53.201930'}\n",
            "{'Nome do Item': 'Delineador lÃ\\xadquido', 'ClassificaÃ§Ã£o do Produto': 'EletrÃ´nicos', 'Valor em Reais (R$)': '39.17', 'Quantidade em Estoque': '32', 'Nome da Loja': 'Filial 7', 'Data da Venda': '2023-05-23 03:29:53.201930'}\n",
            "{'Nome do Item': 'Corretivo', 'ClassificaÃ§Ã£o do Produto': 'Alimentos', 'Valor em Reais (R$)': '47.26', 'Quantidade em Estoque': '78', 'Nome da Loja': 'Filial 4', 'Data da Venda': '2022-11-09 03:29:53.201930'}\n",
            "{'Nome do Item': 'PÃ³ compacto', 'ClassificaÃ§Ã£o do Produto': 'Roupas', 'Valor em Reais (R$)': '70.06', 'Quantidade em Estoque': '8', 'Nome da Loja': 'Filial 10', 'Data da Venda': '2023-01-13 03:29:53.201930'}\n",
            "{'Nome do Item': 'LÃ¡pis de sobrancelha', 'ClassificaÃ§Ã£o do Produto': 'EletrÃ´nicos', 'Valor em Reais (R$)': '76.88', 'Quantidade em Estoque': '25', 'Nome da Loja': 'Filial 5', 'Data da Venda': '2023-08-11 03:29:53.201930'}\n",
            "{'Nome do Item': 'Blush em pÃ³', 'ClassificaÃ§Ã£o do Produto': 'Roupas', 'Valor em Reais (R$)': '23.12', 'Quantidade em Estoque': '83', 'Nome da Loja': 'Filial 10', 'Data da Venda': '2023-07-24 03:29:53.201930'}\n",
            "{'Nome do Item': 'MÃ¡scara de cÃ\\xadlios', 'ClassificaÃ§Ã£o do Produto': 'Alimentos', 'Valor em Reais (R$)': '14.17', 'Quantidade em Estoque': '26', 'Nome da Loja': 'Filial 9', 'Data da Venda': '2023-06-26 03:29:53.201930'}\n",
            "{'Nome do Item': 'PÃ³ compacto', 'ClassificaÃ§Ã£o do Produto': 'EletrÃ´nicos', 'Valor em Reais (R$)': '19.65', 'Quantidade em Estoque': '63', 'Nome da Loja': 'Filial 3', 'Data da Venda': '2022-12-22 03:29:53.201930'}\n",
            "{'Nome do Item': 'Batom matte', 'ClassificaÃ§Ã£o do Produto': 'Alimentos', 'Valor em Reais (R$)': '98.44', 'Quantidade em Estoque': '97', 'Nome da Loja': 'Filial 10', 'Data da Venda': '2022-08-31 03:29:53.201930'}\n",
            "{'Nome do Item': 'Corretivo', 'ClassificaÃ§Ã£o do Produto': 'Alimentos', 'Valor em Reais (R$)': '2.22', 'Quantidade em Estoque': '21', 'Nome da Loja': 'Filial 8', 'Data da Venda': '2023-08-16 03:29:53.201930'}\n",
            "{'Nome do Item': 'Sombra de olhos', 'ClassificaÃ§Ã£o do Produto': 'Roupas', 'Valor em Reais (R$)': '73.59', 'Quantidade em Estoque': '51', 'Nome da Loja': 'Filial 2', 'Data da Venda': '2022-12-03 03:29:53.201930'}\n",
            "{'Nome do Item': 'LÃ¡pis de sobrancelha', 'ClassificaÃ§Ã£o do Produto': 'Roupas', 'Valor em Reais (R$)': '12.49', 'Quantidade em Estoque': '31', 'Nome da Loja': 'Filial 5', 'Data da Venda': '2022-09-22 03:29:53.201930'}\n",
            "{'Nome do Item': 'Batom matte', 'ClassificaÃ§Ã£o do Produto': 'EletrÃ´nicos', 'Valor em Reais (R$)': '50.23', 'Quantidade em Estoque': '98', 'Nome da Loja': 'Filial 2', 'Data da Venda': '2023-04-12 03:29:53.201930'}\n",
            "{'Nome do Item': 'PÃ³ compacto', 'ClassificaÃ§Ã£o do Produto': 'Roupas', 'Valor em Reais (R$)': '55.22', 'Quantidade em Estoque': '95', 'Nome da Loja': 'Filial 8', 'Data da Venda': '2022-12-05 03:29:53.201930'}\n",
            "{'Nome do Item': 'Delineador lÃ\\xadquido', 'ClassificaÃ§Ã£o do Produto': 'Alimentos', 'Valor em Reais (R$)': '19.59', 'Quantidade em Estoque': '29', 'Nome da Loja': 'Filial 4', 'Data da Venda': '2022-12-27 03:29:53.201930'}\n",
            "{'Nome do Item': 'Corretivo', 'ClassificaÃ§Ã£o do Produto': 'Alimentos', 'Valor em Reais (R$)': '17.73', 'Quantidade em Estoque': '5', 'Nome da Loja': 'Filial 4', 'Data da Venda': '2023-01-10 03:29:53.201930'}\n",
            "{'Nome do Item': 'Batom matte', 'ClassificaÃ§Ã£o do Produto': 'EletrodomÃ©sticos', 'Valor em Reais (R$)': '46.13', 'Quantidade em Estoque': '18', 'Nome da Loja': 'Filial 9', 'Data da Venda': '2023-05-20 03:29:53.201930'}\n",
            "{'Nome do Item': 'Base lÃ\\xadquida', 'ClassificaÃ§Ã£o do Produto': 'EletrÃ´nicos', 'Valor em Reais (R$)': '73.25', 'Quantidade em Estoque': '1', 'Nome da Loja': 'Filial 2', 'Data da Venda': '2022-09-13 03:29:53.201930'}\n",
            "{'Nome do Item': 'Batom matte', 'ClassificaÃ§Ã£o do Produto': 'EletrÃ´nicos', 'Valor em Reais (R$)': '34.36', 'Quantidade em Estoque': '61', 'Nome da Loja': 'Filial 7', 'Data da Venda': '2022-11-17 03:29:53.201930'}\n",
            "{'Nome do Item': 'Batom matte', 'ClassificaÃ§Ã£o do Produto': 'Alimentos', 'Valor em Reais (R$)': '60.63', 'Quantidade em Estoque': '7', 'Nome da Loja': 'Filial 2', 'Data da Venda': '2022-10-11 03:29:53.201930'}\n",
            "{'Nome do Item': 'Batom lÃ\\xadquido', 'ClassificaÃ§Ã£o do Produto': 'Alimentos', 'Valor em Reais (R$)': '76.3', 'Quantidade em Estoque': '22', 'Nome da Loja': 'Filial 8', 'Data da Venda': '2022-09-02 03:29:53.201930'}\n",
            "{'Nome do Item': 'LÃ¡pis de sobrancelha', 'ClassificaÃ§Ã£o do Produto': 'EletrodomÃ©sticos', 'Valor em Reais (R$)': '15.97', 'Quantidade em Estoque': '74', 'Nome da Loja': 'Filial 6', 'Data da Venda': '2022-09-04 03:29:53.201930'}\n",
            "{'Nome do Item': 'Blush em pÃ³', 'ClassificaÃ§Ã£o do Produto': 'Alimentos', 'Valor em Reais (R$)': '81.16', 'Quantidade em Estoque': '49', 'Nome da Loja': 'Filial 7', 'Data da Venda': '2023-02-06 03:29:53.201930'}\n",
            "{'Nome do Item': 'Base lÃ\\xadquida', 'ClassificaÃ§Ã£o do Produto': 'Roupas', 'Valor em Reais (R$)': '76.99', 'Quantidade em Estoque': '69', 'Nome da Loja': 'Filial 10', 'Data da Venda': '2023-07-17 03:29:53.201930'}\n",
            "{'Nome do Item': 'LÃ¡pis de sobrancelha', 'ClassificaÃ§Ã£o do Produto': 'Roupas', 'Valor em Reais (R$)': '59.54', 'Quantidade em Estoque': '92', 'Nome da Loja': 'Filial 8', 'Data da Venda': '2023-03-01 03:29:53.201930'}\n",
            "{'Nome do Item': 'MÃ¡scara de cÃ\\xadlios', 'ClassificaÃ§Ã£o do Produto': 'EletrÃ´nicos', 'Valor em Reais (R$)': '98.36', 'Quantidade em Estoque': '77', 'Nome da Loja': 'Filial 3', 'Data da Venda': '2023-05-04 03:29:53.201930'}\n",
            "{'Nome do Item': 'MÃ¡scara de cÃ\\xadlios', 'ClassificaÃ§Ã£o do Produto': 'Alimentos', 'Valor em Reais (R$)': '3.12', 'Quantidade em Estoque': '71', 'Nome da Loja': 'Filial 1', 'Data da Venda': '2023-05-31 03:29:53.201930'}\n",
            "{'Nome do Item': 'Corretivo', 'ClassificaÃ§Ã£o do Produto': 'Roupas', 'Valor em Reais (R$)': '12.74', 'Quantidade em Estoque': '69', 'Nome da Loja': 'Filial 9', 'Data da Venda': '2023-08-09 03:29:53.201930'}\n",
            "{'Nome do Item': 'Sombra de olhos', 'ClassificaÃ§Ã£o do Produto': 'EletrodomÃ©sticos', 'Valor em Reais (R$)': '66.0', 'Quantidade em Estoque': '15', 'Nome da Loja': 'Filial 7', 'Data da Venda': '2022-10-07 03:29:53.201930'}\n",
            "{'Nome do Item': 'Blush em pÃ³', 'ClassificaÃ§Ã£o do Produto': 'EletrodomÃ©sticos', 'Valor em Reais (R$)': '97.64', 'Quantidade em Estoque': '58', 'Nome da Loja': 'Filial 10', 'Data da Venda': '2022-11-26 03:29:53.201930'}\n",
            "{'Nome do Item': 'Batom lÃ\\xadquido', 'ClassificaÃ§Ã£o do Produto': 'Alimentos', 'Valor em Reais (R$)': '1.02', 'Quantidade em Estoque': '63', 'Nome da Loja': 'Filial 9', 'Data da Venda': '2023-06-01 03:29:53.201930'}\n",
            "{'Nome do Item': 'MÃ¡scara de cÃ\\xadlios', 'ClassificaÃ§Ã£o do Produto': 'Alimentos', 'Valor em Reais (R$)': '36.58', 'Quantidade em Estoque': '56', 'Nome da Loja': 'Filial 2', 'Data da Venda': '2023-08-21 03:29:53.201930'}\n",
            "{'Nome do Item': 'Blush em pÃ³', 'ClassificaÃ§Ã£o do Produto': 'Roupas', 'Valor em Reais (R$)': '79.1', 'Quantidade em Estoque': '80', 'Nome da Loja': 'Filial 2', 'Data da Venda': '2022-11-29 03:29:53.201930'}\n",
            "{'Nome do Item': 'Sombra de olhos', 'ClassificaÃ§Ã£o do Produto': 'Alimentos', 'Valor em Reais (R$)': '77.91', 'Quantidade em Estoque': '87', 'Nome da Loja': 'Filial 8', 'Data da Venda': '2023-03-18 03:29:53.201930'}\n",
            "{'Nome do Item': 'Blush em pÃ³', 'ClassificaÃ§Ã£o do Produto': 'Alimentos', 'Valor em Reais (R$)': '69.64', 'Quantidade em Estoque': '96', 'Nome da Loja': 'Filial 5', 'Data da Venda': '2022-09-07 03:29:53.201930'}\n",
            "{'Nome do Item': 'Batom lÃ\\xadquido', 'ClassificaÃ§Ã£o do Produto': 'EletrÃ´nicos', 'Valor em Reais (R$)': '88.56', 'Quantidade em Estoque': '10', 'Nome da Loja': 'Filial 3', 'Data da Venda': '2023-07-31 03:29:53.201930'}\n",
            "{'Nome do Item': 'Batom matte', 'ClassificaÃ§Ã£o do Produto': 'EletrÃ´nicos', 'Valor em Reais (R$)': '94.93', 'Quantidade em Estoque': '30', 'Nome da Loja': 'Filial 4', 'Data da Venda': '2022-11-09 03:29:53.201930'}\n",
            "{'Nome do Item': 'Base lÃ\\xadquida', 'ClassificaÃ§Ã£o do Produto': 'Roupas', 'Valor em Reais (R$)': '90.17', 'Quantidade em Estoque': '63', 'Nome da Loja': 'Filial 1', 'Data da Venda': '2023-08-20 03:29:53.201930'}\n",
            "{'Nome do Item': 'Blush em pÃ³', 'ClassificaÃ§Ã£o do Produto': 'EletrodomÃ©sticos', 'Valor em Reais (R$)': '16.75', 'Quantidade em Estoque': '32', 'Nome da Loja': 'Filial 2', 'Data da Venda': '2023-03-27 03:29:53.201930'}\n",
            "{'Nome do Item': 'MÃ¡scara de cÃ\\xadlios', 'ClassificaÃ§Ã£o do Produto': 'EletrÃ´nicos', 'Valor em Reais (R$)': '72.21', 'Quantidade em Estoque': '88', 'Nome da Loja': 'Filial 1', 'Data da Venda': '2022-09-19 03:29:53.201930'}\n",
            "{'Nome do Item': 'LÃ¡pis de sobrancelha', 'ClassificaÃ§Ã£o do Produto': 'Alimentos', 'Valor em Reais (R$)': '55.45', 'Quantidade em Estoque': '4', 'Nome da Loja': 'Filial 9', 'Data da Venda': '2022-10-11 03:29:53.201930'}\n",
            "{'Nome do Item': 'MÃ¡scara de cÃ\\xadlios', 'ClassificaÃ§Ã£o do Produto': 'Alimentos', 'Valor em Reais (R$)': '46.44', 'Quantidade em Estoque': '35', 'Nome da Loja': 'Filial 8', 'Data da Venda': '2022-10-10 03:29:53.201930'}\n",
            "{'Nome do Item': 'MÃ¡scara de cÃ\\xadlios', 'ClassificaÃ§Ã£o do Produto': 'EletrodomÃ©sticos', 'Valor em Reais (R$)': '39.31', 'Quantidade em Estoque': '1', 'Nome da Loja': 'Filial 10', 'Data da Venda': '2023-07-08 03:29:53.201930'}\n",
            "{'Nome do Item': 'MÃ¡scara de cÃ\\xadlios', 'ClassificaÃ§Ã£o do Produto': 'EletrÃ´nicos', 'Valor em Reais (R$)': '45.12', 'Quantidade em Estoque': '97', 'Nome da Loja': 'Filial 4', 'Data da Venda': '2023-05-28 03:29:53.201930'}\n",
            "{'Nome do Item': 'MÃ¡scara de cÃ\\xadlios', 'ClassificaÃ§Ã£o do Produto': 'Roupas', 'Valor em Reais (R$)': '11.89', 'Quantidade em Estoque': '98', 'Nome da Loja': 'Filial 6', 'Data da Venda': '2022-11-20 03:29:53.201930'}\n",
            "{'Nome do Item': 'LÃ¡pis de sobrancelha', 'ClassificaÃ§Ã£o do Produto': 'EletrodomÃ©sticos', 'Valor em Reais (R$)': '96.57', 'Quantidade em Estoque': '73', 'Nome da Loja': 'Filial 1', 'Data da Venda': '2023-05-04 03:29:53.201930'}\n",
            "{'Nome do Item': 'Delineador lÃ\\xadquido', 'ClassificaÃ§Ã£o do Produto': 'Roupas', 'Valor em Reais (R$)': '81.92', 'Quantidade em Estoque': '46', 'Nome da Loja': 'Filial 8', 'Data da Venda': '2023-07-26 03:29:53.201930'}\n",
            "{'Nome do Item': 'Batom lÃ\\xadquido', 'ClassificaÃ§Ã£o do Produto': 'Roupas', 'Valor em Reais (R$)': '13.2', 'Quantidade em Estoque': '52', 'Nome da Loja': 'Filial 7', 'Data da Venda': '2023-01-15 03:29:53.201930'}\n",
            "{'Nome do Item': 'Base lÃ\\xadquida', 'ClassificaÃ§Ã£o do Produto': 'Roupas', 'Valor em Reais (R$)': '24.95', 'Quantidade em Estoque': '16', 'Nome da Loja': 'Filial 4', 'Data da Venda': '2022-08-26 03:29:53.201930'}\n",
            "{'Nome do Item': 'Sombra de olhos', 'ClassificaÃ§Ã£o do Produto': 'Alimentos', 'Valor em Reais (R$)': '69.21', 'Quantidade em Estoque': '86', 'Nome da Loja': 'Filial 4', 'Data da Venda': '2023-06-16 03:29:53.201930'}\n",
            "{'Nome do Item': 'Batom matte', 'ClassificaÃ§Ã£o do Produto': 'Alimentos', 'Valor em Reais (R$)': '59.63', 'Quantidade em Estoque': '53', 'Nome da Loja': 'Filial 10', 'Data da Venda': '2022-11-27 03:29:53.201930'}\n",
            "{'Nome do Item': 'PÃ³ compacto', 'ClassificaÃ§Ã£o do Produto': 'Alimentos', 'Valor em Reais (R$)': '20.2', 'Quantidade em Estoque': '52', 'Nome da Loja': 'Filial 5', 'Data da Venda': '2023-01-05 03:29:53.201930'}\n",
            "{'Nome do Item': 'Delineador lÃ\\xadquido', 'ClassificaÃ§Ã£o do Produto': 'Roupas', 'Valor em Reais (R$)': '67.49', 'Quantidade em Estoque': '81', 'Nome da Loja': 'Filial 7', 'Data da Venda': '2023-04-15 03:29:53.201930'}\n",
            "{'Nome do Item': 'PÃ³ compacto', 'ClassificaÃ§Ã£o do Produto': 'EletrodomÃ©sticos', 'Valor em Reais (R$)': '99.62', 'Quantidade em Estoque': '49', 'Nome da Loja': 'Filial 7', 'Data da Venda': '2022-12-22 03:29:53.201930'}\n",
            "{'Nome do Item': 'Sombra de olhos', 'ClassificaÃ§Ã£o do Produto': 'EletrodomÃ©sticos', 'Valor em Reais (R$)': '84.18', 'Quantidade em Estoque': '56', 'Nome da Loja': 'Filial 8', 'Data da Venda': '2022-10-09 03:29:53.201930'}\n",
            "{'Nome do Item': 'MÃ¡scara de cÃ\\xadlios', 'ClassificaÃ§Ã£o do Produto': 'Alimentos', 'Valor em Reais (R$)': '39.63', 'Quantidade em Estoque': '68', 'Nome da Loja': 'Filial 9', 'Data da Venda': '2023-02-23 03:29:53.201930'}\n",
            "{'Nome do Item': 'PÃ³ compacto', 'ClassificaÃ§Ã£o do Produto': 'Roupas', 'Valor em Reais (R$)': '44.93', 'Quantidade em Estoque': '16', 'Nome da Loja': 'Filial 8', 'Data da Venda': '2022-09-02 03:29:53.201930'}\n",
            "{'Nome do Item': 'Delineador lÃ\\xadquido', 'ClassificaÃ§Ã£o do Produto': 'Alimentos', 'Valor em Reais (R$)': '41.53', 'Quantidade em Estoque': '48', 'Nome da Loja': 'Filial 3', 'Data da Venda': '2022-09-22 03:29:53.201930'}\n",
            "{'Nome do Item': 'Corretivo', 'ClassificaÃ§Ã£o do Produto': 'Alimentos', 'Valor em Reais (R$)': '67.04', 'Quantidade em Estoque': '33', 'Nome da Loja': 'Filial 1', 'Data da Venda': '2023-03-18 03:29:53.201930'}\n",
            "{'Nome do Item': 'Sombra de olhos', 'ClassificaÃ§Ã£o do Produto': 'Roupas', 'Valor em Reais (R$)': '57.45', 'Quantidade em Estoque': '33', 'Nome da Loja': 'Filial 1', 'Data da Venda': '2022-12-26 03:29:53.201930'}\n",
            "{'Nome do Item': 'Delineador lÃ\\xadquido', 'ClassificaÃ§Ã£o do Produto': 'Roupas', 'Valor em Reais (R$)': '32.25', 'Quantidade em Estoque': '22', 'Nome da Loja': 'Filial 10', 'Data da Venda': '2023-02-04 03:29:53.201930'}\n",
            "{'Nome do Item': 'Corretivo', 'ClassificaÃ§Ã£o do Produto': 'Roupas', 'Valor em Reais (R$)': '50.54', 'Quantidade em Estoque': '59', 'Nome da Loja': 'Filial 6', 'Data da Venda': '2023-01-31 03:29:53.201930'}\n",
            "{'Nome do Item': 'Batom lÃ\\xadquido', 'ClassificaÃ§Ã£o do Produto': 'Alimentos', 'Valor em Reais (R$)': '91.25', 'Quantidade em Estoque': '51', 'Nome da Loja': 'Filial 10', 'Data da Venda': '2023-07-13 03:29:53.201930'}\n",
            "{'Nome do Item': 'Batom lÃ\\xadquido', 'ClassificaÃ§Ã£o do Produto': 'Roupas', 'Valor em Reais (R$)': '49.2', 'Quantidade em Estoque': '45', 'Nome da Loja': 'Filial 2', 'Data da Venda': '2023-01-20 03:29:53.201930'}\n",
            "{'Nome do Item': 'MÃ¡scara de cÃ\\xadlios', 'ClassificaÃ§Ã£o do Produto': 'Alimentos', 'Valor em Reais (R$)': '93.07', 'Quantidade em Estoque': '16', 'Nome da Loja': 'Filial 5', 'Data da Venda': '2023-07-08 03:29:53.201930'}\n",
            "{'Nome do Item': 'LÃ¡pis de sobrancelha', 'ClassificaÃ§Ã£o do Produto': 'Alimentos', 'Valor em Reais (R$)': '26.24', 'Quantidade em Estoque': '94', 'Nome da Loja': 'Filial 4', 'Data da Venda': '2023-04-01 03:29:53.201930'}\n",
            "{'Nome do Item': 'PÃ³ compacto', 'ClassificaÃ§Ã£o do Produto': 'EletrodomÃ©sticos', 'Valor em Reais (R$)': '14.06', 'Quantidade em Estoque': '16', 'Nome da Loja': 'Filial 6', 'Data da Venda': '2023-03-10 03:29:53.201930'}\n",
            "{'Nome do Item': 'Delineador lÃ\\xadquido', 'ClassificaÃ§Ã£o do Produto': 'EletrÃ´nicos', 'Valor em Reais (R$)': '54.02', 'Quantidade em Estoque': '14', 'Nome da Loja': 'Filial 6', 'Data da Venda': '2023-06-22 03:29:53.201930'}\n",
            "{'Nome do Item': 'Batom lÃ\\xadquido', 'ClassificaÃ§Ã£o do Produto': 'Alimentos', 'Valor em Reais (R$)': '24.01', 'Quantidade em Estoque': '7', 'Nome da Loja': 'Filial 10', 'Data da Venda': '2022-10-30 03:29:53.201930'}\n",
            "{'Nome do Item': 'Base lÃ\\xadquida', 'ClassificaÃ§Ã£o do Produto': 'Alimentos', 'Valor em Reais (R$)': '14.29', 'Quantidade em Estoque': '99', 'Nome da Loja': 'Filial 2', 'Data da Venda': '2023-01-27 03:29:53.201930'}\n",
            "{'Nome do Item': 'Batom matte', 'ClassificaÃ§Ã£o do Produto': 'Roupas', 'Valor em Reais (R$)': '41.88', 'Quantidade em Estoque': '80', 'Nome da Loja': 'Filial 3', 'Data da Venda': '2022-11-09 03:29:53.201930'}\n",
            "{'Nome do Item': 'PÃ³ compacto', 'ClassificaÃ§Ã£o do Produto': 'EletrodomÃ©sticos', 'Valor em Reais (R$)': '16.19', 'Quantidade em Estoque': '2', 'Nome da Loja': 'Filial 10', 'Data da Venda': '2023-03-31 03:29:53.201930'}\n",
            "{'Nome do Item': 'Sombra de olhos', 'ClassificaÃ§Ã£o do Produto': 'Roupas', 'Valor em Reais (R$)': '79.11', 'Quantidade em Estoque': '19', 'Nome da Loja': 'Filial 10', 'Data da Venda': '2022-10-28 03:29:53.201930'}\n",
            "{'Nome do Item': 'Delineador lÃ\\xadquido', 'ClassificaÃ§Ã£o do Produto': 'Roupas', 'Valor em Reais (R$)': '89.33', 'Quantidade em Estoque': '4', 'Nome da Loja': 'Filial 9', 'Data da Venda': '2023-01-19 03:29:53.201930'}\n",
            "{'Nome do Item': 'PÃ³ compacto', 'ClassificaÃ§Ã£o do Produto': 'Roupas', 'Valor em Reais (R$)': '76.2', 'Quantidade em Estoque': '75', 'Nome da Loja': 'Filial 6', 'Data da Venda': '2022-11-18 03:29:53.201930'}\n",
            "{'Nome do Item': 'LÃ¡pis de sobrancelha', 'ClassificaÃ§Ã£o do Produto': 'Alimentos', 'Valor em Reais (R$)': '54.85', 'Quantidade em Estoque': '26', 'Nome da Loja': 'Filial 7', 'Data da Venda': '2023-02-03 03:29:53.201930'}\n",
            "{'Nome do Item': 'Blush em pÃ³', 'ClassificaÃ§Ã£o do Produto': 'EletrÃ´nicos', 'Valor em Reais (R$)': '92.82', 'Quantidade em Estoque': '68', 'Nome da Loja': 'Filial 2', 'Data da Venda': '2023-05-06 03:29:53.201930'}\n",
            "{'Nome do Item': 'Base lÃ\\xadquida', 'ClassificaÃ§Ã£o do Produto': 'Alimentos', 'Valor em Reais (R$)': '94.76', 'Quantidade em Estoque': '61', 'Nome da Loja': 'Filial 8', 'Data da Venda': '2022-09-01 03:29:53.201930'}\n",
            "{'Nome do Item': 'Batom lÃ\\xadquido', 'ClassificaÃ§Ã£o do Produto': 'EletrodomÃ©sticos', 'Valor em Reais (R$)': '45.66', 'Quantidade em Estoque': '21', 'Nome da Loja': 'Filial 3', 'Data da Venda': '2023-07-14 03:29:53.201930'}\n",
            "{'Nome do Item': 'Batom matte', 'ClassificaÃ§Ã£o do Produto': 'EletrodomÃ©sticos', 'Valor em Reais (R$)': '60.42', 'Quantidade em Estoque': '44', 'Nome da Loja': 'Filial 4', 'Data da Venda': '2022-10-22 03:29:53.201930'}\n",
            "{'Nome do Item': 'Corretivo', 'ClassificaÃ§Ã£o do Produto': 'Alimentos', 'Valor em Reais (R$)': '73.63', 'Quantidade em Estoque': '96', 'Nome da Loja': 'Filial 9', 'Data da Venda': '2022-10-02 03:29:53.201930'}\n",
            "{'Nome do Item': 'Corretivo', 'ClassificaÃ§Ã£o do Produto': 'EletrÃ´nicos', 'Valor em Reais (R$)': '78.24', 'Quantidade em Estoque': '5', 'Nome da Loja': 'Filial 2', 'Data da Venda': '2023-02-22 03:29:53.201930'}\n",
            "{'Nome do Item': 'Corretivo', 'ClassificaÃ§Ã£o do Produto': 'Alimentos', 'Valor em Reais (R$)': '15.67', 'Quantidade em Estoque': '47', 'Nome da Loja': 'Filial 8', 'Data da Venda': '2023-06-29 03:29:53.201930'}\n",
            "{'Nome do Item': 'PÃ³ compacto', 'ClassificaÃ§Ã£o do Produto': 'Roupas', 'Valor em Reais (R$)': '63.88', 'Quantidade em Estoque': '55', 'Nome da Loja': 'Filial 1', 'Data da Venda': '2023-01-22 03:29:53.201930'}\n",
            "{'Nome do Item': 'Delineador lÃ\\xadquido', 'ClassificaÃ§Ã£o do Produto': 'Alimentos', 'Valor em Reais (R$)': '58.72', 'Quantidade em Estoque': '53', 'Nome da Loja': 'Filial 5', 'Data da Venda': '2023-08-11 03:29:53.201930'}\n",
            "{'Nome do Item': 'Batom lÃ\\xadquido', 'ClassificaÃ§Ã£o do Produto': 'EletrÃ´nicos', 'Valor em Reais (R$)': '71.38', 'Quantidade em Estoque': '92', 'Nome da Loja': 'Filial 2', 'Data da Venda': '2023-06-28 03:29:53.201930'}\n",
            "{'Nome do Item': 'Sombra de olhos', 'ClassificaÃ§Ã£o do Produto': 'Alimentos', 'Valor em Reais (R$)': '76.87', 'Quantidade em Estoque': '81', 'Nome da Loja': 'Filial 4', 'Data da Venda': '2022-10-17 03:29:53.201930'}\n",
            "{'Nome do Item': 'Batom matte', 'ClassificaÃ§Ã£o do Produto': 'Alimentos', 'Valor em Reais (R$)': '97.36', 'Quantidade em Estoque': '66', 'Nome da Loja': 'Filial 9', 'Data da Venda': '2023-06-18 03:29:53.201930'}\n",
            "{'Nome do Item': 'Batom lÃ\\xadquido', 'ClassificaÃ§Ã£o do Produto': 'EletrodomÃ©sticos', 'Valor em Reais (R$)': '10.26', 'Quantidade em Estoque': '25', 'Nome da Loja': 'Filial 4', 'Data da Venda': '2022-08-29 03:29:53.201930'}\n",
            "{'Nome do Item': 'MÃ¡scara de cÃ\\xadlios', 'ClassificaÃ§Ã£o do Produto': 'Alimentos', 'Valor em Reais (R$)': '71.37', 'Quantidade em Estoque': '66', 'Nome da Loja': 'Filial 3', 'Data da Venda': '2022-08-28 03:29:53.201930'}\n",
            "{'Nome do Item': 'MÃ¡scara de cÃ\\xadlios', 'ClassificaÃ§Ã£o do Produto': 'Roupas', 'Valor em Reais (R$)': '17.74', 'Quantidade em Estoque': '49', 'Nome da Loja': 'Filial 6', 'Data da Venda': '2023-05-01 03:29:53.201930'}\n",
            "{'Nome do Item': 'Corretivo', 'ClassificaÃ§Ã£o do Produto': 'Alimentos', 'Valor em Reais (R$)': '19.76', 'Quantidade em Estoque': '4', 'Nome da Loja': 'Filial 2', 'Data da Venda': '2023-08-18 03:29:53.201930'}\n",
            "{'Nome do Item': 'LÃ¡pis de sobrancelha', 'ClassificaÃ§Ã£o do Produto': 'Alimentos', 'Valor em Reais (R$)': '38.88', 'Quantidade em Estoque': '60', 'Nome da Loja': 'Filial 10', 'Data da Venda': '2023-02-08 03:29:53.201930'}\n",
            "{'Nome do Item': 'MÃ¡scara de cÃ\\xadlios', 'ClassificaÃ§Ã£o do Produto': 'EletrodomÃ©sticos', 'Valor em Reais (R$)': '41.58', 'Quantidade em Estoque': '63', 'Nome da Loja': 'Filial 6', 'Data da Venda': '2023-03-07 03:29:53.201930'}\n",
            "{'Nome do Item': 'Sombra de olhos', 'ClassificaÃ§Ã£o do Produto': 'Alimentos', 'Valor em Reais (R$)': '26.4', 'Quantidade em Estoque': '58', 'Nome da Loja': 'Filial 4', 'Data da Venda': '2022-10-06 03:29:53.201930'}\n",
            "{'Nome do Item': 'Batom lÃ\\xadquido', 'ClassificaÃ§Ã£o do Produto': 'Alimentos', 'Valor em Reais (R$)': '8.15', 'Quantidade em Estoque': '7', 'Nome da Loja': 'Filial 7', 'Data da Venda': '2023-04-13 03:29:53.201930'}\n",
            "{'Nome do Item': 'Batom matte', 'ClassificaÃ§Ã£o do Produto': 'Alimentos', 'Valor em Reais (R$)': '24.32', 'Quantidade em Estoque': '8', 'Nome da Loja': 'Filial 10', 'Data da Venda': '2023-04-12 03:29:53.201930'}\n",
            "{'Nome do Item': 'Corretivo', 'ClassificaÃ§Ã£o do Produto': 'EletrÃ´nicos', 'Valor em Reais (R$)': '76.73', 'Quantidade em Estoque': '35', 'Nome da Loja': 'Filial 9', 'Data da Venda': '2023-01-09 03:29:53.201930'}\n",
            "{'Nome do Item': 'Batom matte', 'ClassificaÃ§Ã£o do Produto': 'Alimentos', 'Valor em Reais (R$)': '93.0', 'Quantidade em Estoque': '31', 'Nome da Loja': 'Filial 2', 'Data da Venda': '2023-02-28 03:29:53.201930'}\n",
            "{'Nome do Item': 'Base lÃ\\xadquida', 'ClassificaÃ§Ã£o do Produto': 'EletrÃ´nicos', 'Valor em Reais (R$)': '87.25', 'Quantidade em Estoque': '68', 'Nome da Loja': 'Filial 2', 'Data da Venda': '2023-04-17 03:29:53.201930'}\n",
            "{'Nome do Item': 'PÃ³ compacto', 'ClassificaÃ§Ã£o do Produto': 'Roupas', 'Valor em Reais (R$)': '30.97', 'Quantidade em Estoque': '3', 'Nome da Loja': 'Filial 7', 'Data da Venda': '2023-07-29 03:29:53.201930'}\n",
            "{'Nome do Item': 'Blush em pÃ³', 'ClassificaÃ§Ã£o do Produto': 'Alimentos', 'Valor em Reais (R$)': '72.67', 'Quantidade em Estoque': '68', 'Nome da Loja': 'Filial 7', 'Data da Venda': '2023-01-18 03:29:53.201930'}\n",
            "{'Nome do Item': 'Batom lÃ\\xadquido', 'ClassificaÃ§Ã£o do Produto': 'Alimentos', 'Valor em Reais (R$)': '19.48', 'Quantidade em Estoque': '34', 'Nome da Loja': 'Filial 2', 'Data da Venda': '2023-02-10 03:29:53.201930'}\n",
            "{'Nome do Item': 'Delineador lÃ\\xadquido', 'ClassificaÃ§Ã£o do Produto': 'EletrÃ´nicos', 'Valor em Reais (R$)': '58.99', 'Quantidade em Estoque': '25', 'Nome da Loja': 'Filial 5', 'Data da Venda': '2023-04-30 03:29:53.201930'}\n",
            "{'Nome do Item': 'Sombra de olhos', 'ClassificaÃ§Ã£o do Produto': 'Roupas', 'Valor em Reais (R$)': '79.04', 'Quantidade em Estoque': '12', 'Nome da Loja': 'Filial 5', 'Data da Venda': '2023-06-17 03:29:53.201930'}\n",
            "{'Nome do Item': 'PÃ³ compacto', 'ClassificaÃ§Ã£o do Produto': 'Roupas', 'Valor em Reais (R$)': '49.95', 'Quantidade em Estoque': '2', 'Nome da Loja': 'Filial 3', 'Data da Venda': '2022-11-05 03:29:53.201930'}\n",
            "{'Nome do Item': 'Corretivo', 'ClassificaÃ§Ã£o do Produto': 'Alimentos', 'Valor em Reais (R$)': '47.09', 'Quantidade em Estoque': '65', 'Nome da Loja': 'Filial 9', 'Data da Venda': '2023-04-10 03:29:53.201930'}\n",
            "{'Nome do Item': 'Blush em pÃ³', 'ClassificaÃ§Ã£o do Produto': 'EletrÃ´nicos', 'Valor em Reais (R$)': '89.97', 'Quantidade em Estoque': '19', 'Nome da Loja': 'Filial 9', 'Data da Venda': '2023-05-19 03:29:53.201930'}\n",
            "{'Nome do Item': 'Corretivo', 'ClassificaÃ§Ã£o do Produto': 'Alimentos', 'Valor em Reais (R$)': '14.07', 'Quantidade em Estoque': '44', 'Nome da Loja': 'Filial 1', 'Data da Venda': '2023-03-09 03:29:53.201930'}\n",
            "{'Nome do Item': 'PÃ³ compacto', 'ClassificaÃ§Ã£o do Produto': 'EletrÃ´nicos', 'Valor em Reais (R$)': '46.29', 'Quantidade em Estoque': '92', 'Nome da Loja': 'Filial 9', 'Data da Venda': '2022-11-16 03:29:53.201930'}\n",
            "{'Nome do Item': 'Corretivo', 'ClassificaÃ§Ã£o do Produto': 'Alimentos', 'Valor em Reais (R$)': '10.11', 'Quantidade em Estoque': '96', 'Nome da Loja': 'Filial 8', 'Data da Venda': '2023-08-09 03:29:53.201930'}\n",
            "{'Nome do Item': 'Corretivo', 'ClassificaÃ§Ã£o do Produto': 'Roupas', 'Valor em Reais (R$)': '77.01', 'Quantidade em Estoque': '25', 'Nome da Loja': 'Filial 10', 'Data da Venda': '2023-08-11 03:29:53.201930'}\n",
            "{'Nome do Item': 'Sombra de olhos', 'ClassificaÃ§Ã£o do Produto': 'EletrodomÃ©sticos', 'Valor em Reais (R$)': '64.67', 'Quantidade em Estoque': '72', 'Nome da Loja': 'Filial 5', 'Data da Venda': '2022-10-14 03:29:53.201930'}\n",
            "{'Nome do Item': 'Corretivo', 'ClassificaÃ§Ã£o do Produto': 'Roupas', 'Valor em Reais (R$)': '44.92', 'Quantidade em Estoque': '51', 'Nome da Loja': 'Filial 1', 'Data da Venda': '2022-08-28 03:29:53.201930'}\n",
            "{'Nome do Item': 'Corretivo', 'ClassificaÃ§Ã£o do Produto': 'EletrodomÃ©sticos', 'Valor em Reais (R$)': '96.48', 'Quantidade em Estoque': '20', 'Nome da Loja': 'Filial 10', 'Data da Venda': '2023-02-15 03:29:53.201930'}\n",
            "{'Nome do Item': 'Batom matte', 'ClassificaÃ§Ã£o do Produto': 'Alimentos', 'Valor em Reais (R$)': '46.0', 'Quantidade em Estoque': '80', 'Nome da Loja': 'Filial 10', 'Data da Venda': '2022-10-22 03:29:53.201930'}\n",
            "{'Nome do Item': 'Blush em pÃ³', 'ClassificaÃ§Ã£o do Produto': 'EletrodomÃ©sticos', 'Valor em Reais (R$)': '57.2', 'Quantidade em Estoque': '52', 'Nome da Loja': 'Filial 6', 'Data da Venda': '2023-06-09 03:29:53.201930'}\n",
            "{'Nome do Item': 'Blush em pÃ³', 'ClassificaÃ§Ã£o do Produto': 'EletrÃ´nicos', 'Valor em Reais (R$)': '71.42', 'Quantidade em Estoque': '100', 'Nome da Loja': 'Filial 2', 'Data da Venda': '2022-12-01 03:29:53.201930'}\n",
            "{'Nome do Item': 'Sombra de olhos', 'ClassificaÃ§Ã£o do Produto': 'EletrÃ´nicos', 'Valor em Reais (R$)': '83.78', 'Quantidade em Estoque': '18', 'Nome da Loja': 'Filial 1', 'Data da Venda': '2023-05-07 03:29:53.201930'}\n",
            "{'Nome do Item': 'PÃ³ compacto', 'ClassificaÃ§Ã£o do Produto': 'EletrÃ´nicos', 'Valor em Reais (R$)': '70.9', 'Quantidade em Estoque': '94', 'Nome da Loja': 'Filial 8', 'Data da Venda': '2023-06-29 03:29:53.201930'}\n",
            "{'Nome do Item': 'Batom matte', 'ClassificaÃ§Ã£o do Produto': 'EletrodomÃ©sticos', 'Valor em Reais (R$)': '27.36', 'Quantidade em Estoque': '69', 'Nome da Loja': 'Filial 5', 'Data da Venda': '2022-09-01 03:29:53.201930'}\n",
            "{'Nome do Item': 'Delineador lÃ\\xadquido', 'ClassificaÃ§Ã£o do Produto': 'EletrÃ´nicos', 'Valor em Reais (R$)': '18.05', 'Quantidade em Estoque': '64', 'Nome da Loja': 'Filial 1', 'Data da Venda': '2023-07-10 03:29:53.201930'}\n",
            "{'Nome do Item': 'Sombra de olhos', 'ClassificaÃ§Ã£o do Produto': 'EletrodomÃ©sticos', 'Valor em Reais (R$)': '2.36', 'Quantidade em Estoque': '99', 'Nome da Loja': 'Filial 1', 'Data da Venda': '2022-09-01 03:29:53.201930'}\n",
            "{'Nome do Item': 'Blush em pÃ³', 'ClassificaÃ§Ã£o do Produto': 'EletrÃ´nicos', 'Valor em Reais (R$)': '93.45', 'Quantidade em Estoque': '6', 'Nome da Loja': 'Filial 6', 'Data da Venda': '2022-10-07 03:29:53.201930'}\n",
            "{'Nome do Item': 'Delineador lÃ\\xadquido', 'ClassificaÃ§Ã£o do Produto': 'Alimentos', 'Valor em Reais (R$)': '19.32', 'Quantidade em Estoque': '54', 'Nome da Loja': 'Filial 1', 'Data da Venda': '2022-12-09 03:29:53.201930'}\n",
            "{'Nome do Item': 'Batom matte', 'ClassificaÃ§Ã£o do Produto': 'EletrÃ´nicos', 'Valor em Reais (R$)': '83.18', 'Quantidade em Estoque': '43', 'Nome da Loja': 'Filial 2', 'Data da Venda': '2023-02-09 03:29:53.201930'}\n",
            "{'Nome do Item': 'Blush em pÃ³', 'ClassificaÃ§Ã£o do Produto': 'EletrodomÃ©sticos', 'Valor em Reais (R$)': '40.7', 'Quantidade em Estoque': '29', 'Nome da Loja': 'Filial 10', 'Data da Venda': '2022-12-24 03:29:53.201930'}\n",
            "{'Nome do Item': 'Batom matte', 'ClassificaÃ§Ã£o do Produto': 'EletrÃ´nicos', 'Valor em Reais (R$)': '7.32', 'Quantidade em Estoque': '65', 'Nome da Loja': 'Filial 1', 'Data da Venda': '2023-07-18 03:29:53.201930'}\n",
            "{'Nome do Item': 'Delineador lÃ\\xadquido', 'ClassificaÃ§Ã£o do Produto': 'EletrodomÃ©sticos', 'Valor em Reais (R$)': '85.72', 'Quantidade em Estoque': '33', 'Nome da Loja': 'Filial 8', 'Data da Venda': '2022-08-29 03:29:53.201930'}\n",
            "{'Nome do Item': 'LÃ¡pis de sobrancelha', 'ClassificaÃ§Ã£o do Produto': 'EletrodomÃ©sticos', 'Valor em Reais (R$)': '28.61', 'Quantidade em Estoque': '30', 'Nome da Loja': 'Filial 5', 'Data da Venda': '2022-11-18 03:29:53.201930'}\n",
            "{'Nome do Item': 'LÃ¡pis de sobrancelha', 'ClassificaÃ§Ã£o do Produto': 'Roupas', 'Valor em Reais (R$)': '87.31', 'Quantidade em Estoque': '70', 'Nome da Loja': 'Filial 6', 'Data da Venda': '2023-07-27 03:29:53.201930'}\n",
            "{'Nome do Item': 'Blush em pÃ³', 'ClassificaÃ§Ã£o do Produto': 'Alimentos', 'Valor em Reais (R$)': '32.27', 'Quantidade em Estoque': '94', 'Nome da Loja': 'Filial 4', 'Data da Venda': '2023-07-31 03:29:53.201930'}\n",
            "{'Nome do Item': 'PÃ³ compacto', 'ClassificaÃ§Ã£o do Produto': 'Roupas', 'Valor em Reais (R$)': '30.31', 'Quantidade em Estoque': '86', 'Nome da Loja': 'Filial 2', 'Data da Venda': '2023-07-02 03:29:53.201930'}\n",
            "{'Nome do Item': 'Delineador lÃ\\xadquido', 'ClassificaÃ§Ã£o do Produto': 'Roupas', 'Valor em Reais (R$)': '62.77', 'Quantidade em Estoque': '47', 'Nome da Loja': 'Filial 5', 'Data da Venda': '2023-06-16 03:29:53.201930'}\n",
            "{'Nome do Item': 'Batom lÃ\\xadquido', 'ClassificaÃ§Ã£o do Produto': 'EletrodomÃ©sticos', 'Valor em Reais (R$)': '66.84', 'Quantidade em Estoque': '5', 'Nome da Loja': 'Filial 3', 'Data da Venda': '2023-06-04 03:29:53.201930'}\n",
            "{'Nome do Item': 'Batom matte', 'ClassificaÃ§Ã£o do Produto': 'EletrodomÃ©sticos', 'Valor em Reais (R$)': '24.98', 'Quantidade em Estoque': '60', 'Nome da Loja': 'Filial 6', 'Data da Venda': '2022-11-07 03:29:53.201930'}\n",
            "{'Nome do Item': 'LÃ¡pis de sobrancelha', 'ClassificaÃ§Ã£o do Produto': 'Alimentos', 'Valor em Reais (R$)': '17.22', 'Quantidade em Estoque': '31', 'Nome da Loja': 'Filial 7', 'Data da Venda': '2023-03-16 03:29:53.201930'}\n",
            "{'Nome do Item': 'Sombra de olhos', 'ClassificaÃ§Ã£o do Produto': 'EletrodomÃ©sticos', 'Valor em Reais (R$)': '15.48', 'Quantidade em Estoque': '91', 'Nome da Loja': 'Filial 3', 'Data da Venda': '2023-02-03 03:29:53.201930'}\n",
            "{'Nome do Item': 'Batom lÃ\\xadquido', 'ClassificaÃ§Ã£o do Produto': 'EletrÃ´nicos', 'Valor em Reais (R$)': '51.02', 'Quantidade em Estoque': '25', 'Nome da Loja': 'Filial 10', 'Data da Venda': '2023-07-08 03:29:53.201930'}\n",
            "{'Nome do Item': 'Sombra de olhos', 'ClassificaÃ§Ã£o do Produto': 'Alimentos', 'Valor em Reais (R$)': '61.62', 'Quantidade em Estoque': '84', 'Nome da Loja': 'Filial 7', 'Data da Venda': '2023-01-14 03:29:53.201930'}\n",
            "{'Nome do Item': 'Batom matte', 'ClassificaÃ§Ã£o do Produto': 'Alimentos', 'Valor em Reais (R$)': '71.73', 'Quantidade em Estoque': '90', 'Nome da Loja': 'Filial 8', 'Data da Venda': '2022-09-09 03:29:53.201930'}\n",
            "{'Nome do Item': 'Batom matte', 'ClassificaÃ§Ã£o do Produto': 'EletrÃ´nicos', 'Valor em Reais (R$)': '79.78', 'Quantidade em Estoque': '56', 'Nome da Loja': 'Filial 2', 'Data da Venda': '2023-01-15 03:29:53.201930'}\n",
            "{'Nome do Item': 'PÃ³ compacto', 'ClassificaÃ§Ã£o do Produto': 'EletrodomÃ©sticos', 'Valor em Reais (R$)': '84.31', 'Quantidade em Estoque': '54', 'Nome da Loja': 'Filial 1', 'Data da Venda': '2022-12-08 03:29:53.201930'}\n",
            "{'Nome do Item': 'PÃ³ compacto', 'ClassificaÃ§Ã£o do Produto': 'Alimentos', 'Valor em Reais (R$)': '42.86', 'Quantidade em Estoque': '56', 'Nome da Loja': 'Filial 4', 'Data da Venda': '2022-10-29 03:29:53.201930'}\n",
            "{'Nome do Item': 'Corretivo', 'ClassificaÃ§Ã£o do Produto': 'EletrodomÃ©sticos', 'Valor em Reais (R$)': '31.83', 'Quantidade em Estoque': '75', 'Nome da Loja': 'Filial 6', 'Data da Venda': '2022-10-30 03:29:53.201930'}\n",
            "{'Nome do Item': 'Sombra de olhos', 'ClassificaÃ§Ã£o do Produto': 'EletrodomÃ©sticos', 'Valor em Reais (R$)': '17.6', 'Quantidade em Estoque': '51', 'Nome da Loja': 'Filial 6', 'Data da Venda': '2023-04-12 03:29:53.201930'}\n",
            "{'Nome do Item': 'Blush em pÃ³', 'ClassificaÃ§Ã£o do Produto': 'EletrodomÃ©sticos', 'Valor em Reais (R$)': '76.89', 'Quantidade em Estoque': '10', 'Nome da Loja': 'Filial 9', 'Data da Venda': '2022-11-03 03:29:53.201930'}\n",
            "{'Nome do Item': 'Sombra de olhos', 'ClassificaÃ§Ã£o do Produto': 'Roupas', 'Valor em Reais (R$)': '19.99', 'Quantidade em Estoque': '52', 'Nome da Loja': 'Filial 2', 'Data da Venda': '2022-11-14 03:29:53.201930'}\n",
            "{'Nome do Item': 'Delineador lÃ\\xadquido', 'ClassificaÃ§Ã£o do Produto': 'EletrodomÃ©sticos', 'Valor em Reais (R$)': '53.01', 'Quantidade em Estoque': '87', 'Nome da Loja': 'Filial 9', 'Data da Venda': '2022-10-03 03:29:53.201930'}\n",
            "{'Nome do Item': 'Delineador lÃ\\xadquido', 'ClassificaÃ§Ã£o do Produto': 'Roupas', 'Valor em Reais (R$)': '9.64', 'Quantidade em Estoque': '76', 'Nome da Loja': 'Filial 3', 'Data da Venda': '2023-07-16 03:29:53.201930'}\n",
            "{'Nome do Item': 'Base lÃ\\xadquida', 'ClassificaÃ§Ã£o do Produto': 'Roupas', 'Valor em Reais (R$)': '52.78', 'Quantidade em Estoque': '86', 'Nome da Loja': 'Filial 8', 'Data da Venda': '2023-04-25 03:29:53.201930'}\n",
            "{'Nome do Item': 'Corretivo', 'ClassificaÃ§Ã£o do Produto': 'Alimentos', 'Valor em Reais (R$)': '80.99', 'Quantidade em Estoque': '87', 'Nome da Loja': 'Filial 10', 'Data da Venda': '2023-04-06 03:29:53.201930'}\n",
            "{'Nome do Item': 'Base lÃ\\xadquida', 'ClassificaÃ§Ã£o do Produto': 'Alimentos', 'Valor em Reais (R$)': '1.43', 'Quantidade em Estoque': '63', 'Nome da Loja': 'Filial 10', 'Data da Venda': '2023-03-13 03:29:53.201930'}\n",
            "{'Nome do Item': 'LÃ¡pis de sobrancelha', 'ClassificaÃ§Ã£o do Produto': 'EletrÃ´nicos', 'Valor em Reais (R$)': '24.1', 'Quantidade em Estoque': '12', 'Nome da Loja': 'Filial 3', 'Data da Venda': '2023-08-10 03:29:53.201930'}\n",
            "{'Nome do Item': 'PÃ³ compacto', 'ClassificaÃ§Ã£o do Produto': 'EletrodomÃ©sticos', 'Valor em Reais (R$)': '84.03', 'Quantidade em Estoque': '12', 'Nome da Loja': 'Filial 1', 'Data da Venda': '2023-01-09 03:29:53.201930'}\n",
            "{'Nome do Item': 'Batom lÃ\\xadquido', 'ClassificaÃ§Ã£o do Produto': 'Alimentos', 'Valor em Reais (R$)': '82.98', 'Quantidade em Estoque': '37', 'Nome da Loja': 'Filial 2', 'Data da Venda': '2023-06-17 03:29:53.201930'}\n",
            "{'Nome do Item': 'Corretivo', 'ClassificaÃ§Ã£o do Produto': 'Alimentos', 'Valor em Reais (R$)': '41.71', 'Quantidade em Estoque': '38', 'Nome da Loja': 'Filial 5', 'Data da Venda': '2022-09-05 03:29:53.201930'}\n",
            "{'Nome do Item': 'Corretivo', 'ClassificaÃ§Ã£o do Produto': 'EletrodomÃ©sticos', 'Valor em Reais (R$)': '82.59', 'Quantidade em Estoque': '33', 'Nome da Loja': 'Filial 8', 'Data da Venda': '2022-08-24 03:29:53.201930'}\n",
            "{'Nome do Item': 'MÃ¡scara de cÃ\\xadlios', 'ClassificaÃ§Ã£o do Produto': 'Alimentos', 'Valor em Reais (R$)': '57.57', 'Quantidade em Estoque': '43', 'Nome da Loja': 'Filial 3', 'Data da Venda': '2023-01-25 03:29:53.201930'}\n",
            "{'Nome do Item': 'LÃ¡pis de sobrancelha', 'ClassificaÃ§Ã£o do Produto': 'EletrÃ´nicos', 'Valor em Reais (R$)': '37.99', 'Quantidade em Estoque': '50', 'Nome da Loja': 'Filial 1', 'Data da Venda': '2022-11-28 03:29:53.201930'}\n",
            "{'Nome do Item': 'MÃ¡scara de cÃ\\xadlios', 'ClassificaÃ§Ã£o do Produto': 'Roupas', 'Valor em Reais (R$)': '9.59', 'Quantidade em Estoque': '74', 'Nome da Loja': 'Filial 8', 'Data da Venda': '2022-11-18 03:29:53.201930'}\n",
            "{'Nome do Item': 'Batom lÃ\\xadquido', 'ClassificaÃ§Ã£o do Produto': 'Alimentos', 'Valor em Reais (R$)': '2.44', 'Quantidade em Estoque': '27', 'Nome da Loja': 'Filial 6', 'Data da Venda': '2022-09-14 03:29:53.201930'}\n",
            "{'Nome do Item': 'Corretivo', 'ClassificaÃ§Ã£o do Produto': 'Roupas', 'Valor em Reais (R$)': '29.6', 'Quantidade em Estoque': '65', 'Nome da Loja': 'Filial 9', 'Data da Venda': '2023-01-04 03:29:53.201930'}\n",
            "{'Nome do Item': 'Base lÃ\\xadquida', 'ClassificaÃ§Ã£o do Produto': 'Alimentos', 'Valor em Reais (R$)': '19.99', 'Quantidade em Estoque': '28', 'Nome da Loja': 'Filial 1', 'Data da Venda': '2023-08-17 03:29:53.201930'}\n",
            "{'Nome do Item': 'LÃ¡pis de sobrancelha', 'ClassificaÃ§Ã£o do Produto': 'EletrÃ´nicos', 'Valor em Reais (R$)': '68.51', 'Quantidade em Estoque': '64', 'Nome da Loja': 'Filial 9', 'Data da Venda': '2023-08-20 03:29:53.201930'}\n",
            "{'Nome do Item': 'Sombra de olhos', 'ClassificaÃ§Ã£o do Produto': 'EletrÃ´nicos', 'Valor em Reais (R$)': '82.31', 'Quantidade em Estoque': '92', 'Nome da Loja': 'Filial 10', 'Data da Venda': '2022-10-06 03:29:53.201930'}\n",
            "{'Nome do Item': 'PÃ³ compacto', 'ClassificaÃ§Ã£o do Produto': 'EletrodomÃ©sticos', 'Valor em Reais (R$)': '12.88', 'Quantidade em Estoque': '23', 'Nome da Loja': 'Filial 1', 'Data da Venda': '2023-02-03 03:29:53.201930'}\n",
            "{'Nome do Item': 'PÃ³ compacto', 'ClassificaÃ§Ã£o do Produto': 'Alimentos', 'Valor em Reais (R$)': '87.56', 'Quantidade em Estoque': '1', 'Nome da Loja': 'Filial 2', 'Data da Venda': '2022-11-26 03:29:53.201930'}\n",
            "{'Nome do Item': 'PÃ³ compacto', 'ClassificaÃ§Ã£o do Produto': 'Roupas', 'Valor em Reais (R$)': '85.38', 'Quantidade em Estoque': '15', 'Nome da Loja': 'Filial 3', 'Data da Venda': '2023-07-25 03:29:53.201930'}\n",
            "{'Nome do Item': 'Sombra de olhos', 'ClassificaÃ§Ã£o do Produto': 'EletrodomÃ©sticos', 'Valor em Reais (R$)': '93.77', 'Quantidade em Estoque': '4', 'Nome da Loja': 'Filial 1', 'Data da Venda': '2023-04-11 03:29:53.201930'}\n",
            "{'Nome do Item': 'Sombra de olhos', 'ClassificaÃ§Ã£o do Produto': 'EletrÃ´nicos', 'Valor em Reais (R$)': '2.7', 'Quantidade em Estoque': '7', 'Nome da Loja': 'Filial 3', 'Data da Venda': '2023-07-14 03:29:53.201930'}\n",
            "{'Nome do Item': 'Batom matte', 'ClassificaÃ§Ã£o do Produto': 'EletrodomÃ©sticos', 'Valor em Reais (R$)': '2.14', 'Quantidade em Estoque': '74', 'Nome da Loja': 'Filial 1', 'Data da Venda': '2023-08-04 03:29:53.201930'}\n",
            "{'Nome do Item': 'PÃ³ compacto', 'ClassificaÃ§Ã£o do Produto': 'Alimentos', 'Valor em Reais (R$)': '38.59', 'Quantidade em Estoque': '71', 'Nome da Loja': 'Filial 3', 'Data da Venda': '2022-09-01 03:29:53.201930'}\n",
            "{'Nome do Item': 'Base lÃ\\xadquida', 'ClassificaÃ§Ã£o do Produto': 'Alimentos', 'Valor em Reais (R$)': '37.88', 'Quantidade em Estoque': '98', 'Nome da Loja': 'Filial 4', 'Data da Venda': '2023-04-21 03:29:53.201930'}\n",
            "{'Nome do Item': 'MÃ¡scara de cÃ\\xadlios', 'ClassificaÃ§Ã£o do Produto': 'EletrodomÃ©sticos', 'Valor em Reais (R$)': '96.81', 'Quantidade em Estoque': '63', 'Nome da Loja': 'Filial 1', 'Data da Venda': '2022-11-10 03:29:53.201930'}\n",
            "{'Nome do Item': 'MÃ¡scara de cÃ\\xadlios', 'ClassificaÃ§Ã£o do Produto': 'EletrodomÃ©sticos', 'Valor em Reais (R$)': '69.51', 'Quantidade em Estoque': '17', 'Nome da Loja': 'Filial 8', 'Data da Venda': '2023-06-14 03:29:53.201930'}\n",
            "{'Nome do Item': 'Blush em pÃ³', 'ClassificaÃ§Ã£o do Produto': 'Alimentos', 'Valor em Reais (R$)': '90.77', 'Quantidade em Estoque': '36', 'Nome da Loja': 'Filial 7', 'Data da Venda': '2023-01-05 03:29:53.201930'}\n",
            "{'Nome do Item': 'PÃ³ compacto', 'ClassificaÃ§Ã£o do Produto': 'Alimentos', 'Valor em Reais (R$)': '98.15', 'Quantidade em Estoque': '9', 'Nome da Loja': 'Filial 7', 'Data da Venda': '2022-11-03 03:29:53.201930'}\n",
            "{'Nome do Item': 'Corretivo', 'ClassificaÃ§Ã£o do Produto': 'EletrÃ´nicos', 'Valor em Reais (R$)': '3.56', 'Quantidade em Estoque': '51', 'Nome da Loja': 'Filial 9', 'Data da Venda': '2023-07-03 03:29:53.201930'}\n",
            "{'Nome do Item': 'Batom matte', 'ClassificaÃ§Ã£o do Produto': 'Roupas', 'Valor em Reais (R$)': '77.93', 'Quantidade em Estoque': '23', 'Nome da Loja': 'Filial 4', 'Data da Venda': '2023-06-09 03:29:53.201930'}\n",
            "{'Nome do Item': 'Batom matte', 'ClassificaÃ§Ã£o do Produto': 'Roupas', 'Valor em Reais (R$)': '21.1', 'Quantidade em Estoque': '77', 'Nome da Loja': 'Filial 3', 'Data da Venda': '2023-07-27 03:29:53.201930'}\n",
            "{'Nome do Item': 'Batom matte', 'ClassificaÃ§Ã£o do Produto': 'Roupas', 'Valor em Reais (R$)': '4.78', 'Quantidade em Estoque': '5', 'Nome da Loja': 'Filial 1', 'Data da Venda': '2022-10-01 03:29:53.201930'}\n",
            "{'Nome do Item': 'PÃ³ compacto', 'ClassificaÃ§Ã£o do Produto': 'Alimentos', 'Valor em Reais (R$)': '35.5', 'Quantidade em Estoque': '59', 'Nome da Loja': 'Filial 7', 'Data da Venda': '2022-09-08 03:29:53.201930'}\n",
            "{'Nome do Item': 'Corretivo', 'ClassificaÃ§Ã£o do Produto': 'EletrÃ´nicos', 'Valor em Reais (R$)': '86.36', 'Quantidade em Estoque': '66', 'Nome da Loja': 'Filial 3', 'Data da Venda': '2023-01-24 03:29:53.201930'}\n",
            "{'Nome do Item': 'Batom matte', 'ClassificaÃ§Ã£o do Produto': 'Alimentos', 'Valor em Reais (R$)': '59.17', 'Quantidade em Estoque': '59', 'Nome da Loja': 'Filial 7', 'Data da Venda': '2022-08-26 03:29:53.201930'}\n",
            "{'Nome do Item': 'Blush em pÃ³', 'ClassificaÃ§Ã£o do Produto': 'EletrÃ´nicos', 'Valor em Reais (R$)': '73.3', 'Quantidade em Estoque': '35', 'Nome da Loja': 'Filial 5', 'Data da Venda': '2023-03-20 03:29:53.201930'}\n",
            "{'Nome do Item': 'Batom matte', 'ClassificaÃ§Ã£o do Produto': 'EletrÃ´nicos', 'Valor em Reais (R$)': '70.32', 'Quantidade em Estoque': '90', 'Nome da Loja': 'Filial 3', 'Data da Venda': '2023-03-23 03:29:53.201930'}\n",
            "{'Nome do Item': 'Base lÃ\\xadquida', 'ClassificaÃ§Ã£o do Produto': 'Alimentos', 'Valor em Reais (R$)': '50.82', 'Quantidade em Estoque': '47', 'Nome da Loja': 'Filial 10', 'Data da Venda': '2023-03-24 03:29:53.201930'}\n",
            "{'Nome do Item': 'Delineador lÃ\\xadquido', 'ClassificaÃ§Ã£o do Produto': 'EletrÃ´nicos', 'Valor em Reais (R$)': '9.15', 'Quantidade em Estoque': '33', 'Nome da Loja': 'Filial 6', 'Data da Venda': '2022-10-19 03:29:53.201930'}\n",
            "{'Nome do Item': 'Corretivo', 'ClassificaÃ§Ã£o do Produto': 'Alimentos', 'Valor em Reais (R$)': '31.84', 'Quantidade em Estoque': '41', 'Nome da Loja': 'Filial 7', 'Data da Venda': '2023-07-04 03:29:53.201930'}\n",
            "{'Nome do Item': 'PÃ³ compacto', 'ClassificaÃ§Ã£o do Produto': 'EletrodomÃ©sticos', 'Valor em Reais (R$)': '76.02', 'Quantidade em Estoque': '58', 'Nome da Loja': 'Filial 1', 'Data da Venda': '2023-06-14 03:29:53.201930'}\n",
            "{'Nome do Item': 'MÃ¡scara de cÃ\\xadlios', 'ClassificaÃ§Ã£o do Produto': 'EletrodomÃ©sticos', 'Valor em Reais (R$)': '11.69', 'Quantidade em Estoque': '23', 'Nome da Loja': 'Filial 6', 'Data da Venda': '2023-07-15 03:29:53.201930'}\n",
            "{'Nome do Item': 'LÃ¡pis de sobrancelha', 'ClassificaÃ§Ã£o do Produto': 'Alimentos', 'Valor em Reais (R$)': '44.48', 'Quantidade em Estoque': '57', 'Nome da Loja': 'Filial 2', 'Data da Venda': '2022-10-24 03:29:53.201930'}\n",
            "{'Nome do Item': 'Batom lÃ\\xadquido', 'ClassificaÃ§Ã£o do Produto': 'Roupas', 'Valor em Reais (R$)': '27.08', 'Quantidade em Estoque': '46', 'Nome da Loja': 'Filial 7', 'Data da Venda': '2022-12-18 03:29:53.201930'}\n",
            "{'Nome do Item': 'PÃ³ compacto', 'ClassificaÃ§Ã£o do Produto': 'EletrÃ´nicos', 'Valor em Reais (R$)': '38.3', 'Quantidade em Estoque': '56', 'Nome da Loja': 'Filial 10', 'Data da Venda': '2023-08-06 03:29:53.201930'}\n",
            "{'Nome do Item': 'PÃ³ compacto', 'ClassificaÃ§Ã£o do Produto': 'EletrodomÃ©sticos', 'Valor em Reais (R$)': '25.01', 'Quantidade em Estoque': '3', 'Nome da Loja': 'Filial 3', 'Data da Venda': '2023-08-22 03:29:53.201930'}\n",
            "{'Nome do Item': 'Batom matte', 'ClassificaÃ§Ã£o do Produto': 'Alimentos', 'Valor em Reais (R$)': '34.12', 'Quantidade em Estoque': '53', 'Nome da Loja': 'Filial 10', 'Data da Venda': '2022-10-01 03:29:53.201930'}\n",
            "{'Nome do Item': 'Corretivo', 'ClassificaÃ§Ã£o do Produto': 'EletrÃ´nicos', 'Valor em Reais (R$)': '50.52', 'Quantidade em Estoque': '74', 'Nome da Loja': 'Filial 7', 'Data da Venda': '2023-05-09 03:29:53.201930'}\n",
            "{'Nome do Item': 'Batom lÃ\\xadquido', 'ClassificaÃ§Ã£o do Produto': 'EletrodomÃ©sticos', 'Valor em Reais (R$)': '85.32', 'Quantidade em Estoque': '53', 'Nome da Loja': 'Filial 1', 'Data da Venda': '2023-04-30 03:29:53.201930'}\n",
            "{'Nome do Item': 'PÃ³ compacto', 'ClassificaÃ§Ã£o do Produto': 'Alimentos', 'Valor em Reais (R$)': '60.27', 'Quantidade em Estoque': '45', 'Nome da Loja': 'Filial 2', 'Data da Venda': '2023-04-01 03:29:53.201930'}\n",
            "{'Nome do Item': 'PÃ³ compacto', 'ClassificaÃ§Ã£o do Produto': 'EletrÃ´nicos', 'Valor em Reais (R$)': '2.82', 'Quantidade em Estoque': '53', 'Nome da Loja': 'Filial 7', 'Data da Venda': '2023-08-20 03:29:53.201930'}\n",
            "{'Nome do Item': 'Base lÃ\\xadquida', 'ClassificaÃ§Ã£o do Produto': 'Alimentos', 'Valor em Reais (R$)': '97.89', 'Quantidade em Estoque': '76', 'Nome da Loja': 'Filial 5', 'Data da Venda': '2023-06-13 03:29:53.201930'}\n",
            "{'Nome do Item': 'Sombra de olhos', 'ClassificaÃ§Ã£o do Produto': 'EletrodomÃ©sticos', 'Valor em Reais (R$)': '94.57', 'Quantidade em Estoque': '76', 'Nome da Loja': 'Filial 10', 'Data da Venda': '2023-02-04 03:29:53.201930'}\n",
            "{'Nome do Item': 'Delineador lÃ\\xadquido', 'ClassificaÃ§Ã£o do Produto': 'EletrÃ´nicos', 'Valor em Reais (R$)': '15.75', 'Quantidade em Estoque': '80', 'Nome da Loja': 'Filial 2', 'Data da Venda': '2023-03-10 03:29:53.201930'}\n",
            "{'Nome do Item': 'Blush em pÃ³', 'ClassificaÃ§Ã£o do Produto': 'Alimentos', 'Valor em Reais (R$)': '64.35', 'Quantidade em Estoque': '4', 'Nome da Loja': 'Filial 7', 'Data da Venda': '2023-06-30 03:29:53.201930'}\n",
            "{'Nome do Item': 'Base lÃ\\xadquida', 'ClassificaÃ§Ã£o do Produto': 'Roupas', 'Valor em Reais (R$)': '47.71', 'Quantidade em Estoque': '83', 'Nome da Loja': 'Filial 8', 'Data da Venda': '2023-06-08 03:29:53.201930'}\n",
            "{'Nome do Item': 'Corretivo', 'ClassificaÃ§Ã£o do Produto': 'EletrodomÃ©sticos', 'Valor em Reais (R$)': '93.69', 'Quantidade em Estoque': '14', 'Nome da Loja': 'Filial 3', 'Data da Venda': '2023-03-21 03:29:53.201930'}\n",
            "{'Nome do Item': 'Blush em pÃ³', 'ClassificaÃ§Ã£o do Produto': 'Roupas', 'Valor em Reais (R$)': '61.93', 'Quantidade em Estoque': '77', 'Nome da Loja': 'Filial 4', 'Data da Venda': '2022-09-15 03:29:53.201930'}\n",
            "{'Nome do Item': 'Sombra de olhos', 'ClassificaÃ§Ã£o do Produto': 'Roupas', 'Valor em Reais (R$)': '27.17', 'Quantidade em Estoque': '48', 'Nome da Loja': 'Filial 4', 'Data da Venda': '2023-08-17 03:29:53.201930'}\n",
            "{'Nome do Item': 'Blush em pÃ³', 'ClassificaÃ§Ã£o do Produto': 'EletrodomÃ©sticos', 'Valor em Reais (R$)': '94.63', 'Quantidade em Estoque': '16', 'Nome da Loja': 'Filial 4', 'Data da Venda': '2022-09-23 03:29:53.201930'}\n",
            "{'Nome do Item': 'Corretivo', 'ClassificaÃ§Ã£o do Produto': 'EletrodomÃ©sticos', 'Valor em Reais (R$)': '96.27', 'Quantidade em Estoque': '73', 'Nome da Loja': 'Filial 6', 'Data da Venda': '2023-03-14 03:29:53.201930'}\n",
            "{'Nome do Item': 'PÃ³ compacto', 'ClassificaÃ§Ã£o do Produto': 'Alimentos', 'Valor em Reais (R$)': '52.23', 'Quantidade em Estoque': '51', 'Nome da Loja': 'Filial 9', 'Data da Venda': '2022-11-19 03:29:53.201930'}\n",
            "{'Nome do Item': 'Base lÃ\\xadquida', 'ClassificaÃ§Ã£o do Produto': 'Alimentos', 'Valor em Reais (R$)': '73.02', 'Quantidade em Estoque': '61', 'Nome da Loja': 'Filial 5', 'Data da Venda': '2023-03-29 03:29:53.201930'}\n",
            "{'Nome do Item': 'Batom matte', 'ClassificaÃ§Ã£o do Produto': 'Roupas', 'Valor em Reais (R$)': '76.5', 'Quantidade em Estoque': '43', 'Nome da Loja': 'Filial 8', 'Data da Venda': '2023-04-27 03:29:53.201930'}\n",
            "{'Nome do Item': 'Sombra de olhos', 'ClassificaÃ§Ã£o do Produto': 'Alimentos', 'Valor em Reais (R$)': '94.47', 'Quantidade em Estoque': '57', 'Nome da Loja': 'Filial 9', 'Data da Venda': '2023-04-04 03:29:53.201930'}\n",
            "{'Nome do Item': 'PÃ³ compacto', 'ClassificaÃ§Ã£o do Produto': 'EletrodomÃ©sticos', 'Valor em Reais (R$)': '50.3', 'Quantidade em Estoque': '76', 'Nome da Loja': 'Filial 3', 'Data da Venda': '2023-08-22 03:29:53.201930'}\n",
            "{'Nome do Item': 'Sombra de olhos', 'ClassificaÃ§Ã£o do Produto': 'Alimentos', 'Valor em Reais (R$)': '29.7', 'Quantidade em Estoque': '11', 'Nome da Loja': 'Filial 8', 'Data da Venda': '2023-01-18 03:29:53.201930'}\n",
            "{'Nome do Item': 'Base lÃ\\xadquida', 'ClassificaÃ§Ã£o do Produto': 'EletrÃ´nicos', 'Valor em Reais (R$)': '55.7', 'Quantidade em Estoque': '13', 'Nome da Loja': 'Filial 6', 'Data da Venda': '2023-02-24 03:29:53.201930'}\n",
            "{'Nome do Item': 'PÃ³ compacto', 'ClassificaÃ§Ã£o do Produto': 'Alimentos', 'Valor em Reais (R$)': '50.36', 'Quantidade em Estoque': '48', 'Nome da Loja': 'Filial 10', 'Data da Venda': '2023-07-16 03:29:53.201930'}\n",
            "{'Nome do Item': 'Sombra de olhos', 'ClassificaÃ§Ã£o do Produto': 'Alimentos', 'Valor em Reais (R$)': '12.09', 'Quantidade em Estoque': '60', 'Nome da Loja': 'Filial 2', 'Data da Venda': '2023-05-20 03:29:53.201930'}\n",
            "{'Nome do Item': 'Batom lÃ\\xadquido', 'ClassificaÃ§Ã£o do Produto': 'Roupas', 'Valor em Reais (R$)': '51.96', 'Quantidade em Estoque': '12', 'Nome da Loja': 'Filial 6', 'Data da Venda': '2023-02-02 03:29:53.201930'}\n",
            "{'Nome do Item': 'Delineador lÃ\\xadquido', 'ClassificaÃ§Ã£o do Produto': 'Roupas', 'Valor em Reais (R$)': '97.02', 'Quantidade em Estoque': '24', 'Nome da Loja': 'Filial 3', 'Data da Venda': '2023-03-15 03:29:53.201930'}\n",
            "{'Nome do Item': 'Sombra de olhos', 'ClassificaÃ§Ã£o do Produto': 'EletrodomÃ©sticos', 'Valor em Reais (R$)': '29.8', 'Quantidade em Estoque': '25', 'Nome da Loja': 'Filial 5', 'Data da Venda': '2022-11-27 03:29:53.201930'}\n",
            "{'Nome do Item': 'Batom lÃ\\xadquido', 'ClassificaÃ§Ã£o do Produto': 'Alimentos', 'Valor em Reais (R$)': '41.83', 'Quantidade em Estoque': '71', 'Nome da Loja': 'Filial 9', 'Data da Venda': '2023-02-28 03:29:53.201930'}\n",
            "{'Nome do Item': 'Blush em pÃ³', 'ClassificaÃ§Ã£o do Produto': 'EletrodomÃ©sticos', 'Valor em Reais (R$)': '35.14', 'Quantidade em Estoque': '75', 'Nome da Loja': 'Filial 3', 'Data da Venda': '2022-09-01 03:29:53.201930'}\n",
            "{'Nome do Item': 'Blush em pÃ³', 'ClassificaÃ§Ã£o do Produto': 'EletrodomÃ©sticos', 'Valor em Reais (R$)': '87.71', 'Quantidade em Estoque': '78', 'Nome da Loja': 'Filial 9', 'Data da Venda': '2023-01-24 03:29:53.201930'}\n",
            "{'Nome do Item': 'LÃ¡pis de sobrancelha', 'ClassificaÃ§Ã£o do Produto': 'Alimentos', 'Valor em Reais (R$)': '12.72', 'Quantidade em Estoque': '1', 'Nome da Loja': 'Filial 2', 'Data da Venda': '2023-03-14 03:29:53.201930'}\n",
            "{'Nome do Item': 'Corretivo', 'ClassificaÃ§Ã£o do Produto': 'EletrÃ´nicos', 'Valor em Reais (R$)': '15.97', 'Quantidade em Estoque': '24', 'Nome da Loja': 'Filial 3', 'Data da Venda': '2022-10-24 03:29:53.201930'}\n",
            "{'Nome do Item': 'Sombra de olhos', 'ClassificaÃ§Ã£o do Produto': 'Alimentos', 'Valor em Reais (R$)': '78.38', 'Quantidade em Estoque': '48', 'Nome da Loja': 'Filial 2', 'Data da Venda': '2023-06-07 03:29:53.201930'}\n",
            "{'Nome do Item': 'Corretivo', 'ClassificaÃ§Ã£o do Produto': 'EletrÃ´nicos', 'Valor em Reais (R$)': '63.39', 'Quantidade em Estoque': '73', 'Nome da Loja': 'Filial 7', 'Data da Venda': '2023-05-22 03:29:53.201930'}\n",
            "{'Nome do Item': 'Batom matte', 'ClassificaÃ§Ã£o do Produto': 'Roupas', 'Valor em Reais (R$)': '72.73', 'Quantidade em Estoque': '81', 'Nome da Loja': 'Filial 6', 'Data da Venda': '2023-03-18 03:29:53.201930'}\n",
            "{'Nome do Item': 'Blush em pÃ³', 'ClassificaÃ§Ã£o do Produto': 'EletrÃ´nicos', 'Valor em Reais (R$)': '77.1', 'Quantidade em Estoque': '33', 'Nome da Loja': 'Filial 8', 'Data da Venda': '2023-03-19 03:29:53.201930'}\n",
            "{'Nome do Item': 'LÃ¡pis de sobrancelha', 'ClassificaÃ§Ã£o do Produto': 'EletrodomÃ©sticos', 'Valor em Reais (R$)': '46.09', 'Quantidade em Estoque': '25', 'Nome da Loja': 'Filial 1', 'Data da Venda': '2023-02-25 03:29:53.201930'}\n",
            "{'Nome do Item': 'MÃ¡scara de cÃ\\xadlios', 'ClassificaÃ§Ã£o do Produto': 'EletrÃ´nicos', 'Valor em Reais (R$)': '57.07', 'Quantidade em Estoque': '88', 'Nome da Loja': 'Filial 7', 'Data da Venda': '2022-09-06 03:29:53.201930'}\n",
            "{'Nome do Item': 'Blush em pÃ³', 'ClassificaÃ§Ã£o do Produto': 'Roupas', 'Valor em Reais (R$)': '57.55', 'Quantidade em Estoque': '80', 'Nome da Loja': 'Filial 3', 'Data da Venda': '2023-06-29 03:29:53.201930'}\n",
            "{'Nome do Item': 'LÃ¡pis de sobrancelha', 'ClassificaÃ§Ã£o do Produto': 'Roupas', 'Valor em Reais (R$)': '35.39', 'Quantidade em Estoque': '7', 'Nome da Loja': 'Filial 4', 'Data da Venda': '2023-03-19 03:29:53.201930'}\n",
            "{'Nome do Item': 'PÃ³ compacto', 'ClassificaÃ§Ã£o do Produto': 'EletrÃ´nicos', 'Valor em Reais (R$)': '79.19', 'Quantidade em Estoque': '34', 'Nome da Loja': 'Filial 8', 'Data da Venda': '2023-01-21 03:29:53.201930'}\n",
            "{'Nome do Item': 'LÃ¡pis de sobrancelha', 'ClassificaÃ§Ã£o do Produto': 'Roupas', 'Valor em Reais (R$)': '91.41', 'Quantidade em Estoque': '88', 'Nome da Loja': 'Filial 10', 'Data da Venda': '2022-10-21 03:29:53.201930'}\n",
            "{'Nome do Item': 'PÃ³ compacto', 'ClassificaÃ§Ã£o do Produto': 'EletrodomÃ©sticos', 'Valor em Reais (R$)': '50.92', 'Quantidade em Estoque': '68', 'Nome da Loja': 'Filial 1', 'Data da Venda': '2023-04-07 03:29:53.201930'}\n",
            "{'Nome do Item': 'LÃ¡pis de sobrancelha', 'ClassificaÃ§Ã£o do Produto': 'Roupas', 'Valor em Reais (R$)': '11.81', 'Quantidade em Estoque': '89', 'Nome da Loja': 'Filial 10', 'Data da Venda': '2023-03-29 03:29:53.201930'}\n",
            "{'Nome do Item': 'Blush em pÃ³', 'ClassificaÃ§Ã£o do Produto': 'Alimentos', 'Valor em Reais (R$)': '2.03', 'Quantidade em Estoque': '65', 'Nome da Loja': 'Filial 5', 'Data da Venda': '2022-11-24 03:29:53.201930'}\n",
            "{'Nome do Item': 'Blush em pÃ³', 'ClassificaÃ§Ã£o do Produto': 'Roupas', 'Valor em Reais (R$)': '39.25', 'Quantidade em Estoque': '83', 'Nome da Loja': 'Filial 10', 'Data da Venda': '2023-07-14 03:29:53.201930'}\n",
            "{'Nome do Item': 'Batom matte', 'ClassificaÃ§Ã£o do Produto': 'EletrÃ´nicos', 'Valor em Reais (R$)': '10.0', 'Quantidade em Estoque': '92', 'Nome da Loja': 'Filial 10', 'Data da Venda': '2023-08-12 03:29:53.201930'}\n",
            "{'Nome do Item': 'PÃ³ compacto', 'ClassificaÃ§Ã£o do Produto': 'Alimentos', 'Valor em Reais (R$)': '25.17', 'Quantidade em Estoque': '42', 'Nome da Loja': 'Filial 10', 'Data da Venda': '2022-09-15 03:29:53.201930'}\n",
            "{'Nome do Item': 'Base lÃ\\xadquida', 'ClassificaÃ§Ã£o do Produto': 'Roupas', 'Valor em Reais (R$)': '31.32', 'Quantidade em Estoque': '69', 'Nome da Loja': 'Filial 2', 'Data da Venda': '2022-12-07 03:29:53.201930'}\n",
            "{'Nome do Item': 'Batom matte', 'ClassificaÃ§Ã£o do Produto': 'Alimentos', 'Valor em Reais (R$)': '39.39', 'Quantidade em Estoque': '94', 'Nome da Loja': 'Filial 2', 'Data da Venda': '2023-07-09 03:29:53.201930'}\n",
            "{'Nome do Item': 'MÃ¡scara de cÃ\\xadlios', 'ClassificaÃ§Ã£o do Produto': 'EletrodomÃ©sticos', 'Valor em Reais (R$)': '42.56', 'Quantidade em Estoque': '22', 'Nome da Loja': 'Filial 10', 'Data da Venda': '2022-11-13 03:29:53.201930'}\n",
            "{'Nome do Item': 'Delineador lÃ\\xadquido', 'ClassificaÃ§Ã£o do Produto': 'Alimentos', 'Valor em Reais (R$)': '82.57', 'Quantidade em Estoque': '54', 'Nome da Loja': 'Filial 9', 'Data da Venda': '2022-12-08 03:29:53.201930'}\n",
            "{'Nome do Item': 'Batom lÃ\\xadquido', 'ClassificaÃ§Ã£o do Produto': 'EletrodomÃ©sticos', 'Valor em Reais (R$)': '68.12', 'Quantidade em Estoque': '26', 'Nome da Loja': 'Filial 1', 'Data da Venda': '2022-09-11 03:29:53.201930'}\n",
            "{'Nome do Item': 'Batom matte', 'ClassificaÃ§Ã£o do Produto': 'Alimentos', 'Valor em Reais (R$)': '12.02', 'Quantidade em Estoque': '45', 'Nome da Loja': 'Filial 4', 'Data da Venda': '2023-01-19 03:29:53.201930'}\n",
            "{'Nome do Item': 'Blush em pÃ³', 'ClassificaÃ§Ã£o do Produto': 'EletrÃ´nicos', 'Valor em Reais (R$)': '30.01', 'Quantidade em Estoque': '26', 'Nome da Loja': 'Filial 6', 'Data da Venda': '2022-12-12 03:29:53.201930'}\n",
            "{'Nome do Item': 'Batom lÃ\\xadquido', 'ClassificaÃ§Ã£o do Produto': 'Alimentos', 'Valor em Reais (R$)': '5.64', 'Quantidade em Estoque': '95', 'Nome da Loja': 'Filial 6', 'Data da Venda': '2022-09-28 03:29:53.201930'}\n",
            "{'Nome do Item': 'Blush em pÃ³', 'ClassificaÃ§Ã£o do Produto': 'Roupas', 'Valor em Reais (R$)': '85.78', 'Quantidade em Estoque': '53', 'Nome da Loja': 'Filial 9', 'Data da Venda': '2022-11-28 03:29:53.201930'}\n",
            "{'Nome do Item': 'PÃ³ compacto', 'ClassificaÃ§Ã£o do Produto': 'Alimentos', 'Valor em Reais (R$)': '17.21', 'Quantidade em Estoque': '75', 'Nome da Loja': 'Filial 4', 'Data da Venda': '2023-07-25 03:29:53.201930'}\n",
            "{'Nome do Item': 'LÃ¡pis de sobrancelha', 'ClassificaÃ§Ã£o do Produto': 'EletrodomÃ©sticos', 'Valor em Reais (R$)': '73.24', 'Quantidade em Estoque': '65', 'Nome da Loja': 'Filial 5', 'Data da Venda': '2022-11-10 03:29:53.201930'}\n",
            "{'Nome do Item': 'Base lÃ\\xadquida', 'ClassificaÃ§Ã£o do Produto': 'EletrÃ´nicos', 'Valor em Reais (R$)': '60.06', 'Quantidade em Estoque': '87', 'Nome da Loja': 'Filial 7', 'Data da Venda': '2023-02-14 03:29:53.201930'}\n",
            "{'Nome do Item': 'Corretivo', 'ClassificaÃ§Ã£o do Produto': 'EletrÃ´nicos', 'Valor em Reais (R$)': '45.14', 'Quantidade em Estoque': '94', 'Nome da Loja': 'Filial 1', 'Data da Venda': '2022-11-26 03:29:53.201930'}\n",
            "{'Nome do Item': 'Base lÃ\\xadquida', 'ClassificaÃ§Ã£o do Produto': 'Roupas', 'Valor em Reais (R$)': '22.78', 'Quantidade em Estoque': '68', 'Nome da Loja': 'Filial 9', 'Data da Venda': '2023-02-02 03:29:53.201930'}\n",
            "{'Nome do Item': 'Blush em pÃ³', 'ClassificaÃ§Ã£o do Produto': 'Alimentos', 'Valor em Reais (R$)': '55.52', 'Quantidade em Estoque': '33', 'Nome da Loja': 'Filial 6', 'Data da Venda': '2023-06-11 03:29:53.201930'}\n",
            "{'Nome do Item': 'LÃ¡pis de sobrancelha', 'ClassificaÃ§Ã£o do Produto': 'EletrÃ´nicos', 'Valor em Reais (R$)': '14.2', 'Quantidade em Estoque': '10', 'Nome da Loja': 'Filial 6', 'Data da Venda': '2022-10-22 03:29:53.201930'}\n",
            "{'Nome do Item': 'LÃ¡pis de sobrancelha', 'ClassificaÃ§Ã£o do Produto': 'EletrÃ´nicos', 'Valor em Reais (R$)': '82.46', 'Quantidade em Estoque': '47', 'Nome da Loja': 'Filial 5', 'Data da Venda': '2023-06-28 03:29:53.201930'}\n",
            "{'Nome do Item': 'Corretivo', 'ClassificaÃ§Ã£o do Produto': 'EletrÃ´nicos', 'Valor em Reais (R$)': '21.49', 'Quantidade em Estoque': '16', 'Nome da Loja': 'Filial 10', 'Data da Venda': '2022-08-29 03:29:53.201930'}\n",
            "{'Nome do Item': 'MÃ¡scara de cÃ\\xadlios', 'ClassificaÃ§Ã£o do Produto': 'EletrodomÃ©sticos', 'Valor em Reais (R$)': '16.48', 'Quantidade em Estoque': '64', 'Nome da Loja': 'Filial 8', 'Data da Venda': '2022-10-09 03:29:53.201930'}\n",
            "{'Nome do Item': 'PÃ³ compacto', 'ClassificaÃ§Ã£o do Produto': 'EletrÃ´nicos', 'Valor em Reais (R$)': '81.83', 'Quantidade em Estoque': '4', 'Nome da Loja': 'Filial 4', 'Data da Venda': '2023-07-12 03:29:53.201930'}\n",
            "{'Nome do Item': 'Blush em pÃ³', 'ClassificaÃ§Ã£o do Produto': 'Roupas', 'Valor em Reais (R$)': '9.69', 'Quantidade em Estoque': '49', 'Nome da Loja': 'Filial 3', 'Data da Venda': '2023-06-06 03:29:53.201930'}\n",
            "{'Nome do Item': 'MÃ¡scara de cÃ\\xadlios', 'ClassificaÃ§Ã£o do Produto': 'Roupas', 'Valor em Reais (R$)': '46.52', 'Quantidade em Estoque': '68', 'Nome da Loja': 'Filial 2', 'Data da Venda': '2023-06-11 03:29:53.201930'}\n",
            "{'Nome do Item': 'Batom matte', 'ClassificaÃ§Ã£o do Produto': 'EletrÃ´nicos', 'Valor em Reais (R$)': '87.42', 'Quantidade em Estoque': '57', 'Nome da Loja': 'Filial 3', 'Data da Venda': '2022-09-22 03:29:53.201930'}\n",
            "{'Nome do Item': 'Corretivo', 'ClassificaÃ§Ã£o do Produto': 'Alimentos', 'Valor em Reais (R$)': '70.88', 'Quantidade em Estoque': '59', 'Nome da Loja': 'Filial 3', 'Data da Venda': '2023-03-12 03:29:53.201930'}\n",
            "{'Nome do Item': 'MÃ¡scara de cÃ\\xadlios', 'ClassificaÃ§Ã£o do Produto': 'EletrodomÃ©sticos', 'Valor em Reais (R$)': '87.29', 'Quantidade em Estoque': '18', 'Nome da Loja': 'Filial 9', 'Data da Venda': '2023-03-02 03:29:53.201930'}\n",
            "{'Nome do Item': 'Base lÃ\\xadquida', 'ClassificaÃ§Ã£o do Produto': 'EletrÃ´nicos', 'Valor em Reais (R$)': '14.71', 'Quantidade em Estoque': '67', 'Nome da Loja': 'Filial 9', 'Data da Venda': '2023-01-21 03:29:53.201930'}\n",
            "{'Nome do Item': 'MÃ¡scara de cÃ\\xadlios', 'ClassificaÃ§Ã£o do Produto': 'Alimentos', 'Valor em Reais (R$)': '42.15', 'Quantidade em Estoque': '65', 'Nome da Loja': 'Filial 2', 'Data da Venda': '2023-01-09 03:29:53.201930'}\n",
            "{'Nome do Item': 'Corretivo', 'ClassificaÃ§Ã£o do Produto': 'Roupas', 'Valor em Reais (R$)': '33.59', 'Quantidade em Estoque': '38', 'Nome da Loja': 'Filial 2', 'Data da Venda': '2022-09-25 03:29:53.201930'}\n",
            "{'Nome do Item': 'Delineador lÃ\\xadquido', 'ClassificaÃ§Ã£o do Produto': 'Alimentos', 'Valor em Reais (R$)': '84.24', 'Quantidade em Estoque': '73', 'Nome da Loja': 'Filial 10', 'Data da Venda': '2022-12-17 03:29:53.201930'}\n",
            "{'Nome do Item': 'Batom matte', 'ClassificaÃ§Ã£o do Produto': 'EletrÃ´nicos', 'Valor em Reais (R$)': '45.88', 'Quantidade em Estoque': '13', 'Nome da Loja': 'Filial 4', 'Data da Venda': '2023-06-09 03:29:53.201930'}\n",
            "{'Nome do Item': 'Corretivo', 'ClassificaÃ§Ã£o do Produto': 'EletrodomÃ©sticos', 'Valor em Reais (R$)': '9.7', 'Quantidade em Estoque': '15', 'Nome da Loja': 'Filial 9', 'Data da Venda': '2023-01-14 03:29:53.201930'}\n",
            "{'Nome do Item': 'Blush em pÃ³', 'ClassificaÃ§Ã£o do Produto': 'Roupas', 'Valor em Reais (R$)': '80.98', 'Quantidade em Estoque': '6', 'Nome da Loja': 'Filial 3', 'Data da Venda': '2022-09-06 03:29:53.201930'}\n",
            "{'Nome do Item': 'Delineador lÃ\\xadquido', 'ClassificaÃ§Ã£o do Produto': 'Alimentos', 'Valor em Reais (R$)': '3.7', 'Quantidade em Estoque': '37', 'Nome da Loja': 'Filial 7', 'Data da Venda': '2022-11-17 03:29:53.201930'}\n",
            "{'Nome do Item': 'LÃ¡pis de sobrancelha', 'ClassificaÃ§Ã£o do Produto': 'Alimentos', 'Valor em Reais (R$)': '7.37', 'Quantidade em Estoque': '51', 'Nome da Loja': 'Filial 3', 'Data da Venda': '2023-02-07 03:29:53.201930'}\n",
            "{'Nome do Item': 'Sombra de olhos', 'ClassificaÃ§Ã£o do Produto': 'EletrodomÃ©sticos', 'Valor em Reais (R$)': '21.27', 'Quantidade em Estoque': '97', 'Nome da Loja': 'Filial 10', 'Data da Venda': '2022-11-19 03:29:53.201930'}\n",
            "{'Nome do Item': 'Base lÃ\\xadquida', 'ClassificaÃ§Ã£o do Produto': 'Alimentos', 'Valor em Reais (R$)': '49.3', 'Quantidade em Estoque': '17', 'Nome da Loja': 'Filial 3', 'Data da Venda': '2023-06-19 03:29:53.201930'}\n",
            "{'Nome do Item': 'Base lÃ\\xadquida', 'ClassificaÃ§Ã£o do Produto': 'EletrodomÃ©sticos', 'Valor em Reais (R$)': '24.23', 'Quantidade em Estoque': '53', 'Nome da Loja': 'Filial 5', 'Data da Venda': '2023-03-18 03:29:53.201930'}\n",
            "{'Nome do Item': 'LÃ¡pis de sobrancelha', 'ClassificaÃ§Ã£o do Produto': 'Alimentos', 'Valor em Reais (R$)': '8.96', 'Quantidade em Estoque': '75', 'Nome da Loja': 'Filial 10', 'Data da Venda': '2023-04-02 03:29:53.201930'}\n",
            "{'Nome do Item': 'Blush em pÃ³', 'ClassificaÃ§Ã£o do Produto': 'Alimentos', 'Valor em Reais (R$)': '18.26', 'Quantidade em Estoque': '97', 'Nome da Loja': 'Filial 9', 'Data da Venda': '2022-11-26 03:29:53.201930'}\n",
            "{'Nome do Item': 'Sombra de olhos', 'ClassificaÃ§Ã£o do Produto': 'EletrodomÃ©sticos', 'Valor em Reais (R$)': '55.64', 'Quantidade em Estoque': '76', 'Nome da Loja': 'Filial 7', 'Data da Venda': '2023-04-05 03:29:53.201930'}\n",
            "{'Nome do Item': 'Corretivo', 'ClassificaÃ§Ã£o do Produto': 'Alimentos', 'Valor em Reais (R$)': '15.12', 'Quantidade em Estoque': '57', 'Nome da Loja': 'Filial 6', 'Data da Venda': '2023-04-03 03:29:53.201930'}\n",
            "{'Nome do Item': 'PÃ³ compacto', 'ClassificaÃ§Ã£o do Produto': 'EletrodomÃ©sticos', 'Valor em Reais (R$)': '86.13', 'Quantidade em Estoque': '22', 'Nome da Loja': 'Filial 1', 'Data da Venda': '2022-11-17 03:29:53.201930'}\n",
            "{'Nome do Item': 'Corretivo', 'ClassificaÃ§Ã£o do Produto': 'Alimentos', 'Valor em Reais (R$)': '17.45', 'Quantidade em Estoque': '35', 'Nome da Loja': 'Filial 1', 'Data da Venda': '2022-11-16 03:29:53.201930'}\n",
            "{'Nome do Item': 'MÃ¡scara de cÃ\\xadlios', 'ClassificaÃ§Ã£o do Produto': 'EletrÃ´nicos', 'Valor em Reais (R$)': '46.45', 'Quantidade em Estoque': '13', 'Nome da Loja': 'Filial 1', 'Data da Venda': '2023-02-25 03:29:53.201930'}\n",
            "{'Nome do Item': 'PÃ³ compacto', 'ClassificaÃ§Ã£o do Produto': 'Roupas', 'Valor em Reais (R$)': '71.06', 'Quantidade em Estoque': '19', 'Nome da Loja': 'Filial 2', 'Data da Venda': '2023-07-17 03:29:53.201930'}\n",
            "{'Nome do Item': 'Delineador lÃ\\xadquido', 'ClassificaÃ§Ã£o do Produto': 'Alimentos', 'Valor em Reais (R$)': '79.98', 'Quantidade em Estoque': '46', 'Nome da Loja': 'Filial 9', 'Data da Venda': '2022-10-06 03:29:53.201930'}\n",
            "{'Nome do Item': 'Base lÃ\\xadquida', 'ClassificaÃ§Ã£o do Produto': 'EletrodomÃ©sticos', 'Valor em Reais (R$)': '79.87', 'Quantidade em Estoque': '100', 'Nome da Loja': 'Filial 7', 'Data da Venda': '2023-07-31 03:29:53.201930'}\n",
            "{'Nome do Item': 'Delineador lÃ\\xadquido', 'ClassificaÃ§Ã£o do Produto': 'EletrodomÃ©sticos', 'Valor em Reais (R$)': '33.04', 'Quantidade em Estoque': '53', 'Nome da Loja': 'Filial 7', 'Data da Venda': '2023-03-23 03:29:53.201930'}\n",
            "{'Nome do Item': 'LÃ¡pis de sobrancelha', 'ClassificaÃ§Ã£o do Produto': 'EletrÃ´nicos', 'Valor em Reais (R$)': '58.22', 'Quantidade em Estoque': '72', 'Nome da Loja': 'Filial 9', 'Data da Venda': '2023-07-22 03:29:53.201930'}\n",
            "{'Nome do Item': 'Corretivo', 'ClassificaÃ§Ã£o do Produto': 'EletrÃ´nicos', 'Valor em Reais (R$)': '75.96', 'Quantidade em Estoque': '55', 'Nome da Loja': 'Filial 4', 'Data da Venda': '2023-01-21 03:29:53.201930'}\n",
            "{'Nome do Item': 'Batom matte', 'ClassificaÃ§Ã£o do Produto': 'Alimentos', 'Valor em Reais (R$)': '50.78', 'Quantidade em Estoque': '48', 'Nome da Loja': 'Filial 9', 'Data da Venda': '2023-05-14 03:29:53.201930'}\n",
            "{'Nome do Item': 'PÃ³ compacto', 'ClassificaÃ§Ã£o do Produto': 'EletrodomÃ©sticos', 'Valor em Reais (R$)': '16.51', 'Quantidade em Estoque': '58', 'Nome da Loja': 'Filial 1', 'Data da Venda': '2023-05-06 03:29:53.201930'}\n",
            "{'Nome do Item': 'Base lÃ\\xadquida', 'ClassificaÃ§Ã£o do Produto': 'EletrÃ´nicos', 'Valor em Reais (R$)': '88.74', 'Quantidade em Estoque': '73', 'Nome da Loja': 'Filial 2', 'Data da Venda': '2022-12-13 03:29:53.201930'}\n",
            "{'Nome do Item': 'Batom matte', 'ClassificaÃ§Ã£o do Produto': 'EletrodomÃ©sticos', 'Valor em Reais (R$)': '2.01', 'Quantidade em Estoque': '44', 'Nome da Loja': 'Filial 10', 'Data da Venda': '2022-09-15 03:29:53.201930'}\n",
            "{'Nome do Item': 'MÃ¡scara de cÃ\\xadlios', 'ClassificaÃ§Ã£o do Produto': 'EletrÃ´nicos', 'Valor em Reais (R$)': '22.35', 'Quantidade em Estoque': '10', 'Nome da Loja': 'Filial 1', 'Data da Venda': '2022-09-20 03:29:53.201930'}\n",
            "{'Nome do Item': 'Delineador lÃ\\xadquido', 'ClassificaÃ§Ã£o do Produto': 'EletrÃ´nicos', 'Valor em Reais (R$)': '51.11', 'Quantidade em Estoque': '97', 'Nome da Loja': 'Filial 9', 'Data da Venda': '2023-05-08 03:29:53.201930'}\n",
            "{'Nome do Item': 'Delineador lÃ\\xadquido', 'ClassificaÃ§Ã£o do Produto': 'Alimentos', 'Valor em Reais (R$)': '39.68', 'Quantidade em Estoque': '65', 'Nome da Loja': 'Filial 7', 'Data da Venda': '2023-05-29 03:29:53.201930'}\n",
            "{'Nome do Item': 'Corretivo', 'ClassificaÃ§Ã£o do Produto': 'Roupas', 'Valor em Reais (R$)': '14.52', 'Quantidade em Estoque': '15', 'Nome da Loja': 'Filial 6', 'Data da Venda': '2023-05-31 03:29:53.201930'}\n",
            "{'Nome do Item': 'MÃ¡scara de cÃ\\xadlios', 'ClassificaÃ§Ã£o do Produto': 'Roupas', 'Valor em Reais (R$)': '13.03', 'Quantidade em Estoque': '8', 'Nome da Loja': 'Filial 1', 'Data da Venda': '2023-05-07 03:29:53.201930'}\n",
            "{'Nome do Item': 'Sombra de olhos', 'ClassificaÃ§Ã£o do Produto': 'EletrodomÃ©sticos', 'Valor em Reais (R$)': '54.09', 'Quantidade em Estoque': '42', 'Nome da Loja': 'Filial 5', 'Data da Venda': '2022-10-15 03:29:53.201930'}\n",
            "{'Nome do Item': 'Corretivo', 'ClassificaÃ§Ã£o do Produto': 'EletrÃ´nicos', 'Valor em Reais (R$)': '79.2', 'Quantidade em Estoque': '69', 'Nome da Loja': 'Filial 7', 'Data da Venda': '2023-05-06 03:29:53.201930'}\n",
            "{'Nome do Item': 'LÃ¡pis de sobrancelha', 'ClassificaÃ§Ã£o do Produto': 'EletrÃ´nicos', 'Valor em Reais (R$)': '17.65', 'Quantidade em Estoque': '63', 'Nome da Loja': 'Filial 2', 'Data da Venda': '2023-02-07 03:29:53.201930'}\n",
            "{'Nome do Item': 'Blush em pÃ³', 'ClassificaÃ§Ã£o do Produto': 'EletrodomÃ©sticos', 'Valor em Reais (R$)': '53.35', 'Quantidade em Estoque': '100', 'Nome da Loja': 'Filial 4', 'Data da Venda': '2023-07-17 03:29:53.201930'}\n",
            "{'Nome do Item': 'LÃ¡pis de sobrancelha', 'ClassificaÃ§Ã£o do Produto': 'Roupas', 'Valor em Reais (R$)': '50.87', 'Quantidade em Estoque': '73', 'Nome da Loja': 'Filial 1', 'Data da Venda': '2023-04-12 03:29:53.201930'}\n",
            "{'Nome do Item': 'Batom lÃ\\xadquido', 'ClassificaÃ§Ã£o do Produto': 'Alimentos', 'Valor em Reais (R$)': '55.73', 'Quantidade em Estoque': '75', 'Nome da Loja': 'Filial 6', 'Data da Venda': '2023-05-14 03:29:53.201930'}\n",
            "{'Nome do Item': 'PÃ³ compacto', 'ClassificaÃ§Ã£o do Produto': 'Alimentos', 'Valor em Reais (R$)': '26.35', 'Quantidade em Estoque': '84', 'Nome da Loja': 'Filial 3', 'Data da Venda': '2023-07-04 03:29:53.201930'}\n",
            "{'Nome do Item': 'LÃ¡pis de sobrancelha', 'ClassificaÃ§Ã£o do Produto': 'EletrodomÃ©sticos', 'Valor em Reais (R$)': '61.64', 'Quantidade em Estoque': '42', 'Nome da Loja': 'Filial 7', 'Data da Venda': '2023-01-11 03:29:53.201930'}\n",
            "{'Nome do Item': 'Delineador lÃ\\xadquido', 'ClassificaÃ§Ã£o do Produto': 'EletrodomÃ©sticos', 'Valor em Reais (R$)': '36.82', 'Quantidade em Estoque': '85', 'Nome da Loja': 'Filial 10', 'Data da Venda': '2023-01-28 03:29:53.201930'}\n",
            "{'Nome do Item': 'MÃ¡scara de cÃ\\xadlios', 'ClassificaÃ§Ã£o do Produto': 'Alimentos', 'Valor em Reais (R$)': '74.03', 'Quantidade em Estoque': '3', 'Nome da Loja': 'Filial 1', 'Data da Venda': '2022-10-31 03:29:53.201930'}\n",
            "{'Nome do Item': 'LÃ¡pis de sobrancelha', 'ClassificaÃ§Ã£o do Produto': 'EletrodomÃ©sticos', 'Valor em Reais (R$)': '24.44', 'Quantidade em Estoque': '66', 'Nome da Loja': 'Filial 1', 'Data da Venda': '2023-05-16 03:29:53.201930'}\n",
            "{'Nome do Item': 'Batom lÃ\\xadquido', 'ClassificaÃ§Ã£o do Produto': 'EletrÃ´nicos', 'Valor em Reais (R$)': '32.19', 'Quantidade em Estoque': '11', 'Nome da Loja': 'Filial 10', 'Data da Venda': '2023-03-10 03:29:53.201930'}\n",
            "{'Nome do Item': 'Batom matte', 'ClassificaÃ§Ã£o do Produto': 'EletrodomÃ©sticos', 'Valor em Reais (R$)': '11.59', 'Quantidade em Estoque': '64', 'Nome da Loja': 'Filial 6', 'Data da Venda': '2023-08-19 03:29:53.201930'}\n",
            "{'Nome do Item': 'LÃ¡pis de sobrancelha', 'ClassificaÃ§Ã£o do Produto': 'EletrodomÃ©sticos', 'Valor em Reais (R$)': '4.81', 'Quantidade em Estoque': '51', 'Nome da Loja': 'Filial 10', 'Data da Venda': '2022-12-19 03:29:53.201930'}\n",
            "{'Nome do Item': 'Batom matte', 'ClassificaÃ§Ã£o do Produto': 'Roupas', 'Valor em Reais (R$)': '98.05', 'Quantidade em Estoque': '49', 'Nome da Loja': 'Filial 4', 'Data da Venda': '2022-09-26 03:29:53.201930'}\n",
            "{'Nome do Item': 'Sombra de olhos', 'ClassificaÃ§Ã£o do Produto': 'EletrodomÃ©sticos', 'Valor em Reais (R$)': '75.15', 'Quantidade em Estoque': '80', 'Nome da Loja': 'Filial 9', 'Data da Venda': '2023-08-02 03:29:53.201930'}\n",
            "{'Nome do Item': 'Blush em pÃ³', 'ClassificaÃ§Ã£o do Produto': 'Alimentos', 'Valor em Reais (R$)': '55.74', 'Quantidade em Estoque': '40', 'Nome da Loja': 'Filial 8', 'Data da Venda': '2022-12-31 03:29:53.201930'}\n",
            "{'Nome do Item': 'Corretivo', 'ClassificaÃ§Ã£o do Produto': 'EletrÃ´nicos', 'Valor em Reais (R$)': '85.44', 'Quantidade em Estoque': '9', 'Nome da Loja': 'Filial 10', 'Data da Venda': '2023-05-23 03:29:53.201930'}\n",
            "{'Nome do Item': 'LÃ¡pis de sobrancelha', 'ClassificaÃ§Ã£o do Produto': 'EletrÃ´nicos', 'Valor em Reais (R$)': '43.03', 'Quantidade em Estoque': '37', 'Nome da Loja': 'Filial 3', 'Data da Venda': '2022-12-13 03:29:53.201930'}\n",
            "{'Nome do Item': 'Blush em pÃ³', 'ClassificaÃ§Ã£o do Produto': 'EletrÃ´nicos', 'Valor em Reais (R$)': '41.8', 'Quantidade em Estoque': '58', 'Nome da Loja': 'Filial 7', 'Data da Venda': '2023-01-07 03:29:53.201930'}\n",
            "{'Nome do Item': 'Batom lÃ\\xadquido', 'ClassificaÃ§Ã£o do Produto': 'Roupas', 'Valor em Reais (R$)': '25.07', 'Quantidade em Estoque': '18', 'Nome da Loja': 'Filial 3', 'Data da Venda': '2022-11-18 03:29:53.201930'}\n",
            "{'Nome do Item': 'Batom lÃ\\xadquido', 'ClassificaÃ§Ã£o do Produto': 'Alimentos', 'Valor em Reais (R$)': '52.34', 'Quantidade em Estoque': '100', 'Nome da Loja': 'Filial 8', 'Data da Venda': '2022-10-08 03:29:53.201930'}\n",
            "{'Nome do Item': 'LÃ¡pis de sobrancelha', 'ClassificaÃ§Ã£o do Produto': 'EletrodomÃ©sticos', 'Valor em Reais (R$)': '19.83', 'Quantidade em Estoque': '86', 'Nome da Loja': 'Filial 10', 'Data da Venda': '2023-03-19 03:29:53.201930'}\n",
            "{'Nome do Item': 'LÃ¡pis de sobrancelha', 'ClassificaÃ§Ã£o do Produto': 'Roupas', 'Valor em Reais (R$)': '18.74', 'Quantidade em Estoque': '3', 'Nome da Loja': 'Filial 6', 'Data da Venda': '2023-07-22 03:29:53.201930'}\n",
            "{'Nome do Item': 'Batom matte', 'ClassificaÃ§Ã£o do Produto': 'Roupas', 'Valor em Reais (R$)': '87.96', 'Quantidade em Estoque': '71', 'Nome da Loja': 'Filial 9', 'Data da Venda': '2023-06-27 03:29:53.201930'}\n",
            "{'Nome do Item': 'Corretivo', 'ClassificaÃ§Ã£o do Produto': 'Alimentos', 'Valor em Reais (R$)': '59.41', 'Quantidade em Estoque': '34', 'Nome da Loja': 'Filial 4', 'Data da Venda': '2022-10-09 03:29:53.201930'}\n",
            "{'Nome do Item': 'LÃ¡pis de sobrancelha', 'ClassificaÃ§Ã£o do Produto': 'EletrodomÃ©sticos', 'Valor em Reais (R$)': '86.44', 'Quantidade em Estoque': '62', 'Nome da Loja': 'Filial 8', 'Data da Venda': '2022-11-24 03:29:53.201930'}\n",
            "{'Nome do Item': 'PÃ³ compacto', 'ClassificaÃ§Ã£o do Produto': 'EletrodomÃ©sticos', 'Valor em Reais (R$)': '71.76', 'Quantidade em Estoque': '82', 'Nome da Loja': 'Filial 2', 'Data da Venda': '2023-03-21 03:29:53.201930'}\n",
            "{'Nome do Item': 'Corretivo', 'ClassificaÃ§Ã£o do Produto': 'EletrÃ´nicos', 'Valor em Reais (R$)': '22.58', 'Quantidade em Estoque': '41', 'Nome da Loja': 'Filial 6', 'Data da Venda': '2023-08-03 03:29:53.201930'}\n",
            "{'Nome do Item': 'Batom matte', 'ClassificaÃ§Ã£o do Produto': 'Alimentos', 'Valor em Reais (R$)': '30.74', 'Quantidade em Estoque': '28', 'Nome da Loja': 'Filial 1', 'Data da Venda': '2023-03-21 03:29:53.201930'}\n",
            "{'Nome do Item': 'Delineador lÃ\\xadquido', 'ClassificaÃ§Ã£o do Produto': 'Alimentos', 'Valor em Reais (R$)': '29.01', 'Quantidade em Estoque': '98', 'Nome da Loja': 'Filial 3', 'Data da Venda': '2023-04-30 03:29:53.201930'}\n",
            "{'Nome do Item': 'Sombra de olhos', 'ClassificaÃ§Ã£o do Produto': 'EletrodomÃ©sticos', 'Valor em Reais (R$)': '12.02', 'Quantidade em Estoque': '14', 'Nome da Loja': 'Filial 8', 'Data da Venda': '2023-05-25 03:29:53.201930'}\n",
            "{'Nome do Item': 'Batom matte', 'ClassificaÃ§Ã£o do Produto': 'EletrÃ´nicos', 'Valor em Reais (R$)': '52.33', 'Quantidade em Estoque': '100', 'Nome da Loja': 'Filial 1', 'Data da Venda': '2023-06-06 03:29:53.201930'}\n",
            "{'Nome do Item': 'Corretivo', 'ClassificaÃ§Ã£o do Produto': 'Alimentos', 'Valor em Reais (R$)': '71.72', 'Quantidade em Estoque': '59', 'Nome da Loja': 'Filial 9', 'Data da Venda': '2023-04-22 03:29:53.201930'}\n",
            "{'Nome do Item': 'MÃ¡scara de cÃ\\xadlios', 'ClassificaÃ§Ã£o do Produto': 'EletrodomÃ©sticos', 'Valor em Reais (R$)': '33.12', 'Quantidade em Estoque': '30', 'Nome da Loja': 'Filial 8', 'Data da Venda': '2022-11-28 03:29:53.201930'}\n",
            "{'Nome do Item': 'Blush em pÃ³', 'ClassificaÃ§Ã£o do Produto': 'EletrÃ´nicos', 'Valor em Reais (R$)': '34.01', 'Quantidade em Estoque': '56', 'Nome da Loja': 'Filial 5', 'Data da Venda': '2023-01-30 03:29:53.201930'}\n",
            "{'Nome do Item': 'Base lÃ\\xadquida', 'ClassificaÃ§Ã£o do Produto': 'EletrÃ´nicos', 'Valor em Reais (R$)': '59.21', 'Quantidade em Estoque': '21', 'Nome da Loja': 'Filial 1', 'Data da Venda': '2023-06-19 03:29:53.201930'}\n",
            "{'Nome do Item': 'PÃ³ compacto', 'ClassificaÃ§Ã£o do Produto': 'EletrÃ´nicos', 'Valor em Reais (R$)': '93.77', 'Quantidade em Estoque': '55', 'Nome da Loja': 'Filial 6', 'Data da Venda': '2023-03-01 03:29:53.201930'}\n",
            "{'Nome do Item': 'Corretivo', 'ClassificaÃ§Ã£o do Produto': 'EletrÃ´nicos', 'Valor em Reais (R$)': '60.78', 'Quantidade em Estoque': '39', 'Nome da Loja': 'Filial 5', 'Data da Venda': '2022-09-07 03:29:53.201930'}\n",
            "{'Nome do Item': 'Delineador lÃ\\xadquido', 'ClassificaÃ§Ã£o do Produto': 'EletrodomÃ©sticos', 'Valor em Reais (R$)': '97.8', 'Quantidade em Estoque': '99', 'Nome da Loja': 'Filial 1', 'Data da Venda': '2023-05-28 03:29:53.201930'}\n",
            "{'Nome do Item': 'Sombra de olhos', 'ClassificaÃ§Ã£o do Produto': 'Alimentos', 'Valor em Reais (R$)': '90.38', 'Quantidade em Estoque': '51', 'Nome da Loja': 'Filial 1', 'Data da Venda': '2022-11-27 03:29:53.201930'}\n",
            "{'Nome do Item': 'PÃ³ compacto', 'ClassificaÃ§Ã£o do Produto': 'EletrodomÃ©sticos', 'Valor em Reais (R$)': '8.89', 'Quantidade em Estoque': '74', 'Nome da Loja': 'Filial 9', 'Data da Venda': '2022-11-24 03:29:53.201930'}\n",
            "{'Nome do Item': 'Corretivo', 'ClassificaÃ§Ã£o do Produto': 'Alimentos', 'Valor em Reais (R$)': '27.29', 'Quantidade em Estoque': '55', 'Nome da Loja': 'Filial 7', 'Data da Venda': '2023-08-10 03:29:53.201930'}\n",
            "{'Nome do Item': 'Corretivo', 'ClassificaÃ§Ã£o do Produto': 'Alimentos', 'Valor em Reais (R$)': '58.78', 'Quantidade em Estoque': '45', 'Nome da Loja': 'Filial 9', 'Data da Venda': '2022-09-30 03:29:53.201930'}\n",
            "{'Nome do Item': 'Batom lÃ\\xadquido', 'ClassificaÃ§Ã£o do Produto': 'Alimentos', 'Valor em Reais (R$)': '94.14', 'Quantidade em Estoque': '81', 'Nome da Loja': 'Filial 9', 'Data da Venda': '2022-10-27 03:29:53.201930'}\n",
            "{'Nome do Item': 'Corretivo', 'ClassificaÃ§Ã£o do Produto': 'Alimentos', 'Valor em Reais (R$)': '21.7', 'Quantidade em Estoque': '86', 'Nome da Loja': 'Filial 4', 'Data da Venda': '2022-10-04 03:29:53.201930'}\n",
            "{'Nome do Item': 'Base lÃ\\xadquida', 'ClassificaÃ§Ã£o do Produto': 'Roupas', 'Valor em Reais (R$)': '74.02', 'Quantidade em Estoque': '79', 'Nome da Loja': 'Filial 1', 'Data da Venda': '2023-06-10 03:29:53.201930'}\n",
            "{'Nome do Item': 'PÃ³ compacto', 'ClassificaÃ§Ã£o do Produto': 'Alimentos', 'Valor em Reais (R$)': '1.01', 'Quantidade em Estoque': '26', 'Nome da Loja': 'Filial 8', 'Data da Venda': '2022-11-30 03:29:53.201930'}\n",
            "{'Nome do Item': 'LÃ¡pis de sobrancelha', 'ClassificaÃ§Ã£o do Produto': 'EletrodomÃ©sticos', 'Valor em Reais (R$)': '27.05', 'Quantidade em Estoque': '8', 'Nome da Loja': 'Filial 5', 'Data da Venda': '2022-08-29 03:29:53.201930'}\n",
            "{'Nome do Item': 'MÃ¡scara de cÃ\\xadlios', 'ClassificaÃ§Ã£o do Produto': 'Roupas', 'Valor em Reais (R$)': '67.25', 'Quantidade em Estoque': '70', 'Nome da Loja': 'Filial 4', 'Data da Venda': '2022-12-21 03:29:53.201930'}\n",
            "{'Nome do Item': 'Blush em pÃ³', 'ClassificaÃ§Ã£o do Produto': 'Roupas', 'Valor em Reais (R$)': '96.57', 'Quantidade em Estoque': '11', 'Nome da Loja': 'Filial 9', 'Data da Venda': '2023-06-13 03:29:53.201930'}\n",
            "{'Nome do Item': 'PÃ³ compacto', 'ClassificaÃ§Ã£o do Produto': 'Alimentos', 'Valor em Reais (R$)': '49.24', 'Quantidade em Estoque': '79', 'Nome da Loja': 'Filial 1', 'Data da Venda': '2023-06-10 03:29:53.201930'}\n",
            "{'Nome do Item': 'Delineador lÃ\\xadquido', 'ClassificaÃ§Ã£o do Produto': 'Roupas', 'Valor em Reais (R$)': '66.12', 'Quantidade em Estoque': '54', 'Nome da Loja': 'Filial 8', 'Data da Venda': '2022-09-29 03:29:53.201930'}\n",
            "{'Nome do Item': 'Delineador lÃ\\xadquido', 'ClassificaÃ§Ã£o do Produto': 'EletrodomÃ©sticos', 'Valor em Reais (R$)': '59.74', 'Quantidade em Estoque': '32', 'Nome da Loja': 'Filial 9', 'Data da Venda': '2023-01-13 03:29:53.201930'}\n",
            "{'Nome do Item': 'Batom matte', 'ClassificaÃ§Ã£o do Produto': 'Alimentos', 'Valor em Reais (R$)': '69.47', 'Quantidade em Estoque': '17', 'Nome da Loja': 'Filial 6', 'Data da Venda': '2023-07-14 03:29:53.201930'}\n",
            "{'Nome do Item': 'Batom lÃ\\xadquido', 'ClassificaÃ§Ã£o do Produto': 'Alimentos', 'Valor em Reais (R$)': '30.08', 'Quantidade em Estoque': '52', 'Nome da Loja': 'Filial 8', 'Data da Venda': '2023-05-17 03:29:53.201930'}\n",
            "{'Nome do Item': 'Sombra de olhos', 'ClassificaÃ§Ã£o do Produto': 'Roupas', 'Valor em Reais (R$)': '22.16', 'Quantidade em Estoque': '11', 'Nome da Loja': 'Filial 4', 'Data da Venda': '2023-04-27 03:29:53.201930'}\n",
            "{'Nome do Item': 'LÃ¡pis de sobrancelha', 'ClassificaÃ§Ã£o do Produto': 'EletrÃ´nicos', 'Valor em Reais (R$)': '70.5', 'Quantidade em Estoque': '73', 'Nome da Loja': 'Filial 9', 'Data da Venda': '2022-11-11 03:29:53.201930'}\n",
            "{'Nome do Item': 'Blush em pÃ³', 'ClassificaÃ§Ã£o do Produto': 'Alimentos', 'Valor em Reais (R$)': '43.19', 'Quantidade em Estoque': '31', 'Nome da Loja': 'Filial 10', 'Data da Venda': '2022-10-18 03:29:53.201930'}\n",
            "{'Nome do Item': 'Delineador lÃ\\xadquido', 'ClassificaÃ§Ã£o do Produto': 'Alimentos', 'Valor em Reais (R$)': '53.25', 'Quantidade em Estoque': '52', 'Nome da Loja': 'Filial 6', 'Data da Venda': '2023-07-17 03:29:53.201930'}\n",
            "{'Nome do Item': 'Sombra de olhos', 'ClassificaÃ§Ã£o do Produto': 'Roupas', 'Valor em Reais (R$)': '83.85', 'Quantidade em Estoque': '30', 'Nome da Loja': 'Filial 10', 'Data da Venda': '2022-11-16 03:29:53.201930'}\n",
            "{'Nome do Item': 'LÃ¡pis de sobrancelha', 'ClassificaÃ§Ã£o do Produto': 'Roupas', 'Valor em Reais (R$)': '55.79', 'Quantidade em Estoque': '88', 'Nome da Loja': 'Filial 6', 'Data da Venda': '2023-03-18 03:29:53.201930'}\n",
            "{'Nome do Item': 'Base lÃ\\xadquida', 'ClassificaÃ§Ã£o do Produto': 'Alimentos', 'Valor em Reais (R$)': '20.83', 'Quantidade em Estoque': '53', 'Nome da Loja': 'Filial 10', 'Data da Venda': '2023-02-08 03:29:53.201930'}\n",
            "{'Nome do Item': 'Corretivo', 'ClassificaÃ§Ã£o do Produto': 'Roupas', 'Valor em Reais (R$)': '72.64', 'Quantidade em Estoque': '55', 'Nome da Loja': 'Filial 1', 'Data da Venda': '2023-01-16 03:29:53.201930'}\n",
            "{'Nome do Item': 'LÃ¡pis de sobrancelha', 'ClassificaÃ§Ã£o do Produto': 'Roupas', 'Valor em Reais (R$)': '11.79', 'Quantidade em Estoque': '93', 'Nome da Loja': 'Filial 10', 'Data da Venda': '2022-12-05 03:29:53.201930'}\n",
            "{'Nome do Item': 'Blush em pÃ³', 'ClassificaÃ§Ã£o do Produto': 'Alimentos', 'Valor em Reais (R$)': '2.38', 'Quantidade em Estoque': '10', 'Nome da Loja': 'Filial 7', 'Data da Venda': '2023-01-09 03:29:53.201930'}\n",
            "{'Nome do Item': 'Batom lÃ\\xadquido', 'ClassificaÃ§Ã£o do Produto': 'Roupas', 'Valor em Reais (R$)': '7.24', 'Quantidade em Estoque': '80', 'Nome da Loja': 'Filial 3', 'Data da Venda': '2023-05-04 03:29:53.201930'}\n",
            "{'Nome do Item': 'Corretivo', 'ClassificaÃ§Ã£o do Produto': 'EletrÃ´nicos', 'Valor em Reais (R$)': '1.91', 'Quantidade em Estoque': '36', 'Nome da Loja': 'Filial 10', 'Data da Venda': '2022-11-11 03:29:53.201930'}\n",
            "{'Nome do Item': 'LÃ¡pis de sobrancelha', 'ClassificaÃ§Ã£o do Produto': 'Alimentos', 'Valor em Reais (R$)': '54.83', 'Quantidade em Estoque': '44', 'Nome da Loja': 'Filial 2', 'Data da Venda': '2022-12-31 03:29:53.201930'}\n",
            "{'Nome do Item': 'PÃ³ compacto', 'ClassificaÃ§Ã£o do Produto': 'EletrÃ´nicos', 'Valor em Reais (R$)': '86.79', 'Quantidade em Estoque': '73', 'Nome da Loja': 'Filial 4', 'Data da Venda': '2023-04-26 03:29:53.201930'}\n",
            "{'Nome do Item': 'Base lÃ\\xadquida', 'ClassificaÃ§Ã£o do Produto': 'Roupas', 'Valor em Reais (R$)': '21.17', 'Quantidade em Estoque': '38', 'Nome da Loja': 'Filial 6', 'Data da Venda': '2022-09-11 03:29:53.201930'}\n",
            "{'Nome do Item': 'MÃ¡scara de cÃ\\xadlios', 'ClassificaÃ§Ã£o do Produto': 'Alimentos', 'Valor em Reais (R$)': '49.0', 'Quantidade em Estoque': '57', 'Nome da Loja': 'Filial 2', 'Data da Venda': '2023-04-15 03:29:53.201930'}\n",
            "{'Nome do Item': 'Blush em pÃ³', 'ClassificaÃ§Ã£o do Produto': 'Roupas', 'Valor em Reais (R$)': '74.03', 'Quantidade em Estoque': '11', 'Nome da Loja': 'Filial 8', 'Data da Venda': '2023-08-01 03:29:53.201930'}\n",
            "{'Nome do Item': 'PÃ³ compacto', 'ClassificaÃ§Ã£o do Produto': 'EletrÃ´nicos', 'Valor em Reais (R$)': '45.74', 'Quantidade em Estoque': '2', 'Nome da Loja': 'Filial 2', 'Data da Venda': '2023-01-27 03:29:53.201930'}\n",
            "{'Nome do Item': 'Delineador lÃ\\xadquido', 'ClassificaÃ§Ã£o do Produto': 'Alimentos', 'Valor em Reais (R$)': '64.28', 'Quantidade em Estoque': '13', 'Nome da Loja': 'Filial 8', 'Data da Venda': '2023-08-06 03:29:53.201930'}\n",
            "{'Nome do Item': 'Blush em pÃ³', 'ClassificaÃ§Ã£o do Produto': 'Alimentos', 'Valor em Reais (R$)': '78.92', 'Quantidade em Estoque': '91', 'Nome da Loja': 'Filial 4', 'Data da Venda': '2023-05-31 03:29:53.201930'}\n",
            "{'Nome do Item': 'Sombra de olhos', 'ClassificaÃ§Ã£o do Produto': 'Alimentos', 'Valor em Reais (R$)': '61.5', 'Quantidade em Estoque': '33', 'Nome da Loja': 'Filial 6', 'Data da Venda': '2022-12-01 03:29:53.201930'}\n",
            "{'Nome do Item': 'Delineador lÃ\\xadquido', 'ClassificaÃ§Ã£o do Produto': 'Roupas', 'Valor em Reais (R$)': '58.14', 'Quantidade em Estoque': '53', 'Nome da Loja': 'Filial 7', 'Data da Venda': '2023-04-04 03:29:53.201930'}\n",
            "{'Nome do Item': 'MÃ¡scara de cÃ\\xadlios', 'ClassificaÃ§Ã£o do Produto': 'EletrodomÃ©sticos', 'Valor em Reais (R$)': '4.06', 'Quantidade em Estoque': '74', 'Nome da Loja': 'Filial 2', 'Data da Venda': '2022-11-19 03:29:53.201930'}\n",
            "{'Nome do Item': 'LÃ¡pis de sobrancelha', 'ClassificaÃ§Ã£o do Produto': 'EletrodomÃ©sticos', 'Valor em Reais (R$)': '57.22', 'Quantidade em Estoque': '5', 'Nome da Loja': 'Filial 5', 'Data da Venda': '2023-03-23 03:29:53.201930'}\n",
            "{'Nome do Item': 'Blush em pÃ³', 'ClassificaÃ§Ã£o do Produto': 'EletrÃ´nicos', 'Valor em Reais (R$)': '89.11', 'Quantidade em Estoque': '55', 'Nome da Loja': 'Filial 8', 'Data da Venda': '2022-09-01 03:29:53.201930'}\n",
            "{'Nome do Item': 'LÃ¡pis de sobrancelha', 'ClassificaÃ§Ã£o do Produto': 'EletrÃ´nicos', 'Valor em Reais (R$)': '6.12', 'Quantidade em Estoque': '70', 'Nome da Loja': 'Filial 3', 'Data da Venda': '2023-02-21 03:29:53.201930'}\n",
            "{'Nome do Item': 'PÃ³ compacto', 'ClassificaÃ§Ã£o do Produto': 'EletrÃ´nicos', 'Valor em Reais (R$)': '58.75', 'Quantidade em Estoque': '74', 'Nome da Loja': 'Filial 1', 'Data da Venda': '2022-08-29 03:29:53.201930'}\n",
            "{'Nome do Item': 'Blush em pÃ³', 'ClassificaÃ§Ã£o do Produto': 'Roupas', 'Valor em Reais (R$)': '3.61', 'Quantidade em Estoque': '6', 'Nome da Loja': 'Filial 3', 'Data da Venda': '2022-11-10 03:29:53.201930'}\n",
            "{'Nome do Item': 'PÃ³ compacto', 'ClassificaÃ§Ã£o do Produto': 'EletrÃ´nicos', 'Valor em Reais (R$)': '28.62', 'Quantidade em Estoque': '11', 'Nome da Loja': 'Filial 5', 'Data da Venda': '2023-01-02 03:29:53.201930'}\n",
            "{'Nome do Item': 'Corretivo', 'ClassificaÃ§Ã£o do Produto': 'Roupas', 'Valor em Reais (R$)': '29.39', 'Quantidade em Estoque': '35', 'Nome da Loja': 'Filial 2', 'Data da Venda': '2023-05-15 03:29:53.201930'}\n",
            "{'Nome do Item': 'Sombra de olhos', 'ClassificaÃ§Ã£o do Produto': 'EletrodomÃ©sticos', 'Valor em Reais (R$)': '43.82', 'Quantidade em Estoque': '12', 'Nome da Loja': 'Filial 10', 'Data da Venda': '2023-07-06 03:29:53.201930'}\n",
            "{'Nome do Item': 'PÃ³ compacto', 'ClassificaÃ§Ã£o do Produto': 'Roupas', 'Valor em Reais (R$)': '84.06', 'Quantidade em Estoque': '67', 'Nome da Loja': 'Filial 3', 'Data da Venda': '2023-06-04 03:29:53.201930'}\n",
            "{'Nome do Item': 'Sombra de olhos', 'ClassificaÃ§Ã£o do Produto': 'Roupas', 'Valor em Reais (R$)': '31.5', 'Quantidade em Estoque': '64', 'Nome da Loja': 'Filial 5', 'Data da Venda': '2023-07-15 03:29:53.201930'}\n",
            "{'Nome do Item': 'MÃ¡scara de cÃ\\xadlios', 'ClassificaÃ§Ã£o do Produto': 'EletrodomÃ©sticos', 'Valor em Reais (R$)': '53.26', 'Quantidade em Estoque': '1', 'Nome da Loja': 'Filial 10', 'Data da Venda': '2023-07-28 03:29:53.201930'}\n",
            "{'Nome do Item': 'PÃ³ compacto', 'ClassificaÃ§Ã£o do Produto': 'Alimentos', 'Valor em Reais (R$)': '90.17', 'Quantidade em Estoque': '8', 'Nome da Loja': 'Filial 4', 'Data da Venda': '2022-12-31 03:29:53.201930'}\n",
            "{'Nome do Item': 'Delineador lÃ\\xadquido', 'ClassificaÃ§Ã£o do Produto': 'EletrodomÃ©sticos', 'Valor em Reais (R$)': '67.07', 'Quantidade em Estoque': '69', 'Nome da Loja': 'Filial 6', 'Data da Venda': '2022-10-10 03:29:53.201930'}\n",
            "{'Nome do Item': 'Blush em pÃ³', 'ClassificaÃ§Ã£o do Produto': 'Alimentos', 'Valor em Reais (R$)': '16.35', 'Quantidade em Estoque': '75', 'Nome da Loja': 'Filial 6', 'Data da Venda': '2022-10-03 03:29:53.201930'}\n",
            "{'Nome do Item': 'Batom matte', 'ClassificaÃ§Ã£o do Produto': 'EletrodomÃ©sticos', 'Valor em Reais (R$)': '45.71', 'Quantidade em Estoque': '45', 'Nome da Loja': 'Filial 5', 'Data da Venda': '2023-04-14 03:29:53.201930'}\n",
            "{'Nome do Item': 'Sombra de olhos', 'ClassificaÃ§Ã£o do Produto': 'Roupas', 'Valor em Reais (R$)': '57.13', 'Quantidade em Estoque': '92', 'Nome da Loja': 'Filial 7', 'Data da Venda': '2023-04-19 03:29:53.201930'}\n",
            "{'Nome do Item': 'Base lÃ\\xadquida', 'ClassificaÃ§Ã£o do Produto': 'Roupas', 'Valor em Reais (R$)': '28.26', 'Quantidade em Estoque': '68', 'Nome da Loja': 'Filial 9', 'Data da Venda': '2023-01-10 03:29:53.201930'}\n",
            "{'Nome do Item': 'LÃ¡pis de sobrancelha', 'ClassificaÃ§Ã£o do Produto': 'EletrÃ´nicos', 'Valor em Reais (R$)': '71.63', 'Quantidade em Estoque': '8', 'Nome da Loja': 'Filial 3', 'Data da Venda': '2023-06-20 03:29:53.201930'}\n",
            "{'Nome do Item': 'Batom lÃ\\xadquido', 'ClassificaÃ§Ã£o do Produto': 'Roupas', 'Valor em Reais (R$)': '34.7', 'Quantidade em Estoque': '25', 'Nome da Loja': 'Filial 7', 'Data da Venda': '2023-07-22 03:29:53.201930'}\n",
            "{'Nome do Item': 'Base lÃ\\xadquida', 'ClassificaÃ§Ã£o do Produto': 'EletrÃ´nicos', 'Valor em Reais (R$)': '47.62', 'Quantidade em Estoque': '12', 'Nome da Loja': 'Filial 5', 'Data da Venda': '2023-03-26 03:29:53.201930'}\n",
            "{'Nome do Item': 'Corretivo', 'ClassificaÃ§Ã£o do Produto': 'EletrÃ´nicos', 'Valor em Reais (R$)': '64.54', 'Quantidade em Estoque': '32', 'Nome da Loja': 'Filial 8', 'Data da Venda': '2023-05-22 03:29:53.201930'}\n",
            "{'Nome do Item': 'Delineador lÃ\\xadquido', 'ClassificaÃ§Ã£o do Produto': 'EletrodomÃ©sticos', 'Valor em Reais (R$)': '52.56', 'Quantidade em Estoque': '80', 'Nome da Loja': 'Filial 9', 'Data da Venda': '2022-11-27 03:29:53.201930'}\n",
            "{'Nome do Item': 'Batom matte', 'ClassificaÃ§Ã£o do Produto': 'EletrodomÃ©sticos', 'Valor em Reais (R$)': '70.12', 'Quantidade em Estoque': '68', 'Nome da Loja': 'Filial 2', 'Data da Venda': '2022-09-16 03:29:53.201930'}\n",
            "{'Nome do Item': 'Delineador lÃ\\xadquido', 'ClassificaÃ§Ã£o do Produto': 'EletrodomÃ©sticos', 'Valor em Reais (R$)': '68.72', 'Quantidade em Estoque': '89', 'Nome da Loja': 'Filial 1', 'Data da Venda': '2023-04-05 03:29:53.201930'}\n",
            "{'Nome do Item': 'Corretivo', 'ClassificaÃ§Ã£o do Produto': 'Alimentos', 'Valor em Reais (R$)': '51.03', 'Quantidade em Estoque': '11', 'Nome da Loja': 'Filial 6', 'Data da Venda': '2022-09-02 03:29:53.201930'}\n",
            "{'Nome do Item': 'LÃ¡pis de sobrancelha', 'ClassificaÃ§Ã£o do Produto': 'Roupas', 'Valor em Reais (R$)': '59.84', 'Quantidade em Estoque': '77', 'Nome da Loja': 'Filial 7', 'Data da Venda': '2022-11-22 03:29:53.201930'}\n",
            "{'Nome do Item': 'Corretivo', 'ClassificaÃ§Ã£o do Produto': 'Alimentos', 'Valor em Reais (R$)': '5.66', 'Quantidade em Estoque': '24', 'Nome da Loja': 'Filial 7', 'Data da Venda': '2022-10-01 03:29:53.201930'}\n",
            "{'Nome do Item': 'Batom matte', 'ClassificaÃ§Ã£o do Produto': 'EletrÃ´nicos', 'Valor em Reais (R$)': '72.24', 'Quantidade em Estoque': '51', 'Nome da Loja': 'Filial 1', 'Data da Venda': '2023-05-17 03:29:53.201930'}\n",
            "{'Nome do Item': 'Blush em pÃ³', 'ClassificaÃ§Ã£o do Produto': 'EletrodomÃ©sticos', 'Valor em Reais (R$)': '40.62', 'Quantidade em Estoque': '24', 'Nome da Loja': 'Filial 2', 'Data da Venda': '2023-01-08 03:29:53.201930'}\n",
            "{'Nome do Item': 'LÃ¡pis de sobrancelha', 'ClassificaÃ§Ã£o do Produto': 'EletrodomÃ©sticos', 'Valor em Reais (R$)': '56.15', 'Quantidade em Estoque': '16', 'Nome da Loja': 'Filial 6', 'Data da Venda': '2023-03-29 03:29:53.201930'}\n",
            "{'Nome do Item': 'MÃ¡scara de cÃ\\xadlios', 'ClassificaÃ§Ã£o do Produto': 'Alimentos', 'Valor em Reais (R$)': '25.71', 'Quantidade em Estoque': '29', 'Nome da Loja': 'Filial 1', 'Data da Venda': '2023-07-25 03:29:53.201930'}\n",
            "{'Nome do Item': 'PÃ³ compacto', 'ClassificaÃ§Ã£o do Produto': 'EletrÃ´nicos', 'Valor em Reais (R$)': '80.74', 'Quantidade em Estoque': '75', 'Nome da Loja': 'Filial 10', 'Data da Venda': '2022-11-26 03:29:53.201930'}\n",
            "{'Nome do Item': 'Batom matte', 'ClassificaÃ§Ã£o do Produto': 'EletrodomÃ©sticos', 'Valor em Reais (R$)': '51.6', 'Quantidade em Estoque': '56', 'Nome da Loja': 'Filial 8', 'Data da Venda': '2023-08-06 03:29:53.201930'}\n",
            "{'Nome do Item': 'Batom matte', 'ClassificaÃ§Ã£o do Produto': 'EletrodomÃ©sticos', 'Valor em Reais (R$)': '68.61', 'Quantidade em Estoque': '15', 'Nome da Loja': 'Filial 9', 'Data da Venda': '2022-10-06 03:29:53.201930'}\n",
            "{'Nome do Item': 'Base lÃ\\xadquida', 'ClassificaÃ§Ã£o do Produto': 'EletrÃ´nicos', 'Valor em Reais (R$)': '70.72', 'Quantidade em Estoque': '5', 'Nome da Loja': 'Filial 9', 'Data da Venda': '2023-05-09 03:29:53.201930'}\n",
            "{'Nome do Item': 'Batom lÃ\\xadquido', 'ClassificaÃ§Ã£o do Produto': 'EletrodomÃ©sticos', 'Valor em Reais (R$)': '66.36', 'Quantidade em Estoque': '72', 'Nome da Loja': 'Filial 9', 'Data da Venda': '2022-11-14 03:29:53.201930'}\n",
            "{'Nome do Item': 'PÃ³ compacto', 'ClassificaÃ§Ã£o do Produto': 'EletrÃ´nicos', 'Valor em Reais (R$)': '8.72', 'Quantidade em Estoque': '15', 'Nome da Loja': 'Filial 8', 'Data da Venda': '2023-02-06 03:29:53.201930'}\n",
            "{'Nome do Item': 'LÃ¡pis de sobrancelha', 'ClassificaÃ§Ã£o do Produto': 'Roupas', 'Valor em Reais (R$)': '5.74', 'Quantidade em Estoque': '100', 'Nome da Loja': 'Filial 3', 'Data da Venda': '2023-07-11 03:29:53.201930'}\n",
            "{'Nome do Item': 'PÃ³ compacto', 'ClassificaÃ§Ã£o do Produto': 'Alimentos', 'Valor em Reais (R$)': '84.65', 'Quantidade em Estoque': '43', 'Nome da Loja': 'Filial 9', 'Data da Venda': '2023-07-12 03:29:53.201930'}\n",
            "{'Nome do Item': 'Batom matte', 'ClassificaÃ§Ã£o do Produto': 'Roupas', 'Valor em Reais (R$)': '12.11', 'Quantidade em Estoque': '68', 'Nome da Loja': 'Filial 10', 'Data da Venda': '2023-03-07 03:29:53.201930'}\n",
            "{'Nome do Item': 'Corretivo', 'ClassificaÃ§Ã£o do Produto': 'Alimentos', 'Valor em Reais (R$)': '92.59', 'Quantidade em Estoque': '53', 'Nome da Loja': 'Filial 9', 'Data da Venda': '2023-06-04 03:29:53.201930'}\n",
            "{'Nome do Item': 'Base lÃ\\xadquida', 'ClassificaÃ§Ã£o do Produto': 'Roupas', 'Valor em Reais (R$)': '76.57', 'Quantidade em Estoque': '17', 'Nome da Loja': 'Filial 3', 'Data da Venda': '2022-11-25 03:29:53.201930'}\n",
            "{'Nome do Item': 'LÃ¡pis de sobrancelha', 'ClassificaÃ§Ã£o do Produto': 'Alimentos', 'Valor em Reais (R$)': '46.72', 'Quantidade em Estoque': '49', 'Nome da Loja': 'Filial 7', 'Data da Venda': '2023-06-09 03:29:53.201930'}\n",
            "{'Nome do Item': 'Corretivo', 'ClassificaÃ§Ã£o do Produto': 'Roupas', 'Valor em Reais (R$)': '61.03', 'Quantidade em Estoque': '5', 'Nome da Loja': 'Filial 5', 'Data da Venda': '2022-10-16 03:29:53.201930'}\n",
            "{'Nome do Item': 'Base lÃ\\xadquida', 'ClassificaÃ§Ã£o do Produto': 'EletrÃ´nicos', 'Valor em Reais (R$)': '63.08', 'Quantidade em Estoque': '48', 'Nome da Loja': 'Filial 9', 'Data da Venda': '2022-09-05 03:29:53.201930'}\n",
            "{'Nome do Item': 'Blush em pÃ³', 'ClassificaÃ§Ã£o do Produto': 'Alimentos', 'Valor em Reais (R$)': '16.66', 'Quantidade em Estoque': '98', 'Nome da Loja': 'Filial 1', 'Data da Venda': '2023-06-13 03:29:53.201930'}\n",
            "{'Nome do Item': 'Corretivo', 'ClassificaÃ§Ã£o do Produto': 'EletrÃ´nicos', 'Valor em Reais (R$)': '70.9', 'Quantidade em Estoque': '89', 'Nome da Loja': 'Filial 8', 'Data da Venda': '2023-03-31 03:29:53.201930'}\n",
            "{'Nome do Item': 'Corretivo', 'ClassificaÃ§Ã£o do Produto': 'Roupas', 'Valor em Reais (R$)': '21.44', 'Quantidade em Estoque': '83', 'Nome da Loja': 'Filial 1', 'Data da Venda': '2022-12-31 03:29:53.201930'}\n",
            "{'Nome do Item': 'Base lÃ\\xadquida', 'ClassificaÃ§Ã£o do Produto': 'Roupas', 'Valor em Reais (R$)': '98.62', 'Quantidade em Estoque': '43', 'Nome da Loja': 'Filial 5', 'Data da Venda': '2022-12-19 03:29:53.201930'}\n",
            "{'Nome do Item': 'Corretivo', 'ClassificaÃ§Ã£o do Produto': 'EletrÃ´nicos', 'Valor em Reais (R$)': '31.93', 'Quantidade em Estoque': '7', 'Nome da Loja': 'Filial 9', 'Data da Venda': '2022-12-31 03:29:53.201930'}\n",
            "{'Nome do Item': 'Sombra de olhos', 'ClassificaÃ§Ã£o do Produto': 'Roupas', 'Valor em Reais (R$)': '44.12', 'Quantidade em Estoque': '25', 'Nome da Loja': 'Filial 9', 'Data da Venda': '2023-02-05 03:29:53.201930'}\n",
            "{'Nome do Item': 'Delineador lÃ\\xadquido', 'ClassificaÃ§Ã£o do Produto': 'Alimentos', 'Valor em Reais (R$)': '86.35', 'Quantidade em Estoque': '81', 'Nome da Loja': 'Filial 2', 'Data da Venda': '2022-09-30 03:29:53.201930'}\n",
            "{'Nome do Item': 'Blush em pÃ³', 'ClassificaÃ§Ã£o do Produto': 'EletrodomÃ©sticos', 'Valor em Reais (R$)': '48.2', 'Quantidade em Estoque': '26', 'Nome da Loja': 'Filial 2', 'Data da Venda': '2022-10-01 03:29:53.201930'}\n",
            "{'Nome do Item': 'Sombra de olhos', 'ClassificaÃ§Ã£o do Produto': 'Roupas', 'Valor em Reais (R$)': '52.31', 'Quantidade em Estoque': '10', 'Nome da Loja': 'Filial 4', 'Data da Venda': '2022-11-08 03:29:53.201930'}\n",
            "{'Nome do Item': 'Sombra de olhos', 'ClassificaÃ§Ã£o do Produto': 'EletrodomÃ©sticos', 'Valor em Reais (R$)': '47.53', 'Quantidade em Estoque': '71', 'Nome da Loja': 'Filial 5', 'Data da Venda': '2023-08-11 03:29:53.201930'}\n",
            "{'Nome do Item': 'MÃ¡scara de cÃ\\xadlios', 'ClassificaÃ§Ã£o do Produto': 'EletrodomÃ©sticos', 'Valor em Reais (R$)': '14.07', 'Quantidade em Estoque': '35', 'Nome da Loja': 'Filial 4', 'Data da Venda': '2022-12-31 03:29:53.201930'}\n",
            "{'Nome do Item': 'Corretivo', 'ClassificaÃ§Ã£o do Produto': 'EletrÃ´nicos', 'Valor em Reais (R$)': '70.49', 'Quantidade em Estoque': '69', 'Nome da Loja': 'Filial 5', 'Data da Venda': '2023-06-28 03:29:53.201930'}\n",
            "{'Nome do Item': 'MÃ¡scara de cÃ\\xadlios', 'ClassificaÃ§Ã£o do Produto': 'EletrÃ´nicos', 'Valor em Reais (R$)': '74.76', 'Quantidade em Estoque': '8', 'Nome da Loja': 'Filial 3', 'Data da Venda': '2023-02-25 03:29:53.201930'}\n",
            "{'Nome do Item': 'LÃ¡pis de sobrancelha', 'ClassificaÃ§Ã£o do Produto': 'EletrÃ´nicos', 'Valor em Reais (R$)': '13.17', 'Quantidade em Estoque': '54', 'Nome da Loja': 'Filial 2', 'Data da Venda': '2023-08-13 03:29:53.201930'}\n",
            "{'Nome do Item': 'MÃ¡scara de cÃ\\xadlios', 'ClassificaÃ§Ã£o do Produto': 'Roupas', 'Valor em Reais (R$)': '67.82', 'Quantidade em Estoque': '40', 'Nome da Loja': 'Filial 6', 'Data da Venda': '2022-09-16 03:29:53.201930'}\n",
            "{'Nome do Item': 'Batom lÃ\\xadquido', 'ClassificaÃ§Ã£o do Produto': 'EletrÃ´nicos', 'Valor em Reais (R$)': '8.03', 'Quantidade em Estoque': '97', 'Nome da Loja': 'Filial 9', 'Data da Venda': '2023-05-13 03:29:53.201930'}\n",
            "{'Nome do Item': 'Delineador lÃ\\xadquido', 'ClassificaÃ§Ã£o do Produto': 'EletrodomÃ©sticos', 'Valor em Reais (R$)': '36.26', 'Quantidade em Estoque': '86', 'Nome da Loja': 'Filial 7', 'Data da Venda': '2023-01-08 03:29:53.201930'}\n",
            "{'Nome do Item': 'Blush em pÃ³', 'ClassificaÃ§Ã£o do Produto': 'Roupas', 'Valor em Reais (R$)': '91.4', 'Quantidade em Estoque': '36', 'Nome da Loja': 'Filial 3', 'Data da Venda': '2023-07-16 03:29:53.201930'}\n",
            "{'Nome do Item': 'Batom lÃ\\xadquido', 'ClassificaÃ§Ã£o do Produto': 'Alimentos', 'Valor em Reais (R$)': '10.16', 'Quantidade em Estoque': '38', 'Nome da Loja': 'Filial 7', 'Data da Venda': '2022-08-27 03:29:53.201930'}\n",
            "{'Nome do Item': 'Batom lÃ\\xadquido', 'ClassificaÃ§Ã£o do Produto': 'EletrÃ´nicos', 'Valor em Reais (R$)': '38.36', 'Quantidade em Estoque': '20', 'Nome da Loja': 'Filial 1', 'Data da Venda': '2023-01-11 03:29:53.201930'}\n",
            "{'Nome do Item': 'PÃ³ compacto', 'ClassificaÃ§Ã£o do Produto': 'EletrodomÃ©sticos', 'Valor em Reais (R$)': '57.95', 'Quantidade em Estoque': '4', 'Nome da Loja': 'Filial 7', 'Data da Venda': '2023-04-18 03:29:53.201930'}\n",
            "{'Nome do Item': 'Batom matte', 'ClassificaÃ§Ã£o do Produto': 'EletrÃ´nicos', 'Valor em Reais (R$)': '30.22', 'Quantidade em Estoque': '79', 'Nome da Loja': 'Filial 3', 'Data da Venda': '2022-08-25 03:29:53.201930'}\n",
            "{'Nome do Item': 'Base lÃ\\xadquida', 'ClassificaÃ§Ã£o do Produto': 'EletrodomÃ©sticos', 'Valor em Reais (R$)': '2.61', 'Quantidade em Estoque': '64', 'Nome da Loja': 'Filial 9', 'Data da Venda': '2023-02-10 03:29:53.201930'}\n",
            "{'Nome do Item': 'MÃ¡scara de cÃ\\xadlios', 'ClassificaÃ§Ã£o do Produto': 'EletrodomÃ©sticos', 'Valor em Reais (R$)': '34.51', 'Quantidade em Estoque': '3', 'Nome da Loja': 'Filial 1', 'Data da Venda': '2023-04-04 03:29:53.201930'}\n",
            "{'Nome do Item': 'Base lÃ\\xadquida', 'ClassificaÃ§Ã£o do Produto': 'EletrÃ´nicos', 'Valor em Reais (R$)': '26.82', 'Quantidade em Estoque': '59', 'Nome da Loja': 'Filial 6', 'Data da Venda': '2023-01-26 03:29:53.201930'}\n",
            "{'Nome do Item': 'PÃ³ compacto', 'ClassificaÃ§Ã£o do Produto': 'EletrÃ´nicos', 'Valor em Reais (R$)': '25.6', 'Quantidade em Estoque': '93', 'Nome da Loja': 'Filial 5', 'Data da Venda': '2022-12-13 03:29:53.201930'}\n",
            "{'Nome do Item': 'Batom matte', 'ClassificaÃ§Ã£o do Produto': 'Roupas', 'Valor em Reais (R$)': '43.13', 'Quantidade em Estoque': '72', 'Nome da Loja': 'Filial 5', 'Data da Venda': '2023-06-12 03:29:53.201930'}\n",
            "{'Nome do Item': 'LÃ¡pis de sobrancelha', 'ClassificaÃ§Ã£o do Produto': 'Alimentos', 'Valor em Reais (R$)': '54.56', 'Quantidade em Estoque': '14', 'Nome da Loja': 'Filial 7', 'Data da Venda': '2022-09-15 03:29:53.201930'}\n",
            "{'Nome do Item': 'Delineador lÃ\\xadquido', 'ClassificaÃ§Ã£o do Produto': 'EletrÃ´nicos', 'Valor em Reais (R$)': '90.08', 'Quantidade em Estoque': '95', 'Nome da Loja': 'Filial 5', 'Data da Venda': '2023-03-25 03:29:53.201930'}\n",
            "{'Nome do Item': 'Batom matte', 'ClassificaÃ§Ã£o do Produto': 'Roupas', 'Valor em Reais (R$)': '56.43', 'Quantidade em Estoque': '35', 'Nome da Loja': 'Filial 6', 'Data da Venda': '2023-06-11 03:29:53.201930'}\n",
            "{'Nome do Item': 'PÃ³ compacto', 'ClassificaÃ§Ã£o do Produto': 'EletrodomÃ©sticos', 'Valor em Reais (R$)': '21.83', 'Quantidade em Estoque': '85', 'Nome da Loja': 'Filial 7', 'Data da Venda': '2023-07-13 03:29:53.201930'}\n",
            "{'Nome do Item': 'Batom matte', 'ClassificaÃ§Ã£o do Produto': 'EletrÃ´nicos', 'Valor em Reais (R$)': '25.6', 'Quantidade em Estoque': '53', 'Nome da Loja': 'Filial 4', 'Data da Venda': '2022-11-15 03:29:53.201930'}\n",
            "{'Nome do Item': 'MÃ¡scara de cÃ\\xadlios', 'ClassificaÃ§Ã£o do Produto': 'Alimentos', 'Valor em Reais (R$)': '28.19', 'Quantidade em Estoque': '97', 'Nome da Loja': 'Filial 2', 'Data da Venda': '2023-06-28 03:29:53.201930'}\n",
            "{'Nome do Item': 'Corretivo', 'ClassificaÃ§Ã£o do Produto': 'EletrodomÃ©sticos', 'Valor em Reais (R$)': '41.35', 'Quantidade em Estoque': '6', 'Nome da Loja': 'Filial 3', 'Data da Venda': '2023-01-17 03:29:53.201930'}\n",
            "{'Nome do Item': 'Corretivo', 'ClassificaÃ§Ã£o do Produto': 'Roupas', 'Valor em Reais (R$)': '45.56', 'Quantidade em Estoque': '94', 'Nome da Loja': 'Filial 5', 'Data da Venda': '2023-03-10 03:29:53.201930'}\n",
            "{'Nome do Item': 'MÃ¡scara de cÃ\\xadlios', 'ClassificaÃ§Ã£o do Produto': 'Alimentos', 'Valor em Reais (R$)': '55.78', 'Quantidade em Estoque': '55', 'Nome da Loja': 'Filial 5', 'Data da Venda': '2023-05-15 03:29:53.201930'}\n",
            "{'Nome do Item': 'LÃ¡pis de sobrancelha', 'ClassificaÃ§Ã£o do Produto': 'Alimentos', 'Valor em Reais (R$)': '17.57', 'Quantidade em Estoque': '64', 'Nome da Loja': 'Filial 3', 'Data da Venda': '2023-06-28 03:29:53.201930'}\n",
            "{'Nome do Item': 'PÃ³ compacto', 'ClassificaÃ§Ã£o do Produto': 'Roupas', 'Valor em Reais (R$)': '49.59', 'Quantidade em Estoque': '26', 'Nome da Loja': 'Filial 8', 'Data da Venda': '2023-08-13 03:29:53.201930'}\n",
            "{'Nome do Item': 'MÃ¡scara de cÃ\\xadlios', 'ClassificaÃ§Ã£o do Produto': 'EletrodomÃ©sticos', 'Valor em Reais (R$)': '52.93', 'Quantidade em Estoque': '13', 'Nome da Loja': 'Filial 5', 'Data da Venda': '2023-02-06 03:29:53.201930'}\n",
            "{'Nome do Item': 'Blush em pÃ³', 'ClassificaÃ§Ã£o do Produto': 'Alimentos', 'Valor em Reais (R$)': '76.01', 'Quantidade em Estoque': '77', 'Nome da Loja': 'Filial 5', 'Data da Venda': '2023-04-21 03:29:53.201930'}\n",
            "{'Nome do Item': 'Batom matte', 'ClassificaÃ§Ã£o do Produto': 'Roupas', 'Valor em Reais (R$)': '69.77', 'Quantidade em Estoque': '48', 'Nome da Loja': 'Filial 10', 'Data da Venda': '2023-07-26 03:29:53.201930'}\n",
            "{'Nome do Item': 'LÃ¡pis de sobrancelha', 'ClassificaÃ§Ã£o do Produto': 'Alimentos', 'Valor em Reais (R$)': '61.5', 'Quantidade em Estoque': '16', 'Nome da Loja': 'Filial 1', 'Data da Venda': '2023-08-03 03:29:53.201930'}\n",
            "{'Nome do Item': 'Base lÃ\\xadquida', 'ClassificaÃ§Ã£o do Produto': 'Alimentos', 'Valor em Reais (R$)': '86.81', 'Quantidade em Estoque': '36', 'Nome da Loja': 'Filial 8', 'Data da Venda': '2023-07-20 03:29:53.201930'}\n",
            "{'Nome do Item': 'Batom lÃ\\xadquido', 'ClassificaÃ§Ã£o do Produto': 'Alimentos', 'Valor em Reais (R$)': '69.27', 'Quantidade em Estoque': '38', 'Nome da Loja': 'Filial 8', 'Data da Venda': '2022-10-14 03:29:53.201930'}\n",
            "{'Nome do Item': 'Base lÃ\\xadquida', 'ClassificaÃ§Ã£o do Produto': 'EletrodomÃ©sticos', 'Valor em Reais (R$)': '93.4', 'Quantidade em Estoque': '85', 'Nome da Loja': 'Filial 10', 'Data da Venda': '2022-12-06 03:29:53.201930'}\n",
            "{'Nome do Item': 'Sombra de olhos', 'ClassificaÃ§Ã£o do Produto': 'Roupas', 'Valor em Reais (R$)': '83.98', 'Quantidade em Estoque': '72', 'Nome da Loja': 'Filial 6', 'Data da Venda': '2023-01-05 03:29:53.201930'}\n",
            "{'Nome do Item': 'Blush em pÃ³', 'ClassificaÃ§Ã£o do Produto': 'EletrodomÃ©sticos', 'Valor em Reais (R$)': '24.28', 'Quantidade em Estoque': '47', 'Nome da Loja': 'Filial 5', 'Data da Venda': '2023-05-18 03:29:53.201930'}\n",
            "{'Nome do Item': 'Delineador lÃ\\xadquido', 'ClassificaÃ§Ã£o do Produto': 'Roupas', 'Valor em Reais (R$)': '44.58', 'Quantidade em Estoque': '93', 'Nome da Loja': 'Filial 7', 'Data da Venda': '2023-06-26 03:29:53.201930'}\n",
            "{'Nome do Item': 'LÃ¡pis de sobrancelha', 'ClassificaÃ§Ã£o do Produto': 'EletrÃ´nicos', 'Valor em Reais (R$)': '18.94', 'Quantidade em Estoque': '93', 'Nome da Loja': 'Filial 7', 'Data da Venda': '2022-11-28 03:29:53.201930'}\n",
            "{'Nome do Item': 'Base lÃ\\xadquida', 'ClassificaÃ§Ã£o do Produto': 'Roupas', 'Valor em Reais (R$)': '35.37', 'Quantidade em Estoque': '91', 'Nome da Loja': 'Filial 2', 'Data da Venda': '2023-05-14 03:29:53.201930'}\n",
            "{'Nome do Item': 'MÃ¡scara de cÃ\\xadlios', 'ClassificaÃ§Ã£o do Produto': 'EletrodomÃ©sticos', 'Valor em Reais (R$)': '65.01', 'Quantidade em Estoque': '14', 'Nome da Loja': 'Filial 8', 'Data da Venda': '2022-11-27 03:29:53.201930'}\n",
            "{'Nome do Item': 'Batom matte', 'ClassificaÃ§Ã£o do Produto': 'Roupas', 'Valor em Reais (R$)': '95.57', 'Quantidade em Estoque': '60', 'Nome da Loja': 'Filial 10', 'Data da Venda': '2023-03-11 03:29:53.201930'}\n",
            "{'Nome do Item': 'Corretivo', 'ClassificaÃ§Ã£o do Produto': 'EletrodomÃ©sticos', 'Valor em Reais (R$)': '70.9', 'Quantidade em Estoque': '42', 'Nome da Loja': 'Filial 4', 'Data da Venda': '2023-04-14 03:29:53.201930'}\n",
            "{'Nome do Item': 'Delineador lÃ\\xadquido', 'ClassificaÃ§Ã£o do Produto': 'EletrÃ´nicos', 'Valor em Reais (R$)': '4.47', 'Quantidade em Estoque': '77', 'Nome da Loja': 'Filial 5', 'Data da Venda': '2023-07-22 03:29:53.201930'}\n",
            "{'Nome do Item': 'LÃ¡pis de sobrancelha', 'ClassificaÃ§Ã£o do Produto': 'Alimentos', 'Valor em Reais (R$)': '99.83', 'Quantidade em Estoque': '99', 'Nome da Loja': 'Filial 9', 'Data da Venda': '2022-12-20 03:29:53.201930'}\n",
            "{'Nome do Item': 'Batom matte', 'ClassificaÃ§Ã£o do Produto': 'EletrÃ´nicos', 'Valor em Reais (R$)': '35.62', 'Quantidade em Estoque': '62', 'Nome da Loja': 'Filial 7', 'Data da Venda': '2023-06-22 03:29:53.201930'}\n",
            "{'Nome do Item': 'MÃ¡scara de cÃ\\xadlios', 'ClassificaÃ§Ã£o do Produto': 'EletrÃ´nicos', 'Valor em Reais (R$)': '70.24', 'Quantidade em Estoque': '79', 'Nome da Loja': 'Filial 10', 'Data da Venda': '2023-01-13 03:29:53.201930'}\n",
            "{'Nome do Item': 'PÃ³ compacto', 'ClassificaÃ§Ã£o do Produto': 'EletrodomÃ©sticos', 'Valor em Reais (R$)': '92.26', 'Quantidade em Estoque': '29', 'Nome da Loja': 'Filial 7', 'Data da Venda': '2023-05-10 03:29:53.201930'}\n",
            "{'Nome do Item': 'LÃ¡pis de sobrancelha', 'ClassificaÃ§Ã£o do Produto': 'EletrÃ´nicos', 'Valor em Reais (R$)': '2.26', 'Quantidade em Estoque': '97', 'Nome da Loja': 'Filial 7', 'Data da Venda': '2022-12-26 03:29:53.201930'}\n",
            "{'Nome do Item': 'PÃ³ compacto', 'ClassificaÃ§Ã£o do Produto': 'Alimentos', 'Valor em Reais (R$)': '81.5', 'Quantidade em Estoque': '81', 'Nome da Loja': 'Filial 9', 'Data da Venda': '2023-02-04 03:29:53.201930'}\n"
          ]
        }
      ],
      "source": [
        "# Replace 'your_file.csv' with the path to your CSV file.\n",
        "with open(path_csv, mode='r') as csv_file:\n",
        "    # Create a DictReader object and specify the delimiter if it's not a comma.\n",
        "    csv_reader = csv.DictReader(csv_file)\n",
        "    for row in csv_reader:\n",
        "      print(row)"
      ]
    },
    {
      "cell_type": "code",
      "execution_count": 20,
      "metadata": {
        "id": "oA5wndIFSx--"
      },
      "outputs": [],
      "source": [
        "dados_csv = []\n",
        "# Replace 'your_file.csv' with the path to your CSV file.\n",
        "with open(path_csv, mode='r') as csv_file:\n",
        "    # Create a DictReader object and specify the delimiter if it's not a comma.\n",
        "    csv_reader = csv.DictReader(csv_file)\n",
        "    for row in csv_reader:\n",
        "      dados_csv.append(row)"
      ]
    },
    {
      "cell_type": "markdown",
      "metadata": {
        "id": "rlPf2K8HUBtB"
      },
      "source": [
        "# Aula 4 - Transformando e salvando os dados"
      ]
    },
    {
      "cell_type": "markdown",
      "metadata": {
        "id": "G1hrqUDoYpi9"
      },
      "source": [
        "## Comparando campos"
      ]
    },
    {
      "cell_type": "code",
      "execution_count": 21,
      "metadata": {
        "colab": {
          "base_uri": "https://localhost:8080/"
        },
        "id": "m8fGaYKARtel",
        "outputId": "b3136d6c-be39-4953-a4d1-b73eda18073b"
      },
      "outputs": [
        {
          "data": {
            "text/plain": [
              "{'Nome do Item': 'Base lÃ\\xadquida',\n",
              " 'ClassificaÃ§Ã£o do Produto': 'Roupas',\n",
              " 'Valor em Reais (R$)': '38.01',\n",
              " 'Quantidade em Estoque': '77',\n",
              " 'Nome da Loja': 'Filial 5',\n",
              " 'Data da Venda': '2023-04-03 03:29:53.201930'}"
            ]
          },
          "execution_count": 21,
          "metadata": {},
          "output_type": "execute_result"
        }
      ],
      "source": [
        "dados_csv[0]"
      ]
    },
    {
      "cell_type": "code",
      "execution_count": 22,
      "metadata": {
        "colab": {
          "base_uri": "https://localhost:8080/"
        },
        "id": "qEuKvZJoRrW_",
        "outputId": "bb5b4a4c-b26a-4a83-996e-511c417de724"
      },
      "outputs": [
        {
          "data": {
            "text/plain": [
              "{'Nome do Produto': 'Corretivo',\n",
              " 'Categoria do Produto': 'Roupas',\n",
              " 'Preço do Produto (R$)': 73.3,\n",
              " 'Quantidade em Estoque': 47,\n",
              " 'Filial': 'Filial 10'}"
            ]
          },
          "execution_count": 22,
          "metadata": {},
          "output_type": "execute_result"
        }
      ],
      "source": [
        "dados_json[0]"
      ]
    },
    {
      "cell_type": "code",
      "execution_count": 23,
      "metadata": {
        "colab": {
          "base_uri": "https://localhost:8080/"
        },
        "id": "ObGMx7eYVtjP",
        "outputId": "c4bd32a5-d879-42cd-aea6-6062bd892391"
      },
      "outputs": [
        {
          "data": {
            "text/plain": [
              "['Nome do Item',\n",
              " 'ClassificaÃ§Ã£o do Produto',\n",
              " 'Valor em Reais (R$)',\n",
              " 'Quantidade em Estoque',\n",
              " 'Nome da Loja',\n",
              " 'Data da Venda']"
            ]
          },
          "execution_count": 23,
          "metadata": {},
          "output_type": "execute_result"
        }
      ],
      "source": [
        "nomes_colunas_csv = list(dados_csv[0].keys())\n",
        "nomes_colunas_csv"
      ]
    },
    {
      "cell_type": "code",
      "execution_count": 24,
      "metadata": {
        "colab": {
          "base_uri": "https://localhost:8080/"
        },
        "id": "kUU-AoguUxsQ",
        "outputId": "b99570d6-90d2-4fc9-d002-fbd9f269215b"
      },
      "outputs": [
        {
          "data": {
            "text/plain": [
              "['Nome do Produto',\n",
              " 'Categoria do Produto',\n",
              " 'Preço do Produto (R$)',\n",
              " 'Quantidade em Estoque',\n",
              " 'Filial']"
            ]
          },
          "execution_count": 24,
          "metadata": {},
          "output_type": "execute_result"
        }
      ],
      "source": [
        "nomes_colunas_json = list(dados_json[0].keys())\n",
        "nomes_colunas_json"
      ]
    },
    {
      "cell_type": "markdown",
      "metadata": {
        "id": "p5Tb6bERYwIn"
      },
      "source": [
        "## Renomeando os campos"
      ]
    },
    {
      "cell_type": "code",
      "execution_count": 25,
      "metadata": {
        "colab": {
          "base_uri": "https://localhost:8080/"
        },
        "id": "Y4N-GP7nXUmA",
        "outputId": "0b825b2b-7a4b-4e9e-efa6-e95819acac5f"
      },
      "outputs": [
        {
          "data": {
            "text/plain": [
              "{'Nome do Item': 'Nome do Produto',\n",
              " 'Classificação do Produto': 'Categoria do Produto',\n",
              " 'Valor em Reais (R$)': 'Preço do Produto (R$)',\n",
              " 'Quantidade em Estoque': 'Quantidade em Estoque',\n",
              " 'Nome da Loja': 'Filial',\n",
              " 'Data da Venda': 'Data da Venda'}"
            ]
          },
          "execution_count": 25,
          "metadata": {},
          "output_type": "execute_result"
        }
      ],
      "source": [
        "key_mapping = {'Nome do Item': 'Nome do Produto',\n",
        "                'Classificação do Produto': 'Categoria do Produto',\n",
        "                'Valor em Reais (R$)': 'Preço do Produto (R$)',\n",
        "                'Quantidade em Estoque': 'Quantidade em Estoque',\n",
        "                'Nome da Loja': 'Filial',\n",
        "                'Data da Venda': 'Data da Venda'}\n",
        "key_mapping"
      ]
    },
    {
      "cell_type": "code",
      "execution_count": 26,
      "metadata": {
        "colab": {
          "base_uri": "https://localhost:8080/"
        },
        "id": "PB_AYEInVLo4",
        "outputId": "65a18d48-ba2b-4d6d-8939-edb18650aad9"
      },
      "outputs": [
        {
          "data": {
            "text/plain": [
              "{'Nome do Produto': 'Base lÃ\\xadquida',\n",
              " 'ClassificaÃ§Ã£o do Produto': 'Roupas',\n",
              " 'Preço do Produto (R$)': '38.01',\n",
              " 'Quantidade em Estoque': '77',\n",
              " 'Filial': 'Filial 5',\n",
              " 'Data da Venda': '2023-04-03 03:29:53.201930'}"
            ]
          },
          "execution_count": 26,
          "metadata": {},
          "output_type": "execute_result"
        }
      ],
      "source": [
        "# Create a new dictionary with renamed keys\n",
        "new_dados_csv = [{key_mapping.get(old_key, old_key): value for old_key, value in old_dict.items()} for old_dict in dados_csv]\n",
        "\n",
        "# Display the new dictionary\n",
        "new_dados_csv[0]\n"
      ]
    },
    {
      "cell_type": "code",
      "execution_count": 27,
      "metadata": {
        "colab": {
          "base_uri": "https://localhost:8080/"
        },
        "id": "9c418dD3YEnU",
        "outputId": "bc994829-6353-4fda-e442-f2a66bc6af02"
      },
      "outputs": [
        {
          "data": {
            "text/plain": [
              "{'Nome do Produto': 'Corretivo',\n",
              " 'Categoria do Produto': 'Roupas',\n",
              " 'Preço do Produto (R$)': 73.3,\n",
              " 'Quantidade em Estoque': 47,\n",
              " 'Filial': 'Filial 10'}"
            ]
          },
          "execution_count": 27,
          "metadata": {},
          "output_type": "execute_result"
        }
      ],
      "source": [
        "dados_json[0]"
      ]
    },
    {
      "cell_type": "markdown",
      "metadata": {
        "id": "m_pnmWVyY3F8"
      },
      "source": [
        "## Juntando os arquivos"
      ]
    },
    {
      "cell_type": "markdown",
      "metadata": {
        "id": "b7WPasBkaAzm"
      },
      "source": [
        "<p><font color=\"red\">Mudar a quantidade de dados para ficar mais legal</font></p>\n"
      ]
    },
    {
      "cell_type": "code",
      "execution_count": 28,
      "metadata": {
        "colab": {
          "base_uri": "https://localhost:8080/"
        },
        "id": "PCrt28CwZx9b",
        "outputId": "141c8123-4e81-488e-b3bf-5fa82d667e9c"
      },
      "outputs": [
        {
          "data": {
            "text/plain": [
              "1000"
            ]
          },
          "execution_count": 28,
          "metadata": {},
          "output_type": "execute_result"
        }
      ],
      "source": [
        "len(dados_json)"
      ]
    },
    {
      "cell_type": "code",
      "execution_count": 29,
      "metadata": {
        "colab": {
          "base_uri": "https://localhost:8080/"
        },
        "id": "sd6H4tZVZ55x",
        "outputId": "42c75ef0-70e5-4047-9e05-2d5a203b11f2"
      },
      "outputs": [
        {
          "data": {
            "text/plain": [
              "1000"
            ]
          },
          "execution_count": 29,
          "metadata": {},
          "output_type": "execute_result"
        }
      ],
      "source": [
        "len(new_dados_csv)"
      ]
    },
    {
      "cell_type": "code",
      "execution_count": 30,
      "metadata": {
        "colab": {
          "base_uri": "https://localhost:8080/"
        },
        "id": "l71A27thY77J",
        "outputId": "ce635dfa-6c96-49cb-e763-65f3386f8394"
      },
      "outputs": [
        {
          "data": {
            "text/plain": [
              "2000"
            ]
          },
          "execution_count": 30,
          "metadata": {},
          "output_type": "execute_result"
        }
      ],
      "source": [
        "# Create an empty list to store the combined result\n",
        "combined_list = []\n",
        "\n",
        "# Extend the combined_list with the elements from list1 and list2\n",
        "combined_list.extend(new_dados_csv)\n",
        "combined_list.extend(dados_json)\n",
        "\n",
        "len(combined_list)"
      ]
    },
    {
      "cell_type": "code",
      "execution_count": 31,
      "metadata": {
        "colab": {
          "base_uri": "https://localhost:8080/"
        },
        "id": "l73MhdBzY74q",
        "outputId": "67e562ed-1f6f-4c8c-92e0-e040ccdf094d"
      },
      "outputs": [
        {
          "data": {
            "text/plain": [
              "2000"
            ]
          },
          "execution_count": 31,
          "metadata": {},
          "output_type": "execute_result"
        }
      ],
      "source": [
        "# Use the + operator to concatenate list1 and list2\n",
        "combined_list = new_dados_csv + dados_json\n",
        "\n",
        "len(combined_list)"
      ]
    },
    {
      "cell_type": "code",
      "execution_count": 32,
      "metadata": {
        "colab": {
          "base_uri": "https://localhost:8080/"
        },
        "id": "DjftYk2aY72M",
        "outputId": "9d0e793b-5640-44ee-89cb-62a4efb88005"
      },
      "outputs": [
        {
          "data": {
            "text/plain": [
              "{'Nome do Produto': 'Base lÃ\\xadquida',\n",
              " 'ClassificaÃ§Ã£o do Produto': 'Roupas',\n",
              " 'Preço do Produto (R$)': '86.78',\n",
              " 'Quantidade em Estoque': '90',\n",
              " 'Filial': 'Filial 8',\n",
              " 'Data da Venda': '2023-03-21 03:29:53.201930'}"
            ]
          },
          "execution_count": 32,
          "metadata": {},
          "output_type": "execute_result"
        }
      ],
      "source": [
        "combined_list[1]"
      ]
    },
    {
      "cell_type": "code",
      "execution_count": 33,
      "metadata": {
        "colab": {
          "base_uri": "https://localhost:8080/"
        },
        "id": "A1idnuahY7zB",
        "outputId": "6a27f4f1-af1e-484c-f490-864656d00c79"
      },
      "outputs": [
        {
          "data": {
            "text/plain": [
              "{'Nome do Produto': 'Base líquida',\n",
              " 'Categoria do Produto': 'Alimentos',\n",
              " 'Preço do Produto (R$)': 95.84,\n",
              " 'Quantidade em Estoque': 44,\n",
              " 'Filial': 'Filial 4'}"
            ]
          },
          "execution_count": 33,
          "metadata": {},
          "output_type": "execute_result"
        }
      ],
      "source": [
        "combined_list[-1]"
      ]
    },
    {
      "cell_type": "code",
      "execution_count": 34,
      "metadata": {
        "colab": {
          "base_uri": "https://localhost:8080/"
        },
        "id": "nU6V5xUfcIC7",
        "outputId": "21fc23ee-55b2-49cc-adca-9541558cb76a"
      },
      "outputs": [
        {
          "data": {
            "text/plain": [
              "['Nome do Item',\n",
              " 'ClassificaÃ§Ã£o do Produto',\n",
              " 'Valor em Reais (R$)',\n",
              " 'Quantidade em Estoque',\n",
              " 'Nome da Loja',\n",
              " 'Data da Venda']"
            ]
          },
          "execution_count": 34,
          "metadata": {},
          "output_type": "execute_result"
        }
      ],
      "source": [
        "nomes_colunas_csv"
      ]
    },
    {
      "cell_type": "code",
      "execution_count": 35,
      "metadata": {
        "colab": {
          "base_uri": "https://localhost:8080/"
        },
        "id": "JV2OzVJgcLHG",
        "outputId": "f01b5010-e488-404c-f023-6c076bfae7dd"
      },
      "outputs": [
        {
          "data": {
            "text/plain": [
              "['Nome do Produto',\n",
              " 'Categoria do Produto',\n",
              " 'Preço do Produto (R$)',\n",
              " 'Quantidade em Estoque',\n",
              " 'Filial']"
            ]
          },
          "execution_count": 35,
          "metadata": {},
          "output_type": "execute_result"
        }
      ],
      "source": [
        "nomes_colunas_json"
      ]
    },
    {
      "cell_type": "code",
      "execution_count": 36,
      "metadata": {
        "colab": {
          "base_uri": "https://localhost:8080/",
          "height": 406
        },
        "id": "qb6596ryY7fb",
        "outputId": "3582e0b1-bb1f-4742-ebac-ba0efee32baa"
      },
      "outputs": [
        {
          "ename": "ValueError",
          "evalue": "dict contains fields not in fieldnames: 'Data da Venda', 'ClassificaÃ§Ã£o do Produto'",
          "output_type": "error",
          "traceback": [
            "\u001b[1;31m---------------------------------------------------------------------------\u001b[0m",
            "\u001b[1;31mValueError\u001b[0m                                Traceback (most recent call last)",
            "Cell \u001b[1;32mIn[36], line 17\u001b[0m\n\u001b[0;32m     15\u001b[0m     \u001b[39m# Write the data rows\u001b[39;00m\n\u001b[0;32m     16\u001b[0m     \u001b[39mfor\u001b[39;00m row \u001b[39min\u001b[39;00m combined_list:\n\u001b[1;32m---> 17\u001b[0m         writer\u001b[39m.\u001b[39;49mwriterow(row)\n\u001b[0;32m     19\u001b[0m \u001b[39mprint\u001b[39m(\u001b[39m\"\u001b[39m\u001b[39mData written to\u001b[39m\u001b[39m\"\u001b[39m, csv_file)\n",
            "File \u001b[1;32m~\\AppData\\Local\\Programs\\Python\\Python311\\Lib\\csv.py:154\u001b[0m, in \u001b[0;36mDictWriter.writerow\u001b[1;34m(self, rowdict)\u001b[0m\n\u001b[0;32m    153\u001b[0m \u001b[39mdef\u001b[39;00m \u001b[39mwriterow\u001b[39m(\u001b[39mself\u001b[39m, rowdict):\n\u001b[1;32m--> 154\u001b[0m     \u001b[39mreturn\u001b[39;00m \u001b[39mself\u001b[39m\u001b[39m.\u001b[39mwriter\u001b[39m.\u001b[39mwriterow(\u001b[39mself\u001b[39;49m\u001b[39m.\u001b[39;49m_dict_to_list(rowdict))\n",
            "File \u001b[1;32m~\\AppData\\Local\\Programs\\Python\\Python311\\Lib\\csv.py:149\u001b[0m, in \u001b[0;36mDictWriter._dict_to_list\u001b[1;34m(self, rowdict)\u001b[0m\n\u001b[0;32m    147\u001b[0m     wrong_fields \u001b[39m=\u001b[39m rowdict\u001b[39m.\u001b[39mkeys() \u001b[39m-\u001b[39m \u001b[39mself\u001b[39m\u001b[39m.\u001b[39mfieldnames\n\u001b[0;32m    148\u001b[0m     \u001b[39mif\u001b[39;00m wrong_fields:\n\u001b[1;32m--> 149\u001b[0m         \u001b[39mraise\u001b[39;00m \u001b[39mValueError\u001b[39;00m(\u001b[39m\"\u001b[39m\u001b[39mdict contains fields not in fieldnames: \u001b[39m\u001b[39m\"\u001b[39m\n\u001b[0;32m    150\u001b[0m                          \u001b[39m+\u001b[39m \u001b[39m\"\u001b[39m\u001b[39m, \u001b[39m\u001b[39m\"\u001b[39m\u001b[39m.\u001b[39mjoin([\u001b[39mrepr\u001b[39m(x) \u001b[39mfor\u001b[39;00m x \u001b[39min\u001b[39;00m wrong_fields]))\n\u001b[0;32m    151\u001b[0m \u001b[39mreturn\u001b[39;00m (rowdict\u001b[39m.\u001b[39mget(key, \u001b[39mself\u001b[39m\u001b[39m.\u001b[39mrestval) \u001b[39mfor\u001b[39;00m key \u001b[39min\u001b[39;00m \u001b[39mself\u001b[39m\u001b[39m.\u001b[39mfieldnames)\n",
            "\u001b[1;31mValueError\u001b[0m: dict contains fields not in fieldnames: 'Data da Venda', 'ClassificaÃ§Ã£o do Produto'"
          ]
        }
      ],
      "source": [
        "# Specify the CSV file name\n",
        "csv_file = \"../dados_raw/combined.csv\"\n",
        "\n",
        "# Specify the field names (header) for the CSV file\n",
        "fieldnames = nomes_colunas_json\n",
        "\n",
        "# Open the CSV file in write mode\n",
        "with open(csv_file, mode='w', newline='') as file:\n",
        "    # Create a DictWriter object\n",
        "    writer = csv.DictWriter(file, fieldnames=fieldnames)\n",
        "\n",
        "    # Write the header row\n",
        "    writer.writeheader()\n",
        "\n",
        "    # Write the data rows\n",
        "    for row in combined_list:\n",
        "        writer.writerow(row)\n",
        "\n",
        "print(\"Data written to\", csv_file)"
      ]
    },
    {
      "cell_type": "markdown",
      "metadata": {
        "id": "FTUzFvlPcTzi"
      },
      "source": [
        "## Como resolver isso ?"
      ]
    },
    {
      "cell_type": "code",
      "execution_count": 37,
      "metadata": {
        "colab": {
          "base_uri": "https://localhost:8080/"
        },
        "id": "I4ZMiIYvtQz6",
        "outputId": "b69beff1-427e-4886-9896-c7df2b4c663d"
      },
      "outputs": [
        {
          "data": {
            "text/plain": [
              "{'Categoria do Produto',\n",
              " 'ClassificaÃ§Ã£o do Produto',\n",
              " 'Data da Venda',\n",
              " 'Filial',\n",
              " 'Nome do Produto',\n",
              " 'Preço do Produto (R$)',\n",
              " 'Quantidade em Estoque'}"
            ]
          },
          "execution_count": 37,
          "metadata": {},
          "output_type": "execute_result"
        }
      ],
      "source": [
        "nomes_colunas = set()\n",
        "\n",
        "for row in combined_list:\n",
        "  for chave in row.keys():\n",
        "    nomes_colunas.add(chave)\n",
        "nomes_colunas"
      ]
    },
    {
      "cell_type": "code",
      "execution_count": 38,
      "metadata": {
        "colab": {
          "base_uri": "https://localhost:8080/",
          "height": 35
        },
        "id": "ph7CyVYxuW1N",
        "outputId": "2dd922d4-337e-4f91-d369-437805f13e3a"
      },
      "outputs": [
        {
          "data": {
            "text/plain": [
              "'2023-04-03 03:29:53.201930'"
            ]
          },
          "execution_count": 38,
          "metadata": {},
          "output_type": "execute_result"
        }
      ],
      "source": [
        "combined_list[0].get('Data da Venda')"
      ]
    },
    {
      "cell_type": "code",
      "execution_count": 39,
      "metadata": {
        "colab": {
          "base_uri": "https://localhost:8080/",
          "height": 35
        },
        "id": "JpcMwFXuu-wk",
        "outputId": "4c59a22b-47c6-4ac3-9763-ee1525885156"
      },
      "outputs": [
        {
          "data": {
            "text/plain": [
              "'Indisponivel'"
            ]
          },
          "execution_count": 39,
          "metadata": {},
          "output_type": "execute_result"
        }
      ],
      "source": [
        "combined_list[-1].get('Data da Venda','Indisponivel')"
      ]
    },
    {
      "cell_type": "code",
      "execution_count": 40,
      "metadata": {
        "colab": {
          "base_uri": "https://localhost:8080/"
        },
        "id": "bBng9AJIvN5Q",
        "outputId": "fbe9c84b-90f5-4193-d75c-dc887e84a0fe"
      },
      "outputs": [
        {
          "data": {
            "text/plain": [
              "{'Categoria do Produto',\n",
              " 'ClassificaÃ§Ã£o do Produto',\n",
              " 'Data da Venda',\n",
              " 'Filial',\n",
              " 'Nome do Produto',\n",
              " 'Preço do Produto (R$)',\n",
              " 'Quantidade em Estoque'}"
            ]
          },
          "execution_count": 40,
          "metadata": {},
          "output_type": "execute_result"
        }
      ],
      "source": [
        "dados_combinados_tabela = [nomes_colunas]\n",
        "for row in combined_list:\n",
        "  linhas = []\n",
        "  for coluna in nomes_colunas:\n",
        "    linhas.append(row.get(coluna, 'Indisponivel'))\n",
        "  dados_combinados_tabela.append(linhas)\n",
        "\n",
        "dados_combinados_tabela[0]"
      ]
    },
    {
      "cell_type": "code",
      "execution_count": 41,
      "metadata": {
        "colab": {
          "base_uri": "https://localhost:8080/"
        },
        "id": "eXPJRPOpGHCu",
        "outputId": "1537a244-1e35-4d13-d562-bc53ffa8ce0e"
      },
      "outputs": [
        {
          "name": "stdout",
          "output_type": "stream",
          "text": [
            "Data written to ../dados_tratados/combined.csv\n"
          ]
        }
      ],
      "source": [
        "# Specify the CSV file name\n",
        "csv_file = \"../dados_tratados/combined.csv\"\n",
        "\n",
        "# Specify the field names (header) for the CSV file\n",
        "fieldnames = nomes_colunas_json\n",
        "\n",
        "# Open the CSV file in write mode\n",
        "with open(csv_file, mode='w', newline='') as file:\n",
        "    csv_writer = csv.writer(file)\n",
        "    csv_writer.writerows(dados_combinados_tabela)\n",
        "\n",
        "print(\"Data written to\", csv_file)"
      ]
    },
    {
      "cell_type": "markdown",
      "metadata": {
        "id": "j36LF4cKJWap"
      },
      "source": [
        "# Aula 5"
      ]
    },
    {
      "cell_type": "code",
      "execution_count": 42,
      "metadata": {
        "id": "BZHZQOr3Pgpx"
      },
      "outputs": [],
      "source": [
        "import csv\n",
        "import json"
      ]
    },
    {
      "cell_type": "markdown",
      "metadata": {
        "id": "lLKKCBJ8Nf4W"
      },
      "source": [
        "### Leitura dados csv e json"
      ]
    },
    {
      "cell_type": "code",
      "execution_count": 43,
      "metadata": {
        "id": "wvTQs01BOKsI"
      },
      "outputs": [],
      "source": [
        "def leitura_csv(path_csv):\n",
        "  dados_csv = []\n",
        "  # Replace 'your_file.csv' with the path to your CSV file.\n",
        "  with open(path_csv, mode='r') as csv_file:\n",
        "      # Create a DictReader object and specify the delimiter if it's not a comma.\n",
        "      csv_reader = csv.DictReader(csv_file)\n",
        "      for row in csv_reader:\n",
        "        dados_csv.append(row)\n",
        "\n",
        "  return dados_csv"
      ]
    },
    {
      "cell_type": "code",
      "execution_count": 44,
      "metadata": {
        "id": "-ovM6UnqOSYr"
      },
      "outputs": [],
      "source": [
        "def leitura_json(path_json):\n",
        "  with open(path_json, 'r') as file:\n",
        "    dados_json = json.load(file)\n",
        "\n",
        "  return dados_json"
      ]
    },
    {
      "cell_type": "code",
      "execution_count": 45,
      "metadata": {
        "id": "7TD1Hxi1Nxt6"
      },
      "outputs": [],
      "source": [
        "def leitura_dados(path, tipo):\n",
        "  if tipo == 'csv':\n",
        "    dados = leitura_csv(path)\n",
        "  elif tipo == 'json':\n",
        "    dados = leitura_json(path)\n",
        "\n",
        "  return dados"
      ]
    },
    {
      "cell_type": "code",
      "execution_count": 46,
      "metadata": {
        "id": "y98kdQgOPKGg"
      },
      "outputs": [],
      "source": [
        "path_csv = \"../dados_raw/dados_empresaB.csv\"\n",
        "path_json = '../dados_raw/dados_empresaA.json'"
      ]
    },
    {
      "cell_type": "code",
      "execution_count": 47,
      "metadata": {
        "id": "x3-Fgq_aNi_W"
      },
      "outputs": [],
      "source": [
        "dados_csv = leitura_dados(path_csv, 'csv')\n",
        "dados_json = leitura_dados(path_json, 'json')"
      ]
    },
    {
      "cell_type": "markdown",
      "metadata": {
        "id": "cZOz9i2DM9E_"
      },
      "source": [
        "###Nomes colunas"
      ]
    },
    {
      "cell_type": "code",
      "execution_count": 48,
      "metadata": {
        "id": "neYw_WGhM_n5"
      },
      "outputs": [],
      "source": [
        "def get_colunas(dados_csv):\n",
        "  nomes_colunas_csv = list(dados_csv[0].keys())\n",
        "  return nomes_colunas_csv"
      ]
    },
    {
      "cell_type": "code",
      "execution_count": 49,
      "metadata": {
        "colab": {
          "base_uri": "https://localhost:8080/"
        },
        "id": "hVXhuyMDNFcI",
        "outputId": "cd8bc2d1-98f3-42f5-9b7f-008927df01d9"
      },
      "outputs": [
        {
          "data": {
            "text/plain": [
              "['Nome do Item',\n",
              " 'ClassificaÃ§Ã£o do Produto',\n",
              " 'Valor em Reais (R$)',\n",
              " 'Quantidade em Estoque',\n",
              " 'Nome da Loja',\n",
              " 'Data da Venda']"
            ]
          },
          "execution_count": 49,
          "metadata": {},
          "output_type": "execute_result"
        }
      ],
      "source": [
        "nomes_colunas_csv = get_colunas(dados_csv)\n",
        "nomes_colunas_csv"
      ]
    },
    {
      "cell_type": "code",
      "execution_count": 50,
      "metadata": {
        "colab": {
          "base_uri": "https://localhost:8080/"
        },
        "id": "PVxZt4hnNKJU",
        "outputId": "d2911f1b-bc3a-4500-8283-17c5af455ef3"
      },
      "outputs": [
        {
          "data": {
            "text/plain": [
              "['Nome do Produto',\n",
              " 'Categoria do Produto',\n",
              " 'Preço do Produto (R$)',\n",
              " 'Quantidade em Estoque',\n",
              " 'Filial']"
            ]
          },
          "execution_count": 50,
          "metadata": {},
          "output_type": "execute_result"
        }
      ],
      "source": [
        "nomes_colunas_json = get_colunas(dados_json)\n",
        "nomes_colunas_json"
      ]
    },
    {
      "cell_type": "markdown",
      "metadata": {
        "id": "J65r2lz7MMcc"
      },
      "source": [
        "### Rename columns"
      ]
    },
    {
      "cell_type": "code",
      "execution_count": 51,
      "metadata": {
        "colab": {
          "base_uri": "https://localhost:8080/"
        },
        "id": "icsRJObuMWRM",
        "outputId": "348c2d95-bcb8-42c2-853e-a63179e1672f"
      },
      "outputs": [
        {
          "data": {
            "text/plain": [
              "{'Nome do Item': 'Nome do Produto',\n",
              " 'Classificação do Produto': 'Categoria do Produto',\n",
              " 'Valor em Reais (R$)': 'Preço do Produto (R$)',\n",
              " 'Quantidade em Estoque': 'Quantidade em Estoque',\n",
              " 'Nome da Loja': 'Filial',\n",
              " 'Data da Venda': 'Data da Venda'}"
            ]
          },
          "execution_count": 51,
          "metadata": {},
          "output_type": "execute_result"
        }
      ],
      "source": [
        "key_mapping = {'Nome do Item': 'Nome do Produto',\n",
        "                'Classificação do Produto': 'Categoria do Produto',\n",
        "                'Valor em Reais (R$)': 'Preço do Produto (R$)',\n",
        "                'Quantidade em Estoque': 'Quantidade em Estoque',\n",
        "                'Nome da Loja': 'Filial',\n",
        "                'Data da Venda': 'Data da Venda'}\n",
        "key_mapping"
      ]
    },
    {
      "cell_type": "code",
      "execution_count": 52,
      "metadata": {
        "id": "EsGPQRbLMPcs"
      },
      "outputs": [],
      "source": [
        "def rename_columns(key_mapping, dados_csv):\n",
        "  # Create a new dictionary with renamed keys\n",
        "  new_dados_csv = [{key_mapping.get(old_key, old_key): value for old_key, value in old_dict.items()} for old_dict in dados_csv]\n",
        "\n",
        "  return new_dados_csv"
      ]
    },
    {
      "cell_type": "code",
      "execution_count": 53,
      "metadata": {
        "id": "saMwtt3mMuGa"
      },
      "outputs": [],
      "source": [
        "new_dados_csv = rename_columns(key_mapping, dados_csv)"
      ]
    },
    {
      "cell_type": "markdown",
      "metadata": {
        "id": "1VfOsQVbLjrN"
      },
      "source": [
        "### Tamanho dados"
      ]
    },
    {
      "cell_type": "code",
      "execution_count": 54,
      "metadata": {
        "id": "-xSPNq0LLn7q"
      },
      "outputs": [],
      "source": [
        "def size_dados(new_dados_csv):\n",
        "  return len(new_dados_csv)"
      ]
    },
    {
      "cell_type": "code",
      "execution_count": 55,
      "metadata": {
        "colab": {
          "base_uri": "https://localhost:8080/"
        },
        "id": "-c78ZqG8Ltbg",
        "outputId": "5b8eae0e-3779-48f9-b419-c8a31ff9ebd5"
      },
      "outputs": [
        {
          "data": {
            "text/plain": [
              "1000"
            ]
          },
          "execution_count": 55,
          "metadata": {},
          "output_type": "execute_result"
        }
      ],
      "source": [
        "size_dados(new_dados_csv)"
      ]
    },
    {
      "cell_type": "code",
      "execution_count": 56,
      "metadata": {
        "colab": {
          "base_uri": "https://localhost:8080/"
        },
        "id": "JvBlR1GhLuGS",
        "outputId": "d2a1422e-9235-44b4-8122-5db6dac3b99c"
      },
      "outputs": [
        {
          "data": {
            "text/plain": [
              "1000"
            ]
          },
          "execution_count": 56,
          "metadata": {},
          "output_type": "execute_result"
        }
      ],
      "source": [
        "size_dados(dados_json)"
      ]
    },
    {
      "cell_type": "markdown",
      "metadata": {
        "id": "iYKkIUHpLd9W"
      },
      "source": [
        "### Combinando Dados"
      ]
    },
    {
      "cell_type": "code",
      "execution_count": 57,
      "metadata": {
        "id": "gXLrUY_2LPFK"
      },
      "outputs": [],
      "source": [
        "def join_dict(new_dados_csv, dados_json):\n",
        "  # Create an empty list to store the combined result\n",
        "  combined_list = []\n",
        "\n",
        "  # Extend the combined_list with the elements from list1 and list2\n",
        "  combined_list.extend(new_dados_csv)\n",
        "  combined_list.extend(dados_json)\n",
        "\n",
        "  return combined_list"
      ]
    },
    {
      "cell_type": "code",
      "execution_count": 58,
      "metadata": {
        "colab": {
          "base_uri": "https://localhost:8080/"
        },
        "id": "rHw6qgSYLX3k",
        "outputId": "5cceb86b-704f-4b73-a1aa-4dfd990b1348"
      },
      "outputs": [
        {
          "data": {
            "text/plain": [
              "2000"
            ]
          },
          "execution_count": 58,
          "metadata": {},
          "output_type": "execute_result"
        }
      ],
      "source": [
        "combined_list = join_dict(new_dados_csv, dados_json)\n",
        "len(combined_list)"
      ]
    },
    {
      "cell_type": "markdown",
      "metadata": {
        "id": "5uo0KnJVLH5e"
      },
      "source": [
        "### Nomes colunas"
      ]
    },
    {
      "cell_type": "code",
      "execution_count": 59,
      "metadata": {
        "id": "XqaxWlnfKV5M"
      },
      "outputs": [],
      "source": [
        "def get_nome_colunas(combined_list):\n",
        "  nomes_colunas = set()\n",
        "\n",
        "  for row in combined_list:\n",
        "    for chave in row.keys():\n",
        "      nomes_colunas.add(chave)\n",
        "  return nomes_colunas"
      ]
    },
    {
      "cell_type": "code",
      "execution_count": 60,
      "metadata": {
        "colab": {
          "base_uri": "https://localhost:8080/"
        },
        "id": "nLTyF-zeK_D4",
        "outputId": "7d5527c4-0aa9-4f68-fc6f-01e7d06d5bf2"
      },
      "outputs": [
        {
          "data": {
            "text/plain": [
              "{'Categoria do Produto',\n",
              " 'ClassificaÃ§Ã£o do Produto',\n",
              " 'Data da Venda',\n",
              " 'Filial',\n",
              " 'Nome do Produto',\n",
              " 'Preço do Produto (R$)',\n",
              " 'Quantidade em Estoque'}"
            ]
          },
          "execution_count": 60,
          "metadata": {},
          "output_type": "execute_result"
        }
      ],
      "source": [
        "nomes_colunas =  get_nome_colunas(combined_list)\n",
        "nomes_colunas"
      ]
    },
    {
      "cell_type": "markdown",
      "metadata": {
        "id": "xSnWDpfFPwoA"
      },
      "source": [
        "### Transformando em Tabela"
      ]
    },
    {
      "cell_type": "code",
      "execution_count": 61,
      "metadata": {
        "id": "arkO2VtEPz43"
      },
      "outputs": [],
      "source": [
        "def transformando_dados_tabela(nomes_colunas, combined_list):\n",
        "  dados_combinados_tabela = [nomes_colunas]\n",
        "  for row in combined_list:\n",
        "    linhas = []\n",
        "    for coluna in nomes_colunas:\n",
        "      linhas.append(row.get(coluna, 'Indisponivel'))\n",
        "    dados_combinados_tabela.append(linhas)\n",
        "  return dados_combinados_tabela"
      ]
    },
    {
      "cell_type": "code",
      "execution_count": 62,
      "metadata": {
        "colab": {
          "base_uri": "https://localhost:8080/"
        },
        "id": "Lk1SJkzCQg7n",
        "outputId": "2048e2c2-9211-4d87-b2e1-6a91deef9acd"
      },
      "outputs": [
        {
          "data": {
            "text/plain": [
              "{'Categoria do Produto',\n",
              " 'ClassificaÃ§Ã£o do Produto',\n",
              " 'Data da Venda',\n",
              " 'Filial',\n",
              " 'Nome do Produto',\n",
              " 'Preço do Produto (R$)',\n",
              " 'Quantidade em Estoque'}"
            ]
          },
          "execution_count": 62,
          "metadata": {},
          "output_type": "execute_result"
        }
      ],
      "source": [
        "nomes_colunas"
      ]
    },
    {
      "cell_type": "code",
      "execution_count": 63,
      "metadata": {
        "id": "O6aB91spQDmp"
      },
      "outputs": [],
      "source": [
        "dados_combinados_tabela = transformando_dados_tabela(nomes_colunas, combined_list)"
      ]
    },
    {
      "cell_type": "markdown",
      "metadata": {
        "id": "FaUNiChRKSq1"
      },
      "source": [
        "### Função Salvando os Dados"
      ]
    },
    {
      "cell_type": "code",
      "execution_count": 64,
      "metadata": {
        "id": "bGYft_AYJa67"
      },
      "outputs": [],
      "source": [
        "def salvando_dados(csv_file, fieldnames, dados_combinados_tabela):\n",
        "\n",
        "  # Open the CSV file in write mode\n",
        "  with open(csv_file, mode='w', newline='') as file:\n",
        "      csv_writer = csv.writer(file)\n",
        "      csv_writer.writerows(dados_combinados_tabela)\n",
        "\n",
        "  print(\"Data written to\", csv_file)"
      ]
    },
    {
      "cell_type": "code",
      "execution_count": 65,
      "metadata": {
        "colab": {
          "base_uri": "https://localhost:8080/"
        },
        "id": "fM0fyhtoJkWz",
        "outputId": "098f6bfe-4748-40d5-cf94-e09b68b1e3c1"
      },
      "outputs": [
        {
          "name": "stdout",
          "output_type": "stream",
          "text": [
            "Data written to ../dados_raw/combined.csv\n"
          ]
        }
      ],
      "source": [
        "# Specify the CSV file name\n",
        "csv_file = \"../dados_raw/combined.csv\"\n",
        "\n",
        "salvando_dados(csv_file, nomes_colunas_json, dados_combinados_tabela)"
      ]
    },
    {
      "cell_type": "markdown",
      "metadata": {
        "id": "tT-Ny5jIQyfN"
      },
      "source": [
        "# Aula 6 OO"
      ]
    },
    {
      "cell_type": "markdown",
      "metadata": {
        "id": "9L040ZfIUsGK"
      },
      "source": [
        "### Leitura"
      ]
    },
    {
      "cell_type": "code",
      "execution_count": 66,
      "metadata": {
        "id": "pUqjKe8DQ-OJ"
      },
      "outputs": [],
      "source": [
        "import csv\n",
        "import json\n",
        "\n",
        "class Dados:\n",
        "  def __init__(self, caminho, tipo_arquivo):\n",
        "    self.__caminho = caminho\n",
        "    self.__tipo_arquivo = tipo_arquivo\n",
        "    self.dados = self.__carrega_dados()\n",
        "\n",
        "  def __carrega_dados(self):\n",
        "\n",
        "    if self.__tipo_arquivo == 'csv':\n",
        "      dados = self.__leitura_csv()\n",
        "\n",
        "    elif self.__tipo_arquivo == 'json':\n",
        "      dados = self.__leitura_json()\n",
        "\n",
        "    else:\n",
        "      dados = None\n",
        "      print(f'Tipo invalido {self.tipo_arquivo}')\n",
        "\n",
        "    return dados\n",
        "\n",
        "  def __leitura_csv(self):\n",
        "    dados_csv = []\n",
        "    # Replace 'your_file.csv' with the path to your CSV file.\n",
        "    with open(self.__caminho, mode='r') as csv_file:\n",
        "        # Create a DictReader object and specify the delimiter if it's not a comma.\n",
        "        csv_reader = csv.DictReader(csv_file)\n",
        "        for row in csv_reader:\n",
        "          dados_csv.append(row)\n",
        "\n",
        "    return dados_csv\n",
        "\n",
        "  def __leitura_json(self):\n",
        "    with open(self.__caminho, 'r') as file:\n",
        "      dados_json = json.load(file)\n",
        "\n",
        "    return dados_json"
      ]
    },
    {
      "cell_type": "code",
      "execution_count": 67,
      "metadata": {
        "id": "pQp2P5M0Tqyf"
      },
      "outputs": [],
      "source": [
        "path_csv = \"../dados_raw/dados_empresaB.csv\"\n",
        "path_json = '../dados_raw/dados_empresaA.json'"
      ]
    },
    {
      "cell_type": "code",
      "execution_count": 68,
      "metadata": {
        "id": "T6pKm2mjTvGF"
      },
      "outputs": [],
      "source": [
        "dados_mercadoA = Dados(path_csv, 'csv')\n",
        "dados_mercadoB = Dados(path_json, 'json')"
      ]
    },
    {
      "cell_type": "code",
      "execution_count": 69,
      "metadata": {
        "colab": {
          "base_uri": "https://localhost:8080/"
        },
        "id": "5CFRp_G8T2at",
        "outputId": "39af59ea-07f1-4554-bd17-dbc0faec9594"
      },
      "outputs": [
        {
          "data": {
            "text/plain": [
              "1000"
            ]
          },
          "execution_count": 69,
          "metadata": {},
          "output_type": "execute_result"
        }
      ],
      "source": [
        "len(dados_mercadoB.dados)"
      ]
    },
    {
      "cell_type": "markdown",
      "metadata": {
        "id": "llZyvQzFUqAe"
      },
      "source": [
        "### Colunas"
      ]
    },
    {
      "cell_type": "code",
      "execution_count": 70,
      "metadata": {
        "id": "zeKEGl9FUoXz"
      },
      "outputs": [],
      "source": [
        "import csv\n",
        "import json\n",
        "\n",
        "class Dados:\n",
        "  def __init__(self, caminho, tipo_arquivo):\n",
        "    self.__caminho = caminho\n",
        "    self.__tipo_arquivo = tipo_arquivo\n",
        "    self.dados = self.__carrega_dados()\n",
        "    self.nomes_colunas = self.__pega_colunas()\n",
        "\n",
        "  def __carrega_dados(self):\n",
        "\n",
        "    if self.__tipo_arquivo == 'csv':\n",
        "      dados = self.__leitura_csv()\n",
        "\n",
        "    elif self.__tipo_arquivo == 'json':\n",
        "      dados = self.__leitura_json()\n",
        "\n",
        "    else:\n",
        "      dados = None\n",
        "      print(f'Tipo invalido {self.tipo_arquivo}')\n",
        "\n",
        "    return dados\n",
        "\n",
        "  def __leitura_csv(self):\n",
        "    dados_csv = []\n",
        "    # Replace 'your_file.csv' with the path to your CSV file.\n",
        "    with open(self.__caminho, mode='r') as csv_file:\n",
        "        # Create a DictReader object and specify the delimiter if it's not a comma.\n",
        "        csv_reader = csv.DictReader(csv_file)\n",
        "        for row in csv_reader:\n",
        "          dados_csv.append(row)\n",
        "\n",
        "    return dados_csv\n",
        "\n",
        "  def __leitura_json(self):\n",
        "    with open(self.__caminho, 'r') as file:\n",
        "      dados_json = json.load(file)\n",
        "\n",
        "    return dados_json\n",
        "\n",
        "  def __pega_colunas(self):\n",
        "    nomes_colunas_csv = list(self.dados[0].keys())\n",
        "    return nomes_colunas_csv"
      ]
    },
    {
      "cell_type": "code",
      "execution_count": 71,
      "metadata": {
        "id": "LToU9OAaU0_0"
      },
      "outputs": [],
      "source": [
        "path_csv = \"../dados_raw/dados_empresaB.csv\"\n",
        "path_json = '../dados_raw/dados_empresaA.json'"
      ]
    },
    {
      "cell_type": "code",
      "execution_count": 72,
      "metadata": {
        "id": "3hlk6ayuU0_0"
      },
      "outputs": [],
      "source": [
        "dados_mercadoA = Dados(path_csv, 'csv')\n",
        "dados_mercadoB = Dados(path_json, 'json')"
      ]
    },
    {
      "cell_type": "code",
      "execution_count": 73,
      "metadata": {
        "colab": {
          "base_uri": "https://localhost:8080/"
        },
        "id": "rKDfgncZU0_0",
        "outputId": "fd094528-fdfc-41a4-c5af-112f83d310f9"
      },
      "outputs": [
        {
          "data": {
            "text/plain": [
              "1000"
            ]
          },
          "execution_count": 73,
          "metadata": {},
          "output_type": "execute_result"
        }
      ],
      "source": [
        "len(dados_mercadoB.dados)"
      ]
    },
    {
      "cell_type": "code",
      "execution_count": 74,
      "metadata": {
        "colab": {
          "base_uri": "https://localhost:8080/"
        },
        "id": "DHuJ-i8XVRj7",
        "outputId": "cb91c577-7fce-47d7-97db-0405c2f2aca5"
      },
      "outputs": [
        {
          "data": {
            "text/plain": [
              "['Nome do Produto',\n",
              " 'Categoria do Produto',\n",
              " 'Preço do Produto (R$)',\n",
              " 'Quantidade em Estoque',\n",
              " 'Filial']"
            ]
          },
          "execution_count": 74,
          "metadata": {},
          "output_type": "execute_result"
        }
      ],
      "source": [
        "dados_mercadoB.nomes_colunas"
      ]
    },
    {
      "cell_type": "markdown",
      "metadata": {
        "id": "xoHYbcPmOiBt"
      },
      "source": [
        "Método Rename"
      ]
    },
    {
      "cell_type": "code",
      "execution_count": 75,
      "metadata": {
        "id": "yrMnwKBQN-xF"
      },
      "outputs": [],
      "source": [
        "import csv\n",
        "import json\n",
        "\n",
        "class Dados:\n",
        "  def __init__(self, caminho, tipo_arquivo):\n",
        "    self.__caminho = caminho\n",
        "    self.__tipo_arquivo = tipo_arquivo\n",
        "    self.dados = self.__carrega_dados()\n",
        "    self.nomes_colunas = self.__pega_colunas()\n",
        "\n",
        "  def __carrega_dados(self):\n",
        "\n",
        "    if self.__tipo_arquivo == 'csv':\n",
        "      dados = self.__leitura_csv()\n",
        "\n",
        "    elif self.__tipo_arquivo == 'json':\n",
        "      dados = self.__leitura_json()\n",
        "\n",
        "    else:\n",
        "      dados = None\n",
        "      print(f'Tipo invalido {self.tipo_arquivo}')\n",
        "\n",
        "    return dados\n",
        "\n",
        "  def __leitura_csv(self):\n",
        "    dados_csv = []\n",
        "    # Replace 'your_file.csv' with the path to your CSV file.\n",
        "    with open(self.__caminho, mode='r') as csv_file:\n",
        "        # Create a DictReader object and specify the delimiter if it's not a comma.\n",
        "        csv_reader = csv.DictReader(csv_file)\n",
        "        for row in csv_reader:\n",
        "          dados_csv.append(row)\n",
        "\n",
        "    return dados_csv\n",
        "\n",
        "  def __leitura_json(self):\n",
        "    with open(self.__caminho, 'r') as file:\n",
        "      dados_json = json.load(file)\n",
        "\n",
        "    return dados_json\n",
        "\n",
        "  def __pega_colunas(self):\n",
        "    nomes_colunas_csv = list(self.dados[0].keys())\n",
        "    return nomes_colunas_csv\n",
        "\n",
        "  def rename_columns(self, key_mapping):\n",
        "    # Create a new dictionary with renamed keys\n",
        "    self.dados = [{key_mapping.get(old_key, old_key): value for old_key, value in old_dict.items()} for old_dict in self.dados]\n",
        "    self.nomes_colunas = self.__pega_colunas()"
      ]
    },
    {
      "cell_type": "code",
      "execution_count": 76,
      "metadata": {
        "id": "KFlnrbUCOgXK"
      },
      "outputs": [],
      "source": [
        "path_csv = \"../dados_raw/dados_empresaB.csv\"\n",
        "path_json = '../dados_raw/dados_empresaA.json'"
      ]
    },
    {
      "cell_type": "code",
      "execution_count": 77,
      "metadata": {
        "id": "5AZNHB26OgXL"
      },
      "outputs": [],
      "source": [
        "dados_mercadoA = Dados(path_csv, 'csv')\n",
        "dados_mercadoB = Dados(path_json, 'json')"
      ]
    },
    {
      "cell_type": "code",
      "execution_count": 78,
      "metadata": {
        "colab": {
          "base_uri": "https://localhost:8080/"
        },
        "id": "s3PBvpoqOgXL",
        "outputId": "690e2036-b3db-41d3-a6f2-42076a913983"
      },
      "outputs": [
        {
          "data": {
            "text/plain": [
              "1000"
            ]
          },
          "execution_count": 78,
          "metadata": {},
          "output_type": "execute_result"
        }
      ],
      "source": [
        "len(dados_mercadoB.dados)"
      ]
    },
    {
      "cell_type": "code",
      "execution_count": 79,
      "metadata": {
        "colab": {
          "base_uri": "https://localhost:8080/"
        },
        "id": "GQCmTxLNOm4v",
        "outputId": "a41df46c-f4e3-4188-93fd-0addfd713742"
      },
      "outputs": [
        {
          "data": {
            "text/plain": [
              "['Nome do Item',\n",
              " 'ClassificaÃ§Ã£o do Produto',\n",
              " 'Valor em Reais (R$)',\n",
              " 'Quantidade em Estoque',\n",
              " 'Nome da Loja',\n",
              " 'Data da Venda']"
            ]
          },
          "execution_count": 79,
          "metadata": {},
          "output_type": "execute_result"
        }
      ],
      "source": [
        "dados_mercadoA.nomes_colunas"
      ]
    },
    {
      "cell_type": "code",
      "execution_count": 80,
      "metadata": {
        "colab": {
          "base_uri": "https://localhost:8080/"
        },
        "id": "umIIwa-mOgXL",
        "outputId": "94e60199-5513-4c74-d502-c2539c64d719"
      },
      "outputs": [
        {
          "data": {
            "text/plain": [
              "['Nome do Produto',\n",
              " 'Categoria do Produto',\n",
              " 'Preço do Produto (R$)',\n",
              " 'Quantidade em Estoque',\n",
              " 'Filial']"
            ]
          },
          "execution_count": 80,
          "metadata": {},
          "output_type": "execute_result"
        }
      ],
      "source": [
        "dados_mercadoB.nomes_colunas"
      ]
    },
    {
      "cell_type": "code",
      "execution_count": 81,
      "metadata": {
        "colab": {
          "base_uri": "https://localhost:8080/"
        },
        "id": "6SFyCtCAOgXL",
        "outputId": "70fc0fa5-56c8-4ad9-aa39-4c3ffd3bd9e4"
      },
      "outputs": [
        {
          "data": {
            "text/plain": [
              "{'Nome do Item': 'Nome do Produto',\n",
              " 'Classificação do Produto': 'Categoria do Produto',\n",
              " 'Valor em Reais (R$)': 'Preço do Produto (R$)',\n",
              " 'Quantidade em Estoque': 'Quantidade em Estoque',\n",
              " 'Nome da Loja': 'Filial',\n",
              " 'Data da Venda': 'Data da Venda'}"
            ]
          },
          "execution_count": 81,
          "metadata": {},
          "output_type": "execute_result"
        }
      ],
      "source": [
        "key_mapping = {'Nome do Item': 'Nome do Produto',\n",
        "                'Classificação do Produto': 'Categoria do Produto',\n",
        "                'Valor em Reais (R$)': 'Preço do Produto (R$)',\n",
        "                'Quantidade em Estoque': 'Quantidade em Estoque',\n",
        "                'Nome da Loja': 'Filial',\n",
        "                'Data da Venda': 'Data da Venda'}\n",
        "key_mapping"
      ]
    },
    {
      "cell_type": "code",
      "execution_count": 82,
      "metadata": {
        "colab": {
          "base_uri": "https://localhost:8080/"
        },
        "id": "2z3wcVqTN86e",
        "outputId": "554b3a93-d1ed-44f2-c29d-6961081f818a"
      },
      "outputs": [
        {
          "data": {
            "text/plain": [
              "['Nome do Produto',\n",
              " 'ClassificaÃ§Ã£o do Produto',\n",
              " 'Preço do Produto (R$)',\n",
              " 'Quantidade em Estoque',\n",
              " 'Filial',\n",
              " 'Data da Venda']"
            ]
          },
          "execution_count": 82,
          "metadata": {},
          "output_type": "execute_result"
        }
      ],
      "source": [
        "dados_mercadoA.rename_columns(key_mapping)\n",
        "dados_mercadoA.nomes_colunas"
      ]
    },
    {
      "cell_type": "code",
      "execution_count": 83,
      "metadata": {
        "colab": {
          "base_uri": "https://localhost:8080/"
        },
        "id": "FYsbVXHlOxg_",
        "outputId": "f17c5cb9-30d4-49fd-dcc0-7f6b5104bf84"
      },
      "outputs": [
        {
          "data": {
            "text/plain": [
              "['Nome do Produto',\n",
              " 'Categoria do Produto',\n",
              " 'Preço do Produto (R$)',\n",
              " 'Quantidade em Estoque',\n",
              " 'Filial']"
            ]
          },
          "execution_count": 83,
          "metadata": {},
          "output_type": "execute_result"
        }
      ],
      "source": [
        "dados_mercadoB.rename_columns(key_mapping)\n",
        "dados_mercadoB.nomes_colunas"
      ]
    },
    {
      "cell_type": "markdown",
      "metadata": {
        "id": "CaBPqFN2PDKX"
      },
      "source": [
        "## Juntando Dados"
      ]
    },
    {
      "cell_type": "markdown",
      "metadata": {
        "id": "lDKXyEDGtirn"
      },
      "source": [
        "### Conta linhas"
      ]
    },
    {
      "cell_type": "code",
      "execution_count": 84,
      "metadata": {
        "id": "D70kn9_FPVD1"
      },
      "outputs": [],
      "source": [
        "import csv\n",
        "import json\n",
        "\n",
        "class Dados:\n",
        "  def __init__(self, caminho, tipo_arquivo):\n",
        "    self.__caminho = caminho\n",
        "    self.__tipo_arquivo = tipo_arquivo\n",
        "    self.dados = self.__carrega_dados()\n",
        "    self.nomes_colunas = self.__pega_colunas()\n",
        "    self.qtd_linhas = self.__conta_linhas()\n",
        "\n",
        "  def __carrega_dados(self):\n",
        "\n",
        "    if self.__tipo_arquivo == 'csv':\n",
        "      dados = self.__leitura_csv()\n",
        "\n",
        "    elif self.__tipo_arquivo == 'json':\n",
        "      dados = self.__leitura_json()\n",
        "\n",
        "    else:\n",
        "      dados = None\n",
        "      print(f'Tipo invalido {self.tipo_arquivo}')\n",
        "\n",
        "    return dados\n",
        "\n",
        "  def __leitura_csv(self):\n",
        "    dados_csv = []\n",
        "    # Replace 'your_file.csv' with the path to your CSV file.\n",
        "    with open(self.__caminho, mode='r') as csv_file:\n",
        "        # Create a DictReader object and specify the delimiter if it's not a comma.\n",
        "        csv_reader = csv.DictReader(csv_file)\n",
        "        for row in csv_reader:\n",
        "          dados_csv.append(row)\n",
        "\n",
        "    return dados_csv\n",
        "\n",
        "  def __leitura_json(self):\n",
        "    with open(self.__caminho, 'r') as file:\n",
        "      dados_json = json.load(file)\n",
        "\n",
        "    return dados_json\n",
        "\n",
        "  def __pega_colunas(self):\n",
        "    nomes_colunas_csv = list(self.dados[0].keys())\n",
        "    return nomes_colunas_csv\n",
        "\n",
        "  def rename_columns(self, key_mapping):\n",
        "    # Create a new dictionary with renamed keys\n",
        "    self.dados = [{key_mapping.get(old_key, old_key): value for old_key, value in old_dict.items()} for old_dict in self.dados]\n",
        "    self.nomes_colunas = self.__pega_colunas()\n",
        "\n",
        "  def __conta_linhas(self):\n",
        "    return len(self.dados)"
      ]
    },
    {
      "cell_type": "code",
      "execution_count": 85,
      "metadata": {
        "id": "I0brHfVjPVD2"
      },
      "outputs": [],
      "source": [
        "path_csv = \"../dados_raw/dados_empresaB.csv\"\n",
        "path_json = '../dados_raw/dados_empresaA.json'"
      ]
    },
    {
      "cell_type": "code",
      "execution_count": 86,
      "metadata": {
        "id": "BSoXjZvHPVD2"
      },
      "outputs": [],
      "source": [
        "dados_mercadoA = Dados(path_csv, 'csv')\n",
        "dados_mercadoB = Dados(path_json, 'json')"
      ]
    },
    {
      "cell_type": "code",
      "execution_count": 87,
      "metadata": {
        "id": "T0SxPaYaPVD2"
      },
      "outputs": [],
      "source": [
        "key_mapping = {'Nome do Item': 'Nome do Produto',\n",
        "                'Classificação do Produto': 'Categoria do Produto',\n",
        "                'Valor em Reais (R$)': 'Preço do Produto (R$)',\n",
        "                'Quantidade em Estoque': 'Quantidade em Estoque',\n",
        "                'Nome da Loja': 'Filial',\n",
        "                'Data da Venda': 'Data da Venda'}\n",
        "dados_mercadoA.rename_columns(key_mapping)\n",
        "dados_mercadoB.rename_columns(key_mapping)"
      ]
    },
    {
      "cell_type": "code",
      "execution_count": 88,
      "metadata": {
        "colab": {
          "base_uri": "https://localhost:8080/"
        },
        "id": "KDS_2PouPVD3",
        "outputId": "54b730ce-e546-4377-fe14-a5dde8c9f37d"
      },
      "outputs": [
        {
          "data": {
            "text/plain": [
              "1000"
            ]
          },
          "execution_count": 88,
          "metadata": {},
          "output_type": "execute_result"
        }
      ],
      "source": [
        "dados_mercadoA.qtd_linhas"
      ]
    },
    {
      "cell_type": "code",
      "execution_count": 89,
      "metadata": {
        "colab": {
          "base_uri": "https://localhost:8080/"
        },
        "id": "r24x-wWBP00q",
        "outputId": "92e5d04c-a111-40e7-fec4-085515537242"
      },
      "outputs": [
        {
          "data": {
            "text/plain": [
              "1000"
            ]
          },
          "execution_count": 89,
          "metadata": {},
          "output_type": "execute_result"
        }
      ],
      "source": [
        "dados_mercadoB.qtd_linhas"
      ]
    },
    {
      "cell_type": "markdown",
      "metadata": {
        "id": "YWg_wYDtP5VO"
      },
      "source": [
        "### Unindo os dados"
      ]
    },
    {
      "cell_type": "code",
      "execution_count": 90,
      "metadata": {
        "id": "xyowkj6fdukj"
      },
      "outputs": [],
      "source": [
        "import csv\n",
        "import json\n",
        "\n",
        "class Dados:\n",
        "  def __init__(self, dados=None):\n",
        "\n",
        "    self.dados = dados\n",
        "    self.nomes_colunas = self.__pega_colunas()\n",
        "    self.qtd_linhas = self.__conta_linhas()\n",
        "\n",
        "  @classmethod\n",
        "  def carrega_dados(cls, caminho, tipo_arquivo):\n",
        "\n",
        "    if tipo_arquivo == 'csv':\n",
        "      dados = cls.__leitura_csv(caminho)\n",
        "\n",
        "    elif tipo_arquivo == 'json':\n",
        "      dados = cls.__leitura_json(caminho)\n",
        "\n",
        "    else:\n",
        "      dados = None\n",
        "      print(f'Tipo invalido {tipo_arquivo}')\n",
        "\n",
        "    return cls(dados)\n",
        "\n",
        "  @staticmethod\n",
        "  def __leitura_csv(caminho):\n",
        "    dados_csv = []\n",
        "    with open(caminho, mode='r') as csv_file:\n",
        "        csv_reader = csv.DictReader(csv_file)\n",
        "        for row in csv_reader:\n",
        "          dados_csv.append(row)\n",
        "\n",
        "    return dados_csv\n",
        "\n",
        "  @staticmethod\n",
        "  def __leitura_json(caminho):\n",
        "    with open(caminho, 'r') as file:\n",
        "      dados_json = json.load(file)\n",
        "\n",
        "    return dados_json\n",
        "\n",
        "  def __pega_colunas(self):\n",
        "    nomes_colunas_csv = list(self.dados[0].keys())\n",
        "    return nomes_colunas_csv\n",
        "\n",
        "  def rename_columns(self, key_mapping):\n",
        "    self.dados = [{key_mapping.get(old_key, old_key): value for old_key, value in old_dict.items()} for old_dict in self.dados]\n",
        "    self.nomes_colunas = self.__pega_colunas()\n",
        "\n",
        "  def __conta_linhas(self):\n",
        "    return len(self.dados)\n",
        "\n",
        "  @classmethod\n",
        "  def join_dict(cls, dadosA, dadosB):\n",
        "\n",
        "    combined_list = []\n",
        "\n",
        "    combined_list.extend(dadosA.dados)\n",
        "    combined_list.extend(dadosB.dados)\n",
        "\n",
        "    return cls(combined_list)"
      ]
    },
    {
      "cell_type": "code",
      "execution_count": 91,
      "metadata": {
        "id": "o1vxPOA4dukk"
      },
      "outputs": [],
      "source": [
        "path_csv = \"../dados_raw/dados_empresaB.csv\"\n",
        "path_json = '../dados_raw/dados_empresaA.json'"
      ]
    },
    {
      "cell_type": "code",
      "execution_count": 92,
      "metadata": {
        "id": "pFCDpwOddukk"
      },
      "outputs": [],
      "source": [
        "dados_mercadoA = Dados.carrega_dados(path_csv, 'csv')\n",
        "dados_mercadoB = Dados.carrega_dados(path_json, 'json')"
      ]
    },
    {
      "cell_type": "code",
      "execution_count": 93,
      "metadata": {
        "id": "VdYGcIIzdukk"
      },
      "outputs": [],
      "source": [
        "key_mapping = {'Nome do Item': 'Nome do Produto',\n",
        "                'Classificação do Produto': 'Categoria do Produto',\n",
        "                'Valor em Reais (R$)': 'Preço do Produto (R$)',\n",
        "                'Quantidade em Estoque': 'Quantidade em Estoque',\n",
        "                'Nome da Loja': 'Filial',\n",
        "                'Data da Venda': 'Data da Venda'}\n",
        "dados_mercadoA.rename_columns(key_mapping)\n",
        "dados_mercadoB.rename_columns(key_mapping)"
      ]
    },
    {
      "cell_type": "code",
      "execution_count": 94,
      "metadata": {
        "id": "NpnckESOehnh"
      },
      "outputs": [],
      "source": [
        "dados_fusao = dados_mercadoA.join_dict(dados_mercadoA, dados_mercadoB)"
      ]
    },
    {
      "cell_type": "code",
      "execution_count": 95,
      "metadata": {
        "colab": {
          "base_uri": "https://localhost:8080/"
        },
        "id": "GszczuL8fuyy",
        "outputId": "b71f7d18-e088-4729-8721-1eb27462f3c7"
      },
      "outputs": [
        {
          "data": {
            "text/plain": [
              "2000"
            ]
          },
          "execution_count": 95,
          "metadata": {},
          "output_type": "execute_result"
        }
      ],
      "source": [
        "dados_fusao.qtd_linhas"
      ]
    },
    {
      "cell_type": "code",
      "execution_count": 96,
      "metadata": {
        "colab": {
          "base_uri": "https://localhost:8080/"
        },
        "id": "_d9z0vFupwHl",
        "outputId": "07c1cc76-ebf1-4b62-fd6b-0704a70d2d58"
      },
      "outputs": [
        {
          "data": {
            "text/plain": [
              "['Nome do Produto',\n",
              " 'ClassificaÃ§Ã£o do Produto',\n",
              " 'Preço do Produto (R$)',\n",
              " 'Quantidade em Estoque',\n",
              " 'Filial',\n",
              " 'Data da Venda']"
            ]
          },
          "execution_count": 96,
          "metadata": {},
          "output_type": "execute_result"
        }
      ],
      "source": [
        "dados_fusao.nomes_colunas"
      ]
    },
    {
      "cell_type": "markdown",
      "metadata": {
        "id": "bxG_lZRuqo4q"
      },
      "source": [
        "### Transformando dados"
      ]
    },
    {
      "cell_type": "code",
      "execution_count": 109,
      "metadata": {
        "id": "25dpVdWrqrzu"
      },
      "outputs": [],
      "source": [
        "import csv\n",
        "import json\n",
        "\n",
        "class Dados:\n",
        "  def __init__(self, dados=None):\n",
        "\n",
        "    self.dados = dados\n",
        "    self.nomes_colunas = self.__pega_colunas()\n",
        "    self.qtd_linhas = self.__conta_linhas()\n",
        "\n",
        "  @classmethod\n",
        "  def carrega_dados(cls, caminho, tipo_arquivo):\n",
        "\n",
        "    if tipo_arquivo == 'csv':\n",
        "      dados = cls.__leitura_csv(caminho)\n",
        "\n",
        "    elif tipo_arquivo == 'json':\n",
        "      dados = cls.__leitura_json(caminho)\n",
        "\n",
        "    else:\n",
        "      dados = None\n",
        "      print(f'Tipo invalido {tipo_arquivo}')\n",
        "\n",
        "    return cls(dados)\n",
        "\n",
        "  @staticmethod\n",
        "  def __leitura_csv(caminho):\n",
        "    dados_csv = []\n",
        "    with open(caminho, mode='r') as csv_file:\n",
        "        csv_reader = csv.DictReader(csv_file)\n",
        "        for row in csv_reader:\n",
        "          dados_csv.append(row)\n",
        "\n",
        "    return dados_csv\n",
        "\n",
        "  @staticmethod\n",
        "  def __leitura_json(caminho):\n",
        "    with open(caminho, 'r') as file:\n",
        "      dados_json = json.load(file)\n",
        "\n",
        "    return dados_json\n",
        "\n",
        "  def __pega_colunas(self):\n",
        "    nomes_colunas_csv = list(self.dados[0].keys())\n",
        "    return nomes_colunas_csv\n",
        "\n",
        "  def rename_columns(self, key_mapping):\n",
        "    self.dados = [{key_mapping.get(old_key, old_key): value for old_key, value in old_dict.items()} for old_dict in self.dados]\n",
        "    self.nomes_colunas = self.__pega_colunas()\n",
        "\n",
        "  def __conta_linhas(self):\n",
        "    return len(self.dados)\n",
        "\n",
        "  @classmethod\n",
        "  def join_dict(cls, dadosA, dadosB):\n",
        "\n",
        "    combined_list = []\n",
        "\n",
        "    combined_list.extend(dadosA.dados)\n",
        "    combined_list.extend(dadosB.dados)\n",
        "\n",
        "    return cls(combined_list)\n",
        "\n",
        "  def __transformando_dados_tabela(self):\n",
        "    dados_combinados_tabela = [self.nomes_colunas]\n",
        "    for row in self.dados:\n",
        "      linhas = []\n",
        "      for coluna in self.nomes_colunas:\n",
        "        linhas.append(row.get(coluna, 'Indisponivel'))\n",
        "      dados_combinados_tabela.append(linhas)\n",
        "\n",
        "    return dados_combinados_tabela\n",
        "\n",
        "  def salvando_dados(self, csv_file):\n",
        "\n",
        "    dados_combinados_tabela = self.__transformando_dados_tabela()\n",
        "\n",
        "    # Open the CSV file in write mode\n",
        "    with open(csv_file, mode='w', newline='', encoding='utf-8') as file:\n",
        "        csv_writer = csv.writer(file)\n",
        "        csv_writer.writerows(dados_combinados_tabela)\n",
        "\n",
        "    print(\"Data written to\", csv_file)"
      ]
    },
    {
      "cell_type": "code",
      "execution_count": 110,
      "metadata": {
        "id": "-tiGaNGTqrzv"
      },
      "outputs": [],
      "source": [
        "path_csv = \"../dados_raw/dados_empresaB.csv\"\n",
        "path_json = '../dados_raw/dados_empresaA.json'"
      ]
    },
    {
      "cell_type": "code",
      "execution_count": 111,
      "metadata": {
        "id": "u7guOlFQqrzv"
      },
      "outputs": [],
      "source": [
        "dados_mercadoA = Dados.carrega_dados(path_csv, 'csv')\n",
        "dados_mercadoB = Dados.carrega_dados(path_json, 'json')"
      ]
    },
    {
      "cell_type": "code",
      "execution_count": 112,
      "metadata": {
        "id": "pyKfG92Yqrzv"
      },
      "outputs": [],
      "source": [
        "key_mapping = {'Nome do Item': 'Nome do Produto',\n",
        "                'Classificação do Produto': 'Categoria do Produto',\n",
        "                'Valor em Reais (R$)': 'Preço do Produto (R$)',\n",
        "                'Quantidade em Estoque': 'Quantidade em Estoque',\n",
        "                'Nome da Loja': 'Filial',\n",
        "                'Data da Venda': 'Data da Venda'}\n",
        "dados_mercadoA.rename_columns(key_mapping)\n",
        "dados_mercadoB.rename_columns(key_mapping)"
      ]
    },
    {
      "cell_type": "code",
      "execution_count": 113,
      "metadata": {
        "id": "xQda4ZPbqrzv"
      },
      "outputs": [],
      "source": [
        "dados_fusao = dados_mercadoA.join_dict(dados_mercadoA, dados_mercadoB)"
      ]
    },
    {
      "cell_type": "code",
      "execution_count": 114,
      "metadata": {
        "colab": {
          "base_uri": "https://localhost:8080/"
        },
        "id": "AUrKawUYqrzv",
        "outputId": "f1316503-cc13-45bd-86d7-00293bc041ba"
      },
      "outputs": [
        {
          "data": {
            "text/plain": [
              "2000"
            ]
          },
          "execution_count": 114,
          "metadata": {},
          "output_type": "execute_result"
        }
      ],
      "source": [
        "dados_fusao.qtd_linhas"
      ]
    },
    {
      "cell_type": "code",
      "execution_count": 115,
      "metadata": {
        "colab": {
          "base_uri": "https://localhost:8080/"
        },
        "id": "ju6MxOHDqrzw",
        "outputId": "2aea1ffa-7701-4ab9-a746-c9f859f2b0c5"
      },
      "outputs": [
        {
          "data": {
            "text/plain": [
              "['Nome do Produto',\n",
              " 'ClassificaÃ§Ã£o do Produto',\n",
              " 'Preço do Produto (R$)',\n",
              " 'Quantidade em Estoque',\n",
              " 'Filial',\n",
              " 'Data da Venda']"
            ]
          },
          "execution_count": 115,
          "metadata": {},
          "output_type": "execute_result"
        }
      ],
      "source": [
        "dados_fusao.nomes_colunas"
      ]
    },
    {
      "cell_type": "code",
      "execution_count": 116,
      "metadata": {
        "colab": {
          "base_uri": "https://localhost:8080/"
        },
        "id": "X_7JLiYMrM5m",
        "outputId": "c03fbd8d-ac22-4682-e617-b02a0dbaf1d4"
      },
      "outputs": [
        {
          "name": "stdout",
          "output_type": "stream",
          "text": [
            "Data written to ../dados_raw/combined.csv\n"
          ]
        }
      ],
      "source": [
        "# Specify the CSV file name\n",
        "csv_file = \"../dados_raw/combined.csv\"\n",
        "\n",
        "dados_fusao.salvando_dados(csv_file)"
      ]
    },
    {
      "cell_type": "markdown",
      "metadata": {
        "id": "FAheQvIWu_2C"
      },
      "source": [
        "# Resultado final"
      ]
    },
    {
      "cell_type": "code",
      "execution_count": 117,
      "metadata": {
        "id": "HM77espTu7CR"
      },
      "outputs": [],
      "source": [
        "import pandas as pd"
      ]
    },
    {
      "cell_type": "code",
      "execution_count": 119,
      "metadata": {
        "colab": {
          "base_uri": "https://localhost:8080/",
          "height": 424
        },
        "id": "Id03D6L0u8L-",
        "outputId": "c130619f-f5b9-4fd5-eeb5-51a4cd4319b2"
      },
      "outputs": [
        {
          "data": {
            "text/html": [
              "<div>\n",
              "<style scoped>\n",
              "    .dataframe tbody tr th:only-of-type {\n",
              "        vertical-align: middle;\n",
              "    }\n",
              "\n",
              "    .dataframe tbody tr th {\n",
              "        vertical-align: top;\n",
              "    }\n",
              "\n",
              "    .dataframe thead th {\n",
              "        text-align: right;\n",
              "    }\n",
              "</style>\n",
              "<table border=\"1\" class=\"dataframe\">\n",
              "  <thead>\n",
              "    <tr style=\"text-align: right;\">\n",
              "      <th></th>\n",
              "      <th>Nome do Produto</th>\n",
              "      <th>ClassificaÃ§Ã£o do Produto</th>\n",
              "      <th>Preço do Produto (R$)</th>\n",
              "      <th>Quantidade em Estoque</th>\n",
              "      <th>Filial</th>\n",
              "      <th>Data da Venda</th>\n",
              "    </tr>\n",
              "  </thead>\n",
              "  <tbody>\n",
              "    <tr>\n",
              "      <th>0</th>\n",
              "      <td>Base lÃ­quida</td>\n",
              "      <td>Roupas</td>\n",
              "      <td>38.01</td>\n",
              "      <td>77</td>\n",
              "      <td>Filial 5</td>\n",
              "      <td>2023-04-03 03:29:53.201930</td>\n",
              "    </tr>\n",
              "    <tr>\n",
              "      <th>1</th>\n",
              "      <td>Base lÃ­quida</td>\n",
              "      <td>Roupas</td>\n",
              "      <td>86.78</td>\n",
              "      <td>90</td>\n",
              "      <td>Filial 8</td>\n",
              "      <td>2023-03-21 03:29:53.201930</td>\n",
              "    </tr>\n",
              "    <tr>\n",
              "      <th>2</th>\n",
              "      <td>Base lÃ­quida</td>\n",
              "      <td>EletrÃ´nicos</td>\n",
              "      <td>34.43</td>\n",
              "      <td>22</td>\n",
              "      <td>Filial 10</td>\n",
              "      <td>2023-03-02 03:29:53.201930</td>\n",
              "    </tr>\n",
              "    <tr>\n",
              "      <th>3</th>\n",
              "      <td>LÃ¡pis de sobrancelha</td>\n",
              "      <td>Roupas</td>\n",
              "      <td>9.40</td>\n",
              "      <td>73</td>\n",
              "      <td>Filial 9</td>\n",
              "      <td>2023-03-23 03:29:53.201930</td>\n",
              "    </tr>\n",
              "    <tr>\n",
              "      <th>4</th>\n",
              "      <td>LÃ¡pis de sobrancelha</td>\n",
              "      <td>Alimentos</td>\n",
              "      <td>89.25</td>\n",
              "      <td>26</td>\n",
              "      <td>Filial 4</td>\n",
              "      <td>2022-09-27 03:29:53.201930</td>\n",
              "    </tr>\n",
              "    <tr>\n",
              "      <th>...</th>\n",
              "      <td>...</td>\n",
              "      <td>...</td>\n",
              "      <td>...</td>\n",
              "      <td>...</td>\n",
              "      <td>...</td>\n",
              "      <td>...</td>\n",
              "    </tr>\n",
              "    <tr>\n",
              "      <th>1995</th>\n",
              "      <td>Máscara de cílios</td>\n",
              "      <td>Indisponivel</td>\n",
              "      <td>87.67</td>\n",
              "      <td>3</td>\n",
              "      <td>Filial 6</td>\n",
              "      <td>Indisponivel</td>\n",
              "    </tr>\n",
              "    <tr>\n",
              "      <th>1996</th>\n",
              "      <td>Delineador líquido</td>\n",
              "      <td>Indisponivel</td>\n",
              "      <td>42.50</td>\n",
              "      <td>94</td>\n",
              "      <td>Filial 2</td>\n",
              "      <td>Indisponivel</td>\n",
              "    </tr>\n",
              "    <tr>\n",
              "      <th>1997</th>\n",
              "      <td>Corretivo</td>\n",
              "      <td>Indisponivel</td>\n",
              "      <td>23.65</td>\n",
              "      <td>67</td>\n",
              "      <td>Filial 3</td>\n",
              "      <td>Indisponivel</td>\n",
              "    </tr>\n",
              "    <tr>\n",
              "      <th>1998</th>\n",
              "      <td>Lápis de sobrancelha</td>\n",
              "      <td>Indisponivel</td>\n",
              "      <td>58.46</td>\n",
              "      <td>60</td>\n",
              "      <td>Filial 10</td>\n",
              "      <td>Indisponivel</td>\n",
              "    </tr>\n",
              "    <tr>\n",
              "      <th>1999</th>\n",
              "      <td>Base líquida</td>\n",
              "      <td>Indisponivel</td>\n",
              "      <td>95.84</td>\n",
              "      <td>44</td>\n",
              "      <td>Filial 4</td>\n",
              "      <td>Indisponivel</td>\n",
              "    </tr>\n",
              "  </tbody>\n",
              "</table>\n",
              "<p>2000 rows × 6 columns</p>\n",
              "</div>"
            ],
            "text/plain": [
              "            Nome do Produto ClassificaÃ§Ã£o do Produto  Preço do Produto (R$)  \\\n",
              "0             Base lÃ­quida                     Roupas                  38.01   \n",
              "1             Base lÃ­quida                     Roupas                  86.78   \n",
              "2             Base lÃ­quida               EletrÃ´nicos                  34.43   \n",
              "3     LÃ¡pis de sobrancelha                     Roupas                   9.40   \n",
              "4     LÃ¡pis de sobrancelha                  Alimentos                  89.25   \n",
              "...                     ...                        ...                    ...   \n",
              "1995      Máscara de cílios               Indisponivel                  87.67   \n",
              "1996     Delineador líquido               Indisponivel                  42.50   \n",
              "1997              Corretivo               Indisponivel                  23.65   \n",
              "1998   Lápis de sobrancelha               Indisponivel                  58.46   \n",
              "1999           Base líquida               Indisponivel                  95.84   \n",
              "\n",
              "      Quantidade em Estoque     Filial               Data da Venda  \n",
              "0                        77   Filial 5  2023-04-03 03:29:53.201930  \n",
              "1                        90   Filial 8  2023-03-21 03:29:53.201930  \n",
              "2                        22  Filial 10  2023-03-02 03:29:53.201930  \n",
              "3                        73   Filial 9  2023-03-23 03:29:53.201930  \n",
              "4                        26   Filial 4  2022-09-27 03:29:53.201930  \n",
              "...                     ...        ...                         ...  \n",
              "1995                      3   Filial 6                Indisponivel  \n",
              "1996                     94   Filial 2                Indisponivel  \n",
              "1997                     67   Filial 3                Indisponivel  \n",
              "1998                     60  Filial 10                Indisponivel  \n",
              "1999                     44   Filial 4                Indisponivel  \n",
              "\n",
              "[2000 rows x 6 columns]"
            ]
          },
          "execution_count": 119,
          "metadata": {},
          "output_type": "execute_result"
        }
      ],
      "source": [
        "pd.read_csv(\"../dados_raw/combined.csv\")"
      ]
    }
  ],
  "metadata": {
    "colab": {
      "collapsed_sections": [
        "haE5T58pLuRG",
        "zAvxOnNeWnql",
        "dUh-2AGPW8wv",
        "rlPf2K8HUBtB",
        "G1hrqUDoYpi9",
        "p5Tb6bERYwIn",
        "m_pnmWVyY3F8",
        "FTUzFvlPcTzi",
        "j36LF4cKJWap",
        "lLKKCBJ8Nf4W",
        "cZOz9i2DM9E_",
        "J65r2lz7MMcc",
        "1VfOsQVbLjrN",
        "iYKkIUHpLd9W",
        "5uo0KnJVLH5e",
        "xSnWDpfFPwoA",
        "FaUNiChRKSq1",
        "9L040ZfIUsGK",
        "llZyvQzFUqAe",
        "lDKXyEDGtirn",
        "YWg_wYDtP5VO",
        "bxG_lZRuqo4q",
        "FAheQvIWu_2C"
      ],
      "provenance": [],
      "toc_visible": true
    },
    "kernelspec": {
      "display_name": "venv",
      "language": "python",
      "name": "python3"
    },
    "language_info": {
      "codemirror_mode": {
        "name": "ipython",
        "version": 3
      },
      "file_extension": ".py",
      "mimetype": "text/x-python",
      "name": "python",
      "nbconvert_exporter": "python",
      "pygments_lexer": "ipython3",
      "version": "3.11.3"
    },
    "orig_nbformat": 4,
    "vscode": {
      "interpreter": {
        "hash": "9fd0c83aef04519da1a35219a41fb6e77057b31fe0e45d3e435c7812a94a40d3"
      }
    }
  },
  "nbformat": 4,
  "nbformat_minor": 0
}
