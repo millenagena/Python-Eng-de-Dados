{
  "cells": [
    {
      "attachments": {},
      "cell_type": "markdown",
      "metadata": {
        "colab_type": "text",
        "id": "view-in-github"
      },
      "source": [
        "<a href=\"https://colab.research.google.com/github/millenagena/Python-Eng-de-Dados/blob/aula1_teste/notebooks/notebook.ipynb\" target=\"_parent\"><img src=\"https://colab.research.google.com/assets/colab-badge.svg\" alt=\"Open In Colab\"/></a>"
      ]
    },
    {
      "cell_type": "code",
      "execution_count": 2,
      "metadata": {
        "id": "pME8YIzgWCs9"
      },
      "outputs": [],
      "source": [
        "# !wget -P ../dados/ https://raw.githubusercontent.com/millenagena/Python-Eng-de-Dados/aula1_teste/dados/mercadoimobiliario.csv"
      ]
    },
    {
      "cell_type": "code",
      "execution_count": 3,
      "metadata": {
        "colab": {
          "base_uri": "https://localhost:8080/"
        },
        "id": "eQbae7QNWOjj",
        "outputId": "be514a7e-4cb8-4afe-fc43-2560f76baea5"
      },
      "outputs": [
        {
          "name": "stderr",
          "output_type": "stream",
          "text": [
            "'wget' n�o � reconhecido como um comando interno\n",
            "ou externo, um programa oper�vel ou um arquivo em lotes.\n"
          ]
        }
      ],
      "source": [
        "!wget -P ../dados/ https://raw.githubusercontent.com/millenagena/Python-Eng-de-Dados/aula1_teste/dados/mercadoimobiliario.json"
      ]
    },
    {
      "cell_type": "code",
      "execution_count": 4,
      "metadata": {
        "colab": {
          "base_uri": "https://localhost:8080/"
        },
        "id": "BRSyEn0vJFL2",
        "outputId": "e198864c-4300-471a-9501-886c4e43b6cd"
      },
      "outputs": [
        {
          "name": "stderr",
          "output_type": "stream",
          "text": [
            "'wget' n�o � reconhecido como um comando interno\n",
            "ou externo, um programa oper�vel ou um arquivo em lotes.\n"
          ]
        }
      ],
      "source": [
        "!wget -P ../dados/ https://raw.githubusercontent.com/millenagena/Python-Eng-de-Dados/aula1_teste/dados/compras.csv"
      ]
    },
    {
      "attachments": {},
      "cell_type": "markdown",
      "metadata": {
        "id": "dUh-2AGPW8wv"
      },
      "source": [
        "# Aula 1 leitura CSV - Lista"
      ]
    },
    {
      "cell_type": "code",
      "execution_count": 5,
      "metadata": {
        "colab": {
          "base_uri": "https://localhost:8080/"
        },
        "id": "Z9LtyISyV8An",
        "outputId": "0d0118b7-f92c-4985-f615-19fb0cf710f6"
      },
      "outputs": [
        {
          "name": "stdout",
          "output_type": "stream",
          "text": [
            "['Nome do Produto,Marca,PreÃ§o,Custo,Data da Venda,Data da Compra,Categoria,Peso\\n']\n",
            "['Ã“leo de Soja,Concordia,5.99,4.46,14/01/2023,26/12/2022,Alimentos,900ml\\n']\n",
            "['CafÃ©,3 CoraÃ§Ãµes,11.69,9.81,16/02/2023,01/02/2023,Alimentos,500g\\n']\n",
            "['Geladeira,Brastemp,5127.94,4333.8,19/03/2023,08/03/2023,EletrodomÃ©sticos,100kg\\n']\n",
            "['Smartphone,Xiaomi,3260.78,2602.62,19/01/2023,01/01/2023,EletrÃ´nicos,200g\\n']\n",
            "['Leite em PÃ³,Parmalat,19.36,15.28,09/02/2023,18/01/2023,Alimentos,800g\\n']\n",
            "['Smartphone,Motorola,2954.58,2399.11,25/02/2023,28/01/2023,EletrÃ´nicos,200g\\n']\n",
            "['CafÃ©,3 CoraÃ§Ãµes,12.72,10.76,25/02/2023,20/02/2023,Alimentos,500g\\n']\n",
            "['Notebook,Asus,4110.19,3304.61,18/01/2023,08/01/2023,EletrÃ´nicos,2kg\\n']\n"
          ]
        }
      ],
      "source": [
        "with open(\"../dados/compras.csv\") as file:\n",
        "    num_linhas = 10\n",
        "    for linha in range(1,num_linhas):\n",
        "      print(file.readlines(linha))"
      ]
    },
    {
      "cell_type": "code",
      "execution_count": 6,
      "metadata": {
        "id": "5kZxrliEICj_"
      },
      "outputs": [],
      "source": [
        "import csv"
      ]
    },
    {
      "cell_type": "code",
      "execution_count": 7,
      "metadata": {
        "colab": {
          "base_uri": "https://localhost:8080/"
        },
        "id": "lHxZ4PhfIEQ1",
        "outputId": "810c1ff1-39f5-4727-b150-583d1e3741c5"
      },
      "outputs": [
        {
          "name": "stdout",
          "output_type": "stream",
          "text": [
            "Nome do Produto, Marca, PreÃ§o, Custo, Data da Venda, Data da Compra, Categoria, Peso\n",
            "Ã“leo de Soja, Concordia, 5.99, 4.46, 14/01/2023, 26/12/2022, Alimentos, 900ml\n",
            "CafÃ©, 3 CoraÃ§Ãµes, 11.69, 9.81, 16/02/2023, 01/02/2023, Alimentos, 500g\n",
            "Geladeira, Brastemp, 5127.94, 4333.8, 19/03/2023, 08/03/2023, EletrodomÃ©sticos, 100kg\n",
            "Smartphone, Xiaomi, 3260.78, 2602.62, 19/01/2023, 01/01/2023, EletrÃ´nicos, 200g\n",
            "Leite em PÃ³, Parmalat, 19.36, 15.28, 09/02/2023, 18/01/2023, Alimentos, 800g\n",
            "Smartphone, Motorola, 2954.58, 2399.11, 25/02/2023, 28/01/2023, EletrÃ´nicos, 200g\n",
            "CafÃ©, 3 CoraÃ§Ãµes, 12.72, 10.76, 25/02/2023, 20/02/2023, Alimentos, 500g\n",
            "Notebook, Asus, 4110.19, 3304.61, 18/01/2023, 08/01/2023, EletrÃ´nicos, 2kg\n",
            "AÃ§Ãºcar, Da Barra, 4.95, 4.21, 13/01/2023, 13/01/2023, Alimentos, 1kg\n"
          ]
        }
      ],
      "source": [
        "with open(\"../dados/compras.csv\") as csvfile:\n",
        "    spamreader = csv.reader(csvfile, delimiter=',')\n",
        "    count = 0\n",
        "    for row in spamreader:\n",
        "        count += 1\n",
        "        print(', '.join(row))\n",
        "        if count == 10:\n",
        "          break"
      ]
    },
    {
      "attachments": {},
      "cell_type": "markdown",
      "metadata": {
        "id": "HjVY6JcpXTMW"
      },
      "source": [
        "## Para iterar csv vamos iterar então for"
      ]
    },
    {
      "cell_type": "code",
      "execution_count": 8,
      "metadata": {
        "colab": {
          "base_uri": "https://localhost:8080/"
        },
        "id": "quRBUi8FwmAg",
        "outputId": "35f24071-3a65-468a-a661-b75a6b57b1a2"
      },
      "outputs": [
        {
          "data": {
            "text/plain": [
              "[['Nome do Produto',\n",
              "  'Marca',\n",
              "  'PreÃ§o',\n",
              "  'Custo',\n",
              "  'Data da Venda',\n",
              "  'Data da Compra',\n",
              "  'Categoria',\n",
              "  'Peso'],\n",
              " ['Ã“leo de Soja',\n",
              "  'Concordia',\n",
              "  '5.99',\n",
              "  '4.46',\n",
              "  '14/01/2023',\n",
              "  '26/12/2022',\n",
              "  'Alimentos',\n",
              "  '900ml'],\n",
              " ['CafÃ©',\n",
              "  '3 CoraÃ§Ãµes',\n",
              "  '11.69',\n",
              "  '9.81',\n",
              "  '16/02/2023',\n",
              "  '01/02/2023',\n",
              "  'Alimentos',\n",
              "  '500g'],\n",
              " ['Geladeira',\n",
              "  'Brastemp',\n",
              "  '5127.94',\n",
              "  '4333.8',\n",
              "  '19/03/2023',\n",
              "  '08/03/2023',\n",
              "  'EletrodomÃ©sticos',\n",
              "  '100kg'],\n",
              " ['Smartphone',\n",
              "  'Xiaomi',\n",
              "  '3260.78',\n",
              "  '2602.62',\n",
              "  '19/01/2023',\n",
              "  '01/01/2023',\n",
              "  'EletrÃ´nicos',\n",
              "  '200g']]"
            ]
          },
          "execution_count": 8,
          "metadata": {},
          "output_type": "execute_result"
        }
      ],
      "source": [
        "with open(\"../dados/compras.csv\") as csvfile:\n",
        "    spamreader = csv.reader(csvfile, delimiter=',')\n",
        "    lista = []\n",
        "    for row in spamreader:\n",
        "      lista.append(row)\n",
        "lista[:5]"
      ]
    },
    {
      "attachments": {},
      "cell_type": "markdown",
      "metadata": {
        "id": "9-fBW8cia_5x"
      },
      "source": [
        "## Acessando nossos dados\n",
        "primeiro linha de dados"
      ]
    },
    {
      "cell_type": "code",
      "execution_count": 9,
      "metadata": {
        "colab": {
          "base_uri": "https://localhost:8080/"
        },
        "id": "FNmivuprbBaF",
        "outputId": "432e9221-a07f-462e-c8e4-2a888363c6a5"
      },
      "outputs": [
        {
          "data": {
            "text/plain": [
              "['Ã“leo de Soja',\n",
              " 'Concordia',\n",
              " '5.99',\n",
              " '4.46',\n",
              " '14/01/2023',\n",
              " '26/12/2022',\n",
              " 'Alimentos',\n",
              " '900ml']"
            ]
          },
          "execution_count": 9,
          "metadata": {},
          "output_type": "execute_result"
        }
      ],
      "source": [
        "lista[1]"
      ]
    },
    {
      "attachments": {},
      "cell_type": "markdown",
      "metadata": {
        "id": "Ki-zc1EMbbPw"
      },
      "source": [
        "acessando a cinco primeiras linhas e as duas colunas"
      ]
    },
    {
      "cell_type": "code",
      "execution_count": 10,
      "metadata": {
        "id": "Vw2ID-GEbZES"
      },
      "outputs": [],
      "source": [
        "def seleciona_dados(inicio_linha=None, fim_linha=None, inicio_coluna=None, fim_coluna=None):\n",
        "\n",
        "  return [coluna for linha in lista[inicio_linha:fim_linha] for coluna in linha[inicio_coluna:fim_coluna]]"
      ]
    },
    {
      "cell_type": "code",
      "execution_count": 11,
      "metadata": {
        "colab": {
          "base_uri": "https://localhost:8080/"
        },
        "id": "0wd7Me4ibYj2",
        "outputId": "032ca59a-d28e-4e4e-86b9-49634f4ec14b"
      },
      "outputs": [
        {
          "data": {
            "text/plain": [
              "['Ã“leo de Soja',\n",
              " 'Concordia',\n",
              " '5.99',\n",
              " 'CafÃ©',\n",
              " '3 CoraÃ§Ãµes',\n",
              " '11.69',\n",
              " 'Geladeira',\n",
              " 'Brastemp',\n",
              " '5127.94',\n",
              " 'Smartphone',\n",
              " 'Xiaomi',\n",
              " '3260.78']"
            ]
          },
          "execution_count": 11,
          "metadata": {},
          "output_type": "execute_result"
        }
      ],
      "source": [
        "inicio_linha = 1\n",
        "fim_linha = 5\n",
        "inicio_coluna = 0\n",
        "fim_coluna = 3\n",
        "\n",
        "seleciona_dados(inicio_linha=inicio_linha, fim_linha=fim_linha, inicio_coluna=inicio_coluna, fim_coluna=fim_coluna)"
      ]
    },
    {
      "cell_type": "code",
      "execution_count": 12,
      "metadata": {
        "colab": {
          "base_uri": "https://localhost:8080/"
        },
        "id": "VhL_idyB14LH",
        "outputId": "a57392ef-ab95-4943-e55a-b53e41814364"
      },
      "outputs": [
        {
          "data": {
            "text/plain": [
              "['Ã“leo de Soja',\n",
              " 'Concordia',\n",
              " '5.99',\n",
              " 'CafÃ©',\n",
              " '3 CoraÃ§Ãµes',\n",
              " '11.69',\n",
              " 'Geladeira',\n",
              " 'Brastemp',\n",
              " '5127.94',\n",
              " 'Smartphone',\n",
              " 'Xiaomi',\n",
              " '3260.78']"
            ]
          },
          "execution_count": 12,
          "metadata": {},
          "output_type": "execute_result"
        }
      ],
      "source": [
        "seleciona_dados(inicio_linha=1, fim_linha=5, fim_coluna=3)"
      ]
    },
    {
      "cell_type": "code",
      "execution_count": 13,
      "metadata": {
        "colab": {
          "base_uri": "https://localhost:8080/"
        },
        "id": "UT7WuXWM2kK5",
        "outputId": "fb68db02-b839-45bb-cde4-aeeb128fed28"
      },
      "outputs": [
        {
          "data": {
            "text/plain": [
              "[(['Ã“leo de Soja',\n",
              "   'Concordia',\n",
              "   '5.99',\n",
              "   '4.46',\n",
              "   '14/01/2023',\n",
              "   '26/12/2022',\n",
              "   'Alimentos',\n",
              "   '900ml'],\n",
              "  '4.46'),\n",
              " (['Ã“leo de Soja',\n",
              "   'Concordia',\n",
              "   '5.99',\n",
              "   '4.46',\n",
              "   '14/01/2023',\n",
              "   '26/12/2022',\n",
              "   'Alimentos',\n",
              "   '900ml'],\n",
              "  '14/01/2023'),\n",
              " (['CafÃ©',\n",
              "   '3 CoraÃ§Ãµes',\n",
              "   '11.69',\n",
              "   '9.81',\n",
              "   '16/02/2023',\n",
              "   '01/02/2023',\n",
              "   'Alimentos',\n",
              "   '500g'],\n",
              "  '9.81'),\n",
              " (['CafÃ©',\n",
              "   '3 CoraÃ§Ãµes',\n",
              "   '11.69',\n",
              "   '9.81',\n",
              "   '16/02/2023',\n",
              "   '01/02/2023',\n",
              "   'Alimentos',\n",
              "   '500g'],\n",
              "  '16/02/2023'),\n",
              " (['Geladeira',\n",
              "   'Brastemp',\n",
              "   '5127.94',\n",
              "   '4333.8',\n",
              "   '19/03/2023',\n",
              "   '08/03/2023',\n",
              "   'EletrodomÃ©sticos',\n",
              "   '100kg'],\n",
              "  '4333.8'),\n",
              " (['Geladeira',\n",
              "   'Brastemp',\n",
              "   '5127.94',\n",
              "   '4333.8',\n",
              "   '19/03/2023',\n",
              "   '08/03/2023',\n",
              "   'EletrodomÃ©sticos',\n",
              "   '100kg'],\n",
              "  '19/03/2023'),\n",
              " (['Smartphone',\n",
              "   'Xiaomi',\n",
              "   '3260.78',\n",
              "   '2602.62',\n",
              "   '19/01/2023',\n",
              "   '01/01/2023',\n",
              "   'EletrÃ´nicos',\n",
              "   '200g'],\n",
              "  '2602.62'),\n",
              " (['Smartphone',\n",
              "   'Xiaomi',\n",
              "   '3260.78',\n",
              "   '2602.62',\n",
              "   '19/01/2023',\n",
              "   '01/01/2023',\n",
              "   'EletrÃ´nicos',\n",
              "   '200g'],\n",
              "  '19/01/2023')]"
            ]
          },
          "execution_count": 13,
          "metadata": {},
          "output_type": "execute_result"
        }
      ],
      "source": [
        "inicio_linha = 1\n",
        "fim_linha = 5\n",
        "inicio_coluna = 3\n",
        "fim_coluna = 5\n",
        "\n",
        "lista_retorno = [(linha, coluna) for linha in lista[inicio_linha:fim_linha] for coluna in linha[inicio_coluna:fim_coluna]]\n",
        "\n",
        "lista_retorno\n"
      ]
    },
    {
      "cell_type": "code",
      "execution_count": 14,
      "metadata": {
        "colab": {
          "base_uri": "https://localhost:8080/"
        },
        "id": "DKT_r6NB28Sw",
        "outputId": "079c5924-3921-42a2-c76d-8726d7713c12"
      },
      "outputs": [
        {
          "name": "stdout",
          "output_type": "stream",
          "text": [
            "[(['Ã“leo de Soja', 'Concordia', '5.99', '4.46', '14/01/2023', '26/12/2022', 'Alimentos', '900ml'], '4.46'), (['Ã“leo de Soja', 'Concordia', '5.99', '4.46', '14/01/2023', '26/12/2022', 'Alimentos', '900ml'], '14/01/2023'), (['CafÃ©', '3 CoraÃ§Ãµes', '11.69', '9.81', '16/02/2023', '01/02/2023', 'Alimentos', '500g'], '9.81'), (['CafÃ©', '3 CoraÃ§Ãµes', '11.69', '9.81', '16/02/2023', '01/02/2023', 'Alimentos', '500g'], '16/02/2023'), (['Geladeira', 'Brastemp', '5127.94', '4333.8', '19/03/2023', '08/03/2023', 'EletrodomÃ©sticos', '100kg'], '4333.8'), (['Geladeira', 'Brastemp', '5127.94', '4333.8', '19/03/2023', '08/03/2023', 'EletrodomÃ©sticos', '100kg'], '19/03/2023'), (['Smartphone', 'Xiaomi', '3260.78', '2602.62', '19/01/2023', '01/01/2023', 'EletrÃ´nicos', '200g'], '2602.62'), (['Smartphone', 'Xiaomi', '3260.78', '2602.62', '19/01/2023', '01/01/2023', 'EletrÃ´nicos', '200g'], '19/01/2023')]\n"
          ]
        }
      ],
      "source": [
        "def create_list_of_tuples(lista, inicio_linha, fim_linha, inicio_coluna, fim_coluna):\n",
        "    return [(linha, coluna) for linha in lista[inicio_linha:fim_linha] for coluna in linha[inicio_coluna:fim_coluna]]\n",
        "\n",
        "inicio_linha = 1\n",
        "fim_linha = 5\n",
        "inicio_coluna = 3\n",
        "fim_coluna = 5\n",
        "\n",
        "lista_retorno = create_list_of_tuples(lista, inicio_linha, fim_linha, inicio_coluna, fim_coluna)\n",
        "print(lista_retorno)\n"
      ]
    },
    {
      "attachments": {},
      "cell_type": "markdown",
      "metadata": {
        "id": "pNQPbt-AXO1t"
      },
      "source": [
        "## Para ler o header usamos o if e o else"
      ]
    },
    {
      "attachments": {},
      "cell_type": "markdown",
      "metadata": {
        "id": "zAvxOnNeWnql"
      },
      "source": [
        "# Aula 2 - leitura Json - Dicionario\n"
      ]
    },
    {
      "attachments": {},
      "cell_type": "markdown",
      "metadata": {
        "id": "HslNsUpuXXVi"
      },
      "source": [
        "# Aula 3 - Construtor e Atributos"
      ]
    },
    {
      "attachments": {},
      "cell_type": "markdown",
      "metadata": {
        "id": "Dy-PnstAX3Je"
      },
      "source": [
        "# Aula 4 - Métodos e salvar"
      ]
    },
    {
      "attachments": {},
      "cell_type": "markdown",
      "metadata": {
        "id": "LsU0-bGbYzZ4"
      },
      "source": [
        "* to_csv\n",
        "* to_json"
      ]
    },
    {
      "cell_type": "code",
      "execution_count": 15,
      "metadata": {
        "id": "hss3njmyWxiZ"
      },
      "outputs": [],
      "source": [
        "import json"
      ]
    },
    {
      "attachments": {},
      "cell_type": "markdown",
      "metadata": {
        "id": "ub7L7YDKV8Al"
      },
      "source": [
        "## Leitura que um arquivo que existe"
      ]
    },
    {
      "attachments": {},
      "cell_type": "markdown",
      "metadata": {
        "id": "Y8v2Jqp2V8An"
      },
      "source": [
        "## Lendo arquivo que não existe"
      ]
    },
    {
      "cell_type": "code",
      "execution_count": 16,
      "metadata": {
        "id": "qzMNX7KgV8An"
      },
      "outputs": [],
      "source": [
        "# with open(\"mercadoimobiliario_errado.csv\") as file:\n",
        "#     print(file.readlines())"
      ]
    },
    {
      "attachments": {},
      "cell_type": "markdown",
      "metadata": {
        "id": "a5woCvTYV8Ao"
      },
      "source": [
        "Tratando erros"
      ]
    },
    {
      "cell_type": "code",
      "execution_count": 17,
      "metadata": {
        "colab": {
          "base_uri": "https://localhost:8080/"
        },
        "id": "_4uO9X57V8Ao",
        "outputId": "339efe84-0e14-4ffc-d300-dd2b220f4851"
      },
      "outputs": [
        {
          "name": "stdout",
          "output_type": "stream",
          "text": [
            "Erro 1\n"
          ]
        }
      ],
      "source": [
        "try:\n",
        "    with open(\"../dados/mercadoimobiliario_errado.csv\") as file:\n",
        "        print(file.readlines())\n",
        "except:\n",
        "    print(\"Erro 1\")"
      ]
    },
    {
      "attachments": {},
      "cell_type": "markdown",
      "metadata": {
        "id": "VqmKNBHvV8Ao"
      },
      "source": [
        "## Para não ter que tratar sempre que vamos ler um arquivo podemos criar uma **FUNÇÃO**"
      ]
    },
    {
      "cell_type": "code",
      "execution_count": 18,
      "metadata": {
        "id": "mDqqBFphV8Ap"
      },
      "outputs": [],
      "source": [
        "def ler_e_imprimir_arquivo(caminho: str):\n",
        "    try:\n",
        "        with open(caminho) as file:\n",
        "            print(file.readlines())\n",
        "    except:\n",
        "        print(\"Erro 1\")"
      ]
    },
    {
      "cell_type": "code",
      "execution_count": 19,
      "metadata": {
        "colab": {
          "base_uri": "https://localhost:8080/"
        },
        "id": "_TPOQvu7V8Ap",
        "outputId": "6ba5d8c4-1e95-43d7-dcbc-9b9fe1856144"
      },
      "outputs": [
        {
          "name": "stdout",
          "output_type": "stream",
          "text": [
            "Erro 1\n"
          ]
        }
      ],
      "source": [
        "ler_e_imprimir_arquivo(\"mercadoimobiliario_errado.csv\")"
      ]
    },
    {
      "cell_type": "code",
      "execution_count": 20,
      "metadata": {
        "colab": {
          "base_uri": "https://localhost:8080/"
        },
        "id": "0oT08nF8V8Ap",
        "outputId": "30d059af-62b5-4f7f-d4a6-dfeec8094534"
      },
      "outputs": [],
      "source": [
        "# ler_e_imprimir_arquivo(\"../dados/compras.csv\")"
      ]
    },
    {
      "cell_type": "code",
      "execution_count": 21,
      "metadata": {
        "id": "xbR42P5lV8Ar"
      },
      "outputs": [],
      "source": [
        "class Dados():\n",
        "    def __init__(self, path=None) -> None:\n",
        "        self.path = path\n",
        "        self.conteudo = None\n",
        "\n",
        "    # def concat()"
      ]
    },
    {
      "attachments": {},
      "cell_type": "markdown",
      "metadata": {
        "id": "ivv9vtcv1c6x"
      },
      "source": [
        "# Resultado final"
      ]
    },
    {
      "cell_type": "code",
      "execution_count": 49,
      "metadata": {
        "id": "Z6iYUQij395j"
      },
      "outputs": [],
      "source": [
        "import json\n",
        "import csv\n",
        "\n",
        "\n",
        "class DataProcessor:\n",
        "    def __init__(self, path, file_format, key=None):\n",
        "        self.path = path\n",
        "        self.file_format = file_format\n",
        "        self.data = []\n",
        "\n",
        "        if self.file_format == 'csv':\n",
        "            self.read_csv()\n",
        "        elif self.file_format == 'json':\n",
        "            self.read_json(key)\n",
        "\n",
        "    def read_csv(self):\n",
        "        try:\n",
        "            with open(self.path, 'r') as file:\n",
        "                reader = csv.reader(file)\n",
        "                self.data = list(reader)\n",
        "        except FileNotFoundError:\n",
        "            raise Exception(f\"CSV file not found: {self.path}\")\n",
        "        except Exception as e:\n",
        "            raise Exception(f\"Failed to read CSV file: {str(e)}\")\n",
        "\n",
        "    def read_json(self, key):\n",
        "        def flatten_json(data, parent_key=''):\n",
        "            items = []\n",
        "            for k, v in data.items():\n",
        "                new_key = f\"{parent_key}.{k}\" if parent_key else k\n",
        "                if isinstance(v, dict):\n",
        "                    items.extend(flatten_json(v, new_key))\n",
        "                else:\n",
        "                    items.append((new_key, v))\n",
        "            return items\n",
        "\n",
        "        try:\n",
        "            with open(self.path, 'r') as file:\n",
        "                json_data = json.load(file)\n",
        "\n",
        "            if isinstance(json_data, dict):\n",
        "                data_list = json_data.get(key, [])\n",
        "                if not isinstance(data_list, list):\n",
        "                    raise Exception(f\"Invalid JSON data format. The key '{key}' does not correspond to a list.\")\n",
        "                flattened_data = []\n",
        "                keys = set()\n",
        "                for item in data_list:\n",
        "                    if isinstance(item, dict):\n",
        "                        flattened_item = flatten_json(item)\n",
        "                        keys.update(k for k, _ in flattened_item)\n",
        "                        values = [v for _, v in flattened_item]\n",
        "                        flattened_data.append(values)\n",
        "                keys = list(keys)  # Convert set of keys to a list\n",
        "                self.data = [keys] + flattened_data  # Store keys as the first row and values as the subsequent rows\n",
        "\n",
        "            elif isinstance(json_data, list):\n",
        "                flattened_data = []\n",
        "                for item in json_data:\n",
        "                    if isinstance(item, dict):\n",
        "                        data_dict = item.get(key, {})\n",
        "                        if isinstance(data_dict, dict):\n",
        "                            flattened_item = flatten_json(data_dict)\n",
        "                            values = [v for _, v in flattened_item]\n",
        "                            flattened_data.append(values)\n",
        "                if not flattened_data:\n",
        "                    raise Exception(f\"Invalid JSON data format. The key '{key}' does not correspond to a dictionary.\")\n",
        "                self.data = flattened_data\n",
        "            else:\n",
        "                raise Exception(\"Invalid JSON data format.\")\n",
        "        except FileNotFoundError:\n",
        "            raise Exception(f\"JSON file not found: {self.path}\")\n",
        "        except Exception as e:\n",
        "            raise Exception(f\"Failed to read JSON file: {str(e)}\")\n",
        "\n",
        "\n",
        "    @staticmethod\n",
        "    def concatenate(data_objects):\n",
        "        \"\"\"\n",
        "        Concatenates multiple DataProcessor objects into a single DataProcessor object.\n",
        "\n",
        "        Args:\n",
        "            data_objects: List of DataProcessor objects to be concatenated.\n",
        "\n",
        "        Returns:\n",
        "            A new DataProcessor object that is the concatenation of all input DataProcessor objects, with preserved header order and empty values for any missing headers.\n",
        "\n",
        "        Example:\n",
        "            data1 = DataProcessor(...)\n",
        "            data2 = DataProcessor(...)\n",
        "            result = DataProcessor.concatenate_data_objects([data1, data2])\n",
        "            # result: A new DataProcessor object with concatenated data.\n",
        "\n",
        "        \"\"\"\n",
        "        concatenated_data = []\n",
        "        headers = set()\n",
        "\n",
        "        # Get all unique headers from input DataProcessor objects\n",
        "        for data_obj in data_objects:\n",
        "            headers.update(data_obj.data[0])\n",
        "\n",
        "        # Fill concatenated_data with empty values for all headers\n",
        "        empty_row = [None] * len(headers)\n",
        "        concatenated_data.append(list(headers))\n",
        "\n",
        "        # Update concatenated_data with non-empty values from input DataProcessor objects\n",
        "        for data_obj in data_objects:\n",
        "            rows = data_obj.data[1:]\n",
        "            for row in rows:\n",
        "                empty_row_copy = empty_row.copy()\n",
        "                empty_row_copy[:len(row)] = row\n",
        "                concatenated_data.append(empty_row_copy)\n",
        "\n",
        "        return DataProcessor('', '').set_data(concatenated_data)\n",
        "\n",
        "\n",
        "        \n",
        "\n",
        "    def set_data(self, data):\n",
        "        self.data = data\n",
        "        return self\n",
        "\n",
        "    def to_csv(self, path):\n",
        "        if len(self.data) == 0:\n",
        "            raise Exception(\"No data available to write.\")\n",
        "\n",
        "        headers = self.data[0] if self.data else []\n",
        "        filtered_data = [data for data in self.data[1:] if data]  # Exclude empty rows and the first row (headers)\n",
        "\n",
        "        try:\n",
        "            with open(path, 'w', newline='') as file:\n",
        "                writer = csv.writer(file)\n",
        "                writer.writerow(headers)\n",
        "                writer.writerows(filtered_data)\n",
        "        except Exception as e:\n",
        "            raise Exception(f\"Failed to write CSV file: {str(e)}\")\n",
        "\n"
      ]
    },
    {
      "cell_type": "code",
      "execution_count": 50,
      "metadata": {
        "id": "uemiSJvj1ejF"
      },
      "outputs": [],
      "source": [
        "path_csv = '../dados/compras.csv'\n",
        "path_json = '../dados/mercadoimobiliario.json'\n",
        "path_consolidado = '../dados/consolidado.csv'\n",
        "dados_mercado_A = DataProcessor(path=path_csv, file_format='csv')\n",
        "dados_mercado_B = DataProcessor(path=path_json, file_format='json', key='value')\n",
        "dados_rede_consolidados = DataProcessor.concatenate([dados_mercado_A, dados_mercado_B])\n",
        "dados_rede_consolidados.to_csv(path=path_consolidado)"
      ]
    },
    {
      "cell_type": "code",
      "execution_count": 51,
      "metadata": {
        "colab": {
          "base_uri": "https://localhost:8080/"
        },
        "id": "CJBKo2JbNAql",
        "outputId": "cea52423-de1e-45e0-977c-bf787155944b"
      },
      "outputs": [
        {
          "data": {
            "text/plain": [
              "1001"
            ]
          },
          "execution_count": 51,
          "metadata": {},
          "output_type": "execute_result"
        }
      ],
      "source": [
        "len(dados_mercado_A.data)"
      ]
    },
    {
      "cell_type": "code",
      "execution_count": 52,
      "metadata": {
        "colab": {
          "base_uri": "https://localhost:8080/"
        },
        "id": "29jAVhqMNEiD",
        "outputId": "1933b04b-3654-4185-9205-64d1a24106d4"
      },
      "outputs": [
        {
          "data": {
            "text/plain": [
              "289818"
            ]
          },
          "execution_count": 52,
          "metadata": {},
          "output_type": "execute_result"
        }
      ],
      "source": [
        "len(dados_mercado_B.data)"
      ]
    },
    {
      "cell_type": "code",
      "execution_count": 53,
      "metadata": {
        "colab": {
          "base_uri": "https://localhost:8080/"
        },
        "id": "UggejZctM9Cu",
        "outputId": "d2b8d51b-7c01-4a70-ce22-d34b20816e08"
      },
      "outputs": [
        {
          "data": {
            "text/plain": [
              "290818"
            ]
          },
          "execution_count": 53,
          "metadata": {},
          "output_type": "execute_result"
        }
      ],
      "source": [
        "len(dados_rede_consolidados.data)"
      ]
    },
    {
      "cell_type": "code",
      "execution_count": 54,
      "metadata": {},
      "outputs": [
        {
          "data": {
            "text/plain": [
              "True"
            ]
          },
          "execution_count": 54,
          "metadata": {},
          "output_type": "execute_result"
        }
      ],
      "source": [
        "len(dados_rede_consolidados.data[0]) == len(dados_rede_consolidados.data[1])"
      ]
    },
    {
      "attachments": {},
      "cell_type": "markdown",
      "metadata": {
        "id": "jHWSc942MJAN"
      },
      "source": [
        "# Classe DataProcessor\n",
        "\n",
        "A classe DataProcessor é responsável por processar dados de diferentes formatos, como CSV e JSON, e fornecer funcionalidades para consolidar e exportar esses dados.\n",
        "\n",
        "## Métodos\n",
        "\n",
        "### `__init__(path: str, file_format: str, key: str = None)`\n",
        "\n",
        "Inicializa uma nova instância da classe DataProcessor.\n",
        "\n",
        "#### Parâmetros\n",
        "\n",
        "- `path`: O caminho do arquivo que contém os dados.\n",
        "- `file_format`: O formato do arquivo (csv ou json).\n",
        "- `key`: A chave que identifica a lista ou dicionário de dados no caso de JSON (opcional).\n",
        "\n",
        "#### Exceções\n",
        "\n",
        "- `FileNotFoundError`: Se o arquivo não for encontrado.\n",
        "- `Exception`: Se ocorrer um erro ao ler o arquivo.\n",
        "\n",
        "### `read_csv()`\n",
        "\n",
        "Lê um arquivo CSV e armazena os dados na instância de DataProcessor.\n",
        "\n",
        "#### Exceções\n",
        "\n",
        "- `FileNotFoundError`: Se o arquivo CSV não for encontrado.\n",
        "- `Exception`: Se ocorrer um erro ao ler o arquivo CSV.\n",
        "\n",
        "### `read_json(key: str)`\n",
        "\n",
        "Lê um arquivo JSON e armazena os dados na instância de DataProcessor.\n",
        "\n",
        "#### Parâmetros\n",
        "\n",
        "- `key`: A chave que identifica a lista ou dicionário de dados no JSON.\n",
        "\n",
        "#### Exceções\n",
        "\n",
        "- `FileNotFoundError`: Se o arquivo JSON não for encontrado.\n",
        "- `Exception`: Se ocorrer um erro ao ler o arquivo JSON ou se o formato dos dados for inválido.\n",
        "\n",
        "### `concatenate(data_list: List[DataProcessor], join: str = 'inner') -> DataProcessor`\n",
        "\n",
        "Concatena os dados de várias instâncias de DataProcessor em uma única instância.\n",
        "\n",
        "#### Parâmetros\n",
        "\n",
        "- `data_list`: Uma lista contendo as instâncias de DataProcessor a serem concatenadas.\n",
        "- `join`: O tipo de junção a ser aplicado ('inner' para manter apenas as colunas comuns).\n",
        "\n",
        "#### Retorna\n",
        "\n",
        "Uma nova instância de DataProcessor contendo os dados consolidados.\n",
        "\n",
        "### `set_data(data: List[List[str]]) -> DataProcessor`\n",
        "\n",
        "Define os dados da instância de DataProcessor.\n",
        "\n",
        "#### Parâmetros\n",
        "\n",
        "- `data`: Uma lista de listas contendo os dados a serem definidos.\n",
        "\n",
        "#### Retorna\n",
        "\n",
        "A própria instância de DataProcessor.\n",
        "\n",
        "### `to_csv(path: str)`\n",
        "\n",
        "Exporta os dados da instância de DataProcessor para um arquivo CSV.\n",
        "\n",
        "#### Parâmetros\n",
        "\n",
        "- `path`: O caminho do arquivo CSV a ser criado.\n",
        "\n",
        "#### Exceções\n",
        "\n",
        "- `Exception`: Se não houver dados disponíveis para escrever no arquivo CSV ou se ocorrer um erro ao escrever o arquivo.\n",
        "\n",
        "## Exemplo de Uso\n",
        "\n",
        "```python\n",
        "# Criar instâncias de DataProcessor para processar dados de um arquivo CSV e um arquivo JSON\n",
        "dp1 = DataProcessor('dados1.csv', 'csv')\n",
        "dp2 = DataProcessor('dados2.json', 'json', 'registros')\n",
        "\n",
        "# Concatenar os dados das duas instâncias de DataProcessor\n",
        "dados_consolidados = DataProcessor.concatenate([dp1, dp2], join='inner')\n",
        "\n",
        "# Exportar os dados consolidados para um arquivo CSV\n",
        "dados_consolidados.to_csv('dados_consolidados.csv')\n"
      ]
    },
    {
      "cell_type": "code",
      "execution_count": 56,
      "metadata": {},
      "outputs": [],
      "source": [
        "colunas_A = dados_mercado_A.data[0]\n",
        "colunas_B = dados_mercado_B.data[0]\n",
        "colunas_consolidadas = set(colunas_A + colunas_B)\n",
        "dados_cosolidados = []\n",
        "for linha in dados_mercado_A.data[1:]:\n",
        "    linha_consolidada = {}\n",
        "    for i, coluna in enumerate(colunas_A):\n",
        "        linha_consolidada[coluna] = linha[i]\n",
        "    dados_cosolidados.append(linha_consolidada)\n",
        "for linha in dados_mercado_B.data[1:]:\n",
        "    linha_consolidada = {}\n",
        "    for i, coluna in enumerate(colunas_B):\n",
        "        linha_consolidada[coluna] = linha[i]\n",
        "    dados_cosolidados.append(linha_consolidada)\n"
      ]
    },
    {
      "cell_type": "code",
      "execution_count": 58,
      "metadata": {},
      "outputs": [
        {
          "data": {
            "text/plain": [
              "{'Nome do Produto': 'Ã“leo de Soja',\n",
              " 'Marca': 'Concordia',\n",
              " 'PreÃ§o': '5.99',\n",
              " 'Custo': '4.46',\n",
              " 'Data da Venda': '14/01/2023',\n",
              " 'Data da Compra': '26/12/2022',\n",
              " 'Categoria': 'Alimentos',\n",
              " 'Peso': '900ml'}"
            ]
          },
          "execution_count": 58,
          "metadata": {},
          "output_type": "execute_result"
        }
      ],
      "source": [
        "dados_cosolidados[0]"
      ]
    },
    {
      "cell_type": "code",
      "execution_count": 60,
      "metadata": {},
      "outputs": [
        {
          "data": {
            "text/plain": [
              "{'Data': '2020-12-31',\n",
              " 'Info': 'credito_estoque_risco_operacao_pf_home_equity_a_pr',\n",
              " 'Valor': 17.07}"
            ]
          },
          "execution_count": 60,
          "metadata": {},
          "output_type": "execute_result"
        }
      ],
      "source": [
        "dados_cosolidados[-1]"
      ]
    }
  ],
  "metadata": {
    "colab": {
      "include_colab_link": true,
      "provenance": []
    },
    "kernelspec": {
      "display_name": "venv",
      "language": "python",
      "name": "python3"
    },
    "language_info": {
      "codemirror_mode": {
        "name": "ipython",
        "version": 3
      },
      "file_extension": ".py",
      "mimetype": "text/x-python",
      "name": "python",
      "nbconvert_exporter": "python",
      "pygments_lexer": "ipython3",
      "version": "3.8.10"
    },
    "orig_nbformat": 4,
    "vscode": {
      "interpreter": {
        "hash": "9fd0c83aef04519da1a35219a41fb6e77057b31fe0e45d3e435c7812a94a40d3"
      }
    }
  },
  "nbformat": 4,
  "nbformat_minor": 0
}
