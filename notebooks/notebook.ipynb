{
  "cells": [
    {
      "cell_type": "markdown",
      "metadata": {
        "id": "view-in-github",
        "colab_type": "text"
      },
      "source": [
        "<a href=\"https://colab.research.google.com/github/millenagena/Python-Eng-de-Dados/blob/aula1_teste/notebooks/notebook.ipynb\" target=\"_parent\"><img src=\"https://colab.research.google.com/assets/colab-badge.svg\" alt=\"Open In Colab\"/></a>"
      ]
    },
    {
      "cell_type": "code",
      "execution_count": 1,
      "metadata": {
        "id": "pME8YIzgWCs9"
      },
      "outputs": [],
      "source": [
        "# !wget -P ../dados/ https://raw.githubusercontent.com/millenagena/Python-Eng-de-Dados/aula1_teste/dados/mercadoimobiliario.csv"
      ]
    },
    {
      "cell_type": "code",
      "execution_count": 28,
      "metadata": {
        "id": "eQbae7QNWOjj",
        "outputId": "be514a7e-4cb8-4afe-fc43-2560f76baea5",
        "colab": {
          "base_uri": "https://localhost:8080/"
        }
      },
      "outputs": [
        {
          "output_type": "stream",
          "name": "stdout",
          "text": [
            "--2023-05-18 12:41:16--  https://raw.githubusercontent.com/millenagena/Python-Eng-de-Dados/aula1_teste/dados/mercadoimobiliario.json\n",
            "Resolving raw.githubusercontent.com (raw.githubusercontent.com)... 185.199.111.133, 185.199.108.133, 185.199.110.133, ...\n",
            "Connecting to raw.githubusercontent.com (raw.githubusercontent.com)|185.199.111.133|:443... connected.\n",
            "HTTP request sent, awaiting response... 200 OK\n",
            "Length: 35428312 (34M) [text/plain]\n",
            "Saving to: ‘../dados/mercadoimobiliario.json’\n",
            "\n",
            "mercadoimobiliario. 100%[===================>]  33.79M   177MB/s    in 0.2s    \n",
            "\n",
            "2023-05-18 12:41:17 (177 MB/s) - ‘../dados/mercadoimobiliario.json’ saved [35428312/35428312]\n",
            "\n"
          ]
        }
      ],
      "source": [
        "!wget -P ../dados/ https://raw.githubusercontent.com/millenagena/Python-Eng-de-Dados/aula1_teste/dados/mercadoimobiliario.json"
      ]
    },
    {
      "cell_type": "code",
      "source": [
        "!wget -P ../dados/ https://raw.githubusercontent.com/millenagena/Python-Eng-de-Dados/aula1_teste/dados/compras.csv"
      ],
      "metadata": {
        "id": "BRSyEn0vJFL2",
        "outputId": "e198864c-4300-471a-9501-886c4e43b6cd",
        "colab": {
          "base_uri": "https://localhost:8080/"
        }
      },
      "execution_count": 3,
      "outputs": [
        {
          "output_type": "stream",
          "name": "stdout",
          "text": [
            "--2023-05-18 12:28:40--  https://raw.githubusercontent.com/millenagena/Python-Eng-de-Dados/aula1_teste/dados/compras.csv\n",
            "Resolving raw.githubusercontent.com (raw.githubusercontent.com)... 185.199.109.133, 185.199.111.133, 185.199.108.133, ...\n",
            "Connecting to raw.githubusercontent.com (raw.githubusercontent.com)|185.199.109.133|:443... connected.\n",
            "HTTP request sent, awaiting response... 200 OK\n",
            "Length: 71067 (69K) [text/plain]\n",
            "Saving to: ‘../dados/compras.csv’\n",
            "\n",
            "\rcompras.csv           0%[                    ]       0  --.-KB/s               \rcompras.csv         100%[===================>]  69.40K  --.-KB/s    in 0.01s   \n",
            "\n",
            "2023-05-18 12:28:40 (5.58 MB/s) - ‘../dados/compras.csv’ saved [71067/71067]\n",
            "\n"
          ]
        }
      ]
    },
    {
      "cell_type": "markdown",
      "metadata": {
        "id": "dUh-2AGPW8wv"
      },
      "source": [
        "# Aula 1 leitura CSV - Lista"
      ]
    },
    {
      "cell_type": "code",
      "execution_count": 4,
      "metadata": {
        "id": "Z9LtyISyV8An",
        "colab": {
          "base_uri": "https://localhost:8080/"
        },
        "outputId": "0d0118b7-f92c-4985-f615-19fb0cf710f6"
      },
      "outputs": [
        {
          "output_type": "stream",
          "name": "stdout",
          "text": [
            "['Nome do Produto,Marca,Preço,Custo,Data da Venda,Data da Compra,Categoria,Peso\\n']\n",
            "['Óleo de Soja,Concordia,5.99,4.46,14/01/2023,26/12/2022,Alimentos,900ml\\n']\n",
            "['Café,3 Corações,11.69,9.81,16/02/2023,01/02/2023,Alimentos,500g\\n']\n",
            "['Geladeira,Brastemp,5127.94,4333.8,19/03/2023,08/03/2023,Eletrodomésticos,100kg\\n']\n",
            "['Smartphone,Xiaomi,3260.78,2602.62,19/01/2023,01/01/2023,Eletrônicos,200g\\n']\n",
            "['Leite em Pó,Parmalat,19.36,15.28,09/02/2023,18/01/2023,Alimentos,800g\\n']\n",
            "['Smartphone,Motorola,2954.58,2399.11,25/02/2023,28/01/2023,Eletrônicos,200g\\n']\n",
            "['Café,3 Corações,12.72,10.76,25/02/2023,20/02/2023,Alimentos,500g\\n']\n",
            "['Notebook,Asus,4110.19,3304.61,18/01/2023,08/01/2023,Eletrônicos,2kg\\n']\n"
          ]
        }
      ],
      "source": [
        "with open(\"../dados/compras.csv\") as file:\n",
        "    num_linhas = 10\n",
        "    for linha in range(1,num_linhas):\n",
        "      print(file.readlines(linha))"
      ]
    },
    {
      "cell_type": "code",
      "source": [
        "import csv"
      ],
      "metadata": {
        "id": "5kZxrliEICj_"
      },
      "execution_count": 5,
      "outputs": []
    },
    {
      "cell_type": "code",
      "source": [
        "with open(\"../dados/compras.csv\") as csvfile:\n",
        "    spamreader = csv.reader(csvfile, delimiter=',')\n",
        "    count = 0\n",
        "    for row in spamreader:\n",
        "        count += 1\n",
        "        print(', '.join(row))\n",
        "        if count == 10:\n",
        "          break"
      ],
      "metadata": {
        "id": "lHxZ4PhfIEQ1",
        "outputId": "810c1ff1-39f5-4727-b150-583d1e3741c5",
        "colab": {
          "base_uri": "https://localhost:8080/"
        }
      },
      "execution_count": 6,
      "outputs": [
        {
          "output_type": "stream",
          "name": "stdout",
          "text": [
            "Nome do Produto, Marca, Preço, Custo, Data da Venda, Data da Compra, Categoria, Peso\n",
            "Óleo de Soja, Concordia, 5.99, 4.46, 14/01/2023, 26/12/2022, Alimentos, 900ml\n",
            "Café, 3 Corações, 11.69, 9.81, 16/02/2023, 01/02/2023, Alimentos, 500g\n",
            "Geladeira, Brastemp, 5127.94, 4333.8, 19/03/2023, 08/03/2023, Eletrodomésticos, 100kg\n",
            "Smartphone, Xiaomi, 3260.78, 2602.62, 19/01/2023, 01/01/2023, Eletrônicos, 200g\n",
            "Leite em Pó, Parmalat, 19.36, 15.28, 09/02/2023, 18/01/2023, Alimentos, 800g\n",
            "Smartphone, Motorola, 2954.58, 2399.11, 25/02/2023, 28/01/2023, Eletrônicos, 200g\n",
            "Café, 3 Corações, 12.72, 10.76, 25/02/2023, 20/02/2023, Alimentos, 500g\n",
            "Notebook, Asus, 4110.19, 3304.61, 18/01/2023, 08/01/2023, Eletrônicos, 2kg\n",
            "Açúcar, Da Barra, 4.95, 4.21, 13/01/2023, 13/01/2023, Alimentos, 1kg\n"
          ]
        }
      ]
    },
    {
      "cell_type": "markdown",
      "metadata": {
        "id": "HjVY6JcpXTMW"
      },
      "source": [
        "## Para iterar csv vamos iterar então for"
      ]
    },
    {
      "cell_type": "code",
      "source": [
        "with open(\"../dados/compras.csv\") as csvfile:\n",
        "    spamreader = csv.reader(csvfile, delimiter=',')\n",
        "    lista = []\n",
        "    for row in spamreader:\n",
        "      lista.append(row)\n",
        "lista[:5]"
      ],
      "metadata": {
        "id": "quRBUi8FwmAg",
        "outputId": "35f24071-3a65-468a-a661-b75a6b57b1a2",
        "colab": {
          "base_uri": "https://localhost:8080/"
        }
      },
      "execution_count": 7,
      "outputs": [
        {
          "output_type": "execute_result",
          "data": {
            "text/plain": [
              "[['Nome do Produto',\n",
              "  'Marca',\n",
              "  'Preço',\n",
              "  'Custo',\n",
              "  'Data da Venda',\n",
              "  'Data da Compra',\n",
              "  'Categoria',\n",
              "  'Peso'],\n",
              " ['Óleo de Soja',\n",
              "  'Concordia',\n",
              "  '5.99',\n",
              "  '4.46',\n",
              "  '14/01/2023',\n",
              "  '26/12/2022',\n",
              "  'Alimentos',\n",
              "  '900ml'],\n",
              " ['Café',\n",
              "  '3 Corações',\n",
              "  '11.69',\n",
              "  '9.81',\n",
              "  '16/02/2023',\n",
              "  '01/02/2023',\n",
              "  'Alimentos',\n",
              "  '500g'],\n",
              " ['Geladeira',\n",
              "  'Brastemp',\n",
              "  '5127.94',\n",
              "  '4333.8',\n",
              "  '19/03/2023',\n",
              "  '08/03/2023',\n",
              "  'Eletrodomésticos',\n",
              "  '100kg'],\n",
              " ['Smartphone',\n",
              "  'Xiaomi',\n",
              "  '3260.78',\n",
              "  '2602.62',\n",
              "  '19/01/2023',\n",
              "  '01/01/2023',\n",
              "  'Eletrônicos',\n",
              "  '200g']]"
            ]
          },
          "metadata": {},
          "execution_count": 7
        }
      ]
    },
    {
      "cell_type": "markdown",
      "source": [
        "## Acessando nossos dados\n",
        "primeiro linha de dados"
      ],
      "metadata": {
        "id": "9-fBW8cia_5x"
      }
    },
    {
      "cell_type": "code",
      "source": [
        "lista[1]"
      ],
      "metadata": {
        "id": "FNmivuprbBaF",
        "outputId": "432e9221-a07f-462e-c8e4-2a888363c6a5",
        "colab": {
          "base_uri": "https://localhost:8080/"
        }
      },
      "execution_count": 8,
      "outputs": [
        {
          "output_type": "execute_result",
          "data": {
            "text/plain": [
              "['Óleo de Soja',\n",
              " 'Concordia',\n",
              " '5.99',\n",
              " '4.46',\n",
              " '14/01/2023',\n",
              " '26/12/2022',\n",
              " 'Alimentos',\n",
              " '900ml']"
            ]
          },
          "metadata": {},
          "execution_count": 8
        }
      ]
    },
    {
      "cell_type": "markdown",
      "source": [
        "acessando a cinco primeiras linhas e as duas colunas"
      ],
      "metadata": {
        "id": "Ki-zc1EMbbPw"
      }
    },
    {
      "cell_type": "code",
      "source": [
        "def seleciona_dados(inicio_linha=None, fim_linha=None, inicio_coluna=None, fim_coluna=None):\n",
        "\n",
        "  return [coluna for linha in lista[inicio_linha:fim_linha] for coluna in linha[inicio_coluna:fim_coluna]]"
      ],
      "metadata": {
        "id": "Vw2ID-GEbZES"
      },
      "execution_count": 9,
      "outputs": []
    },
    {
      "cell_type": "code",
      "source": [
        "inicio_linha = 1\n",
        "fim_linha = 5\n",
        "inicio_coluna = 0\n",
        "fim_coluna = 3\n",
        "\n",
        "seleciona_dados(inicio_linha=inicio_linha, fim_linha=fim_linha, inicio_coluna=inicio_coluna, fim_coluna=fim_coluna)"
      ],
      "metadata": {
        "id": "0wd7Me4ibYj2",
        "outputId": "032ca59a-d28e-4e4e-86b9-49634f4ec14b",
        "colab": {
          "base_uri": "https://localhost:8080/"
        }
      },
      "execution_count": 10,
      "outputs": [
        {
          "output_type": "execute_result",
          "data": {
            "text/plain": [
              "['Óleo de Soja',\n",
              " 'Concordia',\n",
              " '5.99',\n",
              " 'Café',\n",
              " '3 Corações',\n",
              " '11.69',\n",
              " 'Geladeira',\n",
              " 'Brastemp',\n",
              " '5127.94',\n",
              " 'Smartphone',\n",
              " 'Xiaomi',\n",
              " '3260.78']"
            ]
          },
          "metadata": {},
          "execution_count": 10
        }
      ]
    },
    {
      "cell_type": "code",
      "source": [
        "seleciona_dados(inicio_linha=1, fim_linha=5, fim_coluna=3)"
      ],
      "metadata": {
        "id": "VhL_idyB14LH",
        "outputId": "a57392ef-ab95-4943-e55a-b53e41814364",
        "colab": {
          "base_uri": "https://localhost:8080/"
        }
      },
      "execution_count": 11,
      "outputs": [
        {
          "output_type": "execute_result",
          "data": {
            "text/plain": [
              "['Óleo de Soja',\n",
              " 'Concordia',\n",
              " '5.99',\n",
              " 'Café',\n",
              " '3 Corações',\n",
              " '11.69',\n",
              " 'Geladeira',\n",
              " 'Brastemp',\n",
              " '5127.94',\n",
              " 'Smartphone',\n",
              " 'Xiaomi',\n",
              " '3260.78']"
            ]
          },
          "metadata": {},
          "execution_count": 11
        }
      ]
    },
    {
      "cell_type": "code",
      "source": [
        "inicio_linha = 1\n",
        "fim_linha = 5\n",
        "inicio_coluna = 3\n",
        "fim_coluna = 5\n",
        "\n",
        "lista_retorno = [(linha, coluna) for linha in lista[inicio_linha:fim_linha] for coluna in linha[inicio_coluna:fim_coluna]]\n",
        "\n",
        "lista_retorno\n"
      ],
      "metadata": {
        "id": "UT7WuXWM2kK5",
        "outputId": "fb68db02-b839-45bb-cde4-aeeb128fed28",
        "colab": {
          "base_uri": "https://localhost:8080/"
        }
      },
      "execution_count": 12,
      "outputs": [
        {
          "output_type": "execute_result",
          "data": {
            "text/plain": [
              "[(['Óleo de Soja',\n",
              "   'Concordia',\n",
              "   '5.99',\n",
              "   '4.46',\n",
              "   '14/01/2023',\n",
              "   '26/12/2022',\n",
              "   'Alimentos',\n",
              "   '900ml'],\n",
              "  '4.46'),\n",
              " (['Óleo de Soja',\n",
              "   'Concordia',\n",
              "   '5.99',\n",
              "   '4.46',\n",
              "   '14/01/2023',\n",
              "   '26/12/2022',\n",
              "   'Alimentos',\n",
              "   '900ml'],\n",
              "  '14/01/2023'),\n",
              " (['Café',\n",
              "   '3 Corações',\n",
              "   '11.69',\n",
              "   '9.81',\n",
              "   '16/02/2023',\n",
              "   '01/02/2023',\n",
              "   'Alimentos',\n",
              "   '500g'],\n",
              "  '9.81'),\n",
              " (['Café',\n",
              "   '3 Corações',\n",
              "   '11.69',\n",
              "   '9.81',\n",
              "   '16/02/2023',\n",
              "   '01/02/2023',\n",
              "   'Alimentos',\n",
              "   '500g'],\n",
              "  '16/02/2023'),\n",
              " (['Geladeira',\n",
              "   'Brastemp',\n",
              "   '5127.94',\n",
              "   '4333.8',\n",
              "   '19/03/2023',\n",
              "   '08/03/2023',\n",
              "   'Eletrodomésticos',\n",
              "   '100kg'],\n",
              "  '4333.8'),\n",
              " (['Geladeira',\n",
              "   'Brastemp',\n",
              "   '5127.94',\n",
              "   '4333.8',\n",
              "   '19/03/2023',\n",
              "   '08/03/2023',\n",
              "   'Eletrodomésticos',\n",
              "   '100kg'],\n",
              "  '19/03/2023'),\n",
              " (['Smartphone',\n",
              "   'Xiaomi',\n",
              "   '3260.78',\n",
              "   '2602.62',\n",
              "   '19/01/2023',\n",
              "   '01/01/2023',\n",
              "   'Eletrônicos',\n",
              "   '200g'],\n",
              "  '2602.62'),\n",
              " (['Smartphone',\n",
              "   'Xiaomi',\n",
              "   '3260.78',\n",
              "   '2602.62',\n",
              "   '19/01/2023',\n",
              "   '01/01/2023',\n",
              "   'Eletrônicos',\n",
              "   '200g'],\n",
              "  '19/01/2023')]"
            ]
          },
          "metadata": {},
          "execution_count": 12
        }
      ]
    },
    {
      "cell_type": "code",
      "source": [
        "def create_list_of_tuples(lista, inicio_linha, fim_linha, inicio_coluna, fim_coluna):\n",
        "    return [(linha, coluna) for linha in lista[inicio_linha:fim_linha] for coluna in linha[inicio_coluna:fim_coluna]]\n",
        "\n",
        "inicio_linha = 1\n",
        "fim_linha = 5\n",
        "inicio_coluna = 3\n",
        "fim_coluna = 5\n",
        "\n",
        "lista_retorno = create_list_of_tuples(lista, inicio_linha, fim_linha, inicio_coluna, fim_coluna)\n",
        "print(lista_retorno)\n"
      ],
      "metadata": {
        "id": "DKT_r6NB28Sw",
        "outputId": "079c5924-3921-42a2-c76d-8726d7713c12",
        "colab": {
          "base_uri": "https://localhost:8080/"
        }
      },
      "execution_count": 13,
      "outputs": [
        {
          "output_type": "stream",
          "name": "stdout",
          "text": [
            "[(['Óleo de Soja', 'Concordia', '5.99', '4.46', '14/01/2023', '26/12/2022', 'Alimentos', '900ml'], '4.46'), (['Óleo de Soja', 'Concordia', '5.99', '4.46', '14/01/2023', '26/12/2022', 'Alimentos', '900ml'], '14/01/2023'), (['Café', '3 Corações', '11.69', '9.81', '16/02/2023', '01/02/2023', 'Alimentos', '500g'], '9.81'), (['Café', '3 Corações', '11.69', '9.81', '16/02/2023', '01/02/2023', 'Alimentos', '500g'], '16/02/2023'), (['Geladeira', 'Brastemp', '5127.94', '4333.8', '19/03/2023', '08/03/2023', 'Eletrodomésticos', '100kg'], '4333.8'), (['Geladeira', 'Brastemp', '5127.94', '4333.8', '19/03/2023', '08/03/2023', 'Eletrodomésticos', '100kg'], '19/03/2023'), (['Smartphone', 'Xiaomi', '3260.78', '2602.62', '19/01/2023', '01/01/2023', 'Eletrônicos', '200g'], '2602.62'), (['Smartphone', 'Xiaomi', '3260.78', '2602.62', '19/01/2023', '01/01/2023', 'Eletrônicos', '200g'], '19/01/2023')]\n"
          ]
        }
      ]
    },
    {
      "cell_type": "markdown",
      "metadata": {
        "id": "pNQPbt-AXO1t"
      },
      "source": [
        "## Para ler o header usamos o if e o else"
      ]
    },
    {
      "cell_type": "markdown",
      "metadata": {
        "id": "zAvxOnNeWnql"
      },
      "source": [
        "# Aula 2 - leitura Json - Dicionario\n"
      ]
    },
    {
      "cell_type": "markdown",
      "metadata": {
        "id": "HslNsUpuXXVi"
      },
      "source": [
        "# Aula 3 - Construtor e Atributos"
      ]
    },
    {
      "cell_type": "markdown",
      "metadata": {
        "id": "Dy-PnstAX3Je"
      },
      "source": [
        "# Aula 4 - Métodos e salvar"
      ]
    },
    {
      "cell_type": "markdown",
      "metadata": {
        "id": "LsU0-bGbYzZ4"
      },
      "source": [
        "* to_csv\n",
        "* to_json"
      ]
    },
    {
      "cell_type": "code",
      "execution_count": 14,
      "metadata": {
        "id": "hss3njmyWxiZ"
      },
      "outputs": [],
      "source": [
        "import json"
      ]
    },
    {
      "cell_type": "markdown",
      "metadata": {
        "id": "ub7L7YDKV8Al"
      },
      "source": [
        "## Leitura que um arquivo que existe"
      ]
    },
    {
      "cell_type": "markdown",
      "metadata": {
        "id": "Y8v2Jqp2V8An"
      },
      "source": [
        "## Lendo arquivo que não existe"
      ]
    },
    {
      "cell_type": "code",
      "execution_count": 15,
      "metadata": {
        "id": "qzMNX7KgV8An"
      },
      "outputs": [],
      "source": [
        "# with open(\"mercadoimobiliario_errado.csv\") as file:\n",
        "#     print(file.readlines())"
      ]
    },
    {
      "cell_type": "markdown",
      "metadata": {
        "id": "a5woCvTYV8Ao"
      },
      "source": [
        "Tratando erros"
      ]
    },
    {
      "cell_type": "code",
      "execution_count": 16,
      "metadata": {
        "id": "_4uO9X57V8Ao",
        "outputId": "339efe84-0e14-4ffc-d300-dd2b220f4851",
        "colab": {
          "base_uri": "https://localhost:8080/"
        }
      },
      "outputs": [
        {
          "output_type": "stream",
          "name": "stdout",
          "text": [
            "Erro 1\n"
          ]
        }
      ],
      "source": [
        "try:\n",
        "    with open(\"../dados/mercadoimobiliario_errado.csv\") as file:\n",
        "        print(file.readlines())\n",
        "except:\n",
        "    print(\"Erro 1\")"
      ]
    },
    {
      "cell_type": "markdown",
      "metadata": {
        "id": "VqmKNBHvV8Ao"
      },
      "source": [
        "## Para não ter que tratar sempre que vamos ler um arquivo podemos criar uma **FUNÇÃO**"
      ]
    },
    {
      "cell_type": "code",
      "execution_count": 17,
      "metadata": {
        "id": "mDqqBFphV8Ap"
      },
      "outputs": [],
      "source": [
        "def ler_e_imprimir_arquivo(caminho: str):\n",
        "    try:\n",
        "        with open(caminho) as file:\n",
        "            print(file.readlines())\n",
        "    except:\n",
        "        print(\"Erro 1\")"
      ]
    },
    {
      "cell_type": "code",
      "execution_count": 18,
      "metadata": {
        "id": "_TPOQvu7V8Ap",
        "outputId": "6ba5d8c4-1e95-43d7-dcbc-9b9fe1856144",
        "colab": {
          "base_uri": "https://localhost:8080/"
        }
      },
      "outputs": [
        {
          "output_type": "stream",
          "name": "stdout",
          "text": [
            "Erro 1\n"
          ]
        }
      ],
      "source": [
        "ler_e_imprimir_arquivo(\"mercadoimobiliario_errado.csv\")"
      ]
    },
    {
      "cell_type": "code",
      "execution_count": 19,
      "metadata": {
        "id": "0oT08nF8V8Ap",
        "colab": {
          "base_uri": "https://localhost:8080/"
        },
        "outputId": "30d059af-62b5-4f7f-d4a6-dfeec8094534"
      },
      "outputs": [
        {
          "output_type": "stream",
          "name": "stdout",
          "text": [
            "['Nome do Produto,Marca,Preço,Custo,Data da Venda,Data da Compra,Categoria,Peso\\n', 'Óleo de Soja,Concordia,5.99,4.46,14/01/2023,26/12/2022,Alimentos,900ml\\n', 'Café,3 Corações,11.69,9.81,16/02/2023,01/02/2023,Alimentos,500g\\n', 'Geladeira,Brastemp,5127.94,4333.8,19/03/2023,08/03/2023,Eletrodomésticos,100kg\\n', 'Smartphone,Xiaomi,3260.78,2602.62,19/01/2023,01/01/2023,Eletrônicos,200g\\n', 'Leite em Pó,Parmalat,19.36,15.28,09/02/2023,18/01/2023,Alimentos,800g\\n', 'Smartphone,Motorola,2954.58,2399.11,25/02/2023,28/01/2023,Eletrônicos,200g\\n', 'Café,3 Corações,12.72,10.76,25/02/2023,20/02/2023,Alimentos,500g\\n', 'Notebook,Asus,4110.19,3304.61,18/01/2023,08/01/2023,Eletrônicos,2kg\\n', 'Açúcar,Da Barra,4.95,4.21,13/01/2023,13/01/2023,Alimentos,1kg\\n', 'Máquina de Lavar,Brastemp,4163.2,3316.6,21/01/2023,03/01/2023,Eletrodomésticos,70kg\\n', 'Televisor,Philips,7483.01,6089.47,01/02/2023,26/01/2023,Eletrônicos,25kg\\n', 'Macarrão,Renata,4.56,3.3,21/01/2023,31/12/2022,Alimentos,500g\\n', 'Smartphone,Samsung,3193.9,2359.69,17/01/2023,07/01/2023,Eletrônicos,200g\\n', 'Geladeira,Samsung,5947.03,4606.83,18/02/2023,30/01/2023,Eletrodomésticos,100kg\\n', 'Fogão,Electrolux,3162.39,2294.71,25/02/2023,21/02/2023,Eletrodomésticos,50kg\\n', 'Smartphone,Xiaomi,3291.01,2731.05,17/02/2023,05/02/2023,Eletrônicos,200g\\n', 'Tablet,Multilaser,2461.02,1971.58,05/03/2023,25/02/2023,Eletrônicos,500g\\n', 'Fogão,Atlas,3481.81,2703.5,10/02/2023,16/01/2023,Eletrodomésticos,50kg\\n', 'Pão de Forma,Wickbold,4.59,3.97,19/03/2023,18/02/2023,Alimentos,500g\\n', 'Pão de Forma,Nutrella,5.88,4.17,13/01/2023,28/12/2022,Alimentos,500g\\n', 'Televisor,LG,7177.66,5982.32,10/01/2023,05/01/2023,Eletrônicos,25kg\\n', 'Televisor,Samsung,4929.31,4229.21,28/02/2023,19/02/2023,Eletrônicos,25kg\\n', 'Televisor,Philips,7005.33,5210.67,26/02/2023,04/02/2023,Eletrônicos,25kg\\n', 'Máquina de Lavar,Consul,4172.22,3477.98,09/03/2023,04/03/2023,Eletrodomésticos,70kg\\n', 'Smartphone,Motorola,3488.26,2883.64,15/03/2023,14/02/2023,Eletrônicos,200g\\n', 'Pão de Forma,Seven Boys,4.69,3.85,25/02/2023,08/02/2023,Alimentos,500g\\n', 'Presunto,Perdigão,16.5,12.2,16/03/2023,20/02/2023,Alimentos,1kg\\n', 'Café,3 Corações,9.66,7.44,19/01/2023,18/01/2023,Alimentos,500g\\n', 'Macarrão,Barilla,4.54,4.05,03/01/2023,13/12/2022,Alimentos,500g\\n', 'Arroz,Camil,19.91,16.77,15/03/2023,12/03/2023,Alimentos,5kg\\n', 'Óleo de Soja,Bunge,6.66,5.19,16/01/2023,18/12/2022,Alimentos,900ml\\n', 'Macarrão,Barilla,3.13,2.53,26/03/2023,16/03/2023,Alimentos,500g\\n', 'Televisor,Philips,7159.65,6072.43,19/03/2023,17/02/2023,Eletrônicos,25kg\\n', 'Fogão,Atlas,2835.0,2440.54,16/03/2023,01/03/2023,Eletrodomésticos,50kg\\n', 'Leite em Pó,Parmalat,19.02,16.76,19/02/2023,03/02/2023,Alimentos,800g\\n', 'Televisor,LG,5686.39,4795.74,02/03/2023,02/02/2023,Eletrônicos,25kg\\n', 'Café,3 Corações,12.17,9.37,19/01/2023,26/12/2022,Alimentos,500g\\n', 'Notebook,HP,4400.28,3416.9,02/03/2023,24/02/2023,Eletrônicos,2kg\\n', 'Presunto,Sadia,21.38,15.64,21/03/2023,25/02/2023,Alimentos,1kg\\n', 'Arroz,Camil,18.91,14.25,09/02/2023,22/01/2023,Alimentos,5kg\\n', 'Presunto,Pif Paf,19.39,15.09,04/02/2023,25/01/2023,Alimentos,1kg\\n', 'Óleo de Soja,Concordia,7.02,6.1,21/02/2023,09/02/2023,Alimentos,900ml\\n', 'Geladeira,Consul,6626.67,5129.39,29/03/2023,01/03/2023,Eletrodomésticos,100kg\\n', 'Pão de Forma,Seven Boys,4.42,3.64,13/03/2023,07/03/2023,Alimentos,500g\\n', 'Café,Melitta,11.57,8.5,30/01/2023,07/01/2023,Alimentos,500g\\n', 'Televisor,Samsung,6393.14,5040.26,03/02/2023,24/01/2023,Eletrônicos,25kg\\n', 'Café,Pilão,12.57,11.23,24/01/2023,02/01/2023,Alimentos,500g\\n', 'Tablet,Multilaser,1316.36,1090.64,19/01/2023,04/01/2023,Eletrônicos,500g\\n', 'Máquina de Lavar,Brastemp,4183.89,3577.47,03/03/2023,08/02/2023,Eletrodomésticos,70kg\\n', 'Açúcar,Da Barra,3.52,2.51,13/02/2023,13/02/2023,Alimentos,1kg\\n', 'Macarrão,Renata,4.1,3.03,16/01/2023,18/12/2022,Alimentos,500g\\n', 'Pão de Forma,Wickbold,5.15,3.73,12/03/2023,12/03/2023,Alimentos,500g\\n', 'Fone de Ouvido,Bose,684.48,513.81,17/02/2023,01/02/2023,Eletrônicos,50g\\n', 'Açúcar,União,4.03,2.94,21/01/2023,07/01/2023,Alimentos,1kg\\n', 'Óleo de Soja,Liza,6.6,5.92,23/02/2023,08/02/2023,Alimentos,900ml\\n', 'Fone de Ouvido,Sony,647.18,483.45,09/02/2023,19/01/2023,Eletrônicos,50g\\n', 'Arroz,Camil,16.11,12.22,22/02/2023,02/02/2023,Alimentos,5kg\\n', 'Leite em Pó,Itambé,21.85,17.5,02/03/2023,06/02/2023,Alimentos,800g\\n', 'Feijão,Princesa,6.65,5.1,28/03/2023,04/03/2023,Alimentos,1kg\\n', 'Leite em Pó,Itambé,22.06,16.34,10/01/2023,08/01/2023,Alimentos,800g\\n', 'Fogão,Electrolux,2055.39,1614.51,23/01/2023,18/01/2023,Eletrodomésticos,50kg\\n', 'Geladeira,Electrolux,4097.99,3351.08,11/02/2023,22/01/2023,Eletrodomésticos,100kg\\n', 'Açúcar,União,3.83,3.32,15/02/2023,15/02/2023,Alimentos,1kg\\n', 'Óleo de Soja,Vila Velha,6.52,5.51,19/03/2023,26/02/2023,Alimentos,900ml\\n', 'Leite em Pó,Piracanjuba,20.39,14.84,03/01/2023,24/12/2022,Alimentos,800g\\n', 'Geladeira,Samsung,4331.22,3637.23,23/02/2023,24/01/2023,Eletrodomésticos,100kg\\n', 'Máquina de Lavar,Brastemp,4784.03,3960.29,11/01/2023,29/12/2022,Eletrodomésticos,70kg\\n', 'Arroz,Cristal,13.06,10.74,20/03/2023,20/02/2023,Alimentos,5kg\\n', 'Fone de Ouvido,Sennheiser,652.94,552.36,03/02/2023,11/01/2023,Eletrônicos,50g\\n', 'Macarrão,Piraquê,3.65,3.17,22/03/2023,26/02/2023,Alimentos,500g\\n', 'Leite em Pó,Ninho,21.42,15.99,11/01/2023,13/12/2022,Alimentos,800g\\n', 'Pão de Forma,Nutrella,5.64,4.22,25/03/2023,13/03/2023,Alimentos,500g\\n', 'Arroz,Camil,11.46,8.56,09/03/2023,11/02/2023,Alimentos,5kg\\n', 'Geladeira,Electrolux,4844.29,3518.62,09/02/2023,10/01/2023,Eletrodomésticos,100kg\\n', 'Geladeira,Electrolux,4178.61,3175.14,19/01/2023,08/01/2023,Eletrodomésticos,100kg\\n', 'Fone de Ouvido,Bose,506.71,379.04,19/01/2023,06/01/2023,Eletrônicos,50g\\n', 'Fone de Ouvido,Sony,706.91,608.72,21/01/2023,20/01/2023,Eletrônicos,50g\\n', 'Geladeira,Electrolux,7652.42,5543.64,10/03/2023,09/02/2023,Eletrodomésticos,100kg\\n', 'Pão de Forma,Seven Boys,5.36,4.39,11/02/2023,10/02/2023,Alimentos,500g\\n', 'Óleo de Soja,Vila Velha,6.76,4.88,18/02/2023,23/01/2023,Alimentos,900ml\\n', 'Macarrão,Renata,3.97,2.94,22/01/2023,16/01/2023,Alimentos,500g\\n', 'Tablet,Lenovo,1397.27,1083.58,01/02/2023,29/01/2023,Eletrônicos,500g\\n', 'Pão de Forma,Seven Boys,4.66,3.27,25/03/2023,28/02/2023,Alimentos,500g\\n', 'Câmera Fotográfica,Nikon,3169.81,2303.47,13/03/2023,08/03/2023,Eletrônicos,500g\\n', 'Fogão,Consul,2683.62,2061.47,31/03/2023,13/03/2023,Eletrodomésticos,50kg\\n', 'Câmera Fotográfica,Canon,4262.97,3721.21,09/01/2023,29/12/2022,Eletrônicos,500g\\n', 'Fogão,Consul,2421.18,1957.46,26/01/2023,09/01/2023,Eletrodomésticos,50kg\\n', 'Leite em Pó,Ninho,22.37,19.17,02/01/2023,23/12/2022,Alimentos,800g\\n', 'Leite em Pó,Itambé,20.73,15.62,23/01/2023,15/01/2023,Alimentos,800g\\n', 'Café,3 Corações,12.15,10.49,05/02/2023,25/01/2023,Alimentos,500g\\n', 'Câmera Fotográfica,Sony,4683.8,4201.02,29/01/2023,10/01/2023,Eletrônicos,500g\\n', 'Fone de Ouvido,Bose,1015.11,737.8,11/03/2023,27/02/2023,Eletrônicos,50g\\n', 'Feijão,Grao de Ouro,5.89,4.22,21/03/2023,01/03/2023,Alimentos,1kg\\n', 'Notebook,Asus,4740.47,3982.72,04/03/2023,26/02/2023,Eletrônicos,2kg\\n', 'Câmera Fotográfica,Nikon,4266.54,3228.46,13/02/2023,07/02/2023,Eletrônicos,500g\\n', 'Arroz,Cristal,12.38,9.04,19/03/2023,13/03/2023,Alimentos,5kg\\n', 'Pão de Forma,Wickbold,4.65,3.48,03/01/2023,15/12/2022,Alimentos,500g\\n', 'Macarrão,Adria,3.56,2.73,03/02/2023,02/02/2023,Alimentos,500g\\n', 'Arroz,Tio João,15.73,12.9,21/02/2023,27/01/2023,Alimentos,5kg\\n', 'Tablet,Multilaser,1838.24,1385.7,19/02/2023,16/02/2023,Eletrônicos,500g\\n', 'Câmera Fotográfica,Sony,3116.11,2607.44,28/02/2023,17/02/2023,Eletrônicos,500g\\n', 'Arroz,Camil,18.76,13.71,05/01/2023,17/12/2022,Alimentos,5kg\\n', 'Máquina de Lavar,Brastemp,4183.74,3613.37,07/01/2023,19/12/2022,Eletrodomésticos,70kg\\n', 'Geladeira,Consul,7118.27,5120.54,29/01/2023,03/01/2023,Eletrodomésticos,100kg\\n', 'Açúcar,Estrela,3.79,2.68,09/01/2023,10/12/2022,Alimentos,1kg\\n', 'Café,Melitta,9.67,7.76,01/03/2023,24/02/2023,Alimentos,500g\\n', 'Smartphone,Motorola,2541.71,2014.4,03/03/2023,18/02/2023,Eletrônicos,200g\\n', 'Açúcar,Da Barra,4.75,3.49,26/02/2023,19/02/2023,Alimentos,1kg\\n', 'Fone de Ouvido,Sony,775.86,568.24,11/03/2023,16/02/2023,Eletrônicos,50g\\n', 'Câmera Fotográfica,Fujifilm,3881.54,3041.76,16/01/2023,06/01/2023,Eletrônicos,500g\\n', 'Arroz,Camil,13.77,10.42,20/02/2023,17/02/2023,Alimentos,5kg\\n', 'Máquina de Lavar,Brastemp,3548.54,2666.67,18/02/2023,21/01/2023,Eletrodomésticos,70kg\\n', 'Presunto,Pif Paf,16.29,11.85,07/03/2023,22/02/2023,Alimentos,1kg\\n', 'Macarrão,Renata,4.57,3.36,09/02/2023,25/01/2023,Alimentos,500g\\n', 'Açúcar,Da Barra,3.25,2.91,04/02/2023,22/01/2023,Alimentos,1kg\\n', 'Máquina de Lavar,LG,4612.01,3988.87,17/02/2023,09/02/2023,Eletrodomésticos,70kg\\n', 'Óleo de Soja,Bunge,5.26,4.36,12/02/2023,12/02/2023,Alimentos,900ml\\n', 'Fogão,Brastemp,2055.56,1584.51,10/01/2023,31/12/2022,Eletrodomésticos,50kg\\n', 'Televisor,Sony,6645.49,5178.75,21/03/2023,21/02/2023,Eletrônicos,25kg\\n', 'Câmera Fotográfica,Fujifilm,3425.44,2419.53,22/03/2023,10/03/2023,Eletrônicos,500g\\n', 'Macarrão,Adria,3.42,3.0,01/03/2023,19/02/2023,Alimentos,500g\\n', 'Tablet,Apple,1901.09,1600.56,07/02/2023,04/02/2023,Eletrônicos,500g\\n', 'Leite em Pó,Parmalat,20.84,17.18,21/03/2023,19/02/2023,Alimentos,800g\\n', 'Pão de Forma,Pullman,5.3,4.68,02/01/2023,14/12/2022,Alimentos,500g\\n', 'Notebook,Dell,5166.05,3860.87,02/01/2023,15/12/2022,Eletrônicos,2kg\\n', 'Pão de Forma,Nutrella,5.34,4.02,09/01/2023,19/12/2022,Alimentos,500g\\n', 'Açúcar,Cristal,3.6,2.7,03/03/2023,22/02/2023,Alimentos,1kg\\n', 'Feijão,Princesa,7.43,6.5,05/01/2023,22/12/2022,Alimentos,1kg\\n', 'Leite em Pó,Parmalat,22.44,20.13,04/03/2023,20/02/2023,Alimentos,800g\\n', 'Café,3 Corações,12.35,9.6,23/01/2023,10/01/2023,Alimentos,500g\\n', 'Fone de Ouvido,Sennheiser,834.44,639.84,15/01/2023,11/01/2023,Eletrônicos,50g\\n', 'Leite em Pó,Itambé,22.03,17.91,03/02/2023,02/02/2023,Alimentos,800g\\n', 'Pão de Forma,Nutrella,5.54,4.76,01/03/2023,17/02/2023,Alimentos,500g\\n', 'Smartphone,Xiaomi,2928.38,2165.33,22/02/2023,12/02/2023,Eletrônicos,200g\\n', 'Geladeira,Samsung,4117.79,2982.42,11/03/2023,15/02/2023,Eletrodomésticos,100kg\\n', 'Óleo de Soja,Liza,5.16,4.34,02/03/2023,01/02/2023,Alimentos,900ml\\n', 'Pão de Forma,Seven Boys,5.62,5.0,13/02/2023,10/02/2023,Alimentos,500g\\n', 'Pão de Forma,Seven Boys,4.62,3.52,17/03/2023,13/03/2023,Alimentos,500g\\n', 'Leite em Pó,Itambé,22.57,16.33,06/01/2023,13/12/2022,Alimentos,800g\\n', 'Açúcar,Estrela,3.0,2.65,19/01/2023,10/01/2023,Alimentos,1kg\\n', 'Feijão,Princesa,7.06,5.79,25/02/2023,20/02/2023,Alimentos,1kg\\n', 'Fone de Ouvido,JBL,1011.8,875.19,27/01/2023,05/01/2023,Eletrônicos,50g\\n', 'Açúcar,União,3.89,3.1,06/01/2023,19/12/2022,Alimentos,1kg\\n', 'Câmera Fotográfica,Fujifilm,3837.71,2693.27,03/03/2023,03/02/2023,Eletrônicos,500g\\n', 'Televisor,Philips,5884.75,4914.87,18/01/2023,03/01/2023,Eletrônicos,25kg\\n', 'Macarrão,Adria,4.49,3.96,13/01/2023,24/12/2022,Alimentos,500g\\n', 'Televisor,LG,7213.41,6207.09,08/03/2023,27/02/2023,Eletrônicos,25kg\\n', 'Notebook,Lenovo,5782.84,4838.51,03/01/2023,07/12/2022,Eletrônicos,2kg\\n', 'Câmera Fotográfica,Sony,3947.7,3450.88,01/01/2023,05/12/2022,Eletrônicos,500g\\n', 'Macarrão,Adria,3.89,2.88,14/02/2023,21/01/2023,Alimentos,500g\\n', 'Tablet,Samsung,1218.49,1060.72,05/02/2023,13/01/2023,Eletrônicos,500g\\n', 'Geladeira,Samsung,4769.88,4098.78,26/03/2023,28/02/2023,Eletrodomésticos,100kg\\n', 'Presunto,Pif Paf,18.17,14.26,28/03/2023,27/03/2023,Alimentos,1kg\\n', 'Notebook,Dell,5449.83,4374.36,20/02/2023,21/01/2023,Eletrônicos,2kg\\n', 'Fone de Ouvido,Sony,1061.96,753.55,19/01/2023,04/01/2023,Eletrônicos,50g\\n', 'Presunto,Perdigão,19.15,14.87,24/01/2023,06/01/2023,Alimentos,1kg\\n', 'Macarrão,Renata,3.86,2.98,21/02/2023,04/02/2023,Alimentos,500g\\n', 'Arroz,Cristal,17.25,13.71,23/03/2023,02/03/2023,Alimentos,5kg\\n', 'Câmera Fotográfica,Canon,3199.54,2759.96,05/03/2023,05/03/2023,Eletrônicos,500g\\n', 'Televisor,Philips,4478.77,3914.66,14/03/2023,06/03/2023,Eletrônicos,25kg\\n', 'Fone de Ouvido,Sony,784.47,668.2,10/01/2023,24/12/2022,Eletrônicos,50g\\n', 'Câmera Fotográfica,Fujifilm,3506.29,2522.86,08/03/2023,16/02/2023,Eletrônicos,500g\\n', 'Leite em Pó,Parmalat,20.12,17.61,19/02/2023,06/02/2023,Alimentos,800g\\n', 'Macarrão,Piraquê,3.97,3.06,29/01/2023,16/01/2023,Alimentos,500g\\n', 'Notebook,HP,5896.21,4795.35,31/01/2023,18/01/2023,Eletrônicos,2kg\\n', 'Fogão,Brastemp,2622.62,1916.54,13/02/2023,12/02/2023,Eletrodomésticos,50kg\\n', 'Câmera Fotográfica,Fujifilm,3758.26,3323.77,07/03/2023,21/02/2023,Eletrônicos,500g\\n', 'Feijão,Grao de Ouro,5.44,4.78,18/03/2023,04/03/2023,Alimentos,1kg\\n', 'Câmera Fotográfica,Canon,4943.68,3694.06,10/03/2023,19/02/2023,Eletrônicos,500g\\n', 'Notebook,Lenovo,5236.21,3850.91,17/02/2023,22/01/2023,Eletrônicos,2kg\\n', 'Smartphone,Xiaomi,2873.54,2078.32,11/02/2023,28/01/2023,Eletrônicos,200g\\n', 'Leite em Pó,Itambé,19.78,15.82,11/02/2023,19/01/2023,Alimentos,800g\\n', 'Fogão,Electrolux,3430.23,2820.77,09/02/2023,11/01/2023,Eletrodomésticos,50kg\\n', 'Leite em Pó,Ninho,21.36,16.18,26/02/2023,26/02/2023,Alimentos,800g\\n', 'Café,Santa Clara,12.97,10.19,11/03/2023,06/03/2023,Alimentos,500g\\n', 'Leite em Pó,Parmalat,19.17,15.75,07/03/2023,18/02/2023,Alimentos,800g\\n', 'Tablet,Apple,1174.48,845.73,10/03/2023,18/02/2023,Eletrônicos,500g\\n', 'Presunto,Qualitá,21.7,19.49,28/03/2023,27/03/2023,Alimentos,1kg\\n', 'Açúcar,União,4.5,3.78,11/01/2023,03/01/2023,Alimentos,1kg\\n', 'Smartphone,Motorola,3297.27,2665.9,17/02/2023,06/02/2023,Eletrônicos,200g\\n', 'Câmera Fotográfica,Canon,4912.8,4288.26,18/01/2023,30/12/2022,Eletrônicos,500g\\n', 'Televisor,Samsung,5286.63,4685.01,18/03/2023,12/03/2023,Eletrônicos,25kg\\n', 'Macarrão,Renata,3.57,2.99,19/03/2023,08/03/2023,Alimentos,500g\\n', 'Feijão,Camil,6.6,5.45,22/02/2023,24/01/2023,Alimentos,1kg\\n', 'Óleo de Soja,Liza,6.09,4.82,07/03/2023,25/02/2023,Alimentos,900ml\\n', 'Fogão,Atlas,2156.5,1803.27,13/02/2023,12/02/2023,Eletrodomésticos,50kg\\n', 'Máquina de Lavar,Consul,4603.28,3690.45,06/03/2023,25/02/2023,Eletrodomésticos,70kg\\n', 'Café,Pilão,9.58,6.89,08/03/2023,25/02/2023,Alimentos,500g\\n', 'Açúcar,União,3.9,2.85,12/02/2023,12/02/2023,Alimentos,1kg\\n', 'Pão de Forma,Pullman,5.98,4.76,26/02/2023,12/02/2023,Alimentos,500g\\n', 'Açúcar,Cristal,4.53,3.9,25/03/2023,10/03/2023,Alimentos,1kg\\n', 'Tablet,Apple,1886.56,1367.82,07/03/2023,06/03/2023,Eletrônicos,500g\\n', 'Óleo de Soja,Bunge,6.87,4.97,23/01/2023,04/01/2023,Alimentos,900ml\\n', 'Feijão,Grao de Ouro,7.53,6.64,02/02/2023,10/01/2023,Alimentos,1kg\\n', 'Tablet,Multilaser,1876.69,1551.12,21/01/2023,31/12/2022,Eletrônicos,500g\\n', 'Fogão,Consul,3025.15,2311.8,16/01/2023,29/12/2022,Eletrodomésticos,50kg\\n', 'Geladeira,Brastemp,6780.56,5418.16,03/03/2023,18/02/2023,Eletrodomésticos,100kg\\n', 'Geladeira,Electrolux,4230.18,3065.68,10/01/2023,15/12/2022,Eletrodomésticos,100kg\\n', 'Óleo de Soja,Concordia,5.74,4.41,25/02/2023,14/02/2023,Alimentos,900ml\\n', 'Leite em Pó,Piracanjuba,22.09,18.62,10/01/2023,25/12/2022,Alimentos,800g\\n', 'Açúcar,Estrela,4.63,3.65,13/02/2023,28/01/2023,Alimentos,1kg\\n', 'Pão de Forma,Nutrella,5.3,3.83,24/03/2023,09/03/2023,Alimentos,500g\\n', 'Arroz,Ráris,15.73,13.84,31/03/2023,05/03/2023,Alimentos,5kg\\n', 'Notebook,Lenovo,4381.48,3078.43,14/03/2023,27/02/2023,Eletrônicos,2kg\\n', 'Fone de Ouvido,Sony,1195.43,1001.56,22/01/2023,16/01/2023,Eletrônicos,50g\\n', 'Presunto,Qualitá,18.79,13.61,28/01/2023,02/01/2023,Alimentos,1kg\\n', 'Leite em Pó,Itambé,22.76,16.88,15/01/2023,14/01/2023,Alimentos,800g\\n', 'Arroz,Tio João,13.08,10.65,30/03/2023,22/03/2023,Alimentos,5kg\\n', 'Açúcar,União,3.73,3.25,18/01/2023,12/01/2023,Alimentos,1kg\\n', 'Tablet,Lenovo,1913.35,1502.64,08/03/2023,15/02/2023,Eletrônicos,500g\\n', 'Açúcar,Cristal,4.11,3.0,10/03/2023,16/02/2023,Alimentos,1kg\\n', 'Televisor,LG,6955.34,5216.45,10/03/2023,10/03/2023,Eletrônicos,25kg\\n', 'Leite em Pó,Parmalat,21.87,16.49,26/02/2023,24/02/2023,Alimentos,800g\\n', 'Tablet,Multilaser,1924.87,1692.34,25/01/2023,13/01/2023,Eletrônicos,500g\\n', 'Fogão,Electrolux,2202.31,1849.53,22/03/2023,04/03/2023,Eletrodomésticos,50kg\\n', 'Óleo de Soja,Liza,5.72,4.54,28/03/2023,13/03/2023,Alimentos,900ml\\n', 'Café,3 Corações,10.39,8.03,16/01/2023,31/12/2022,Alimentos,500g\\n', 'Tablet,Multilaser,1325.5,1103.03,28/02/2023,30/01/2023,Eletrônicos,500g\\n', 'Notebook,Dell,5801.55,4580.38,29/03/2023,13/03/2023,Eletrônicos,2kg\\n', 'Tablet,Lenovo,1647.9,1351.99,30/01/2023,21/01/2023,Eletrônicos,500g\\n', 'Tablet,Multilaser,1245.61,1058.47,11/01/2023,18/12/2022,Eletrônicos,500g\\n', 'Notebook,HP,5002.28,4405.44,13/01/2023,11/01/2023,Eletrônicos,2kg\\n', 'Notebook,HP,5010.17,3977.41,26/02/2023,09/02/2023,Eletrônicos,2kg\\n', 'Fogão,Consul,2433.44,1750.08,08/01/2023,01/01/2023,Eletrodomésticos,50kg\\n', 'Açúcar,Cristal,4.56,3.97,01/01/2023,15/12/2022,Alimentos,1kg\\n', 'Pão de Forma,Wickbold,4.75,4.27,17/01/2023,29/12/2022,Alimentos,500g\\n', 'Pão de Forma,Wickbold,5.5,4.38,23/03/2023,14/03/2023,Alimentos,500g\\n', 'Leite em Pó,Parmalat,21.08,17.64,31/01/2023,30/01/2023,Alimentos,800g\\n', 'Tablet,Samsung,2354.51,1698.41,08/03/2023,04/03/2023,Eletrônicos,500g\\n', 'Óleo de Soja,Liza,7.44,6.53,04/03/2023,16/02/2023,Alimentos,900ml\\n', 'Câmera Fotográfica,Canon,4889.67,3567.43,28/02/2023,23/02/2023,Eletrônicos,500g\\n', 'Fone de Ouvido,Sennheiser,976.62,786.0,19/02/2023,17/02/2023,Eletrônicos,50g\\n', 'Pão de Forma,Seven Boys,5.16,4.6,24/03/2023,03/03/2023,Alimentos,500g\\n', 'Máquina de Lavar,Electrolux,4259.69,3549.09,03/02/2023,19/01/2023,Eletrodomésticos,70kg\\n', 'Geladeira,Consul,4739.89,3761.58,04/02/2023,07/01/2023,Eletrodomésticos,100kg\\n', 'Notebook,Lenovo,5683.86,4952.64,04/02/2023,22/01/2023,Eletrônicos,2kg\\n', 'Fogão,Brastemp,3084.51,2512.15,19/02/2023,30/01/2023,Eletrodomésticos,50kg\\n', 'Máquina de Lavar,Consul,3731.83,3318.46,21/01/2023,28/12/2022,Eletrodomésticos,70kg\\n', 'Pão de Forma,Wickbold,4.6,3.32,18/03/2023,03/03/2023,Alimentos,500g\\n', 'Arroz,Tio João,14.92,11.79,31/01/2023,05/01/2023,Alimentos,5kg\\n', 'Leite em Pó,Piracanjuba,20.88,17.8,30/03/2023,23/03/2023,Alimentos,800g\\n', 'Óleo de Soja,Vila Velha,5.7,4.13,23/02/2023,06/02/2023,Alimentos,900ml\\n', 'Fogão,Electrolux,2181.69,1923.27,26/01/2023,11/01/2023,Eletrodomésticos,50kg\\n', 'Geladeira,Samsung,6122.87,4634.73,23/02/2023,10/02/2023,Eletrodomésticos,100kg\\n', 'Pão de Forma,Wickbold,4.15,3.15,16/01/2023,01/01/2023,Alimentos,500g\\n', 'Pão de Forma,Nutrella,5.31,4.72,12/03/2023,04/03/2023,Alimentos,500g\\n', 'Fogão,Consul,3027.34,2365.9,11/02/2023,02/02/2023,Eletrodomésticos,50kg\\n', 'Fogão,Atlas,2721.38,2176.39,10/03/2023,06/03/2023,Eletrodomésticos,50kg\\n', 'Macarrão,Adria,4.75,3.86,26/03/2023,17/03/2023,Alimentos,500g\\n', 'Câmera Fotográfica,Nikon,3857.5,2810.14,14/03/2023,17/02/2023,Eletrônicos,500g\\n', 'Máquina de Lavar,LG,3345.27,2490.1,13/01/2023,22/12/2022,Eletrodomésticos,70kg\\n', 'Leite em Pó,Ninho,20.96,17.26,02/03/2023,09/02/2023,Alimentos,800g\\n', 'Máquina de Lavar,Consul,3011.6,2146.76,24/01/2023,07/01/2023,Eletrodomésticos,70kg\\n', 'Café,Santa Clara,11.43,9.71,30/03/2023,20/03/2023,Alimentos,500g\\n', 'Fone de Ouvido,Sennheiser,1012.88,891.62,25/03/2023,22/03/2023,Eletrônicos,50g\\n', 'Fogão,Atlas,2402.71,1745.5,06/01/2023,03/01/2023,Eletrodomésticos,50kg\\n', 'Feijão,Princesa,7.04,4.94,07/01/2023,15/12/2022,Alimentos,1kg\\n', 'Açúcar,União,4.56,3.45,05/01/2023,30/12/2022,Alimentos,1kg\\n', 'Fogão,Atlas,2124.43,1844.34,31/01/2023,08/01/2023,Eletrodomésticos,50kg\\n', 'Pão de Forma,Seven Boys,4.82,3.82,13/03/2023,25/02/2023,Alimentos,500g\\n', 'Máquina de Lavar,LG,2927.96,2163.13,09/01/2023,05/01/2023,Eletrodomésticos,70kg\\n', 'Presunto,Sadia,20.58,16.85,06/01/2023,05/01/2023,Alimentos,1kg\\n', 'Café,Santa Clara,9.54,8.26,21/01/2023,28/12/2022,Alimentos,500g\\n', 'Máquina de Lavar,Consul,4898.6,4207.35,08/01/2023,25/12/2022,Eletrodomésticos,70kg\\n', 'Leite em Pó,Ninho,21.93,17.25,29/01/2023,27/01/2023,Alimentos,800g\\n', 'Café,3 Corações,9.97,8.9,08/03/2023,05/03/2023,Alimentos,500g\\n', 'Presunto,Perdigão,21.71,17.58,19/03/2023,17/03/2023,Alimentos,1kg\\n', 'Feijão,Princesa,8.92,7.58,05/01/2023,18/12/2022,Alimentos,1kg\\n', 'Fogão,Atlas,2249.79,1644.86,14/03/2023,15/02/2023,Eletrodomésticos,50kg\\n', 'Notebook,Asus,5936.83,5257.41,31/01/2023,01/01/2023,Eletrônicos,2kg\\n', 'Televisor,LG,7435.6,6109.62,01/01/2023,10/12/2022,Eletrônicos,25kg\\n', 'Tablet,Apple,1951.92,1545.05,09/03/2023,11/02/2023,Eletrônicos,500g\\n', 'Câmera Fotográfica,Nikon,4612.0,3996.09,28/02/2023,12/02/2023,Eletrônicos,500g\\n', 'Leite em Pó,Itambé,22.1,17.27,01/01/2023,02/12/2022,Alimentos,800g\\n', 'Geladeira,Consul,5914.28,5035.06,22/02/2023,01/02/2023,Eletrodomésticos,100kg\\n', 'Câmera Fotográfica,Canon,4201.81,3229.24,30/01/2023,05/01/2023,Eletrônicos,500g\\n', 'Câmera Fotográfica,Canon,3550.76,2928.31,25/02/2023,27/01/2023,Eletrônicos,500g\\n', 'Câmera Fotográfica,Nikon,4461.47,3571.33,21/03/2023,14/03/2023,Eletrônicos,500g\\n', 'Feijão,Kicaldo,5.77,4.36,05/02/2023,02/02/2023,Alimentos,1kg\\n', 'Tablet,Apple,2227.02,1650.15,20/02/2023,03/02/2023,Eletrônicos,500g\\n', 'Geladeira,Samsung,6989.75,6289.67,15/01/2023,18/12/2022,Eletrodomésticos,100kg\\n', 'Açúcar,Cristal,4.73,4.2,21/03/2023,19/03/2023,Alimentos,1kg\\n', 'Óleo de Soja,Bunge,6.07,5.2,11/02/2023,06/02/2023,Alimentos,900ml\\n', 'Câmera Fotográfica,Nikon,4843.08,3976.58,22/02/2023,04/02/2023,Eletrônicos,500g\\n', 'Açúcar,Da Barra,3.01,2.48,14/02/2023,26/01/2023,Alimentos,1kg\\n', 'Óleo de Soja,Concordia,5.79,4.32,12/01/2023,04/01/2023,Alimentos,900ml\\n', 'Presunto,Perdigão,21.51,17.82,08/01/2023,01/01/2023,Alimentos,1kg\\n', 'Fogão,Consul,2511.7,2058.67,10/03/2023,18/02/2023,Eletrodomésticos,50kg\\n', 'Café,Santa Clara,12.05,8.92,04/03/2023,27/02/2023,Alimentos,500g\\n', 'Leite em Pó,Piracanjuba,20.93,16.19,06/02/2023,23/01/2023,Alimentos,800g\\n', 'Televisor,Samsung,6638.55,5159.48,19/02/2023,23/01/2023,Eletrônicos,25kg\\n', 'Presunto,Sadia,17.66,13.71,18/01/2023,27/12/2022,Alimentos,1kg\\n', 'Açúcar,Cristal,3.95,2.87,27/02/2023,03/02/2023,Alimentos,1kg\\n', 'Feijão,Kicaldo,8.03,6.53,05/03/2023,22/02/2023,Alimentos,1kg\\n', 'Tablet,Lenovo,2356.22,1954.47,24/01/2023,20/01/2023,Eletrônicos,500g\\n', 'Notebook,Asus,5936.73,4693.81,06/03/2023,03/03/2023,Eletrônicos,2kg\\n', 'Notebook,Lenovo,4933.93,4034.58,19/03/2023,04/03/2023,Eletrônicos,2kg\\n', 'Notebook,Dell,5805.71,4823.32,24/01/2023,05/01/2023,Eletrônicos,2kg\\n', 'Notebook,Lenovo,5711.02,4114.69,05/01/2023,23/12/2022,Eletrônicos,2kg\\n', 'Smartphone,Xiaomi,3459.05,2626.87,14/03/2023,17/02/2023,Eletrônicos,200g\\n', 'Café,Melitta,11.47,8.25,17/01/2023,17/01/2023,Alimentos,500g\\n', 'Presunto,Pif Paf,16.6,11.92,20/03/2023,24/02/2023,Alimentos,1kg\\n', 'Pão de Forma,Nutrella,5.04,4.51,23/02/2023,14/02/2023,Alimentos,500g\\n', 'Macarrão,Renata,3.92,3.45,09/01/2023,09/01/2023,Alimentos,500g\\n', 'Café,Pilão,12.36,8.85,20/03/2023,28/02/2023,Alimentos,500g\\n', 'Feijão,Camil,5.68,4.4,03/03/2023,18/02/2023,Alimentos,1kg\\n', 'Tablet,Lenovo,1891.06,1656.19,20/03/2023,18/03/2023,Eletrônicos,500g\\n', 'Fone de Ouvido,JBL,907.27,781.38,29/03/2023,12/03/2023,Eletrônicos,50g\\n', 'Tablet,Samsung,1363.97,999.67,08/03/2023,05/03/2023,Eletrônicos,500g\\n', 'Fogão,Brastemp,2279.76,1932.47,20/02/2023,31/01/2023,Eletrodomésticos,50kg\\n', 'Smartphone,Samsung,2879.01,2424.28,05/03/2023,20/02/2023,Eletrônicos,200g\\n', 'Tablet,Apple,1983.56,1444.46,08/03/2023,28/02/2023,Eletrônicos,500g\\n', 'Café,Melitta,11.08,8.52,23/03/2023,25/02/2023,Alimentos,500g\\n', 'Fogão,Electrolux,2179.88,1913.04,18/02/2023,14/02/2023,Eletrodomésticos,50kg\\n', 'Geladeira,Brastemp,5082.86,3801.2,11/02/2023,09/02/2023,Eletrodomésticos,100kg\\n', 'Geladeira,Consul,5946.73,5155.89,25/01/2023,18/01/2023,Eletrodomésticos,100kg\\n', 'Café,Santa Clara,10.81,8.07,17/01/2023,29/12/2022,Alimentos,500g\\n', 'Geladeira,Consul,7374.43,5973.6,22/02/2023,23/01/2023,Eletrodomésticos,100kg\\n', 'Café,Santa Clara,11.78,10.58,11/02/2023,31/01/2023,Alimentos,500g\\n', 'Açúcar,União,4.17,3.05,12/03/2023,20/02/2023,Alimentos,1kg\\n', 'Óleo de Soja,Bunge,5.72,4.59,14/02/2023,09/02/2023,Alimentos,900ml\\n', 'Geladeira,Brastemp,4355.21,3377.21,25/03/2023,03/03/2023,Eletrodomésticos,100kg\\n', 'Geladeira,Consul,5593.44,4087.14,04/01/2023,11/12/2022,Eletrodomésticos,100kg\\n', 'Câmera Fotográfica,Nikon,4961.27,3975.69,14/01/2023,13/01/2023,Eletrônicos,500g\\n', 'Feijão,Grao de Ouro,6.47,5.08,26/01/2023,29/12/2022,Alimentos,1kg\\n', 'Televisor,Samsung,4583.64,3303.1,24/02/2023,30/01/2023,Eletrônicos,25kg\\n', 'Café,Melitta,10.19,7.85,20/02/2023,31/01/2023,Alimentos,500g\\n', 'Açúcar,Da Barra,4.78,3.76,09/02/2023,14/01/2023,Alimentos,1kg\\n', 'Câmera Fotográfica,Canon,3857.97,2831.83,12/03/2023,25/02/2023,Eletrônicos,500g\\n', 'Geladeira,Electrolux,6501.83,4790.54,12/02/2023,23/01/2023,Eletrodomésticos,100kg\\n', 'Macarrão,Adria,4.35,3.21,06/02/2023,07/01/2023,Alimentos,500g\\n', 'Presunto,Qualitá,20.41,16.33,03/02/2023,27/01/2023,Alimentos,1kg\\n', 'Macarrão,Barilla,3.69,2.89,01/03/2023,24/02/2023,Alimentos,500g\\n', 'Café,Santa Clara,11.75,8.88,18/03/2023,14/03/2023,Alimentos,500g\\n', 'Feijão,Grao de Ouro,7.03,5.09,28/03/2023,06/03/2023,Alimentos,1kg\\n', 'Fogão,Brastemp,2631.47,2132.63,16/01/2023,26/12/2022,Eletrodomésticos,50kg\\n', 'Tablet,Samsung,1294.26,1018.27,11/03/2023,12/02/2023,Eletrônicos,500g\\n', 'Fone de Ouvido,JBL,1159.27,1043.29,17/03/2023,10/03/2023,Eletrônicos,50g\\n', 'Fogão,Consul,2345.26,1995.74,20/03/2023,18/03/2023,Eletrodomésticos,50kg\\n', 'Macarrão,Piraquê,4.32,3.38,13/01/2023,08/01/2023,Alimentos,500g\\n', 'Notebook,HP,5235.67,3980.62,04/02/2023,19/01/2023,Eletrônicos,2kg\\n', 'Geladeira,Consul,4906.02,3594.27,05/01/2023,08/12/2022,Eletrodomésticos,100kg\\n', 'Smartphone,Motorola,2545.46,1918.5,15/02/2023,07/02/2023,Eletrônicos,200g\\n', 'Notebook,Dell,5762.33,4773.6,17/01/2023,22/12/2022,Eletrônicos,2kg\\n', 'Pão de Forma,Seven Boys,4.25,3.26,15/02/2023,06/02/2023,Alimentos,500g\\n', 'Câmera Fotográfica,Canon,4396.37,3901.61,09/01/2023,20/12/2022,Eletrônicos,500g\\n', 'Açúcar,Da Barra,3.19,2.28,26/03/2023,16/03/2023,Alimentos,1kg\\n', 'Tablet,Lenovo,1420.64,1148.67,03/01/2023,19/12/2022,Eletrônicos,500g\\n', 'Arroz,Cristal,14.52,10.75,16/01/2023,31/12/2022,Alimentos,5kg\\n', 'Fogão,Atlas,2622.07,2044.62,13/03/2023,12/02/2023,Eletrodomésticos,50kg\\n', 'Pão de Forma,Pullman,4.33,3.4,19/03/2023,20/02/2023,Alimentos,500g\\n', 'Smartphone,Apple,3073.09,2489.3,16/02/2023,23/01/2023,Eletrônicos,200g\\n', 'Óleo de Soja,Bunge,6.98,6.12,19/01/2023,01/01/2023,Alimentos,900ml\\n', 'Arroz,Camil,13.41,11.04,21/01/2023,16/01/2023,Alimentos,5kg\\n', 'Presunto,Pif Paf,20.07,16.14,23/02/2023,28/01/2023,Alimentos,1kg\\n', 'Câmera Fotográfica,Fujifilm,3269.44,2770.64,31/01/2023,04/01/2023,Eletrônicos,500g\\n', 'Geladeira,Consul,6890.61,5904.73,09/03/2023,02/03/2023,Eletrodomésticos,100kg\\n', 'Fone de Ouvido,JBL,989.35,700.12,15/03/2023,24/02/2023,Eletrônicos,50g\\n', 'Geladeira,Brastemp,7972.79,6264.05,24/01/2023,26/12/2022,Eletrodomésticos,100kg\\n', 'Pão de Forma,Nutrella,5.54,4.66,03/03/2023,03/02/2023,Alimentos,500g\\n', 'Açúcar,Da Barra,4.67,4.18,11/01/2023,11/01/2023,Alimentos,1kg\\n', 'Óleo de Soja,Liza,5.52,4.26,31/01/2023,16/01/2023,Alimentos,900ml\\n', 'Açúcar,Da Barra,4.6,3.46,03/02/2023,22/01/2023,Alimentos,1kg\\n', 'Fone de Ouvido,JBL,843.54,653.13,31/01/2023,08/01/2023,Eletrônicos,50g\\n', 'Açúcar,União,4.94,3.69,22/02/2023,12/02/2023,Alimentos,1kg\\n', 'Televisor,Samsung,5720.79,4120.51,21/03/2023,15/03/2023,Eletrônicos,25kg\\n', 'Leite em Pó,Piracanjuba,21.94,18.17,14/02/2023,22/01/2023,Alimentos,800g\\n', 'Fogão,Brastemp,2648.44,1928.76,17/01/2023,20/12/2022,Eletrodomésticos,50kg\\n', 'Feijão,Princesa,8.91,6.91,11/03/2023,09/02/2023,Alimentos,1kg\\n', 'Açúcar,Estrela,4.46,3.24,14/03/2023,10/03/2023,Alimentos,1kg\\n', 'Óleo de Soja,Liza,7.64,5.59,25/02/2023,05/02/2023,Alimentos,900ml\\n', 'Presunto,Perdigão,16.23,12.38,08/01/2023,26/12/2022,Alimentos,1kg\\n', 'Café,3 Corações,12.47,10.33,14/01/2023,30/12/2022,Alimentos,500g\\n', 'Óleo de Soja,Concordia,6.61,5.7,02/01/2023,18/12/2022,Alimentos,900ml\\n', 'Presunto,Qualitá,18.0,13.59,15/02/2023,20/01/2023,Alimentos,1kg\\n', 'Presunto,Pif Paf,16.05,12.5,30/01/2023,21/01/2023,Alimentos,1kg\\n', 'Presunto,Qualitá,16.87,12.17,13/01/2023,19/12/2022,Alimentos,1kg\\n', 'Arroz,Cristal,13.67,10.16,11/03/2023,26/02/2023,Alimentos,5kg\\n', 'Tablet,Lenovo,1961.09,1376.66,28/03/2023,08/03/2023,Eletrônicos,500g\\n', 'Fone de Ouvido,Sennheiser,1104.39,944.31,18/01/2023,03/01/2023,Eletrônicos,50g\\n', 'Televisor,Sony,5815.17,4500.05,30/01/2023,22/01/2023,Eletrônicos,25kg\\n', 'Fogão,Consul,3421.01,2835.06,05/01/2023,17/12/2022,Eletrodomésticos,50kg\\n', 'Notebook,Dell,4425.97,3878.77,07/03/2023,16/02/2023,Eletrônicos,2kg\\n', 'Café,Pilão,9.83,8.61,16/01/2023,30/12/2022,Alimentos,500g\\n', 'Câmera Fotográfica,Sony,4737.75,3369.42,07/02/2023,20/01/2023,Eletrônicos,500g\\n', 'Feijão,Grao de Ouro,8.47,7.57,20/02/2023,14/02/2023,Alimentos,1kg\\n', 'Pão de Forma,Pullman,4.39,3.39,11/03/2023,14/02/2023,Alimentos,500g\\n', 'Açúcar,Da Barra,4.09,3.58,25/01/2023,17/01/2023,Alimentos,1kg\\n', 'Notebook,Dell,4044.23,3066.0,29/01/2023,13/01/2023,Eletrônicos,2kg\\n', 'Macarrão,Barilla,3.82,2.96,05/02/2023,31/01/2023,Alimentos,500g\\n', 'Máquina de Lavar,LG,4223.49,3496.63,06/03/2023,09/02/2023,Eletrodomésticos,70kg\\n', 'Leite em Pó,Piracanjuba,22.24,18.85,28/03/2023,03/03/2023,Alimentos,800g\\n', 'Máquina de Lavar,Electrolux,3066.5,2564.79,27/03/2023,02/03/2023,Eletrodomésticos,70kg\\n', 'Fogão,Brastemp,2333.23,1658.46,11/01/2023,31/12/2022,Eletrodomésticos,50kg\\n', 'Fone de Ouvido,JBL,811.18,682.4,31/03/2023,22/03/2023,Eletrônicos,50g\\n', 'Smartphone,Apple,2482.67,2215.64,05/03/2023,07/02/2023,Eletrônicos,200g\\n', 'Geladeira,Samsung,7501.94,6251.68,19/03/2023,12/03/2023,Eletrodomésticos,100kg\\n', 'Pão de Forma,Seven Boys,4.9,4.05,30/01/2023,26/01/2023,Alimentos,500g\\n', 'Fogão,Electrolux,2292.24,1915.71,16/02/2023,10/02/2023,Eletrodomésticos,50kg\\n', 'Geladeira,Samsung,4741.58,4143.01,10/01/2023,07/01/2023,Eletrodomésticos,100kg\\n', 'Tablet,Lenovo,2082.74,1588.43,10/03/2023,09/03/2023,Eletrônicos,500g\\n', 'Televisor,Philips,5752.66,4382.74,11/01/2023,03/01/2023,Eletrônicos,25kg\\n', 'Câmera Fotográfica,Canon,4227.69,3456.9,10/03/2023,12/02/2023,Eletrônicos,500g\\n', 'Tablet,Multilaser,1371.76,1110.02,20/03/2023,14/03/2023,Eletrônicos,500g\\n', 'Fogão,Electrolux,3447.97,2549.01,25/01/2023,01/01/2023,Eletrodomésticos,50kg\\n', 'Feijão,Grao de Ouro,6.44,4.84,15/03/2023,11/03/2023,Alimentos,1kg\\n', 'Tablet,Apple,1272.96,1112.93,06/03/2023,04/02/2023,Eletrônicos,500g\\n', 'Arroz,Ráris,12.68,10.42,13/03/2023,15/02/2023,Alimentos,5kg\\n', 'Feijão,Grao de Ouro,5.38,4.11,26/01/2023,13/01/2023,Alimentos,1kg\\n', 'Presunto,Pif Paf,19.0,13.52,20/03/2023,21/02/2023,Alimentos,1kg\\n', 'Notebook,HP,5928.66,5178.29,18/03/2023,28/02/2023,Eletrônicos,2kg\\n', 'Arroz,Ráris,16.09,11.38,10/03/2023,22/02/2023,Alimentos,5kg\\n', 'Notebook,Asus,5155.76,4121.78,19/03/2023,27/02/2023,Eletrônicos,2kg\\n', 'Arroz,Camil,11.21,9.71,19/01/2023,12/01/2023,Alimentos,5kg\\n', 'Pão de Forma,Seven Boys,5.7,5.07,10/03/2023,16/02/2023,Alimentos,500g\\n', 'Açúcar,Estrela,4.81,3.82,15/03/2023,19/02/2023,Alimentos,1kg\\n', 'Geladeira,Consul,6697.85,4754.09,20/01/2023,30/12/2022,Eletrodomésticos,100kg\\n', 'Feijão,Grao de Ouro,5.33,4.44,10/02/2023,29/01/2023,Alimentos,1kg\\n', 'Smartphone,Samsung,2623.5,1943.03,19/01/2023,23/12/2022,Eletrônicos,200g\\n', 'Tablet,Lenovo,1333.95,1179.13,16/01/2023,17/12/2022,Eletrônicos,500g\\n', 'Fogão,Electrolux,3422.4,2405.43,11/03/2023,05/03/2023,Eletrodomésticos,50kg\\n', 'Café,3 Corações,12.72,10.89,31/01/2023,08/01/2023,Alimentos,500g\\n', 'Açúcar,Cristal,3.45,2.47,26/03/2023,25/03/2023,Alimentos,1kg\\n', 'Tablet,Multilaser,2439.08,1909.67,23/02/2023,16/02/2023,Eletrônicos,500g\\n', 'Presunto,Sadia,16.84,14.3,01/01/2023,25/12/2022,Alimentos,1kg\\n', 'Presunto,Perdigão,22.69,17.83,11/03/2023,13/02/2023,Alimentos,1kg\\n', 'Pão de Forma,Pullman,5.39,4.69,13/01/2023,17/12/2022,Alimentos,500g\\n', 'Pão de Forma,Nutrella,4.33,3.26,16/01/2023,04/01/2023,Alimentos,500g\\n', 'Fogão,Electrolux,3095.61,2770.58,21/02/2023,17/02/2023,Eletrodomésticos,50kg\\n', 'Televisor,Samsung,4444.29,3148.57,11/01/2023,27/12/2022,Eletrônicos,25kg\\n', 'Presunto,Perdigão,22.85,18.43,08/01/2023,20/12/2022,Alimentos,1kg\\n', 'Óleo de Soja,Bunge,7.33,6.06,07/03/2023,28/02/2023,Alimentos,900ml\\n', 'Pão de Forma,Wickbold,4.14,3.3,15/03/2023,11/03/2023,Alimentos,500g\\n', 'Geladeira,Consul,6125.83,4943.88,05/02/2023,19/01/2023,Eletrodomésticos,100kg\\n', 'Presunto,Pif Paf,17.68,14.66,03/03/2023,01/03/2023,Alimentos,1kg\\n', 'Óleo de Soja,Vila Velha,7.78,5.69,12/01/2023,27/12/2022,Alimentos,900ml\\n', 'Televisor,Sony,5885.14,4227.49,07/03/2023,10/02/2023,Eletrônicos,25kg\\n', 'Fone de Ouvido,Bose,1186.18,904.28,20/02/2023,14/02/2023,Eletrônicos,50g\\n', 'Fogão,Electrolux,3229.91,2271.95,28/03/2023,26/02/2023,Eletrodomésticos,50kg\\n', 'Macarrão,Barilla,3.95,3.11,09/03/2023,10/02/2023,Alimentos,500g\\n', 'Televisor,LG,5674.21,4108.49,12/01/2023,27/12/2022,Eletrônicos,25kg\\n', 'Café,Melitta,9.95,7.36,22/03/2023,12/03/2023,Alimentos,500g\\n', 'Arroz,Cristal,16.64,13.65,15/03/2023,04/03/2023,Alimentos,5kg\\n', 'Notebook,Lenovo,4307.7,3771.01,23/02/2023,27/01/2023,Eletrônicos,2kg\\n', 'Pão de Forma,Seven Boys,5.59,4.65,31/01/2023,07/01/2023,Alimentos,500g\\n', 'Presunto,Pif Paf,17.86,14.73,30/03/2023,01/03/2023,Alimentos,1kg\\n', 'Máquina de Lavar,Brastemp,4062.08,3486.05,23/03/2023,27/02/2023,Eletrodomésticos,70kg\\n', 'Televisor,LG,6593.61,5021.53,25/03/2023,04/03/2023,Eletrônicos,25kg\\n', 'Smartphone,Apple,3342.01,2646.02,31/03/2023,02/03/2023,Eletrônicos,200g\\n', 'Fogão,Electrolux,2703.64,2083.19,28/01/2023,06/01/2023,Eletrodomésticos,50kg\\n', 'Macarrão,Piraquê,4.47,3.35,04/02/2023,04/02/2023,Alimentos,500g\\n', 'Leite em Pó,Parmalat,21.78,16.48,15/03/2023,11/03/2023,Alimentos,800g\\n', 'Café,3 Corações,11.94,8.46,30/01/2023,16/01/2023,Alimentos,500g\\n', 'Câmera Fotográfica,Canon,4030.34,3387.59,19/01/2023,17/01/2023,Eletrônicos,500g\\n', 'Câmera Fotográfica,Nikon,3238.03,2358.4,20/01/2023,08/01/2023,Eletrônicos,500g\\n', 'Pão de Forma,Pullman,5.09,3.67,05/01/2023,29/12/2022,Alimentos,500g\\n', 'Smartphone,Apple,3228.1,2296.14,11/01/2023,16/12/2022,Eletrônicos,200g\\n', 'Televisor,Philips,7457.95,5247.02,13/02/2023,20/01/2023,Eletrônicos,25kg\\n', 'Máquina de Lavar,Electrolux,4572.0,3652.15,16/02/2023,25/01/2023,Eletrodomésticos,70kg\\n', 'Televisor,Sony,5321.78,4179.31,23/02/2023,17/02/2023,Eletrônicos,25kg\\n', 'Tablet,Samsung,1970.07,1527.61,05/01/2023,26/12/2022,Eletrônicos,500g\\n', 'Geladeira,Consul,6268.53,4648.08,12/02/2023,04/02/2023,Eletrodomésticos,100kg\\n', 'Leite em Pó,Ninho,20.6,16.34,31/01/2023,26/01/2023,Alimentos,800g\\n', 'Presunto,Qualitá,22.32,17.41,11/02/2023,07/02/2023,Alimentos,1kg\\n', 'Geladeira,Samsung,7512.71,6375.76,27/01/2023,31/12/2022,Eletrodomésticos,100kg\\n', 'Feijão,Grao de Ouro,5.86,5.04,27/02/2023,31/01/2023,Alimentos,1kg\\n', 'Câmera Fotográfica,Nikon,4112.82,2904.35,10/03/2023,01/03/2023,Eletrônicos,500g\\n', 'Notebook,HP,5367.78,4150.35,04/03/2023,01/03/2023,Eletrônicos,2kg\\n', 'Tablet,Samsung,1665.69,1243.87,15/02/2023,05/02/2023,Eletrônicos,500g\\n', 'Pão de Forma,Seven Boys,5.12,4.3,14/03/2023,11/03/2023,Alimentos,500g\\n', 'Arroz,Ráris,11.41,8.82,27/01/2023,19/01/2023,Alimentos,5kg\\n', 'Televisor,Philips,6380.69,5286.06,22/02/2023,28/01/2023,Eletrônicos,25kg\\n', 'Feijão,Kicaldo,6.9,5.73,13/02/2023,08/02/2023,Alimentos,1kg\\n', 'Açúcar,Cristal,3.97,2.9,06/01/2023,17/12/2022,Alimentos,1kg\\n', 'Café,3 Corações,9.49,8.14,30/03/2023,06/03/2023,Alimentos,500g\\n', 'Feijão,Camil,5.99,4.81,04/01/2023,02/01/2023,Alimentos,1kg\\n', 'Fone de Ouvido,Bose,877.89,689.37,04/03/2023,09/02/2023,Eletrônicos,50g\\n', 'Macarrão,Renata,4.71,3.67,07/02/2023,07/02/2023,Alimentos,500g\\n', 'Pão de Forma,Pullman,5.97,4.46,08/02/2023,13/01/2023,Alimentos,500g\\n', 'Fone de Ouvido,Sony,778.19,607.1,15/03/2023,22/02/2023,Eletrônicos,50g\\n', 'Café,Santa Clara,9.46,7.02,12/02/2023,31/01/2023,Alimentos,500g\\n', 'Máquina de Lavar,Brastemp,4217.17,3358.16,23/03/2023,28/02/2023,Eletrodomésticos,70kg\\n', 'Presunto,Sadia,22.45,18.22,19/02/2023,20/01/2023,Alimentos,1kg\\n', 'Feijão,Kicaldo,8.05,6.55,12/03/2023,20/02/2023,Alimentos,1kg\\n', 'Tablet,Apple,1373.41,1175.66,28/01/2023,30/12/2022,Eletrônicos,500g\\n', 'Fogão,Consul,3419.7,2729.08,07/02/2023,10/01/2023,Eletrodomésticos,50kg\\n', 'Televisor,Sony,4678.37,3321.17,14/02/2023,29/01/2023,Eletrônicos,25kg\\n', 'Geladeira,Samsung,7364.69,5643.07,14/02/2023,05/02/2023,Eletrodomésticos,100kg\\n', 'Leite em Pó,Itambé,19.31,14.71,14/02/2023,18/01/2023,Alimentos,800g\\n', 'Geladeira,Samsung,5509.17,4669.22,17/03/2023,16/03/2023,Eletrodomésticos,100kg\\n', 'Pão de Forma,Nutrella,5.43,4.29,12/03/2023,08/03/2023,Alimentos,500g\\n', 'Açúcar,Estrela,4.29,3.52,13/02/2023,05/02/2023,Alimentos,1kg\\n', 'Fone de Ouvido,JBL,855.11,686.64,06/01/2023,27/12/2022,Eletrônicos,50g\\n', 'Café,Pilão,9.68,7.81,27/03/2023,27/03/2023,Alimentos,500g\\n', 'Smartphone,Apple,2669.93,2032.41,07/02/2023,20/01/2023,Eletrônicos,200g\\n', 'Câmera Fotográfica,Fujifilm,3354.84,3015.32,14/02/2023,11/02/2023,Eletrônicos,500g\\n', 'Smartphone,Motorola,3046.02,2492.33,07/01/2023,18/12/2022,Eletrônicos,200g\\n', 'Televisor,Samsung,6996.43,5814.13,25/02/2023,23/02/2023,Eletrônicos,25kg\\n', 'Televisor,Philips,5317.33,4139.56,03/01/2023,07/12/2022,Eletrônicos,25kg\\n', 'Leite em Pó,Parmalat,22.74,16.67,07/02/2023,24/01/2023,Alimentos,800g\\n', 'Fogão,Consul,2811.18,1981.55,10/03/2023,03/03/2023,Eletrodomésticos,50kg\\n', 'Máquina de Lavar,Electrolux,3135.03,2257.95,03/01/2023,16/12/2022,Eletrodomésticos,70kg\\n', 'Fogão,Electrolux,2859.11,2261.58,31/01/2023,09/01/2023,Eletrodomésticos,50kg\\n', 'Smartphone,Motorola,3333.88,2347.72,12/01/2023,14/12/2022,Eletrônicos,200g\\n', 'Presunto,Pif Paf,19.54,16.57,20/01/2023,05/01/2023,Alimentos,1kg\\n', 'Café,Pilão,10.6,8.66,14/01/2023,09/01/2023,Alimentos,500g\\n', 'Pão de Forma,Nutrella,5.63,4.98,27/01/2023,02/01/2023,Alimentos,500g\\n', 'Arroz,Tio João,13.14,11.76,18/03/2023,15/03/2023,Alimentos,5kg\\n', 'Geladeira,Brastemp,7868.75,6807.55,11/03/2023,09/02/2023,Eletrodomésticos,100kg\\n', 'Tablet,Samsung,1117.29,893.75,08/03/2023,17/02/2023,Eletrônicos,500g\\n', 'Tablet,Lenovo,1449.58,1059.73,15/03/2023,10/03/2023,Eletrônicos,500g\\n', 'Feijão,Grao de Ouro,5.1,3.7,22/01/2023,03/01/2023,Alimentos,1kg\\n', 'Óleo de Soja,Bunge,7.31,6.51,27/03/2023,16/03/2023,Alimentos,900ml\\n', 'Macarrão,Piraquê,3.97,2.89,14/02/2023,05/02/2023,Alimentos,500g\\n', 'Máquina de Lavar,Consul,2943.42,2097.89,21/03/2023,14/03/2023,Eletrodomésticos,70kg\\n', 'Presunto,Perdigão,21.58,16.55,09/03/2023,07/02/2023,Alimentos,1kg\\n', 'Café,Pilão,10.34,8.44,24/03/2023,04/03/2023,Alimentos,500g\\n', 'Presunto,Perdigão,18.44,12.98,08/01/2023,06/01/2023,Alimentos,1kg\\n', 'Pão de Forma,Seven Boys,4.65,4.12,09/01/2023,27/12/2022,Alimentos,500g\\n', 'Fone de Ouvido,Sony,747.51,603.82,31/01/2023,31/01/2023,Eletrônicos,50g\\n', 'Geladeira,Brastemp,4021.59,3479.95,23/02/2023,10/02/2023,Eletrodomésticos,100kg\\n', 'Fone de Ouvido,JBL,726.53,554.42,11/02/2023,29/01/2023,Eletrônicos,50g\\n', 'Café,Pilão,11.99,8.7,01/03/2023,30/01/2023,Alimentos,500g\\n', 'Leite em Pó,Ninho,22.9,16.81,13/02/2023,05/02/2023,Alimentos,800g\\n', 'Óleo de Soja,Bunge,7.57,6.69,21/03/2023,05/03/2023,Alimentos,900ml\\n', 'Televisor,Samsung,5504.36,4506.37,28/01/2023,19/01/2023,Eletrônicos,25kg\\n', 'Fone de Ouvido,Sennheiser,1033.77,808.92,21/03/2023,13/03/2023,Eletrônicos,50g\\n', 'Câmera Fotográfica,Fujifilm,4080.13,2928.27,16/02/2023,17/01/2023,Eletrônicos,500g\\n', 'Arroz,Camil,16.11,12.53,11/03/2023,13/02/2023,Alimentos,5kg\\n', 'Geladeira,Consul,7789.7,6751.86,14/02/2023,23/01/2023,Eletrodomésticos,100kg\\n', 'Smartphone,Samsung,3294.1,2507.6,19/02/2023,17/02/2023,Eletrônicos,200g\\n', 'Feijão,Princesa,7.98,5.88,02/01/2023,08/12/2022,Alimentos,1kg\\n', 'Café,Melitta,9.13,6.93,11/02/2023,17/01/2023,Alimentos,500g\\n', 'Fone de Ouvido,JBL,843.97,736.49,04/03/2023,17/02/2023,Eletrônicos,50g\\n', 'Açúcar,Cristal,3.0,2.38,22/01/2023,18/01/2023,Alimentos,1kg\\n', 'Smartphone,Xiaomi,3161.89,2722.56,19/03/2023,20/02/2023,Eletrônicos,200g\\n', 'Macarrão,Adria,3.6,2.99,29/01/2023,01/01/2023,Alimentos,500g\\n', 'Smartphone,Apple,2760.4,2371.48,03/03/2023,14/02/2023,Eletrônicos,200g\\n', 'Feijão,Kicaldo,6.22,4.82,22/01/2023,14/01/2023,Alimentos,1kg\\n', 'Tablet,Lenovo,1328.75,974.95,05/01/2023,21/12/2022,Eletrônicos,500g\\n', 'Açúcar,Estrela,3.88,2.85,12/02/2023,19/01/2023,Alimentos,1kg\\n', 'Presunto,Perdigão,21.93,18.35,23/01/2023,11/01/2023,Alimentos,1kg\\n', 'Fone de Ouvido,JBL,598.87,488.48,19/02/2023,07/02/2023,Eletrônicos,50g\\n', 'Geladeira,Brastemp,6683.46,5829.45,09/01/2023,29/12/2022,Eletrodomésticos,100kg\\n', 'Tablet,Lenovo,2120.46,1816.75,10/03/2023,11/02/2023,Eletrônicos,500g\\n', 'Fogão,Brastemp,2043.11,1820.95,17/02/2023,21/01/2023,Eletrodomésticos,50kg\\n', 'Fone de Ouvido,JBL,948.98,687.36,15/03/2023,13/02/2023,Eletrônicos,50g\\n', 'Tablet,Samsung,1817.76,1473.14,17/01/2023,28/12/2022,Eletrônicos,500g\\n', 'Fogão,Electrolux,3286.4,2791.83,19/01/2023,02/01/2023,Eletrodomésticos,50kg\\n', 'Fone de Ouvido,JBL,565.85,453.87,08/03/2023,01/03/2023,Eletrônicos,50g\\n', 'Pão de Forma,Nutrella,5.56,4.48,14/02/2023,31/01/2023,Alimentos,500g\\n', 'Óleo de Soja,Liza,5.94,4.35,20/03/2023,01/03/2023,Alimentos,900ml\\n', 'Arroz,Ráris,13.7,10.74,16/03/2023,27/02/2023,Alimentos,5kg\\n', 'Café,Pilão,12.93,10.06,24/03/2023,12/03/2023,Alimentos,500g\\n', 'Presunto,Pif Paf,19.9,14.27,05/03/2023,26/02/2023,Alimentos,1kg\\n', 'Máquina de Lavar,Electrolux,3482.93,2873.83,28/03/2023,14/03/2023,Eletrodomésticos,70kg\\n', 'Café,3 Corações,10.34,8.75,18/02/2023,25/01/2023,Alimentos,500g\\n', 'Macarrão,Piraquê,3.91,3.2,16/01/2023,10/01/2023,Alimentos,500g\\n', 'Câmera Fotográfica,Nikon,4923.45,4382.0,02/01/2023,16/12/2022,Eletrônicos,500g\\n', 'Feijão,Kicaldo,7.53,6.71,02/02/2023,02/02/2023,Alimentos,1kg\\n', 'Televisor,Samsung,5795.51,4331.43,01/03/2023,09/02/2023,Eletrônicos,25kg\\n', 'Leite em Pó,Parmalat,22.32,16.82,02/01/2023,02/01/2023,Alimentos,800g\\n', 'Máquina de Lavar,Consul,4142.07,2987.68,10/01/2023,03/01/2023,Eletrodomésticos,70kg\\n', 'Fone de Ouvido,JBL,955.99,725.62,11/02/2023,18/01/2023,Eletrônicos,50g\\n', 'Geladeira,Electrolux,5101.02,3845.04,07/03/2023,05/02/2023,Eletrodomésticos,100kg\\n', 'Leite em Pó,Parmalat,20.04,17.65,23/02/2023,04/02/2023,Alimentos,800g\\n', 'Geladeira,Samsung,6689.58,5899.34,05/01/2023,02/01/2023,Eletrodomésticos,100kg\\n', 'Máquina de Lavar,LG,3304.45,2448.49,12/03/2023,26/02/2023,Eletrodomésticos,70kg\\n', 'Café,Santa Clara,9.94,8.07,10/03/2023,11/02/2023,Alimentos,500g\\n', 'Arroz,Tio João,12.87,11.23,02/01/2023,30/12/2022,Alimentos,5kg\\n', 'Fone de Ouvido,Bose,815.55,622.41,31/03/2023,08/03/2023,Eletrônicos,50g\\n', 'Leite em Pó,Ninho,22.58,18.18,12/01/2023,09/01/2023,Alimentos,800g\\n', 'Máquina de Lavar,Brastemp,4984.58,4051.19,28/01/2023,28/01/2023,Eletrodomésticos,70kg\\n', 'Câmera Fotográfica,Fujifilm,3070.09,2404.32,07/03/2023,06/02/2023,Eletrônicos,500g\\n', 'Fogão,Atlas,2581.88,2082.3,06/02/2023,03/02/2023,Eletrodomésticos,50kg\\n', 'Fone de Ouvido,Bose,1009.95,811.75,22/02/2023,31/01/2023,Eletrônicos,50g\\n', 'Geladeira,Consul,4321.28,3059.63,22/03/2023,06/03/2023,Eletrodomésticos,100kg\\n', 'Açúcar,Cristal,3.51,2.61,11/02/2023,29/01/2023,Alimentos,1kg\\n', 'Macarrão,Adria,4.83,4.08,15/01/2023,22/12/2022,Alimentos,500g\\n', 'Açúcar,Cristal,3.84,3.03,12/02/2023,16/01/2023,Alimentos,1kg\\n', 'Óleo de Soja,Vila Velha,5.09,4.13,13/01/2023,16/12/2022,Alimentos,900ml\\n', 'Café,Pilão,10.13,8.74,28/02/2023,24/02/2023,Alimentos,500g\\n', 'Macarrão,Adria,3.1,2.34,01/01/2023,01/01/2023,Alimentos,500g\\n', 'Máquina de Lavar,Brastemp,4135.24,3054.02,14/02/2023,17/01/2023,Eletrodomésticos,70kg\\n', 'Macarrão,Renata,4.0,3.54,01/01/2023,14/12/2022,Alimentos,500g\\n', 'Café,Santa Clara,11.2,9.18,16/03/2023,22/02/2023,Alimentos,500g\\n', 'Feijão,Kicaldo,6.36,4.93,27/02/2023,12/02/2023,Alimentos,1kg\\n', 'Presunto,Qualitá,20.53,18.16,03/03/2023,20/02/2023,Alimentos,1kg\\n', 'Máquina de Lavar,Electrolux,4028.33,3325.92,15/02/2023,05/02/2023,Eletrodomésticos,70kg\\n', 'Máquina de Lavar,Consul,3698.77,3074.28,11/02/2023,06/02/2023,Eletrodomésticos,70kg\\n', 'Óleo de Soja,Bunge,7.04,5.99,25/01/2023,10/01/2023,Alimentos,900ml\\n', 'Feijão,Kicaldo,7.05,5.3,04/03/2023,03/03/2023,Alimentos,1kg\\n', 'Fogão,Consul,3240.23,2502.47,05/03/2023,25/02/2023,Eletrodomésticos,50kg\\n', 'Tablet,Apple,1192.53,1062.09,23/02/2023,23/02/2023,Eletrônicos,500g\\n', 'Máquina de Lavar,LG,4967.39,4208.28,29/01/2023,19/01/2023,Eletrodomésticos,70kg\\n', 'Feijão,Kicaldo,6.1,4.86,27/03/2023,22/03/2023,Alimentos,1kg\\n', 'Feijão,Kicaldo,6.29,5.25,22/02/2023,20/02/2023,Alimentos,1kg\\n', 'Smartphone,Xiaomi,2806.8,2290.9,29/03/2023,10/03/2023,Eletrônicos,200g\\n', 'Fogão,Electrolux,2621.88,1846.99,26/03/2023,05/03/2023,Eletrodomésticos,50kg\\n', 'Presunto,Perdigão,20.93,15.44,05/01/2023,29/12/2022,Alimentos,1kg\\n', 'Fogão,Electrolux,2265.73,1817.85,26/03/2023,04/03/2023,Eletrodomésticos,50kg\\n', 'Pão de Forma,Pullman,5.91,4.69,04/02/2023,07/01/2023,Alimentos,500g\\n', 'Óleo de Soja,Concordia,6.18,5.33,26/02/2023,01/02/2023,Alimentos,900ml\\n', 'Smartphone,Apple,2584.56,2030.63,03/01/2023,02/01/2023,Eletrônicos,200g\\n', 'Tablet,Lenovo,1546.86,1284.86,26/02/2023,15/02/2023,Eletrônicos,500g\\n', 'Tablet,Samsung,2401.34,1741.95,14/02/2023,27/01/2023,Eletrônicos,500g\\n', 'Arroz,Tio João,18.5,13.49,12/01/2023,17/12/2022,Alimentos,5kg\\n', 'Óleo de Soja,Concordia,7.2,6.42,04/02/2023,31/01/2023,Alimentos,900ml\\n', 'Macarrão,Barilla,4.31,3.67,08/03/2023,13/02/2023,Alimentos,500g\\n', 'Máquina de Lavar,Electrolux,3661.29,3085.47,04/02/2023,10/01/2023,Eletrodomésticos,70kg\\n', 'Feijão,Princesa,6.38,5.7,25/03/2023,13/03/2023,Alimentos,1kg\\n', 'Fogão,Atlas,2332.47,2071.2,17/03/2023,01/03/2023,Eletrodomésticos,50kg\\n', 'Pão de Forma,Nutrella,4.78,3.45,28/01/2023,27/01/2023,Alimentos,500g\\n', 'Café,Melitta,11.64,9.65,05/03/2023,04/03/2023,Alimentos,500g\\n', 'Televisor,Samsung,6682.49,5309.39,15/02/2023,13/02/2023,Eletrônicos,25kg\\n', 'Leite em Pó,Piracanjuba,21.04,17.59,28/03/2023,12/03/2023,Alimentos,800g\\n', 'Arroz,Camil,19.64,15.85,01/01/2023,23/12/2022,Alimentos,5kg\\n', 'Geladeira,Consul,6546.62,5709.02,21/01/2023,17/01/2023,Eletrodomésticos,100kg\\n', 'Feijão,Grao de Ouro,7.73,5.84,13/03/2023,21/02/2023,Alimentos,1kg\\n', 'Tablet,Lenovo,1397.88,1042.47,20/02/2023,22/01/2023,Eletrônicos,500g\\n', 'Câmera Fotográfica,Canon,3870.12,3464.69,20/03/2023,16/03/2023,Eletrônicos,500g\\n', 'Smartphone,Xiaomi,2547.36,1789.34,01/01/2023,15/12/2022,Eletrônicos,200g\\n', 'Televisor,LG,4364.28,3298.59,03/02/2023,02/02/2023,Eletrônicos,25kg\\n', 'Smartphone,Xiaomi,3487.63,2662.86,07/01/2023,21/12/2022,Eletrônicos,200g\\n', 'Café,Pilão,11.9,10.0,22/01/2023,31/12/2022,Alimentos,500g\\n', 'Café,Pilão,9.5,6.87,10/01/2023,03/01/2023,Alimentos,500g\\n', 'Notebook,HP,4456.55,3644.12,27/02/2023,09/02/2023,Eletrônicos,2kg\\n', 'Tablet,Apple,1799.33,1261.29,17/01/2023,26/12/2022,Eletrônicos,500g\\n', 'Câmera Fotográfica,Nikon,4731.2,3616.51,24/02/2023,22/02/2023,Eletrônicos,500g\\n', 'Tablet,Lenovo,1327.31,1167.13,23/03/2023,10/03/2023,Eletrônicos,500g\\n', 'Tablet,Multilaser,1070.47,789.36,17/02/2023,07/02/2023,Eletrônicos,500g\\n', 'Café,Santa Clara,11.75,9.24,18/01/2023,27/12/2022,Alimentos,500g\\n', 'Açúcar,Cristal,4.45,3.84,22/01/2023,01/01/2023,Alimentos,1kg\\n', 'Câmera Fotográfica,Fujifilm,4854.2,4069.44,17/03/2023,24/02/2023,Eletrônicos,500g\\n', 'Macarrão,Barilla,4.36,3.17,10/01/2023,04/01/2023,Alimentos,500g\\n', 'Óleo de Soja,Liza,7.05,6.01,10/02/2023,29/01/2023,Alimentos,900ml\\n', 'Tablet,Samsung,1321.03,944.5,17/03/2023,21/02/2023,Eletrônicos,500g\\n', 'Leite em Pó,Ninho,22.58,17.58,11/03/2023,09/03/2023,Alimentos,800g\\n', 'Notebook,Lenovo,5320.5,4249.76,22/03/2023,12/03/2023,Eletrônicos,2kg\\n', 'Leite em Pó,Parmalat,21.64,18.89,17/01/2023,05/01/2023,Alimentos,800g\\n', 'Máquina de Lavar,Electrolux,4704.03,3839.1,16/01/2023,01/01/2023,Eletrodomésticos,70kg\\n', 'Geladeira,Samsung,4663.28,3411.22,23/02/2023,20/02/2023,Eletrodomésticos,100kg\\n', 'Câmera Fotográfica,Nikon,3907.83,3027.96,30/01/2023,02/01/2023,Eletrônicos,500g\\n', 'Presunto,Perdigão,20.82,15.01,06/01/2023,31/12/2022,Alimentos,1kg\\n', 'Máquina de Lavar,Electrolux,4370.81,3849.81,29/01/2023,19/01/2023,Eletrodomésticos,70kg\\n', 'Pão de Forma,Wickbold,4.48,3.52,17/01/2023,03/01/2023,Alimentos,500g\\n', 'Açúcar,União,3.01,2.26,01/01/2023,20/12/2022,Alimentos,1kg\\n', 'Pão de Forma,Seven Boys,4.02,3.53,16/02/2023,24/01/2023,Alimentos,500g\\n', 'Feijão,Kicaldo,5.61,4.62,04/02/2023,29/01/2023,Alimentos,1kg\\n', 'Smartphone,Apple,2871.74,2367.74,14/02/2023,12/02/2023,Eletrônicos,200g\\n', 'Leite em Pó,Ninho,20.13,14.84,18/02/2023,01/02/2023,Alimentos,800g\\n', 'Café,Melitta,10.73,8.91,25/02/2023,12/02/2023,Alimentos,500g\\n', 'Arroz,Cristal,12.54,11.04,16/01/2023,27/12/2022,Alimentos,5kg\\n', 'Leite em Pó,Itambé,21.37,19.04,28/01/2023,26/01/2023,Alimentos,800g\\n', 'Máquina de Lavar,Consul,4016.3,3350.47,06/02/2023,09/01/2023,Eletrodomésticos,70kg\\n', 'Televisor,Samsung,5766.32,4956.2,25/02/2023,12/02/2023,Eletrônicos,25kg\\n', 'Leite em Pó,Parmalat,21.42,15.59,14/01/2023,06/01/2023,Alimentos,800g\\n', 'Televisor,LG,4442.45,3536.91,12/03/2023,12/02/2023,Eletrônicos,25kg\\n', 'Smartphone,Motorola,3249.89,2282.59,20/02/2023,21/01/2023,Eletrônicos,200g\\n', 'Macarrão,Renata,4.58,3.62,14/01/2023,31/12/2022,Alimentos,500g\\n', 'Leite em Pó,Ninho,19.24,15.53,03/03/2023,11/02/2023,Alimentos,800g\\n', 'Fone de Ouvido,Bose,948.13,852.58,06/01/2023,31/12/2022,Eletrônicos,50g\\n', 'Arroz,Camil,19.02,16.1,07/01/2023,19/12/2022,Alimentos,5kg\\n', 'Feijão,Kicaldo,5.79,4.48,21/01/2023,10/01/2023,Alimentos,1kg\\n', 'Óleo de Soja,Liza,5.55,4.29,15/01/2023,22/12/2022,Alimentos,900ml\\n', 'Presunto,Perdigão,21.98,19.17,27/01/2023,19/01/2023,Alimentos,1kg\\n', 'Smartphone,Apple,3215.82,2836.18,19/03/2023,28/02/2023,Eletrônicos,200g\\n', 'Tablet,Lenovo,1854.21,1469.46,10/01/2023,08/01/2023,Eletrônicos,500g\\n', 'Fone de Ouvido,Sony,579.62,513.39,25/03/2023,13/03/2023,Eletrônicos,50g\\n', 'Presunto,Perdigão,20.89,16.31,15/01/2023,28/12/2022,Alimentos,1kg\\n', 'Leite em Pó,Itambé,19.99,15.3,25/02/2023,25/02/2023,Alimentos,800g\\n', 'Café,Pilão,11.99,9.05,04/03/2023,02/02/2023,Alimentos,500g\\n', 'Fone de Ouvido,JBL,1185.92,888.82,01/03/2023,08/02/2023,Eletrônicos,50g\\n', 'Fone de Ouvido,JBL,830.52,620.47,15/03/2023,24/02/2023,Eletrônicos,50g\\n', 'Notebook,Lenovo,5989.0,4503.59,01/03/2023,05/02/2023,Eletrônicos,2kg\\n', 'Pão de Forma,Seven Boys,5.53,4.01,20/01/2023,24/12/2022,Alimentos,500g\\n', 'Pão de Forma,Nutrella,5.87,5.2,11/01/2023,12/12/2022,Alimentos,500g\\n', 'Smartphone,Xiaomi,3448.35,2993.97,31/01/2023,30/01/2023,Eletrônicos,200g\\n', 'Arroz,Tio João,12.65,10.18,16/01/2023,09/01/2023,Alimentos,5kg\\n', 'Feijão,Camil,7.8,6.79,20/01/2023,18/01/2023,Alimentos,1kg\\n', 'Pão de Forma,Pullman,4.91,3.62,13/02/2023,21/01/2023,Alimentos,500g\\n', 'Arroz,Tio João,14.72,11.01,06/02/2023,21/01/2023,Alimentos,5kg\\n', 'Geladeira,Brastemp,6769.9,5828.66,24/02/2023,01/02/2023,Eletrodomésticos,100kg\\n', 'Câmera Fotográfica,Canon,4476.61,3403.28,23/03/2023,05/03/2023,Eletrônicos,500g\\n', 'Café,Pilão,12.97,9.24,10/02/2023,25/01/2023,Alimentos,500g\\n', 'Café,Santa Clara,10.28,7.8,22/03/2023,13/03/2023,Alimentos,500g\\n', 'Leite em Pó,Parmalat,20.8,16.47,08/03/2023,24/02/2023,Alimentos,800g\\n', 'Fogão,Brastemp,2034.11,1560.34,20/03/2023,21/02/2023,Eletrodomésticos,50kg\\n', 'Câmera Fotográfica,Sony,3752.43,2976.11,07/03/2023,06/03/2023,Eletrônicos,500g\\n', 'Açúcar,Da Barra,3.47,2.98,28/03/2023,20/03/2023,Alimentos,1kg\\n', 'Tablet,Samsung,2010.49,1641.1,16/02/2023,04/02/2023,Eletrônicos,500g\\n', 'Pão de Forma,Nutrella,5.15,4.17,25/02/2023,12/02/2023,Alimentos,500g\\n', 'Óleo de Soja,Vila Velha,7.4,6.01,05/03/2023,24/02/2023,Alimentos,900ml\\n', 'Pão de Forma,Nutrella,4.6,4.07,06/03/2023,24/02/2023,Alimentos,500g\\n', 'Fone de Ouvido,Bose,676.26,511.62,17/02/2023,28/01/2023,Eletrônicos,50g\\n', 'Câmera Fotográfica,Sony,3038.42,2231.17,02/01/2023,25/12/2022,Eletrônicos,500g\\n', 'Açúcar,União,3.51,2.89,23/01/2023,05/01/2023,Alimentos,1kg\\n', 'Pão de Forma,Wickbold,5.06,3.62,04/03/2023,08/02/2023,Alimentos,500g\\n', 'Máquina de Lavar,Consul,3459.59,2567.38,21/03/2023,10/03/2023,Eletrodomésticos,70kg\\n', 'Arroz,Camil,13.81,11.03,16/03/2023,16/03/2023,Alimentos,5kg\\n', 'Óleo de Soja,Concordia,7.17,6.07,08/01/2023,15/12/2022,Alimentos,900ml\\n', 'Feijão,Camil,5.07,3.85,14/01/2023,06/01/2023,Alimentos,1kg\\n', 'Leite em Pó,Parmalat,20.03,15.82,01/02/2023,16/01/2023,Alimentos,800g\\n', 'Leite em Pó,Ninho,20.16,14.38,02/02/2023,23/01/2023,Alimentos,800g\\n', 'Macarrão,Adria,3.74,2.99,05/03/2023,17/02/2023,Alimentos,500g\\n', 'Tablet,Multilaser,1505.65,1198.69,30/01/2023,22/01/2023,Eletrônicos,500g\\n', 'Açúcar,União,3.08,2.76,26/02/2023,04/02/2023,Alimentos,1kg\\n', 'Fone de Ouvido,JBL,1178.52,833.46,20/03/2023,10/03/2023,Eletrônicos,50g\\n', 'Câmera Fotográfica,Canon,3561.72,3000.96,22/01/2023,21/01/2023,Eletrônicos,500g\\n', 'Geladeira,Electrolux,5549.17,4521.1,06/03/2023,23/02/2023,Eletrodomésticos,100kg\\n', 'Açúcar,Da Barra,4.58,3.87,05/02/2023,19/01/2023,Alimentos,1kg\\n', 'Presunto,Pif Paf,20.49,15.56,07/01/2023,05/01/2023,Alimentos,1kg\\n', 'Presunto,Qualitá,16.56,13.05,24/03/2023,15/03/2023,Alimentos,1kg\\n', 'Televisor,Philips,5872.34,4988.7,28/02/2023,21/02/2023,Eletrônicos,25kg\\n', 'Macarrão,Adria,4.4,3.12,28/02/2023,26/02/2023,Alimentos,500g\\n', 'Presunto,Perdigão,22.98,16.7,17/01/2023,28/12/2022,Alimentos,1kg\\n', 'Notebook,HP,5528.72,4933.68,02/03/2023,03/02/2023,Eletrônicos,2kg\\n', 'Geladeira,Brastemp,6722.95,5749.5,01/03/2023,22/02/2023,Eletrodomésticos,100kg\\n', 'Câmera Fotográfica,Fujifilm,3735.62,2967.02,03/02/2023,27/01/2023,Eletrônicos,500g\\n', 'Smartphone,Apple,3500.03,2642.84,02/02/2023,02/02/2023,Eletrônicos,200g\\n', 'Presunto,Sadia,18.2,15.63,19/03/2023,24/02/2023,Alimentos,1kg\\n', 'Máquina de Lavar,LG,3824.63,3084.97,25/01/2023,07/01/2023,Eletrodomésticos,70kg\\n', 'Smartphone,Apple,3436.21,2464.81,02/01/2023,31/12/2022,Eletrônicos,200g\\n', 'Fogão,Brastemp,2544.47,1927.03,13/01/2023,23/12/2022,Eletrodomésticos,50kg\\n', 'Máquina de Lavar,Electrolux,4012.2,3037.3,02/01/2023,01/01/2023,Eletrodomésticos,70kg\\n', 'Máquina de Lavar,LG,3718.43,2619.53,04/03/2023,13/02/2023,Eletrodomésticos,70kg\\n', 'Smartphone,Motorola,3308.41,2850.08,09/01/2023,05/01/2023,Eletrônicos,200g\\n', 'Geladeira,Electrolux,5722.09,4946.81,16/02/2023,15/02/2023,Eletrodomésticos,100kg\\n', 'Açúcar,Da Barra,3.61,2.7,02/03/2023,14/02/2023,Alimentos,1kg\\n', 'Leite em Pó,Parmalat,19.85,16.17,19/03/2023,09/03/2023,Alimentos,800g\\n', 'Café,Melitta,11.81,9.66,13/01/2023,15/12/2022,Alimentos,500g\\n', 'Fone de Ouvido,Sony,1007.9,709.64,02/03/2023,24/02/2023,Eletrônicos,50g\\n', 'Café,Pilão,9.39,8.35,13/01/2023,16/12/2022,Alimentos,500g\\n', 'Leite em Pó,Ninho,19.25,13.93,03/02/2023,20/01/2023,Alimentos,800g\\n', 'Televisor,Sony,5955.43,4824.96,11/01/2023,14/12/2022,Eletrônicos,25kg\\n', 'Fone de Ouvido,Sony,1174.17,1048.18,20/01/2023,31/12/2022,Eletrônicos,50g\\n', 'Arroz,Cristal,11.59,10.39,12/03/2023,04/03/2023,Alimentos,5kg\\n', 'Óleo de Soja,Concordia,7.92,6.2,16/01/2023,08/01/2023,Alimentos,900ml\\n', 'Televisor,Sony,6417.4,4842.84,17/03/2023,08/03/2023,Eletrônicos,25kg\\n', 'Arroz,Cristal,18.64,16.0,01/03/2023,09/02/2023,Alimentos,5kg\\n', 'Fogão,Atlas,2656.15,2025.93,28/01/2023,01/01/2023,Eletrodomésticos,50kg\\n', 'Máquina de Lavar,Consul,3457.88,2849.88,14/03/2023,18/02/2023,Eletrodomésticos,70kg\\n', 'Máquina de Lavar,Electrolux,4850.66,3755.45,03/03/2023,12/02/2023,Eletrodomésticos,70kg\\n', 'Fone de Ouvido,JBL,952.53,819.72,16/01/2023,08/01/2023,Eletrônicos,50g\\n', 'Óleo de Soja,Vila Velha,7.8,6.18,13/02/2023,06/02/2023,Alimentos,900ml\\n', 'Presunto,Qualitá,21.26,18.74,15/01/2023,10/01/2023,Alimentos,1kg\\n', 'Arroz,Ráris,12.12,9.66,26/01/2023,15/01/2023,Alimentos,5kg\\n', 'Notebook,Lenovo,4018.75,3571.94,18/03/2023,17/02/2023,Eletrônicos,2kg\\n', 'Fone de Ouvido,Bose,648.06,471.2,27/02/2023,11/02/2023,Eletrônicos,50g\\n', 'Máquina de Lavar,LG,4144.96,3278.14,25/01/2023,22/01/2023,Eletrodomésticos,70kg\\n', 'Pão de Forma,Seven Boys,5.47,4.15,29/03/2023,15/03/2023,Alimentos,500g\\n', 'Geladeira,Samsung,5135.0,4346.73,19/02/2023,19/02/2023,Eletrodomésticos,100kg\\n', 'Smartphone,Apple,2816.35,2301.99,23/02/2023,01/02/2023,Eletrônicos,200g\\n', 'Macarrão,Piraquê,4.59,3.64,27/03/2023,25/03/2023,Alimentos,500g\\n', 'Leite em Pó,Ninho,19.36,15.32,25/01/2023,06/01/2023,Alimentos,800g\\n', 'Tablet,Multilaser,1389.72,1207.3,15/03/2023,21/02/2023,Eletrônicos,500g\\n', 'Presunto,Sadia,22.37,17.64,13/02/2023,18/01/2023,Alimentos,1kg\\n', 'Televisor,Sony,5800.33,4477.29,18/01/2023,02/01/2023,Eletrônicos,25kg\\n', 'Óleo de Soja,Concordia,7.85,6.17,11/02/2023,01/02/2023,Alimentos,900ml\\n', 'Presunto,Perdigão,16.41,13.63,07/01/2023,28/12/2022,Alimentos,1kg\\n', 'Açúcar,Estrela,4.41,3.92,06/02/2023,21/01/2023,Alimentos,1kg\\n', 'Leite em Pó,Parmalat,19.36,14.66,31/03/2023,05/03/2023,Alimentos,800g\\n', 'Televisor,Sony,4852.88,3398.91,20/01/2023,22/12/2022,Eletrônicos,25kg\\n', 'Macarrão,Piraquê,4.63,3.55,09/02/2023,09/02/2023,Alimentos,500g\\n', 'Câmera Fotográfica,Sony,4303.2,3210.73,17/01/2023,04/01/2023,Eletrônicos,500g\\n', 'Fone de Ouvido,Sony,1097.66,929.76,21/01/2023,18/01/2023,Eletrônicos,50g\\n', 'Açúcar,Cristal,3.39,2.45,26/01/2023,18/01/2023,Alimentos,1kg\\n', 'Smartphone,Motorola,2477.97,1822.08,21/02/2023,25/01/2023,Eletrônicos,200g\\n', 'Arroz,Cristal,17.04,12.22,09/02/2023,03/02/2023,Alimentos,5kg\\n', 'Smartphone,Apple,2832.7,2368.08,23/03/2023,06/03/2023,Eletrônicos,200g\\n', 'Máquina de Lavar,LG,3873.98,2798.92,01/01/2023,25/12/2022,Eletrodomésticos,70kg\\n', 'Presunto,Pif Paf,20.2,15.02,04/02/2023,15/01/2023,Alimentos,1kg\\n', 'Macarrão,Renata,4.57,3.61,03/02/2023,10/01/2023,Alimentos,500g\\n', 'Leite em Pó,Piracanjuba,22.72,18.89,11/01/2023,19/12/2022,Alimentos,800g\\n', 'Macarrão,Barilla,4.92,4.04,31/01/2023,31/01/2023,Alimentos,500g\\n', 'Notebook,Dell,5890.26,5116.2,15/03/2023,07/03/2023,Eletrônicos,2kg\\n', 'Câmera Fotográfica,Nikon,4545.88,3557.11,02/03/2023,12/02/2023,Eletrônicos,500g\\n', 'Macarrão,Barilla,4.88,4.38,30/03/2023,28/02/2023,Alimentos,500g\\n', 'Café,Melitta,11.97,10.7,12/03/2023,12/02/2023,Alimentos,500g\\n', 'Tablet,Samsung,1742.17,1525.55,01/01/2023,12/12/2022,Eletrônicos,500g\\n', 'Café,3 Corações,9.92,8.74,28/03/2023,13/03/2023,Alimentos,500g\\n', 'Notebook,Dell,5621.79,4920.45,04/01/2023,30/12/2022,Eletrônicos,2kg\\n', 'Notebook,Asus,5772.37,5107.63,08/03/2023,06/02/2023,Eletrônicos,2kg\\n', 'Geladeira,Samsung,4784.39,3855.8,09/03/2023,10/02/2023,Eletrodomésticos,100kg\\n', 'Pão de Forma,Seven Boys,4.44,3.13,05/02/2023,01/02/2023,Alimentos,500g\\n', 'Óleo de Soja,Liza,7.27,5.9,03/03/2023,23/02/2023,Alimentos,900ml\\n', 'Notebook,Asus,5667.91,4295.47,20/01/2023,06/01/2023,Eletrônicos,2kg\\n', 'Açúcar,Estrela,3.66,2.73,07/01/2023,21/12/2022,Alimentos,1kg\\n', 'Açúcar,União,3.72,3.15,31/01/2023,02/01/2023,Alimentos,1kg\\n', 'Feijão,Princesa,6.4,5.69,28/01/2023,03/01/2023,Alimentos,1kg\\n', 'Leite em Pó,Piracanjuba,19.46,15.64,19/03/2023,26/02/2023,Alimentos,800g\\n', 'Televisor,LG,5150.19,4112.11,15/02/2023,22/01/2023,Eletrônicos,25kg\\n', 'Notebook,Lenovo,5906.29,5014.15,12/03/2023,20/02/2023,Eletrônicos,2kg\\n', 'Máquina de Lavar,Brastemp,3080.74,2533.96,14/02/2023,31/01/2023,Eletrodomésticos,70kg\\n', 'Macarrão,Barilla,4.93,3.56,18/02/2023,09/02/2023,Alimentos,500g\\n', 'Notebook,Lenovo,4693.33,3964.77,06/01/2023,29/12/2022,Eletrônicos,2kg\\n', 'Café,Melitta,9.86,8.64,03/01/2023,19/12/2022,Alimentos,500g\\n', 'Fone de Ouvido,JBL,756.78,619.58,02/01/2023,08/12/2022,Eletrônicos,50g\\n', 'Café,Pilão,12.11,9.42,15/02/2023,23/01/2023,Alimentos,500g\\n', 'Açúcar,Cristal,3.44,2.57,23/01/2023,29/12/2022,Alimentos,1kg\\n', 'Tablet,Lenovo,1776.18,1554.39,15/03/2023,09/03/2023,Eletrônicos,500g\\n', 'Óleo de Soja,Vila Velha,7.57,6.6,18/01/2023,13/01/2023,Alimentos,900ml\\n', 'Televisor,Samsung,4379.03,3662.98,23/01/2023,16/01/2023,Eletrônicos,25kg\\n', 'Óleo de Soja,Concordia,7.55,6.29,17/03/2023,19/02/2023,Alimentos,900ml\\n', 'Fogão,Electrolux,3216.92,2730.95,20/03/2023,12/03/2023,Eletrodomésticos,50kg\\n', 'Notebook,Asus,4046.48,3157.9,07/03/2023,02/03/2023,Eletrônicos,2kg\\n', 'Notebook,Asus,4463.35,3682.34,06/01/2023,01/01/2023,Eletrônicos,2kg\\n', 'Smartphone,Motorola,3050.19,2362.44,30/03/2023,21/03/2023,Eletrônicos,200g\\n', 'Açúcar,Cristal,4.11,3.05,04/03/2023,14/02/2023,Alimentos,1kg\\n', 'Pão de Forma,Pullman,5.85,5.01,02/02/2023,29/01/2023,Alimentos,500g\\n', 'Pão de Forma,Pullman,4.57,3.33,02/01/2023,22/12/2022,Alimentos,500g\\n', 'Geladeira,Consul,6229.78,4643.3,06/02/2023,17/01/2023,Eletrodomésticos,100kg\\n', 'Macarrão,Renata,4.78,3.92,22/01/2023,03/01/2023,Alimentos,500g\\n', 'Smartphone,Xiaomi,2971.12,2217.92,19/01/2023,26/12/2022,Eletrônicos,200g\\n', 'Televisor,Samsung,6351.56,5699.77,17/01/2023,05/01/2023,Eletrônicos,25kg\\n', 'Televisor,Philips,5881.22,5129.33,21/01/2023,18/01/2023,Eletrônicos,25kg\\n', 'Leite em Pó,Parmalat,19.78,16.14,04/01/2023,10/12/2022,Alimentos,800g\\n', 'Presunto,Qualitá,19.39,15.21,02/01/2023,10/12/2022,Alimentos,1kg\\n', 'Televisor,Sony,7206.5,6475.13,17/01/2023,17/01/2023,Eletrônicos,25kg\\n', 'Tablet,Apple,1795.49,1523.71,17/02/2023,26/01/2023,Eletrônicos,500g\\n', 'Leite em Pó,Parmalat,21.39,15.39,04/02/2023,14/01/2023,Alimentos,800g\\n', 'Café,Santa Clara,11.46,9.51,16/02/2023,03/02/2023,Alimentos,500g\\n', 'Açúcar,Estrela,3.48,3.11,27/01/2023,06/01/2023,Alimentos,1kg\\n', 'Feijão,Kicaldo,8.44,6.06,22/01/2023,24/12/2022,Alimentos,1kg\\n', 'Pão de Forma,Nutrella,5.71,4.63,26/01/2023,04/01/2023,Alimentos,500g\\n', 'Presunto,Sadia,17.07,13.16,01/01/2023,30/12/2022,Alimentos,1kg\\n', 'Pão de Forma,Nutrella,4.32,3.2,22/02/2023,23/01/2023,Alimentos,500g\\n', 'Açúcar,Estrela,3.81,3.39,31/01/2023,29/01/2023,Alimentos,1kg\\n', 'Fone de Ouvido,Sennheiser,1028.39,877.79,03/02/2023,30/01/2023,Eletrônicos,50g\\n', 'Leite em Pó,Ninho,19.95,15.07,05/02/2023,26/01/2023,Alimentos,800g\\n', 'Tablet,Lenovo,1433.45,1228.51,20/01/2023,04/01/2023,Eletrônicos,500g\\n', 'Geladeira,Samsung,5523.78,4616.39,04/03/2023,04/03/2023,Eletrodomésticos,100kg\\n', 'Câmera Fotográfica,Fujifilm,4123.4,3215.03,24/01/2023,08/01/2023,Eletrônicos,500g\\n', 'Feijão,Camil,8.78,7.32,24/01/2023,09/01/2023,Alimentos,1kg\\n', 'Macarrão,Barilla,3.6,2.74,16/01/2023,20/12/2022,Alimentos,500g\\n', 'Máquina de Lavar,Consul,2924.18,2301.79,10/03/2023,02/03/2023,Eletrodomésticos,70kg\\n', 'Açúcar,Da Barra,4.22,3.04,07/03/2023,14/02/2023,Alimentos,1kg\\n', 'Tablet,Apple,2335.71,1642.62,19/02/2023,26/01/2023,Eletrônicos,500g\\n', 'Tablet,Lenovo,1585.65,1163.58,09/02/2023,28/01/2023,Eletrônicos,500g\\n', 'Câmera Fotográfica,Canon,4561.68,4101.5,14/01/2023,10/01/2023,Eletrônicos,500g\\n', 'Presunto,Pif Paf,21.35,17.57,05/01/2023,31/12/2022,Alimentos,1kg\\n', 'Tablet,Multilaser,2118.86,1764.95,16/03/2023,04/03/2023,Eletrônicos,500g\\n', 'Geladeira,Brastemp,6923.68,5520.51,09/03/2023,04/03/2023,Eletrodomésticos,100kg\\n', 'Açúcar,Cristal,4.49,3.55,09/03/2023,08/02/2023,Alimentos,1kg\\n', 'Macarrão,Barilla,4.01,2.88,14/01/2023,05/01/2023,Alimentos,500g\\n', 'Pão de Forma,Seven Boys,4.86,3.63,22/03/2023,15/03/2023,Alimentos,500g\\n', 'Óleo de Soja,Vila Velha,5.5,4.66,07/03/2023,06/02/2023,Alimentos,900ml\\n', 'Fone de Ouvido,Sennheiser,629.55,515.55,21/02/2023,20/02/2023,Eletrônicos,50g\\n', 'Macarrão,Piraquê,3.56,2.89,08/03/2023,15/02/2023,Alimentos,500g\\n', 'Óleo de Soja,Concordia,6.06,4.93,16/03/2023,17/02/2023,Alimentos,900ml\\n', 'Geladeira,Samsung,5248.78,4199.74,18/01/2023,21/12/2022,Eletrodomésticos,100kg\\n', 'Presunto,Perdigão,17.29,13.83,28/01/2023,03/01/2023,Alimentos,1kg\\n', 'Fone de Ouvido,Sennheiser,1116.96,909.8,28/02/2023,13/02/2023,Eletrônicos,50g\\n', 'Máquina de Lavar,Consul,4068.58,2921.59,08/02/2023,16/01/2023,Eletrodomésticos,70kg\\n', 'Café,Santa Clara,9.13,6.47,22/01/2023,12/01/2023,Alimentos,500g\\n', 'Óleo de Soja,Liza,4.99,3.95,27/03/2023,17/03/2023,Alimentos,900ml\\n', 'Máquina de Lavar,Electrolux,3136.32,2410.55,21/01/2023,26/12/2022,Eletrodomésticos,70kg\\n', 'Smartphone,Apple,3514.24,2513.51,27/01/2023,09/01/2023,Eletrônicos,200g\\n', 'Macarrão,Renata,3.56,3.18,22/03/2023,27/02/2023,Alimentos,500g\\n', 'Câmera Fotográfica,Nikon,4475.23,3277.75,28/02/2023,05/02/2023,Eletrônicos,500g\\n', 'Smartphone,Samsung,3048.96,2173.31,07/01/2023,05/01/2023,Eletrônicos,200g\\n', 'Pão de Forma,Seven Boys,4.34,3.77,22/02/2023,02/02/2023,Alimentos,500g\\n', 'Macarrão,Adria,4.73,4.04,18/02/2023,05/02/2023,Alimentos,500g\\n', 'Tablet,Lenovo,2363.91,1730.56,20/01/2023,29/12/2022,Eletrônicos,500g\\n', 'Televisor,Samsung,5911.78,4578.9,24/03/2023,23/02/2023,Eletrônicos,25kg\\n', 'Macarrão,Adria,3.96,2.88,08/01/2023,11/12/2022,Alimentos,500g\\n', 'Tablet,Samsung,1804.6,1354.83,20/02/2023,27/01/2023,Eletrônicos,500g\\n', 'Leite em Pó,Ninho,22.23,17.65,13/02/2023,14/01/2023,Alimentos,800g\\n', 'Câmera Fotográfica,Nikon,4984.65,4438.27,24/01/2023,19/01/2023,Eletrônicos,500g\\n', 'Óleo de Soja,Concordia,7.42,6.41,08/02/2023,19/01/2023,Alimentos,900ml\\n', 'Smartphone,Samsung,2883.8,2510.66,12/03/2023,16/02/2023,Eletrônicos,200g\\n', 'Fone de Ouvido,Sony,1111.09,860.37,11/03/2023,28/02/2023,Eletrônicos,50g\\n', 'Tablet,Lenovo,2162.78,1896.56,29/03/2023,28/03/2023,Eletrônicos,500g\\n', 'Leite em Pó,Piracanjuba,20.66,14.56,23/01/2023,21/01/2023,Alimentos,800g\\n', 'Pão de Forma,Wickbold,5.37,4.62,07/01/2023,28/12/2022,Alimentos,500g\\n', 'Fone de Ouvido,JBL,646.19,557.96,14/02/2023,31/01/2023,Eletrônicos,50g\\n', 'Tablet,Lenovo,1361.59,1183.84,28/01/2023,16/01/2023,Eletrônicos,500g\\n', 'Óleo de Soja,Concordia,7.95,6.39,23/03/2023,12/03/2023,Alimentos,900ml\\n', 'Pão de Forma,Seven Boys,5.71,5.09,26/01/2023,07/01/2023,Alimentos,500g\\n', 'Óleo de Soja,Liza,7.15,5.33,09/02/2023,12/01/2023,Alimentos,900ml\\n', 'Smartphone,Xiaomi,3345.0,2527.37,29/03/2023,28/02/2023,Eletrônicos,200g\\n', 'Notebook,Dell,4397.5,3824.68,04/01/2023,22/12/2022,Eletrônicos,2kg\\n', 'Açúcar,Cristal,3.62,2.71,18/02/2023,09/02/2023,Alimentos,1kg\\n', 'Açúcar,Cristal,4.31,3.15,08/02/2023,12/01/2023,Alimentos,1kg\\n', 'Máquina de Lavar,Brastemp,4552.21,3295.8,19/03/2023,08/03/2023,Eletrodomésticos,70kg\\n', 'Feijão,Camil,6.92,5.76,18/03/2023,05/03/2023,Alimentos,1kg\\n', 'Fone de Ouvido,Sennheiser,658.42,462.05,12/01/2023,07/01/2023,Eletrônicos,50g\\n', 'Café,Melitta,9.16,7.2,06/03/2023,18/02/2023,Alimentos,500g\\n', 'Leite em Pó,Parmalat,21.12,16.13,18/02/2023,31/01/2023,Alimentos,800g\\n', 'Notebook,HP,4352.56,3545.89,07/03/2023,24/02/2023,Eletrônicos,2kg\\n', 'Café,3 Corações,11.83,8.31,14/03/2023,03/03/2023,Alimentos,500g\\n', 'Máquina de Lavar,Electrolux,4808.74,3960.29,27/02/2023,11/02/2023,Eletrodomésticos,70kg\\n', 'Pão de Forma,Seven Boys,4.16,3.42,06/02/2023,12/01/2023,Alimentos,500g\\n', 'Feijão,Princesa,5.6,4.82,05/01/2023,25/12/2022,Alimentos,1kg\\n', 'Pão de Forma,Seven Boys,5.46,4.76,12/03/2023,11/03/2023,Alimentos,500g\\n', 'Feijão,Kicaldo,7.44,6.45,05/01/2023,06/12/2022,Alimentos,1kg\\n', 'Geladeira,Samsung,7654.11,6370.17,12/02/2023,29/01/2023,Eletrodomésticos,100kg\\n', 'Câmera Fotográfica,Canon,3086.1,2249.52,15/02/2023,27/01/2023,Eletrônicos,500g\\n', 'Televisor,Samsung,6895.32,5584.58,06/03/2023,19/02/2023,Eletrônicos,25kg\\n', 'Tablet,Multilaser,1253.55,1078.05,21/03/2023,06/03/2023,Eletrônicos,500g\\n', 'Pão de Forma,Nutrella,4.39,3.37,28/03/2023,23/03/2023,Alimentos,500g\\n', 'Câmera Fotográfica,Nikon,4277.0,3085.41,26/03/2023,13/03/2023,Eletrônicos,500g\\n', 'Máquina de Lavar,Brastemp,4699.24,3906.52,25/01/2023,06/01/2023,Eletrodomésticos,70kg\\n', 'Óleo de Soja,Liza,6.96,5.27,25/02/2023,12/02/2023,Alimentos,900ml\\n', 'Televisor,Samsung,5462.73,3984.0,14/03/2023,27/02/2023,Eletrônicos,25kg\\n', 'Óleo de Soja,Bunge,7.93,6.97,17/03/2023,02/03/2023,Alimentos,900ml\\n', 'Feijão,Camil,5.91,4.33,03/03/2023,19/02/2023,Alimentos,1kg\\n', 'Tablet,Apple,1182.26,1056.62,25/01/2023,01/01/2023,Eletrônicos,500g\\n', 'Presunto,Perdigão,22.11,18.05,11/02/2023,17/01/2023,Alimentos,1kg\\n', 'Câmera Fotográfica,Fujifilm,4369.25,3549.6,20/03/2023,11/03/2023,Eletrônicos,500g\\n', 'Arroz,Camil,16.2,13.77,04/01/2023,03/01/2023,Alimentos,5kg\\n', 'Café,Melitta,11.08,9.27,06/01/2023,27/12/2022,Alimentos,500g\\n', 'Câmera Fotográfica,Nikon,3558.59,2936.08,15/03/2023,02/03/2023,Eletrônicos,500g\\n', 'Máquina de Lavar,Consul,3525.02,3114.52,06/03/2023,25/02/2023,Eletrodomésticos,70kg\\n', 'Macarrão,Renata,3.11,2.27,13/01/2023,30/12/2022,Alimentos,500g\\n', 'Fone de Ouvido,Sennheiser,1053.78,753.71,27/02/2023,08/02/2023,Eletrônicos,50g\\n', 'Presunto,Qualitá,21.03,17.48,18/02/2023,13/02/2023,Alimentos,1kg\\n', 'Óleo de Soja,Concordia,6.9,5.6,07/02/2023,11/01/2023,Alimentos,900ml\\n', 'Câmera Fotográfica,Canon,3150.1,2468.43,15/02/2023,13/02/2023,Eletrônicos,500g\\n', 'Geladeira,Electrolux,4854.64,3558.66,27/02/2023,14/02/2023,Eletrodomésticos,100kg\\n', 'Fone de Ouvido,Sony,592.29,434.06,05/02/2023,27/01/2023,Eletrônicos,50g\\n', 'Macarrão,Adria,4.04,3.38,26/03/2023,08/03/2023,Alimentos,500g\\n', 'Notebook,HP,4752.89,3641.11,09/02/2023,03/02/2023,Eletrônicos,2kg\\n', 'Café,Santa Clara,11.04,8.65,16/03/2023,11/03/2023,Alimentos,500g\\n', 'Leite em Pó,Ninho,20.39,15.33,18/03/2023,25/02/2023,Alimentos,800g\\n', 'Pão de Forma,Wickbold,5.82,4.81,04/01/2023,30/12/2022,Alimentos,500g\\n', 'Arroz,Tio João,10.6,7.86,26/03/2023,16/03/2023,Alimentos,5kg\\n', 'Macarrão,Renata,4.84,4.08,04/03/2023,03/02/2023,Alimentos,500g\\n', 'Tablet,Samsung,2070.64,1458.98,05/03/2023,21/02/2023,Eletrônicos,500g\\n', 'Açúcar,Estrela,3.84,3.38,12/03/2023,11/02/2023,Alimentos,1kg\\n', 'Geladeira,Brastemp,4480.95,3385.77,03/01/2023,03/01/2023,Eletrodomésticos,100kg\\n', 'Açúcar,Estrela,3.68,2.61,11/01/2023,11/01/2023,Alimentos,1kg\\n', 'Leite em Pó,Piracanjuba,19.93,14.58,09/03/2023,19/02/2023,Alimentos,800g\\n', 'Macarrão,Adria,3.23,2.34,22/01/2023,29/12/2022,Alimentos,500g\\n', 'Café,3 Corações,11.34,9.52,28/02/2023,24/02/2023,Alimentos,500g\\n', 'Arroz,Camil,14.51,12.03,11/02/2023,15/01/2023,Alimentos,5kg\\n', 'Pão de Forma,Pullman,5.69,4.7,03/03/2023,08/02/2023,Alimentos,500g\\n', 'Fone de Ouvido,Sennheiser,832.9,732.34,28/02/2023,13/02/2023,Eletrônicos,50g\\n', 'Pão de Forma,Wickbold,5.41,4.81,26/02/2023,01/02/2023,Alimentos,500g\\n', 'Açúcar,Cristal,3.36,2.89,07/03/2023,21/02/2023,Alimentos,1kg\\n', 'Macarrão,Adria,3.69,2.68,20/02/2023,03/02/2023,Alimentos,500g\\n', 'Máquina de Lavar,Electrolux,3570.74,2680.02,24/01/2023,10/01/2023,Eletrodomésticos,70kg\\n', 'Máquina de Lavar,Consul,4546.42,3828.42,28/02/2023,31/01/2023,Eletrodomésticos,70kg\\n', 'Macarrão,Renata,4.48,3.79,18/02/2023,01/02/2023,Alimentos,500g\\n', 'Smartphone,Motorola,2596.78,2019.54,23/02/2023,04/02/2023,Eletrônicos,200g\\n', 'Smartphone,Xiaomi,3075.26,2612.25,09/03/2023,07/02/2023,Eletrônicos,200g\\n', 'Açúcar,União,3.85,2.75,03/02/2023,24/01/2023,Alimentos,1kg\\n', 'Óleo de Soja,Bunge,7.43,5.37,15/01/2023,07/01/2023,Alimentos,900ml\\n', 'Feijão,Kicaldo,8.01,7.12,17/02/2023,15/02/2023,Alimentos,1kg\\n', 'Smartphone,Xiaomi,3470.09,2880.18,09/03/2023,03/03/2023,Eletrônicos,200g\\n', 'Óleo de Soja,Vila Velha,7.41,5.95,16/03/2023,04/03/2023,Alimentos,900ml\\n', 'Televisor,Sony,5887.76,4262.9,11/02/2023,21/01/2023,Eletrônicos,25kg\\n', 'Pão de Forma,Nutrella,5.22,4.14,24/02/2023,02/02/2023,Alimentos,500g\\n', 'Tablet,Samsung,1887.92,1356.49,11/03/2023,01/03/2023,Eletrônicos,500g\\n', 'Óleo de Soja,Liza,5.72,4.33,22/01/2023,20/01/2023,Alimentos,900ml\\n', 'Geladeira,Samsung,5215.51,3851.95,04/03/2023,04/02/2023,Eletrodomésticos,100kg\\n', 'Fone de Ouvido,JBL,629.28,531.9,01/03/2023,12/02/2023,Eletrônicos,50g\\n', 'Máquina de Lavar,LG,2827.51,2410.7,11/02/2023,10/02/2023,Eletrodomésticos,70kg\\n', 'Fogão,Atlas,2025.35,1737.43,11/01/2023,03/01/2023,Eletrodomésticos,50kg\\n', 'Fone de Ouvido,Bose,863.19,713.27,27/01/2023,31/12/2022,Eletrônicos,50g\\n', 'Notebook,Asus,5330.1,4113.97,25/01/2023,07/01/2023,Eletrônicos,2kg\\n', 'Fogão,Consul,3407.7,2404.23,07/01/2023,13/12/2022,Eletrodomésticos,50kg\\n', 'Presunto,Qualitá,17.14,14.96,15/02/2023,26/01/2023,Alimentos,1kg\\n', 'Café,3 Corações,12.37,11.13,03/02/2023,20/01/2023,Alimentos,500g\\n', 'Fogão,Consul,2415.67,1735.24,26/03/2023,12/03/2023,Eletrodomésticos,50kg\\n', 'Presunto,Qualitá,20.31,15.38,19/01/2023,13/01/2023,Alimentos,1kg\\n', 'Televisor,Philips,4953.43,4273.84,31/03/2023,04/03/2023,Eletrônicos,25kg\\n', 'Câmera Fotográfica,Nikon,3516.49,2945.15,03/01/2023,05/12/2022,Eletrônicos,500g\\n', 'Macarrão,Renata,3.47,2.64,02/03/2023,09/02/2023,Alimentos,500g\\n', 'Café,Pilão,9.25,7.94,27/02/2023,19/02/2023,Alimentos,500g\\n', 'Macarrão,Adria,4.5,3.24,23/02/2023,17/02/2023,Alimentos,500g\\n', 'Câmera Fotográfica,Nikon,4887.33,3681.05,19/03/2023,28/02/2023,Eletrônicos,500g\\n', 'Açúcar,Estrela,3.12,2.64,16/02/2023,16/02/2023,Alimentos,1kg\\n', 'Feijão,Camil,6.48,5.08,04/02/2023,19/01/2023,Alimentos,1kg\\n', 'Óleo de Soja,Concordia,5.93,5.3,28/03/2023,03/03/2023,Alimentos,900ml\\n', 'Leite em Pó,Ninho,22.29,19.91,17/03/2023,05/03/2023,Alimentos,800g\\n', 'Café,Melitta,11.52,8.44,13/03/2023,21/02/2023,Alimentos,500g\\n', 'Smartphone,Motorola,2729.77,2283.33,20/03/2023,23/02/2023,Eletrônicos,200g\\n', 'Leite em Pó,Ninho,20.9,17.37,19/03/2023,06/03/2023,Alimentos,800g\\n', 'Feijão,Kicaldo,6.18,4.46,22/01/2023,26/12/2022,Alimentos,1kg\\n', 'Pão de Forma,Nutrella,4.47,3.16,24/03/2023,01/03/2023,Alimentos,500g\\n', 'Fone de Ouvido,JBL,1120.01,876.52,21/03/2023,19/03/2023,Eletrônicos,50g\\n', 'Feijão,Grao de Ouro,8.76,7.34,12/02/2023,10/02/2023,Alimentos,1kg\\n', 'Máquina de Lavar,Consul,4468.5,3725.81,21/03/2023,09/03/2023,Eletrodomésticos,70kg\\n', 'Notebook,Dell,5097.0,4110.26,13/01/2023,24/12/2022,Eletrônicos,2kg\\n', 'Pão de Forma,Wickbold,4.68,3.84,22/02/2023,12/02/2023,Alimentos,500g\\n', 'Leite em Pó,Parmalat,21.44,16.65,16/02/2023,30/01/2023,Alimentos,800g\\n', 'Tablet,Multilaser,1130.58,1017.24,12/03/2023,07/03/2023,Eletrônicos,500g\\n', 'Leite em Pó,Itambé,20.71,14.55,08/01/2023,12/12/2022,Alimentos,800g\\n', 'Feijão,Grao de Ouro,6.83,5.89,16/02/2023,17/01/2023,Alimentos,1kg\\n', 'Feijão,Grao de Ouro,6.1,4.82,13/03/2023,06/03/2023,Alimentos,1kg\\n', 'Máquina de Lavar,Electrolux,3628.24,3046.78,19/03/2023,23/02/2023,Eletrodomésticos,70kg\\n', 'Fone de Ouvido,JBL,695.59,581.45,15/01/2023,07/01/2023,Eletrônicos,50g\\n', 'Café,Melitta,11.74,9.17,05/02/2023,23/01/2023,Alimentos,500g\\n', 'Câmera Fotográfica,Sony,4569.94,3590.9,08/01/2023,01/01/2023,Eletrônicos,500g\\n', 'Presunto,Perdigão,19.65,16.52,14/03/2023,21/02/2023,Alimentos,1kg\\n', 'Leite em Pó,Piracanjuba,21.39,18.38,14/01/2023,18/12/2022,Alimentos,800g\\n', 'Notebook,Lenovo,4329.09,3174.46,25/03/2023,05/03/2023,Eletrônicos,2kg\\n', 'Tablet,Lenovo,2125.92,1803.07,28/01/2023,17/01/2023,Eletrônicos,500g\\n', 'Açúcar,Estrela,3.61,2.94,07/03/2023,28/02/2023,Alimentos,1kg\\n']\n"
          ]
        }
      ],
      "source": [
        "ler_e_imprimir_arquivo(\"../dados/compras.csv\")"
      ]
    },
    {
      "cell_type": "code",
      "execution_count": 20,
      "metadata": {
        "id": "xbR42P5lV8Ar"
      },
      "outputs": [],
      "source": [
        "class Dados():\n",
        "    def __init__(self, path=None) -> None:\n",
        "        self.path = path\n",
        "        self.conteudo = None\n",
        "\n",
        "    def concat()"
      ]
    },
    {
      "cell_type": "markdown",
      "source": [
        "# Resultado final"
      ],
      "metadata": {
        "id": "ivv9vtcv1c6x"
      }
    },
    {
      "cell_type": "code",
      "source": [
        "import json\n",
        "import csv\n",
        "\n",
        "\n",
        "class DataProcessor:\n",
        "    def __init__(self, path, file_format, key=None):\n",
        "        self.path = path\n",
        "        self.file_format = file_format\n",
        "        self.data = []\n",
        "\n",
        "        if self.file_format == 'csv':\n",
        "            self.read_csv()\n",
        "        elif self.file_format == 'json':\n",
        "            self.read_json(key)\n",
        "\n",
        "    def read_csv(self):\n",
        "        try:\n",
        "            with open(self.path, 'r') as file:\n",
        "                reader = csv.reader(file)\n",
        "                self.data = list(reader)\n",
        "        except FileNotFoundError:\n",
        "            raise Exception(f\"CSV file not found: {self.path}\")\n",
        "        except Exception as e:\n",
        "            raise Exception(f\"Failed to read CSV file: {str(e)}\")\n",
        "\n",
        "    def read_json(self, key):\n",
        "        def flatten_json(data, parent_key=''):\n",
        "            items = []\n",
        "            for k, v in data.items():\n",
        "                new_key = f\"{parent_key}.{k}\" if parent_key else k\n",
        "                if isinstance(v, dict):\n",
        "                    items.extend(flatten_json(v, new_key))\n",
        "                else:\n",
        "                    items.append((new_key, v))\n",
        "            return items\n",
        "\n",
        "        try:\n",
        "            with open(self.path, 'r') as file:\n",
        "                json_data = json.load(file)\n",
        "\n",
        "            if isinstance(json_data, dict):\n",
        "                data_list = json_data.get(key, [])\n",
        "                if not isinstance(data_list, list):\n",
        "                    raise Exception(f\"Invalid JSON data format. The key '{key}' does not correspond to a list.\")\n",
        "                flattened_data = []\n",
        "                keys = set()\n",
        "                for item in data_list:\n",
        "                    if isinstance(item, dict):\n",
        "                        flattened_item = flatten_json(item)\n",
        "                        keys.update(k for k, _ in flattened_item)\n",
        "                        values = [v for _, v in flattened_item]\n",
        "                        flattened_data.append(values)\n",
        "                keys = list(keys)  # Convert set of keys to a list\n",
        "                self.data = [keys] + flattened_data  # Store keys as the first row and values as the subsequent rows\n",
        "\n",
        "            elif isinstance(json_data, list):\n",
        "                flattened_data = []\n",
        "                for item in json_data:\n",
        "                    if isinstance(item, dict):\n",
        "                        data_dict = item.get(key, {})\n",
        "                        if isinstance(data_dict, dict):\n",
        "                            flattened_item = flatten_json(data_dict)\n",
        "                            values = [v for _, v in flattened_item]\n",
        "                            flattened_data.append(values)\n",
        "                if not flattened_data:\n",
        "                    raise Exception(f\"Invalid JSON data format. The key '{key}' does not correspond to a dictionary.\")\n",
        "                self.data = flattened_data\n",
        "            else:\n",
        "                raise Exception(\"Invalid JSON data format.\")\n",
        "        except FileNotFoundError:\n",
        "            raise Exception(f\"JSON file not found: {self.path}\")\n",
        "        except Exception as e:\n",
        "            raise Exception(f\"Failed to read JSON file: {str(e)}\")\n",
        "\n",
        "    @staticmethod\n",
        "    def concatenate(data_list, join='inner'):\n",
        "        consolidated_data = []\n",
        "        headers = set()\n",
        "        for data in data_list:\n",
        "            consolidated_data.extend(data.data)\n",
        "            headers.update(data.data[0])  # Collect all headers from each data object\n",
        "\n",
        "        if join == 'inner':\n",
        "            headers = list(headers)\n",
        "            consolidated_data = [data for data in consolidated_data if set(data) == headers]\n",
        "\n",
        "        return DataProcessor('', '').set_data([headers] + consolidated_data)\n",
        "\n",
        "\n",
        "    def set_data(self, data):\n",
        "        self.data = data\n",
        "        return self\n",
        "\n",
        "    def to_csv(self, path):\n",
        "        if len(self.data) == 0:\n",
        "            raise Exception(\"No data available to write.\")\n",
        "\n",
        "        headers = self.data[0] if self.data else []\n",
        "        filtered_data = [data for data in self.data if len(data) == len(headers)]\n",
        "\n",
        "        try:\n",
        "            with open(path, 'w', newline='') as file:\n",
        "                writer = csv.writer(file)\n",
        "                writer.writerow(headers)\n",
        "                writer.writerows(filtered_data)\n",
        "        except Exception as e:\n",
        "            raise Exception(f\"Failed to write CSV file: {str(e)}\")"
      ],
      "metadata": {
        "id": "Z6iYUQij395j"
      },
      "execution_count": 109,
      "outputs": []
    },
    {
      "cell_type": "code",
      "source": [
        "path_csv = '../dados/compras.csv'\n",
        "path_json = '../dados/mercadoimobiliario.json'\n",
        "path_consolidado = '../dados/consolidado.csv'\n",
        "dados_mercado_A = DataProcessor(path=path_csv, file_format='csv')\n",
        "dados_mercado_B = DataProcessor(path=path_json, file_format='json', key='value')\n",
        "dados_rede_consolidados = DataProcessor.concatenate([dados_mercado_A, dados_mercado_B], join='full')\n",
        "dados_rede_consolidados.to_csv(path=path_consolidado)"
      ],
      "metadata": {
        "id": "uemiSJvj1ejF"
      },
      "execution_count": 110,
      "outputs": []
    },
    {
      "cell_type": "code",
      "source": [
        "dados_mercado_A.data[0]"
      ],
      "metadata": {
        "id": "CJBKo2JbNAql",
        "outputId": "6e4042e4-8063-4644-eed4-198f5d6b0a58",
        "colab": {
          "base_uri": "https://localhost:8080/"
        }
      },
      "execution_count": 111,
      "outputs": [
        {
          "output_type": "execute_result",
          "data": {
            "text/plain": [
              "['Nome do Produto',\n",
              " 'Marca',\n",
              " 'Preço',\n",
              " 'Custo',\n",
              " 'Data da Venda',\n",
              " 'Data da Compra',\n",
              " 'Categoria',\n",
              " 'Peso']"
            ]
          },
          "metadata": {},
          "execution_count": 111
        }
      ]
    },
    {
      "cell_type": "code",
      "source": [
        "dados_mercado_B.data[0]"
      ],
      "metadata": {
        "id": "29jAVhqMNEiD",
        "outputId": "7fff4a4a-f277-4fd8-fa7f-062d7823dc2c",
        "colab": {
          "base_uri": "https://localhost:8080/"
        }
      },
      "execution_count": 112,
      "outputs": [
        {
          "output_type": "execute_result",
          "data": {
            "text/plain": [
              "['Data', 'Valor', 'Info']"
            ]
          },
          "metadata": {},
          "execution_count": 112
        }
      ]
    },
    {
      "cell_type": "code",
      "source": [
        "dados_rede_consolidados.data[0]"
      ],
      "metadata": {
        "id": "UggejZctM9Cu",
        "outputId": "392cb5d5-d44d-49f8-aea0-dd2703cdc72d",
        "colab": {
          "base_uri": "https://localhost:8080/"
        }
      },
      "execution_count": 113,
      "outputs": [
        {
          "output_type": "execute_result",
          "data": {
            "text/plain": [
              "{'Categoria',\n",
              " 'Custo',\n",
              " 'Data',\n",
              " 'Data da Compra',\n",
              " 'Data da Venda',\n",
              " 'Info',\n",
              " 'Marca',\n",
              " 'Nome do Produto',\n",
              " 'Peso',\n",
              " 'Preço',\n",
              " 'Valor'}"
            ]
          },
          "metadata": {},
          "execution_count": 113
        }
      ]
    },
    {
      "cell_type": "code",
      "source": [
        "dados_rede_consolidados.data[3]"
      ],
      "metadata": {
        "id": "Qfg0IEDxQB-f",
        "outputId": "471f5b92-9364-431e-d33c-2ec8bccab191",
        "colab": {
          "base_uri": "https://localhost:8080/"
        }
      },
      "execution_count": 116,
      "outputs": [
        {
          "output_type": "execute_result",
          "data": {
            "text/plain": [
              "['Café',\n",
              " '3 Corações',\n",
              " '11.69',\n",
              " '9.81',\n",
              " '16/02/2023',\n",
              " '01/02/2023',\n",
              " 'Alimentos',\n",
              " '500g']"
            ]
          },
          "metadata": {},
          "execution_count": 116
        }
      ]
    },
    {
      "cell_type": "markdown",
      "source": [
        "# Classe DataProcessor\n",
        "\n",
        "A classe DataProcessor é responsável por processar dados de diferentes formatos, como CSV e JSON, e fornecer funcionalidades para consolidar e exportar esses dados.\n",
        "\n",
        "## Métodos\n",
        "\n",
        "### `__init__(path: str, file_format: str, key: str = None)`\n",
        "\n",
        "Inicializa uma nova instância da classe DataProcessor.\n",
        "\n",
        "#### Parâmetros\n",
        "\n",
        "- `path`: O caminho do arquivo que contém os dados.\n",
        "- `file_format`: O formato do arquivo (csv ou json).\n",
        "- `key`: A chave que identifica a lista ou dicionário de dados no caso de JSON (opcional).\n",
        "\n",
        "#### Exceções\n",
        "\n",
        "- `FileNotFoundError`: Se o arquivo não for encontrado.\n",
        "- `Exception`: Se ocorrer um erro ao ler o arquivo.\n",
        "\n",
        "### `read_csv()`\n",
        "\n",
        "Lê um arquivo CSV e armazena os dados na instância de DataProcessor.\n",
        "\n",
        "#### Exceções\n",
        "\n",
        "- `FileNotFoundError`: Se o arquivo CSV não for encontrado.\n",
        "- `Exception`: Se ocorrer um erro ao ler o arquivo CSV.\n",
        "\n",
        "### `read_json(key: str)`\n",
        "\n",
        "Lê um arquivo JSON e armazena os dados na instância de DataProcessor.\n",
        "\n",
        "#### Parâmetros\n",
        "\n",
        "- `key`: A chave que identifica a lista ou dicionário de dados no JSON.\n",
        "\n",
        "#### Exceções\n",
        "\n",
        "- `FileNotFoundError`: Se o arquivo JSON não for encontrado.\n",
        "- `Exception`: Se ocorrer um erro ao ler o arquivo JSON ou se o formato dos dados for inválido.\n",
        "\n",
        "### `concatenate(data_list: List[DataProcessor], join: str = 'inner') -> DataProcessor`\n",
        "\n",
        "Concatena os dados de várias instâncias de DataProcessor em uma única instância.\n",
        "\n",
        "#### Parâmetros\n",
        "\n",
        "- `data_list`: Uma lista contendo as instâncias de DataProcessor a serem concatenadas.\n",
        "- `join`: O tipo de junção a ser aplicado ('inner' para manter apenas as colunas comuns).\n",
        "\n",
        "#### Retorna\n",
        "\n",
        "Uma nova instância de DataProcessor contendo os dados consolidados.\n",
        "\n",
        "### `set_data(data: List[List[str]]) -> DataProcessor`\n",
        "\n",
        "Define os dados da instância de DataProcessor.\n",
        "\n",
        "#### Parâmetros\n",
        "\n",
        "- `data`: Uma lista de listas contendo os dados a serem definidos.\n",
        "\n",
        "#### Retorna\n",
        "\n",
        "A própria instância de DataProcessor.\n",
        "\n",
        "### `to_csv(path: str)`\n",
        "\n",
        "Exporta os dados da instância de DataProcessor para um arquivo CSV.\n",
        "\n",
        "#### Parâmetros\n",
        "\n",
        "- `path`: O caminho do arquivo CSV a ser criado.\n",
        "\n",
        "#### Exceções\n",
        "\n",
        "- `Exception`: Se não houver dados disponíveis para escrever no arquivo CSV ou se ocorrer um erro ao escrever o arquivo.\n",
        "\n",
        "## Exemplo de Uso\n",
        "\n",
        "```python\n",
        "# Criar instâncias de DataProcessor para processar dados de um arquivo CSV e um arquivo JSON\n",
        "dp1 = DataProcessor('dados1.csv', 'csv')\n",
        "dp2 = DataProcessor('dados2.json', 'json', 'registros')\n",
        "\n",
        "# Concatenar os dados das duas instâncias de DataProcessor\n",
        "dados_consolidados = DataProcessor.concatenate([dp1, dp2], join='inner')\n",
        "\n",
        "# Exportar os dados consolidados para um arquivo CSV\n",
        "dados_consolidados.to_csv('dados_consolidados.csv')\n"
      ],
      "metadata": {
        "id": "jHWSc942MJAN"
      }
    }
  ],
  "metadata": {
    "colab": {
      "provenance": [],
      "include_colab_link": true
    },
    "kernelspec": {
      "display_name": "venv",
      "language": "python",
      "name": "python3"
    },
    "language_info": {
      "codemirror_mode": {
        "name": "ipython",
        "version": 3
      },
      "file_extension": ".py",
      "mimetype": "text/x-python",
      "name": "python",
      "nbconvert_exporter": "python",
      "pygments_lexer": "ipython3",
      "version": "3.9.16"
    },
    "orig_nbformat": 4,
    "vscode": {
      "interpreter": {
        "hash": "9fd0c83aef04519da1a35219a41fb6e77057b31fe0e45d3e435c7812a94a40d3"
      }
    }
  },
  "nbformat": 4,
  "nbformat_minor": 0
}